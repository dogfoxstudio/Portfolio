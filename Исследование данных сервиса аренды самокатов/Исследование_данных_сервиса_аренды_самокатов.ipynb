{
 "cells": [
  {
   "cell_type": "markdown",
   "id": "4f46a7fb",
   "metadata": {},
   "source": [
    "# Исследование выборки данных о пользователях и поездках сервиса GoFast\n",
    "\n",
    "В распоряжение дана выборка данных о пользователях и поездках сервиса аренды самокатов GoFast. Данные содержатся в 3 таблицах с соответствующими столбцами:\n",
    "- `/datasets/users_go.csv`\n",
    "    - `user_id`\tуникальный идентификатор пользователя\n",
    "    - `name`\tимя пользователя\n",
    "    - `age`\tвозраст\n",
    "    - `city`\tгород\n",
    "    - `subscription_type`\tтип подписки (free, ultra)\n",
    "- `/datasets/rides_go.csv`\n",
    "    - `user_id`\tуникальный идентификатор пользователя\n",
    "    - `distance`\tрасстояние, которое пользователь проехал в текущей сессии (в метрах)\n",
    "    - `duration`\tпродолжительность сессии (в минутах) — время с того момента, как пользователь нажал кнопку «Начать поездку» до момента, как он нажал кнопку «Завершить поездку»\n",
    "    - `date`\tдата совершения поездки\n",
    "- `/datasets/subscriptions_go.csv`\n",
    "    - `subscription_type`\tтип подписки\n",
    "    - `minute_price`\tстоимость одной минуты поездки по данной подписке\n",
    "    - `start_ride_price`\tстоимость начала поездки\n",
    "    - `subscription_fee`\tстоимость ежемесячного платежа\n",
    "\n",
    "## Цели исследования\n",
    "- Рассмотрение общей инфрмации о пользователях и поездках:\n",
    "    - Частота встречаемости городов\n",
    "    - Соотношение пользователей с подпиской и без\n",
    "    - Возраст пользователей\n",
    "    - Расстояние и длительность поездок\n",
    "- Рассмотрение дальности и длительности поездок по отдельности для пользователей с подпиской без\n",
    "- Подсчет выручки для пользователей с различными подписками\n",
    "- Проверка гипотез\n",
    "    - Расстояние одной поездки менее 3130 м\n",
    "    - Пользователи с подпиской тратят больше времени на поездки\n",
    "    - Помесячная выручка от пользователей с подпиской выше\n",
    "- Ответы на вопросы отдела маркетинга (сформулированы в соответствующей главе)\n",
    "\n",
    "## Ход работы\n",
    "\n",
    "**Общий план исследования:**\n",
    "- Загрузка данных\n",
    "- Предобработка данных (оценка их качестваи при необходимости исправление)\n",
    "- Исследовательский анализ данных (рассмотрение общих данных о пользователях и  поездках)\n",
    "- Объединение данных о пользователях и поездках в единый датафрейм и разделение его на 2 суб-датафрейма с данными о пользователях с подпиской и  без\n",
    "- Подсчет выручки\n",
    "- Проверка гипотез\n",
    "- Ответы на вопросы отдела маркетинга\n",
    "- Выводы\n",
    "\n",
    "### Подготовка к работе"
   ]
  },
  {
   "cell_type": "code",
   "execution_count": 1,
   "id": "72576667",
   "metadata": {},
   "outputs": [],
   "source": [
    "import pandas as pd\n",
    "\n",
    "import numpy as np\n",
    "\n",
    "from matplotlib import pyplot as plt\n",
    "\n",
    "from scipy import stats as st"
   ]
  },
  {
   "cell_type": "markdown",
   "id": "e286a1b9",
   "metadata": {},
   "source": [
    "### Загрузка и обзор данных\n",
    "\n",
    "Будем рассматривать срез данных о пользователях сервиса аренды самокатов GoFast. Данные содержатся в 3 таблицах с соответствующими столбцами:\n",
    "- `/datasets/users_go.csv`\n",
    "    - `user_id`\tуникальный идентификатор пользователя\n",
    "    - `name`\tимя пользователя\n",
    "    - `age`\tвозраст\n",
    "    - `city`\tгород\n",
    "    - `subscription_type`\tтип подписки (free, ultra)\n",
    "- `/datasets/rides_go.csv`\n",
    "    - `user_id`\tуникальный идентификатор пользователя\n",
    "    - `distance`\tрасстояние, которое пользователь проехал в текущей сессии (в метрах)\n",
    "    - `duration`\tпродолжительность сессии (в минутах) — время с того момента, как пользователь нажал кнопку «Начать поездку» до момента, как он нажал кнопку «Завершить поездку»\n",
    "    - `date`\tдата совершения поездки\n",
    "- `/datasets/subscriptions_go.csv`\n",
    "    - `subscription_type`\tтип подписки\n",
    "    - `minute_price`\tстоимость одной минуты поездки по данной подписке\n",
    "    - `start_ride_price`\tстоимость начала поездки\n",
    "    - `subscription_fee`\tстоимость ежемесячного платежа\n",
    "\n",
    "#### Загрузка данных"
   ]
  },
  {
   "cell_type": "code",
   "execution_count": 2,
   "id": "eff9f206",
   "metadata": {},
   "outputs": [],
   "source": [
    "users = pd.read_csv('...')\n",
    "rides = pd.read_csv('...')\n",
    "subscriptions = pd.read_csv('...')"
   ]
  },
  {
   "cell_type": "markdown",
   "id": "193c39c4",
   "metadata": {},
   "source": [
    "#### Обзор данных"
   ]
  },
  {
   "cell_type": "code",
   "execution_count": 3,
   "id": "6ed27438",
   "metadata": {},
   "outputs": [
    {
     "data": {
      "text/html": [
       "<div>\n",
       "<style scoped>\n",
       "    .dataframe tbody tr th:only-of-type {\n",
       "        vertical-align: middle;\n",
       "    }\n",
       "\n",
       "    .dataframe tbody tr th {\n",
       "        vertical-align: top;\n",
       "    }\n",
       "\n",
       "    .dataframe thead th {\n",
       "        text-align: right;\n",
       "    }\n",
       "</style>\n",
       "<table border=\"1\" class=\"dataframe\">\n",
       "  <thead>\n",
       "    <tr style=\"text-align: right;\">\n",
       "      <th></th>\n",
       "      <th>user_id</th>\n",
       "      <th>name</th>\n",
       "      <th>age</th>\n",
       "      <th>city</th>\n",
       "      <th>subscription_type</th>\n",
       "    </tr>\n",
       "  </thead>\n",
       "  <tbody>\n",
       "    <tr>\n",
       "      <th>0</th>\n",
       "      <td>1</td>\n",
       "      <td>Кира</td>\n",
       "      <td>22</td>\n",
       "      <td>Тюмень</td>\n",
       "      <td>ultra</td>\n",
       "    </tr>\n",
       "    <tr>\n",
       "      <th>1</th>\n",
       "      <td>2</td>\n",
       "      <td>Станислав</td>\n",
       "      <td>31</td>\n",
       "      <td>Омск</td>\n",
       "      <td>ultra</td>\n",
       "    </tr>\n",
       "    <tr>\n",
       "      <th>2</th>\n",
       "      <td>3</td>\n",
       "      <td>Алексей</td>\n",
       "      <td>20</td>\n",
       "      <td>Москва</td>\n",
       "      <td>ultra</td>\n",
       "    </tr>\n",
       "    <tr>\n",
       "      <th>3</th>\n",
       "      <td>4</td>\n",
       "      <td>Константин</td>\n",
       "      <td>26</td>\n",
       "      <td>Ростов-на-Дону</td>\n",
       "      <td>ultra</td>\n",
       "    </tr>\n",
       "    <tr>\n",
       "      <th>4</th>\n",
       "      <td>5</td>\n",
       "      <td>Адель</td>\n",
       "      <td>28</td>\n",
       "      <td>Омск</td>\n",
       "      <td>ultra</td>\n",
       "    </tr>\n",
       "  </tbody>\n",
       "</table>\n",
       "</div>"
      ],
      "text/plain": [
       "   user_id        name  age            city subscription_type\n",
       "0        1        Кира   22          Тюмень             ultra\n",
       "1        2   Станислав   31            Омск             ultra\n",
       "2        3     Алексей   20          Москва             ultra\n",
       "3        4  Константин   26  Ростов-на-Дону             ultra\n",
       "4        5       Адель   28            Омск             ultra"
      ]
     },
     "metadata": {},
     "output_type": "display_data"
    },
    {
     "data": {
      "text/html": [
       "<div>\n",
       "<style scoped>\n",
       "    .dataframe tbody tr th:only-of-type {\n",
       "        vertical-align: middle;\n",
       "    }\n",
       "\n",
       "    .dataframe tbody tr th {\n",
       "        vertical-align: top;\n",
       "    }\n",
       "\n",
       "    .dataframe thead th {\n",
       "        text-align: right;\n",
       "    }\n",
       "</style>\n",
       "<table border=\"1\" class=\"dataframe\">\n",
       "  <thead>\n",
       "    <tr style=\"text-align: right;\">\n",
       "      <th></th>\n",
       "      <th>user_id</th>\n",
       "      <th>distance</th>\n",
       "      <th>duration</th>\n",
       "      <th>date</th>\n",
       "    </tr>\n",
       "  </thead>\n",
       "  <tbody>\n",
       "    <tr>\n",
       "      <th>0</th>\n",
       "      <td>1</td>\n",
       "      <td>4409.919140</td>\n",
       "      <td>25.599769</td>\n",
       "      <td>2021-01-01</td>\n",
       "    </tr>\n",
       "    <tr>\n",
       "      <th>1</th>\n",
       "      <td>1</td>\n",
       "      <td>2617.592153</td>\n",
       "      <td>15.816871</td>\n",
       "      <td>2021-01-18</td>\n",
       "    </tr>\n",
       "    <tr>\n",
       "      <th>2</th>\n",
       "      <td>1</td>\n",
       "      <td>754.159807</td>\n",
       "      <td>6.232113</td>\n",
       "      <td>2021-04-20</td>\n",
       "    </tr>\n",
       "    <tr>\n",
       "      <th>3</th>\n",
       "      <td>1</td>\n",
       "      <td>2694.783254</td>\n",
       "      <td>18.511000</td>\n",
       "      <td>2021-08-11</td>\n",
       "    </tr>\n",
       "    <tr>\n",
       "      <th>4</th>\n",
       "      <td>1</td>\n",
       "      <td>4028.687306</td>\n",
       "      <td>26.265803</td>\n",
       "      <td>2021-08-28</td>\n",
       "    </tr>\n",
       "  </tbody>\n",
       "</table>\n",
       "</div>"
      ],
      "text/plain": [
       "   user_id     distance   duration        date\n",
       "0        1  4409.919140  25.599769  2021-01-01\n",
       "1        1  2617.592153  15.816871  2021-01-18\n",
       "2        1   754.159807   6.232113  2021-04-20\n",
       "3        1  2694.783254  18.511000  2021-08-11\n",
       "4        1  4028.687306  26.265803  2021-08-28"
      ]
     },
     "metadata": {},
     "output_type": "display_data"
    },
    {
     "data": {
      "text/html": [
       "<div>\n",
       "<style scoped>\n",
       "    .dataframe tbody tr th:only-of-type {\n",
       "        vertical-align: middle;\n",
       "    }\n",
       "\n",
       "    .dataframe tbody tr th {\n",
       "        vertical-align: top;\n",
       "    }\n",
       "\n",
       "    .dataframe thead th {\n",
       "        text-align: right;\n",
       "    }\n",
       "</style>\n",
       "<table border=\"1\" class=\"dataframe\">\n",
       "  <thead>\n",
       "    <tr style=\"text-align: right;\">\n",
       "      <th></th>\n",
       "      <th>subscription_type</th>\n",
       "      <th>minute_price</th>\n",
       "      <th>start_ride_price</th>\n",
       "      <th>subscription_fee</th>\n",
       "    </tr>\n",
       "  </thead>\n",
       "  <tbody>\n",
       "    <tr>\n",
       "      <th>0</th>\n",
       "      <td>free</td>\n",
       "      <td>8</td>\n",
       "      <td>50</td>\n",
       "      <td>0</td>\n",
       "    </tr>\n",
       "    <tr>\n",
       "      <th>1</th>\n",
       "      <td>ultra</td>\n",
       "      <td>6</td>\n",
       "      <td>0</td>\n",
       "      <td>199</td>\n",
       "    </tr>\n",
       "  </tbody>\n",
       "</table>\n",
       "</div>"
      ],
      "text/plain": [
       "  subscription_type  minute_price  start_ride_price  subscription_fee\n",
       "0              free             8                50                 0\n",
       "1             ultra             6                 0               199"
      ]
     },
     "metadata": {},
     "output_type": "display_data"
    }
   ],
   "source": [
    "display(users.head())\n",
    "display(rides.head())\n",
    "display(subscriptions.head())"
   ]
  },
  {
   "cell_type": "markdown",
   "id": "e95ebca7",
   "metadata": {},
   "source": [
    "Как видно данные совпадают с предоставленным описанием структуры данных.\n",
    "\n",
    "Из последней таблицы получаем, что сервисом можно пользоваться:\n",
    "- **без подписки**\n",
    "    - абонентская плата отсутствует;\n",
    "    - стоимость одной минуты поездки — 8 рублей;\n",
    "    - стоимость старта (начала поездки) — 50 рублей;\n",
    "- **с подпиской Ultra**\n",
    "    - абонентская плата — 199 рублей в месяц;\n",
    "    - стоимость одной минуты поездки — 6 рублей;\n",
    "    - стоимость старта — бесплатно.\n",
    "\n",
    "### Предобработка данных"
   ]
  },
  {
   "cell_type": "markdown",
   "id": "a22781ea",
   "metadata": {},
   "source": [
    "Рассмотрим пропуски в данных и проведем преобразование типов. Также проверим что для каждого `user_id` в таблице `rides` есть данные об этом пользователе в таблице `users`"
   ]
  },
  {
   "cell_type": "code",
   "execution_count": 4,
   "id": "af6d202c",
   "metadata": {},
   "outputs": [
    {
     "name": "stdout",
     "output_type": "stream",
     "text": [
      "Число пропусков в столбцах таблицы users\n",
      "user_id              0\n",
      "name                 0\n",
      "age                  0\n",
      "city                 0\n",
      "subscription_type    0\n",
      "dtype: int64\n",
      "<class 'pandas.core.frame.DataFrame'>\n",
      "RangeIndex: 1565 entries, 0 to 1564\n",
      "Data columns (total 5 columns):\n",
      " #   Column             Non-Null Count  Dtype \n",
      "---  ------             --------------  ----- \n",
      " 0   user_id            1565 non-null   int64 \n",
      " 1   name               1565 non-null   object\n",
      " 2   age                1565 non-null   int64 \n",
      " 3   city               1565 non-null   object\n",
      " 4   subscription_type  1565 non-null   object\n",
      "dtypes: int64(2), object(3)\n",
      "memory usage: 61.3+ KB\n"
     ]
    },
    {
     "data": {
      "text/plain": [
       "None"
      ]
     },
     "metadata": {},
     "output_type": "display_data"
    },
    {
     "name": "stdout",
     "output_type": "stream",
     "text": [
      "Число пропусков в столбцах таблицы rides\n",
      "user_id     0\n",
      "distance    0\n",
      "duration    0\n",
      "date        0\n",
      "dtype: int64\n",
      "<class 'pandas.core.frame.DataFrame'>\n",
      "RangeIndex: 18068 entries, 0 to 18067\n",
      "Data columns (total 4 columns):\n",
      " #   Column    Non-Null Count  Dtype  \n",
      "---  ------    --------------  -----  \n",
      " 0   user_id   18068 non-null  int64  \n",
      " 1   distance  18068 non-null  float64\n",
      " 2   duration  18068 non-null  float64\n",
      " 3   date      18068 non-null  object \n",
      "dtypes: float64(2), int64(1), object(1)\n",
      "memory usage: 564.8+ KB\n"
     ]
    },
    {
     "data": {
      "text/plain": [
       "None"
      ]
     },
     "metadata": {},
     "output_type": "display_data"
    },
    {
     "name": "stdout",
     "output_type": "stream",
     "text": [
      "Число пропусков в столбцах таблицы subscriptions\n",
      "subscription_type    0\n",
      "minute_price         0\n",
      "start_ride_price     0\n",
      "subscription_fee     0\n",
      "dtype: int64\n",
      "<class 'pandas.core.frame.DataFrame'>\n",
      "RangeIndex: 2 entries, 0 to 1\n",
      "Data columns (total 4 columns):\n",
      " #   Column             Non-Null Count  Dtype \n",
      "---  ------             --------------  ----- \n",
      " 0   subscription_type  2 non-null      object\n",
      " 1   minute_price       2 non-null      int64 \n",
      " 2   start_ride_price   2 non-null      int64 \n",
      " 3   subscription_fee   2 non-null      int64 \n",
      "dtypes: int64(3), object(1)\n",
      "memory usage: 192.0+ bytes\n"
     ]
    },
    {
     "data": {
      "text/plain": [
       "None"
      ]
     },
     "metadata": {},
     "output_type": "display_data"
    },
    {
     "name": "stdout",
     "output_type": "stream",
     "text": [
      "для каждого user_id в таблице rides есть данные об этом пользователе в таблице users: True\n"
     ]
    }
   ],
   "source": [
    "print('Число пропусков в столбцах таблицы users')\n",
    "print(users.isna().sum())\n",
    "display(users.info())\n",
    "\n",
    "print('Число пропусков в столбцах таблицы rides')\n",
    "print(rides.isna().sum())\n",
    "display(rides.info())\n",
    "\n",
    "print('Число пропусков в столбцах таблицы subscriptions')\n",
    "print(subscriptions.isna().sum())\n",
    "display(subscriptions.info())\n",
    "\n",
    "print('для каждого user_id в таблице rides есть данные об этом пользователе в таблице users:',np.array_equal(np.sort(rides['user_id'].unique()), np.sort(users['user_id'].unique())))"
   ]
  },
  {
   "cell_type": "markdown",
   "id": "9cb9e8b3",
   "metadata": {},
   "source": [
    "Приведем данные в столбце `date` к типу `datetime` и добавим столбец `month` с номером месяца в который была совершена поездка. Также посмотрим за какие года доступны данные.\n",
    "\n",
    "Отбросим все строки с повторяющимся `user_id` из таблицы `users` и удалим все явные дубликаты из таблицы `rides`."
   ]
  },
  {
   "cell_type": "code",
   "execution_count": 5,
   "id": "91a3c036",
   "metadata": {},
   "outputs": [
    {
     "name": "stdout",
     "output_type": "stream",
     "text": [
      "В выборке доступны данные за годы: [2021]\n",
      "Число явных дубликатов в таблице rides: 0\n",
      "Число пользователей с одинаковым user_id в таблице users(считается ошибкой): 31\n"
     ]
    }
   ],
   "source": [
    "rides['date'] = pd.to_datetime(rides['date'],format='%Y-%m-%d')\n",
    "rides['month'] = rides['date'].dt.month\n",
    "\n",
    "print('В выборке доступны данные за годы:', rides['date'].dt.year.unique())\n",
    "\n",
    "print('Число явных дубликатов в таблице rides:', rides.duplicated().sum())\n",
    "rides = rides.drop_duplicates()\n",
    "\n",
    "print('Число пользователей с одинаковым user_id в таблице users(считается ошибкой):', users.duplicated(subset='user_id').sum())\n",
    "users = users.drop_duplicates(subset='user_id')"
   ]
  },
  {
   "cell_type": "markdown",
   "id": "6a933403",
   "metadata": {},
   "source": [
    "С данными все хорошо и никаких пропусков нет, для каждого `user_id` в таблице `rides` есть данные об этом пользователе в таблице `users`.\n",
    "\n",
    "В выборке находятся данные только за 2021 год.\n",
    "\n",
    "Явных дубликатов в таблице `rides` нет.\n",
    "\n",
    "Обнаружилось, что в таблице `users` есть пользователи с одинаковыми `user_id`, удалим из нее все строки с повторяющимся `user_id`"
   ]
  },
  {
   "cell_type": "markdown",
   "id": "212593c7",
   "metadata": {},
   "source": [
    "### Исследовательский анализ данных"
   ]
  },
  {
   "cell_type": "markdown",
   "id": "25511af7",
   "metadata": {},
   "source": [
    "Опишем общую информацию о пользователях и поездках\n",
    "\n",
    "#### Частота встречаемости городов"
   ]
  },
  {
   "cell_type": "code",
   "execution_count": 6,
   "id": "410538f4",
   "metadata": {},
   "outputs": [
    {
     "data": {
      "text/plain": [
       "Пятигорск         219\n",
       "Екатеринбург      204\n",
       "Ростов-на-Дону    198\n",
       "Краснодар         193\n",
       "Сочи              189\n",
       "Омск              183\n",
       "Тюмень            180\n",
       "Москва            168\n",
       "Name: city, dtype: int64"
      ]
     },
     "metadata": {},
     "output_type": "display_data"
    },
    {
     "data": {
      "text/plain": [
       "<AxesSubplot:title={'center':'Число пользователей в различных городах'}, xlabel='Города', ylabel='Число пользователей'>"
      ]
     },
     "execution_count": 6,
     "metadata": {},
     "output_type": "execute_result"
    },
    {
     "data": {
      "image/png": "[encoded data removed]",
      "text/plain": [
       "<Figure size 432x288 with 1 Axes>"
      ]
     },
     "metadata": {
      "needs_background": "light"
     },
     "output_type": "display_data"
    }
   ],
   "source": [
    "display(users['city'].value_counts())\n",
    "\n",
    "users['city'].value_counts().plot(kind='bar', xlabel='Города', ylabel='Число пользователей', title='Число пользователей в различных городах')"
   ]
  },
  {
   "cell_type": "markdown",
   "id": "923048a9",
   "metadata": {},
   "source": [
    "Наибольшее число пользователей в выборке зарегистрировано в Пятигорске (219), а наименьшее в Москве (168). Всего в выборку попали пользователи из 8 городов\n",
    "\n",
    "#### Соотношение пользователей с подпиской и без подписки\n"
   ]
  },
  {
   "cell_type": "markdown",
   "id": "45bf5f1d",
   "metadata": {},
   "source": []
  },
  {
   "cell_type": "code",
   "execution_count": 7,
   "id": "6f01c19f",
   "metadata": {
    "scrolled": false
   },
   "outputs": [
    {
     "data": {
      "text/plain": [
       "free     835\n",
       "ultra    699\n",
       "Name: subscription_type, dtype: int64"
      ]
     },
     "metadata": {},
     "output_type": "display_data"
    },
    {
     "name": "stdout",
     "output_type": "stream",
     "text": [
      "Процент пользователей с платной подпиской: 45.56714471968709\n"
     ]
    },
    {
     "data": {
      "text/plain": [
       "<AxesSubplot:title={'center':'Число пользователей с различными подписками'}, xlabel='Тип подписки', ylabel='Число пользователей'>"
      ]
     },
     "execution_count": 7,
     "metadata": {},
     "output_type": "execute_result"
    },
    {
     "data": {
      "image/png": "[encoded data removed]",
      "text/plain": [
       "<Figure size 432x288 with 1 Axes>"
      ]
     },
     "metadata": {
      "needs_background": "light"
     },
     "output_type": "display_data"
    }
   ],
   "source": [
    "display(users['subscription_type'].value_counts())\n",
    "\n",
    "print('Процент пользователей с платной подпиской:', users.query('subscription_type==\"ultra\"')['subscription_type'].count()/users['subscription_type'].count()*100)\n",
    "\n",
    "users['subscription_type'].value_counts().plot(kind='bar', xlabel='Тип подписки', ylabel='Число пользователей', title='Число пользователей с различными подписками')"
   ]
  },
  {
   "cell_type": "markdown",
   "id": "c944b929",
   "metadata": {},
   "source": [
    "В выборку попало 1534 пользователя, среди которых платную подписку имеют 45.6% пользователей.\n",
    "\n",
    "#### Возраст пользователей"
   ]
  },
  {
   "cell_type": "code",
   "execution_count": 8,
   "id": "d4449e08",
   "metadata": {
    "scrolled": false
   },
   "outputs": [
    {
     "data": {
      "text/plain": [
       "count    1534.000000\n",
       "mean       24.903520\n",
       "std         4.572367\n",
       "min        12.000000\n",
       "25%        22.000000\n",
       "50%        25.000000\n",
       "75%        28.000000\n",
       "max        43.000000\n",
       "Name: age, dtype: float64"
      ]
     },
     "execution_count": 8,
     "metadata": {},
     "output_type": "execute_result"
    },
    {
     "data": {
      "image/png": "[encoded data removed]",
      "text/plain": [
       "<Figure size 432x288 with 1 Axes>"
      ]
     },
     "metadata": {
      "needs_background": "light"
     },
     "output_type": "display_data"
    }
   ],
   "source": [
    "users['age'].value_counts(sort=False).plot(kind='bar', xlabel='Возраст', ylabel='Число пользователей', title='Число пользователей с различным возрастом')\n",
    "\n",
    "users['age'].describe()"
   ]
  },
  {
   "cell_type": "markdown",
   "id": "393e7609",
   "metadata": {},
   "source": [
    "Возраст пользователей в выборке варьируется от 12 до 43 лет, средний возраст практически совпадает с медианным (24.9 против 25), внешне распределение близко к нормальному со стандартным отклонением 4.6.\n",
    "\n",
    "#### Расстояние, которое пользователь преодолел за одну поездку"
   ]
  },
  {
   "cell_type": "code",
   "execution_count": 9,
   "id": "1889aa4a",
   "metadata": {
    "scrolled": false
   },
   "outputs": [
    {
     "data": {
      "image/png": "[encoded data removed]",
      "text/plain": [
       "<Figure size 432x288 with 1 Axes>"
      ]
     },
     "metadata": {
      "needs_background": "light"
     },
     "output_type": "display_data"
    },
    {
     "data": {
      "text/plain": [
       "count    18068.000000\n",
       "mean      3070.659976\n",
       "std       1116.831209\n",
       "min          0.855683\n",
       "25%       2543.226360\n",
       "50%       3133.609994\n",
       "75%       3776.222735\n",
       "max       7211.007745\n",
       "Name: distance, dtype: float64"
      ]
     },
     "execution_count": 9,
     "metadata": {},
     "output_type": "execute_result"
    },
    {
     "data": {
      "image/png": "[encoded data removed]",
      "text/plain": [
       "<Figure size 432x288 with 1 Axes>"
      ]
     },
     "metadata": {
      "needs_background": "light"
     },
     "output_type": "display_data"
    }
   ],
   "source": [
    "#rides.hist('distance', bins = 50)\n",
    "\n",
    "fig, ax = plt.subplots()\n",
    "\n",
    "ax.hist(rides['distance'], bins=50)\n",
    "\n",
    "ax.set_xlabel('Дистанция поездки, м')\n",
    "ax.set_ylabel('Число поездок')\n",
    "ax.set_title('Гистограмма дистанции поездок')\n",
    "fig.tight_layout()\n",
    "plt.show()\n",
    "\n",
    "bplot = rides.boxplot('distance')\n",
    "bplot.set_ylabel('Дистанция поездки, м')\n",
    "bplot.set_title('Диаграмма размаха дистанции поездок')\n",
    "\n",
    "rides['distance'].describe()"
   ]
  },
  {
   "cell_type": "markdown",
   "id": "d7c591c4",
   "metadata": {},
   "source": [
    "Плотность распределения пройденного расстояния в выборке имеет 2 пика: большой около 3км и малый около 700м, и, за исключением малого пика, похоже на нормальное. Медианная и средняя дальность поездки близки и составляют около 3.1км.\n",
    "Размах длительности поездок составляет от 0 до 7км\n",
    "\n",
    "#### Продолжительность поездок"
   ]
  },
  {
   "cell_type": "code",
   "execution_count": 10,
   "id": "dee85068",
   "metadata": {},
   "outputs": [
    {
     "data": {
      "image/png": "[encoded data removed]",
      "text/plain": [
       "<Figure size 432x288 with 1 Axes>"
      ]
     },
     "metadata": {
      "needs_background": "light"
     },
     "output_type": "display_data"
    },
    {
     "data": {
      "text/plain": [
       "count    18068.000000\n",
       "mean        17.805011\n",
       "std          6.091051\n",
       "min          0.500000\n",
       "25%         13.597563\n",
       "50%         17.678395\n",
       "75%         21.724800\n",
       "max         40.823963\n",
       "Name: duration, dtype: float64"
      ]
     },
     "execution_count": 10,
     "metadata": {},
     "output_type": "execute_result"
    },
    {
     "data": {
      "image/png": "[encoded data removed]",
      "text/plain": [
       "<Figure size 432x288 with 1 Axes>"
      ]
     },
     "metadata": {
      "needs_background": "light"
     },
     "output_type": "display_data"
    }
   ],
   "source": [
    "#rides.hist('duration', bins = 50)\n",
    "\n",
    "fig, ax = plt.subplots()\n",
    "\n",
    "ax.hist(rides['duration'], bins=50)\n",
    "\n",
    "ax.set_xlabel('Длительность поездки, мин.')\n",
    "ax.set_ylabel('Число поездок')\n",
    "ax.set_title('Гистограмма длительности поездок')\n",
    "fig.tight_layout()\n",
    "plt.show()\n",
    "\n",
    "bplot = rides.boxplot('duration')\n",
    "bplot.set_ylabel('Длительность поездки, мин.')\n",
    "bplot.set_title('Диаграмма размаха длительности поездок')\n",
    "\n",
    "rides['duration'].describe()"
   ]
  },
  {
   "cell_type": "markdown",
   "id": "3b3c8a56",
   "metadata": {},
   "source": [
    "Плотность распределения длительности поездки в выборке похоже на нормальное со средним значением 17.8 (медиана 17.7) и стандартным отклонением 6.1.\n",
    "Размах продолжительности поездок составляет от 1 до 41 минут."
   ]
  },
  {
   "cell_type": "markdown",
   "id": "4ef51331",
   "metadata": {},
   "source": [
    "### Объединение данных\n",
    "\n",
    "Объединим данные из таблиц в 3 датафрейма, содержащих данные о всех пользователях и поездках и о пользователях с подпиской и без подписки соответстенно."
   ]
  },
  {
   "cell_type": "code",
   "execution_count": 11,
   "id": "6bf288b5",
   "metadata": {},
   "outputs": [
    {
     "name": "stdout",
     "output_type": "stream",
     "text": [
      "Размер таблицы rides: (18068, 5)\n",
      "Размер таблицы users: (1534, 5)\n",
      "Размер таблицы full: (18068, 9)\n",
      "Пропуски в таблице full: user_id              0\n",
      "distance             0\n",
      "duration             0\n",
      "date                 0\n",
      "month                0\n",
      "name                 0\n",
      "age                  0\n",
      "city                 0\n",
      "subscription_type    0\n",
      "dtype: int64\n"
     ]
    },
    {
     "data": {
      "text/html": [
       "<div>\n",
       "<style scoped>\n",
       "    .dataframe tbody tr th:only-of-type {\n",
       "        vertical-align: middle;\n",
       "    }\n",
       "\n",
       "    .dataframe tbody tr th {\n",
       "        vertical-align: top;\n",
       "    }\n",
       "\n",
       "    .dataframe thead th {\n",
       "        text-align: right;\n",
       "    }\n",
       "</style>\n",
       "<table border=\"1\" class=\"dataframe\">\n",
       "  <thead>\n",
       "    <tr style=\"text-align: right;\">\n",
       "      <th></th>\n",
       "      <th>user_id</th>\n",
       "      <th>distance</th>\n",
       "      <th>duration</th>\n",
       "      <th>date</th>\n",
       "      <th>month</th>\n",
       "      <th>name</th>\n",
       "      <th>age</th>\n",
       "      <th>city</th>\n",
       "      <th>subscription_type</th>\n",
       "    </tr>\n",
       "  </thead>\n",
       "  <tbody>\n",
       "    <tr>\n",
       "      <th>6500</th>\n",
       "      <td>700</td>\n",
       "      <td>2515.690719</td>\n",
       "      <td>14.944286</td>\n",
       "      <td>2021-01-02</td>\n",
       "      <td>1</td>\n",
       "      <td>Айдар</td>\n",
       "      <td>22</td>\n",
       "      <td>Омск</td>\n",
       "      <td>free</td>\n",
       "    </tr>\n",
       "    <tr>\n",
       "      <th>6501</th>\n",
       "      <td>700</td>\n",
       "      <td>846.932642</td>\n",
       "      <td>16.234663</td>\n",
       "      <td>2021-02-01</td>\n",
       "      <td>2</td>\n",
       "      <td>Айдар</td>\n",
       "      <td>22</td>\n",
       "      <td>Омск</td>\n",
       "      <td>free</td>\n",
       "    </tr>\n",
       "    <tr>\n",
       "      <th>6502</th>\n",
       "      <td>700</td>\n",
       "      <td>4004.434142</td>\n",
       "      <td>20.016628</td>\n",
       "      <td>2021-02-04</td>\n",
       "      <td>2</td>\n",
       "      <td>Айдар</td>\n",
       "      <td>22</td>\n",
       "      <td>Омск</td>\n",
       "      <td>free</td>\n",
       "    </tr>\n",
       "    <tr>\n",
       "      <th>6503</th>\n",
       "      <td>700</td>\n",
       "      <td>1205.911290</td>\n",
       "      <td>9.782872</td>\n",
       "      <td>2021-02-10</td>\n",
       "      <td>2</td>\n",
       "      <td>Айдар</td>\n",
       "      <td>22</td>\n",
       "      <td>Омск</td>\n",
       "      <td>free</td>\n",
       "    </tr>\n",
       "    <tr>\n",
       "      <th>6504</th>\n",
       "      <td>700</td>\n",
       "      <td>3047.379435</td>\n",
       "      <td>17.427673</td>\n",
       "      <td>2021-02-14</td>\n",
       "      <td>2</td>\n",
       "      <td>Айдар</td>\n",
       "      <td>22</td>\n",
       "      <td>Омск</td>\n",
       "      <td>free</td>\n",
       "    </tr>\n",
       "  </tbody>\n",
       "</table>\n",
       "</div>"
      ],
      "text/plain": [
       "      user_id     distance   duration       date  month   name  age  city  \\\n",
       "6500      700  2515.690719  14.944286 2021-01-02      1  Айдар   22  Омск   \n",
       "6501      700   846.932642  16.234663 2021-02-01      2  Айдар   22  Омск   \n",
       "6502      700  4004.434142  20.016628 2021-02-04      2  Айдар   22  Омск   \n",
       "6503      700  1205.911290   9.782872 2021-02-10      2  Айдар   22  Омск   \n",
       "6504      700  3047.379435  17.427673 2021-02-14      2  Айдар   22  Омск   \n",
       "\n",
       "     subscription_type  \n",
       "6500              free  \n",
       "6501              free  \n",
       "6502              free  \n",
       "6503              free  \n",
       "6504              free  "
      ]
     },
     "metadata": {},
     "output_type": "display_data"
    },
    {
     "data": {
      "text/html": [
       "<div>\n",
       "<style scoped>\n",
       "    .dataframe tbody tr th:only-of-type {\n",
       "        vertical-align: middle;\n",
       "    }\n",
       "\n",
       "    .dataframe tbody tr th {\n",
       "        vertical-align: top;\n",
       "    }\n",
       "\n",
       "    .dataframe thead th {\n",
       "        text-align: right;\n",
       "    }\n",
       "</style>\n",
       "<table border=\"1\" class=\"dataframe\">\n",
       "  <thead>\n",
       "    <tr style=\"text-align: right;\">\n",
       "      <th></th>\n",
       "      <th>user_id</th>\n",
       "      <th>distance</th>\n",
       "      <th>duration</th>\n",
       "      <th>date</th>\n",
       "      <th>month</th>\n",
       "      <th>name</th>\n",
       "      <th>age</th>\n",
       "      <th>city</th>\n",
       "      <th>subscription_type</th>\n",
       "    </tr>\n",
       "  </thead>\n",
       "  <tbody>\n",
       "    <tr>\n",
       "      <th>0</th>\n",
       "      <td>1</td>\n",
       "      <td>4409.919140</td>\n",
       "      <td>25.599769</td>\n",
       "      <td>2021-01-01</td>\n",
       "      <td>1</td>\n",
       "      <td>Кира</td>\n",
       "      <td>22</td>\n",
       "      <td>Тюмень</td>\n",
       "      <td>ultra</td>\n",
       "    </tr>\n",
       "    <tr>\n",
       "      <th>1</th>\n",
       "      <td>1</td>\n",
       "      <td>2617.592153</td>\n",
       "      <td>15.816871</td>\n",
       "      <td>2021-01-18</td>\n",
       "      <td>1</td>\n",
       "      <td>Кира</td>\n",
       "      <td>22</td>\n",
       "      <td>Тюмень</td>\n",
       "      <td>ultra</td>\n",
       "    </tr>\n",
       "    <tr>\n",
       "      <th>2</th>\n",
       "      <td>1</td>\n",
       "      <td>754.159807</td>\n",
       "      <td>6.232113</td>\n",
       "      <td>2021-04-20</td>\n",
       "      <td>4</td>\n",
       "      <td>Кира</td>\n",
       "      <td>22</td>\n",
       "      <td>Тюмень</td>\n",
       "      <td>ultra</td>\n",
       "    </tr>\n",
       "    <tr>\n",
       "      <th>3</th>\n",
       "      <td>1</td>\n",
       "      <td>2694.783254</td>\n",
       "      <td>18.511000</td>\n",
       "      <td>2021-08-11</td>\n",
       "      <td>8</td>\n",
       "      <td>Кира</td>\n",
       "      <td>22</td>\n",
       "      <td>Тюмень</td>\n",
       "      <td>ultra</td>\n",
       "    </tr>\n",
       "    <tr>\n",
       "      <th>4</th>\n",
       "      <td>1</td>\n",
       "      <td>4028.687306</td>\n",
       "      <td>26.265803</td>\n",
       "      <td>2021-08-28</td>\n",
       "      <td>8</td>\n",
       "      <td>Кира</td>\n",
       "      <td>22</td>\n",
       "      <td>Тюмень</td>\n",
       "      <td>ultra</td>\n",
       "    </tr>\n",
       "  </tbody>\n",
       "</table>\n",
       "</div>"
      ],
      "text/plain": [
       "   user_id     distance   duration       date  month  name  age    city  \\\n",
       "0        1  4409.919140  25.599769 2021-01-01      1  Кира   22  Тюмень   \n",
       "1        1  2617.592153  15.816871 2021-01-18      1  Кира   22  Тюмень   \n",
       "2        1   754.159807   6.232113 2021-04-20      4  Кира   22  Тюмень   \n",
       "3        1  2694.783254  18.511000 2021-08-11      8  Кира   22  Тюмень   \n",
       "4        1  4028.687306  26.265803 2021-08-28      8  Кира   22  Тюмень   \n",
       "\n",
       "  subscription_type  \n",
       "0             ultra  \n",
       "1             ultra  \n",
       "2             ultra  \n",
       "3             ultra  \n",
       "4             ultra  "
      ]
     },
     "metadata": {},
     "output_type": "display_data"
    }
   ],
   "source": [
    "print('Размер таблицы rides:', rides.shape)\n",
    "print('Размер таблицы users:', users.shape)\n",
    "\n",
    "full = pd.merge(rides, users, on='user_id', how='right')\n",
    "\n",
    "print('Размер таблицы full:', full.shape)\n",
    "\n",
    "free = full.loc[full['subscription_type'] ==\"free\"]\n",
    "ultra = full.loc[full['subscription_type'] ==\"ultra\"]\n",
    "\n",
    "print('Пропуски в таблице full:', full.isna().sum())\n",
    "\n",
    "display(free.head())\n",
    "display(ultra.head())"
   ]
  },
  {
   "cell_type": "markdown",
   "id": "603fcc35",
   "metadata": {},
   "source": [
    "Как и ожидалось, число строк в датафрейме после склейки `full` осталось таким же как и у таблицы `users`, а число столбцов естественно увеличилось. После объединения таблиц в результирующем датафрейме пропусков нет"
   ]
  },
  {
   "cell_type": "markdown",
   "id": "a89b51ae",
   "metadata": {},
   "source": [
    "Рассмотрим длительность и дистанцию поездок для каждого из видов подписок"
   ]
  },
  {
   "cell_type": "code",
   "execution_count": 12,
   "id": "640edbf6",
   "metadata": {
    "scrolled": false
   },
   "outputs": [
    {
     "data": {
      "image/png": "[encoded data removed]",
      "text/plain": [
       "<Figure size 1080x1080 with 4 Axes>"
      ]
     },
     "metadata": {
      "needs_background": "light"
     },
     "output_type": "display_data"
    },
    {
     "name": "stdout",
     "output_type": "stream",
     "text": [
      "Всего поездок в выборке с бесплатной подпиской: 11568\n",
      "Всего поездок в выборке с платной подпиской: 6500\n",
      "Средний пробег в выборке с бесплатной подпиской: 3045.495281671816\n",
      "Средний пробег в выборке с платной подпиской: 3115.4453880370247\n",
      "Суммарный пробег в выборке с бесплатной подпиской: 35230289.41837957\n",
      "Суммарный пробег в выборке с платной подпиской: 20250395.02224066\n"
     ]
    }
   ],
   "source": [
    "fig, axes = plt.subplots(nrows=2,ncols=2)\n",
    "fig.set_figheight(15)\n",
    "fig.set_figwidth(15)\n",
    "\n",
    "axes[0,0].hist(free['distance'], bins=50)\n",
    "axes[0,0].set_xlabel('Дистанция поездки, м')\n",
    "axes[0,0].set_ylabel('Число поездок')\n",
    "axes[0,0].set_title('Гистограмма дистанции поездок без подписки')\n",
    "\n",
    "axes[0,1].hist(ultra['distance'], bins=50)\n",
    "axes[0,1].set_xlabel('Дистанция поездки, м')\n",
    "axes[0,1].set_ylabel('Число поездок')\n",
    "axes[0,1].set_title('Гистограмма дистанции поездок с подпиской')\n",
    "\n",
    "axes[1,0].hist(free['duration'], bins=50)\n",
    "axes[1,0].set_xlabel('Длительность поездки, мин.')\n",
    "axes[1,0].set_ylabel('Число поездок')\n",
    "axes[1,0].set_title('Гистограмма длительности поездок без подписки')\n",
    "\n",
    "axes[1,1].hist(ultra['duration'], bins=50)\n",
    "axes[1,1].set_xlabel('Длительность поездки, мин.')\n",
    "axes[1,1].set_ylabel('Число поездок')\n",
    "axes[1,1].set_title('Гистограмма длительности поездок с подпиской')\n",
    "\n",
    "#free.hist('distance', ax = axes[0,0], bins=50) \n",
    "#ultra.hist('distance', ax = axes[0,1], bins=50)\n",
    "#free.hist('duration', ax = axes[1,0], bins=50) \n",
    "#ultra.hist('duration', ax = axes[1,1], bins=50)\n",
    "\n",
    "fig.tight_layout()\n",
    "plt.show()\n",
    "\n",
    "print('Всего поездок в выборке с бесплатной подпиской:', free['distance'].count())\n",
    "print('Всего поездок в выборке с платной подпиской:', ultra['distance'].count())\n",
    "\n",
    "print('Средний пробег в выборке с бесплатной подпиской:', free['distance'].mean())\n",
    "print('Средний пробег в выборке с платной подпиской:', ultra['distance'].mean())\n",
    "\n",
    "print('Суммарный пробег в выборке с бесплатной подпиской:', free['distance'].sum())\n",
    "print('Суммарный пробег в выборке с платной подпиской:', ultra['distance'].sum())"
   ]
  },
  {
   "cell_type": "markdown",
   "id": "1b730264",
   "metadata": {},
   "source": [
    "Слева изображены гистограммы выборок для бесплатной, а справа для платной подписок.\n",
    "\n",
    "Заметим что общий вид распределений и середины пиков для дистанции и времени поездки не изменились, однако для платной подписки колоколы распределений оказались уже чем для бесплатной.\n",
    "\n",
    "Заметим также, что среди пользователей с платной подпиской минимальная дистанция и максимальное и минимальное время поездки больше чем для бесплатной (1-35 минут для бесплатной и 3-41 для платной; менее 1м для бесплатной и 300м для платной). Однако максимальная дистанция для бесплатных подписок больше (7км против 5.5км).\n",
    "\n",
    "Также отметим, что хотя доля пользователей с платной подпиской 45.6%, они совершают почти вдвое меньше поездок чем пользователи с бесплатной подпиской (6500 против 11568)\n",
    "\n",
    "Еще можно заметить что суммарный пробег самокатов при платной подписке почти вдвое меньше чем при бесплаьной подписке (20 тыс.км против 35 тыс.км.)"
   ]
  },
  {
   "cell_type": "markdown",
   "id": "402d620f",
   "metadata": {},
   "source": [
    "### Подсчёт выручки\n",
    "\n",
    "Рассчитаем помесячнцю выручку для каждого пользователя по формуле: стоимость старта поездки ×  количество поездок + стоимость одной минуты поездки × общая продолжительность всех поездок в минутах + стоимость подписки. Здесь время поездки округляется вверх до целого."
   ]
  },
  {
   "cell_type": "code",
   "execution_count": 13,
   "id": "53049e0a",
   "metadata": {},
   "outputs": [
    {
     "name": "stdout",
     "output_type": "stream",
     "text": [
      "free\n"
     ]
    },
    {
     "data": {
      "text/html": [
       "<div>\n",
       "<style scoped>\n",
       "    .dataframe tbody tr th:only-of-type {\n",
       "        vertical-align: middle;\n",
       "    }\n",
       "\n",
       "    .dataframe tbody tr th {\n",
       "        vertical-align: top;\n",
       "    }\n",
       "\n",
       "    .dataframe thead tr th {\n",
       "        text-align: left;\n",
       "    }\n",
       "\n",
       "    .dataframe thead tr:last-of-type th {\n",
       "        text-align: right;\n",
       "    }\n",
       "</style>\n",
       "<table border=\"1\" class=\"dataframe\">\n",
       "  <thead>\n",
       "    <tr>\n",
       "      <th></th>\n",
       "      <th></th>\n",
       "      <th colspan=\"2\" halign=\"left\">duration</th>\n",
       "      <th>earnings</th>\n",
       "    </tr>\n",
       "    <tr>\n",
       "      <th></th>\n",
       "      <th></th>\n",
       "      <th>sum</th>\n",
       "      <th>count</th>\n",
       "      <th></th>\n",
       "    </tr>\n",
       "    <tr>\n",
       "      <th>user_id</th>\n",
       "      <th>month</th>\n",
       "      <th></th>\n",
       "      <th></th>\n",
       "      <th></th>\n",
       "    </tr>\n",
       "  </thead>\n",
       "  <tbody>\n",
       "    <tr>\n",
       "      <th rowspan=\"9\" valign=\"top\">700</th>\n",
       "      <th>1</th>\n",
       "      <td>15.0</td>\n",
       "      <td>1</td>\n",
       "      <td>170.0</td>\n",
       "    </tr>\n",
       "    <tr>\n",
       "      <th>2</th>\n",
       "      <td>89.0</td>\n",
       "      <td>5</td>\n",
       "      <td>962.0</td>\n",
       "    </tr>\n",
       "    <tr>\n",
       "      <th>3</th>\n",
       "      <td>19.0</td>\n",
       "      <td>1</td>\n",
       "      <td>202.0</td>\n",
       "    </tr>\n",
       "    <tr>\n",
       "      <th>4</th>\n",
       "      <td>16.0</td>\n",
       "      <td>1</td>\n",
       "      <td>178.0</td>\n",
       "    </tr>\n",
       "    <tr>\n",
       "      <th>6</th>\n",
       "      <td>29.0</td>\n",
       "      <td>2</td>\n",
       "      <td>332.0</td>\n",
       "    </tr>\n",
       "    <tr>\n",
       "      <th>7</th>\n",
       "      <td>21.0</td>\n",
       "      <td>2</td>\n",
       "      <td>268.0</td>\n",
       "    </tr>\n",
       "    <tr>\n",
       "      <th>8</th>\n",
       "      <td>17.0</td>\n",
       "      <td>1</td>\n",
       "      <td>186.0</td>\n",
       "    </tr>\n",
       "    <tr>\n",
       "      <th>10</th>\n",
       "      <td>44.0</td>\n",
       "      <td>2</td>\n",
       "      <td>452.0</td>\n",
       "    </tr>\n",
       "    <tr>\n",
       "      <th>11</th>\n",
       "      <td>32.0</td>\n",
       "      <td>3</td>\n",
       "      <td>406.0</td>\n",
       "    </tr>\n",
       "    <tr>\n",
       "      <th rowspan=\"11\" valign=\"top\">701</th>\n",
       "      <th>1</th>\n",
       "      <td>18.0</td>\n",
       "      <td>1</td>\n",
       "      <td>194.0</td>\n",
       "    </tr>\n",
       "    <tr>\n",
       "      <th>2</th>\n",
       "      <td>27.0</td>\n",
       "      <td>2</td>\n",
       "      <td>316.0</td>\n",
       "    </tr>\n",
       "    <tr>\n",
       "      <th>3</th>\n",
       "      <td>17.0</td>\n",
       "      <td>1</td>\n",
       "      <td>186.0</td>\n",
       "    </tr>\n",
       "    <tr>\n",
       "      <th>4</th>\n",
       "      <td>14.0</td>\n",
       "      <td>1</td>\n",
       "      <td>162.0</td>\n",
       "    </tr>\n",
       "    <tr>\n",
       "      <th>5</th>\n",
       "      <td>15.0</td>\n",
       "      <td>1</td>\n",
       "      <td>170.0</td>\n",
       "    </tr>\n",
       "    <tr>\n",
       "      <th>6</th>\n",
       "      <td>26.0</td>\n",
       "      <td>2</td>\n",
       "      <td>308.0</td>\n",
       "    </tr>\n",
       "    <tr>\n",
       "      <th>7</th>\n",
       "      <td>66.0</td>\n",
       "      <td>4</td>\n",
       "      <td>728.0</td>\n",
       "    </tr>\n",
       "    <tr>\n",
       "      <th>8</th>\n",
       "      <td>19.0</td>\n",
       "      <td>2</td>\n",
       "      <td>252.0</td>\n",
       "    </tr>\n",
       "    <tr>\n",
       "      <th>9</th>\n",
       "      <td>33.0</td>\n",
       "      <td>2</td>\n",
       "      <td>364.0</td>\n",
       "    </tr>\n",
       "    <tr>\n",
       "      <th>10</th>\n",
       "      <td>44.0</td>\n",
       "      <td>2</td>\n",
       "      <td>452.0</td>\n",
       "    </tr>\n",
       "    <tr>\n",
       "      <th>12</th>\n",
       "      <td>23.0</td>\n",
       "      <td>2</td>\n",
       "      <td>284.0</td>\n",
       "    </tr>\n",
       "  </tbody>\n",
       "</table>\n",
       "</div>"
      ],
      "text/plain": [
       "              duration       earnings\n",
       "                   sum count         \n",
       "user_id month                        \n",
       "700     1         15.0     1    170.0\n",
       "        2         89.0     5    962.0\n",
       "        3         19.0     1    202.0\n",
       "        4         16.0     1    178.0\n",
       "        6         29.0     2    332.0\n",
       "        7         21.0     2    268.0\n",
       "        8         17.0     1    186.0\n",
       "        10        44.0     2    452.0\n",
       "        11        32.0     3    406.0\n",
       "701     1         18.0     1    194.0\n",
       "        2         27.0     2    316.0\n",
       "        3         17.0     1    186.0\n",
       "        4         14.0     1    162.0\n",
       "        5         15.0     1    170.0\n",
       "        6         26.0     2    308.0\n",
       "        7         66.0     4    728.0\n",
       "        8         19.0     2    252.0\n",
       "        9         33.0     2    364.0\n",
       "        10        44.0     2    452.0\n",
       "        12        23.0     2    284.0"
      ]
     },
     "metadata": {},
     "output_type": "display_data"
    },
    {
     "name": "stdout",
     "output_type": "stream",
     "text": [
      "ultra\n"
     ]
    },
    {
     "data": {
      "text/html": [
       "<div>\n",
       "<style scoped>\n",
       "    .dataframe tbody tr th:only-of-type {\n",
       "        vertical-align: middle;\n",
       "    }\n",
       "\n",
       "    .dataframe tbody tr th {\n",
       "        vertical-align: top;\n",
       "    }\n",
       "\n",
       "    .dataframe thead tr th {\n",
       "        text-align: left;\n",
       "    }\n",
       "\n",
       "    .dataframe thead tr:last-of-type th {\n",
       "        text-align: right;\n",
       "    }\n",
       "</style>\n",
       "<table border=\"1\" class=\"dataframe\">\n",
       "  <thead>\n",
       "    <tr>\n",
       "      <th></th>\n",
       "      <th></th>\n",
       "      <th colspan=\"2\" halign=\"left\">duration</th>\n",
       "      <th>earnings</th>\n",
       "    </tr>\n",
       "    <tr>\n",
       "      <th></th>\n",
       "      <th></th>\n",
       "      <th>sum</th>\n",
       "      <th>count</th>\n",
       "      <th></th>\n",
       "    </tr>\n",
       "    <tr>\n",
       "      <th>user_id</th>\n",
       "      <th>month</th>\n",
       "      <th></th>\n",
       "      <th></th>\n",
       "      <th></th>\n",
       "    </tr>\n",
       "  </thead>\n",
       "  <tbody>\n",
       "    <tr>\n",
       "      <th rowspan=\"6\" valign=\"top\">1</th>\n",
       "      <th>1</th>\n",
       "      <td>42.0</td>\n",
       "      <td>2</td>\n",
       "      <td>451.0</td>\n",
       "    </tr>\n",
       "    <tr>\n",
       "      <th>4</th>\n",
       "      <td>7.0</td>\n",
       "      <td>1</td>\n",
       "      <td>241.0</td>\n",
       "    </tr>\n",
       "    <tr>\n",
       "      <th>8</th>\n",
       "      <td>46.0</td>\n",
       "      <td>2</td>\n",
       "      <td>475.0</td>\n",
       "    </tr>\n",
       "    <tr>\n",
       "      <th>10</th>\n",
       "      <td>32.0</td>\n",
       "      <td>2</td>\n",
       "      <td>391.0</td>\n",
       "    </tr>\n",
       "    <tr>\n",
       "      <th>11</th>\n",
       "      <td>56.0</td>\n",
       "      <td>3</td>\n",
       "      <td>535.0</td>\n",
       "    </tr>\n",
       "    <tr>\n",
       "      <th>12</th>\n",
       "      <td>28.0</td>\n",
       "      <td>2</td>\n",
       "      <td>367.0</td>\n",
       "    </tr>\n",
       "    <tr>\n",
       "      <th rowspan=\"7\" valign=\"top\">2</th>\n",
       "      <th>3</th>\n",
       "      <td>63.0</td>\n",
       "      <td>3</td>\n",
       "      <td>577.0</td>\n",
       "    </tr>\n",
       "    <tr>\n",
       "      <th>4</th>\n",
       "      <td>40.0</td>\n",
       "      <td>2</td>\n",
       "      <td>439.0</td>\n",
       "    </tr>\n",
       "    <tr>\n",
       "      <th>6</th>\n",
       "      <td>14.0</td>\n",
       "      <td>1</td>\n",
       "      <td>283.0</td>\n",
       "    </tr>\n",
       "    <tr>\n",
       "      <th>7</th>\n",
       "      <td>48.0</td>\n",
       "      <td>2</td>\n",
       "      <td>487.0</td>\n",
       "    </tr>\n",
       "    <tr>\n",
       "      <th>8</th>\n",
       "      <td>7.0</td>\n",
       "      <td>1</td>\n",
       "      <td>241.0</td>\n",
       "    </tr>\n",
       "    <tr>\n",
       "      <th>10</th>\n",
       "      <td>19.0</td>\n",
       "      <td>1</td>\n",
       "      <td>313.0</td>\n",
       "    </tr>\n",
       "    <tr>\n",
       "      <th>12</th>\n",
       "      <td>12.0</td>\n",
       "      <td>1</td>\n",
       "      <td>271.0</td>\n",
       "    </tr>\n",
       "    <tr>\n",
       "      <th rowspan=\"7\" valign=\"top\">3</th>\n",
       "      <th>1</th>\n",
       "      <td>13.0</td>\n",
       "      <td>1</td>\n",
       "      <td>277.0</td>\n",
       "    </tr>\n",
       "    <tr>\n",
       "      <th>2</th>\n",
       "      <td>39.0</td>\n",
       "      <td>2</td>\n",
       "      <td>433.0</td>\n",
       "    </tr>\n",
       "    <tr>\n",
       "      <th>4</th>\n",
       "      <td>21.0</td>\n",
       "      <td>1</td>\n",
       "      <td>325.0</td>\n",
       "    </tr>\n",
       "    <tr>\n",
       "      <th>5</th>\n",
       "      <td>63.0</td>\n",
       "      <td>3</td>\n",
       "      <td>577.0</td>\n",
       "    </tr>\n",
       "    <tr>\n",
       "      <th>7</th>\n",
       "      <td>67.0</td>\n",
       "      <td>3</td>\n",
       "      <td>601.0</td>\n",
       "    </tr>\n",
       "    <tr>\n",
       "      <th>9</th>\n",
       "      <td>23.0</td>\n",
       "      <td>1</td>\n",
       "      <td>337.0</td>\n",
       "    </tr>\n",
       "    <tr>\n",
       "      <th>12</th>\n",
       "      <td>13.0</td>\n",
       "      <td>1</td>\n",
       "      <td>277.0</td>\n",
       "    </tr>\n",
       "  </tbody>\n",
       "</table>\n",
       "</div>"
      ],
      "text/plain": [
       "              duration       earnings\n",
       "                   sum count         \n",
       "user_id month                        \n",
       "1       1         42.0     2    451.0\n",
       "        4          7.0     1    241.0\n",
       "        8         46.0     2    475.0\n",
       "        10        32.0     2    391.0\n",
       "        11        56.0     3    535.0\n",
       "        12        28.0     2    367.0\n",
       "2       3         63.0     3    577.0\n",
       "        4         40.0     2    439.0\n",
       "        6         14.0     1    283.0\n",
       "        7         48.0     2    487.0\n",
       "        8          7.0     1    241.0\n",
       "        10        19.0     1    313.0\n",
       "        12        12.0     1    271.0\n",
       "3       1         13.0     1    277.0\n",
       "        2         39.0     2    433.0\n",
       "        4         21.0     1    325.0\n",
       "        5         63.0     3    577.0\n",
       "        7         67.0     3    601.0\n",
       "        9         23.0     1    337.0\n",
       "        12        13.0     1    277.0"
      ]
     },
     "metadata": {},
     "output_type": "display_data"
    }
   ],
   "source": [
    "full['duration'] = np.ceil(full['duration']) # округление времени поездки вверх до целого\n",
    "# пересоздание таблиц вынужденная мера чтобы избежать предупреждения интерпретатора при вызове free['duration'] = np.ceil(free['duration'])\n",
    "free = full.loc[full['subscription_type'] ==\"free\"]\n",
    "ultra = full.loc[full['subscription_type'] ==\"ultra\"]\n",
    "\n",
    "#users_with_month_stat = full.pivot_table(index='user_id', values=['distance', 'duration'], columns='month', aggfunc=['sum', 'count'])\n",
    "#free_with_month_stat = free.pivot_table(index='user_id', values=['distance', 'duration'], columns='month', aggfunc=['sum', 'count'])\n",
    "#ultra_with_month_stat = ultra.pivot_table(index='user_id', values=['distance', 'duration'], columns='month', aggfunc=['sum', 'count'])\n",
    "\n",
    "def earnings_from_user(row):\n",
    "    if users['subscription_type'].loc[users['user_id']==row.name[0]].values[0] == 'ultra':\n",
    "        fee = 199\n",
    "        minute_price = 6\n",
    "        start_price = 0\n",
    "    else:\n",
    "        fee = 0\n",
    "        minute_price = 8\n",
    "        start_price = 50\n",
    "        \n",
    "    #print(fee)\n",
    "    return row[('duration', 'sum')]*minute_price + row[('duration', 'count')]*start_price+fee\n",
    "\n",
    "full_with_month_stat = full[['user_id', 'month', 'duration']].groupby(['user_id', 'month']).agg(['sum', 'count'])\n",
    "full_with_month_stat['earnings'] = full_with_month_stat.apply(earnings_from_user, axis=1)\n",
    "\n",
    "free_with_month_stat = free[['user_id', 'month', 'duration']].groupby(['user_id', 'month']).agg(['sum', 'count'])\n",
    "free_with_month_stat['earnings'] = free_with_month_stat.apply(earnings_from_user, axis=1)\n",
    "\n",
    "ultra_with_month_stat = ultra[['user_id', 'month', 'duration']].groupby(['user_id', 'month']).agg(['sum', 'count'])\n",
    "ultra_with_month_stat['earnings'] = ultra_with_month_stat.apply(earnings_from_user, axis=1)\n",
    "    \n",
    "print('free')\n",
    "display(free_with_month_stat.head(20))\n",
    "print('ultra')\n",
    "display(ultra_with_month_stat.head(20))\n",
    "\n",
    "#for month in range(1,13):\n",
    "#    users_with_month_stat[('earnings', 'earnings', month)] = users_with_month_stat.apply(earnings_from_user, axis=1, month=month)\n",
    "#    free_with_month_stat[('earnings', 'earnings', month)] = free_with_month_stat.apply(earnings_from_user, axis=1, month=month)\n",
    "#    ultra_with_month_stat[('earnings', 'earnings', month)] = ultra_with_month_stat.apply(earnings_from_user, axis=1, month=month)\n",
    "    \n",
    "#display(users_with_month_stat.head())\n"
   ]
  },
  {
   "cell_type": "markdown",
   "id": "41545ac0",
   "metadata": {},
   "source": [
    "### Проверка гипотез\n",
    "\n",
    "#### Расстояние одной поездки 3130 метров\n",
    "\n",
    "Проверим гипотезу, что пользователи с подпиской проезжают не более 3130 метров за одну поездку\n",
    "\n",
    "H_0: средний пробег = 3130м\n",
    "\n",
    "H_1: средний пробег > 3130м"
   ]
  },
  {
   "cell_type": "code",
   "execution_count": 14,
   "id": "23ea867b",
   "metadata": {},
   "outputs": [
    {
     "name": "stdout",
     "output_type": "stream",
     "text": [
      "p-значение: 0.9195368847849785\n",
      "Не получилось отвергнуть нулевую гипотезу\n"
     ]
    }
   ],
   "source": [
    "mu = 3130 # предполагаемый пробег\n",
    "\n",
    "alpha = 0.05 # уровень статистической значимости\n",
    "\n",
    "results = st.ttest_1samp(ultra['distance'], mu, alternative='greater')\n",
    "\n",
    "print('p-значение:', results.pvalue)\n",
    "\n",
    "if results.pvalue < alpha:\n",
    "    print('Отвергаем нулевую гипотезу')\n",
    "else:\n",
    "    print('Не получилось отвергнуть нулевую гипотезу')"
   ]
  },
  {
   "cell_type": "markdown",
   "id": "04a5e2aa",
   "metadata": {},
   "source": [
    "P-значение равняется 0.92 и при уровне статистической значимости 5% не получается отбросить нулевую гипотезу. \n",
    "\n",
    "Таким образом вполне возможно, что средний пробег пользователей с подпиской не превышает 3130м.\n",
    "\n",
    "#### Пользователи с подпиской тратят больше времени на поездки\n",
    "\n",
    "Проверим гипотезу, что пользователи с подпиской тратят больше времени на поездки чем пользователи без подписки.\n",
    "\n",
    "H_0: средняя длительность поездки с подпиской = средняя длительность поездки без подписки\n",
    "\n",
    "H_1: средняя длительность поездки с подпиской > средняя длительность поездки без подписки\n",
    "\n",
    "Как уже отмечалось ранее, число поездок без подписки почти вдвое больше числа поездок с подпиской, поэтому предположение о равенстве дисперсий как минимум не применимо."
   ]
  },
  {
   "cell_type": "code",
   "execution_count": 15,
   "id": "8dc886a9",
   "metadata": {},
   "outputs": [
    {
     "name": "stdout",
     "output_type": "stream",
     "text": [
      "p-значение: 1.1814679253701353e-36\n",
      "Отвергаем нулевую гипотезу\n"
     ]
    }
   ],
   "source": [
    "alpha = 0.05 # уровень статистической значимости\n",
    "\n",
    "results = st.ttest_ind(ultra['duration'], free['duration'], equal_var=False, alternative='greater')\n",
    "\n",
    "print('p-значение:', results.pvalue)\n",
    "\n",
    "if results.pvalue < alpha:\n",
    "    print('Отвергаем нулевую гипотезу')\n",
    "else:\n",
    "    print('Не получилось отвергнуть нулевую гипотезу') "
   ]
  },
  {
   "cell_type": "markdown",
   "id": "63aa22b3",
   "metadata": {},
   "source": [
    "Полученное p-значение очень мало (порядка 10^-37) и потому можно заявить что с большой вероятностью пользователи с подпиской тратят больше времени на поездки чем пользователи без подписки.  \n",
    "\n",
    "#### Выручка от пользователей с подпиской выше, чем выручка от пользователей без подписки\n",
    "\n",
    "Проверим гипотезу, что выручка от пользователей с подпиской выше, выручка от пользователей без подписки.\n",
    "\n",
    "Как уже отмечалось ранее, число пользователей с и без подписки разное, поэтому предположение о равенстве дисперсий как минимум не применимо.\n",
    "\n",
    "H_0: средний доход по всем месяцам для всех пользователей без подписки = средний доход по всем месяцам для всех пользователей с подпиской\n",
    "\n",
    "H_1: средний доход по всем месяцам для всех пользователей без подписки < средний доход по всем месяцам для всех пользователей с подпиской"
   ]
  },
  {
   "cell_type": "code",
   "execution_count": 16,
   "id": "01d65ef3",
   "metadata": {},
   "outputs": [
    {
     "name": "stdout",
     "output_type": "stream",
     "text": [
      "p-значение: 1.8850394384715216e-31\n",
      "Отвергаем нулевую гипотезу\n"
     ]
    }
   ],
   "source": [
    "#print('Годовая выручка с подпиской:', ultra_with_month_stat['earnings'].sum())\n",
    "#print('Годовая выручка без подписки:', free_with_month_stat['earnings'].sum())\n",
    "\n",
    "def earnings_from_user2(row):\n",
    "    if users['subscription_type'].loc[users['user_id']==row.name].values[0] == 'ultra':\n",
    "        fee = 199\n",
    "        minute_price = 6\n",
    "        start_price = 0\n",
    "    else:\n",
    "        fee = 0\n",
    "        minute_price = 8\n",
    "        start_price = 50\n",
    "     \n",
    "    #print(fee)\n",
    "    return row[('duration', 'sum')]*minute_price + row[('duration', 'count')]*start_price+fee\n",
    "\n",
    "free_with_month_stat_reduced = free[['user_id', 'month', 'duration']].groupby('month').agg(['sum', 'count'])\n",
    "free_with_month_stat_reduced['earnings'] = free_with_month_stat_reduced.apply(earnings_from_user2, axis=1)\n",
    "\n",
    "ultra_with_month_stat_reduced = ultra[['user_id', 'month', 'duration']].groupby(['month']).agg(['sum', 'count'])\n",
    "ultra_with_month_stat_reduced['earnings'] = ultra_with_month_stat_reduced.apply(earnings_from_user2, axis=1)\n",
    "\n",
    "#display(free_with_month_stat_reduced.head(10))\n",
    "#display(ultra_with_month_stat_reduced.head(10))\n",
    "\n",
    "#results = st.ttest_rel(free_with_month_stat_reduced['earnings'], ultra_with_month_stat_reduced['earnings'], alternative='greater')\n",
    "\n",
    "results = st.ttest_ind(free_with_month_stat['earnings'], ultra_with_month_stat['earnings'], alternative='less')\n",
    "\n",
    "alpha = 0.05 # уровень статистической значимости\n",
    "\n",
    "print('p-значение:', results.pvalue)\n",
    "\n",
    "if results.pvalue < alpha:\n",
    "    print('Отвергаем нулевую гипотезу')\n",
    "else:\n",
    "    print('Не получилось отвергнуть нулевую гипотезу') "
   ]
  },
  {
   "cell_type": "markdown",
   "id": "c575f4c1",
   "metadata": {},
   "source": [
    "Нулеваая гипотеза отвергается. В итоге плучаем, что 1 пользователь с платной подпиской в среднем приносит больший доход в месяц чем 1 пользователь без подписки."
   ]
  },
  {
   "cell_type": "markdown",
   "id": "be49fe6e",
   "metadata": {},
   "source": [
    "#### Обновление приложения\n",
    "\n",
    "Представим ситуацию: техническая команда сервиса обновила сервера, с которыми взаимодействует мобильное приложение. Она надеется, что из-за этого количество обращений в техподдержку значимо снизилось. Некоторый файл содержит для каждого пользователя данные о количестве обращений до обновления и после него.\n",
    "\n",
    "Т.к данные содержат информацию об обращениях каждого пользователя (предполагаем что число пользователей до и после изменений не изменилось) то целесообразно проверять гипотезу о равенстве среднего генеральной совокупности для зависимых (парных) выборок (методом `scipy.stats.ttest_rel` с параметром `alternative='greater'`)\n",
    "\n",
    "H_0: число обращений до = число обращений после\n",
    "\n",
    "H_1: число обращений до > число обращений после"
   ]
  },
  {
   "cell_type": "markdown",
   "id": "61213c5e",
   "metadata": {},
   "source": [
    "### Ответы на вопросы отдела маркетинга (распределения)\n",
    "\n",
    "#### Число промокодов\n",
    "\n",
    "Отделу маркетинга GoFast поставили задачу: нужно провести акцию с раздачей промокодов на один бесплатный месяц подписки, в рамках которой как минимум 100 существующих клиентов должны продлить эту подписку. То есть по завершении периода действия подписки пользователь может либо отказаться от неё, либо продлить, совершив соответствующий платёж. \n",
    "Эта акция уже проводилась ранее и по итогу выяснилось, что после бесплатного пробного периода подписку продлевают 10% пользователей.\n",
    "\n",
    "Необходимо выяснить какое минимальное количество промокодов необходимо разослать чтобы выроятность не выполнить план была примерно 5%.\n",
    "\n",
    "Подобную ситуацию разумно описывать биномиальным распределением с вероятностью успеха `p=0.1`, необходимо определить число экспериментов `N` (количество промокодов) при котором с вероятностью 95% не менее 100 клиентов оформят подписку (с вероятностью 5% менее 100 клиентов оформят подписку)"
   ]
  },
  {
   "cell_type": "code",
   "execution_count": 17,
   "id": "95cd1d51",
   "metadata": {},
   "outputs": [
    {
     "name": "stdout",
     "output_type": "stream",
     "text": [
      "Вероятность не менее 100 оформлений подписки (вероятность выполнить план) в зависимости от числа промокодов\n"
     ]
    },
    {
     "data": {
      "image/png": "[encoded data removed]",
      "text/plain": [
       "<Figure size 432x288 with 1 Axes>"
      ]
     },
     "metadata": {
      "needs_background": "light"
     },
     "output_type": "display_data"
    },
    {
     "name": "stdout",
     "output_type": "stream",
     "text": [
      "0.9484850832625837\n"
     ]
    }
   ],
   "source": [
    "p = 0.1 # вероятность купить подписку\n",
    "N = [i for i in range(2000)]\n",
    "#Y = [st.binom(n,p).cdf(100) for n in range(2000)] # вероятности того, что подписку оформят менее 100 клиентов при некотором n\n",
    "Y = [1-st.binom(n,p).cdf(100) for n in range(2000)] # вероятности того, что подписку оформят >= 100 клиентов при некотором n\n",
    "\n",
    "\n",
    "#print('Вероятность менее 100 регистраций (вероятность не выполнить план) в зависимости от числа промокодов')\n",
    "print('Вероятность не менее 100 оформлений подписки (вероятность выполнить план) в зависимости от числа промокодов')\n",
    "fig, ax = plt.subplots()\n",
    "ax.clear()\n",
    "ax.set_xlabel='N'\n",
    "ax.set_ylabel='Вероятность не менее 100 оформлений подписки (вероятность выполнить план)'\n",
    "ax.plot(N,Y)\n",
    "#ax.plot(N, [0.05]*2000)\n",
    "ax.plot(N, [0.95]*2000)\n",
    "fig.tight_layout()\n",
    "plt.show()\n",
    "\n",
    "print(1-st.binom(1170,p).cdf(100))"
   ]
  },
  {
   "cell_type": "markdown",
   "id": "ecbc66d6",
   "metadata": {},
   "source": [
    "На графике изображена вероятность выполнить план (вероятность что подписку продлят не менее 100 пользователей) в зависимости от числа разосланных промокодов. Легко заметить, что эта вероятность монотонно возрастает с ростом числа промокодов, и, начиная примерно с 1170 штук, становится более 95%\n",
    "\n",
    "Таким образом 1170 является минимальным числом промокодов, обеспечивающим вероятность выполнить план с вероятностью не менее 95% (вероятность неудачи менее 5%)."
   ]
  },
  {
   "cell_type": "markdown",
   "id": "14509197",
   "metadata": {},
   "source": [
    "#### Push-уведомления в мобильном приложении\n",
    "\n",
    "Отдел маркетинга рассылает клиентам push-уведомления в мобильном приложении. Клиенты могут открыть его или не открывать. Известно, что уведомления открывают около 40% получивших клиентов. Отдел планирует разослать 11 млн уведомлений. С помощью аппроксимации построим примерный график распределения и оценим вероятность того, что уведомление откроют не более 399,5 тыс. пользователей.\n",
    "\n",
    "Ситуация описывается биномильным распределением, но т.к. `p=0.4` близко к 0.5 и N велико, то можно приблизить его нормальным."
   ]
  },
  {
   "cell_type": "code",
   "execution_count": 18,
   "id": "4c77f72b",
   "metadata": {},
   "outputs": [
    {
     "name": "stdout",
     "output_type": "stream",
     "text": [
      "Вероятность что уведомление откроет менее 399500 пользователей: 0.15371708296369768\n"
     ]
    },
    {
     "data": {
      "image/png": "[encoded data removed]",
      "text/plain": [
       "<Figure size 432x288 with 1 Axes>"
      ]
     },
     "metadata": {
      "needs_background": "light"
     },
     "output_type": "display_data"
    },
    {
     "data": {
      "image/png": "[encoded data removed]",
      "text/plain": [
       "<Figure size 432x288 with 1 Axes>"
      ]
     },
     "metadata": {
      "needs_background": "light"
     },
     "output_type": "display_data"
    }
   ],
   "source": [
    "# биномиальное распределение\n",
    "p = 0.4\n",
    "N = 1000000\n",
    "# параметры соответствующего нормального распределения\n",
    "mu = N * p\n",
    "sigma = np.sqrt(N * p * (1 - p))\n",
    "\n",
    "#distr = st.binom(N,p)\n",
    "distr = st.norm(mu, sigma)\n",
    "\n",
    "print('Вероятность что уведомление откроет менее 399500 пользователей:', distr.cdf(399500))\n",
    "\n",
    "x = [i for i in range(380000, 420000)]\n",
    "\n",
    "plt.plot(x, distr.pdf(x))\n",
    "plt.show()\n",
    "plt.plot(x, distr.cdf(x))\n",
    "plt.show()"
   ]
  },
  {
   "cell_type": "markdown",
   "id": "cef5347a",
   "metadata": {},
   "source": [
    "Вероятность того что уведомление откроют менее 399500 человек чуть более 15%."
   ]
  },
  {
   "cell_type": "code",
   "execution_count": 19,
   "id": "8cc571f2",
   "metadata": {},
   "outputs": [
    {
     "name": "stdout",
     "output_type": "stream",
     "text": [
      "0.15371708296369768\n"
     ]
    }
   ],
   "source": [
    "from math import sqrt\n",
    "\n",
    "# задаём параметры биномиального распределения\n",
    "n = 1000000\n",
    "p = 0.4\n",
    "# зададим параметры нормального распределения равными мат.ожиданию и дисперсии биномиального распределения\n",
    "mu = n * p\n",
    "sigma = sqrt(n * p * (1 - p))\n",
    "# задаём нормальное распределение\n",
    "distr = st.norm(mu, sigma) \n",
    "# считаем вероятность хвоста слева от 399,5 тысяч\n",
    "result = distr.cdf(399500)\n",
    "print(result)"
   ]
  },
  {
   "cell_type": "markdown",
   "id": "cc359ff5",
   "metadata": {},
   "source": [
    "## Выводы"
   ]
  },
  {
   "cell_type": "markdown",
   "id": "b1462eae",
   "metadata": {},
   "source": [
    "В выборку попало 1534 пользователя, среди которых платную подписку имеют 45.6% пользователей.\n",
    "\n",
    "Наибольшее число пользователей в выборке зарегистрировано в Пятигорске (219), а наименьшее в Москве (168). \n",
    "Всего в выборку попали пользователи из 8 городов.\n",
    "\n",
    "Немного странно что наименьшее число пользователей по городам в выборке именно в Москве. Это либо просто случайность при формировании выборки, либо сервис не может конкурировать с конкурентами в крупном городе, данный вопрос требует дополнительного изучения.\n",
    "\n",
    "Среди пользователей с платной подпиской минимальная дистанция и максимальное и минимальное время поездки больше чем для бесплатной (1-35 минут для бесплатной и 3-41 для платной; менее 1м для бесплатной и 300м для платной). \n",
    "Однако максимальная дистанция для бесплатных подписок больше (7км против 5.5км).\n",
    "\n",
    "Также отметим, что хотя доля пользователей с платной подпиской 45.6%, \n",
    "они совершают почти вдвое меньше поездок чем пользователи с бесплатной подпиской (6500 против 11568)\n",
    "\n",
    "На основании выборки получено, что с большой вероятностью средний пробег пользователей с платной подпиской действительно не превышает 3130м.\n",
    "\n",
    "Можно заявить что с большой вероятностью пользователи с подпиской тратят больше времени на поездки чем пользователи без подписки. \n",
    "\n",
    "Получено, что в среднем 1 пользователь с подпиской приносит больше прибыли чем 1 пользователь без подписки. В таком случае имеет смысл переманивать пользователей перейти на платный вид подписки, например устраивая акции с промокодами.\n",
    "\n",
    "Отделу маркетинга GoFast поставили задачу: нужно провести акцию с раздачей промокодов на один бесплатный месяц подписки, в рамках которой как минимум 100 существующих клиентов должны продлить эту подписку. То есть по завершении периода действия подписки пользователь может либо отказаться от неё, либо продлить, совершив соответствующий платёж. \n",
    "Эта акция уже проводилась ранее и по итогу выяснилось, что после бесплатного пробного периода подписку продлевают 10% пользователей.\n",
    "\n",
    "Необходимо выяснить какое минимальное количество промокодов необходимо разослать чтобы выроятность не выполнить план была примерно 5%.\n",
    "\n",
    "**Ответ:** Минимальное число промокодов около 1170 промокодов, тогда вероятность не выполнить план становится менее 5%.\n",
    "\n",
    "Отдел маркетинга рассылает клиентам push-уведомления в мобильном приложении. Клиенты могут открыть его или не открывать. \n",
    "Известно, что уведомления открывают около 40% получивших клиентов. \n",
    "Отдел планирует разослать 11 млн уведомлений. Необходимо оценить вероятность того, что уведомление откроют не более 399,5 тыс. пользователей.\n",
    "\n",
    "**Ответ:** Вероятность того что уведомление откроют менее 399500 чуть более 15%."
   ]
  }
 ],
 "metadata": {
  "ExecuteTimeLog": [
   {
    "duration": 50,
    "start_time": "2023-12-08T20:59:07.924Z"
   },
   {
    "duration": 421,
    "start_time": "2023-12-08T20:59:10.865Z"
   },
   {
    "duration": 26,
    "start_time": "2023-12-08T20:59:12.422Z"
   },
   {
    "duration": 197,
    "start_time": "2023-12-08T20:59:24.561Z"
   },
   {
    "duration": 87,
    "start_time": "2023-12-08T20:59:59.338Z"
   },
   {
    "duration": 95,
    "start_time": "2023-12-08T21:00:22.609Z"
   },
   {
    "duration": 8,
    "start_time": "2023-12-08T21:09:26.717Z"
   },
   {
    "duration": 37,
    "start_time": "2023-12-08T21:21:27.810Z"
   },
   {
    "duration": 10,
    "start_time": "2023-12-08T21:24:55.127Z"
   },
   {
    "duration": 53,
    "start_time": "2023-12-08T21:26:32.748Z"
   },
   {
    "duration": 18,
    "start_time": "2023-12-08T21:28:49.508Z"
   },
   {
    "duration": 17,
    "start_time": "2023-12-08T21:29:05.696Z"
   },
   {
    "duration": 19,
    "start_time": "2023-12-08T21:29:14.576Z"
   },
   {
    "duration": 17,
    "start_time": "2023-12-08T21:29:20.549Z"
   },
   {
    "duration": 17,
    "start_time": "2023-12-08T21:31:13.044Z"
   },
   {
    "duration": 20,
    "start_time": "2023-12-08T21:32:28.764Z"
   },
   {
    "duration": 25,
    "start_time": "2023-12-08T21:32:53.529Z"
   },
   {
    "duration": 22,
    "start_time": "2023-12-08T21:33:54.842Z"
   },
   {
    "duration": 19,
    "start_time": "2023-12-08T21:34:00.311Z"
   },
   {
    "duration": 46,
    "start_time": "2023-12-08T21:34:26.003Z"
   },
   {
    "duration": 383,
    "start_time": "2023-12-10T21:50:12.952Z"
   },
   {
    "duration": 311,
    "start_time": "2023-12-10T21:50:13.337Z"
   },
   {
    "duration": 34,
    "start_time": "2023-12-10T21:50:13.649Z"
   },
   {
    "duration": 16,
    "start_time": "2023-12-10T21:50:13.685Z"
   },
   {
    "duration": 573,
    "start_time": "2023-12-10T21:55:20.959Z"
   },
   {
    "duration": 123,
    "start_time": "2023-12-10T21:55:41.375Z"
   },
   {
    "duration": 113,
    "start_time": "2023-12-10T22:00:02.187Z"
   },
   {
    "duration": 90,
    "start_time": "2023-12-10T22:01:57.058Z"
   },
   {
    "duration": 128,
    "start_time": "2023-12-10T22:02:07.963Z"
   },
   {
    "duration": 177,
    "start_time": "2023-12-10T22:02:30.175Z"
   },
   {
    "duration": 124,
    "start_time": "2023-12-10T22:03:48.324Z"
   },
   {
    "duration": 227,
    "start_time": "2023-12-10T22:07:06.295Z"
   },
   {
    "duration": 6,
    "start_time": "2023-12-10T22:08:55.324Z"
   },
   {
    "duration": 110,
    "start_time": "2023-12-10T22:10:19.808Z"
   },
   {
    "duration": 222,
    "start_time": "2023-12-10T22:10:38.271Z"
   },
   {
    "duration": 253,
    "start_time": "2023-12-10T22:11:21.498Z"
   },
   {
    "duration": 128,
    "start_time": "2023-12-10T22:16:07.054Z"
   },
   {
    "duration": 262,
    "start_time": "2023-12-10T22:16:25.418Z"
   },
   {
    "duration": 732,
    "start_time": "2023-12-10T22:16:44.235Z"
   },
   {
    "duration": 6496,
    "start_time": "2023-12-10T22:16:49.442Z"
   },
   {
    "duration": 186,
    "start_time": "2023-12-10T22:17:06.721Z"
   },
   {
    "duration": 302,
    "start_time": "2023-12-10T22:17:10.973Z"
   },
   {
    "duration": 181,
    "start_time": "2023-12-10T22:17:14.295Z"
   },
   {
    "duration": 181,
    "start_time": "2023-12-10T22:18:04.458Z"
   },
   {
    "duration": 182,
    "start_time": "2023-12-10T22:22:54.636Z"
   },
   {
    "duration": 20,
    "start_time": "2023-12-10T23:11:17.895Z"
   },
   {
    "duration": 18,
    "start_time": "2023-12-10T23:11:25.663Z"
   },
   {
    "duration": 17,
    "start_time": "2023-12-10T23:13:00.325Z"
   },
   {
    "duration": 34,
    "start_time": "2023-12-10T23:13:24.017Z"
   },
   {
    "duration": 3,
    "start_time": "2023-12-10T23:16:48.359Z"
   },
   {
    "duration": 281,
    "start_time": "2023-12-10T23:19:38.969Z"
   },
   {
    "duration": 612,
    "start_time": "2023-12-10T23:20:07.555Z"
   },
   {
    "duration": 1203,
    "start_time": "2023-12-10T23:21:32.899Z"
   },
   {
    "duration": 1139,
    "start_time": "2023-12-10T23:21:47.308Z"
   },
   {
    "duration": 878,
    "start_time": "2023-12-10T23:21:55.140Z"
   },
   {
    "duration": 538,
    "start_time": "2023-12-10T23:22:01.408Z"
   },
   {
    "duration": 489,
    "start_time": "2023-12-10T23:22:06.487Z"
   },
   {
    "duration": 587,
    "start_time": "2023-12-10T23:24:21.174Z"
   },
   {
    "duration": 530,
    "start_time": "2023-12-10T23:24:53.098Z"
   },
   {
    "duration": 623,
    "start_time": "2023-12-10T23:25:54.500Z"
   },
   {
    "duration": 1018,
    "start_time": "2023-12-10T23:39:07.755Z"
   },
   {
    "duration": 24,
    "start_time": "2023-12-10T23:45:52.293Z"
   },
   {
    "duration": 60,
    "start_time": "2023-12-10T23:46:20.644Z"
   },
   {
    "duration": 71,
    "start_time": "2023-12-10T23:48:21.093Z"
   },
   {
    "duration": 59,
    "start_time": "2023-12-10T23:49:08.787Z"
   },
   {
    "duration": 58,
    "start_time": "2023-12-10T23:51:59.419Z"
   },
   {
    "duration": 61,
    "start_time": "2023-12-10T23:52:24.297Z"
   },
   {
    "duration": 2,
    "start_time": "2023-12-11T00:03:06.605Z"
   },
   {
    "duration": 828,
    "start_time": "2023-12-11T00:08:54.444Z"
   },
   {
    "duration": 896,
    "start_time": "2023-12-11T00:09:20.900Z"
   },
   {
    "duration": 94,
    "start_time": "2023-12-11T00:10:23.013Z"
   },
   {
    "duration": 587,
    "start_time": "2023-12-11T00:10:57.605Z"
   },
   {
    "duration": 965,
    "start_time": "2023-12-11T00:11:05.772Z"
   },
   {
    "duration": 965,
    "start_time": "2023-12-11T00:11:50.689Z"
   },
   {
    "duration": 588,
    "start_time": "2023-12-11T00:12:16.969Z"
   },
   {
    "duration": 626,
    "start_time": "2023-12-11T00:12:19.249Z"
   },
   {
    "duration": 617,
    "start_time": "2023-12-11T00:12:53.414Z"
   },
   {
    "duration": 461,
    "start_time": "2023-12-11T00:13:24.940Z"
   },
   {
    "duration": 566,
    "start_time": "2023-12-11T00:13:43.238Z"
   },
   {
    "duration": 499,
    "start_time": "2023-12-11T00:14:12.693Z"
   },
   {
    "duration": 916,
    "start_time": "2023-12-11T00:15:10.305Z"
   },
   {
    "duration": 465,
    "start_time": "2023-12-11T00:15:21.221Z"
   },
   {
    "duration": 802,
    "start_time": "2023-12-11T00:15:27.039Z"
   },
   {
    "duration": 988,
    "start_time": "2023-12-11T00:15:40.713Z"
   },
   {
    "duration": 68,
    "start_time": "2023-12-11T00:16:01.205Z"
   },
   {
    "duration": 71,
    "start_time": "2023-12-11T00:16:51.380Z"
   },
   {
    "duration": 377,
    "start_time": "2023-12-11T00:17:33.416Z"
   },
   {
    "duration": 429,
    "start_time": "2023-12-11T00:17:53.969Z"
   },
   {
    "duration": 371,
    "start_time": "2023-12-11T00:18:27.953Z"
   },
   {
    "duration": 614,
    "start_time": "2023-12-11T00:18:39.202Z"
   },
   {
    "duration": 28992,
    "start_time": "2023-12-11T00:19:38.185Z"
   },
   {
    "duration": 2035,
    "start_time": "2023-12-11T00:21:40.958Z"
   },
   {
    "duration": 1046,
    "start_time": "2023-12-11T00:21:50.860Z"
   },
   {
    "duration": 1070,
    "start_time": "2023-12-11T00:21:57.348Z"
   },
   {
    "duration": 663,
    "start_time": "2023-12-11T00:22:26.187Z"
   },
   {
    "duration": 930,
    "start_time": "2023-12-11T00:22:41.748Z"
   },
   {
    "duration": 1003,
    "start_time": "2023-12-11T00:22:58.351Z"
   },
   {
    "duration": 958,
    "start_time": "2023-12-11T00:23:15.885Z"
   },
   {
    "duration": 1138,
    "start_time": "2023-12-11T00:23:28.810Z"
   },
   {
    "duration": 40,
    "start_time": "2023-12-11T00:24:51.926Z"
   },
   {
    "duration": 1021,
    "start_time": "2023-12-11T00:25:13.663Z"
   },
   {
    "duration": 933,
    "start_time": "2023-12-11T00:26:55.253Z"
   },
   {
    "duration": 34,
    "start_time": "2023-12-11T00:28:13.072Z"
   },
   {
    "duration": 995,
    "start_time": "2023-12-11T00:29:40.923Z"
   },
   {
    "duration": 75,
    "start_time": "2023-12-11T00:30:01.074Z"
   },
   {
    "duration": 81,
    "start_time": "2023-12-11T00:30:32.721Z"
   },
   {
    "duration": 42,
    "start_time": "2023-12-11T00:31:00.907Z"
   },
   {
    "duration": 41,
    "start_time": "2023-12-11T00:31:34.241Z"
   },
   {
    "duration": 52,
    "start_time": "2023-12-11T00:31:48.029Z"
   },
   {
    "duration": 30,
    "start_time": "2023-12-11T00:31:57.965Z"
   },
   {
    "duration": 32,
    "start_time": "2023-12-11T00:32:09.312Z"
   },
   {
    "duration": 37,
    "start_time": "2023-12-11T00:32:21.996Z"
   },
   {
    "duration": 35,
    "start_time": "2023-12-11T00:32:29.287Z"
   },
   {
    "duration": 33,
    "start_time": "2023-12-11T00:32:43.344Z"
   },
   {
    "duration": 35,
    "start_time": "2023-12-11T00:32:47.755Z"
   },
   {
    "duration": 32,
    "start_time": "2023-12-11T00:33:05.274Z"
   },
   {
    "duration": 31,
    "start_time": "2023-12-11T00:33:45.657Z"
   },
   {
    "duration": 34,
    "start_time": "2023-12-11T00:34:45.645Z"
   },
   {
    "duration": 30,
    "start_time": "2023-12-11T00:34:51.043Z"
   },
   {
    "duration": 29,
    "start_time": "2023-12-11T00:34:57.221Z"
   },
   {
    "duration": 31,
    "start_time": "2023-12-11T00:35:14.783Z"
   },
   {
    "duration": 5464,
    "start_time": "2023-12-11T00:35:20.667Z"
   },
   {
    "duration": 10219,
    "start_time": "2023-12-11T00:35:57.076Z"
   },
   {
    "duration": 39,
    "start_time": "2023-12-11T00:36:44.348Z"
   },
   {
    "duration": 10195,
    "start_time": "2023-12-11T00:36:56.119Z"
   },
   {
    "duration": 5159,
    "start_time": "2023-12-11T00:37:16.008Z"
   },
   {
    "duration": 52,
    "start_time": "2023-12-11T12:33:15.326Z"
   },
   {
    "duration": 755,
    "start_time": "2023-12-11T12:33:24.275Z"
   },
   {
    "duration": 195,
    "start_time": "2023-12-11T12:33:25.032Z"
   },
   {
    "duration": 32,
    "start_time": "2023-12-11T12:33:25.228Z"
   },
   {
    "duration": 29,
    "start_time": "2023-12-11T12:33:25.261Z"
   },
   {
    "duration": 137,
    "start_time": "2023-12-11T12:33:25.292Z"
   },
   {
    "duration": 107,
    "start_time": "2023-12-11T12:33:25.431Z"
   },
   {
    "duration": 201,
    "start_time": "2023-12-11T12:33:25.539Z"
   },
   {
    "duration": 213,
    "start_time": "2023-12-11T12:33:25.741Z"
   },
   {
    "duration": 161,
    "start_time": "2023-12-11T12:33:25.955Z"
   },
   {
    "duration": 30,
    "start_time": "2023-12-11T12:33:26.118Z"
   },
   {
    "duration": 604,
    "start_time": "2023-12-11T12:33:26.149Z"
   },
   {
    "duration": 8304,
    "start_time": "2023-12-11T12:33:35.990Z"
   },
   {
    "duration": 990,
    "start_time": "2023-12-11T12:34:59.838Z"
   },
   {
    "duration": 944,
    "start_time": "2023-12-11T12:35:27.765Z"
   },
   {
    "duration": 8369,
    "start_time": "2023-12-11T12:35:55.781Z"
   },
   {
    "duration": 26,
    "start_time": "2023-12-11T12:40:37.045Z"
   },
   {
    "duration": 8122,
    "start_time": "2023-12-11T12:40:44.086Z"
   },
   {
    "duration": 27,
    "start_time": "2023-12-11T12:43:35.009Z"
   },
   {
    "duration": 581,
    "start_time": "2023-12-11T12:43:44.385Z"
   },
   {
    "duration": 8279,
    "start_time": "2023-12-11T12:46:45.839Z"
   },
   {
    "duration": 28,
    "start_time": "2023-12-11T13:03:00.038Z"
   },
   {
    "duration": 3,
    "start_time": "2023-12-11T13:03:33.978Z"
   },
   {
    "duration": 79,
    "start_time": "2023-12-11T13:03:33.993Z"
   },
   {
    "duration": 29,
    "start_time": "2023-12-11T13:03:34.074Z"
   },
   {
    "duration": 11,
    "start_time": "2023-12-11T13:03:34.104Z"
   },
   {
    "duration": 136,
    "start_time": "2023-12-11T13:03:34.117Z"
   },
   {
    "duration": 166,
    "start_time": "2023-12-11T13:03:34.254Z"
   },
   {
    "duration": 188,
    "start_time": "2023-12-11T13:03:34.422Z"
   },
   {
    "duration": 161,
    "start_time": "2023-12-11T13:03:34.611Z"
   },
   {
    "duration": 164,
    "start_time": "2023-12-11T13:03:34.773Z"
   },
   {
    "duration": 37,
    "start_time": "2023-12-11T13:03:34.939Z"
   },
   {
    "duration": 578,
    "start_time": "2023-12-11T13:03:34.977Z"
   },
   {
    "duration": 430,
    "start_time": "2023-12-11T13:29:23.089Z"
   },
   {
    "duration": 5,
    "start_time": "2023-12-11T13:32:06.861Z"
   },
   {
    "duration": 5,
    "start_time": "2023-12-11T13:37:07.688Z"
   },
   {
    "duration": 5,
    "start_time": "2023-12-11T13:45:03.190Z"
   },
   {
    "duration": 5,
    "start_time": "2023-12-11T13:45:25.794Z"
   },
   {
    "duration": 6,
    "start_time": "2023-12-11T13:45:45.966Z"
   },
   {
    "duration": 4,
    "start_time": "2023-12-11T13:45:53.509Z"
   },
   {
    "duration": 5,
    "start_time": "2023-12-11T13:49:38.279Z"
   },
   {
    "duration": 4,
    "start_time": "2023-12-11T13:49:52.018Z"
   },
   {
    "duration": 4,
    "start_time": "2023-12-11T13:49:59.983Z"
   },
   {
    "duration": 4,
    "start_time": "2023-12-11T15:57:00.805Z"
   },
   {
    "duration": 5,
    "start_time": "2023-12-11T15:57:55.199Z"
   },
   {
    "duration": 579,
    "start_time": "2023-12-11T15:59:48.955Z"
   },
   {
    "duration": 581,
    "start_time": "2023-12-11T16:00:51.630Z"
   },
   {
    "duration": 644,
    "start_time": "2023-12-11T16:01:51.403Z"
   },
   {
    "duration": 2076,
    "start_time": "2023-12-11T16:05:00.639Z"
   },
   {
    "duration": 1466,
    "start_time": "2023-12-11T16:05:56.422Z"
   },
   {
    "duration": 1397,
    "start_time": "2023-12-11T16:06:42.138Z"
   },
   {
    "duration": 6,
    "start_time": "2023-12-11T16:07:03.144Z"
   },
   {
    "duration": 1591,
    "start_time": "2023-12-11T16:07:26.723Z"
   },
   {
    "duration": 1469,
    "start_time": "2023-12-11T16:07:56.494Z"
   },
   {
    "duration": 1497,
    "start_time": "2023-12-11T16:08:13.822Z"
   },
   {
    "duration": 1481,
    "start_time": "2023-12-11T16:13:57.826Z"
   },
   {
    "duration": 1797,
    "start_time": "2023-12-11T16:14:05.906Z"
   },
   {
    "duration": 1885,
    "start_time": "2023-12-11T16:14:39.344Z"
   },
   {
    "duration": 8191,
    "start_time": "2023-12-11T16:14:46.134Z"
   },
   {
    "duration": 1952,
    "start_time": "2023-12-11T16:14:54.327Z"
   },
   {
    "duration": 1477,
    "start_time": "2023-12-11T16:15:31.662Z"
   },
   {
    "duration": 2,
    "start_time": "2023-12-11T16:15:50.278Z"
   },
   {
    "duration": 33,
    "start_time": "2023-12-11T16:16:08.476Z"
   },
   {
    "duration": 1503,
    "start_time": "2023-12-11T16:17:26.287Z"
   },
   {
    "duration": 1181,
    "start_time": "2023-12-11T16:17:48.282Z"
   },
   {
    "duration": 1249,
    "start_time": "2023-12-11T16:18:00.548Z"
   },
   {
    "duration": 1104,
    "start_time": "2023-12-11T16:18:13.402Z"
   },
   {
    "duration": 1191,
    "start_time": "2023-12-11T16:18:23.660Z"
   },
   {
    "duration": 1459,
    "start_time": "2023-12-11T16:18:31.795Z"
   },
   {
    "duration": 10,
    "start_time": "2023-12-11T16:20:01.544Z"
   },
   {
    "duration": 15,
    "start_time": "2023-12-11T16:20:18.319Z"
   },
   {
    "duration": 4,
    "start_time": "2023-12-11T16:20:58.292Z"
   },
   {
    "duration": 12,
    "start_time": "2023-12-11T16:22:09.071Z"
   },
   {
    "duration": 14,
    "start_time": "2023-12-11T16:23:36.513Z"
   },
   {
    "duration": 220,
    "start_time": "2023-12-11T16:25:53.341Z"
   },
   {
    "duration": 8328,
    "start_time": "2023-12-11T16:26:28.456Z"
   },
   {
    "duration": 15,
    "start_time": "2023-12-11T16:26:40.854Z"
   },
   {
    "duration": 1448,
    "start_time": "2023-12-11T16:28:15.027Z"
   },
   {
    "duration": 16,
    "start_time": "2023-12-11T16:28:31.080Z"
   },
   {
    "duration": 24,
    "start_time": "2023-12-11T16:29:24.365Z"
   },
   {
    "duration": 20,
    "start_time": "2023-12-11T16:29:43.671Z"
   },
   {
    "duration": 24,
    "start_time": "2023-12-11T16:30:07.437Z"
   },
   {
    "duration": 22,
    "start_time": "2023-12-11T16:32:24.452Z"
   },
   {
    "duration": 12,
    "start_time": "2023-12-11T16:33:53.860Z"
   },
   {
    "duration": 15,
    "start_time": "2023-12-11T16:34:08.980Z"
   },
   {
    "duration": 13,
    "start_time": "2023-12-11T16:34:41.974Z"
   },
   {
    "duration": 2,
    "start_time": "2023-12-11T16:42:06.120Z"
   },
   {
    "duration": 5,
    "start_time": "2023-12-11T17:09:08.414Z"
   },
   {
    "duration": 4,
    "start_time": "2023-12-11T17:09:17.180Z"
   },
   {
    "duration": 5,
    "start_time": "2023-12-11T17:09:20.571Z"
   },
   {
    "duration": 4,
    "start_time": "2023-12-11T17:09:25.168Z"
   },
   {
    "duration": 5,
    "start_time": "2023-12-11T17:09:29.340Z"
   },
   {
    "duration": 5,
    "start_time": "2023-12-11T17:09:54.110Z"
   },
   {
    "duration": 8,
    "start_time": "2023-12-11T17:14:13.863Z"
   },
   {
    "duration": 97,
    "start_time": "2023-12-11T17:14:20.491Z"
   },
   {
    "duration": 669,
    "start_time": "2023-12-11T17:15:24.962Z"
   },
   {
    "duration": 211,
    "start_time": "2023-12-11T17:15:34.032Z"
   },
   {
    "duration": 148,
    "start_time": "2023-12-11T17:15:47.571Z"
   },
   {
    "duration": 137,
    "start_time": "2023-12-11T17:15:57.298Z"
   },
   {
    "duration": 554,
    "start_time": "2023-12-11T17:16:12.999Z"
   },
   {
    "duration": 1128,
    "start_time": "2023-12-11T17:16:35.186Z"
   },
   {
    "duration": 1306,
    "start_time": "2023-12-11T17:16:43.491Z"
   },
   {
    "duration": 1181,
    "start_time": "2023-12-11T17:17:00.344Z"
   },
   {
    "duration": 1262,
    "start_time": "2023-12-11T17:17:15.490Z"
   },
   {
    "duration": 1245,
    "start_time": "2023-12-11T17:17:51.141Z"
   },
   {
    "duration": 1303,
    "start_time": "2023-12-11T17:18:01.471Z"
   },
   {
    "duration": 1256,
    "start_time": "2023-12-11T17:18:23.816Z"
   },
   {
    "duration": 653,
    "start_time": "2023-12-11T17:18:57.606Z"
   },
   {
    "duration": 652,
    "start_time": "2023-12-11T17:22:01.288Z"
   },
   {
    "duration": 3041,
    "start_time": "2023-12-11T17:24:05.752Z"
   },
   {
    "duration": 2928,
    "start_time": "2023-12-11T17:24:29.809Z"
   },
   {
    "duration": 2877,
    "start_time": "2023-12-11T17:24:39.124Z"
   },
   {
    "duration": 75,
    "start_time": "2023-12-11T17:25:14.626Z"
   },
   {
    "duration": 3060,
    "start_time": "2023-12-11T17:25:21.607Z"
   },
   {
    "duration": 2887,
    "start_time": "2023-12-11T17:25:48.323Z"
   },
   {
    "duration": 3018,
    "start_time": "2023-12-11T17:26:02.059Z"
   },
   {
    "duration": 2989,
    "start_time": "2023-12-11T17:26:09.112Z"
   },
   {
    "duration": 2866,
    "start_time": "2023-12-11T17:26:16.872Z"
   },
   {
    "duration": 2824,
    "start_time": "2023-12-11T17:26:24.302Z"
   },
   {
    "duration": 2908,
    "start_time": "2023-12-11T17:26:30.114Z"
   },
   {
    "duration": 2896,
    "start_time": "2023-12-11T17:26:50.658Z"
   },
   {
    "duration": 2913,
    "start_time": "2023-12-11T17:26:57.227Z"
   },
   {
    "duration": 2949,
    "start_time": "2023-12-11T17:50:40.644Z"
   },
   {
    "duration": 2966,
    "start_time": "2023-12-11T17:50:50.358Z"
   },
   {
    "duration": 1246,
    "start_time": "2023-12-11T17:51:10.084Z"
   },
   {
    "duration": 120,
    "start_time": "2023-12-11T17:53:01.509Z"
   },
   {
    "duration": 237,
    "start_time": "2023-12-11T17:53:09.112Z"
   },
   {
    "duration": 1059,
    "start_time": "2023-12-11T17:53:44.650Z"
   },
   {
    "duration": 199,
    "start_time": "2023-12-11T17:53:45.711Z"
   },
   {
    "duration": 35,
    "start_time": "2023-12-11T17:53:45.911Z"
   },
   {
    "duration": 22,
    "start_time": "2023-12-11T17:53:45.948Z"
   },
   {
    "duration": 135,
    "start_time": "2023-12-11T17:53:45.972Z"
   },
   {
    "duration": 124,
    "start_time": "2023-12-11T17:53:46.108Z"
   },
   {
    "duration": 204,
    "start_time": "2023-12-11T17:53:46.233Z"
   },
   {
    "duration": 167,
    "start_time": "2023-12-11T17:53:46.438Z"
   },
   {
    "duration": 176,
    "start_time": "2023-12-11T17:53:46.607Z"
   },
   {
    "duration": 28,
    "start_time": "2023-12-11T17:53:46.785Z"
   },
   {
    "duration": 667,
    "start_time": "2023-12-11T17:53:46.815Z"
   },
   {
    "duration": 8171,
    "start_time": "2023-12-11T17:53:47.485Z"
   },
   {
    "duration": 6,
    "start_time": "2023-12-11T17:53:55.657Z"
   },
   {
    "duration": 19,
    "start_time": "2023-12-11T17:53:55.671Z"
   },
   {
    "duration": 21,
    "start_time": "2023-12-11T17:53:55.692Z"
   },
   {
    "duration": 2,
    "start_time": "2023-12-11T17:53:55.715Z"
   },
   {
    "duration": 1276,
    "start_time": "2023-12-11T17:53:55.719Z"
   },
   {
    "duration": 6549,
    "start_time": "2023-12-11T17:54:01.317Z"
   },
   {
    "duration": 6685,
    "start_time": "2023-12-11T17:54:42.795Z"
   },
   {
    "duration": 1786,
    "start_time": "2023-12-11T17:55:27.337Z"
   },
   {
    "duration": 421,
    "start_time": "2023-12-11T17:55:55.512Z"
   },
   {
    "duration": 381,
    "start_time": "2023-12-11T17:57:00.418Z"
   },
   {
    "duration": 444,
    "start_time": "2023-12-11T17:57:51.866Z"
   },
   {
    "duration": 403,
    "start_time": "2023-12-11T17:58:04.589Z"
   },
   {
    "duration": 445,
    "start_time": "2023-12-11T17:58:11.125Z"
   },
   {
    "duration": 415,
    "start_time": "2023-12-11T17:58:18.863Z"
   },
   {
    "duration": 675,
    "start_time": "2023-12-11T17:58:43.978Z"
   },
   {
    "duration": 725,
    "start_time": "2023-12-11T17:58:53.467Z"
   },
   {
    "duration": 906,
    "start_time": "2023-12-11T17:59:40.346Z"
   },
   {
    "duration": 678,
    "start_time": "2023-12-11T18:00:09.896Z"
   },
   {
    "duration": 749,
    "start_time": "2023-12-11T18:01:18.957Z"
   },
   {
    "duration": 750,
    "start_time": "2023-12-11T18:01:30.490Z"
   },
   {
    "duration": 758,
    "start_time": "2023-12-11T18:01:54.852Z"
   },
   {
    "duration": 791,
    "start_time": "2023-12-11T18:02:01.175Z"
   },
   {
    "duration": 95,
    "start_time": "2023-12-11T18:03:27.144Z"
   },
   {
    "duration": 1064,
    "start_time": "2023-12-11T18:03:40.882Z"
   },
   {
    "duration": 201,
    "start_time": "2023-12-11T18:03:41.948Z"
   },
   {
    "duration": 31,
    "start_time": "2023-12-11T18:03:42.150Z"
   },
   {
    "duration": 14,
    "start_time": "2023-12-11T18:03:42.183Z"
   },
   {
    "duration": 143,
    "start_time": "2023-12-11T18:03:42.198Z"
   },
   {
    "duration": 112,
    "start_time": "2023-12-11T18:03:42.342Z"
   },
   {
    "duration": 209,
    "start_time": "2023-12-11T18:03:42.469Z"
   },
   {
    "duration": 171,
    "start_time": "2023-12-11T18:03:42.680Z"
   },
   {
    "duration": 167,
    "start_time": "2023-12-11T18:03:42.853Z"
   },
   {
    "duration": 30,
    "start_time": "2023-12-11T18:03:43.022Z"
   },
   {
    "duration": 706,
    "start_time": "2023-12-11T18:03:43.054Z"
   },
   {
    "duration": 8105,
    "start_time": "2023-12-11T18:03:43.761Z"
   },
   {
    "duration": 5,
    "start_time": "2023-12-11T18:03:51.869Z"
   },
   {
    "duration": 65,
    "start_time": "2023-12-11T18:03:51.875Z"
   },
   {
    "duration": 42,
    "start_time": "2023-12-11T18:03:51.942Z"
   },
   {
    "duration": 8,
    "start_time": "2023-12-11T18:03:51.986Z"
   },
   {
    "duration": 1259,
    "start_time": "2023-12-11T18:03:51.996Z"
   },
   {
    "duration": 703,
    "start_time": "2023-12-11T18:04:35.228Z"
   },
   {
    "duration": 718,
    "start_time": "2023-12-11T18:06:17.267Z"
   },
   {
    "duration": 679,
    "start_time": "2023-12-11T18:06:33.769Z"
   },
   {
    "duration": 114,
    "start_time": "2023-12-11T18:08:51.746Z"
   },
   {
    "duration": 568,
    "start_time": "2023-12-11T18:09:01.656Z"
   },
   {
    "duration": 655,
    "start_time": "2023-12-11T18:09:18.715Z"
   },
   {
    "duration": 75,
    "start_time": "2023-12-11T18:21:40.655Z"
   },
   {
    "duration": 988,
    "start_time": "2023-12-11T18:22:09.703Z"
   },
   {
    "duration": 82,
    "start_time": "2023-12-11T18:22:10.692Z"
   },
   {
    "duration": 38,
    "start_time": "2023-12-11T18:22:10.776Z"
   },
   {
    "duration": 18,
    "start_time": "2023-12-11T18:22:10.816Z"
   },
   {
    "duration": 162,
    "start_time": "2023-12-11T18:22:10.836Z"
   },
   {
    "duration": 113,
    "start_time": "2023-12-11T18:22:11.000Z"
   },
   {
    "duration": 199,
    "start_time": "2023-12-11T18:22:11.115Z"
   },
   {
    "duration": 170,
    "start_time": "2023-12-11T18:22:11.315Z"
   },
   {
    "duration": 169,
    "start_time": "2023-12-11T18:22:11.487Z"
   },
   {
    "duration": 37,
    "start_time": "2023-12-11T18:22:11.658Z"
   },
   {
    "duration": 682,
    "start_time": "2023-12-11T18:22:11.697Z"
   },
   {
    "duration": 8171,
    "start_time": "2023-12-11T18:22:12.381Z"
   },
   {
    "duration": 5,
    "start_time": "2023-12-11T18:22:20.554Z"
   },
   {
    "duration": 58,
    "start_time": "2023-12-11T18:22:20.560Z"
   },
   {
    "duration": 51,
    "start_time": "2023-12-11T18:22:20.619Z"
   },
   {
    "duration": 16,
    "start_time": "2023-12-11T18:22:20.672Z"
   },
   {
    "duration": 1237,
    "start_time": "2023-12-11T18:22:20.689Z"
   },
   {
    "duration": 816,
    "start_time": "2023-12-11T18:22:21.927Z"
   },
   {
    "duration": 715,
    "start_time": "2023-12-11T18:24:31.746Z"
   },
   {
    "duration": 1084,
    "start_time": "2023-12-11T19:04:53.673Z"
   },
   {
    "duration": 84,
    "start_time": "2023-12-11T19:04:54.759Z"
   },
   {
    "duration": 33,
    "start_time": "2023-12-11T19:04:54.844Z"
   },
   {
    "duration": 21,
    "start_time": "2023-12-11T19:04:54.879Z"
   },
   {
    "duration": 136,
    "start_time": "2023-12-11T19:04:54.901Z"
   },
   {
    "duration": 110,
    "start_time": "2023-12-11T19:04:55.039Z"
   },
   {
    "duration": 223,
    "start_time": "2023-12-11T19:04:55.151Z"
   },
   {
    "duration": 183,
    "start_time": "2023-12-11T19:04:55.376Z"
   },
   {
    "duration": 183,
    "start_time": "2023-12-11T19:04:55.561Z"
   },
   {
    "duration": 29,
    "start_time": "2023-12-11T19:04:55.746Z"
   },
   {
    "duration": 725,
    "start_time": "2023-12-11T19:04:55.777Z"
   },
   {
    "duration": 9904,
    "start_time": "2023-12-11T19:04:56.504Z"
   },
   {
    "duration": 5,
    "start_time": "2023-12-11T19:05:06.409Z"
   },
   {
    "duration": 41,
    "start_time": "2023-12-11T19:05:06.415Z"
   },
   {
    "duration": 57,
    "start_time": "2023-12-11T19:05:06.457Z"
   },
   {
    "duration": 3,
    "start_time": "2023-12-11T19:05:06.515Z"
   },
   {
    "duration": 1465,
    "start_time": "2023-12-11T19:05:06.519Z"
   },
   {
    "duration": 777,
    "start_time": "2023-12-11T19:05:07.986Z"
   },
   {
    "duration": 17,
    "start_time": "2023-12-11T19:15:09.997Z"
   },
   {
    "duration": 16,
    "start_time": "2023-12-11T19:16:55.201Z"
   },
   {
    "duration": 6,
    "start_time": "2023-12-11T19:17:13.088Z"
   },
   {
    "duration": 6,
    "start_time": "2023-12-11T19:17:14.624Z"
   },
   {
    "duration": 90,
    "start_time": "2023-12-11T19:19:56.965Z"
   },
   {
    "duration": 9,
    "start_time": "2023-12-11T19:20:11.180Z"
   },
   {
    "duration": 5,
    "start_time": "2023-12-11T19:20:25.910Z"
   },
   {
    "duration": 670,
    "start_time": "2023-12-11T19:35:49.787Z"
   },
   {
    "duration": 51,
    "start_time": "2023-12-12T19:16:34.860Z"
   },
   {
    "duration": 7,
    "start_time": "2023-12-12T19:16:45.024Z"
   },
   {
    "duration": 1349,
    "start_time": "2023-12-12T19:16:51.079Z"
   },
   {
    "duration": 292,
    "start_time": "2023-12-12T19:16:57.150Z"
   },
   {
    "duration": 25,
    "start_time": "2023-12-12T19:16:59.997Z"
   },
   {
    "duration": 112,
    "start_time": "2023-12-12T19:29:48.237Z"
   },
   {
    "duration": 46,
    "start_time": "2023-12-12T19:33:06.236Z"
   },
   {
    "duration": 38,
    "start_time": "2023-12-12T19:33:28.064Z"
   },
   {
    "duration": 37,
    "start_time": "2023-12-12T19:34:13.653Z"
   },
   {
    "duration": 21,
    "start_time": "2023-12-12T19:38:08.512Z"
   },
   {
    "duration": 31,
    "start_time": "2023-12-12T19:40:48.664Z"
   },
   {
    "duration": 33,
    "start_time": "2023-12-12T19:41:03.492Z"
   },
   {
    "duration": 29,
    "start_time": "2023-12-12T19:41:16.321Z"
   },
   {
    "duration": 3,
    "start_time": "2023-12-12T19:41:23.309Z"
   },
   {
    "duration": 74,
    "start_time": "2023-12-12T19:41:23.569Z"
   },
   {
    "duration": 28,
    "start_time": "2023-12-12T19:41:23.646Z"
   },
   {
    "duration": 61,
    "start_time": "2023-12-12T19:41:23.676Z"
   },
   {
    "duration": 29,
    "start_time": "2023-12-12T19:41:29.377Z"
   },
   {
    "duration": 93,
    "start_time": "2023-12-12T19:49:14.788Z"
   },
   {
    "duration": 51,
    "start_time": "2023-12-12T19:49:42.304Z"
   },
   {
    "duration": 54,
    "start_time": "2023-12-12T19:49:53.702Z"
   },
   {
    "duration": 51,
    "start_time": "2023-12-12T19:49:57.246Z"
   },
   {
    "duration": 171,
    "start_time": "2023-12-12T19:57:38.126Z"
   },
   {
    "duration": 137,
    "start_time": "2023-12-12T19:58:14.373Z"
   },
   {
    "duration": 138,
    "start_time": "2023-12-12T19:59:03.765Z"
   },
   {
    "duration": 132,
    "start_time": "2023-12-12T20:00:12.008Z"
   },
   {
    "duration": 241,
    "start_time": "2023-12-12T20:01:31.920Z"
   },
   {
    "duration": 241,
    "start_time": "2023-12-12T20:08:32.138Z"
   },
   {
    "duration": 373,
    "start_time": "2023-12-12T20:14:33.269Z"
   },
   {
    "duration": 337,
    "start_time": "2023-12-12T20:15:51.267Z"
   },
   {
    "duration": 308,
    "start_time": "2023-12-12T20:16:05.704Z"
   },
   {
    "duration": 434,
    "start_time": "2023-12-12T20:16:38.339Z"
   },
   {
    "duration": 444,
    "start_time": "2023-12-12T20:18:27.836Z"
   },
   {
    "duration": 477,
    "start_time": "2023-12-12T20:23:28.137Z"
   },
   {
    "duration": 553,
    "start_time": "2023-12-12T20:24:14.099Z"
   },
   {
    "duration": 426,
    "start_time": "2023-12-12T20:24:28.917Z"
   },
   {
    "duration": 455,
    "start_time": "2023-12-12T20:25:51.030Z"
   },
   {
    "duration": 426,
    "start_time": "2023-12-12T20:26:43.910Z"
   },
   {
    "duration": 431,
    "start_time": "2023-12-12T20:27:17.029Z"
   },
   {
    "duration": 450,
    "start_time": "2023-12-12T20:33:35.243Z"
   },
   {
    "duration": 37,
    "start_time": "2023-12-12T21:04:08.015Z"
   },
   {
    "duration": 35,
    "start_time": "2023-12-12T21:05:01.286Z"
   },
   {
    "duration": 33,
    "start_time": "2023-12-12T21:05:10.701Z"
   },
   {
    "duration": 36,
    "start_time": "2023-12-12T21:05:17.765Z"
   },
   {
    "duration": 153,
    "start_time": "2023-12-12T21:05:29.474Z"
   },
   {
    "duration": 31,
    "start_time": "2023-12-12T21:07:04.744Z"
   },
   {
    "duration": 39,
    "start_time": "2023-12-12T21:07:11.314Z"
   },
   {
    "duration": 42,
    "start_time": "2023-12-12T21:07:18.227Z"
   },
   {
    "duration": 41,
    "start_time": "2023-12-12T21:07:23.625Z"
   },
   {
    "duration": 949,
    "start_time": "2023-12-12T21:14:34.844Z"
   },
   {
    "duration": 985,
    "start_time": "2023-12-12T21:16:02.822Z"
   },
   {
    "duration": 1091,
    "start_time": "2023-12-12T21:17:54.870Z"
   },
   {
    "duration": 50,
    "start_time": "2023-12-12T21:23:11.605Z"
   },
   {
    "duration": 47,
    "start_time": "2023-12-12T21:23:23.985Z"
   },
   {
    "duration": 57,
    "start_time": "2023-12-12T21:23:30.027Z"
   },
   {
    "duration": 29,
    "start_time": "2023-12-12T21:23:47.576Z"
   },
   {
    "duration": 26,
    "start_time": "2023-12-12T21:23:54.265Z"
   },
   {
    "duration": 26,
    "start_time": "2023-12-12T21:24:09.492Z"
   },
   {
    "duration": 11,
    "start_time": "2023-12-12T21:24:32.938Z"
   },
   {
    "duration": 28,
    "start_time": "2023-12-12T21:24:51.255Z"
   },
   {
    "duration": 14,
    "start_time": "2023-12-12T21:25:17.370Z"
   },
   {
    "duration": 14,
    "start_time": "2023-12-12T21:25:26.904Z"
   },
   {
    "duration": 12,
    "start_time": "2023-12-12T21:25:37.988Z"
   },
   {
    "duration": 950,
    "start_time": "2023-12-12T21:30:50.698Z"
   },
   {
    "duration": 46,
    "start_time": "2023-12-12T21:35:13.241Z"
   },
   {
    "duration": 39,
    "start_time": "2023-12-12T21:36:00.876Z"
   },
   {
    "duration": 6627,
    "start_time": "2023-12-12T21:39:09.162Z"
   },
   {
    "duration": 50,
    "start_time": "2023-12-12T21:43:34.870Z"
   },
   {
    "duration": 1066,
    "start_time": "2023-12-12T21:43:44.132Z"
   },
   {
    "duration": 66,
    "start_time": "2023-12-12T21:43:45.200Z"
   },
   {
    "duration": 23,
    "start_time": "2023-12-12T21:43:45.268Z"
   },
   {
    "duration": 40,
    "start_time": "2023-12-12T21:43:45.294Z"
   },
   {
    "duration": 25,
    "start_time": "2023-12-12T21:43:45.335Z"
   },
   {
    "duration": 183,
    "start_time": "2023-12-12T21:43:45.362Z"
   },
   {
    "duration": 142,
    "start_time": "2023-12-12T21:43:45.547Z"
   },
   {
    "duration": 248,
    "start_time": "2023-12-12T21:43:45.691Z"
   },
   {
    "duration": 440,
    "start_time": "2023-12-12T21:43:45.941Z"
   },
   {
    "duration": 449,
    "start_time": "2023-12-12T21:43:46.383Z"
   },
   {
    "duration": 39,
    "start_time": "2023-12-12T21:43:46.834Z"
   },
   {
    "duration": 1002,
    "start_time": "2023-12-12T21:43:46.875Z"
   },
   {
    "duration": 65,
    "start_time": "2023-12-12T21:43:50.655Z"
   },
   {
    "duration": 70,
    "start_time": "2023-12-12T21:44:12.548Z"
   },
   {
    "duration": 19,
    "start_time": "2023-12-12T21:44:27.091Z"
   },
   {
    "duration": 11,
    "start_time": "2023-12-12T21:44:36.281Z"
   },
   {
    "duration": 6,
    "start_time": "2023-12-12T21:46:11.916Z"
   },
   {
    "duration": 786,
    "start_time": "2023-12-12T21:50:52.773Z"
   },
   {
    "duration": 19,
    "start_time": "2023-12-12T22:00:04.536Z"
   },
   {
    "duration": 13,
    "start_time": "2023-12-12T22:00:24.167Z"
   },
   {
    "duration": 19,
    "start_time": "2023-12-12T22:01:55.850Z"
   },
   {
    "duration": 28,
    "start_time": "2023-12-12T22:03:00.509Z"
   },
   {
    "duration": 385,
    "start_time": "2023-12-12T22:03:18.084Z"
   },
   {
    "duration": 23,
    "start_time": "2023-12-12T22:04:30.061Z"
   },
   {
    "duration": 23,
    "start_time": "2023-12-12T22:05:06.797Z"
   },
   {
    "duration": 73,
    "start_time": "2023-12-12T22:06:39.153Z"
   },
   {
    "duration": 24,
    "start_time": "2023-12-12T22:06:44.261Z"
   },
   {
    "duration": 38,
    "start_time": "2023-12-12T22:10:26.825Z"
   },
   {
    "duration": 3115,
    "start_time": "2023-12-12T22:10:52.660Z"
   },
   {
    "duration": 3385,
    "start_time": "2023-12-12T22:11:23.591Z"
   },
   {
    "duration": 3200,
    "start_time": "2023-12-12T22:11:39.962Z"
   },
   {
    "duration": 3356,
    "start_time": "2023-12-12T22:12:36.311Z"
   },
   {
    "duration": 3320,
    "start_time": "2023-12-12T22:12:54.369Z"
   },
   {
    "duration": 6493,
    "start_time": "2023-12-12T22:14:36.302Z"
   },
   {
    "duration": 6578,
    "start_time": "2023-12-12T22:16:05.819Z"
   },
   {
    "duration": 11,
    "start_time": "2023-12-12T22:23:22.533Z"
   },
   {
    "duration": 15,
    "start_time": "2023-12-12T22:24:29.571Z"
   },
   {
    "duration": 22,
    "start_time": "2023-12-12T22:25:36.917Z"
   },
   {
    "duration": 14,
    "start_time": "2023-12-12T22:26:31.587Z"
   },
   {
    "duration": 20,
    "start_time": "2023-12-12T22:26:56.931Z"
   },
   {
    "duration": 13,
    "start_time": "2023-12-12T22:27:08.941Z"
   },
   {
    "duration": 12,
    "start_time": "2023-12-12T22:27:31.953Z"
   },
   {
    "duration": 12590,
    "start_time": "2023-12-12T22:28:58.709Z"
   },
   {
    "duration": 6114,
    "start_time": "2023-12-12T22:29:41.954Z"
   },
   {
    "duration": 14,
    "start_time": "2023-12-12T22:32:55.517Z"
   },
   {
    "duration": 14,
    "start_time": "2023-12-12T22:33:16.431Z"
   },
   {
    "duration": 14,
    "start_time": "2023-12-12T22:34:31.259Z"
   },
   {
    "duration": 10,
    "start_time": "2023-12-12T22:35:29.307Z"
   },
   {
    "duration": 46,
    "start_time": "2023-12-12T22:42:08.071Z"
   },
   {
    "duration": 38,
    "start_time": "2023-12-12T22:42:23.830Z"
   },
   {
    "duration": 1634,
    "start_time": "2023-12-12T22:44:43.558Z"
   },
   {
    "duration": 1560,
    "start_time": "2023-12-12T22:44:57.565Z"
   },
   {
    "duration": 1759,
    "start_time": "2023-12-12T22:45:21.640Z"
   },
   {
    "duration": 1606,
    "start_time": "2023-12-12T22:45:37.033Z"
   },
   {
    "duration": 1579,
    "start_time": "2023-12-12T22:45:47.451Z"
   },
   {
    "duration": 1527,
    "start_time": "2023-12-12T22:47:07.563Z"
   },
   {
    "duration": 1660,
    "start_time": "2023-12-12T22:47:18.011Z"
   },
   {
    "duration": 1600,
    "start_time": "2023-12-12T22:47:31.328Z"
   },
   {
    "duration": 1518,
    "start_time": "2023-12-12T22:47:54.060Z"
   },
   {
    "duration": 1797,
    "start_time": "2023-12-12T22:49:28.191Z"
   },
   {
    "duration": 1749,
    "start_time": "2023-12-12T22:49:49.516Z"
   },
   {
    "duration": 1440,
    "start_time": "2023-12-12T22:54:47.383Z"
   },
   {
    "duration": 1440,
    "start_time": "2023-12-12T22:54:53.334Z"
   },
   {
    "duration": 1499,
    "start_time": "2023-12-12T22:54:55.935Z"
   },
   {
    "duration": 1828,
    "start_time": "2023-12-12T22:57:39.093Z"
   },
   {
    "duration": 1544,
    "start_time": "2023-12-12T22:57:47.644Z"
   },
   {
    "duration": 1543,
    "start_time": "2023-12-12T22:58:01.678Z"
   },
   {
    "duration": 1636,
    "start_time": "2023-12-12T22:58:46.430Z"
   },
   {
    "duration": 1547,
    "start_time": "2023-12-12T22:59:52.940Z"
   },
   {
    "duration": 1541,
    "start_time": "2023-12-12T23:00:12.139Z"
   },
   {
    "duration": 1560,
    "start_time": "2023-12-12T23:04:55.451Z"
   },
   {
    "duration": 1587,
    "start_time": "2023-12-12T23:05:06.153Z"
   },
   {
    "duration": 1561,
    "start_time": "2023-12-12T23:05:38.349Z"
   },
   {
    "duration": 1578,
    "start_time": "2023-12-12T23:06:33.900Z"
   },
   {
    "duration": 1520,
    "start_time": "2023-12-12T23:07:12.714Z"
   },
   {
    "duration": 1649,
    "start_time": "2023-12-12T23:08:08.001Z"
   },
   {
    "duration": 1928,
    "start_time": "2023-12-12T23:19:04.419Z"
   },
   {
    "duration": 1723,
    "start_time": "2023-12-12T23:19:09.847Z"
   },
   {
    "duration": 43,
    "start_time": "2023-12-12T23:22:59.480Z"
   },
   {
    "duration": 147,
    "start_time": "2023-12-12T23:24:26.487Z"
   },
   {
    "duration": 11,
    "start_time": "2023-12-12T23:25:04.672Z"
   },
   {
    "duration": 172,
    "start_time": "2023-12-12T23:25:27.633Z"
   },
   {
    "duration": 5,
    "start_time": "2023-12-12T23:25:43.336Z"
   },
   {
    "duration": 135,
    "start_time": "2023-12-12T23:25:51.803Z"
   },
   {
    "duration": 873,
    "start_time": "2023-12-12T23:41:03.790Z"
   },
   {
    "duration": 1113,
    "start_time": "2023-12-12T23:47:30.205Z"
   },
   {
    "duration": 1000,
    "start_time": "2023-12-12T23:48:25.238Z"
   },
   {
    "duration": 3,
    "start_time": "2023-12-12T23:55:07.983Z"
   },
   {
    "duration": 63,
    "start_time": "2023-12-12T23:55:07.995Z"
   },
   {
    "duration": 17,
    "start_time": "2023-12-12T23:55:08.060Z"
   },
   {
    "duration": 38,
    "start_time": "2023-12-12T23:55:08.079Z"
   },
   {
    "duration": 24,
    "start_time": "2023-12-12T23:55:08.130Z"
   },
   {
    "duration": 152,
    "start_time": "2023-12-12T23:55:08.156Z"
   },
   {
    "duration": 138,
    "start_time": "2023-12-12T23:55:08.309Z"
   },
   {
    "duration": 247,
    "start_time": "2023-12-12T23:55:08.450Z"
   },
   {
    "duration": 574,
    "start_time": "2023-12-12T23:55:08.698Z"
   },
   {
    "duration": 458,
    "start_time": "2023-12-12T23:55:09.274Z"
   },
   {
    "duration": 37,
    "start_time": "2023-12-12T23:55:09.734Z"
   },
   {
    "duration": 878,
    "start_time": "2023-12-12T23:55:09.772Z"
   },
   {
    "duration": 6261,
    "start_time": "2023-12-12T23:55:10.652Z"
   },
   {
    "duration": 16,
    "start_time": "2023-12-12T23:55:16.915Z"
   },
   {
    "duration": 6,
    "start_time": "2023-12-12T23:55:16.932Z"
   },
   {
    "duration": 20,
    "start_time": "2023-12-12T23:55:16.939Z"
   },
   {
    "duration": 1802,
    "start_time": "2023-12-12T23:55:16.960Z"
   },
   {
    "duration": 801,
    "start_time": "2023-12-12T23:55:18.763Z"
   },
   {
    "duration": 5,
    "start_time": "2023-12-12T23:55:19.565Z"
   },
   {
    "duration": 1028,
    "start_time": "2023-12-13T13:07:09.517Z"
   },
   {
    "duration": 289,
    "start_time": "2023-12-13T13:07:10.547Z"
   },
   {
    "duration": 21,
    "start_time": "2023-12-13T13:07:10.838Z"
   },
   {
    "duration": 34,
    "start_time": "2023-12-13T13:07:10.860Z"
   },
   {
    "duration": 21,
    "start_time": "2023-12-13T13:07:10.896Z"
   },
   {
    "duration": 161,
    "start_time": "2023-12-13T13:07:10.919Z"
   },
   {
    "duration": 137,
    "start_time": "2023-12-13T13:07:11.082Z"
   },
   {
    "duration": 235,
    "start_time": "2023-12-13T13:07:11.220Z"
   },
   {
    "duration": 426,
    "start_time": "2023-12-13T13:07:11.456Z"
   },
   {
    "duration": 439,
    "start_time": "2023-12-13T13:07:11.884Z"
   },
   {
    "duration": 34,
    "start_time": "2023-12-13T13:07:12.324Z"
   },
   {
    "duration": 925,
    "start_time": "2023-12-13T13:07:12.360Z"
   },
   {
    "duration": 5986,
    "start_time": "2023-12-13T13:07:13.287Z"
   },
   {
    "duration": 4,
    "start_time": "2023-12-13T13:07:19.275Z"
   },
   {
    "duration": 21,
    "start_time": "2023-12-13T13:07:19.280Z"
   },
   {
    "duration": 9,
    "start_time": "2023-12-13T13:07:19.302Z"
   },
   {
    "duration": 1627,
    "start_time": "2023-12-13T13:07:19.312Z"
   },
   {
    "duration": 862,
    "start_time": "2023-12-13T13:07:20.941Z"
   },
   {
    "duration": 5,
    "start_time": "2023-12-13T13:07:21.804Z"
   },
   {
    "duration": 1073,
    "start_time": "2023-12-13T13:09:38.962Z"
   },
   {
    "duration": 68,
    "start_time": "2023-12-13T13:09:40.037Z"
   },
   {
    "duration": 20,
    "start_time": "2023-12-13T13:09:40.106Z"
   },
   {
    "duration": 49,
    "start_time": "2023-12-13T13:09:40.128Z"
   },
   {
    "duration": 32,
    "start_time": "2023-12-13T13:09:40.179Z"
   },
   {
    "duration": 151,
    "start_time": "2023-12-13T13:09:40.214Z"
   },
   {
    "duration": 137,
    "start_time": "2023-12-13T13:09:40.366Z"
   },
   {
    "duration": 250,
    "start_time": "2023-12-13T13:09:40.505Z"
   },
   {
    "duration": 421,
    "start_time": "2023-12-13T13:09:40.757Z"
   },
   {
    "duration": 420,
    "start_time": "2023-12-13T13:09:41.180Z"
   },
   {
    "duration": 42,
    "start_time": "2023-12-13T13:09:41.602Z"
   },
   {
    "duration": 960,
    "start_time": "2023-12-13T13:09:41.645Z"
   },
   {
    "duration": 6001,
    "start_time": "2023-12-13T13:09:42.606Z"
   },
   {
    "duration": 6,
    "start_time": "2023-12-13T13:09:48.608Z"
   },
   {
    "duration": 10,
    "start_time": "2023-12-13T13:09:48.615Z"
   },
   {
    "duration": 20,
    "start_time": "2023-12-13T13:09:48.626Z"
   },
   {
    "duration": 1678,
    "start_time": "2023-12-13T13:09:48.648Z"
   },
   {
    "duration": 782,
    "start_time": "2023-12-13T13:09:50.328Z"
   },
   {
    "duration": 5,
    "start_time": "2023-12-13T13:09:51.111Z"
   },
   {
    "duration": 16,
    "start_time": "2023-12-13T13:15:12.093Z"
   },
   {
    "duration": 16,
    "start_time": "2023-12-13T13:16:50.689Z"
   },
   {
    "duration": 47,
    "start_time": "2023-12-13T20:01:32.822Z"
   },
   {
    "duration": 6,
    "start_time": "2023-12-13T20:01:38.303Z"
   },
   {
    "duration": 7,
    "start_time": "2023-12-13T20:01:38.441Z"
   },
   {
    "duration": 1293,
    "start_time": "2023-12-13T20:01:45.545Z"
   },
   {
    "duration": 184,
    "start_time": "2023-12-13T20:01:46.840Z"
   },
   {
    "duration": 20,
    "start_time": "2023-12-13T20:01:47.025Z"
   },
   {
    "duration": 43,
    "start_time": "2023-12-13T20:01:47.047Z"
   },
   {
    "duration": 21,
    "start_time": "2023-12-13T20:01:47.092Z"
   },
   {
    "duration": 165,
    "start_time": "2023-12-13T20:01:47.114Z"
   },
   {
    "duration": 134,
    "start_time": "2023-12-13T20:01:47.281Z"
   },
   {
    "duration": 240,
    "start_time": "2023-12-13T20:01:47.417Z"
   },
   {
    "duration": 449,
    "start_time": "2023-12-13T20:01:47.658Z"
   },
   {
    "duration": 456,
    "start_time": "2023-12-13T20:01:48.109Z"
   },
   {
    "duration": 42,
    "start_time": "2023-12-13T20:01:48.566Z"
   },
   {
    "duration": 933,
    "start_time": "2023-12-13T20:01:48.609Z"
   },
   {
    "duration": 5815,
    "start_time": "2023-12-13T20:01:49.543Z"
   },
   {
    "duration": 4,
    "start_time": "2023-12-13T20:01:55.360Z"
   },
   {
    "duration": 19,
    "start_time": "2023-12-13T20:01:55.366Z"
   },
   {
    "duration": 22,
    "start_time": "2023-12-13T20:01:55.387Z"
   },
   {
    "duration": 1709,
    "start_time": "2023-12-13T20:01:55.411Z"
   },
   {
    "duration": 753,
    "start_time": "2023-12-13T20:01:57.122Z"
   },
   {
    "duration": 5,
    "start_time": "2023-12-13T20:02:01.336Z"
   },
   {
    "duration": 1749,
    "start_time": "2023-12-13T20:05:22.545Z"
   },
   {
    "duration": 1786,
    "start_time": "2023-12-13T20:05:42.277Z"
   },
   {
    "duration": 1661,
    "start_time": "2023-12-13T20:05:51.842Z"
   },
   {
    "duration": 1634,
    "start_time": "2023-12-13T20:07:55.974Z"
   },
   {
    "duration": 1641,
    "start_time": "2023-12-13T20:08:05.565Z"
   },
   {
    "duration": 1623,
    "start_time": "2023-12-13T20:08:19.785Z"
   },
   {
    "duration": 1790,
    "start_time": "2023-12-13T20:14:44.638Z"
   },
   {
    "duration": 1680,
    "start_time": "2023-12-13T20:26:53.806Z"
   },
   {
    "duration": 1693,
    "start_time": "2023-12-13T20:28:24.729Z"
   },
   {
    "duration": 1719,
    "start_time": "2023-12-13T20:28:37.784Z"
   },
   {
    "duration": 1384,
    "start_time": "2023-12-13T20:31:44.493Z"
   },
   {
    "duration": 382,
    "start_time": "2023-12-13T20:32:00.563Z"
   },
   {
    "duration": 358,
    "start_time": "2023-12-13T20:32:05.885Z"
   },
   {
    "duration": 253,
    "start_time": "2023-12-13T20:32:29.078Z"
   },
   {
    "duration": 243,
    "start_time": "2023-12-13T20:32:46.824Z"
   },
   {
    "duration": 3070,
    "start_time": "2023-12-13T20:50:38.989Z"
   },
   {
    "duration": 23,
    "start_time": "2023-12-13T20:51:14.077Z"
   },
   {
    "duration": 21,
    "start_time": "2023-12-13T20:51:23.994Z"
   },
   {
    "duration": 66,
    "start_time": "2023-12-13T20:52:57.495Z"
   },
   {
    "duration": 34,
    "start_time": "2023-12-13T20:53:14.068Z"
   },
   {
    "duration": 36,
    "start_time": "2023-12-13T20:53:40.953Z"
   },
   {
    "duration": 33,
    "start_time": "2023-12-13T20:54:00.573Z"
   },
   {
    "duration": 26,
    "start_time": "2023-12-13T20:54:47.351Z"
   },
   {
    "duration": 36,
    "start_time": "2023-12-13T21:01:24.050Z"
   },
   {
    "duration": 29,
    "start_time": "2023-12-13T21:02:28.517Z"
   },
   {
    "duration": 46,
    "start_time": "2023-12-13T21:03:02.389Z"
   },
   {
    "duration": 37,
    "start_time": "2023-12-13T21:03:46.268Z"
   },
   {
    "duration": 30,
    "start_time": "2023-12-13T21:06:37.301Z"
   },
   {
    "duration": 31,
    "start_time": "2023-12-13T21:07:13.627Z"
   },
   {
    "duration": 104,
    "start_time": "2023-12-13T21:10:38.447Z"
   },
   {
    "duration": 3,
    "start_time": "2023-12-13T21:12:15.470Z"
   },
   {
    "duration": 64,
    "start_time": "2023-12-13T21:12:15.480Z"
   },
   {
    "duration": 16,
    "start_time": "2023-12-13T21:12:15.546Z"
   },
   {
    "duration": 31,
    "start_time": "2023-12-13T21:12:15.563Z"
   },
   {
    "duration": 20,
    "start_time": "2023-12-13T21:12:15.597Z"
   },
   {
    "duration": 149,
    "start_time": "2023-12-13T21:12:15.618Z"
   },
   {
    "duration": 151,
    "start_time": "2023-12-13T21:12:15.769Z"
   },
   {
    "duration": 350,
    "start_time": "2023-12-13T21:12:15.921Z"
   },
   {
    "duration": 422,
    "start_time": "2023-12-13T21:12:16.273Z"
   },
   {
    "duration": 424,
    "start_time": "2023-12-13T21:12:16.697Z"
   },
   {
    "duration": 34,
    "start_time": "2023-12-13T21:12:17.123Z"
   },
   {
    "duration": 894,
    "start_time": "2023-12-13T21:12:17.159Z"
   },
   {
    "duration": 6027,
    "start_time": "2023-12-13T21:12:18.055Z"
   },
   {
    "duration": 6,
    "start_time": "2023-12-13T21:12:24.083Z"
   },
   {
    "duration": 7,
    "start_time": "2023-12-13T21:12:24.090Z"
   },
   {
    "duration": 139,
    "start_time": "2023-12-13T21:12:24.098Z"
   },
   {
    "duration": 1793,
    "start_time": "2023-12-13T21:12:24.238Z"
   },
   {
    "duration": 280,
    "start_time": "2023-12-13T21:12:26.032Z"
   },
   {
    "duration": 6,
    "start_time": "2023-12-13T21:12:26.313Z"
   },
   {
    "duration": 3,
    "start_time": "2023-12-13T21:17:05.089Z"
   },
   {
    "duration": 68,
    "start_time": "2023-12-13T21:17:05.098Z"
   },
   {
    "duration": 20,
    "start_time": "2023-12-13T21:17:05.168Z"
   },
   {
    "duration": 42,
    "start_time": "2023-12-13T21:17:05.189Z"
   },
   {
    "duration": 57,
    "start_time": "2023-12-13T21:17:05.233Z"
   },
   {
    "duration": 165,
    "start_time": "2023-12-13T21:17:05.292Z"
   },
   {
    "duration": 146,
    "start_time": "2023-12-13T21:17:05.458Z"
   },
   {
    "duration": 231,
    "start_time": "2023-12-13T21:17:05.605Z"
   },
   {
    "duration": 454,
    "start_time": "2023-12-13T21:17:05.838Z"
   },
   {
    "duration": 430,
    "start_time": "2023-12-13T21:17:06.294Z"
   },
   {
    "duration": 34,
    "start_time": "2023-12-13T21:17:06.726Z"
   },
   {
    "duration": 940,
    "start_time": "2023-12-13T21:17:06.762Z"
   },
   {
    "duration": 5905,
    "start_time": "2023-12-13T21:17:07.704Z"
   },
   {
    "duration": 5,
    "start_time": "2023-12-13T21:17:13.611Z"
   },
   {
    "duration": 21,
    "start_time": "2023-12-13T21:17:13.617Z"
   },
   {
    "duration": 40,
    "start_time": "2023-12-13T21:17:13.639Z"
   },
   {
    "duration": 1725,
    "start_time": "2023-12-13T21:17:13.681Z"
   },
   {
    "duration": 328,
    "start_time": "2023-12-13T21:17:15.407Z"
   },
   {
    "duration": 5,
    "start_time": "2023-12-13T21:17:15.736Z"
   },
   {
    "duration": 1126,
    "start_time": "2023-12-14T12:05:58.178Z"
   },
   {
    "duration": 175,
    "start_time": "2023-12-14T12:05:59.306Z"
   },
   {
    "duration": 18,
    "start_time": "2023-12-14T12:05:59.483Z"
   },
   {
    "duration": 28,
    "start_time": "2023-12-14T12:05:59.503Z"
   },
   {
    "duration": 18,
    "start_time": "2023-12-14T12:05:59.532Z"
   },
   {
    "duration": 151,
    "start_time": "2023-12-14T12:05:59.552Z"
   },
   {
    "duration": 116,
    "start_time": "2023-12-14T12:05:59.705Z"
   },
   {
    "duration": 200,
    "start_time": "2023-12-14T12:05:59.822Z"
   },
   {
    "duration": 449,
    "start_time": "2023-12-14T12:06:00.023Z"
   },
   {
    "duration": 396,
    "start_time": "2023-12-14T12:06:00.475Z"
   },
   {
    "duration": 31,
    "start_time": "2023-12-14T12:06:00.872Z"
   },
   {
    "duration": 867,
    "start_time": "2023-12-14T12:06:00.904Z"
   },
   {
    "duration": 4694,
    "start_time": "2023-12-14T12:06:01.772Z"
   },
   {
    "duration": 4,
    "start_time": "2023-12-14T12:06:06.467Z"
   },
   {
    "duration": 6,
    "start_time": "2023-12-14T12:06:06.472Z"
   },
   {
    "duration": 46,
    "start_time": "2023-12-14T12:06:06.479Z"
   },
   {
    "duration": 1415,
    "start_time": "2023-12-14T12:06:06.526Z"
   },
   {
    "duration": 251,
    "start_time": "2023-12-14T12:06:07.942Z"
   },
   {
    "duration": 5,
    "start_time": "2023-12-14T12:06:08.195Z"
   },
   {
    "duration": 6,
    "start_time": "2023-12-14T12:06:25.262Z"
   },
   {
    "duration": 77,
    "start_time": "2023-12-14T20:57:08.723Z"
   },
   {
    "duration": 1211,
    "start_time": "2023-12-14T20:57:17.789Z"
   },
   {
    "duration": 187,
    "start_time": "2023-12-14T20:57:19.002Z"
   },
   {
    "duration": 21,
    "start_time": "2023-12-14T20:57:19.191Z"
   },
   {
    "duration": 35,
    "start_time": "2023-12-14T20:57:19.213Z"
   },
   {
    "duration": 34,
    "start_time": "2023-12-14T20:57:19.249Z"
   },
   {
    "duration": 195,
    "start_time": "2023-12-14T20:57:19.285Z"
   },
   {
    "duration": 129,
    "start_time": "2023-12-14T20:57:19.482Z"
   },
   {
    "duration": 242,
    "start_time": "2023-12-14T20:57:19.613Z"
   },
   {
    "duration": 469,
    "start_time": "2023-12-14T20:57:19.857Z"
   },
   {
    "duration": 490,
    "start_time": "2023-12-14T20:57:20.327Z"
   },
   {
    "duration": 45,
    "start_time": "2023-12-14T20:57:20.818Z"
   },
   {
    "duration": 922,
    "start_time": "2023-12-14T20:57:20.865Z"
   },
   {
    "duration": 5720,
    "start_time": "2023-12-14T20:57:21.789Z"
   },
   {
    "duration": 5,
    "start_time": "2023-12-14T20:57:27.511Z"
   },
   {
    "duration": 6,
    "start_time": "2023-12-14T20:57:27.518Z"
   },
   {
    "duration": 32,
    "start_time": "2023-12-14T20:57:34.888Z"
   },
   {
    "duration": 33,
    "start_time": "2023-12-14T20:57:44.212Z"
   },
   {
    "duration": 5656,
    "start_time": "2023-12-14T21:28:42.332Z"
   },
   {
    "duration": 28,
    "start_time": "2023-12-14T21:31:57.575Z"
   },
   {
    "duration": 83,
    "start_time": "2023-12-14T21:52:17.480Z"
   },
   {
    "duration": 3,
    "start_time": "2023-12-14T21:55:39.162Z"
   },
   {
    "duration": 65,
    "start_time": "2023-12-14T21:55:39.190Z"
   },
   {
    "duration": 21,
    "start_time": "2023-12-14T21:55:39.257Z"
   },
   {
    "duration": 30,
    "start_time": "2023-12-14T21:55:39.279Z"
   },
   {
    "duration": 53,
    "start_time": "2023-12-14T21:55:39.310Z"
   },
   {
    "duration": 149,
    "start_time": "2023-12-14T21:55:39.365Z"
   },
   {
    "duration": 215,
    "start_time": "2023-12-14T21:55:39.516Z"
   },
   {
    "duration": 274,
    "start_time": "2023-12-14T21:55:39.732Z"
   },
   {
    "duration": 428,
    "start_time": "2023-12-14T21:55:40.008Z"
   },
   {
    "duration": 431,
    "start_time": "2023-12-14T21:55:40.438Z"
   },
   {
    "duration": 32,
    "start_time": "2023-12-14T21:55:40.870Z"
   },
   {
    "duration": 886,
    "start_time": "2023-12-14T21:55:40.904Z"
   },
   {
    "duration": 5937,
    "start_time": "2023-12-14T21:55:41.791Z"
   },
   {
    "duration": 4,
    "start_time": "2023-12-14T21:55:47.730Z"
   },
   {
    "duration": 24,
    "start_time": "2023-12-14T21:55:47.736Z"
   },
   {
    "duration": 33,
    "start_time": "2023-12-14T21:55:47.763Z"
   },
   {
    "duration": 1602,
    "start_time": "2023-12-14T21:55:47.797Z"
   },
   {
    "duration": 263,
    "start_time": "2023-12-14T21:55:49.401Z"
   },
   {
    "duration": 5,
    "start_time": "2023-12-14T21:55:49.665Z"
   },
   {
    "duration": 1008,
    "start_time": "2023-12-15T14:10:52.971Z"
   },
   {
    "duration": 182,
    "start_time": "2023-12-15T14:10:53.980Z"
   },
   {
    "duration": 20,
    "start_time": "2023-12-15T14:10:54.163Z"
   },
   {
    "duration": 31,
    "start_time": "2023-12-15T14:10:54.185Z"
   },
   {
    "duration": 44,
    "start_time": "2023-12-15T14:10:54.219Z"
   },
   {
    "duration": 187,
    "start_time": "2023-12-15T14:10:54.265Z"
   },
   {
    "duration": 134,
    "start_time": "2023-12-15T14:10:54.453Z"
   },
   {
    "duration": 236,
    "start_time": "2023-12-15T14:10:54.589Z"
   },
   {
    "duration": 414,
    "start_time": "2023-12-15T14:10:54.827Z"
   },
   {
    "duration": 418,
    "start_time": "2023-12-15T14:10:55.243Z"
   },
   {
    "duration": 36,
    "start_time": "2023-12-15T14:10:55.663Z"
   },
   {
    "duration": 936,
    "start_time": "2023-12-15T14:10:55.700Z"
   },
   {
    "duration": 5921,
    "start_time": "2023-12-15T14:10:56.638Z"
   },
   {
    "duration": 5,
    "start_time": "2023-12-15T14:11:02.560Z"
   },
   {
    "duration": 42,
    "start_time": "2023-12-15T14:11:02.566Z"
   },
   {
    "duration": 37,
    "start_time": "2023-12-15T14:11:02.609Z"
   },
   {
    "duration": 1734,
    "start_time": "2023-12-15T14:11:02.647Z"
   },
   {
    "duration": 270,
    "start_time": "2023-12-15T14:11:04.383Z"
   },
   {
    "duration": 6,
    "start_time": "2023-12-15T14:11:04.655Z"
   }
  ],
  "kernelspec": {
   "display_name": "Python 3 (ipykernel)",
   "language": "python",
   "name": "python3"
  },
  "language_info": {
   "codemirror_mode": {
    "name": "ipython",
    "version": 3
   },
   "file_extension": ".py",
   "mimetype": "text/x-python",
   "name": "python",
   "nbconvert_exporter": "python",
   "pygments_lexer": "ipython3",
   "version": "3.11.5"
  },
  "toc": {
   "base_numbering": 1,
   "nav_menu": {},
   "number_sections": true,
   "sideBar": true,
   "skip_h1_title": true,
   "title_cell": "Table of Contents",
   "title_sidebar": "Contents",
   "toc_cell": false,
   "toc_position": {
    "height": "413px",
    "left": "66px",
    "top": "111.133px",
    "width": "331.2px"
   },
   "toc_section_display": true,
   "toc_window_display": true
  }
 },
 "nbformat": 4,
 "nbformat_minor": 5
}
