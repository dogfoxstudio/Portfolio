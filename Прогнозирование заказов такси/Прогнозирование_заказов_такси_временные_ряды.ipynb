{
 "cells": [
  {
   "cell_type": "markdown",
   "metadata": {},
   "source": [
    "#  Прогнозирование заказов такси"
   ]
  },
  {
   "cell_type": "markdown",
   "metadata": {},
   "source": [
    "Компания «Чётенькое такси» собрала исторические данные о заказах такси в аэропортах. Чтобы привлекать больше водителей в период пиковой нагрузки, нужно спрогнозировать количество заказов такси на следующий час. Необходимо построить модель для такого предсказания.\n",
    "\n",
    "Значение метрики *RMSE* на тестовой выборке должно быть не больше 48.\n",
    "\n",
    "Вам нужно:\n",
    "\n",
    "1. Загрузить данные и выполнить их ресемплирование по одному часу.\n",
    "2. Проанализировать данные.\n",
    "3. Обучить разные модели с различными гиперпараметрами. Сделать тестовую выборку размером 10% от исходных данных.\n",
    "4. Проверить данные на тестовой выборке и сделать выводы.\n",
    "\n",
    "\n",
    "Данные лежат в файле `...`. Количество заказов находится в столбце `num_orders` (от англ. *number of orders*, «число заказов»)."
   ]
  },
  {
   "cell_type": "markdown",
   "metadata": {
    "toc": true
   },
   "source": [
    "<h1>Содержание<span class=\"tocSkip\"></span></h1>\n",
    "<div class=\"toc\"><ul class=\"toc-item\"><li><span><a href=\"#Предобработка-данных\" data-toc-modified-id=\"Предобработка-данных-1\"><span class=\"toc-item-num\">1&nbsp;&nbsp;</span>Предобработка данных</a></span><ul class=\"toc-item\"><li><span><a href=\"#Загрузка-и-обзор-данных\" data-toc-modified-id=\"Загрузка-и-обзор-данных-1.1\"><span class=\"toc-item-num\">1.1&nbsp;&nbsp;</span>Загрузка и обзор данных</a></span><ul class=\"toc-item\"><li><span><a href=\"#Загрузка-данных\" data-toc-modified-id=\"Загрузка-данных-1.1.1\"><span class=\"toc-item-num\">1.1.1&nbsp;&nbsp;</span>Загрузка данных</a></span></li><li><span><a href=\"#Обзор-данных\" data-toc-modified-id=\"Обзор-данных-1.1.2\"><span class=\"toc-item-num\">1.1.2&nbsp;&nbsp;</span>Обзор данных</a></span></li><li><span><a href=\"#Рассмотрение-пропусков-в-данных\" data-toc-modified-id=\"Рассмотрение-пропусков-в-данных-1.1.3\"><span class=\"toc-item-num\">1.1.3&nbsp;&nbsp;</span>Рассмотрение пропусков в данных</a></span></li><li><span><a href=\"#Дубликаты\" data-toc-modified-id=\"Дубликаты-1.1.4\"><span class=\"toc-item-num\">1.1.4&nbsp;&nbsp;</span>Дубликаты</a></span></li><li><span><a href=\"#Ресемплирование\" data-toc-modified-id=\"Ресемплирование-1.1.5\"><span class=\"toc-item-num\">1.1.5&nbsp;&nbsp;</span>Ресемплирование</a></span></li><li><span><a href=\"#Выводы-по-предобработке-данных\" data-toc-modified-id=\"Выводы-по-предобработке-данных-1.1.6\"><span class=\"toc-item-num\">1.1.6&nbsp;&nbsp;</span>Выводы по предобработке данных</a></span></li></ul></li></ul></li><li><span><a href=\"#Исследовательский-анализ-данных\" data-toc-modified-id=\"Исследовательский-анализ-данных-2\"><span class=\"toc-item-num\">2&nbsp;&nbsp;</span>Исследовательский анализ данных</a></span><ul class=\"toc-item\"><li><span><a href=\"#Тренды-и-сезонность\" data-toc-modified-id=\"Тренды-и-сезонность-2.1\"><span class=\"toc-item-num\">2.1&nbsp;&nbsp;</span>Тренды и сезонность</a></span></li></ul></li><li><span><a href=\"#Обучение\" data-toc-modified-id=\"Обучение-3\"><span class=\"toc-item-num\">3&nbsp;&nbsp;</span>Обучение</a></span><ul class=\"toc-item\"><li><span><a href=\"#Создание-признаков\" data-toc-modified-id=\"Создание-признаков-3.1\"><span class=\"toc-item-num\">3.1&nbsp;&nbsp;</span>Создание признаков</a></span></li><li><span><a href=\"#Разбивка-данных\" data-toc-modified-id=\"Разбивка-данных-3.2\"><span class=\"toc-item-num\">3.2&nbsp;&nbsp;</span>Разбивка данных</a></span></li><li><span><a href=\"#Обучение\" data-toc-modified-id=\"Обучение-3.3\"><span class=\"toc-item-num\">3.3&nbsp;&nbsp;</span>Обучение</a></span></li></ul></li><li><span><a href=\"#Тестирование\" data-toc-modified-id=\"Тестирование-4\"><span class=\"toc-item-num\">4&nbsp;&nbsp;</span>Тестирование</a></span><ul class=\"toc-item\"><li><span><a href=\"#Сравнение-с-константной-моделью\" data-toc-modified-id=\"Сравнение-с-константной-моделью-4.1\"><span class=\"toc-item-num\">4.1&nbsp;&nbsp;</span>Сравнение с константной моделью</a></span></li><li><span><a href=\"#Анализ-важности-признаков\" data-toc-modified-id=\"Анализ-важности-признаков-4.2\"><span class=\"toc-item-num\">4.2&nbsp;&nbsp;</span>Анализ важности признаков</a></span></li></ul></li><li><span><a href=\"#Выводы\" data-toc-modified-id=\"Выводы-5\"><span class=\"toc-item-num\">5&nbsp;&nbsp;</span>Выводы</a></span></li></ul></div>"
   ]
  },
  {
   "cell_type": "markdown",
   "metadata": {},
   "source": [
    "## Предобработка данных"
   ]
  },
  {
   "cell_type": "code",
   "execution_count": 1,
   "metadata": {},
   "outputs": [],
   "source": [
    "!pip install phik -q\n",
    "!pip install numpy==1.23.1 -q\n",
    "!pip install numba -U -q\n",
    "!pip install scikit-learn -U -q \n",
    "!pip install scipy -U -q \n",
    "!pip install shap -U -q"
   ]
  },
  {
   "cell_type": "code",
   "execution_count": 2,
   "metadata": {},
   "outputs": [],
   "source": [
    "RANDOM_STATE = 2024\n",
    "\n",
    "#from IPython.core.display import display, HTML\n",
    "#display(HTML(\"<style>.container { width:90% !important; }</style>\"))\n",
    "\n",
    "import pandas as pd\n",
    "import seaborn as sns\n",
    "import numpy as np\n",
    "from matplotlib import pyplot as plt\n",
    "\n",
    "from statsmodels.tsa.seasonal import seasonal_decompose\n",
    "\n",
    "from sklearn.model_selection import train_test_split\n",
    "from sklearn.model_selection import GridSearchCV, RandomizedSearchCV\n",
    "from sklearn.model_selection import TimeSeriesSplit\n",
    "\n",
    "from sklearn.pipeline import Pipeline\n",
    "from sklearn.compose import ColumnTransformer\n",
    "\n",
    "from sklearn.preprocessing import OneHotEncoder, OrdinalEncoder, StandardScaler, MinMaxScaler, LabelEncoder\n",
    "\n",
    "from sklearn.impute import SimpleImputer\n",
    "\n",
    "from sklearn.neighbors import KNeighborsRegressor\n",
    "from sklearn.linear_model import LinearRegression\n",
    "from sklearn.tree import DecisionTreeRegressor\n",
    "\n",
    "from sklearn.neighbors import KNeighborsClassifier\n",
    "from sklearn.linear_model import LogisticRegression\n",
    "from sklearn.tree import DecisionTreeClassifier\n",
    "from sklearn.svm import SVC\n",
    "\n",
    "from sklearn.dummy import DummyRegressor, DummyClassifier\n",
    "\n",
    "from sklearn.metrics import mean_squared_error\n",
    "\n",
    "from scipy import stats as st\n",
    "\n",
    "import shap\n",
    "\n",
    "from phik.report import plot_correlation_matrix\n",
    "from phik import report\n",
    "\n",
    "import warnings"
   ]
  },
  {
   "cell_type": "markdown",
   "metadata": {},
   "source": [
    "### Загрузка и обзор данных\n",
    "\n",
    "#### Загрузка данных"
   ]
  },
  {
   "cell_type": "code",
   "execution_count": 3,
   "metadata": {},
   "outputs": [],
   "source": [
    "df = ... # по просьбе Яндекс Практикума датасет открыто не распространяется"
   ]
  },
  {
   "cell_type": "markdown",
   "metadata": {},
   "source": [
    "#### Обзор данных"
   ]
  },
  {
   "cell_type": "code",
   "execution_count": 4,
   "metadata": {
    "scrolled": true
   },
   "outputs": [
    {
     "data": {
      "text/html": [
       "<div>\n",
       "<style scoped>\n",
       "    .dataframe tbody tr th:only-of-type {\n",
       "        vertical-align: middle;\n",
       "    }\n",
       "\n",
       "    .dataframe tbody tr th {\n",
       "        vertical-align: top;\n",
       "    }\n",
       "\n",
       "    .dataframe thead th {\n",
       "        text-align: right;\n",
       "    }\n",
       "</style>\n",
       "<table border=\"1\" class=\"dataframe\">\n",
       "  <thead>\n",
       "    <tr style=\"text-align: right;\">\n",
       "      <th></th>\n",
       "      <th>num_orders</th>\n",
       "    </tr>\n",
       "    <tr>\n",
       "      <th>datetime</th>\n",
       "      <th></th>\n",
       "    </tr>\n",
       "  </thead>\n",
       "  <tbody>\n",
       "    <tr>\n",
       "      <th>2018-03-01 00:00:00</th>\n",
       "      <td>9</td>\n",
       "    </tr>\n",
       "    <tr>\n",
       "      <th>2018-03-01 00:10:00</th>\n",
       "      <td>14</td>\n",
       "    </tr>\n",
       "    <tr>\n",
       "      <th>2018-03-01 00:20:00</th>\n",
       "      <td>28</td>\n",
       "    </tr>\n",
       "    <tr>\n",
       "      <th>2018-03-01 00:30:00</th>\n",
       "      <td>20</td>\n",
       "    </tr>\n",
       "    <tr>\n",
       "      <th>2018-03-01 00:40:00</th>\n",
       "      <td>32</td>\n",
       "    </tr>\n",
       "  </tbody>\n",
       "</table>\n",
       "</div>"
      ],
      "text/plain": [
       "                     num_orders\n",
       "datetime                       \n",
       "2018-03-01 00:00:00           9\n",
       "2018-03-01 00:10:00          14\n",
       "2018-03-01 00:20:00          28\n",
       "2018-03-01 00:30:00          20\n",
       "2018-03-01 00:40:00          32"
      ]
     },
     "metadata": {},
     "output_type": "display_data"
    },
    {
     "name": "stdout",
     "output_type": "stream",
     "text": [
      "<class 'pandas.core.frame.DataFrame'>\n",
      "DatetimeIndex: 26496 entries, 2018-03-01 00:00:00 to 2018-08-31 23:50:00\n",
      "Data columns (total 1 columns):\n",
      " #   Column      Non-Null Count  Dtype\n",
      "---  ------      --------------  -----\n",
      " 0   num_orders  26496 non-null  int64\n",
      "dtypes: int64(1)\n",
      "memory usage: 414.0 KB\n"
     ]
    }
   ],
   "source": [
    "display(df.head())\n",
    "\n",
    "df.info()"
   ]
  },
  {
   "cell_type": "markdown",
   "metadata": {},
   "source": [
    "В данных имеется 26496 записей с количеством заказов такси с марта по август 2018"
   ]
  },
  {
   "cell_type": "markdown",
   "metadata": {},
   "source": [
    "#### Рассмотрение пропусков в данных"
   ]
  },
  {
   "cell_type": "code",
   "execution_count": 5,
   "metadata": {},
   "outputs": [
    {
     "name": "stdout",
     "output_type": "stream",
     "text": [
      "num_orders    0\n",
      "dtype: int64\n"
     ]
    }
   ],
   "source": [
    "print(df.isna().sum())"
   ]
  },
  {
   "cell_type": "markdown",
   "metadata": {},
   "source": [
    "Пропуски в данных отсутствуют\n",
    "\n",
    "#### Дубликаты\n",
    "Проверим наличие дубликатов в индексе"
   ]
  },
  {
   "cell_type": "code",
   "execution_count": 6,
   "metadata": {},
   "outputs": [
    {
     "name": "stdout",
     "output_type": "stream",
     "text": [
      "0\n"
     ]
    }
   ],
   "source": [
    "print(df.index.duplicated().sum())"
   ]
  },
  {
   "cell_type": "markdown",
   "metadata": {},
   "source": [
    "Дубликаты в индексе отсутствуют"
   ]
  },
  {
   "cell_type": "markdown",
   "metadata": {},
   "source": [
    "#### Ресемплирование\n",
    "Задача состоит в предсказании числа заказов на следующий час, поэтому проведем ресемплирование к часовому интервалу"
   ]
  },
  {
   "cell_type": "code",
   "execution_count": 7,
   "metadata": {},
   "outputs": [],
   "source": [
    "df = df.resample('1H').sum()"
   ]
  },
  {
   "cell_type": "code",
   "execution_count": 8,
   "metadata": {
    "scrolled": false
   },
   "outputs": [
    {
     "data": {
      "image/png": "[encoded data removed]",
      "text/plain": [
       "<Figure size 864x432 with 1 Axes>"
      ]
     },
     "metadata": {
      "needs_background": "light"
     },
     "output_type": "display_data"
    }
   ],
   "source": [
    "plt.figure(figsize=(12, 6))\n",
    "plt.subplot(111)\n",
    "# Чтобы график корректно отобразился, указываем его\n",
    "# оси ax, равными plt.gca() (англ. get current axis,\n",
    "# получить текущие оси)\n",
    "df.plot(ax=plt.gca(), ylabel='Число заказов', xlabel='Дата')\n",
    "plt.title('График числа заказов')\n",
    "plt.show()"
   ]
  },
  {
   "cell_type": "markdown",
   "metadata": {},
   "source": [
    "#### Выводы по предобработке данных\n",
    "В данных отсутсвуют дубликаты в индексах и пропуски и охватывают временной промежуток с марта по август 2018. Проведено ресемплирование к часовому интервалу. По графику временной ряд можно назвать почти стационарным"
   ]
  },
  {
   "cell_type": "markdown",
   "metadata": {},
   "source": [
    "## Исследовательский анализ данных\n",
    "\n",
    "### Тренды и сезонность"
   ]
  },
  {
   "cell_type": "code",
   "execution_count": 9,
   "metadata": {
    "scrolled": false
   },
   "outputs": [
    {
     "name": "stdout",
     "output_type": "stream",
     "text": [
      "Residuals mean: -0.008130312689732936\n",
      "Residuals mean: 24.696895960143493\n"
     ]
    },
    {
     "data": {
      "image/png": "[encoded data removed]",
      "text/plain": [
       "<Figure size 864x1440 with 6 Axes>"
      ]
     },
     "metadata": {
      "needs_background": "light"
     },
     "output_type": "display_data"
    }
   ],
   "source": [
    "decomposed = seasonal_decompose(df['num_orders'])# < напишите код здесь >\n",
    "\n",
    "plt.figure(figsize=(12, 20))\n",
    "plt.subplot(611)\n",
    "df['num_orders'].plot(ax=plt.gca(), ylabel='Число заказов', xlabel='Дата')\n",
    "df['num_orders'].shift().rolling(100).mean().plot(ax=plt.gca(), ylabel='Число заказов', xlabel='Дата')\n",
    "plt.title('Исходный временной ряд')\n",
    "plt.subplot(612)\n",
    "decomposed.trend.plot(ax=plt.gca(), ylabel='Число заказов', xlabel='Дата')\n",
    "decomposed.trend.shift().rolling(100).mean().plot(ax=plt.gca(), ylabel='Число заказов', xlabel='Дата')\n",
    "plt.title('Трендовая составляющая')\n",
    "plt.subplot(613)\n",
    "decomposed.seasonal.plot(ax=plt.gca(), ylabel='Число заказов', xlabel='Дата')\n",
    "plt.title('Сезонная составляющая')\n",
    "plt.subplot(614)\n",
    "decomposed.seasonal['2018-03-01':'2018-03-05'].plot(ax=plt.gca(), ylabel='Число заказов', xlabel='Дата')\n",
    "plt.title('Сезонная составляющая, начало марта')\n",
    "plt.subplot(615)\n",
    "decomposed.seasonal['2018-03-02':'2018-03-02'].plot(ax=plt.gca(), ylabel='Число заказов', xlabel='Дата')\n",
    "plt.title('Сезонная составляющая, одни сутки')\n",
    "plt.subplot(616)\n",
    "decomposed.resid.plot(ax=plt.gca(), ylabel='Число заказов', xlabel='Дата')\n",
    "plt.title('Случайная составляющая')\n",
    "plt.tight_layout()\n",
    "\n",
    "print('Residuals mean:', decomposed.resid.mean())\n",
    "print('Residuals mean:', decomposed.resid.std())\n"
   ]
  },
  {
   "cell_type": "markdown",
   "metadata": {},
   "source": [
    "По графикам видно что и тренд и усредненный ряд являются монотонно (и практически линейно) возрастающими. Поэтому нельзя назвать ряд стационарным\n",
    "\n",
    "По графику сезонной составляющей видно что она имеет период в одни сутки и отражает изменение числа заказов в течение одного дня. Можно заметить, что пиковое число заказов приходится на полночь, после которого идет спад до суточного минимума в 6 утра. После этого идет рост числа заказов с локальными максимумами около 10 и 16 часов.\n",
    "\n",
    "Можно предпположить, что максимумы суточного числа заказов связаны с характерным временем прибытия авиарейсов, а глобальный максимум около полуночи можно попытаться объяснить тем, что в это время такси является практически единственным способом выбраться из аэропорта. Получить информацию о изменении с более чем суточной периодичностью не представляется возможным\n",
    "\n",
    "Случайные остатки имеют практически постоянную дисперсию (стандартное отклонение 25 с почти нулевым средним)"
   ]
  },
  {
   "cell_type": "markdown",
   "metadata": {},
   "source": [
    "## Обучение\n",
    "\n",
    "В данном разделе обучим модели "
   ]
  },
  {
   "cell_type": "markdown",
   "metadata": {},
   "source": [
    "### Создание признаков\n",
    "\n",
    "Во временном ряде можно выделить две основные компоненты: трендовую и сезонную (шумы не учитываем) при этом будем считать их независимыми друг от друга. Поэтому добавим обе эти компоненты в качестве признаков.\n",
    "\n",
    "Заметим, что компонента тренда после декомпозиции имеет осцилляции. Cгладим их бегущим средним, можно было бы попробовать снова провести декомпозицию чтобы получить сезонную компоненту большего периода (например недельного или месячного) но в даннной работе делать этого не будем. Размер окна выберем равным 100"
   ]
  },
  {
   "cell_type": "code",
   "execution_count": 10,
   "metadata": {},
   "outputs": [],
   "source": [
    "df['trend'] = decomposed.trend.shift() # трендовая компонента тоже вроде делается окном поэтому добавляем сдвиг\n",
    "df['seasonal'] = decomposed.seasonal\n",
    "\n",
    "df['trend_ma_100'] = decomposed.trend.shift().rolling(100).mean()"
   ]
  },
  {
   "cell_type": "code",
   "execution_count": 11,
   "metadata": {
    "scrolled": false
   },
   "outputs": [
    {
     "data": {
      "image/png": "[encoded data removed]",
      "text/plain": [
       "<Figure size 432x288 with 1 Axes>"
      ]
     },
     "metadata": {
      "needs_background": "light"
     },
     "output_type": "display_data"
    }
   ],
   "source": [
    "plt.subplot(111)\n",
    "df[['trend','trend_ma_100']].plot(ax=plt.gca(), ylabel='Число заказов', xlabel='Дата')\n",
    "plt.title('Трендовая составляющая')\n",
    "plt.show()"
   ]
  },
  {
   "cell_type": "markdown",
   "metadata": {},
   "source": [
    "Добавим в качестве признаков разность временного ряда и ее усреденении"
   ]
  },
  {
   "cell_type": "code",
   "execution_count": 12,
   "metadata": {},
   "outputs": [],
   "source": [
    "df['diff'] = df['num_orders'].shift()-df['num_orders'].shift(2)\n",
    "df['diff_ma_6'] = df['diff'].shift().rolling(6).mean()\n",
    "df['diff_ma_24'] = df['diff'].shift().rolling(24).mean()"
   ]
  },
  {
   "cell_type": "code",
   "execution_count": 13,
   "metadata": {},
   "outputs": [
    {
     "data": {
      "image/png": "[encoded data removed]",
      "text/plain": [
       "<Figure size 432x288 with 1 Axes>"
      ]
     },
     "metadata": {
      "needs_background": "light"
     },
     "output_type": "display_data"
    }
   ],
   "source": [
    "plt.subplot(111)\n",
    "df[['diff','diff_ma_6']].plot(ax=plt.gca(), ylabel='Число заказов', xlabel='Дата')\n",
    "plt.title('Остатки временного ряда')\n",
    "plt.show()"
   ]
  },
  {
   "cell_type": "markdown",
   "metadata": {},
   "source": [
    "Также выделим в качестве признаков номер месяца, день месяца и день недели"
   ]
  },
  {
   "cell_type": "code",
   "execution_count": 14,
   "metadata": {
    "scrolled": true
   },
   "outputs": [],
   "source": [
    "df['day'] = df.index.day\n",
    "df['dayofweek'] = df.index.dayofweek"
   ]
  },
  {
   "cell_type": "markdown",
   "metadata": {},
   "source": [
    "Также добавим признаки со сдвигом и усреднением"
   ]
  },
  {
   "cell_type": "code",
   "execution_count": 15,
   "metadata": {},
   "outputs": [],
   "source": [
    "def make_features(df, max_lag, rolling_mean_size):\n",
    "    data = df.copy()\n",
    "    for lag in range(1, max_lag + 1):\n",
    "        data['lag_{}'.format(lag)] = data['num_orders'].shift(lag)\n",
    "\n",
    "    data['MA_'+str(rolling_mean_size)] = data['num_orders'].shift().rolling(rolling_mean_size).mean()\n",
    "    \n",
    "    return data"
   ]
  },
  {
   "cell_type": "code",
   "execution_count": 16,
   "metadata": {},
   "outputs": [],
   "source": [
    "df = make_features(df,4,100)"
   ]
  },
  {
   "cell_type": "code",
   "execution_count": 17,
   "metadata": {
    "scrolled": false
   },
   "outputs": [
    {
     "data": {
      "text/html": [
       "<div>\n",
       "<style scoped>\n",
       "    .dataframe tbody tr th:only-of-type {\n",
       "        vertical-align: middle;\n",
       "    }\n",
       "\n",
       "    .dataframe tbody tr th {\n",
       "        vertical-align: top;\n",
       "    }\n",
       "\n",
       "    .dataframe thead th {\n",
       "        text-align: right;\n",
       "    }\n",
       "</style>\n",
       "<table border=\"1\" class=\"dataframe\">\n",
       "  <thead>\n",
       "    <tr style=\"text-align: right;\">\n",
       "      <th></th>\n",
       "      <th>num_orders</th>\n",
       "      <th>trend</th>\n",
       "      <th>seasonal</th>\n",
       "      <th>trend_ma_100</th>\n",
       "      <th>diff</th>\n",
       "      <th>diff_ma_6</th>\n",
       "      <th>diff_ma_24</th>\n",
       "      <th>day</th>\n",
       "      <th>dayofweek</th>\n",
       "      <th>lag_1</th>\n",
       "      <th>lag_2</th>\n",
       "      <th>lag_3</th>\n",
       "      <th>lag_4</th>\n",
       "      <th>MA_100</th>\n",
       "    </tr>\n",
       "    <tr>\n",
       "      <th>datetime</th>\n",
       "      <th></th>\n",
       "      <th></th>\n",
       "      <th></th>\n",
       "      <th></th>\n",
       "      <th></th>\n",
       "      <th></th>\n",
       "      <th></th>\n",
       "      <th></th>\n",
       "      <th></th>\n",
       "      <th></th>\n",
       "      <th></th>\n",
       "      <th></th>\n",
       "      <th></th>\n",
       "      <th></th>\n",
       "    </tr>\n",
       "  </thead>\n",
       "  <tbody>\n",
       "    <tr>\n",
       "      <th>2018-03-01 00:00:00</th>\n",
       "      <td>124</td>\n",
       "      <td>NaN</td>\n",
       "      <td>60.248112</td>\n",
       "      <td>NaN</td>\n",
       "      <td>NaN</td>\n",
       "      <td>NaN</td>\n",
       "      <td>NaN</td>\n",
       "      <td>1</td>\n",
       "      <td>3</td>\n",
       "      <td>NaN</td>\n",
       "      <td>NaN</td>\n",
       "      <td>NaN</td>\n",
       "      <td>NaN</td>\n",
       "      <td>NaN</td>\n",
       "    </tr>\n",
       "    <tr>\n",
       "      <th>2018-03-01 01:00:00</th>\n",
       "      <td>85</td>\n",
       "      <td>NaN</td>\n",
       "      <td>20.177074</td>\n",
       "      <td>NaN</td>\n",
       "      <td>NaN</td>\n",
       "      <td>NaN</td>\n",
       "      <td>NaN</td>\n",
       "      <td>1</td>\n",
       "      <td>3</td>\n",
       "      <td>124.0</td>\n",
       "      <td>NaN</td>\n",
       "      <td>NaN</td>\n",
       "      <td>NaN</td>\n",
       "      <td>NaN</td>\n",
       "    </tr>\n",
       "    <tr>\n",
       "      <th>2018-03-01 02:00:00</th>\n",
       "      <td>71</td>\n",
       "      <td>NaN</td>\n",
       "      <td>28.982743</td>\n",
       "      <td>NaN</td>\n",
       "      <td>-39.0</td>\n",
       "      <td>NaN</td>\n",
       "      <td>NaN</td>\n",
       "      <td>1</td>\n",
       "      <td>3</td>\n",
       "      <td>85.0</td>\n",
       "      <td>124.0</td>\n",
       "      <td>NaN</td>\n",
       "      <td>NaN</td>\n",
       "      <td>NaN</td>\n",
       "    </tr>\n",
       "    <tr>\n",
       "      <th>2018-03-01 03:00:00</th>\n",
       "      <td>66</td>\n",
       "      <td>NaN</td>\n",
       "      <td>17.885407</td>\n",
       "      <td>NaN</td>\n",
       "      <td>-14.0</td>\n",
       "      <td>NaN</td>\n",
       "      <td>NaN</td>\n",
       "      <td>1</td>\n",
       "      <td>3</td>\n",
       "      <td>71.0</td>\n",
       "      <td>85.0</td>\n",
       "      <td>124.0</td>\n",
       "      <td>NaN</td>\n",
       "      <td>NaN</td>\n",
       "    </tr>\n",
       "    <tr>\n",
       "      <th>2018-03-01 04:00:00</th>\n",
       "      <td>43</td>\n",
       "      <td>NaN</td>\n",
       "      <td>2.791145</td>\n",
       "      <td>NaN</td>\n",
       "      <td>-5.0</td>\n",
       "      <td>NaN</td>\n",
       "      <td>NaN</td>\n",
       "      <td>1</td>\n",
       "      <td>3</td>\n",
       "      <td>66.0</td>\n",
       "      <td>71.0</td>\n",
       "      <td>85.0</td>\n",
       "      <td>124.0</td>\n",
       "      <td>NaN</td>\n",
       "    </tr>\n",
       "    <tr>\n",
       "      <th>2018-03-01 05:00:00</th>\n",
       "      <td>6</td>\n",
       "      <td>NaN</td>\n",
       "      <td>-41.563022</td>\n",
       "      <td>NaN</td>\n",
       "      <td>-23.0</td>\n",
       "      <td>NaN</td>\n",
       "      <td>NaN</td>\n",
       "      <td>1</td>\n",
       "      <td>3</td>\n",
       "      <td>43.0</td>\n",
       "      <td>66.0</td>\n",
       "      <td>71.0</td>\n",
       "      <td>85.0</td>\n",
       "      <td>NaN</td>\n",
       "    </tr>\n",
       "    <tr>\n",
       "      <th>2018-03-01 06:00:00</th>\n",
       "      <td>12</td>\n",
       "      <td>NaN</td>\n",
       "      <td>-59.182671</td>\n",
       "      <td>NaN</td>\n",
       "      <td>-37.0</td>\n",
       "      <td>NaN</td>\n",
       "      <td>NaN</td>\n",
       "      <td>1</td>\n",
       "      <td>3</td>\n",
       "      <td>6.0</td>\n",
       "      <td>43.0</td>\n",
       "      <td>66.0</td>\n",
       "      <td>71.0</td>\n",
       "      <td>NaN</td>\n",
       "    </tr>\n",
       "    <tr>\n",
       "      <th>2018-03-01 07:00:00</th>\n",
       "      <td>15</td>\n",
       "      <td>NaN</td>\n",
       "      <td>-55.104461</td>\n",
       "      <td>NaN</td>\n",
       "      <td>6.0</td>\n",
       "      <td>NaN</td>\n",
       "      <td>NaN</td>\n",
       "      <td>1</td>\n",
       "      <td>3</td>\n",
       "      <td>12.0</td>\n",
       "      <td>6.0</td>\n",
       "      <td>43.0</td>\n",
       "      <td>66.0</td>\n",
       "      <td>NaN</td>\n",
       "    </tr>\n",
       "    <tr>\n",
       "      <th>2018-03-01 08:00:00</th>\n",
       "      <td>34</td>\n",
       "      <td>NaN</td>\n",
       "      <td>-11.212840</td>\n",
       "      <td>NaN</td>\n",
       "      <td>3.0</td>\n",
       "      <td>-18.666667</td>\n",
       "      <td>NaN</td>\n",
       "      <td>1</td>\n",
       "      <td>3</td>\n",
       "      <td>15.0</td>\n",
       "      <td>12.0</td>\n",
       "      <td>6.0</td>\n",
       "      <td>43.0</td>\n",
       "      <td>NaN</td>\n",
       "    </tr>\n",
       "    <tr>\n",
       "      <th>2018-03-01 09:00:00</th>\n",
       "      <td>69</td>\n",
       "      <td>NaN</td>\n",
       "      <td>4.443581</td>\n",
       "      <td>NaN</td>\n",
       "      <td>19.0</td>\n",
       "      <td>-11.666667</td>\n",
       "      <td>NaN</td>\n",
       "      <td>1</td>\n",
       "      <td>3</td>\n",
       "      <td>34.0</td>\n",
       "      <td>15.0</td>\n",
       "      <td>12.0</td>\n",
       "      <td>6.0</td>\n",
       "      <td>NaN</td>\n",
       "    </tr>\n",
       "  </tbody>\n",
       "</table>\n",
       "</div>"
      ],
      "text/plain": [
       "                     num_orders  trend   seasonal  trend_ma_100  diff  \\\n",
       "datetime                                                                \n",
       "2018-03-01 00:00:00         124    NaN  60.248112           NaN   NaN   \n",
       "2018-03-01 01:00:00          85    NaN  20.177074           NaN   NaN   \n",
       "2018-03-01 02:00:00          71    NaN  28.982743           NaN -39.0   \n",
       "2018-03-01 03:00:00          66    NaN  17.885407           NaN -14.0   \n",
       "2018-03-01 04:00:00          43    NaN   2.791145           NaN  -5.0   \n",
       "2018-03-01 05:00:00           6    NaN -41.563022           NaN -23.0   \n",
       "2018-03-01 06:00:00          12    NaN -59.182671           NaN -37.0   \n",
       "2018-03-01 07:00:00          15    NaN -55.104461           NaN   6.0   \n",
       "2018-03-01 08:00:00          34    NaN -11.212840           NaN   3.0   \n",
       "2018-03-01 09:00:00          69    NaN   4.443581           NaN  19.0   \n",
       "\n",
       "                     diff_ma_6  diff_ma_24  day  dayofweek  lag_1  lag_2  \\\n",
       "datetime                                                                   \n",
       "2018-03-01 00:00:00        NaN         NaN    1          3    NaN    NaN   \n",
       "2018-03-01 01:00:00        NaN         NaN    1          3  124.0    NaN   \n",
       "2018-03-01 02:00:00        NaN         NaN    1          3   85.0  124.0   \n",
       "2018-03-01 03:00:00        NaN         NaN    1          3   71.0   85.0   \n",
       "2018-03-01 04:00:00        NaN         NaN    1          3   66.0   71.0   \n",
       "2018-03-01 05:00:00        NaN         NaN    1          3   43.0   66.0   \n",
       "2018-03-01 06:00:00        NaN         NaN    1          3    6.0   43.0   \n",
       "2018-03-01 07:00:00        NaN         NaN    1          3   12.0    6.0   \n",
       "2018-03-01 08:00:00 -18.666667         NaN    1          3   15.0   12.0   \n",
       "2018-03-01 09:00:00 -11.666667         NaN    1          3   34.0   15.0   \n",
       "\n",
       "                     lag_3  lag_4  MA_100  \n",
       "datetime                                   \n",
       "2018-03-01 00:00:00    NaN    NaN     NaN  \n",
       "2018-03-01 01:00:00    NaN    NaN     NaN  \n",
       "2018-03-01 02:00:00    NaN    NaN     NaN  \n",
       "2018-03-01 03:00:00  124.0    NaN     NaN  \n",
       "2018-03-01 04:00:00   85.0  124.0     NaN  \n",
       "2018-03-01 05:00:00   71.0   85.0     NaN  \n",
       "2018-03-01 06:00:00   66.0   71.0     NaN  \n",
       "2018-03-01 07:00:00   43.0   66.0     NaN  \n",
       "2018-03-01 08:00:00    6.0   43.0     NaN  \n",
       "2018-03-01 09:00:00   12.0    6.0     NaN  "
      ]
     },
     "execution_count": 17,
     "metadata": {},
     "output_type": "execute_result"
    }
   ],
   "source": [
    "df.head(10)\n"
   ]
  },
  {
   "cell_type": "markdown",
   "metadata": {},
   "source": [
    "### Разбивка данных\n",
    "Выделим под тестовую выборку 10% данных"
   ]
  },
  {
   "cell_type": "code",
   "execution_count": 18,
   "metadata": {},
   "outputs": [],
   "source": [
    "train, test = train_test_split(df, shuffle=False, test_size=0.1)\n",
    "train = train.dropna()\n",
    "\n",
    "X_train = train.drop('num_orders',axis=1)\n",
    "y_train = train['num_orders']\n",
    "X_test = test.drop('num_orders',axis=1)\n",
    "y_test = test['num_orders']"
   ]
  },
  {
   "cell_type": "code",
   "execution_count": 19,
   "metadata": {},
   "outputs": [
    {
     "data": {
      "text/html": [
       "<div>\n",
       "<style scoped>\n",
       "    .dataframe tbody tr th:only-of-type {\n",
       "        vertical-align: middle;\n",
       "    }\n",
       "\n",
       "    .dataframe tbody tr th {\n",
       "        vertical-align: top;\n",
       "    }\n",
       "\n",
       "    .dataframe thead th {\n",
       "        text-align: right;\n",
       "    }\n",
       "</style>\n",
       "<table border=\"1\" class=\"dataframe\">\n",
       "  <thead>\n",
       "    <tr style=\"text-align: right;\">\n",
       "      <th></th>\n",
       "      <th>trend</th>\n",
       "      <th>seasonal</th>\n",
       "      <th>trend_ma_100</th>\n",
       "      <th>diff</th>\n",
       "      <th>diff_ma_6</th>\n",
       "      <th>diff_ma_24</th>\n",
       "      <th>day</th>\n",
       "      <th>dayofweek</th>\n",
       "      <th>lag_1</th>\n",
       "      <th>lag_2</th>\n",
       "      <th>lag_3</th>\n",
       "      <th>lag_4</th>\n",
       "      <th>MA_100</th>\n",
       "    </tr>\n",
       "    <tr>\n",
       "      <th>datetime</th>\n",
       "      <th></th>\n",
       "      <th></th>\n",
       "      <th></th>\n",
       "      <th></th>\n",
       "      <th></th>\n",
       "      <th></th>\n",
       "      <th></th>\n",
       "      <th></th>\n",
       "      <th></th>\n",
       "      <th></th>\n",
       "      <th></th>\n",
       "      <th></th>\n",
       "      <th></th>\n",
       "    </tr>\n",
       "  </thead>\n",
       "  <tbody>\n",
       "    <tr>\n",
       "      <th>2018-08-29 22:00:00</th>\n",
       "      <td>166.520833</td>\n",
       "      <td>13.596814</td>\n",
       "      <td>147.652083</td>\n",
       "      <td>-21.0</td>\n",
       "      <td>-0.833333</td>\n",
       "      <td>4.041667</td>\n",
       "      <td>29</td>\n",
       "      <td>2</td>\n",
       "      <td>170.0</td>\n",
       "      <td>191.0</td>\n",
       "      <td>169.0</td>\n",
       "      <td>120.0</td>\n",
       "      <td>147.70</td>\n",
       "    </tr>\n",
       "    <tr>\n",
       "      <th>2018-08-29 23:00:00</th>\n",
       "      <td>169.166667</td>\n",
       "      <td>25.000503</td>\n",
       "      <td>147.988125</td>\n",
       "      <td>7.0</td>\n",
       "      <td>1.166667</td>\n",
       "      <td>-0.791667</td>\n",
       "      <td>29</td>\n",
       "      <td>2</td>\n",
       "      <td>177.0</td>\n",
       "      <td>170.0</td>\n",
       "      <td>191.0</td>\n",
       "      <td>169.0</td>\n",
       "      <td>148.24</td>\n",
       "    </tr>\n",
       "    <tr>\n",
       "      <th>2018-08-30 00:00:00</th>\n",
       "      <td>169.604167</td>\n",
       "      <td>60.248112</td>\n",
       "      <td>148.331250</td>\n",
       "      <td>88.0</td>\n",
       "      <td>-7.166667</td>\n",
       "      <td>0.708333</td>\n",
       "      <td>30</td>\n",
       "      <td>3</td>\n",
       "      <td>265.0</td>\n",
       "      <td>177.0</td>\n",
       "      <td>170.0</td>\n",
       "      <td>191.0</td>\n",
       "      <td>149.66</td>\n",
       "    </tr>\n",
       "    <tr>\n",
       "      <th>2018-08-30 01:00:00</th>\n",
       "      <td>169.250000</td>\n",
       "      <td>20.177074</td>\n",
       "      <td>148.661667</td>\n",
       "      <td>-49.0</td>\n",
       "      <td>17.666667</td>\n",
       "      <td>3.583333</td>\n",
       "      <td>30</td>\n",
       "      <td>3</td>\n",
       "      <td>216.0</td>\n",
       "      <td>265.0</td>\n",
       "      <td>177.0</td>\n",
       "      <td>170.0</td>\n",
       "      <td>150.77</td>\n",
       "    </tr>\n",
       "    <tr>\n",
       "      <th>2018-08-30 02:00:00</th>\n",
       "      <td>169.770833</td>\n",
       "      <td>28.982743</td>\n",
       "      <td>149.004167</td>\n",
       "      <td>1.0</td>\n",
       "      <td>16.000000</td>\n",
       "      <td>-0.750000</td>\n",
       "      <td>30</td>\n",
       "      <td>3</td>\n",
       "      <td>217.0</td>\n",
       "      <td>216.0</td>\n",
       "      <td>265.0</td>\n",
       "      <td>177.0</td>\n",
       "      <td>151.32</td>\n",
       "    </tr>\n",
       "    <tr>\n",
       "      <th>2018-08-30 03:00:00</th>\n",
       "      <td>167.979167</td>\n",
       "      <td>17.885407</td>\n",
       "      <td>149.336875</td>\n",
       "      <td>15.0</td>\n",
       "      <td>8.000000</td>\n",
       "      <td>2.708333</td>\n",
       "      <td>30</td>\n",
       "      <td>3</td>\n",
       "      <td>232.0</td>\n",
       "      <td>217.0</td>\n",
       "      <td>216.0</td>\n",
       "      <td>265.0</td>\n",
       "      <td>152.09</td>\n",
       "    </tr>\n",
       "    <tr>\n",
       "      <th>2018-08-30 04:00:00</th>\n",
       "      <td>165.645833</td>\n",
       "      <td>2.791145</td>\n",
       "      <td>149.645625</td>\n",
       "      <td>-39.0</td>\n",
       "      <td>6.833333</td>\n",
       "      <td>2.875000</td>\n",
       "      <td>30</td>\n",
       "      <td>3</td>\n",
       "      <td>193.0</td>\n",
       "      <td>232.0</td>\n",
       "      <td>217.0</td>\n",
       "      <td>216.0</td>\n",
       "      <td>152.28</td>\n",
       "    </tr>\n",
       "    <tr>\n",
       "      <th>2018-08-30 05:00:00</th>\n",
       "      <td>166.208333</td>\n",
       "      <td>-41.563022</td>\n",
       "      <td>149.953750</td>\n",
       "      <td>-7.0</td>\n",
       "      <td>3.833333</td>\n",
       "      <td>2.791667</td>\n",
       "      <td>30</td>\n",
       "      <td>3</td>\n",
       "      <td>186.0</td>\n",
       "      <td>193.0</td>\n",
       "      <td>232.0</td>\n",
       "      <td>217.0</td>\n",
       "      <td>151.33</td>\n",
       "    </tr>\n",
       "    <tr>\n",
       "      <th>2018-08-30 06:00:00</th>\n",
       "      <td>170.729167</td>\n",
       "      <td>-59.182671</td>\n",
       "      <td>150.293958</td>\n",
       "      <td>-130.0</td>\n",
       "      <td>1.500000</td>\n",
       "      <td>2.083333</td>\n",
       "      <td>30</td>\n",
       "      <td>3</td>\n",
       "      <td>56.0</td>\n",
       "      <td>186.0</td>\n",
       "      <td>193.0</td>\n",
       "      <td>232.0</td>\n",
       "      <td>150.33</td>\n",
       "    </tr>\n",
       "    <tr>\n",
       "      <th>2018-08-30 07:00:00</th>\n",
       "      <td>175.729167</td>\n",
       "      <td>-55.104461</td>\n",
       "      <td>150.671667</td>\n",
       "      <td>-43.0</td>\n",
       "      <td>-34.833333</td>\n",
       "      <td>0.041667</td>\n",
       "      <td>30</td>\n",
       "      <td>3</td>\n",
       "      <td>13.0</td>\n",
       "      <td>56.0</td>\n",
       "      <td>186.0</td>\n",
       "      <td>193.0</td>\n",
       "      <td>148.98</td>\n",
       "    </tr>\n",
       "    <tr>\n",
       "      <th>2018-08-30 08:00:00</th>\n",
       "      <td>174.895833</td>\n",
       "      <td>-11.212840</td>\n",
       "      <td>151.035625</td>\n",
       "      <td>26.0</td>\n",
       "      <td>-33.833333</td>\n",
       "      <td>-0.958333</td>\n",
       "      <td>30</td>\n",
       "      <td>3</td>\n",
       "      <td>39.0</td>\n",
       "      <td>13.0</td>\n",
       "      <td>56.0</td>\n",
       "      <td>186.0</td>\n",
       "      <td>146.70</td>\n",
       "    </tr>\n",
       "    <tr>\n",
       "      <th>2018-08-30 09:00:00</th>\n",
       "      <td>171.854167</td>\n",
       "      <td>4.443581</td>\n",
       "      <td>151.378958</td>\n",
       "      <td>127.0</td>\n",
       "      <td>-29.666667</td>\n",
       "      <td>-0.875000</td>\n",
       "      <td>30</td>\n",
       "      <td>3</td>\n",
       "      <td>166.0</td>\n",
       "      <td>39.0</td>\n",
       "      <td>13.0</td>\n",
       "      <td>56.0</td>\n",
       "      <td>147.22</td>\n",
       "    </tr>\n",
       "    <tr>\n",
       "      <th>2018-08-30 10:00:00</th>\n",
       "      <td>171.416667</td>\n",
       "      <td>8.759269</td>\n",
       "      <td>151.723750</td>\n",
       "      <td>60.0</td>\n",
       "      <td>-11.000000</td>\n",
       "      <td>0.125000</td>\n",
       "      <td>30</td>\n",
       "      <td>3</td>\n",
       "      <td>226.0</td>\n",
       "      <td>166.0</td>\n",
       "      <td>39.0</td>\n",
       "      <td>13.0</td>\n",
       "      <td>149.08</td>\n",
       "    </tr>\n",
       "    <tr>\n",
       "      <th>2018-08-30 11:00:00</th>\n",
       "      <td>171.604167</td>\n",
       "      <td>-2.133377</td>\n",
       "      <td>152.067292</td>\n",
       "      <td>1.0</td>\n",
       "      <td>5.500000</td>\n",
       "      <td>3.458333</td>\n",
       "      <td>30</td>\n",
       "      <td>3</td>\n",
       "      <td>227.0</td>\n",
       "      <td>226.0</td>\n",
       "      <td>166.0</td>\n",
       "      <td>39.0</td>\n",
       "      <td>151.02</td>\n",
       "    </tr>\n",
       "    <tr>\n",
       "      <th>2018-08-30 12:00:00</th>\n",
       "      <td>170.812500</td>\n",
       "      <td>-16.721606</td>\n",
       "      <td>152.401458</td>\n",
       "      <td>-71.0</td>\n",
       "      <td>6.833333</td>\n",
       "      <td>1.833333</td>\n",
       "      <td>30</td>\n",
       "      <td>3</td>\n",
       "      <td>156.0</td>\n",
       "      <td>227.0</td>\n",
       "      <td>226.0</td>\n",
       "      <td>166.0</td>\n",
       "      <td>152.08</td>\n",
       "    </tr>\n",
       "    <tr>\n",
       "      <th>2018-08-30 13:00:00</th>\n",
       "      <td>171.666667</td>\n",
       "      <td>-13.352412</td>\n",
       "      <td>152.740000</td>\n",
       "      <td>17.0</td>\n",
       "      <td>16.666667</td>\n",
       "      <td>-0.958333</td>\n",
       "      <td>30</td>\n",
       "      <td>3</td>\n",
       "      <td>173.0</td>\n",
       "      <td>156.0</td>\n",
       "      <td>227.0</td>\n",
       "      <td>226.0</td>\n",
       "      <td>152.57</td>\n",
       "    </tr>\n",
       "    <tr>\n",
       "      <th>2018-08-30 14:00:00</th>\n",
       "      <td>172.437500</td>\n",
       "      <td>-9.191665</td>\n",
       "      <td>153.094167</td>\n",
       "      <td>-19.0</td>\n",
       "      <td>26.666667</td>\n",
       "      <td>0.250000</td>\n",
       "      <td>30</td>\n",
       "      <td>3</td>\n",
       "      <td>154.0</td>\n",
       "      <td>173.0</td>\n",
       "      <td>156.0</td>\n",
       "      <td>227.0</td>\n",
       "      <td>152.64</td>\n",
       "    </tr>\n",
       "    <tr>\n",
       "      <th>2018-08-30 15:00:00</th>\n",
       "      <td>171.916667</td>\n",
       "      <td>3.731832</td>\n",
       "      <td>153.456667</td>\n",
       "      <td>-63.0</td>\n",
       "      <td>19.166667</td>\n",
       "      <td>0.791667</td>\n",
       "      <td>30</td>\n",
       "      <td>3</td>\n",
       "      <td>91.0</td>\n",
       "      <td>154.0</td>\n",
       "      <td>173.0</td>\n",
       "      <td>156.0</td>\n",
       "      <td>152.19</td>\n",
       "    </tr>\n",
       "    <tr>\n",
       "      <th>2018-08-30 16:00:00</th>\n",
       "      <td>169.916667</td>\n",
       "      <td>29.604100</td>\n",
       "      <td>153.787917</td>\n",
       "      <td>65.0</td>\n",
       "      <td>-12.500000</td>\n",
       "      <td>-4.375000</td>\n",
       "      <td>30</td>\n",
       "      <td>3</td>\n",
       "      <td>156.0</td>\n",
       "      <td>91.0</td>\n",
       "      <td>154.0</td>\n",
       "      <td>173.0</td>\n",
       "      <td>152.79</td>\n",
       "    </tr>\n",
       "    <tr>\n",
       "      <th>2018-08-30 17:00:00</th>\n",
       "      <td>169.666667</td>\n",
       "      <td>7.920016</td>\n",
       "      <td>154.107083</td>\n",
       "      <td>98.0</td>\n",
       "      <td>-11.666667</td>\n",
       "      <td>-0.291667</td>\n",
       "      <td>30</td>\n",
       "      <td>3</td>\n",
       "      <td>254.0</td>\n",
       "      <td>156.0</td>\n",
       "      <td>91.0</td>\n",
       "      <td>154.0</td>\n",
       "      <td>153.82</td>\n",
       "    </tr>\n",
       "    <tr>\n",
       "      <th>2018-08-30 18:00:00</th>\n",
       "      <td>171.833333</td>\n",
       "      <td>-15.527958</td>\n",
       "      <td>154.437917</td>\n",
       "      <td>88.0</td>\n",
       "      <td>4.500000</td>\n",
       "      <td>1.416667</td>\n",
       "      <td>30</td>\n",
       "      <td>3</td>\n",
       "      <td>342.0</td>\n",
       "      <td>254.0</td>\n",
       "      <td>156.0</td>\n",
       "      <td>91.0</td>\n",
       "      <td>156.35</td>\n",
       "    </tr>\n",
       "    <tr>\n",
       "      <th>2018-08-30 19:00:00</th>\n",
       "      <td>172.750000</td>\n",
       "      <td>-7.124270</td>\n",
       "      <td>154.710000</td>\n",
       "      <td>-165.0</td>\n",
       "      <td>31.000000</td>\n",
       "      <td>7.625000</td>\n",
       "      <td>30</td>\n",
       "      <td>3</td>\n",
       "      <td>177.0</td>\n",
       "      <td>342.0</td>\n",
       "      <td>254.0</td>\n",
       "      <td>156.0</td>\n",
       "      <td>156.48</td>\n",
       "    </tr>\n",
       "    <tr>\n",
       "      <th>2018-08-30 20:00:00</th>\n",
       "      <td>173.354167</td>\n",
       "      <td>-2.696560</td>\n",
       "      <td>154.946250</td>\n",
       "      <td>-105.0</td>\n",
       "      <td>0.666667</td>\n",
       "      <td>2.375000</td>\n",
       "      <td>30</td>\n",
       "      <td>3</td>\n",
       "      <td>72.0</td>\n",
       "      <td>177.0</td>\n",
       "      <td>342.0</td>\n",
       "      <td>254.0</td>\n",
       "      <td>155.78</td>\n",
       "    </tr>\n",
       "    <tr>\n",
       "      <th>2018-08-30 21:00:00</th>\n",
       "      <td>173.833333</td>\n",
       "      <td>10.670243</td>\n",
       "      <td>155.161875</td>\n",
       "      <td>70.0</td>\n",
       "      <td>-13.666667</td>\n",
       "      <td>-4.041667</td>\n",
       "      <td>30</td>\n",
       "      <td>3</td>\n",
       "      <td>142.0</td>\n",
       "      <td>72.0</td>\n",
       "      <td>177.0</td>\n",
       "      <td>342.0</td>\n",
       "      <td>155.77</td>\n",
       "    </tr>\n",
       "    <tr>\n",
       "      <th>2018-08-30 22:00:00</th>\n",
       "      <td>173.687500</td>\n",
       "      <td>13.596814</td>\n",
       "      <td>155.333750</td>\n",
       "      <td>56.0</td>\n",
       "      <td>8.500000</td>\n",
       "      <td>-2.041667</td>\n",
       "      <td>30</td>\n",
       "      <td>3</td>\n",
       "      <td>198.0</td>\n",
       "      <td>142.0</td>\n",
       "      <td>72.0</td>\n",
       "      <td>177.0</td>\n",
       "      <td>156.06</td>\n",
       "    </tr>\n",
       "    <tr>\n",
       "      <th>2018-08-30 23:00:00</th>\n",
       "      <td>172.458333</td>\n",
       "      <td>25.000503</td>\n",
       "      <td>155.489167</td>\n",
       "      <td>-40.0</td>\n",
       "      <td>7.000000</td>\n",
       "      <td>1.166667</td>\n",
       "      <td>30</td>\n",
       "      <td>3</td>\n",
       "      <td>158.0</td>\n",
       "      <td>198.0</td>\n",
       "      <td>142.0</td>\n",
       "      <td>72.0</td>\n",
       "      <td>156.37</td>\n",
       "    </tr>\n",
       "    <tr>\n",
       "      <th>2018-08-31 00:00:00</th>\n",
       "      <td>171.937500</td>\n",
       "      <td>60.248112</td>\n",
       "      <td>155.642500</td>\n",
       "      <td>88.0</td>\n",
       "      <td>-16.000000</td>\n",
       "      <td>-0.791667</td>\n",
       "      <td>31</td>\n",
       "      <td>4</td>\n",
       "      <td>246.0</td>\n",
       "      <td>158.0</td>\n",
       "      <td>198.0</td>\n",
       "      <td>142.0</td>\n",
       "      <td>157.57</td>\n",
       "    </tr>\n",
       "    <tr>\n",
       "      <th>2018-08-31 01:00:00</th>\n",
       "      <td>171.395833</td>\n",
       "      <td>20.177074</td>\n",
       "      <td>155.791667</td>\n",
       "      <td>30.0</td>\n",
       "      <td>-16.000000</td>\n",
       "      <td>-0.791667</td>\n",
       "      <td>31</td>\n",
       "      <td>4</td>\n",
       "      <td>276.0</td>\n",
       "      <td>246.0</td>\n",
       "      <td>158.0</td>\n",
       "      <td>198.0</td>\n",
       "      <td>159.11</td>\n",
       "    </tr>\n",
       "    <tr>\n",
       "      <th>2018-08-31 02:00:00</th>\n",
       "      <td>170.875000</td>\n",
       "      <td>28.982743</td>\n",
       "      <td>155.928542</td>\n",
       "      <td>-82.0</td>\n",
       "      <td>16.500000</td>\n",
       "      <td>2.500000</td>\n",
       "      <td>31</td>\n",
       "      <td>4</td>\n",
       "      <td>194.0</td>\n",
       "      <td>276.0</td>\n",
       "      <td>246.0</td>\n",
       "      <td>158.0</td>\n",
       "      <td>159.98</td>\n",
       "    </tr>\n",
       "    <tr>\n",
       "      <th>2018-08-31 03:00:00</th>\n",
       "      <td>172.000000</td>\n",
       "      <td>17.885407</td>\n",
       "      <td>156.063958</td>\n",
       "      <td>36.0</td>\n",
       "      <td>20.333333</td>\n",
       "      <td>-0.958333</td>\n",
       "      <td>31</td>\n",
       "      <td>4</td>\n",
       "      <td>230.0</td>\n",
       "      <td>194.0</td>\n",
       "      <td>276.0</td>\n",
       "      <td>246.0</td>\n",
       "      <td>160.83</td>\n",
       "    </tr>\n",
       "    <tr>\n",
       "      <th>2018-08-31 04:00:00</th>\n",
       "      <td>172.041667</td>\n",
       "      <td>2.791145</td>\n",
       "      <td>156.178542</td>\n",
       "      <td>-131.0</td>\n",
       "      <td>14.666667</td>\n",
       "      <td>-0.083333</td>\n",
       "      <td>31</td>\n",
       "      <td>4</td>\n",
       "      <td>99.0</td>\n",
       "      <td>230.0</td>\n",
       "      <td>194.0</td>\n",
       "      <td>276.0</td>\n",
       "      <td>159.44</td>\n",
       "    </tr>\n",
       "    <tr>\n",
       "      <th>2018-08-31 05:00:00</th>\n",
       "      <td>170.020833</td>\n",
       "      <td>-41.563022</td>\n",
       "      <td>156.264167</td>\n",
       "      <td>169.0</td>\n",
       "      <td>-16.500000</td>\n",
       "      <td>-3.916667</td>\n",
       "      <td>31</td>\n",
       "      <td>4</td>\n",
       "      <td>268.0</td>\n",
       "      <td>99.0</td>\n",
       "      <td>230.0</td>\n",
       "      <td>194.0</td>\n",
       "      <td>159.49</td>\n",
       "    </tr>\n",
       "    <tr>\n",
       "      <th>2018-08-31 06:00:00</th>\n",
       "      <td>166.229167</td>\n",
       "      <td>-59.182671</td>\n",
       "      <td>156.307292</td>\n",
       "      <td>-190.0</td>\n",
       "      <td>18.333333</td>\n",
       "      <td>3.416667</td>\n",
       "      <td>31</td>\n",
       "      <td>4</td>\n",
       "      <td>78.0</td>\n",
       "      <td>268.0</td>\n",
       "      <td>99.0</td>\n",
       "      <td>230.0</td>\n",
       "      <td>158.05</td>\n",
       "    </tr>\n",
       "    <tr>\n",
       "      <th>2018-08-31 07:00:00</th>\n",
       "      <td>164.250000</td>\n",
       "      <td>-55.104461</td>\n",
       "      <td>156.328542</td>\n",
       "      <td>-43.0</td>\n",
       "      <td>-28.000000</td>\n",
       "      <td>0.916667</td>\n",
       "      <td>31</td>\n",
       "      <td>4</td>\n",
       "      <td>35.0</td>\n",
       "      <td>78.0</td>\n",
       "      <td>268.0</td>\n",
       "      <td>99.0</td>\n",
       "      <td>154.32</td>\n",
       "    </tr>\n",
       "    <tr>\n",
       "      <th>2018-08-31 08:00:00</th>\n",
       "      <td>166.208333</td>\n",
       "      <td>-11.212840</td>\n",
       "      <td>156.366250</td>\n",
       "      <td>11.0</td>\n",
       "      <td>-40.166667</td>\n",
       "      <td>0.916667</td>\n",
       "      <td>31</td>\n",
       "      <td>4</td>\n",
       "      <td>46.0</td>\n",
       "      <td>35.0</td>\n",
       "      <td>78.0</td>\n",
       "      <td>268.0</td>\n",
       "      <td>152.70</td>\n",
       "    </tr>\n",
       "    <tr>\n",
       "      <th>2018-08-31 09:00:00</th>\n",
       "      <td>167.791667</td>\n",
       "      <td>4.443581</td>\n",
       "      <td>156.404167</td>\n",
       "      <td>136.0</td>\n",
       "      <td>-24.666667</td>\n",
       "      <td>0.291667</td>\n",
       "      <td>31</td>\n",
       "      <td>4</td>\n",
       "      <td>182.0</td>\n",
       "      <td>46.0</td>\n",
       "      <td>35.0</td>\n",
       "      <td>78.0</td>\n",
       "      <td>151.57</td>\n",
       "    </tr>\n",
       "    <tr>\n",
       "      <th>2018-08-31 10:00:00</th>\n",
       "      <td>167.229167</td>\n",
       "      <td>8.759269</td>\n",
       "      <td>156.429167</td>\n",
       "      <td>21.0</td>\n",
       "      <td>-8.000000</td>\n",
       "      <td>0.666667</td>\n",
       "      <td>31</td>\n",
       "      <td>4</td>\n",
       "      <td>203.0</td>\n",
       "      <td>182.0</td>\n",
       "      <td>46.0</td>\n",
       "      <td>35.0</td>\n",
       "      <td>152.98</td>\n",
       "    </tr>\n",
       "    <tr>\n",
       "      <th>2018-08-31 11:00:00</th>\n",
       "      <td>167.770833</td>\n",
       "      <td>-2.133377</td>\n",
       "      <td>156.460208</td>\n",
       "      <td>-12.0</td>\n",
       "      <td>17.333333</td>\n",
       "      <td>-0.958333</td>\n",
       "      <td>31</td>\n",
       "      <td>4</td>\n",
       "      <td>191.0</td>\n",
       "      <td>203.0</td>\n",
       "      <td>182.0</td>\n",
       "      <td>46.0</td>\n",
       "      <td>154.58</td>\n",
       "    </tr>\n",
       "    <tr>\n",
       "      <th>2018-08-31 12:00:00</th>\n",
       "      <td>168.270833</td>\n",
       "      <td>-16.721606</td>\n",
       "      <td>156.494167</td>\n",
       "      <td>-24.0</td>\n",
       "      <td>-12.833333</td>\n",
       "      <td>-1.500000</td>\n",
       "      <td>31</td>\n",
       "      <td>4</td>\n",
       "      <td>167.0</td>\n",
       "      <td>191.0</td>\n",
       "      <td>203.0</td>\n",
       "      <td>182.0</td>\n",
       "      <td>155.88</td>\n",
       "    </tr>\n",
       "    <tr>\n",
       "      <th>2018-08-31 13:00:00</th>\n",
       "      <td>NaN</td>\n",
       "      <td>-13.352412</td>\n",
       "      <td>NaN</td>\n",
       "      <td>-31.0</td>\n",
       "      <td>14.833333</td>\n",
       "      <td>0.458333</td>\n",
       "      <td>31</td>\n",
       "      <td>4</td>\n",
       "      <td>136.0</td>\n",
       "      <td>167.0</td>\n",
       "      <td>191.0</td>\n",
       "      <td>203.0</td>\n",
       "      <td>155.93</td>\n",
       "    </tr>\n",
       "    <tr>\n",
       "      <th>2018-08-31 14:00:00</th>\n",
       "      <td>NaN</td>\n",
       "      <td>-9.191665</td>\n",
       "      <td>NaN</td>\n",
       "      <td>30.0</td>\n",
       "      <td>16.833333</td>\n",
       "      <td>-1.541667</td>\n",
       "      <td>31</td>\n",
       "      <td>4</td>\n",
       "      <td>166.0</td>\n",
       "      <td>136.0</td>\n",
       "      <td>167.0</td>\n",
       "      <td>191.0</td>\n",
       "      <td>155.85</td>\n",
       "    </tr>\n",
       "    <tr>\n",
       "      <th>2018-08-31 15:00:00</th>\n",
       "      <td>NaN</td>\n",
       "      <td>3.731832</td>\n",
       "      <td>NaN</td>\n",
       "      <td>-33.0</td>\n",
       "      <td>20.000000</td>\n",
       "      <td>0.500000</td>\n",
       "      <td>31</td>\n",
       "      <td>4</td>\n",
       "      <td>133.0</td>\n",
       "      <td>166.0</td>\n",
       "      <td>136.0</td>\n",
       "      <td>167.0</td>\n",
       "      <td>155.48</td>\n",
       "    </tr>\n",
       "    <tr>\n",
       "      <th>2018-08-31 16:00:00</th>\n",
       "      <td>NaN</td>\n",
       "      <td>29.604100</td>\n",
       "      <td>NaN</td>\n",
       "      <td>-17.0</td>\n",
       "      <td>-8.166667</td>\n",
       "      <td>1.750000</td>\n",
       "      <td>31</td>\n",
       "      <td>4</td>\n",
       "      <td>116.0</td>\n",
       "      <td>133.0</td>\n",
       "      <td>166.0</td>\n",
       "      <td>136.0</td>\n",
       "      <td>155.00</td>\n",
       "    </tr>\n",
       "    <tr>\n",
       "      <th>2018-08-31 17:00:00</th>\n",
       "      <td>NaN</td>\n",
       "      <td>7.920016</td>\n",
       "      <td>NaN</td>\n",
       "      <td>81.0</td>\n",
       "      <td>-14.500000</td>\n",
       "      <td>-1.666667</td>\n",
       "      <td>31</td>\n",
       "      <td>4</td>\n",
       "      <td>197.0</td>\n",
       "      <td>116.0</td>\n",
       "      <td>133.0</td>\n",
       "      <td>166.0</td>\n",
       "      <td>155.72</td>\n",
       "    </tr>\n",
       "    <tr>\n",
       "      <th>2018-08-31 18:00:00</th>\n",
       "      <td>NaN</td>\n",
       "      <td>-15.527958</td>\n",
       "      <td>NaN</td>\n",
       "      <td>20.0</td>\n",
       "      <td>1.000000</td>\n",
       "      <td>-2.375000</td>\n",
       "      <td>31</td>\n",
       "      <td>4</td>\n",
       "      <td>217.0</td>\n",
       "      <td>197.0</td>\n",
       "      <td>116.0</td>\n",
       "      <td>133.0</td>\n",
       "      <td>156.52</td>\n",
       "    </tr>\n",
       "    <tr>\n",
       "      <th>2018-08-31 19:00:00</th>\n",
       "      <td>NaN</td>\n",
       "      <td>-7.124270</td>\n",
       "      <td>NaN</td>\n",
       "      <td>-10.0</td>\n",
       "      <td>8.333333</td>\n",
       "      <td>-5.208333</td>\n",
       "      <td>31</td>\n",
       "      <td>4</td>\n",
       "      <td>207.0</td>\n",
       "      <td>217.0</td>\n",
       "      <td>197.0</td>\n",
       "      <td>116.0</td>\n",
       "      <td>157.33</td>\n",
       "    </tr>\n",
       "    <tr>\n",
       "      <th>2018-08-31 20:00:00</th>\n",
       "      <td>NaN</td>\n",
       "      <td>-2.696560</td>\n",
       "      <td>NaN</td>\n",
       "      <td>-71.0</td>\n",
       "      <td>11.833333</td>\n",
       "      <td>1.250000</td>\n",
       "      <td>31</td>\n",
       "      <td>4</td>\n",
       "      <td>136.0</td>\n",
       "      <td>207.0</td>\n",
       "      <td>217.0</td>\n",
       "      <td>197.0</td>\n",
       "      <td>156.74</td>\n",
       "    </tr>\n",
       "    <tr>\n",
       "      <th>2018-08-31 21:00:00</th>\n",
       "      <td>NaN</td>\n",
       "      <td>10.670243</td>\n",
       "      <td>NaN</td>\n",
       "      <td>18.0</td>\n",
       "      <td>-5.000000</td>\n",
       "      <td>2.666667</td>\n",
       "      <td>31</td>\n",
       "      <td>4</td>\n",
       "      <td>154.0</td>\n",
       "      <td>136.0</td>\n",
       "      <td>207.0</td>\n",
       "      <td>217.0</td>\n",
       "      <td>156.63</td>\n",
       "    </tr>\n",
       "    <tr>\n",
       "      <th>2018-08-31 22:00:00</th>\n",
       "      <td>NaN</td>\n",
       "      <td>13.596814</td>\n",
       "      <td>NaN</td>\n",
       "      <td>5.0</td>\n",
       "      <td>3.500000</td>\n",
       "      <td>0.500000</td>\n",
       "      <td>31</td>\n",
       "      <td>4</td>\n",
       "      <td>159.0</td>\n",
       "      <td>154.0</td>\n",
       "      <td>136.0</td>\n",
       "      <td>207.0</td>\n",
       "      <td>156.40</td>\n",
       "    </tr>\n",
       "    <tr>\n",
       "      <th>2018-08-31 23:00:00</th>\n",
       "      <td>NaN</td>\n",
       "      <td>25.000503</td>\n",
       "      <td>NaN</td>\n",
       "      <td>64.0</td>\n",
       "      <td>7.166667</td>\n",
       "      <td>-1.625000</td>\n",
       "      <td>31</td>\n",
       "      <td>4</td>\n",
       "      <td>223.0</td>\n",
       "      <td>159.0</td>\n",
       "      <td>154.0</td>\n",
       "      <td>136.0</td>\n",
       "      <td>157.52</td>\n",
       "    </tr>\n",
       "  </tbody>\n",
       "</table>\n",
       "</div>"
      ],
      "text/plain": [
       "                          trend   seasonal  trend_ma_100   diff  diff_ma_6  \\\n",
       "datetime                                                                     \n",
       "2018-08-29 22:00:00  166.520833  13.596814    147.652083  -21.0  -0.833333   \n",
       "2018-08-29 23:00:00  169.166667  25.000503    147.988125    7.0   1.166667   \n",
       "2018-08-30 00:00:00  169.604167  60.248112    148.331250   88.0  -7.166667   \n",
       "2018-08-30 01:00:00  169.250000  20.177074    148.661667  -49.0  17.666667   \n",
       "2018-08-30 02:00:00  169.770833  28.982743    149.004167    1.0  16.000000   \n",
       "2018-08-30 03:00:00  167.979167  17.885407    149.336875   15.0   8.000000   \n",
       "2018-08-30 04:00:00  165.645833   2.791145    149.645625  -39.0   6.833333   \n",
       "2018-08-30 05:00:00  166.208333 -41.563022    149.953750   -7.0   3.833333   \n",
       "2018-08-30 06:00:00  170.729167 -59.182671    150.293958 -130.0   1.500000   \n",
       "2018-08-30 07:00:00  175.729167 -55.104461    150.671667  -43.0 -34.833333   \n",
       "2018-08-30 08:00:00  174.895833 -11.212840    151.035625   26.0 -33.833333   \n",
       "2018-08-30 09:00:00  171.854167   4.443581    151.378958  127.0 -29.666667   \n",
       "2018-08-30 10:00:00  171.416667   8.759269    151.723750   60.0 -11.000000   \n",
       "2018-08-30 11:00:00  171.604167  -2.133377    152.067292    1.0   5.500000   \n",
       "2018-08-30 12:00:00  170.812500 -16.721606    152.401458  -71.0   6.833333   \n",
       "2018-08-30 13:00:00  171.666667 -13.352412    152.740000   17.0  16.666667   \n",
       "2018-08-30 14:00:00  172.437500  -9.191665    153.094167  -19.0  26.666667   \n",
       "2018-08-30 15:00:00  171.916667   3.731832    153.456667  -63.0  19.166667   \n",
       "2018-08-30 16:00:00  169.916667  29.604100    153.787917   65.0 -12.500000   \n",
       "2018-08-30 17:00:00  169.666667   7.920016    154.107083   98.0 -11.666667   \n",
       "2018-08-30 18:00:00  171.833333 -15.527958    154.437917   88.0   4.500000   \n",
       "2018-08-30 19:00:00  172.750000  -7.124270    154.710000 -165.0  31.000000   \n",
       "2018-08-30 20:00:00  173.354167  -2.696560    154.946250 -105.0   0.666667   \n",
       "2018-08-30 21:00:00  173.833333  10.670243    155.161875   70.0 -13.666667   \n",
       "2018-08-30 22:00:00  173.687500  13.596814    155.333750   56.0   8.500000   \n",
       "2018-08-30 23:00:00  172.458333  25.000503    155.489167  -40.0   7.000000   \n",
       "2018-08-31 00:00:00  171.937500  60.248112    155.642500   88.0 -16.000000   \n",
       "2018-08-31 01:00:00  171.395833  20.177074    155.791667   30.0 -16.000000   \n",
       "2018-08-31 02:00:00  170.875000  28.982743    155.928542  -82.0  16.500000   \n",
       "2018-08-31 03:00:00  172.000000  17.885407    156.063958   36.0  20.333333   \n",
       "2018-08-31 04:00:00  172.041667   2.791145    156.178542 -131.0  14.666667   \n",
       "2018-08-31 05:00:00  170.020833 -41.563022    156.264167  169.0 -16.500000   \n",
       "2018-08-31 06:00:00  166.229167 -59.182671    156.307292 -190.0  18.333333   \n",
       "2018-08-31 07:00:00  164.250000 -55.104461    156.328542  -43.0 -28.000000   \n",
       "2018-08-31 08:00:00  166.208333 -11.212840    156.366250   11.0 -40.166667   \n",
       "2018-08-31 09:00:00  167.791667   4.443581    156.404167  136.0 -24.666667   \n",
       "2018-08-31 10:00:00  167.229167   8.759269    156.429167   21.0  -8.000000   \n",
       "2018-08-31 11:00:00  167.770833  -2.133377    156.460208  -12.0  17.333333   \n",
       "2018-08-31 12:00:00  168.270833 -16.721606    156.494167  -24.0 -12.833333   \n",
       "2018-08-31 13:00:00         NaN -13.352412           NaN  -31.0  14.833333   \n",
       "2018-08-31 14:00:00         NaN  -9.191665           NaN   30.0  16.833333   \n",
       "2018-08-31 15:00:00         NaN   3.731832           NaN  -33.0  20.000000   \n",
       "2018-08-31 16:00:00         NaN  29.604100           NaN  -17.0  -8.166667   \n",
       "2018-08-31 17:00:00         NaN   7.920016           NaN   81.0 -14.500000   \n",
       "2018-08-31 18:00:00         NaN -15.527958           NaN   20.0   1.000000   \n",
       "2018-08-31 19:00:00         NaN  -7.124270           NaN  -10.0   8.333333   \n",
       "2018-08-31 20:00:00         NaN  -2.696560           NaN  -71.0  11.833333   \n",
       "2018-08-31 21:00:00         NaN  10.670243           NaN   18.0  -5.000000   \n",
       "2018-08-31 22:00:00         NaN  13.596814           NaN    5.0   3.500000   \n",
       "2018-08-31 23:00:00         NaN  25.000503           NaN   64.0   7.166667   \n",
       "\n",
       "                     diff_ma_24  day  dayofweek  lag_1  lag_2  lag_3  lag_4  \\\n",
       "datetime                                                                      \n",
       "2018-08-29 22:00:00    4.041667   29          2  170.0  191.0  169.0  120.0   \n",
       "2018-08-29 23:00:00   -0.791667   29          2  177.0  170.0  191.0  169.0   \n",
       "2018-08-30 00:00:00    0.708333   30          3  265.0  177.0  170.0  191.0   \n",
       "2018-08-30 01:00:00    3.583333   30          3  216.0  265.0  177.0  170.0   \n",
       "2018-08-30 02:00:00   -0.750000   30          3  217.0  216.0  265.0  177.0   \n",
       "2018-08-30 03:00:00    2.708333   30          3  232.0  217.0  216.0  265.0   \n",
       "2018-08-30 04:00:00    2.875000   30          3  193.0  232.0  217.0  216.0   \n",
       "2018-08-30 05:00:00    2.791667   30          3  186.0  193.0  232.0  217.0   \n",
       "2018-08-30 06:00:00    2.083333   30          3   56.0  186.0  193.0  232.0   \n",
       "2018-08-30 07:00:00    0.041667   30          3   13.0   56.0  186.0  193.0   \n",
       "2018-08-30 08:00:00   -0.958333   30          3   39.0   13.0   56.0  186.0   \n",
       "2018-08-30 09:00:00   -0.875000   30          3  166.0   39.0   13.0   56.0   \n",
       "2018-08-30 10:00:00    0.125000   30          3  226.0  166.0   39.0   13.0   \n",
       "2018-08-30 11:00:00    3.458333   30          3  227.0  226.0  166.0   39.0   \n",
       "2018-08-30 12:00:00    1.833333   30          3  156.0  227.0  226.0  166.0   \n",
       "2018-08-30 13:00:00   -0.958333   30          3  173.0  156.0  227.0  226.0   \n",
       "2018-08-30 14:00:00    0.250000   30          3  154.0  173.0  156.0  227.0   \n",
       "2018-08-30 15:00:00    0.791667   30          3   91.0  154.0  173.0  156.0   \n",
       "2018-08-30 16:00:00   -4.375000   30          3  156.0   91.0  154.0  173.0   \n",
       "2018-08-30 17:00:00   -0.291667   30          3  254.0  156.0   91.0  154.0   \n",
       "2018-08-30 18:00:00    1.416667   30          3  342.0  254.0  156.0   91.0   \n",
       "2018-08-30 19:00:00    7.625000   30          3  177.0  342.0  254.0  156.0   \n",
       "2018-08-30 20:00:00    2.375000   30          3   72.0  177.0  342.0  254.0   \n",
       "2018-08-30 21:00:00   -4.041667   30          3  142.0   72.0  177.0  342.0   \n",
       "2018-08-30 22:00:00   -2.041667   30          3  198.0  142.0   72.0  177.0   \n",
       "2018-08-30 23:00:00    1.166667   30          3  158.0  198.0  142.0   72.0   \n",
       "2018-08-31 00:00:00   -0.791667   31          4  246.0  158.0  198.0  142.0   \n",
       "2018-08-31 01:00:00   -0.791667   31          4  276.0  246.0  158.0  198.0   \n",
       "2018-08-31 02:00:00    2.500000   31          4  194.0  276.0  246.0  158.0   \n",
       "2018-08-31 03:00:00   -0.958333   31          4  230.0  194.0  276.0  246.0   \n",
       "2018-08-31 04:00:00   -0.083333   31          4   99.0  230.0  194.0  276.0   \n",
       "2018-08-31 05:00:00   -3.916667   31          4  268.0   99.0  230.0  194.0   \n",
       "2018-08-31 06:00:00    3.416667   31          4   78.0  268.0   99.0  230.0   \n",
       "2018-08-31 07:00:00    0.916667   31          4   35.0   78.0  268.0   99.0   \n",
       "2018-08-31 08:00:00    0.916667   31          4   46.0   35.0   78.0  268.0   \n",
       "2018-08-31 09:00:00    0.291667   31          4  182.0   46.0   35.0   78.0   \n",
       "2018-08-31 10:00:00    0.666667   31          4  203.0  182.0   46.0   35.0   \n",
       "2018-08-31 11:00:00   -0.958333   31          4  191.0  203.0  182.0   46.0   \n",
       "2018-08-31 12:00:00   -1.500000   31          4  167.0  191.0  203.0  182.0   \n",
       "2018-08-31 13:00:00    0.458333   31          4  136.0  167.0  191.0  203.0   \n",
       "2018-08-31 14:00:00   -1.541667   31          4  166.0  136.0  167.0  191.0   \n",
       "2018-08-31 15:00:00    0.500000   31          4  133.0  166.0  136.0  167.0   \n",
       "2018-08-31 16:00:00    1.750000   31          4  116.0  133.0  166.0  136.0   \n",
       "2018-08-31 17:00:00   -1.666667   31          4  197.0  116.0  133.0  166.0   \n",
       "2018-08-31 18:00:00   -2.375000   31          4  217.0  197.0  116.0  133.0   \n",
       "2018-08-31 19:00:00   -5.208333   31          4  207.0  217.0  197.0  116.0   \n",
       "2018-08-31 20:00:00    1.250000   31          4  136.0  207.0  217.0  197.0   \n",
       "2018-08-31 21:00:00    2.666667   31          4  154.0  136.0  207.0  217.0   \n",
       "2018-08-31 22:00:00    0.500000   31          4  159.0  154.0  136.0  207.0   \n",
       "2018-08-31 23:00:00   -1.625000   31          4  223.0  159.0  154.0  136.0   \n",
       "\n",
       "                     MA_100  \n",
       "datetime                     \n",
       "2018-08-29 22:00:00  147.70  \n",
       "2018-08-29 23:00:00  148.24  \n",
       "2018-08-30 00:00:00  149.66  \n",
       "2018-08-30 01:00:00  150.77  \n",
       "2018-08-30 02:00:00  151.32  \n",
       "2018-08-30 03:00:00  152.09  \n",
       "2018-08-30 04:00:00  152.28  \n",
       "2018-08-30 05:00:00  151.33  \n",
       "2018-08-30 06:00:00  150.33  \n",
       "2018-08-30 07:00:00  148.98  \n",
       "2018-08-30 08:00:00  146.70  \n",
       "2018-08-30 09:00:00  147.22  \n",
       "2018-08-30 10:00:00  149.08  \n",
       "2018-08-30 11:00:00  151.02  \n",
       "2018-08-30 12:00:00  152.08  \n",
       "2018-08-30 13:00:00  152.57  \n",
       "2018-08-30 14:00:00  152.64  \n",
       "2018-08-30 15:00:00  152.19  \n",
       "2018-08-30 16:00:00  152.79  \n",
       "2018-08-30 17:00:00  153.82  \n",
       "2018-08-30 18:00:00  156.35  \n",
       "2018-08-30 19:00:00  156.48  \n",
       "2018-08-30 20:00:00  155.78  \n",
       "2018-08-30 21:00:00  155.77  \n",
       "2018-08-30 22:00:00  156.06  \n",
       "2018-08-30 23:00:00  156.37  \n",
       "2018-08-31 00:00:00  157.57  \n",
       "2018-08-31 01:00:00  159.11  \n",
       "2018-08-31 02:00:00  159.98  \n",
       "2018-08-31 03:00:00  160.83  \n",
       "2018-08-31 04:00:00  159.44  \n",
       "2018-08-31 05:00:00  159.49  \n",
       "2018-08-31 06:00:00  158.05  \n",
       "2018-08-31 07:00:00  154.32  \n",
       "2018-08-31 08:00:00  152.70  \n",
       "2018-08-31 09:00:00  151.57  \n",
       "2018-08-31 10:00:00  152.98  \n",
       "2018-08-31 11:00:00  154.58  \n",
       "2018-08-31 12:00:00  155.88  \n",
       "2018-08-31 13:00:00  155.93  \n",
       "2018-08-31 14:00:00  155.85  \n",
       "2018-08-31 15:00:00  155.48  \n",
       "2018-08-31 16:00:00  155.00  \n",
       "2018-08-31 17:00:00  155.72  \n",
       "2018-08-31 18:00:00  156.52  \n",
       "2018-08-31 19:00:00  157.33  \n",
       "2018-08-31 20:00:00  156.74  \n",
       "2018-08-31 21:00:00  156.63  \n",
       "2018-08-31 22:00:00  156.40  \n",
       "2018-08-31 23:00:00  157.52  "
      ]
     },
     "execution_count": 19,
     "metadata": {},
     "output_type": "execute_result"
    }
   ],
   "source": [
    "X_test.tail(50)"
   ]
  },
  {
   "cell_type": "markdown",
   "metadata": {},
   "source": [
    "### Обучение"
   ]
  },
  {
   "cell_type": "code",
   "execution_count": 20,
   "metadata": {},
   "outputs": [],
   "source": [
    "num_columns = X_train.select_dtypes(include='number').columns\n",
    "\n",
    "################################################\n",
    "encoder_pipe = Pipeline(\n",
    "    [\n",
    "        ('fillna1', SimpleImputer(missing_values=np.nan, strategy='most_frequent')),\n",
    "        ('encode', OneHotEncoder(drop='first', handle_unknown='ignore')),\n",
    "        ('fillna2', SimpleImputer(missing_values=np.nan, strategy='most_frequent'))\n",
    "    ]\n",
    "    )\n",
    "################################################\n",
    "ranged_encoder_pipe = Pipeline(\n",
    "    [\n",
    "        ('fillna1', SimpleImputer(missing_values=np.nan, strategy='most_frequent')),\n",
    "        ('encode', OneHotEncoder(drop='first', handle_unknown='ignore')),\n",
    "        ('fillna2', SimpleImputer(missing_values=np.nan, strategy='most_frequent'))\n",
    "    ]\n",
    "    )\n",
    "################################################\n",
    "scaler_pipe = Pipeline(\n",
    "    [\n",
    "        ('scale', MinMaxScaler())\n",
    "    ]\n",
    "    )\n",
    "################################################\n",
    "data_preprocessor = ColumnTransformer(\n",
    "    [\n",
    "        #('encoder', encoder_pipe, cat_columns),\n",
    "        #('ranged_encoder', ranged_encoder_pipe, ranged_columns),\n",
    "        ('scaler', scaler_pipe, num_columns)\n",
    "    ], \n",
    "    remainder='passthrough'\n",
    ")\n",
    "################################################\n",
    "pipe_final = Pipeline([\n",
    "    ('preprocessor', data_preprocessor),\n",
    "    ('models', DecisionTreeRegressor(random_state=RANDOM_STATE))\n",
    "])"
   ]
  },
  {
   "cell_type": "code",
   "execution_count": 21,
   "metadata": {},
   "outputs": [],
   "source": [
    "################################################\n",
    "parameters = [\n",
    "    #KNeighborsRegressor() \n",
    "    {\n",
    "        'models': [KNeighborsRegressor()],\n",
    "        'models__n_neighbors': range(1, 20),\n",
    "        'models__weights':[\"uniform\", \"distance\"],\n",
    "        'preprocessor__scaler__scale': [StandardScaler(), MinMaxScaler()],\n",
    "        #'preprocessor__encoder__encode':[OneHotEncoder(handle_unknown='ignore'),OrdinalEncoder(handle_unknown='use_encoded_value', unknown_value=np.nan)],\n",
    "        #'preprocessor__ranged_encoder__encode':[OneHotEncoder(handle_unknown='ignore'),OrdinalEncoder(handle_unknown='use_encoded_value', unknown_value=np.nan, categories=categories)]\n",
    "    },\n",
    "    #DecisionTreeRegressor()\n",
    "    {\n",
    "        'models': [DecisionTreeRegressor(random_state=RANDOM_STATE)],\n",
    "        'models__criterion':['squared_error', 'friedman_mse', 'absolute_error','poisson'],\n",
    "        #'models__max_depth': range(2, 30),\n",
    "        'models__max_depth': [None] + [i for i in range(2, 20)],\n",
    "        'models__min_samples_split':range(2,100),\n",
    "        'models__min_samples_leaf':range(1,40),\n",
    "        'preprocessor__scaler__scale': [StandardScaler(), MinMaxScaler(), 'passthrough'],\n",
    "        #'preprocessor__encoder__encode':[OneHotEncoder(handle_unknown='ignore'),OrdinalEncoder(handle_unknown='use_encoded_value', unknown_value=np.nan)],\n",
    "        #'preprocessor__ranged_encoder__encode':[OneHotEncoder(handle_unknown='ignore'),OrdinalEncoder(handle_unknown='use_encoded_value', unknown_value=np.nan, categories=categories)]\n",
    "    },\n",
    "    #LinearRegression()\n",
    "    {\n",
    "        'models': [LinearRegression()],\n",
    "        'preprocessor__scaler__scale': [StandardScaler(), MinMaxScaler()],\n",
    "        #'preprocessor__encoder__encode':[OneHotEncoder(handle_unknown='ignore'),OrdinalEncoder(handle_unknown='use_encoded_value', unknown_value=np.nan)],\n",
    "        #'preprocessor__ranged_encoder__encode':[OneHotEncoder(handle_unknown='ignore'),OrdinalEncoder(handle_unknown='use_encoded_value', unknown_value=np.nan, categories=categories)]\n",
    "    }\n",
    "] "
   ]
  },
  {
   "cell_type": "code",
   "execution_count": 22,
   "metadata": {},
   "outputs": [],
   "source": [
    "tscv = TimeSeriesSplit(n_splits=5)\n",
    "\n",
    "grid_search = RandomizedSearchCV(\n",
    "    pipe_final, \n",
    "    parameters, \n",
    "    cv = tscv,\n",
    "    random_state=RANDOM_STATE,\n",
    "    n_jobs=-1,\n",
    "    n_iter=100,\n",
    "    scoring='neg_root_mean_squared_error'\n",
    ")"
   ]
  },
  {
   "cell_type": "code",
   "execution_count": 23,
   "metadata": {},
   "outputs": [
    {
     "data": {
      "text/html": [
       "<style>#sk-container-id-1 {\n",
       "  /* Definition of color scheme common for light and dark mode */\n",
       "  --sklearn-color-text: black;\n",
       "  --sklearn-color-line: gray;\n",
       "  /* Definition of color scheme for unfitted estimators */\n",
       "  --sklearn-color-unfitted-level-0: #fff5e6;\n",
       "  --sklearn-color-unfitted-level-1: #f6e4d2;\n",
       "  --sklearn-color-unfitted-level-2: #ffe0b3;\n",
       "  --sklearn-color-unfitted-level-3: chocolate;\n",
       "  /* Definition of color scheme for fitted estimators */\n",
       "  --sklearn-color-fitted-level-0: #f0f8ff;\n",
       "  --sklearn-color-fitted-level-1: #d4ebff;\n",
       "  --sklearn-color-fitted-level-2: #b3dbfd;\n",
       "  --sklearn-color-fitted-level-3: cornflowerblue;\n",
       "\n",
       "  /* Specific color for light theme */\n",
       "  --sklearn-color-text-on-default-background: var(--sg-text-color, var(--theme-code-foreground, var(--jp-content-font-color1, black)));\n",
       "  --sklearn-color-background: var(--sg-background-color, var(--theme-background, var(--jp-layout-color0, white)));\n",
       "  --sklearn-color-border-box: var(--sg-text-color, var(--theme-code-foreground, var(--jp-content-font-color1, black)));\n",
       "  --sklearn-color-icon: #696969;\n",
       "\n",
       "  @media (prefers-color-scheme: dark) {\n",
       "    /* Redefinition of color scheme for dark theme */\n",
       "    --sklearn-color-text-on-default-background: var(--sg-text-color, var(--theme-code-foreground, var(--jp-content-font-color1, white)));\n",
       "    --sklearn-color-background: var(--sg-background-color, var(--theme-background, var(--jp-layout-color0, #111)));\n",
       "    --sklearn-color-border-box: var(--sg-text-color, var(--theme-code-foreground, var(--jp-content-font-color1, white)));\n",
       "    --sklearn-color-icon: #878787;\n",
       "  }\n",
       "}\n",
       "\n",
       "#sk-container-id-1 {\n",
       "  color: var(--sklearn-color-text);\n",
       "}\n",
       "\n",
       "#sk-container-id-1 pre {\n",
       "  padding: 0;\n",
       "}\n",
       "\n",
       "#sk-container-id-1 input.sk-hidden--visually {\n",
       "  border: 0;\n",
       "  clip: rect(1px 1px 1px 1px);\n",
       "  clip: rect(1px, 1px, 1px, 1px);\n",
       "  height: 1px;\n",
       "  margin: -1px;\n",
       "  overflow: hidden;\n",
       "  padding: 0;\n",
       "  position: absolute;\n",
       "  width: 1px;\n",
       "}\n",
       "\n",
       "#sk-container-id-1 div.sk-dashed-wrapped {\n",
       "  border: 1px dashed var(--sklearn-color-line);\n",
       "  margin: 0 0.4em 0.5em 0.4em;\n",
       "  box-sizing: border-box;\n",
       "  padding-bottom: 0.4em;\n",
       "  background-color: var(--sklearn-color-background);\n",
       "}\n",
       "\n",
       "#sk-container-id-1 div.sk-container {\n",
       "  /* jupyter's `normalize.less` sets `[hidden] { display: none; }`\n",
       "     but bootstrap.min.css set `[hidden] { display: none !important; }`\n",
       "     so we also need the `!important` here to be able to override the\n",
       "     default hidden behavior on the sphinx rendered scikit-learn.org.\n",
       "     See: https://github.com/scikit-learn/scikit-learn/issues/21755 */\n",
       "  display: inline-block !important;\n",
       "  position: relative;\n",
       "}\n",
       "\n",
       "#sk-container-id-1 div.sk-text-repr-fallback {\n",
       "  display: none;\n",
       "}\n",
       "\n",
       "div.sk-parallel-item,\n",
       "div.sk-serial,\n",
       "div.sk-item {\n",
       "  /* draw centered vertical line to link estimators */\n",
       "  background-image: linear-gradient(var(--sklearn-color-text-on-default-background), var(--sklearn-color-text-on-default-background));\n",
       "  background-size: 2px 100%;\n",
       "  background-repeat: no-repeat;\n",
       "  background-position: center center;\n",
       "}\n",
       "\n",
       "/* Parallel-specific style estimator block */\n",
       "\n",
       "#sk-container-id-1 div.sk-parallel-item::after {\n",
       "  content: \"\";\n",
       "  width: 100%;\n",
       "  border-bottom: 2px solid var(--sklearn-color-text-on-default-background);\n",
       "  flex-grow: 1;\n",
       "}\n",
       "\n",
       "#sk-container-id-1 div.sk-parallel {\n",
       "  display: flex;\n",
       "  align-items: stretch;\n",
       "  justify-content: center;\n",
       "  background-color: var(--sklearn-color-background);\n",
       "  position: relative;\n",
       "}\n",
       "\n",
       "#sk-container-id-1 div.sk-parallel-item {\n",
       "  display: flex;\n",
       "  flex-direction: column;\n",
       "}\n",
       "\n",
       "#sk-container-id-1 div.sk-parallel-item:first-child::after {\n",
       "  align-self: flex-end;\n",
       "  width: 50%;\n",
       "}\n",
       "\n",
       "#sk-container-id-1 div.sk-parallel-item:last-child::after {\n",
       "  align-self: flex-start;\n",
       "  width: 50%;\n",
       "}\n",
       "\n",
       "#sk-container-id-1 div.sk-parallel-item:only-child::after {\n",
       "  width: 0;\n",
       "}\n",
       "\n",
       "/* Serial-specific style estimator block */\n",
       "\n",
       "#sk-container-id-1 div.sk-serial {\n",
       "  display: flex;\n",
       "  flex-direction: column;\n",
       "  align-items: center;\n",
       "  background-color: var(--sklearn-color-background);\n",
       "  padding-right: 1em;\n",
       "  padding-left: 1em;\n",
       "}\n",
       "\n",
       "\n",
       "/* Toggleable style: style used for estimator/Pipeline/ColumnTransformer box that is\n",
       "clickable and can be expanded/collapsed.\n",
       "- Pipeline and ColumnTransformer use this feature and define the default style\n",
       "- Estimators will overwrite some part of the style using the `sk-estimator` class\n",
       "*/\n",
       "\n",
       "/* Pipeline and ColumnTransformer style (default) */\n",
       "\n",
       "#sk-container-id-1 div.sk-toggleable {\n",
       "  /* Default theme specific background. It is overwritten whether we have a\n",
       "  specific estimator or a Pipeline/ColumnTransformer */\n",
       "  background-color: var(--sklearn-color-background);\n",
       "}\n",
       "\n",
       "/* Toggleable label */\n",
       "#sk-container-id-1 label.sk-toggleable__label {\n",
       "  cursor: pointer;\n",
       "  display: block;\n",
       "  width: 100%;\n",
       "  margin-bottom: 0;\n",
       "  padding: 0.5em;\n",
       "  box-sizing: border-box;\n",
       "  text-align: center;\n",
       "}\n",
       "\n",
       "#sk-container-id-1 label.sk-toggleable__label-arrow:before {\n",
       "  /* Arrow on the left of the label */\n",
       "  content: \"▸\";\n",
       "  float: left;\n",
       "  margin-right: 0.25em;\n",
       "  color: var(--sklearn-color-icon);\n",
       "}\n",
       "\n",
       "#sk-container-id-1 label.sk-toggleable__label-arrow:hover:before {\n",
       "  color: var(--sklearn-color-text);\n",
       "}\n",
       "\n",
       "/* Toggleable content - dropdown */\n",
       "\n",
       "#sk-container-id-1 div.sk-toggleable__content {\n",
       "  max-height: 0;\n",
       "  max-width: 0;\n",
       "  overflow: hidden;\n",
       "  text-align: left;\n",
       "  /* unfitted */\n",
       "  background-color: var(--sklearn-color-unfitted-level-0);\n",
       "}\n",
       "\n",
       "#sk-container-id-1 div.sk-toggleable__content.fitted {\n",
       "  /* fitted */\n",
       "  background-color: var(--sklearn-color-fitted-level-0);\n",
       "}\n",
       "\n",
       "#sk-container-id-1 div.sk-toggleable__content pre {\n",
       "  margin: 0.2em;\n",
       "  border-radius: 0.25em;\n",
       "  color: var(--sklearn-color-text);\n",
       "  /* unfitted */\n",
       "  background-color: var(--sklearn-color-unfitted-level-0);\n",
       "}\n",
       "\n",
       "#sk-container-id-1 div.sk-toggleable__content.fitted pre {\n",
       "  /* unfitted */\n",
       "  background-color: var(--sklearn-color-fitted-level-0);\n",
       "}\n",
       "\n",
       "#sk-container-id-1 input.sk-toggleable__control:checked~div.sk-toggleable__content {\n",
       "  /* Expand drop-down */\n",
       "  max-height: 200px;\n",
       "  max-width: 100%;\n",
       "  overflow: auto;\n",
       "}\n",
       "\n",
       "#sk-container-id-1 input.sk-toggleable__control:checked~label.sk-toggleable__label-arrow:before {\n",
       "  content: \"▾\";\n",
       "}\n",
       "\n",
       "/* Pipeline/ColumnTransformer-specific style */\n",
       "\n",
       "#sk-container-id-1 div.sk-label input.sk-toggleable__control:checked~label.sk-toggleable__label {\n",
       "  color: var(--sklearn-color-text);\n",
       "  background-color: var(--sklearn-color-unfitted-level-2);\n",
       "}\n",
       "\n",
       "#sk-container-id-1 div.sk-label.fitted input.sk-toggleable__control:checked~label.sk-toggleable__label {\n",
       "  background-color: var(--sklearn-color-fitted-level-2);\n",
       "}\n",
       "\n",
       "/* Estimator-specific style */\n",
       "\n",
       "/* Colorize estimator box */\n",
       "#sk-container-id-1 div.sk-estimator input.sk-toggleable__control:checked~label.sk-toggleable__label {\n",
       "  /* unfitted */\n",
       "  background-color: var(--sklearn-color-unfitted-level-2);\n",
       "}\n",
       "\n",
       "#sk-container-id-1 div.sk-estimator.fitted input.sk-toggleable__control:checked~label.sk-toggleable__label {\n",
       "  /* fitted */\n",
       "  background-color: var(--sklearn-color-fitted-level-2);\n",
       "}\n",
       "\n",
       "#sk-container-id-1 div.sk-label label.sk-toggleable__label,\n",
       "#sk-container-id-1 div.sk-label label {\n",
       "  /* The background is the default theme color */\n",
       "  color: var(--sklearn-color-text-on-default-background);\n",
       "}\n",
       "\n",
       "/* On hover, darken the color of the background */\n",
       "#sk-container-id-1 div.sk-label:hover label.sk-toggleable__label {\n",
       "  color: var(--sklearn-color-text);\n",
       "  background-color: var(--sklearn-color-unfitted-level-2);\n",
       "}\n",
       "\n",
       "/* Label box, darken color on hover, fitted */\n",
       "#sk-container-id-1 div.sk-label.fitted:hover label.sk-toggleable__label.fitted {\n",
       "  color: var(--sklearn-color-text);\n",
       "  background-color: var(--sklearn-color-fitted-level-2);\n",
       "}\n",
       "\n",
       "/* Estimator label */\n",
       "\n",
       "#sk-container-id-1 div.sk-label label {\n",
       "  font-family: monospace;\n",
       "  font-weight: bold;\n",
       "  display: inline-block;\n",
       "  line-height: 1.2em;\n",
       "}\n",
       "\n",
       "#sk-container-id-1 div.sk-label-container {\n",
       "  text-align: center;\n",
       "}\n",
       "\n",
       "/* Estimator-specific */\n",
       "#sk-container-id-1 div.sk-estimator {\n",
       "  font-family: monospace;\n",
       "  border: 1px dotted var(--sklearn-color-border-box);\n",
       "  border-radius: 0.25em;\n",
       "  box-sizing: border-box;\n",
       "  margin-bottom: 0.5em;\n",
       "  /* unfitted */\n",
       "  background-color: var(--sklearn-color-unfitted-level-0);\n",
       "}\n",
       "\n",
       "#sk-container-id-1 div.sk-estimator.fitted {\n",
       "  /* fitted */\n",
       "  background-color: var(--sklearn-color-fitted-level-0);\n",
       "}\n",
       "\n",
       "/* on hover */\n",
       "#sk-container-id-1 div.sk-estimator:hover {\n",
       "  /* unfitted */\n",
       "  background-color: var(--sklearn-color-unfitted-level-2);\n",
       "}\n",
       "\n",
       "#sk-container-id-1 div.sk-estimator.fitted:hover {\n",
       "  /* fitted */\n",
       "  background-color: var(--sklearn-color-fitted-level-2);\n",
       "}\n",
       "\n",
       "/* Specification for estimator info (e.g. \"i\" and \"?\") */\n",
       "\n",
       "/* Common style for \"i\" and \"?\" */\n",
       "\n",
       ".sk-estimator-doc-link,\n",
       "a:link.sk-estimator-doc-link,\n",
       "a:visited.sk-estimator-doc-link {\n",
       "  float: right;\n",
       "  font-size: smaller;\n",
       "  line-height: 1em;\n",
       "  font-family: monospace;\n",
       "  background-color: var(--sklearn-color-background);\n",
       "  border-radius: 1em;\n",
       "  height: 1em;\n",
       "  width: 1em;\n",
       "  text-decoration: none !important;\n",
       "  margin-left: 1ex;\n",
       "  /* unfitted */\n",
       "  border: var(--sklearn-color-unfitted-level-1) 1pt solid;\n",
       "  color: var(--sklearn-color-unfitted-level-1);\n",
       "}\n",
       "\n",
       ".sk-estimator-doc-link.fitted,\n",
       "a:link.sk-estimator-doc-link.fitted,\n",
       "a:visited.sk-estimator-doc-link.fitted {\n",
       "  /* fitted */\n",
       "  border: var(--sklearn-color-fitted-level-1) 1pt solid;\n",
       "  color: var(--sklearn-color-fitted-level-1);\n",
       "}\n",
       "\n",
       "/* On hover */\n",
       "div.sk-estimator:hover .sk-estimator-doc-link:hover,\n",
       ".sk-estimator-doc-link:hover,\n",
       "div.sk-label-container:hover .sk-estimator-doc-link:hover,\n",
       ".sk-estimator-doc-link:hover {\n",
       "  /* unfitted */\n",
       "  background-color: var(--sklearn-color-unfitted-level-3);\n",
       "  color: var(--sklearn-color-background);\n",
       "  text-decoration: none;\n",
       "}\n",
       "\n",
       "div.sk-estimator.fitted:hover .sk-estimator-doc-link.fitted:hover,\n",
       ".sk-estimator-doc-link.fitted:hover,\n",
       "div.sk-label-container:hover .sk-estimator-doc-link.fitted:hover,\n",
       ".sk-estimator-doc-link.fitted:hover {\n",
       "  /* fitted */\n",
       "  background-color: var(--sklearn-color-fitted-level-3);\n",
       "  color: var(--sklearn-color-background);\n",
       "  text-decoration: none;\n",
       "}\n",
       "\n",
       "/* Span, style for the box shown on hovering the info icon */\n",
       ".sk-estimator-doc-link span {\n",
       "  display: none;\n",
       "  z-index: 9999;\n",
       "  position: relative;\n",
       "  font-weight: normal;\n",
       "  right: .2ex;\n",
       "  padding: .5ex;\n",
       "  margin: .5ex;\n",
       "  width: min-content;\n",
       "  min-width: 20ex;\n",
       "  max-width: 50ex;\n",
       "  color: var(--sklearn-color-text);\n",
       "  box-shadow: 2pt 2pt 4pt #999;\n",
       "  /* unfitted */\n",
       "  background: var(--sklearn-color-unfitted-level-0);\n",
       "  border: .5pt solid var(--sklearn-color-unfitted-level-3);\n",
       "}\n",
       "\n",
       ".sk-estimator-doc-link.fitted span {\n",
       "  /* fitted */\n",
       "  background: var(--sklearn-color-fitted-level-0);\n",
       "  border: var(--sklearn-color-fitted-level-3);\n",
       "}\n",
       "\n",
       ".sk-estimator-doc-link:hover span {\n",
       "  display: block;\n",
       "}\n",
       "\n",
       "/* \"?\"-specific style due to the `<a>` HTML tag */\n",
       "\n",
       "#sk-container-id-1 a.estimator_doc_link {\n",
       "  float: right;\n",
       "  font-size: 1rem;\n",
       "  line-height: 1em;\n",
       "  font-family: monospace;\n",
       "  background-color: var(--sklearn-color-background);\n",
       "  border-radius: 1rem;\n",
       "  height: 1rem;\n",
       "  width: 1rem;\n",
       "  text-decoration: none;\n",
       "  /* unfitted */\n",
       "  color: var(--sklearn-color-unfitted-level-1);\n",
       "  border: var(--sklearn-color-unfitted-level-1) 1pt solid;\n",
       "}\n",
       "\n",
       "#sk-container-id-1 a.estimator_doc_link.fitted {\n",
       "  /* fitted */\n",
       "  border: var(--sklearn-color-fitted-level-1) 1pt solid;\n",
       "  color: var(--sklearn-color-fitted-level-1);\n",
       "}\n",
       "\n",
       "/* On hover */\n",
       "#sk-container-id-1 a.estimator_doc_link:hover {\n",
       "  /* unfitted */\n",
       "  background-color: var(--sklearn-color-unfitted-level-3);\n",
       "  color: var(--sklearn-color-background);\n",
       "  text-decoration: none;\n",
       "}\n",
       "\n",
       "#sk-container-id-1 a.estimator_doc_link.fitted:hover {\n",
       "  /* fitted */\n",
       "  background-color: var(--sklearn-color-fitted-level-3);\n",
       "}\n",
       "</style><div id=\"sk-container-id-1\" class=\"sk-top-container\"><div class=\"sk-text-repr-fallback\"><pre>RandomizedSearchCV(cv=TimeSeriesSplit(gap=0, max_train_size=None, n_splits=5, test_size=None),\n",
       "                   estimator=Pipeline(steps=[(&#x27;preprocessor&#x27;,\n",
       "                                              ColumnTransformer(remainder=&#x27;passthrough&#x27;,\n",
       "                                                                transformers=[(&#x27;scaler&#x27;,\n",
       "                                                                               Pipeline(steps=[(&#x27;scale&#x27;,\n",
       "                                                                                                MinMaxScaler())]),\n",
       "                                                                               Index([&#x27;trend&#x27;, &#x27;seasonal&#x27;, &#x27;trend_ma_100&#x27;, &#x27;diff&#x27;, &#x27;diff_ma_6&#x27;, &#x27;diff_ma_24&#x27;,\n",
       "       &#x27;day&#x27;, &#x27;dayofweek&#x27;, &#x27;lag_1&#x27;, &#x27;lag_2&#x27;, &#x27;...\n",
       "                                                               6, 7, 8, 9, 10,\n",
       "                                                               11, 12, 13, 14,\n",
       "                                                               15, 16, 17, 18,\n",
       "                                                               19],\n",
       "                                         &#x27;models__min_samples_leaf&#x27;: range(1, 40),\n",
       "                                         &#x27;models__min_samples_split&#x27;: range(2, 100),\n",
       "                                         &#x27;preprocessor__scaler__scale&#x27;: [StandardScaler(),\n",
       "                                                                         MinMaxScaler(),\n",
       "                                                                         &#x27;passthrough&#x27;]},\n",
       "                                        {&#x27;models&#x27;: [LinearRegression()],\n",
       "                                         &#x27;preprocessor__scaler__scale&#x27;: [StandardScaler(),\n",
       "                                                                         MinMaxScaler()]}],\n",
       "                   random_state=2024, scoring=&#x27;neg_root_mean_squared_error&#x27;)</pre><b>In a Jupyter environment, please rerun this cell to show the HTML representation or trust the notebook. <br />On GitHub, the HTML representation is unable to render, please try loading this page with nbviewer.org.</b></div><div class=\"sk-container\" hidden><div class=\"sk-item sk-dashed-wrapped\"><div class=\"sk-label-container\"><div class=\"sk-label fitted sk-toggleable\"><input class=\"sk-toggleable__control sk-hidden--visually\" id=\"sk-estimator-id-1\" type=\"checkbox\" ><label for=\"sk-estimator-id-1\" class=\"sk-toggleable__label fitted sk-toggleable__label-arrow fitted\">&nbsp;&nbsp;RandomizedSearchCV<a class=\"sk-estimator-doc-link fitted\" rel=\"noreferrer\" target=\"_blank\" href=\"https://scikit-learn.org/1.4/modules/generated/sklearn.model_selection.RandomizedSearchCV.html\">?<span>Documentation for RandomizedSearchCV</span></a><span class=\"sk-estimator-doc-link fitted\">i<span>Fitted</span></span></label><div class=\"sk-toggleable__content fitted\"><pre>RandomizedSearchCV(cv=TimeSeriesSplit(gap=0, max_train_size=None, n_splits=5, test_size=None),\n",
       "                   estimator=Pipeline(steps=[(&#x27;preprocessor&#x27;,\n",
       "                                              ColumnTransformer(remainder=&#x27;passthrough&#x27;,\n",
       "                                                                transformers=[(&#x27;scaler&#x27;,\n",
       "                                                                               Pipeline(steps=[(&#x27;scale&#x27;,\n",
       "                                                                                                MinMaxScaler())]),\n",
       "                                                                               Index([&#x27;trend&#x27;, &#x27;seasonal&#x27;, &#x27;trend_ma_100&#x27;, &#x27;diff&#x27;, &#x27;diff_ma_6&#x27;, &#x27;diff_ma_24&#x27;,\n",
       "       &#x27;day&#x27;, &#x27;dayofweek&#x27;, &#x27;lag_1&#x27;, &#x27;lag_2&#x27;, &#x27;...\n",
       "                                                               6, 7, 8, 9, 10,\n",
       "                                                               11, 12, 13, 14,\n",
       "                                                               15, 16, 17, 18,\n",
       "                                                               19],\n",
       "                                         &#x27;models__min_samples_leaf&#x27;: range(1, 40),\n",
       "                                         &#x27;models__min_samples_split&#x27;: range(2, 100),\n",
       "                                         &#x27;preprocessor__scaler__scale&#x27;: [StandardScaler(),\n",
       "                                                                         MinMaxScaler(),\n",
       "                                                                         &#x27;passthrough&#x27;]},\n",
       "                                        {&#x27;models&#x27;: [LinearRegression()],\n",
       "                                         &#x27;preprocessor__scaler__scale&#x27;: [StandardScaler(),\n",
       "                                                                         MinMaxScaler()]}],\n",
       "                   random_state=2024, scoring=&#x27;neg_root_mean_squared_error&#x27;)</pre></div> </div></div><div class=\"sk-parallel\"><div class=\"sk-parallel-item\"><div class=\"sk-item\"><div class=\"sk-label-container\"><div class=\"sk-label fitted sk-toggleable\"><input class=\"sk-toggleable__control sk-hidden--visually\" id=\"sk-estimator-id-2\" type=\"checkbox\" ><label for=\"sk-estimator-id-2\" class=\"sk-toggleable__label fitted sk-toggleable__label-arrow fitted\">estimator: Pipeline</label><div class=\"sk-toggleable__content fitted\"><pre>Pipeline(steps=[(&#x27;preprocessor&#x27;,\n",
       "                 ColumnTransformer(remainder=&#x27;passthrough&#x27;,\n",
       "                                   transformers=[(&#x27;scaler&#x27;,\n",
       "                                                  Pipeline(steps=[(&#x27;scale&#x27;,\n",
       "                                                                   MinMaxScaler())]),\n",
       "                                                  Index([&#x27;trend&#x27;, &#x27;seasonal&#x27;, &#x27;trend_ma_100&#x27;, &#x27;diff&#x27;, &#x27;diff_ma_6&#x27;, &#x27;diff_ma_24&#x27;,\n",
       "       &#x27;day&#x27;, &#x27;dayofweek&#x27;, &#x27;lag_1&#x27;, &#x27;lag_2&#x27;, &#x27;lag_3&#x27;, &#x27;lag_4&#x27;, &#x27;MA_100&#x27;],\n",
       "      dtype=&#x27;object&#x27;))])),\n",
       "                (&#x27;models&#x27;, DecisionTreeRegressor(random_state=2024))])</pre></div> </div></div><div class=\"sk-serial\"><div class=\"sk-item\"><div class=\"sk-serial\"><div class=\"sk-item sk-dashed-wrapped\"><div class=\"sk-label-container\"><div class=\"sk-label fitted sk-toggleable\"><input class=\"sk-toggleable__control sk-hidden--visually\" id=\"sk-estimator-id-3\" type=\"checkbox\" ><label for=\"sk-estimator-id-3\" class=\"sk-toggleable__label fitted sk-toggleable__label-arrow fitted\">&nbsp;preprocessor: ColumnTransformer<a class=\"sk-estimator-doc-link fitted\" rel=\"noreferrer\" target=\"_blank\" href=\"https://scikit-learn.org/1.4/modules/generated/sklearn.compose.ColumnTransformer.html\">?<span>Documentation for preprocessor: ColumnTransformer</span></a></label><div class=\"sk-toggleable__content fitted\"><pre>ColumnTransformer(remainder=&#x27;passthrough&#x27;,\n",
       "                  transformers=[(&#x27;scaler&#x27;,\n",
       "                                 Pipeline(steps=[(&#x27;scale&#x27;, MinMaxScaler())]),\n",
       "                                 Index([&#x27;trend&#x27;, &#x27;seasonal&#x27;, &#x27;trend_ma_100&#x27;, &#x27;diff&#x27;, &#x27;diff_ma_6&#x27;, &#x27;diff_ma_24&#x27;,\n",
       "       &#x27;day&#x27;, &#x27;dayofweek&#x27;, &#x27;lag_1&#x27;, &#x27;lag_2&#x27;, &#x27;lag_3&#x27;, &#x27;lag_4&#x27;, &#x27;MA_100&#x27;],\n",
       "      dtype=&#x27;object&#x27;))])</pre></div> </div></div><div class=\"sk-parallel\"><div class=\"sk-parallel-item\"><div class=\"sk-item\"><div class=\"sk-label-container\"><div class=\"sk-label fitted sk-toggleable\"><input class=\"sk-toggleable__control sk-hidden--visually\" id=\"sk-estimator-id-4\" type=\"checkbox\" ><label for=\"sk-estimator-id-4\" class=\"sk-toggleable__label fitted sk-toggleable__label-arrow fitted\">scaler</label><div class=\"sk-toggleable__content fitted\"><pre>Index([&#x27;trend&#x27;, &#x27;seasonal&#x27;, &#x27;trend_ma_100&#x27;, &#x27;diff&#x27;, &#x27;diff_ma_6&#x27;, &#x27;diff_ma_24&#x27;,\n",
       "       &#x27;day&#x27;, &#x27;dayofweek&#x27;, &#x27;lag_1&#x27;, &#x27;lag_2&#x27;, &#x27;lag_3&#x27;, &#x27;lag_4&#x27;, &#x27;MA_100&#x27;],\n",
       "      dtype=&#x27;object&#x27;)</pre></div> </div></div><div class=\"sk-serial\"><div class=\"sk-item\"><div class=\"sk-serial\"><div class=\"sk-item\"><div class=\"sk-estimator fitted sk-toggleable\"><input class=\"sk-toggleable__control sk-hidden--visually\" id=\"sk-estimator-id-5\" type=\"checkbox\" ><label for=\"sk-estimator-id-5\" class=\"sk-toggleable__label fitted sk-toggleable__label-arrow fitted\">&nbsp;MinMaxScaler<a class=\"sk-estimator-doc-link fitted\" rel=\"noreferrer\" target=\"_blank\" href=\"https://scikit-learn.org/1.4/modules/generated/sklearn.preprocessing.MinMaxScaler.html\">?<span>Documentation for MinMaxScaler</span></a></label><div class=\"sk-toggleable__content fitted\"><pre>MinMaxScaler()</pre></div> </div></div></div></div></div></div></div><div class=\"sk-parallel-item\"><div class=\"sk-item\"><div class=\"sk-label-container\"><div class=\"sk-label fitted sk-toggleable\"><input class=\"sk-toggleable__control sk-hidden--visually\" id=\"sk-estimator-id-6\" type=\"checkbox\" ><label for=\"sk-estimator-id-6\" class=\"sk-toggleable__label fitted sk-toggleable__label-arrow fitted\">remainder</label><div class=\"sk-toggleable__content fitted\"><pre></pre></div> </div></div><div class=\"sk-serial\"><div class=\"sk-item\"><div class=\"sk-estimator fitted sk-toggleable\"><input class=\"sk-toggleable__control sk-hidden--visually\" id=\"sk-estimator-id-7\" type=\"checkbox\" ><label for=\"sk-estimator-id-7\" class=\"sk-toggleable__label fitted sk-toggleable__label-arrow fitted\">passthrough</label><div class=\"sk-toggleable__content fitted\"><pre>passthrough</pre></div> </div></div></div></div></div></div></div><div class=\"sk-item\"><div class=\"sk-estimator fitted sk-toggleable\"><input class=\"sk-toggleable__control sk-hidden--visually\" id=\"sk-estimator-id-8\" type=\"checkbox\" ><label for=\"sk-estimator-id-8\" class=\"sk-toggleable__label fitted sk-toggleable__label-arrow fitted\">&nbsp;DecisionTreeRegressor<a class=\"sk-estimator-doc-link fitted\" rel=\"noreferrer\" target=\"_blank\" href=\"https://scikit-learn.org/1.4/modules/generated/sklearn.tree.DecisionTreeRegressor.html\">?<span>Documentation for DecisionTreeRegressor</span></a></label><div class=\"sk-toggleable__content fitted\"><pre>DecisionTreeRegressor(random_state=2024)</pre></div> </div></div></div></div></div></div></div></div></div></div></div>"
      ],
      "text/plain": [
       "RandomizedSearchCV(cv=TimeSeriesSplit(gap=0, max_train_size=None, n_splits=5, test_size=None),\n",
       "                   estimator=Pipeline(steps=[('preprocessor',\n",
       "                                              ColumnTransformer(remainder='passthrough',\n",
       "                                                                transformers=[('scaler',\n",
       "                                                                               Pipeline(steps=[('scale',\n",
       "                                                                                                MinMaxScaler())]),\n",
       "                                                                               Index(['trend', 'seasonal', 'trend_ma_100', 'diff', 'diff_ma_6', 'diff_ma_24',\n",
       "       'day', 'dayofweek', 'lag_1', 'lag_2', '...\n",
       "                                                               6, 7, 8, 9, 10,\n",
       "                                                               11, 12, 13, 14,\n",
       "                                                               15, 16, 17, 18,\n",
       "                                                               19],\n",
       "                                         'models__min_samples_leaf': range(1, 40),\n",
       "                                         'models__min_samples_split': range(2, 100),\n",
       "                                         'preprocessor__scaler__scale': [StandardScaler(),\n",
       "                                                                         MinMaxScaler(),\n",
       "                                                                         'passthrough']},\n",
       "                                        {'models': [LinearRegression()],\n",
       "                                         'preprocessor__scaler__scale': [StandardScaler(),\n",
       "                                                                         MinMaxScaler()]}],\n",
       "                   random_state=2024, scoring='neg_root_mean_squared_error')"
      ]
     },
     "execution_count": 23,
     "metadata": {},
     "output_type": "execute_result"
    }
   ],
   "source": [
    "grid_search.fit(X_train, y_train)"
   ]
  },
  {
   "cell_type": "code",
   "execution_count": 24,
   "metadata": {
    "scrolled": false
   },
   "outputs": [
    {
     "name": "stdout",
     "output_type": "stream",
     "text": [
      "Лучшая модель и её параметры:\n",
      "\n",
      " {'preprocessor__scaler__scale': MinMaxScaler(), 'models__min_samples_split': 7, 'models__min_samples_leaf': 27, 'models__max_depth': 6, 'models__criterion': 'squared_error', 'models': DecisionTreeRegressor(random_state=2024)}\n",
      "Метрика лучшей модели при кросс-валидации (для временных рядов): 24.811610653665724\n"
     ]
    }
   ],
   "source": [
    "print('Лучшая модель и её параметры:\\n\\n', grid_search.best_params_)\n",
    "\n",
    "print ('Метрика лучшей модели при кросс-валидации (для временных рядов):', abs(grid_search.best_score_))"
   ]
  },
  {
   "cell_type": "markdown",
   "metadata": {},
   "source": [
    "При кросс-валидации была выбрана лучшая модель, ей оказалась модель DecisionTreeRegressor с вышеописанными гиперпараметрами\n",
    "\n",
    "Значение метрики при кросс-валидации равно 24.81"
   ]
  },
  {
   "cell_type": "markdown",
   "metadata": {},
   "source": [
    "## Тестирование"
   ]
  },
  {
   "cell_type": "code",
   "execution_count": 25,
   "metadata": {},
   "outputs": [
    {
     "name": "stdout",
     "output_type": "stream",
     "text": [
      "RMSE тестовой выборки: 47.892024702382535\n"
     ]
    }
   ],
   "source": [
    "print(\"RMSE тестовой выборки:\", mean_squared_error(grid_search.predict(X_test),y_test)**0.5)"
   ]
  },
  {
   "cell_type": "markdown",
   "metadata": {},
   "source": [
    "### Сравнение с константной моделью\n",
    "\n",
    "Сравним лучшую модель с моделью возвращающей среднее значение на обучающей выборке"
   ]
  },
  {
   "cell_type": "code",
   "execution_count": 26,
   "metadata": {},
   "outputs": [
    {
     "name": "stdout",
     "output_type": "stream",
     "text": [
      "RMSE константной модели на тестовой выборки: 84.25340144639995\n"
     ]
    }
   ],
   "source": [
    "train_mean = y_train.mean()\n",
    "\n",
    "print(\"RMSE константной модели на тестовой выборки:\", mean_squared_error([train_mean]*y_test.shape[0],y_test)**0.5)"
   ]
  },
  {
   "cell_type": "markdown",
   "metadata": {},
   "source": [
    "Как видно метрика лучшей модели заметно превосходит метрику константной модели"
   ]
  },
  {
   "cell_type": "markdown",
   "metadata": {},
   "source": [
    "### Анализ важности признаков"
   ]
  },
  {
   "cell_type": "code",
   "execution_count": 27,
   "metadata": {},
   "outputs": [],
   "source": [
    "tr = grid_search.best_estimator_[0]\n",
    "model = grid_search.best_estimator_[1]\n",
    "\n",
    "X_test_tr = tr.transform(X_test)\n",
    "\n",
    "explainer = shap.Explainer(model.predict, X_test_tr, feature_names=tr.get_feature_names_out())\n",
    "shap_values = explainer(X_test_tr)"
   ]
  },
  {
   "cell_type": "code",
   "execution_count": 28,
   "metadata": {},
   "outputs": [
    {
     "data": {
      "image/png": "[encoded data removed]",
      "text/plain": [
       "<Figure size 576x482.4 with 1 Axes>"
      ]
     },
     "metadata": {
      "needs_background": "light"
     },
     "output_type": "display_data"
    }
   ],
   "source": [
    "ax = shap.summary_plot(shap_values, plot_type=\"bar\",show=False)\n",
    "plt.title('Значимость признаков лучшей модели')\n",
    "plt.xlabel('Значимость признака')\n",
    "plt.ylabel('Название признака')\n",
    "plt.show()"
   ]
  },
  {
   "cell_type": "markdown",
   "metadata": {},
   "source": [
    "Значение метрики на тестовой выборке равняется 47.89\n",
    "\n",
    "Это заметно больше чем на тренировочной и потому можно сказать, что модель несколько переобучена, тем не менее значение метрики неплохое\n",
    "\n",
    "В ходе проведенного анализа важности признаков было выяснено что наиболее значимыми являются сезонная и трендовая компоненты (`seasonal` и `trend`) и отстающие значения (`lag_2`, `lag_3`)"
   ]
  },
  {
   "cell_type": "markdown",
   "metadata": {},
   "source": [
    "## Выводы\n",
    "\n",
    "В данной работе исследовались исторические данные компании «Чётенькое такси» о заказах такси в аэропортах. Целью работы было создание модели для предсказания количества заказов такси на следующий час с целью привлечения большего числа водителей в период пиковой нагрузки\n",
    "\n",
    "Результатом работы должна была стать модель со значением метрики RMSE на тестовой выборке не больше 48.\n",
    "\n",
    "В ходе работы были рассмотрены предоставленные данные и обучено несколько моделей, среди которых была отбрана лучшая.\n",
    "\n",
    "Ей оказалась модель DecisionTreeRegressor для который наиболее важными являются признаки `diff` и `lag_1`\n",
    "\n",
    "Значение метрики при кросс-валидации равно 24.81\n",
    "\n",
    "Значение метрики на тестовой выборке равно 47.89"
   ]
  }
 ],
 "metadata": {
  "ExecuteTimeLog": [
   {
    "duration": 45951,
    "start_time": "2024-04-16T16:29:12.235Z"
   },
   {
    "duration": 2095,
    "start_time": "2024-04-16T16:29:58.188Z"
   },
   {
    "duration": 175,
    "start_time": "2024-04-16T16:32:53.824Z"
   },
   {
    "duration": 18148,
    "start_time": "2024-04-16T16:33:38.049Z"
   },
   {
    "duration": 51,
    "start_time": "2024-04-16T16:33:56.200Z"
   },
   {
    "duration": 6,
    "start_time": "2024-04-16T16:42:34.196Z"
   },
   {
    "duration": 91,
    "start_time": "2024-04-16T16:43:10.872Z"
   },
   {
    "duration": 7,
    "start_time": "2024-04-16T17:51:08.548Z"
   },
   {
    "duration": 3,
    "start_time": "2024-04-16T17:51:21.423Z"
   },
   {
    "duration": 3,
    "start_time": "2024-04-16T17:51:29.270Z"
   },
   {
    "duration": 106,
    "start_time": "2024-04-16T17:54:19.749Z"
   },
   {
    "duration": 276,
    "start_time": "2024-04-16T18:00:13.838Z"
   },
   {
    "duration": 166,
    "start_time": "2024-04-16T18:11:01.704Z"
   },
   {
    "duration": 35,
    "start_time": "2024-04-16T18:11:25.706Z"
   },
   {
    "duration": 6,
    "start_time": "2024-04-16T18:11:47.100Z"
   },
   {
    "duration": 19,
    "start_time": "2024-04-16T18:12:09.028Z"
   },
   {
    "duration": 875,
    "start_time": "2024-04-16T18:12:14.644Z"
   },
   {
    "duration": 839,
    "start_time": "2024-04-16T18:15:16.004Z"
   },
   {
    "duration": 697,
    "start_time": "2024-04-16T18:15:53.369Z"
   },
   {
    "duration": 1170,
    "start_time": "2024-04-16T18:16:43.419Z"
   },
   {
    "duration": 961,
    "start_time": "2024-04-16T18:17:03.403Z"
   },
   {
    "duration": 1032,
    "start_time": "2024-04-16T18:17:40.375Z"
   },
   {
    "duration": 813,
    "start_time": "2024-04-16T18:18:15.252Z"
   },
   {
    "duration": 935,
    "start_time": "2024-04-16T18:29:13.438Z"
   },
   {
    "duration": 18,
    "start_time": "2024-04-16T18:42:18.340Z"
   },
   {
    "duration": 14,
    "start_time": "2024-04-16T18:44:50.392Z"
   },
   {
    "duration": 223,
    "start_time": "2024-04-16T18:45:11.066Z"
   },
   {
    "duration": 210,
    "start_time": "2024-04-16T18:45:27.322Z"
   },
   {
    "duration": 14,
    "start_time": "2024-04-16T18:46:12.731Z"
   },
   {
    "duration": 878,
    "start_time": "2024-04-16T18:46:26.780Z"
   },
   {
    "duration": 1054,
    "start_time": "2024-04-16T18:46:37.125Z"
   },
   {
    "duration": 1991,
    "start_time": "2024-04-16T18:49:49.872Z"
   },
   {
    "duration": 486,
    "start_time": "2024-04-16T18:50:27.289Z"
   },
   {
    "duration": 491,
    "start_time": "2024-04-16T18:50:49.003Z"
   },
   {
    "duration": 16,
    "start_time": "2024-04-16T19:10:39.348Z"
   },
   {
    "duration": 3,
    "start_time": "2024-04-16T19:11:18.351Z"
   },
   {
    "duration": 15,
    "start_time": "2024-04-16T19:11:57.592Z"
   },
   {
    "duration": 5,
    "start_time": "2024-04-16T19:13:48.003Z"
   },
   {
    "duration": 16,
    "start_time": "2024-04-16T19:14:03.212Z"
   },
   {
    "duration": 1537,
    "start_time": "2024-04-16T19:14:12.129Z"
   },
   {
    "duration": 6,
    "start_time": "2024-04-16T19:14:37.696Z"
   },
   {
    "duration": 17,
    "start_time": "2024-04-16T19:14:40.008Z"
   },
   {
    "duration": 1010,
    "start_time": "2024-04-16T19:15:54.283Z"
   },
   {
    "duration": 901,
    "start_time": "2024-04-16T19:16:49.656Z"
   },
   {
    "duration": 211,
    "start_time": "2024-04-16T19:21:08.593Z"
   },
   {
    "duration": 241,
    "start_time": "2024-04-16T19:21:41.121Z"
   },
   {
    "duration": 174,
    "start_time": "2024-04-16T19:22:14.987Z"
   },
   {
    "duration": 225,
    "start_time": "2024-04-16T19:24:00.908Z"
   },
   {
    "duration": 362,
    "start_time": "2024-04-16T19:24:05.665Z"
   },
   {
    "duration": 220,
    "start_time": "2024-04-16T19:24:12.898Z"
   },
   {
    "duration": 271,
    "start_time": "2024-04-16T19:24:29.580Z"
   },
   {
    "duration": 233,
    "start_time": "2024-04-16T19:25:16.327Z"
   },
   {
    "duration": 270,
    "start_time": "2024-04-16T19:25:24.277Z"
   },
   {
    "duration": 146,
    "start_time": "2024-04-16T19:25:54.936Z"
   },
   {
    "duration": 162,
    "start_time": "2024-04-16T19:26:08.512Z"
   },
   {
    "duration": 228,
    "start_time": "2024-04-16T19:26:19.577Z"
   },
   {
    "duration": 259,
    "start_time": "2024-04-16T19:26:48.026Z"
   },
   {
    "duration": 233,
    "start_time": "2024-04-16T19:27:04.968Z"
   },
   {
    "duration": 299,
    "start_time": "2024-04-16T19:27:15.357Z"
   },
   {
    "duration": 256,
    "start_time": "2024-04-16T19:27:22.838Z"
   },
   {
    "duration": 405,
    "start_time": "2024-04-16T19:29:25.999Z"
   },
   {
    "duration": 271,
    "start_time": "2024-04-16T19:29:32.895Z"
   },
   {
    "duration": 1769,
    "start_time": "2024-04-16T19:33:45.544Z"
   },
   {
    "duration": 7,
    "start_time": "2024-04-16T19:33:49.559Z"
   },
   {
    "duration": 288,
    "start_time": "2024-04-16T19:33:53.030Z"
   },
   {
    "duration": 280,
    "start_time": "2024-04-16T19:34:25.676Z"
   },
   {
    "duration": 270,
    "start_time": "2024-04-16T19:34:45.488Z"
   },
   {
    "duration": 6,
    "start_time": "2024-04-16T19:35:29.227Z"
   },
   {
    "duration": 280,
    "start_time": "2024-04-16T19:35:52.903Z"
   },
   {
    "duration": 401,
    "start_time": "2024-04-16T19:36:22.310Z"
   },
   {
    "duration": 237,
    "start_time": "2024-04-16T19:36:33.595Z"
   },
   {
    "duration": 259,
    "start_time": "2024-04-16T19:38:55.216Z"
   },
   {
    "duration": 279,
    "start_time": "2024-04-16T19:39:48.304Z"
   },
   {
    "duration": 296,
    "start_time": "2024-04-16T19:39:59.122Z"
   },
   {
    "duration": 247,
    "start_time": "2024-04-16T19:43:44.394Z"
   },
   {
    "duration": 163,
    "start_time": "2024-04-16T19:44:14.845Z"
   },
   {
    "duration": 158,
    "start_time": "2024-04-16T19:44:42.771Z"
   },
   {
    "duration": 191,
    "start_time": "2024-04-16T19:45:22.949Z"
   },
   {
    "duration": 140,
    "start_time": "2024-04-16T19:45:35.485Z"
   },
   {
    "duration": 5,
    "start_time": "2024-04-16T19:55:13.445Z"
   },
   {
    "duration": 4,
    "start_time": "2024-04-16T20:07:45.807Z"
   },
   {
    "duration": 35,
    "start_time": "2024-04-16T20:08:36.167Z"
   },
   {
    "duration": 7,
    "start_time": "2024-04-16T20:08:52.764Z"
   },
   {
    "duration": 36,
    "start_time": "2024-04-16T20:08:55.144Z"
   },
   {
    "duration": 7,
    "start_time": "2024-04-16T20:10:02.074Z"
   },
   {
    "duration": 28,
    "start_time": "2024-04-16T20:10:05.013Z"
   },
   {
    "duration": 5,
    "start_time": "2024-04-16T20:10:22.832Z"
   },
   {
    "duration": 11,
    "start_time": "2024-04-16T20:10:25.734Z"
   },
   {
    "duration": 39,
    "start_time": "2024-04-16T20:12:02.151Z"
   },
   {
    "duration": 132,
    "start_time": "2024-04-16T20:12:11.884Z"
   },
   {
    "duration": 7,
    "start_time": "2024-04-16T20:12:32.257Z"
   },
   {
    "duration": 133,
    "start_time": "2024-04-16T20:12:35.150Z"
   },
   {
    "duration": 223,
    "start_time": "2024-04-16T20:13:02.894Z"
   },
   {
    "duration": 290,
    "start_time": "2024-04-16T20:13:15.086Z"
   },
   {
    "duration": 289,
    "start_time": "2024-04-16T20:14:05.251Z"
   },
   {
    "duration": 292,
    "start_time": "2024-04-16T20:14:11.657Z"
   },
   {
    "duration": 6,
    "start_time": "2024-04-16T20:14:21.867Z"
   },
   {
    "duration": 401,
    "start_time": "2024-04-16T20:14:24.283Z"
   },
   {
    "duration": 392,
    "start_time": "2024-04-16T20:15:22.535Z"
   },
   {
    "duration": 588,
    "start_time": "2024-04-16T20:15:37.525Z"
   },
   {
    "duration": 12,
    "start_time": "2024-04-16T20:15:44.677Z"
   },
   {
    "duration": 340,
    "start_time": "2024-04-16T20:15:47.103Z"
   },
   {
    "duration": 334,
    "start_time": "2024-04-16T20:15:50.887Z"
   },
   {
    "duration": 5,
    "start_time": "2024-04-16T20:16:04.153Z"
   },
   {
    "duration": 331,
    "start_time": "2024-04-16T20:16:08.662Z"
   },
   {
    "duration": 5,
    "start_time": "2024-04-16T20:16:14.300Z"
   },
   {
    "duration": 414,
    "start_time": "2024-04-16T20:16:20.766Z"
   },
   {
    "duration": 9,
    "start_time": "2024-04-16T20:22:45.988Z"
   },
   {
    "duration": 4,
    "start_time": "2024-04-16T20:33:49.634Z"
   },
   {
    "duration": 20554,
    "start_time": "2024-04-16T20:33:56.697Z"
   },
   {
    "duration": 2054,
    "start_time": "2024-04-16T20:34:17.255Z"
   },
   {
    "duration": 59,
    "start_time": "2024-04-16T20:34:19.311Z"
   },
   {
    "duration": 21,
    "start_time": "2024-04-16T20:34:19.372Z"
   },
   {
    "duration": 5,
    "start_time": "2024-04-16T20:34:19.395Z"
   },
   {
    "duration": 5,
    "start_time": "2024-04-16T20:34:19.402Z"
   },
   {
    "duration": 290,
    "start_time": "2024-04-16T20:34:19.409Z"
   },
   {
    "duration": 1139,
    "start_time": "2024-04-16T20:34:19.701Z"
   },
   {
    "duration": 529,
    "start_time": "2024-04-16T20:34:20.842Z"
   },
   {
    "duration": 8,
    "start_time": "2024-04-16T20:34:21.373Z"
   },
   {
    "duration": 260,
    "start_time": "2024-04-16T20:34:21.383Z"
   },
   {
    "duration": 10,
    "start_time": "2024-04-16T20:34:21.645Z"
   },
   {
    "duration": 5,
    "start_time": "2024-04-16T20:34:21.657Z"
   },
   {
    "duration": 187,
    "start_time": "2024-04-16T20:34:43.757Z"
   },
   {
    "duration": 16,
    "start_time": "2024-04-16T20:34:49.217Z"
   },
   {
    "duration": 100,
    "start_time": "2024-04-16T20:36:04.275Z"
   },
   {
    "duration": 25,
    "start_time": "2024-04-16T20:36:14.483Z"
   },
   {
    "duration": 40,
    "start_time": "2024-04-16T20:38:24.488Z"
   },
   {
    "duration": 27,
    "start_time": "2024-04-16T20:44:17.155Z"
   },
   {
    "duration": 22,
    "start_time": "2024-04-16T20:44:43.332Z"
   },
   {
    "duration": 31,
    "start_time": "2024-04-16T20:44:47.911Z"
   },
   {
    "duration": 18,
    "start_time": "2024-04-16T20:44:50.635Z"
   },
   {
    "duration": 14,
    "start_time": "2024-04-16T20:46:04.580Z"
   },
   {
    "duration": 75841,
    "start_time": "2024-04-16T20:46:26.556Z"
   },
   {
    "duration": 19708,
    "start_time": "2024-04-16T20:47:50.620Z"
   },
   {
    "duration": 1985,
    "start_time": "2024-04-16T20:48:10.330Z"
   },
   {
    "duration": 61,
    "start_time": "2024-04-16T20:48:12.317Z"
   },
   {
    "duration": 17,
    "start_time": "2024-04-16T20:48:12.380Z"
   },
   {
    "duration": 4,
    "start_time": "2024-04-16T20:48:12.399Z"
   },
   {
    "duration": 4,
    "start_time": "2024-04-16T20:48:12.405Z"
   },
   {
    "duration": 272,
    "start_time": "2024-04-16T20:48:12.410Z"
   },
   {
    "duration": 1164,
    "start_time": "2024-04-16T20:48:12.684Z"
   },
   {
    "duration": 565,
    "start_time": "2024-04-16T20:48:13.850Z"
   },
   {
    "duration": 9,
    "start_time": "2024-04-16T20:48:14.418Z"
   },
   {
    "duration": 345,
    "start_time": "2024-04-16T20:48:14.429Z"
   },
   {
    "duration": 6,
    "start_time": "2024-04-16T20:48:14.776Z"
   },
   {
    "duration": 5,
    "start_time": "2024-04-16T20:48:14.785Z"
   },
   {
    "duration": 25,
    "start_time": "2024-04-16T20:48:14.791Z"
   },
   {
    "duration": 10,
    "start_time": "2024-04-16T20:48:14.818Z"
   },
   {
    "duration": 44,
    "start_time": "2024-04-16T20:48:14.829Z"
   },
   {
    "duration": 14272,
    "start_time": "2024-04-16T20:48:14.875Z"
   },
   {
    "duration": 0,
    "start_time": "2024-04-16T20:48:29.149Z"
   },
   {
    "duration": 2567,
    "start_time": "2024-04-16T20:48:35.741Z"
   },
   {
    "duration": 4,
    "start_time": "2024-04-16T20:48:43.629Z"
   },
   {
    "duration": 11,
    "start_time": "2024-04-16T20:50:05.596Z"
   },
   {
    "duration": 6,
    "start_time": "2024-04-16T20:50:34.872Z"
   },
   {
    "duration": 32,
    "start_time": "2024-04-16T20:50:42.270Z"
   },
   {
    "duration": 18,
    "start_time": "2024-04-16T20:51:20.003Z"
   },
   {
    "duration": 19448,
    "start_time": "2024-04-16T20:53:28.407Z"
   },
   {
    "duration": 2066,
    "start_time": "2024-04-16T20:53:47.857Z"
   },
   {
    "duration": 64,
    "start_time": "2024-04-16T20:53:49.925Z"
   },
   {
    "duration": 19,
    "start_time": "2024-04-16T20:53:49.991Z"
   },
   {
    "duration": 5,
    "start_time": "2024-04-16T20:53:50.012Z"
   },
   {
    "duration": 19,
    "start_time": "2024-04-16T20:53:50.019Z"
   },
   {
    "duration": 296,
    "start_time": "2024-04-16T20:53:50.039Z"
   },
   {
    "duration": 1216,
    "start_time": "2024-04-16T20:53:50.336Z"
   },
   {
    "duration": 574,
    "start_time": "2024-04-16T20:53:51.554Z"
   },
   {
    "duration": 9,
    "start_time": "2024-04-16T20:53:52.132Z"
   },
   {
    "duration": 303,
    "start_time": "2024-04-16T20:53:52.143Z"
   },
   {
    "duration": 16,
    "start_time": "2024-04-16T20:53:52.448Z"
   },
   {
    "duration": 4,
    "start_time": "2024-04-16T20:53:52.467Z"
   },
   {
    "duration": 30,
    "start_time": "2024-04-16T20:53:52.473Z"
   },
   {
    "duration": 9,
    "start_time": "2024-04-16T20:53:52.504Z"
   },
   {
    "duration": 11,
    "start_time": "2024-04-16T20:53:52.515Z"
   },
   {
    "duration": 2529,
    "start_time": "2024-04-16T20:53:52.528Z"
   },
   {
    "duration": 7,
    "start_time": "2024-04-16T20:53:55.059Z"
   },
   {
    "duration": 185,
    "start_time": "2024-04-16T20:53:55.069Z"
   },
   {
    "duration": 19368,
    "start_time": "2024-04-16T20:54:40.883Z"
   },
   {
    "duration": 2096,
    "start_time": "2024-04-16T20:55:00.254Z"
   },
   {
    "duration": 54,
    "start_time": "2024-04-16T20:55:02.352Z"
   },
   {
    "duration": 63,
    "start_time": "2024-04-16T20:55:02.408Z"
   },
   {
    "duration": 26,
    "start_time": "2024-04-16T20:55:02.473Z"
   },
   {
    "duration": 62,
    "start_time": "2024-04-16T20:55:02.501Z"
   },
   {
    "duration": 323,
    "start_time": "2024-04-16T20:55:02.566Z"
   },
   {
    "duration": 1170,
    "start_time": "2024-04-16T20:55:02.890Z"
   },
   {
    "duration": 567,
    "start_time": "2024-04-16T20:55:04.063Z"
   },
   {
    "duration": 7,
    "start_time": "2024-04-16T20:55:04.632Z"
   },
   {
    "duration": 258,
    "start_time": "2024-04-16T20:55:04.640Z"
   },
   {
    "duration": 6,
    "start_time": "2024-04-16T20:55:04.900Z"
   },
   {
    "duration": 39,
    "start_time": "2024-04-16T20:55:04.907Z"
   },
   {
    "duration": 38,
    "start_time": "2024-04-16T20:55:04.948Z"
   },
   {
    "duration": 11,
    "start_time": "2024-04-16T20:55:04.987Z"
   },
   {
    "duration": 42,
    "start_time": "2024-04-16T20:55:04.999Z"
   },
   {
    "duration": 2473,
    "start_time": "2024-04-16T20:55:05.043Z"
   },
   {
    "duration": 4,
    "start_time": "2024-04-16T20:55:07.517Z"
   },
   {
    "duration": 22,
    "start_time": "2024-04-16T20:55:07.523Z"
   },
   {
    "duration": 11192,
    "start_time": "2024-04-16T20:57:37.409Z"
   },
   {
    "duration": 325,
    "start_time": "2024-04-16T20:58:12.200Z"
   },
   {
    "duration": 944,
    "start_time": "2024-04-16T20:58:35.819Z"
   },
   {
    "duration": 20396,
    "start_time": "2024-04-16T21:00:07.116Z"
   },
   {
    "duration": 4,
    "start_time": "2024-04-16T21:00:27.513Z"
   },
   {
    "duration": 23,
    "start_time": "2024-04-16T21:00:27.519Z"
   },
   {
    "duration": 7244,
    "start_time": "2024-04-16T21:00:27.544Z"
   },
   {
    "duration": 863,
    "start_time": "2024-04-16T21:00:34.790Z"
   },
   {
    "duration": 253,
    "start_time": "2024-04-16T21:03:01.001Z"
   },
   {
    "duration": 125,
    "start_time": "2024-04-16T21:03:19.718Z"
   },
   {
    "duration": 126,
    "start_time": "2024-04-16T21:03:47.437Z"
   },
   {
    "duration": 131,
    "start_time": "2024-04-16T21:03:58.194Z"
   },
   {
    "duration": 359,
    "start_time": "2024-04-16T21:04:24.261Z"
   },
   {
    "duration": 11,
    "start_time": "2024-04-16T21:05:24.401Z"
   },
   {
    "duration": 17011,
    "start_time": "2024-04-16T21:05:27.772Z"
   },
   {
    "duration": 4,
    "start_time": "2024-04-16T21:05:50.302Z"
   },
   {
    "duration": 9,
    "start_time": "2024-04-16T21:05:57.203Z"
   },
   {
    "duration": 6466,
    "start_time": "2024-04-16T21:06:06.375Z"
   },
   {
    "duration": 647,
    "start_time": "2024-04-16T21:06:19.768Z"
   },
   {
    "duration": 266,
    "start_time": "2024-04-16T21:06:25.467Z"
   },
   {
    "duration": 12,
    "start_time": "2024-04-16T21:12:22.173Z"
   },
   {
    "duration": 11,
    "start_time": "2024-04-16T21:13:44.156Z"
   },
   {
    "duration": 536,
    "start_time": "2024-04-16T21:25:40.077Z"
   },
   {
    "duration": 47,
    "start_time": "2024-04-17T19:56:41.390Z"
   },
   {
    "duration": 39213,
    "start_time": "2024-04-17T19:56:49.087Z"
   },
   {
    "duration": 2065,
    "start_time": "2024-04-17T19:57:28.302Z"
   },
   {
    "duration": 100,
    "start_time": "2024-04-17T19:57:30.369Z"
   },
   {
    "duration": 51,
    "start_time": "2024-04-17T19:57:30.471Z"
   },
   {
    "duration": 59,
    "start_time": "2024-04-17T19:57:30.524Z"
   },
   {
    "duration": 240,
    "start_time": "2024-04-17T19:57:30.584Z"
   },
   {
    "duration": 298,
    "start_time": "2024-04-17T19:57:30.827Z"
   },
   {
    "duration": 333,
    "start_time": "2024-04-17T20:02:09.651Z"
   },
   {
    "duration": 350,
    "start_time": "2024-04-17T20:17:16.466Z"
   },
   {
    "duration": 262,
    "start_time": "2024-04-17T20:17:42.686Z"
   },
   {
    "duration": 260,
    "start_time": "2024-04-17T20:18:26.467Z"
   },
   {
    "duration": 993,
    "start_time": "2024-04-17T20:32:45.449Z"
   },
   {
    "duration": 1100,
    "start_time": "2024-04-17T20:37:41.827Z"
   },
   {
    "duration": 953,
    "start_time": "2024-04-17T20:39:57.289Z"
   },
   {
    "duration": 64,
    "start_time": "2024-04-17T20:45:11.331Z"
   },
   {
    "duration": 4,
    "start_time": "2024-04-17T20:48:11.969Z"
   },
   {
    "duration": 91,
    "start_time": "2024-04-17T20:55:54.473Z"
   },
   {
    "duration": 16834,
    "start_time": "2024-04-17T20:57:08.547Z"
   },
   {
    "duration": 1846,
    "start_time": "2024-04-17T20:57:25.384Z"
   },
   {
    "duration": 54,
    "start_time": "2024-04-17T20:57:27.231Z"
   },
   {
    "duration": 16,
    "start_time": "2024-04-17T20:57:27.287Z"
   },
   {
    "duration": 5,
    "start_time": "2024-04-17T20:57:27.305Z"
   },
   {
    "duration": 4,
    "start_time": "2024-04-17T20:57:27.311Z"
   },
   {
    "duration": 15,
    "start_time": "2024-04-17T20:57:27.316Z"
   },
   {
    "duration": 277,
    "start_time": "2024-04-17T20:57:27.333Z"
   },
   {
    "duration": 1108,
    "start_time": "2024-04-17T20:57:27.612Z"
   },
   {
    "duration": 8,
    "start_time": "2024-04-17T20:57:28.723Z"
   },
   {
    "duration": 491,
    "start_time": "2024-04-17T20:57:28.732Z"
   },
   {
    "duration": 6,
    "start_time": "2024-04-17T20:57:29.225Z"
   },
   {
    "duration": 257,
    "start_time": "2024-04-17T20:57:29.233Z"
   },
   {
    "duration": 5,
    "start_time": "2024-04-17T20:57:29.491Z"
   },
   {
    "duration": 4,
    "start_time": "2024-04-17T20:57:29.498Z"
   },
   {
    "duration": 8,
    "start_time": "2024-04-17T20:57:29.503Z"
   },
   {
    "duration": 14,
    "start_time": "2024-04-17T20:57:29.512Z"
   },
   {
    "duration": 13,
    "start_time": "2024-04-17T20:57:29.528Z"
   },
   {
    "duration": 7,
    "start_time": "2024-04-17T20:57:29.542Z"
   },
   {
    "duration": 34,
    "start_time": "2024-04-17T20:57:29.550Z"
   },
   {
    "duration": 8,
    "start_time": "2024-04-17T20:57:29.585Z"
   },
   {
    "duration": 9287,
    "start_time": "2024-04-17T20:57:29.595Z"
   },
   {
    "duration": 4,
    "start_time": "2024-04-17T20:57:38.883Z"
   },
   {
    "duration": 17,
    "start_time": "2024-04-17T20:57:38.888Z"
   },
   {
    "duration": 9888,
    "start_time": "2024-04-17T20:57:38.907Z"
   },
   {
    "duration": 736,
    "start_time": "2024-04-17T20:57:48.797Z"
   },
   {
    "duration": 5,
    "start_time": "2024-04-17T21:54:33.386Z"
   },
   {
    "duration": 290,
    "start_time": "2024-04-17T21:55:41.664Z"
   },
   {
    "duration": 599,
    "start_time": "2024-04-17T21:56:02.392Z"
   },
   {
    "duration": 133,
    "start_time": "2024-04-17T21:57:19.494Z"
   },
   {
    "duration": 731,
    "start_time": "2024-04-17T21:58:01.161Z"
   },
   {
    "duration": 599,
    "start_time": "2024-04-17T21:58:44.432Z"
   },
   {
    "duration": 603,
    "start_time": "2024-04-17T22:03:32.651Z"
   },
   {
    "duration": 118,
    "start_time": "2024-04-17T22:03:50.542Z"
   },
   {
    "duration": 110,
    "start_time": "2024-04-17T22:04:24.268Z"
   },
   {
    "duration": 127,
    "start_time": "2024-04-17T22:04:38.196Z"
   },
   {
    "duration": 6,
    "start_time": "2024-04-17T22:06:35.917Z"
   },
   {
    "duration": 7,
    "start_time": "2024-04-17T22:06:54.584Z"
   },
   {
    "duration": 15,
    "start_time": "2024-04-17T22:07:45.405Z"
   },
   {
    "duration": 8,
    "start_time": "2024-04-17T22:07:58.112Z"
   },
   {
    "duration": 26,
    "start_time": "2024-04-17T22:08:19.624Z"
   },
   {
    "duration": 17,
    "start_time": "2024-04-17T22:08:41.486Z"
   },
   {
    "duration": 15,
    "start_time": "2024-04-17T22:09:17.947Z"
   },
   {
    "duration": 230,
    "start_time": "2024-04-17T22:09:45.606Z"
   },
   {
    "duration": 222,
    "start_time": "2024-04-17T22:09:57.836Z"
   },
   {
    "duration": 131,
    "start_time": "2024-04-17T22:13:47.923Z"
   },
   {
    "duration": 135,
    "start_time": "2024-04-17T22:14:11.238Z"
   },
   {
    "duration": 139,
    "start_time": "2024-04-17T22:15:30.374Z"
   },
   {
    "duration": 1182,
    "start_time": "2024-04-17T22:17:14.040Z"
   },
   {
    "duration": 1003,
    "start_time": "2024-04-17T22:29:13.968Z"
   },
   {
    "duration": 1208,
    "start_time": "2024-04-17T22:29:23.966Z"
   },
   {
    "duration": 1210,
    "start_time": "2024-04-17T22:32:42.702Z"
   },
   {
    "duration": 1667,
    "start_time": "2024-04-17T22:32:54.486Z"
   },
   {
    "duration": 6,
    "start_time": "2024-04-17T22:46:34.790Z"
   },
   {
    "duration": 65,
    "start_time": "2024-04-17T22:48:05.981Z"
   },
   {
    "duration": 558,
    "start_time": "2024-04-17T22:54:21.373Z"
   },
   {
    "duration": 138,
    "start_time": "2024-04-17T22:58:12.873Z"
   },
   {
    "duration": 25719,
    "start_time": "2024-04-17T22:59:31.628Z"
   },
   {
    "duration": 6,
    "start_time": "2024-04-17T22:59:57.350Z"
   },
   {
    "duration": 147,
    "start_time": "2024-04-17T23:00:05.451Z"
   },
   {
    "duration": 156,
    "start_time": "2024-04-17T23:01:48.477Z"
   },
   {
    "duration": 19331,
    "start_time": "2024-04-17T23:02:37.784Z"
   },
   {
    "duration": 8,
    "start_time": "2024-04-17T23:02:57.118Z"
   },
   {
    "duration": 31857,
    "start_time": "2024-04-17T23:03:04.059Z"
   },
   {
    "duration": 9,
    "start_time": "2024-04-17T23:03:35.919Z"
   },
   {
    "duration": 654,
    "start_time": "2024-04-17T23:06:05.747Z"
   },
   {
    "duration": 444,
    "start_time": "2024-04-17T23:06:15.822Z"
   },
   {
    "duration": 417,
    "start_time": "2024-04-17T23:08:11.034Z"
   },
   {
    "duration": 384,
    "start_time": "2024-04-17T23:08:30.480Z"
   },
   {
    "duration": 479,
    "start_time": "2024-04-17T23:09:04.495Z"
   },
   {
    "duration": 313,
    "start_time": "2024-04-17T23:16:06.626Z"
   },
   {
    "duration": 262,
    "start_time": "2024-04-17T23:16:32.854Z"
   },
   {
    "duration": 467,
    "start_time": "2024-04-17T23:17:06.293Z"
   },
   {
    "duration": 247,
    "start_time": "2024-04-17T23:17:21.396Z"
   },
   {
    "duration": 18068,
    "start_time": "2024-04-17T23:18:45.635Z"
   },
   {
    "duration": 2170,
    "start_time": "2024-04-17T23:19:03.705Z"
   },
   {
    "duration": 54,
    "start_time": "2024-04-17T23:19:05.877Z"
   },
   {
    "duration": 21,
    "start_time": "2024-04-17T23:19:05.933Z"
   },
   {
    "duration": 8,
    "start_time": "2024-04-17T23:19:05.955Z"
   },
   {
    "duration": 11,
    "start_time": "2024-04-17T23:19:05.964Z"
   },
   {
    "duration": 39,
    "start_time": "2024-04-17T23:19:05.977Z"
   },
   {
    "duration": 551,
    "start_time": "2024-04-17T23:19:06.018Z"
   },
   {
    "duration": 1969,
    "start_time": "2024-04-17T23:19:06.571Z"
   },
   {
    "duration": 8,
    "start_time": "2024-04-17T23:19:08.543Z"
   },
   {
    "duration": 409,
    "start_time": "2024-04-17T23:19:08.552Z"
   },
   {
    "duration": 525,
    "start_time": "2024-04-17T23:19:08.962Z"
   },
   {
    "duration": 8,
    "start_time": "2024-04-17T23:19:09.492Z"
   },
   {
    "duration": 3,
    "start_time": "2024-04-17T23:19:09.501Z"
   },
   {
    "duration": 9,
    "start_time": "2024-04-17T23:19:09.506Z"
   },
   {
    "duration": 13,
    "start_time": "2024-04-17T23:19:09.517Z"
   },
   {
    "duration": 18,
    "start_time": "2024-04-17T23:19:09.531Z"
   },
   {
    "duration": 7,
    "start_time": "2024-04-17T23:19:09.550Z"
   },
   {
    "duration": 8,
    "start_time": "2024-04-17T23:19:09.558Z"
   },
   {
    "duration": 27,
    "start_time": "2024-04-17T23:19:09.567Z"
   },
   {
    "duration": 8553,
    "start_time": "2024-04-17T23:19:09.596Z"
   },
   {
    "duration": 5,
    "start_time": "2024-04-17T23:19:18.151Z"
   },
   {
    "duration": 36,
    "start_time": "2024-04-17T23:19:18.158Z"
   },
   {
    "duration": 5,
    "start_time": "2024-04-17T23:19:18.197Z"
   },
   {
    "duration": 13590,
    "start_time": "2024-04-17T23:19:18.203Z"
   },
   {
    "duration": 513,
    "start_time": "2024-04-17T23:19:31.800Z"
   },
   {
    "duration": 378,
    "start_time": "2024-04-17T23:19:51.513Z"
   },
   {
    "duration": 17863,
    "start_time": "2024-04-17T23:22:10.650Z"
   },
   {
    "duration": 2069,
    "start_time": "2024-04-17T23:22:28.516Z"
   },
   {
    "duration": 54,
    "start_time": "2024-04-17T23:22:30.587Z"
   },
   {
    "duration": 71,
    "start_time": "2024-04-17T23:22:30.642Z"
   },
   {
    "duration": 92,
    "start_time": "2024-04-17T23:22:30.715Z"
   },
   {
    "duration": 129,
    "start_time": "2024-04-17T23:22:30.809Z"
   },
   {
    "duration": 80,
    "start_time": "2024-04-17T23:22:30.940Z"
   },
   {
    "duration": 628,
    "start_time": "2024-04-17T23:22:31.022Z"
   },
   {
    "duration": 1946,
    "start_time": "2024-04-17T23:22:31.652Z"
   },
   {
    "duration": 7,
    "start_time": "2024-04-17T23:22:33.600Z"
   },
   {
    "duration": 418,
    "start_time": "2024-04-17T23:22:33.609Z"
   },
   {
    "duration": 509,
    "start_time": "2024-04-17T23:22:34.029Z"
   },
   {
    "duration": 5,
    "start_time": "2024-04-17T23:22:34.540Z"
   },
   {
    "duration": 5,
    "start_time": "2024-04-17T23:22:34.547Z"
   },
   {
    "duration": 13,
    "start_time": "2024-04-17T23:22:34.553Z"
   },
   {
    "duration": 31,
    "start_time": "2024-04-17T23:22:34.567Z"
   },
   {
    "duration": 9,
    "start_time": "2024-04-17T23:22:34.600Z"
   },
   {
    "duration": 7,
    "start_time": "2024-04-17T23:22:34.610Z"
   },
   {
    "duration": 13,
    "start_time": "2024-04-17T23:22:34.619Z"
   },
   {
    "duration": 21,
    "start_time": "2024-04-17T23:22:34.633Z"
   },
   {
    "duration": 8555,
    "start_time": "2024-04-17T23:22:34.655Z"
   },
   {
    "duration": 4,
    "start_time": "2024-04-17T23:22:43.212Z"
   },
   {
    "duration": 15,
    "start_time": "2024-04-17T23:22:43.217Z"
   },
   {
    "duration": 5,
    "start_time": "2024-04-17T23:22:43.234Z"
   },
   {
    "duration": 13024,
    "start_time": "2024-04-17T23:22:43.241Z"
   },
   {
    "duration": 403,
    "start_time": "2024-04-17T23:22:56.267Z"
   },
   {
    "duration": 48,
    "start_time": "2024-04-18T16:47:39.517Z"
   },
   {
    "duration": 92,
    "start_time": "2024-04-18T16:52:50.517Z"
   },
   {
    "duration": 38088,
    "start_time": "2024-04-18T16:56:09.971Z"
   },
   {
    "duration": 2069,
    "start_time": "2024-04-18T16:56:48.062Z"
   },
   {
    "duration": 152,
    "start_time": "2024-04-18T16:56:50.133Z"
   },
   {
    "duration": 19,
    "start_time": "2024-04-18T16:56:50.287Z"
   },
   {
    "duration": 4,
    "start_time": "2024-04-18T16:56:50.308Z"
   },
   {
    "duration": 6,
    "start_time": "2024-04-18T16:56:50.314Z"
   },
   {
    "duration": 13,
    "start_time": "2024-04-18T16:56:50.322Z"
   },
   {
    "duration": 292,
    "start_time": "2024-04-18T16:56:50.337Z"
   },
   {
    "duration": 1644,
    "start_time": "2024-04-18T16:56:50.631Z"
   },
   {
    "duration": 7,
    "start_time": "2024-04-18T16:56:52.278Z"
   },
   {
    "duration": 234,
    "start_time": "2024-04-18T16:56:52.287Z"
   },
   {
    "duration": 6,
    "start_time": "2024-04-18T16:56:52.522Z"
   },
   {
    "duration": 246,
    "start_time": "2024-04-18T16:56:52.529Z"
   },
   {
    "duration": 5,
    "start_time": "2024-04-18T16:56:52.776Z"
   },
   {
    "duration": 7,
    "start_time": "2024-04-18T16:56:52.782Z"
   },
   {
    "duration": 16,
    "start_time": "2024-04-18T16:56:52.790Z"
   },
   {
    "duration": 17,
    "start_time": "2024-04-18T16:56:52.807Z"
   },
   {
    "duration": 15,
    "start_time": "2024-04-18T16:56:52.825Z"
   },
   {
    "duration": 7,
    "start_time": "2024-04-18T16:56:52.841Z"
   },
   {
    "duration": 4,
    "start_time": "2024-04-18T16:56:52.859Z"
   },
   {
    "duration": 9,
    "start_time": "2024-04-18T16:56:52.865Z"
   },
   {
    "duration": 8312,
    "start_time": "2024-04-18T16:56:52.876Z"
   },
   {
    "duration": 5,
    "start_time": "2024-04-18T16:57:01.190Z"
   },
   {
    "duration": 38,
    "start_time": "2024-04-18T16:57:01.197Z"
   },
   {
    "duration": 29,
    "start_time": "2024-04-18T16:57:01.237Z"
   },
   {
    "duration": 13027,
    "start_time": "2024-04-18T16:57:01.268Z"
   },
   {
    "duration": 433,
    "start_time": "2024-04-18T16:57:14.297Z"
   },
   {
    "duration": 16391,
    "start_time": "2024-04-18T17:19:01.060Z"
   },
   {
    "duration": 1835,
    "start_time": "2024-04-18T17:19:17.454Z"
   },
   {
    "duration": 51,
    "start_time": "2024-04-18T17:19:19.291Z"
   },
   {
    "duration": 17,
    "start_time": "2024-04-18T17:19:19.343Z"
   },
   {
    "duration": 4,
    "start_time": "2024-04-18T17:19:19.362Z"
   },
   {
    "duration": 14,
    "start_time": "2024-04-18T17:19:19.367Z"
   },
   {
    "duration": 15,
    "start_time": "2024-04-18T17:19:19.383Z"
   },
   {
    "duration": 267,
    "start_time": "2024-04-18T17:19:19.399Z"
   },
   {
    "duration": 1559,
    "start_time": "2024-04-18T17:19:19.668Z"
   },
   {
    "duration": 7,
    "start_time": "2024-04-18T17:19:21.229Z"
   },
   {
    "duration": 255,
    "start_time": "2024-04-18T17:19:21.237Z"
   },
   {
    "duration": 7,
    "start_time": "2024-04-18T17:19:21.493Z"
   },
   {
    "duration": 248,
    "start_time": "2024-04-18T17:19:21.501Z"
   },
   {
    "duration": 7,
    "start_time": "2024-04-18T17:19:21.751Z"
   },
   {
    "duration": 31,
    "start_time": "2024-04-18T17:19:21.760Z"
   },
   {
    "duration": 22,
    "start_time": "2024-04-18T17:19:21.793Z"
   },
   {
    "duration": 36,
    "start_time": "2024-04-18T17:19:21.817Z"
   },
   {
    "duration": 19,
    "start_time": "2024-04-18T17:19:21.855Z"
   },
   {
    "duration": 10,
    "start_time": "2024-04-18T17:19:21.875Z"
   },
   {
    "duration": 18,
    "start_time": "2024-04-18T17:19:21.887Z"
   },
   {
    "duration": 29,
    "start_time": "2024-04-18T17:19:21.907Z"
   },
   {
    "duration": 7970,
    "start_time": "2024-04-18T17:19:21.938Z"
   },
   {
    "duration": 4,
    "start_time": "2024-04-18T17:19:29.910Z"
   },
   {
    "duration": 11,
    "start_time": "2024-04-18T17:19:29.916Z"
   },
   {
    "duration": 5,
    "start_time": "2024-04-18T17:19:29.929Z"
   },
   {
    "duration": 12830,
    "start_time": "2024-04-18T17:19:29.936Z"
   },
   {
    "duration": 353,
    "start_time": "2024-04-18T17:19:42.767Z"
   },
   {
    "duration": 16411,
    "start_time": "2024-04-18T17:21:13.610Z"
   },
   {
    "duration": 1801,
    "start_time": "2024-04-18T17:21:30.024Z"
   },
   {
    "duration": 47,
    "start_time": "2024-04-18T17:21:31.826Z"
   },
   {
    "duration": 52,
    "start_time": "2024-04-18T17:21:31.875Z"
   },
   {
    "duration": 28,
    "start_time": "2024-04-18T17:21:31.929Z"
   },
   {
    "duration": 55,
    "start_time": "2024-04-18T17:21:31.959Z"
   },
   {
    "duration": 63,
    "start_time": "2024-04-18T17:21:32.015Z"
   },
   {
    "duration": 319,
    "start_time": "2024-04-18T17:21:32.079Z"
   },
   {
    "duration": 1579,
    "start_time": "2024-04-18T17:21:32.400Z"
   },
   {
    "duration": 7,
    "start_time": "2024-04-18T17:21:33.981Z"
   },
   {
    "duration": 228,
    "start_time": "2024-04-18T17:21:33.989Z"
   },
   {
    "duration": 6,
    "start_time": "2024-04-18T17:21:34.218Z"
   },
   {
    "duration": 245,
    "start_time": "2024-04-18T17:21:34.225Z"
   },
   {
    "duration": 5,
    "start_time": "2024-04-18T17:21:34.471Z"
   },
   {
    "duration": 5,
    "start_time": "2024-04-18T17:21:34.478Z"
   },
   {
    "duration": 9,
    "start_time": "2024-04-18T17:21:34.485Z"
   },
   {
    "duration": 12,
    "start_time": "2024-04-18T17:21:34.495Z"
   },
   {
    "duration": 10,
    "start_time": "2024-04-18T17:21:34.508Z"
   },
   {
    "duration": 6,
    "start_time": "2024-04-18T17:21:34.519Z"
   },
   {
    "duration": 6,
    "start_time": "2024-04-18T17:21:34.527Z"
   },
   {
    "duration": 3,
    "start_time": "2024-04-18T17:21:34.558Z"
   },
   {
    "duration": 7685,
    "start_time": "2024-04-18T17:21:34.563Z"
   },
   {
    "duration": 3,
    "start_time": "2024-04-18T17:21:42.249Z"
   },
   {
    "duration": 8,
    "start_time": "2024-04-18T17:21:42.253Z"
   },
   {
    "duration": 27,
    "start_time": "2024-04-18T17:21:42.262Z"
   },
   {
    "duration": 12070,
    "start_time": "2024-04-18T17:21:42.290Z"
   },
   {
    "duration": 357,
    "start_time": "2024-04-18T17:21:54.362Z"
   },
   {
    "duration": 17143,
    "start_time": "2024-04-18T17:23:00.932Z"
   },
   {
    "duration": 1780,
    "start_time": "2024-04-18T17:23:18.077Z"
   },
   {
    "duration": 51,
    "start_time": "2024-04-18T17:23:19.862Z"
   },
   {
    "duration": 17,
    "start_time": "2024-04-18T17:23:19.915Z"
   },
   {
    "duration": 5,
    "start_time": "2024-04-18T17:23:19.933Z"
   },
   {
    "duration": 4,
    "start_time": "2024-04-18T17:23:19.939Z"
   },
   {
    "duration": 11,
    "start_time": "2024-04-18T17:23:19.945Z"
   },
   {
    "duration": 285,
    "start_time": "2024-04-18T17:23:19.957Z"
   },
   {
    "duration": 1607,
    "start_time": "2024-04-18T17:23:20.244Z"
   },
   {
    "duration": 2,
    "start_time": "2024-04-18T17:23:21.854Z"
   },
   {
    "duration": 120,
    "start_time": "2024-04-18T17:23:21.857Z"
   },
   {
    "duration": 8,
    "start_time": "2024-04-18T17:23:21.979Z"
   },
   {
    "duration": 260,
    "start_time": "2024-04-18T17:23:21.989Z"
   },
   {
    "duration": 19,
    "start_time": "2024-04-18T17:23:22.251Z"
   },
   {
    "duration": 4,
    "start_time": "2024-04-18T17:23:22.272Z"
   },
   {
    "duration": 17,
    "start_time": "2024-04-18T17:23:22.277Z"
   },
   {
    "duration": 61,
    "start_time": "2024-04-18T17:23:22.295Z"
   },
   {
    "duration": 30,
    "start_time": "2024-04-18T17:23:22.358Z"
   },
   {
    "duration": 27,
    "start_time": "2024-04-18T17:23:22.390Z"
   },
   {
    "duration": 59,
    "start_time": "2024-04-18T17:23:22.419Z"
   },
   {
    "duration": 35,
    "start_time": "2024-04-18T17:23:22.480Z"
   },
   {
    "duration": 6008,
    "start_time": "2024-04-18T17:23:22.517Z"
   },
   {
    "duration": 4,
    "start_time": "2024-04-18T17:23:28.526Z"
   },
   {
    "duration": 14,
    "start_time": "2024-04-18T17:23:28.531Z"
   },
   {
    "duration": 24,
    "start_time": "2024-04-18T17:23:28.546Z"
   },
   {
    "duration": 5398,
    "start_time": "2024-04-18T17:23:28.572Z"
   },
   {
    "duration": 354,
    "start_time": "2024-04-18T17:23:33.973Z"
   },
   {
    "duration": 16303,
    "start_time": "2024-04-18T17:26:08.269Z"
   },
   {
    "duration": 1793,
    "start_time": "2024-04-18T17:26:24.574Z"
   },
   {
    "duration": 49,
    "start_time": "2024-04-18T17:26:26.368Z"
   },
   {
    "duration": 16,
    "start_time": "2024-04-18T17:26:26.419Z"
   },
   {
    "duration": 5,
    "start_time": "2024-04-18T17:26:26.436Z"
   },
   {
    "duration": 5,
    "start_time": "2024-04-18T17:26:26.442Z"
   },
   {
    "duration": 13,
    "start_time": "2024-04-18T17:26:26.448Z"
   },
   {
    "duration": 290,
    "start_time": "2024-04-18T17:26:26.463Z"
   },
   {
    "duration": 1577,
    "start_time": "2024-04-18T17:26:26.758Z"
   },
   {
    "duration": 2,
    "start_time": "2024-04-18T17:26:28.338Z"
   },
   {
    "duration": 103,
    "start_time": "2024-04-18T17:26:28.341Z"
   },
   {
    "duration": 14,
    "start_time": "2024-04-18T17:26:28.445Z"
   },
   {
    "duration": 261,
    "start_time": "2024-04-18T17:26:28.460Z"
   },
   {
    "duration": 5,
    "start_time": "2024-04-18T17:26:28.722Z"
   },
   {
    "duration": 7,
    "start_time": "2024-04-18T17:26:28.729Z"
   },
   {
    "duration": 11,
    "start_time": "2024-04-18T17:26:28.738Z"
   },
   {
    "duration": 20,
    "start_time": "2024-04-18T17:26:28.750Z"
   },
   {
    "duration": 16,
    "start_time": "2024-04-18T17:26:28.772Z"
   },
   {
    "duration": 22,
    "start_time": "2024-04-18T17:26:28.790Z"
   },
   {
    "duration": 7,
    "start_time": "2024-04-18T17:26:28.813Z"
   },
   {
    "duration": 19,
    "start_time": "2024-04-18T17:26:28.822Z"
   },
   {
    "duration": 7083,
    "start_time": "2024-04-18T17:26:28.843Z"
   },
   {
    "duration": 4,
    "start_time": "2024-04-18T17:26:35.927Z"
   },
   {
    "duration": 12,
    "start_time": "2024-04-18T17:26:35.932Z"
   },
   {
    "duration": 16,
    "start_time": "2024-04-18T17:26:35.945Z"
   },
   {
    "duration": 6488,
    "start_time": "2024-04-18T17:26:35.963Z"
   },
   {
    "duration": 377,
    "start_time": "2024-04-18T17:26:42.453Z"
   },
   {
    "duration": 18245,
    "start_time": "2024-04-18T17:32:28.455Z"
   },
   {
    "duration": 1846,
    "start_time": "2024-04-18T17:32:46.702Z"
   },
   {
    "duration": 57,
    "start_time": "2024-04-18T17:32:48.550Z"
   },
   {
    "duration": 18,
    "start_time": "2024-04-18T17:32:48.609Z"
   },
   {
    "duration": 5,
    "start_time": "2024-04-18T17:32:48.628Z"
   },
   {
    "duration": 4,
    "start_time": "2024-04-18T17:32:48.635Z"
   },
   {
    "duration": 8,
    "start_time": "2024-04-18T17:32:48.641Z"
   },
   {
    "duration": 281,
    "start_time": "2024-04-18T17:32:48.651Z"
   },
   {
    "duration": 1662,
    "start_time": "2024-04-18T17:32:48.933Z"
   },
   {
    "duration": 2,
    "start_time": "2024-04-18T17:32:50.598Z"
   },
   {
    "duration": 108,
    "start_time": "2024-04-18T17:32:50.602Z"
   },
   {
    "duration": 7,
    "start_time": "2024-04-18T17:32:50.712Z"
   },
   {
    "duration": 275,
    "start_time": "2024-04-18T17:32:50.720Z"
   },
   {
    "duration": 4,
    "start_time": "2024-04-18T17:32:50.997Z"
   },
   {
    "duration": 13,
    "start_time": "2024-04-18T17:32:51.003Z"
   },
   {
    "duration": 18,
    "start_time": "2024-04-18T17:32:51.018Z"
   },
   {
    "duration": 18,
    "start_time": "2024-04-18T17:32:51.037Z"
   },
   {
    "duration": 31,
    "start_time": "2024-04-18T17:32:51.056Z"
   },
   {
    "duration": 7,
    "start_time": "2024-04-18T17:32:51.089Z"
   },
   {
    "duration": 18,
    "start_time": "2024-04-18T17:32:51.098Z"
   },
   {
    "duration": 17,
    "start_time": "2024-04-18T17:32:51.117Z"
   },
   {
    "duration": 8259,
    "start_time": "2024-04-18T17:32:51.135Z"
   },
   {
    "duration": 4,
    "start_time": "2024-04-18T17:32:59.396Z"
   },
   {
    "duration": 14,
    "start_time": "2024-04-18T17:32:59.402Z"
   },
   {
    "duration": 5,
    "start_time": "2024-04-18T17:32:59.418Z"
   },
   {
    "duration": 13655,
    "start_time": "2024-04-18T17:32:59.424Z"
   },
   {
    "duration": 428,
    "start_time": "2024-04-18T17:33:13.086Z"
   },
   {
    "duration": 18331,
    "start_time": "2024-04-18T17:35:26.351Z"
   },
   {
    "duration": 1896,
    "start_time": "2024-04-18T17:35:44.684Z"
   },
   {
    "duration": 49,
    "start_time": "2024-04-18T17:35:46.582Z"
   },
   {
    "duration": 16,
    "start_time": "2024-04-18T17:35:46.633Z"
   },
   {
    "duration": 30,
    "start_time": "2024-04-18T17:35:46.650Z"
   },
   {
    "duration": 22,
    "start_time": "2024-04-18T17:35:46.684Z"
   },
   {
    "duration": 21,
    "start_time": "2024-04-18T17:35:46.707Z"
   },
   {
    "duration": 282,
    "start_time": "2024-04-18T17:35:46.729Z"
   },
   {
    "duration": 1634,
    "start_time": "2024-04-18T17:35:47.013Z"
   },
   {
    "duration": 5,
    "start_time": "2024-04-18T17:35:48.650Z"
   },
   {
    "duration": 117,
    "start_time": "2024-04-18T17:35:48.657Z"
   },
   {
    "duration": 9,
    "start_time": "2024-04-18T17:35:48.776Z"
   },
   {
    "duration": 257,
    "start_time": "2024-04-18T17:35:48.787Z"
   },
   {
    "duration": 4,
    "start_time": "2024-04-18T17:35:49.046Z"
   },
   {
    "duration": 25,
    "start_time": "2024-04-18T17:35:49.051Z"
   },
   {
    "duration": 14,
    "start_time": "2024-04-18T17:35:49.078Z"
   },
   {
    "duration": 18,
    "start_time": "2024-04-18T17:35:49.093Z"
   },
   {
    "duration": 28,
    "start_time": "2024-04-18T17:35:49.113Z"
   },
   {
    "duration": 48,
    "start_time": "2024-04-18T17:35:49.143Z"
   },
   {
    "duration": 16,
    "start_time": "2024-04-18T17:35:49.193Z"
   },
   {
    "duration": 40,
    "start_time": "2024-04-18T17:35:49.211Z"
   },
   {
    "duration": 11389,
    "start_time": "2024-04-18T17:35:49.253Z"
   },
   {
    "duration": 5,
    "start_time": "2024-04-18T17:36:00.643Z"
   },
   {
    "duration": 82,
    "start_time": "2024-04-18T17:36:00.649Z"
   },
   {
    "duration": 58,
    "start_time": "2024-04-18T17:36:00.733Z"
   },
   {
    "duration": 10834,
    "start_time": "2024-04-18T17:36:00.792Z"
   },
   {
    "duration": 588,
    "start_time": "2024-04-18T17:36:11.628Z"
   },
   {
    "duration": 19,
    "start_time": "2024-04-18T17:52:59.188Z"
   },
   {
    "duration": 18358,
    "start_time": "2024-04-18T17:55:17.444Z"
   },
   {
    "duration": 1849,
    "start_time": "2024-04-18T17:55:35.804Z"
   },
   {
    "duration": 51,
    "start_time": "2024-04-18T17:55:37.655Z"
   },
   {
    "duration": 18,
    "start_time": "2024-04-18T17:55:37.708Z"
   },
   {
    "duration": 5,
    "start_time": "2024-04-18T17:55:37.728Z"
   },
   {
    "duration": 7,
    "start_time": "2024-04-18T17:55:37.734Z"
   },
   {
    "duration": 10,
    "start_time": "2024-04-18T17:55:37.743Z"
   },
   {
    "duration": 293,
    "start_time": "2024-04-18T17:55:37.754Z"
   },
   {
    "duration": 1686,
    "start_time": "2024-04-18T17:55:38.049Z"
   },
   {
    "duration": 8,
    "start_time": "2024-04-18T17:55:39.738Z"
   },
   {
    "duration": 109,
    "start_time": "2024-04-18T17:55:39.748Z"
   },
   {
    "duration": 10,
    "start_time": "2024-04-18T17:55:39.858Z"
   },
   {
    "duration": 275,
    "start_time": "2024-04-18T17:55:39.870Z"
   },
   {
    "duration": 4,
    "start_time": "2024-04-18T17:55:40.147Z"
   },
   {
    "duration": 13,
    "start_time": "2024-04-18T17:55:40.153Z"
   },
   {
    "duration": 16,
    "start_time": "2024-04-18T17:55:40.174Z"
   },
   {
    "duration": 19,
    "start_time": "2024-04-18T17:55:40.191Z"
   },
   {
    "duration": 22,
    "start_time": "2024-04-18T17:55:40.213Z"
   },
   {
    "duration": 10,
    "start_time": "2024-04-18T17:55:40.237Z"
   },
   {
    "duration": 26,
    "start_time": "2024-04-18T17:55:40.248Z"
   },
   {
    "duration": 3,
    "start_time": "2024-04-18T17:55:40.282Z"
   },
   {
    "duration": 28648,
    "start_time": "2024-04-18T17:55:40.287Z"
   },
   {
    "duration": 4,
    "start_time": "2024-04-18T17:56:08.937Z"
   },
   {
    "duration": 31,
    "start_time": "2024-04-18T17:56:08.942Z"
   },
   {
    "duration": 10,
    "start_time": "2024-04-18T17:56:08.975Z"
   },
   {
    "duration": 10927,
    "start_time": "2024-04-18T17:56:08.987Z"
   },
   {
    "duration": 431,
    "start_time": "2024-04-18T17:56:19.915Z"
   },
   {
    "duration": 16420,
    "start_time": "2024-04-18T17:58:42.971Z"
   },
   {
    "duration": 1814,
    "start_time": "2024-04-18T17:58:59.393Z"
   },
   {
    "duration": 55,
    "start_time": "2024-04-18T17:59:01.209Z"
   },
   {
    "duration": 37,
    "start_time": "2024-04-18T17:59:01.266Z"
   },
   {
    "duration": 31,
    "start_time": "2024-04-18T17:59:01.304Z"
   },
   {
    "duration": 37,
    "start_time": "2024-04-18T17:59:01.336Z"
   },
   {
    "duration": 35,
    "start_time": "2024-04-18T17:59:01.375Z"
   },
   {
    "duration": 359,
    "start_time": "2024-04-18T17:59:01.411Z"
   },
   {
    "duration": 1528,
    "start_time": "2024-04-18T17:59:01.771Z"
   },
   {
    "duration": 7,
    "start_time": "2024-04-18T17:59:03.302Z"
   },
   {
    "duration": 104,
    "start_time": "2024-04-18T17:59:03.310Z"
   },
   {
    "duration": 8,
    "start_time": "2024-04-18T17:59:03.416Z"
   },
   {
    "duration": 244,
    "start_time": "2024-04-18T17:59:03.425Z"
   },
   {
    "duration": 4,
    "start_time": "2024-04-18T17:59:03.671Z"
   },
   {
    "duration": 12,
    "start_time": "2024-04-18T17:59:03.677Z"
   },
   {
    "duration": 8,
    "start_time": "2024-04-18T17:59:03.690Z"
   },
   {
    "duration": 18,
    "start_time": "2024-04-18T17:59:03.699Z"
   },
   {
    "duration": 10,
    "start_time": "2024-04-18T17:59:03.719Z"
   },
   {
    "duration": 6,
    "start_time": "2024-04-18T17:59:03.730Z"
   },
   {
    "duration": 5,
    "start_time": "2024-04-18T17:59:03.758Z"
   },
   {
    "duration": 18,
    "start_time": "2024-04-18T17:59:03.764Z"
   },
   {
    "duration": 24709,
    "start_time": "2024-04-18T17:59:03.783Z"
   },
   {
    "duration": 6,
    "start_time": "2024-04-18T17:59:28.493Z"
   },
   {
    "duration": 163,
    "start_time": "2024-04-18T17:59:28.501Z"
   },
   {
    "duration": 0,
    "start_time": "2024-04-18T17:59:28.666Z"
   },
   {
    "duration": 0,
    "start_time": "2024-04-18T17:59:28.668Z"
   },
   {
    "duration": 0,
    "start_time": "2024-04-18T17:59:28.669Z"
   },
   {
    "duration": 17,
    "start_time": "2024-04-18T18:01:03.937Z"
   },
   {
    "duration": 15,
    "start_time": "2024-04-18T18:01:25.519Z"
   },
   {
    "duration": 22,
    "start_time": "2024-04-18T18:01:34.948Z"
   },
   {
    "duration": 35,
    "start_time": "2024-04-18T18:01:42.803Z"
   },
   {
    "duration": 17495,
    "start_time": "2024-04-18T18:03:14.718Z"
   },
   {
    "duration": 1960,
    "start_time": "2024-04-18T18:03:32.217Z"
   },
   {
    "duration": 51,
    "start_time": "2024-04-18T18:03:34.178Z"
   },
   {
    "duration": 18,
    "start_time": "2024-04-18T18:03:34.231Z"
   },
   {
    "duration": 4,
    "start_time": "2024-04-18T18:03:34.250Z"
   },
   {
    "duration": 16,
    "start_time": "2024-04-18T18:03:34.256Z"
   },
   {
    "duration": 20,
    "start_time": "2024-04-18T18:03:34.274Z"
   },
   {
    "duration": 272,
    "start_time": "2024-04-18T18:03:34.296Z"
   },
   {
    "duration": 1586,
    "start_time": "2024-04-18T18:03:34.569Z"
   },
   {
    "duration": 8,
    "start_time": "2024-04-18T18:03:36.158Z"
   },
   {
    "duration": 105,
    "start_time": "2024-04-18T18:03:36.168Z"
   },
   {
    "duration": 8,
    "start_time": "2024-04-18T18:03:36.275Z"
   },
   {
    "duration": 264,
    "start_time": "2024-04-18T18:03:36.285Z"
   },
   {
    "duration": 22,
    "start_time": "2024-04-18T18:03:36.551Z"
   },
   {
    "duration": 3,
    "start_time": "2024-04-18T18:03:36.575Z"
   },
   {
    "duration": 14,
    "start_time": "2024-04-18T18:03:36.580Z"
   },
   {
    "duration": 19,
    "start_time": "2024-04-18T18:03:36.596Z"
   },
   {
    "duration": 10,
    "start_time": "2024-04-18T18:03:36.617Z"
   },
   {
    "duration": 48,
    "start_time": "2024-04-18T18:03:36.629Z"
   },
   {
    "duration": 7,
    "start_time": "2024-04-18T18:03:36.679Z"
   },
   {
    "duration": 13,
    "start_time": "2024-04-18T18:03:36.688Z"
   },
   {
    "duration": 26,
    "start_time": "2024-04-18T18:03:36.702Z"
   },
   {
    "duration": 27265,
    "start_time": "2024-04-18T18:03:36.729Z"
   },
   {
    "duration": 4,
    "start_time": "2024-04-18T18:04:03.996Z"
   },
   {
    "duration": 44,
    "start_time": "2024-04-18T18:04:04.001Z"
   },
   {
    "duration": 28,
    "start_time": "2024-04-18T18:04:04.046Z"
   },
   {
    "duration": 11222,
    "start_time": "2024-04-18T18:04:04.075Z"
   },
   {
    "duration": 439,
    "start_time": "2024-04-18T18:04:15.300Z"
   },
   {
    "duration": 17176,
    "start_time": "2024-04-18T18:06:20.574Z"
   },
   {
    "duration": 1828,
    "start_time": "2024-04-18T18:06:37.752Z"
   },
   {
    "duration": 50,
    "start_time": "2024-04-18T18:06:39.581Z"
   },
   {
    "duration": 17,
    "start_time": "2024-04-18T18:06:39.633Z"
   },
   {
    "duration": 4,
    "start_time": "2024-04-18T18:06:39.652Z"
   },
   {
    "duration": 29,
    "start_time": "2024-04-18T18:06:39.657Z"
   },
   {
    "duration": 12,
    "start_time": "2024-04-18T18:06:39.687Z"
   },
   {
    "duration": 281,
    "start_time": "2024-04-18T18:06:39.701Z"
   },
   {
    "duration": 1572,
    "start_time": "2024-04-18T18:06:39.983Z"
   },
   {
    "duration": 4,
    "start_time": "2024-04-18T18:06:41.559Z"
   },
   {
    "duration": 110,
    "start_time": "2024-04-18T18:06:41.565Z"
   },
   {
    "duration": 8,
    "start_time": "2024-04-18T18:06:41.677Z"
   },
   {
    "duration": 244,
    "start_time": "2024-04-18T18:06:41.687Z"
   },
   {
    "duration": 5,
    "start_time": "2024-04-18T18:06:41.933Z"
   },
   {
    "duration": 30,
    "start_time": "2024-04-18T18:06:41.940Z"
   },
   {
    "duration": 10,
    "start_time": "2024-04-18T18:06:41.972Z"
   },
   {
    "duration": 24,
    "start_time": "2024-04-18T18:06:41.984Z"
   },
   {
    "duration": 16,
    "start_time": "2024-04-18T18:06:42.010Z"
   },
   {
    "duration": 47,
    "start_time": "2024-04-18T18:06:42.028Z"
   },
   {
    "duration": 8,
    "start_time": "2024-04-18T18:06:42.077Z"
   },
   {
    "duration": 8,
    "start_time": "2024-04-18T18:06:42.087Z"
   },
   {
    "duration": 20,
    "start_time": "2024-04-18T18:06:42.096Z"
   },
   {
    "duration": 21982,
    "start_time": "2024-04-18T18:06:42.118Z"
   },
   {
    "duration": 4,
    "start_time": "2024-04-18T18:07:04.101Z"
   },
   {
    "duration": 12,
    "start_time": "2024-04-18T18:07:04.107Z"
   },
   {
    "duration": 17,
    "start_time": "2024-04-18T18:07:04.121Z"
   },
   {
    "duration": 11079,
    "start_time": "2024-04-18T18:07:04.139Z"
   },
   {
    "duration": 417,
    "start_time": "2024-04-18T18:07:15.221Z"
   },
   {
    "duration": 16273,
    "start_time": "2024-04-18T18:09:17.203Z"
   },
   {
    "duration": 1783,
    "start_time": "2024-04-18T18:09:33.478Z"
   },
   {
    "duration": 48,
    "start_time": "2024-04-18T18:09:35.263Z"
   },
   {
    "duration": 16,
    "start_time": "2024-04-18T18:09:35.313Z"
   },
   {
    "duration": 14,
    "start_time": "2024-04-18T18:09:35.330Z"
   },
   {
    "duration": 7,
    "start_time": "2024-04-18T18:09:35.345Z"
   },
   {
    "duration": 18,
    "start_time": "2024-04-18T18:09:35.353Z"
   },
   {
    "duration": 271,
    "start_time": "2024-04-18T18:09:35.372Z"
   },
   {
    "duration": 1467,
    "start_time": "2024-04-18T18:09:35.644Z"
   },
   {
    "duration": 5,
    "start_time": "2024-04-18T18:09:37.114Z"
   },
   {
    "duration": 96,
    "start_time": "2024-04-18T18:09:37.120Z"
   },
   {
    "duration": 7,
    "start_time": "2024-04-18T18:09:37.217Z"
   },
   {
    "duration": 237,
    "start_time": "2024-04-18T18:09:37.226Z"
   },
   {
    "duration": 5,
    "start_time": "2024-04-18T18:09:37.465Z"
   },
   {
    "duration": 7,
    "start_time": "2024-04-18T18:09:37.471Z"
   },
   {
    "duration": 12,
    "start_time": "2024-04-18T18:09:37.479Z"
   },
   {
    "duration": 18,
    "start_time": "2024-04-18T18:09:37.493Z"
   },
   {
    "duration": 10,
    "start_time": "2024-04-18T18:09:37.512Z"
   },
   {
    "duration": 56,
    "start_time": "2024-04-18T18:09:37.523Z"
   },
   {
    "duration": 18,
    "start_time": "2024-04-18T18:09:37.581Z"
   },
   {
    "duration": 8,
    "start_time": "2024-04-18T18:09:37.601Z"
   },
   {
    "duration": 22,
    "start_time": "2024-04-18T18:09:37.611Z"
   },
   {
    "duration": 23073,
    "start_time": "2024-04-18T18:09:37.635Z"
   },
   {
    "duration": 4,
    "start_time": "2024-04-18T18:10:00.710Z"
   },
   {
    "duration": 92,
    "start_time": "2024-04-18T18:10:00.715Z"
   },
   {
    "duration": 159,
    "start_time": "2024-04-18T18:10:00.809Z"
   },
   {
    "duration": 11179,
    "start_time": "2024-04-18T18:10:00.970Z"
   },
   {
    "duration": 374,
    "start_time": "2024-04-18T18:10:12.160Z"
   },
   {
    "duration": 7,
    "start_time": "2024-04-18T18:24:56.468Z"
   },
   {
    "duration": 241,
    "start_time": "2024-04-18T18:24:58.697Z"
   },
   {
    "duration": 16870,
    "start_time": "2024-04-18T18:26:24.485Z"
   },
   {
    "duration": 1824,
    "start_time": "2024-04-18T18:26:41.357Z"
   },
   {
    "duration": 49,
    "start_time": "2024-04-18T18:26:43.183Z"
   },
   {
    "duration": 17,
    "start_time": "2024-04-18T18:26:43.234Z"
   },
   {
    "duration": 5,
    "start_time": "2024-04-18T18:26:43.253Z"
   },
   {
    "duration": 5,
    "start_time": "2024-04-18T18:26:43.259Z"
   },
   {
    "duration": 14,
    "start_time": "2024-04-18T18:26:43.265Z"
   },
   {
    "duration": 306,
    "start_time": "2024-04-18T18:26:43.280Z"
   },
   {
    "duration": 1547,
    "start_time": "2024-04-18T18:26:43.588Z"
   },
   {
    "duration": 7,
    "start_time": "2024-04-18T18:26:45.137Z"
   },
   {
    "duration": 329,
    "start_time": "2024-04-18T18:26:45.146Z"
   },
   {
    "duration": 9,
    "start_time": "2024-04-18T18:26:45.477Z"
   },
   {
    "duration": 311,
    "start_time": "2024-04-18T18:26:45.487Z"
   },
   {
    "duration": 5,
    "start_time": "2024-04-18T18:26:45.801Z"
   },
   {
    "duration": 20,
    "start_time": "2024-04-18T18:26:45.807Z"
   },
   {
    "duration": 37,
    "start_time": "2024-04-18T18:26:45.828Z"
   },
   {
    "duration": 39,
    "start_time": "2024-04-18T18:26:45.866Z"
   },
   {
    "duration": 31,
    "start_time": "2024-04-18T18:26:45.907Z"
   },
   {
    "duration": 42,
    "start_time": "2024-04-18T18:26:45.940Z"
   },
   {
    "duration": 11,
    "start_time": "2024-04-18T18:26:45.984Z"
   },
   {
    "duration": 24,
    "start_time": "2024-04-18T18:26:45.997Z"
   },
   {
    "duration": 34,
    "start_time": "2024-04-18T18:26:46.023Z"
   },
   {
    "duration": 26312,
    "start_time": "2024-04-18T18:26:46.058Z"
   },
   {
    "duration": 4,
    "start_time": "2024-04-18T18:27:12.372Z"
   },
   {
    "duration": 23,
    "start_time": "2024-04-18T18:27:12.377Z"
   },
   {
    "duration": 5,
    "start_time": "2024-04-18T18:27:12.401Z"
   },
   {
    "duration": 9943,
    "start_time": "2024-04-18T18:27:12.407Z"
   },
   {
    "duration": 492,
    "start_time": "2024-04-18T18:27:22.352Z"
   },
   {
    "duration": 16963,
    "start_time": "2024-04-18T18:33:08.673Z"
   },
   {
    "duration": 1876,
    "start_time": "2024-04-18T18:33:25.639Z"
   },
   {
    "duration": 58,
    "start_time": "2024-04-18T18:33:27.516Z"
   },
   {
    "duration": 18,
    "start_time": "2024-04-18T18:33:27.577Z"
   },
   {
    "duration": 4,
    "start_time": "2024-04-18T18:33:27.597Z"
   },
   {
    "duration": 10,
    "start_time": "2024-04-18T18:33:27.603Z"
   },
   {
    "duration": 17,
    "start_time": "2024-04-18T18:33:27.615Z"
   },
   {
    "duration": 299,
    "start_time": "2024-04-18T18:33:27.634Z"
   },
   {
    "duration": 1529,
    "start_time": "2024-04-18T18:33:27.934Z"
   },
   {
    "duration": 8,
    "start_time": "2024-04-18T18:33:29.467Z"
   },
   {
    "duration": 249,
    "start_time": "2024-04-18T18:33:29.477Z"
   },
   {
    "duration": 8,
    "start_time": "2024-04-18T18:33:29.728Z"
   },
   {
    "duration": 251,
    "start_time": "2024-04-18T18:33:29.737Z"
   },
   {
    "duration": 6,
    "start_time": "2024-04-18T18:33:29.989Z"
   },
   {
    "duration": 4,
    "start_time": "2024-04-18T18:33:29.996Z"
   },
   {
    "duration": 9,
    "start_time": "2024-04-18T18:33:30.001Z"
   },
   {
    "duration": 35,
    "start_time": "2024-04-18T18:33:30.011Z"
   },
   {
    "duration": 55,
    "start_time": "2024-04-18T18:33:30.048Z"
   },
   {
    "duration": 61,
    "start_time": "2024-04-18T18:33:30.105Z"
   },
   {
    "duration": 26,
    "start_time": "2024-04-18T18:33:30.168Z"
   },
   {
    "duration": 116,
    "start_time": "2024-04-18T18:33:30.196Z"
   },
   {
    "duration": 95,
    "start_time": "2024-04-18T18:33:30.314Z"
   },
   {
    "duration": 26665,
    "start_time": "2024-04-18T18:33:30.411Z"
   },
   {
    "duration": 5,
    "start_time": "2024-04-18T18:33:57.078Z"
   },
   {
    "duration": 21,
    "start_time": "2024-04-18T18:33:57.084Z"
   },
   {
    "duration": 13,
    "start_time": "2024-04-18T18:33:57.107Z"
   },
   {
    "duration": 9945,
    "start_time": "2024-04-18T18:33:57.121Z"
   },
   {
    "duration": 459,
    "start_time": "2024-04-18T18:34:07.069Z"
   }
  ],
  "kernelspec": {
   "display_name": "Python 3 (ipykernel)",
   "language": "python",
   "name": "python3"
  },
  "language_info": {
   "codemirror_mode": {
    "name": "ipython",
    "version": 3
   },
   "file_extension": ".py",
   "mimetype": "text/x-python",
   "name": "python",
   "nbconvert_exporter": "python",
   "pygments_lexer": "ipython3",
   "version": "3.11.5"
  },
  "toc": {
   "base_numbering": 1,
   "nav_menu": {},
   "number_sections": true,
   "sideBar": true,
   "skip_h1_title": true,
   "title_cell": "Содержание",
   "title_sidebar": "Contents",
   "toc_cell": true,
   "toc_position": {},
   "toc_section_display": true,
   "toc_window_display": true
  }
 },
 "nbformat": 4,
 "nbformat_minor": 2
}
