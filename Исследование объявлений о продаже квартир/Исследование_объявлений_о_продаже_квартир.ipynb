{
 "cells": [
  {
   "cell_type": "markdown",
   "metadata": {},
   "source": [
    "# Исследование объявлений о продаже квартир\n",
    "\n",
    "В распоряжении имеются данные сервиса Яндекс.Недвижимость — архив объявлений о продаже квартир в Санкт-Петербурге и соседних населённых пунктов за несколько лет. Нужно научиться определять рыночную стоимость объектов недвижимости. Задача -- установить параметры для построения автоматизированной системы отслеживающей аномалии и мошенническую деятельность. \n",
    "\n",
    "По каждой квартире на продажу доступны два вида данных. Первые вписаны пользователем, вторые — получены автоматически на основе картографических данных. Например, расстояние до центра, аэропорта, ближайшего парка и водоёма. "
   ]
  },
  {
   "cell_type": "markdown",
   "metadata": {},
   "source": [
    "### Обзор данных. "
   ]
  },
  {
   "cell_type": "code",
   "execution_count": null,
   "metadata": {},
   "outputs": [],
   "source": [
    "import pandas as pd\n",
    "from matplotlib import pyplot as plt\n",
    "from math import floor"
   ]
  },
  {
   "cell_type": "code",
   "execution_count": 1,
   "metadata": {
    "scrolled": true
   },
   "outputs": [
    {
     "name": "stdout",
     "output_type": "stream",
     "text": [
      "<class 'pandas.core.frame.DataFrame'>\n",
      "RangeIndex: 23699 entries, 0 to 23698\n",
      "Data columns (total 22 columns):\n",
      " #   Column                Non-Null Count  Dtype  \n",
      "---  ------                --------------  -----  \n",
      " 0   total_images          23699 non-null  int64  \n",
      " 1   last_price            23699 non-null  float64\n",
      " 2   total_area            23699 non-null  float64\n",
      " 3   first_day_exposition  23699 non-null  object \n",
      " 4   rooms                 23699 non-null  int64  \n",
      " 5   ceiling_height        14504 non-null  float64\n",
      " 6   floors_total          23613 non-null  float64\n",
      " 7   living_area           21796 non-null  float64\n",
      " 8   floor                 23699 non-null  int64  \n",
      " 9   is_apartment          2775 non-null   object \n",
      " 10  studio                23699 non-null  bool   \n",
      " 11  open_plan             23699 non-null  bool   \n",
      " 12  kitchen_area          21421 non-null  float64\n",
      " 13  balcony               12180 non-null  float64\n",
      " 14  locality_name         23650 non-null  object \n",
      " 15  airports_nearest      18157 non-null  float64\n",
      " 16  cityCenters_nearest   18180 non-null  float64\n",
      " 17  parks_around3000      18181 non-null  float64\n",
      " 18  parks_nearest         8079 non-null   float64\n",
      " 19  ponds_around3000      18181 non-null  float64\n",
      " 20  ponds_nearest         9110 non-null   float64\n",
      " 21  days_exposition       20518 non-null  float64\n",
      "dtypes: bool(2), float64(14), int64(3), object(3)\n",
      "memory usage: 3.7+ MB\n"
     ]
    },
    {
     "data": {
      "text/plain": [
       "None"
      ]
     },
     "metadata": {},
     "output_type": "display_data"
    },
    {
     "data": {
      "text/html": [
       "<div>\n",
       "<style scoped>\n",
       "    .dataframe tbody tr th:only-of-type {\n",
       "        vertical-align: middle;\n",
       "    }\n",
       "\n",
       "    .dataframe tbody tr th {\n",
       "        vertical-align: top;\n",
       "    }\n",
       "\n",
       "    .dataframe thead th {\n",
       "        text-align: right;\n",
       "    }\n",
       "</style>\n",
       "<table border=\"1\" class=\"dataframe\">\n",
       "  <thead>\n",
       "    <tr style=\"text-align: right;\">\n",
       "      <th></th>\n",
       "      <th>total_images</th>\n",
       "      <th>last_price</th>\n",
       "      <th>total_area</th>\n",
       "      <th>first_day_exposition</th>\n",
       "      <th>rooms</th>\n",
       "      <th>ceiling_height</th>\n",
       "      <th>floors_total</th>\n",
       "      <th>living_area</th>\n",
       "      <th>floor</th>\n",
       "      <th>is_apartment</th>\n",
       "      <th>...</th>\n",
       "      <th>kitchen_area</th>\n",
       "      <th>balcony</th>\n",
       "      <th>locality_name</th>\n",
       "      <th>airports_nearest</th>\n",
       "      <th>cityCenters_nearest</th>\n",
       "      <th>parks_around3000</th>\n",
       "      <th>parks_nearest</th>\n",
       "      <th>ponds_around3000</th>\n",
       "      <th>ponds_nearest</th>\n",
       "      <th>days_exposition</th>\n",
       "    </tr>\n",
       "  </thead>\n",
       "  <tbody>\n",
       "    <tr>\n",
       "      <th>0</th>\n",
       "      <td>20</td>\n",
       "      <td>13000000.0</td>\n",
       "      <td>108.00</td>\n",
       "      <td>2019-03-07T00:00:00</td>\n",
       "      <td>3</td>\n",
       "      <td>2.70</td>\n",
       "      <td>16.0</td>\n",
       "      <td>51.00</td>\n",
       "      <td>8</td>\n",
       "      <td>NaN</td>\n",
       "      <td>...</td>\n",
       "      <td>25.00</td>\n",
       "      <td>NaN</td>\n",
       "      <td>Санкт-Петербург</td>\n",
       "      <td>18863.0</td>\n",
       "      <td>16028.0</td>\n",
       "      <td>1.0</td>\n",
       "      <td>482.0</td>\n",
       "      <td>2.0</td>\n",
       "      <td>755.0</td>\n",
       "      <td>NaN</td>\n",
       "    </tr>\n",
       "    <tr>\n",
       "      <th>1</th>\n",
       "      <td>7</td>\n",
       "      <td>3350000.0</td>\n",
       "      <td>40.40</td>\n",
       "      <td>2018-12-04T00:00:00</td>\n",
       "      <td>1</td>\n",
       "      <td>NaN</td>\n",
       "      <td>11.0</td>\n",
       "      <td>18.60</td>\n",
       "      <td>1</td>\n",
       "      <td>NaN</td>\n",
       "      <td>...</td>\n",
       "      <td>11.00</td>\n",
       "      <td>2.0</td>\n",
       "      <td>посёлок Шушары</td>\n",
       "      <td>12817.0</td>\n",
       "      <td>18603.0</td>\n",
       "      <td>0.0</td>\n",
       "      <td>NaN</td>\n",
       "      <td>0.0</td>\n",
       "      <td>NaN</td>\n",
       "      <td>81.0</td>\n",
       "    </tr>\n",
       "    <tr>\n",
       "      <th>2</th>\n",
       "      <td>10</td>\n",
       "      <td>5196000.0</td>\n",
       "      <td>56.00</td>\n",
       "      <td>2015-08-20T00:00:00</td>\n",
       "      <td>2</td>\n",
       "      <td>NaN</td>\n",
       "      <td>5.0</td>\n",
       "      <td>34.30</td>\n",
       "      <td>4</td>\n",
       "      <td>NaN</td>\n",
       "      <td>...</td>\n",
       "      <td>8.30</td>\n",
       "      <td>0.0</td>\n",
       "      <td>Санкт-Петербург</td>\n",
       "      <td>21741.0</td>\n",
       "      <td>13933.0</td>\n",
       "      <td>1.0</td>\n",
       "      <td>90.0</td>\n",
       "      <td>2.0</td>\n",
       "      <td>574.0</td>\n",
       "      <td>558.0</td>\n",
       "    </tr>\n",
       "    <tr>\n",
       "      <th>3</th>\n",
       "      <td>0</td>\n",
       "      <td>64900000.0</td>\n",
       "      <td>159.00</td>\n",
       "      <td>2015-07-24T00:00:00</td>\n",
       "      <td>3</td>\n",
       "      <td>NaN</td>\n",
       "      <td>14.0</td>\n",
       "      <td>NaN</td>\n",
       "      <td>9</td>\n",
       "      <td>NaN</td>\n",
       "      <td>...</td>\n",
       "      <td>NaN</td>\n",
       "      <td>0.0</td>\n",
       "      <td>Санкт-Петербург</td>\n",
       "      <td>28098.0</td>\n",
       "      <td>6800.0</td>\n",
       "      <td>2.0</td>\n",
       "      <td>84.0</td>\n",
       "      <td>3.0</td>\n",
       "      <td>234.0</td>\n",
       "      <td>424.0</td>\n",
       "    </tr>\n",
       "    <tr>\n",
       "      <th>4</th>\n",
       "      <td>2</td>\n",
       "      <td>10000000.0</td>\n",
       "      <td>100.00</td>\n",
       "      <td>2018-06-19T00:00:00</td>\n",
       "      <td>2</td>\n",
       "      <td>3.03</td>\n",
       "      <td>14.0</td>\n",
       "      <td>32.00</td>\n",
       "      <td>13</td>\n",
       "      <td>NaN</td>\n",
       "      <td>...</td>\n",
       "      <td>41.00</td>\n",
       "      <td>NaN</td>\n",
       "      <td>Санкт-Петербург</td>\n",
       "      <td>31856.0</td>\n",
       "      <td>8098.0</td>\n",
       "      <td>2.0</td>\n",
       "      <td>112.0</td>\n",
       "      <td>1.0</td>\n",
       "      <td>48.0</td>\n",
       "      <td>121.0</td>\n",
       "    </tr>\n",
       "    <tr>\n",
       "      <th>5</th>\n",
       "      <td>10</td>\n",
       "      <td>2890000.0</td>\n",
       "      <td>30.40</td>\n",
       "      <td>2018-09-10T00:00:00</td>\n",
       "      <td>1</td>\n",
       "      <td>NaN</td>\n",
       "      <td>12.0</td>\n",
       "      <td>14.40</td>\n",
       "      <td>5</td>\n",
       "      <td>NaN</td>\n",
       "      <td>...</td>\n",
       "      <td>9.10</td>\n",
       "      <td>NaN</td>\n",
       "      <td>городской посёлок Янино-1</td>\n",
       "      <td>NaN</td>\n",
       "      <td>NaN</td>\n",
       "      <td>NaN</td>\n",
       "      <td>NaN</td>\n",
       "      <td>NaN</td>\n",
       "      <td>NaN</td>\n",
       "      <td>55.0</td>\n",
       "    </tr>\n",
       "    <tr>\n",
       "      <th>6</th>\n",
       "      <td>6</td>\n",
       "      <td>3700000.0</td>\n",
       "      <td>37.30</td>\n",
       "      <td>2017-11-02T00:00:00</td>\n",
       "      <td>1</td>\n",
       "      <td>NaN</td>\n",
       "      <td>26.0</td>\n",
       "      <td>10.60</td>\n",
       "      <td>6</td>\n",
       "      <td>NaN</td>\n",
       "      <td>...</td>\n",
       "      <td>14.40</td>\n",
       "      <td>1.0</td>\n",
       "      <td>посёлок Парголово</td>\n",
       "      <td>52996.0</td>\n",
       "      <td>19143.0</td>\n",
       "      <td>0.0</td>\n",
       "      <td>NaN</td>\n",
       "      <td>0.0</td>\n",
       "      <td>NaN</td>\n",
       "      <td>155.0</td>\n",
       "    </tr>\n",
       "    <tr>\n",
       "      <th>7</th>\n",
       "      <td>5</td>\n",
       "      <td>7915000.0</td>\n",
       "      <td>71.60</td>\n",
       "      <td>2019-04-18T00:00:00</td>\n",
       "      <td>2</td>\n",
       "      <td>NaN</td>\n",
       "      <td>24.0</td>\n",
       "      <td>NaN</td>\n",
       "      <td>22</td>\n",
       "      <td>NaN</td>\n",
       "      <td>...</td>\n",
       "      <td>18.90</td>\n",
       "      <td>2.0</td>\n",
       "      <td>Санкт-Петербург</td>\n",
       "      <td>23982.0</td>\n",
       "      <td>11634.0</td>\n",
       "      <td>0.0</td>\n",
       "      <td>NaN</td>\n",
       "      <td>0.0</td>\n",
       "      <td>NaN</td>\n",
       "      <td>NaN</td>\n",
       "    </tr>\n",
       "    <tr>\n",
       "      <th>8</th>\n",
       "      <td>20</td>\n",
       "      <td>2900000.0</td>\n",
       "      <td>33.16</td>\n",
       "      <td>2018-05-23T00:00:00</td>\n",
       "      <td>1</td>\n",
       "      <td>NaN</td>\n",
       "      <td>27.0</td>\n",
       "      <td>15.43</td>\n",
       "      <td>26</td>\n",
       "      <td>NaN</td>\n",
       "      <td>...</td>\n",
       "      <td>8.81</td>\n",
       "      <td>NaN</td>\n",
       "      <td>посёлок Мурино</td>\n",
       "      <td>NaN</td>\n",
       "      <td>NaN</td>\n",
       "      <td>NaN</td>\n",
       "      <td>NaN</td>\n",
       "      <td>NaN</td>\n",
       "      <td>NaN</td>\n",
       "      <td>189.0</td>\n",
       "    </tr>\n",
       "    <tr>\n",
       "      <th>9</th>\n",
       "      <td>18</td>\n",
       "      <td>5400000.0</td>\n",
       "      <td>61.00</td>\n",
       "      <td>2017-02-26T00:00:00</td>\n",
       "      <td>3</td>\n",
       "      <td>2.50</td>\n",
       "      <td>9.0</td>\n",
       "      <td>43.60</td>\n",
       "      <td>7</td>\n",
       "      <td>NaN</td>\n",
       "      <td>...</td>\n",
       "      <td>6.50</td>\n",
       "      <td>2.0</td>\n",
       "      <td>Санкт-Петербург</td>\n",
       "      <td>50898.0</td>\n",
       "      <td>15008.0</td>\n",
       "      <td>0.0</td>\n",
       "      <td>NaN</td>\n",
       "      <td>0.0</td>\n",
       "      <td>NaN</td>\n",
       "      <td>289.0</td>\n",
       "    </tr>\n",
       "    <tr>\n",
       "      <th>10</th>\n",
       "      <td>5</td>\n",
       "      <td>5050000.0</td>\n",
       "      <td>39.60</td>\n",
       "      <td>2017-11-16T00:00:00</td>\n",
       "      <td>1</td>\n",
       "      <td>2.67</td>\n",
       "      <td>12.0</td>\n",
       "      <td>20.30</td>\n",
       "      <td>3</td>\n",
       "      <td>NaN</td>\n",
       "      <td>...</td>\n",
       "      <td>8.50</td>\n",
       "      <td>NaN</td>\n",
       "      <td>Санкт-Петербург</td>\n",
       "      <td>38357.0</td>\n",
       "      <td>13878.0</td>\n",
       "      <td>1.0</td>\n",
       "      <td>310.0</td>\n",
       "      <td>2.0</td>\n",
       "      <td>553.0</td>\n",
       "      <td>137.0</td>\n",
       "    </tr>\n",
       "    <tr>\n",
       "      <th>11</th>\n",
       "      <td>9</td>\n",
       "      <td>3300000.0</td>\n",
       "      <td>44.00</td>\n",
       "      <td>2018-08-27T00:00:00</td>\n",
       "      <td>2</td>\n",
       "      <td>NaN</td>\n",
       "      <td>5.0</td>\n",
       "      <td>31.00</td>\n",
       "      <td>4</td>\n",
       "      <td>False</td>\n",
       "      <td>...</td>\n",
       "      <td>6.00</td>\n",
       "      <td>1.0</td>\n",
       "      <td>Ломоносов</td>\n",
       "      <td>48252.0</td>\n",
       "      <td>51677.0</td>\n",
       "      <td>0.0</td>\n",
       "      <td>NaN</td>\n",
       "      <td>0.0</td>\n",
       "      <td>NaN</td>\n",
       "      <td>7.0</td>\n",
       "    </tr>\n",
       "    <tr>\n",
       "      <th>12</th>\n",
       "      <td>10</td>\n",
       "      <td>3890000.0</td>\n",
       "      <td>54.00</td>\n",
       "      <td>2016-06-30T00:00:00</td>\n",
       "      <td>2</td>\n",
       "      <td>NaN</td>\n",
       "      <td>5.0</td>\n",
       "      <td>30.00</td>\n",
       "      <td>5</td>\n",
       "      <td>NaN</td>\n",
       "      <td>...</td>\n",
       "      <td>9.00</td>\n",
       "      <td>0.0</td>\n",
       "      <td>Сертолово</td>\n",
       "      <td>NaN</td>\n",
       "      <td>NaN</td>\n",
       "      <td>NaN</td>\n",
       "      <td>NaN</td>\n",
       "      <td>NaN</td>\n",
       "      <td>NaN</td>\n",
       "      <td>90.0</td>\n",
       "    </tr>\n",
       "    <tr>\n",
       "      <th>13</th>\n",
       "      <td>20</td>\n",
       "      <td>3550000.0</td>\n",
       "      <td>42.80</td>\n",
       "      <td>2017-07-01T00:00:00</td>\n",
       "      <td>2</td>\n",
       "      <td>2.56</td>\n",
       "      <td>5.0</td>\n",
       "      <td>27.00</td>\n",
       "      <td>5</td>\n",
       "      <td>NaN</td>\n",
       "      <td>...</td>\n",
       "      <td>5.20</td>\n",
       "      <td>1.0</td>\n",
       "      <td>Петергоф</td>\n",
       "      <td>37868.0</td>\n",
       "      <td>33058.0</td>\n",
       "      <td>1.0</td>\n",
       "      <td>294.0</td>\n",
       "      <td>3.0</td>\n",
       "      <td>298.0</td>\n",
       "      <td>366.0</td>\n",
       "    </tr>\n",
       "    <tr>\n",
       "      <th>14</th>\n",
       "      <td>1</td>\n",
       "      <td>4400000.0</td>\n",
       "      <td>36.00</td>\n",
       "      <td>2016-06-23T00:00:00</td>\n",
       "      <td>1</td>\n",
       "      <td>NaN</td>\n",
       "      <td>6.0</td>\n",
       "      <td>17.00</td>\n",
       "      <td>1</td>\n",
       "      <td>NaN</td>\n",
       "      <td>...</td>\n",
       "      <td>8.00</td>\n",
       "      <td>0.0</td>\n",
       "      <td>Пушкин</td>\n",
       "      <td>20782.0</td>\n",
       "      <td>30759.0</td>\n",
       "      <td>0.0</td>\n",
       "      <td>NaN</td>\n",
       "      <td>1.0</td>\n",
       "      <td>96.0</td>\n",
       "      <td>203.0</td>\n",
       "    </tr>\n",
       "    <tr>\n",
       "      <th>15</th>\n",
       "      <td>16</td>\n",
       "      <td>4650000.0</td>\n",
       "      <td>39.00</td>\n",
       "      <td>2017-11-18T00:00:00</td>\n",
       "      <td>1</td>\n",
       "      <td>NaN</td>\n",
       "      <td>14.0</td>\n",
       "      <td>20.50</td>\n",
       "      <td>5</td>\n",
       "      <td>NaN</td>\n",
       "      <td>...</td>\n",
       "      <td>7.60</td>\n",
       "      <td>1.0</td>\n",
       "      <td>Санкт-Петербург</td>\n",
       "      <td>12900.0</td>\n",
       "      <td>14259.0</td>\n",
       "      <td>1.0</td>\n",
       "      <td>590.0</td>\n",
       "      <td>1.0</td>\n",
       "      <td>296.0</td>\n",
       "      <td>19.0</td>\n",
       "    </tr>\n",
       "    <tr>\n",
       "      <th>16</th>\n",
       "      <td>11</td>\n",
       "      <td>6700000.0</td>\n",
       "      <td>82.00</td>\n",
       "      <td>2017-11-23T00:00:00</td>\n",
       "      <td>3</td>\n",
       "      <td>3.05</td>\n",
       "      <td>5.0</td>\n",
       "      <td>55.60</td>\n",
       "      <td>1</td>\n",
       "      <td>NaN</td>\n",
       "      <td>...</td>\n",
       "      <td>9.00</td>\n",
       "      <td>NaN</td>\n",
       "      <td>Санкт-Петербург</td>\n",
       "      <td>22108.0</td>\n",
       "      <td>10698.0</td>\n",
       "      <td>3.0</td>\n",
       "      <td>420.0</td>\n",
       "      <td>0.0</td>\n",
       "      <td>NaN</td>\n",
       "      <td>397.0</td>\n",
       "    </tr>\n",
       "    <tr>\n",
       "      <th>17</th>\n",
       "      <td>6</td>\n",
       "      <td>4180000.0</td>\n",
       "      <td>36.00</td>\n",
       "      <td>2016-09-09T00:00:00</td>\n",
       "      <td>1</td>\n",
       "      <td>NaN</td>\n",
       "      <td>17.0</td>\n",
       "      <td>16.50</td>\n",
       "      <td>7</td>\n",
       "      <td>NaN</td>\n",
       "      <td>...</td>\n",
       "      <td>11.00</td>\n",
       "      <td>1.0</td>\n",
       "      <td>Санкт-Петербург</td>\n",
       "      <td>33564.0</td>\n",
       "      <td>14616.0</td>\n",
       "      <td>0.0</td>\n",
       "      <td>NaN</td>\n",
       "      <td>1.0</td>\n",
       "      <td>859.0</td>\n",
       "      <td>571.0</td>\n",
       "    </tr>\n",
       "    <tr>\n",
       "      <th>18</th>\n",
       "      <td>8</td>\n",
       "      <td>3250000.0</td>\n",
       "      <td>31.00</td>\n",
       "      <td>2017-01-27T00:00:00</td>\n",
       "      <td>1</td>\n",
       "      <td>2.50</td>\n",
       "      <td>5.0</td>\n",
       "      <td>19.40</td>\n",
       "      <td>2</td>\n",
       "      <td>NaN</td>\n",
       "      <td>...</td>\n",
       "      <td>5.60</td>\n",
       "      <td>1.0</td>\n",
       "      <td>Санкт-Петербург</td>\n",
       "      <td>44060.0</td>\n",
       "      <td>10842.0</td>\n",
       "      <td>1.0</td>\n",
       "      <td>759.0</td>\n",
       "      <td>0.0</td>\n",
       "      <td>NaN</td>\n",
       "      <td>168.0</td>\n",
       "    </tr>\n",
       "    <tr>\n",
       "      <th>19</th>\n",
       "      <td>16</td>\n",
       "      <td>14200000.0</td>\n",
       "      <td>121.00</td>\n",
       "      <td>2019-01-09T00:00:00</td>\n",
       "      <td>3</td>\n",
       "      <td>2.75</td>\n",
       "      <td>16.0</td>\n",
       "      <td>76.00</td>\n",
       "      <td>8</td>\n",
       "      <td>NaN</td>\n",
       "      <td>...</td>\n",
       "      <td>12.00</td>\n",
       "      <td>NaN</td>\n",
       "      <td>Санкт-Петербург</td>\n",
       "      <td>38900.0</td>\n",
       "      <td>12843.0</td>\n",
       "      <td>0.0</td>\n",
       "      <td>NaN</td>\n",
       "      <td>0.0</td>\n",
       "      <td>NaN</td>\n",
       "      <td>97.0</td>\n",
       "    </tr>\n",
       "  </tbody>\n",
       "</table>\n",
       "<p>20 rows × 22 columns</p>\n",
       "</div>"
      ],
      "text/plain": [
       "    total_images  last_price  total_area first_day_exposition  rooms  \\\n",
       "0             20  13000000.0      108.00  2019-03-07T00:00:00      3   \n",
       "1              7   3350000.0       40.40  2018-12-04T00:00:00      1   \n",
       "2             10   5196000.0       56.00  2015-08-20T00:00:00      2   \n",
       "3              0  64900000.0      159.00  2015-07-24T00:00:00      3   \n",
       "4              2  10000000.0      100.00  2018-06-19T00:00:00      2   \n",
       "5             10   2890000.0       30.40  2018-09-10T00:00:00      1   \n",
       "6              6   3700000.0       37.30  2017-11-02T00:00:00      1   \n",
       "7              5   7915000.0       71.60  2019-04-18T00:00:00      2   \n",
       "8             20   2900000.0       33.16  2018-05-23T00:00:00      1   \n",
       "9             18   5400000.0       61.00  2017-02-26T00:00:00      3   \n",
       "10             5   5050000.0       39.60  2017-11-16T00:00:00      1   \n",
       "11             9   3300000.0       44.00  2018-08-27T00:00:00      2   \n",
       "12            10   3890000.0       54.00  2016-06-30T00:00:00      2   \n",
       "13            20   3550000.0       42.80  2017-07-01T00:00:00      2   \n",
       "14             1   4400000.0       36.00  2016-06-23T00:00:00      1   \n",
       "15            16   4650000.0       39.00  2017-11-18T00:00:00      1   \n",
       "16            11   6700000.0       82.00  2017-11-23T00:00:00      3   \n",
       "17             6   4180000.0       36.00  2016-09-09T00:00:00      1   \n",
       "18             8   3250000.0       31.00  2017-01-27T00:00:00      1   \n",
       "19            16  14200000.0      121.00  2019-01-09T00:00:00      3   \n",
       "\n",
       "    ceiling_height  floors_total  living_area  floor is_apartment  ...  \\\n",
       "0             2.70          16.0        51.00      8          NaN  ...   \n",
       "1              NaN          11.0        18.60      1          NaN  ...   \n",
       "2              NaN           5.0        34.30      4          NaN  ...   \n",
       "3              NaN          14.0          NaN      9          NaN  ...   \n",
       "4             3.03          14.0        32.00     13          NaN  ...   \n",
       "5              NaN          12.0        14.40      5          NaN  ...   \n",
       "6              NaN          26.0        10.60      6          NaN  ...   \n",
       "7              NaN          24.0          NaN     22          NaN  ...   \n",
       "8              NaN          27.0        15.43     26          NaN  ...   \n",
       "9             2.50           9.0        43.60      7          NaN  ...   \n",
       "10            2.67          12.0        20.30      3          NaN  ...   \n",
       "11             NaN           5.0        31.00      4        False  ...   \n",
       "12             NaN           5.0        30.00      5          NaN  ...   \n",
       "13            2.56           5.0        27.00      5          NaN  ...   \n",
       "14             NaN           6.0        17.00      1          NaN  ...   \n",
       "15             NaN          14.0        20.50      5          NaN  ...   \n",
       "16            3.05           5.0        55.60      1          NaN  ...   \n",
       "17             NaN          17.0        16.50      7          NaN  ...   \n",
       "18            2.50           5.0        19.40      2          NaN  ...   \n",
       "19            2.75          16.0        76.00      8          NaN  ...   \n",
       "\n",
       "    kitchen_area  balcony              locality_name  airports_nearest  \\\n",
       "0          25.00      NaN            Санкт-Петербург           18863.0   \n",
       "1          11.00      2.0             посёлок Шушары           12817.0   \n",
       "2           8.30      0.0            Санкт-Петербург           21741.0   \n",
       "3            NaN      0.0            Санкт-Петербург           28098.0   \n",
       "4          41.00      NaN            Санкт-Петербург           31856.0   \n",
       "5           9.10      NaN  городской посёлок Янино-1               NaN   \n",
       "6          14.40      1.0          посёлок Парголово           52996.0   \n",
       "7          18.90      2.0            Санкт-Петербург           23982.0   \n",
       "8           8.81      NaN             посёлок Мурино               NaN   \n",
       "9           6.50      2.0            Санкт-Петербург           50898.0   \n",
       "10          8.50      NaN            Санкт-Петербург           38357.0   \n",
       "11          6.00      1.0                  Ломоносов           48252.0   \n",
       "12          9.00      0.0                  Сертолово               NaN   \n",
       "13          5.20      1.0                   Петергоф           37868.0   \n",
       "14          8.00      0.0                     Пушкин           20782.0   \n",
       "15          7.60      1.0            Санкт-Петербург           12900.0   \n",
       "16          9.00      NaN            Санкт-Петербург           22108.0   \n",
       "17         11.00      1.0            Санкт-Петербург           33564.0   \n",
       "18          5.60      1.0            Санкт-Петербург           44060.0   \n",
       "19         12.00      NaN            Санкт-Петербург           38900.0   \n",
       "\n",
       "   cityCenters_nearest  parks_around3000  parks_nearest  ponds_around3000  \\\n",
       "0              16028.0               1.0          482.0               2.0   \n",
       "1              18603.0               0.0            NaN               0.0   \n",
       "2              13933.0               1.0           90.0               2.0   \n",
       "3               6800.0               2.0           84.0               3.0   \n",
       "4               8098.0               2.0          112.0               1.0   \n",
       "5                  NaN               NaN            NaN               NaN   \n",
       "6              19143.0               0.0            NaN               0.0   \n",
       "7              11634.0               0.0            NaN               0.0   \n",
       "8                  NaN               NaN            NaN               NaN   \n",
       "9              15008.0               0.0            NaN               0.0   \n",
       "10             13878.0               1.0          310.0               2.0   \n",
       "11             51677.0               0.0            NaN               0.0   \n",
       "12                 NaN               NaN            NaN               NaN   \n",
       "13             33058.0               1.0          294.0               3.0   \n",
       "14             30759.0               0.0            NaN               1.0   \n",
       "15             14259.0               1.0          590.0               1.0   \n",
       "16             10698.0               3.0          420.0               0.0   \n",
       "17             14616.0               0.0            NaN               1.0   \n",
       "18             10842.0               1.0          759.0               0.0   \n",
       "19             12843.0               0.0            NaN               0.0   \n",
       "\n",
       "    ponds_nearest  days_exposition  \n",
       "0           755.0              NaN  \n",
       "1             NaN             81.0  \n",
       "2           574.0            558.0  \n",
       "3           234.0            424.0  \n",
       "4            48.0            121.0  \n",
       "5             NaN             55.0  \n",
       "6             NaN            155.0  \n",
       "7             NaN              NaN  \n",
       "8             NaN            189.0  \n",
       "9             NaN            289.0  \n",
       "10          553.0            137.0  \n",
       "11            NaN              7.0  \n",
       "12            NaN             90.0  \n",
       "13          298.0            366.0  \n",
       "14           96.0            203.0  \n",
       "15          296.0             19.0  \n",
       "16            NaN            397.0  \n",
       "17          859.0            571.0  \n",
       "18            NaN            168.0  \n",
       "19            NaN             97.0  \n",
       "\n",
       "[20 rows x 22 columns]"
      ]
     },
     "metadata": {},
     "output_type": "display_data"
    }
   ],
   "source": [
    "data = ... # по просьбе Яндекс Практикума датасет открыто не распространяется\n",
    "\n",
    "display(data.info())\n",
    "\n",
    "display(data.head(20))"
   ]
  },
  {
   "cell_type": "markdown",
   "metadata": {},
   "source": [
    "Данные состоят из таблицы с 23699 строками и следующими столбцами:\n",
    "-     `airports_nearest` — расстояние до ближайшего аэропорта в метрах (м)\n",
    "-    `balcony` — число балконов\n",
    "-    `ceiling_height` — высота потолков (м)\n",
    "-    `cityCenters_nearest` — расстояние до центра города (м)\n",
    "-    `days_exposition` — сколько дней было размещено объявление (от публикации до снятия)\n",
    "-    `first_day_exposition` — дата публикации\n",
    "-    `floor` — этаж\n",
    "-    `floors_total` — всего этажей в доме\n",
    "-    `is_apartment` — апартаменты (булев тип)\n",
    "-    `kitchen_area` — площадь кухни в квадратных метрах (м²)\n",
    "-    `last_price` — цена на момент снятия с публикации\n",
    "-    `living_area` — жилая площадь в квадратных метрах (м²)\n",
    "-    `locality_name` — название населённого пункта\n",
    "-    `open_plan` — свободная планировка (булев тип)\n",
    "-    `parks_around3000` — число парков в радиусе 3 км\n",
    "-    `parks_nearest` — расстояние до ближайшего парка (м)\n",
    "-    `ponds_around3000` — число водоёмов в радиусе 3 км\n",
    "-    `ponds_nearest` — расстояние до ближайшего водоёма (м)\n",
    "-    `rooms` — число комнат\n",
    "-    `studio` — квартира-студия (булев тип)\n",
    "-    `total_area` — общая площадь квартиры в квадратных метрах (м²)\n",
    "-    `total_images` — число фотографий квартиры в объявлении"
   ]
  },
  {
   "cell_type": "code",
   "execution_count": 2,
   "metadata": {},
   "outputs": [
    {
     "data": {
      "text/plain": [
       "array([[<AxesSubplot:title={'center':'total_images'}>,\n",
       "        <AxesSubplot:title={'center':'last_price'}>,\n",
       "        <AxesSubplot:title={'center':'total_area'}>,\n",
       "        <AxesSubplot:title={'center':'rooms'}>],\n",
       "       [<AxesSubplot:title={'center':'ceiling_height'}>,\n",
       "        <AxesSubplot:title={'center':'floors_total'}>,\n",
       "        <AxesSubplot:title={'center':'living_area'}>,\n",
       "        <AxesSubplot:title={'center':'floor'}>],\n",
       "       [<AxesSubplot:title={'center':'kitchen_area'}>,\n",
       "        <AxesSubplot:title={'center':'airports_nearest'}>,\n",
       "        <AxesSubplot:title={'center':'cityCenters_nearest'}>,\n",
       "        <AxesSubplot:title={'center':'parks_around3000'}>],\n",
       "       [<AxesSubplot:title={'center':'parks_nearest'}>,\n",
       "        <AxesSubplot:title={'center':'ponds_around3000'}>,\n",
       "        <AxesSubplot:title={'center':'ponds_nearest'}>,\n",
       "        <AxesSubplot:title={'center':'days_exposition'}>]], dtype=object)"
      ]
     },
     "execution_count": 2,
     "metadata": {},
     "output_type": "execute_result"
    },
    {
     "data": {
      "image/png": "[encoded data removed]",
      "text/plain": [
       "<Figure size 1080x1440 with 16 Axes>"
      ]
     },
     "metadata": {
      "needs_background": "light"
     },
     "output_type": "display_data"
    }
   ],
   "source": [
    "data.hist([\n",
    "    'total_images', \n",
    "    'last_price', \n",
    "    'total_area',\n",
    "    'rooms',\n",
    "    'ceiling_height',\n",
    "    'floors_total',\n",
    "    'living_area',\n",
    "    'floor',\n",
    "    'kitchen_area',\n",
    "    'airports_nearest',\n",
    "    'cityCenters_nearest',\n",
    "    'parks_around3000',\n",
    "    'parks_nearest',\n",
    "    'ponds_around3000',\n",
    "    'ponds_nearest',\n",
    "    'days_exposition'\n",
    "] ,figsize=(15, 20))"
   ]
  },
  {
   "cell_type": "markdown",
   "metadata": {},
   "source": [
    "### Предобработка данных"
   ]
  },
  {
   "cell_type": "code",
   "execution_count": 3,
   "metadata": {
    "scrolled": false
   },
   "outputs": [
    {
     "name": "stdout",
     "output_type": "stream",
     "text": [
      "Число пропусков в столбцах\n",
      "total_images                0\n",
      "last_price                  0\n",
      "total_area                  0\n",
      "first_day_exposition        0\n",
      "rooms                       0\n",
      "ceiling_height           9195\n",
      "floors_total               86\n",
      "living_area              1903\n",
      "floor                       0\n",
      "is_apartment            20924\n",
      "studio                      0\n",
      "open_plan                   0\n",
      "kitchen_area             2278\n",
      "balcony                 11519\n",
      "locality_name              49\n",
      "airports_nearest         5542\n",
      "cityCenters_nearest      5519\n",
      "parks_around3000         5518\n",
      "parks_nearest           15620\n",
      "ponds_around3000         5518\n",
      "ponds_nearest           14589\n",
      "days_exposition          3181\n",
      "dtype: int64\n",
      "<class 'pandas.core.frame.DataFrame'>\n",
      "RangeIndex: 23699 entries, 0 to 23698\n",
      "Data columns (total 22 columns):\n",
      " #   Column                Non-Null Count  Dtype  \n",
      "---  ------                --------------  -----  \n",
      " 0   total_images          23699 non-null  int64  \n",
      " 1   last_price            23699 non-null  float64\n",
      " 2   total_area            23699 non-null  float64\n",
      " 3   first_day_exposition  23699 non-null  object \n",
      " 4   rooms                 23699 non-null  int64  \n",
      " 5   ceiling_height        14504 non-null  float64\n",
      " 6   floors_total          23613 non-null  float64\n",
      " 7   living_area           21796 non-null  float64\n",
      " 8   floor                 23699 non-null  int64  \n",
      " 9   is_apartment          2775 non-null   object \n",
      " 10  studio                23699 non-null  bool   \n",
      " 11  open_plan             23699 non-null  bool   \n",
      " 12  kitchen_area          21421 non-null  float64\n",
      " 13  balcony               12180 non-null  float64\n",
      " 14  locality_name         23650 non-null  object \n",
      " 15  airports_nearest      18157 non-null  float64\n",
      " 16  cityCenters_nearest   18180 non-null  float64\n",
      " 17  parks_around3000      18181 non-null  float64\n",
      " 18  parks_nearest         8079 non-null   float64\n",
      " 19  ponds_around3000      18181 non-null  float64\n",
      " 20  ponds_nearest         9110 non-null   float64\n",
      " 21  days_exposition       20518 non-null  float64\n",
      "dtypes: bool(2), float64(14), int64(3), object(3)\n",
      "memory usage: 3.7+ MB\n"
     ]
    },
    {
     "data": {
      "text/plain": [
       "None"
      ]
     },
     "metadata": {},
     "output_type": "display_data"
    }
   ],
   "source": [
    "print('Число пропусков в столбцах')\n",
    "print(data.isna().sum())\n",
    "display(data.info())\n",
    "\n",
    "#display(data.describe())"
   ]
  },
  {
   "cell_type": "markdown",
   "metadata": {},
   "source": [
    "В данных присутствуют пропуски в столбцах:\n",
    "-    `is_apartment`\n",
    "-    `balcony`\n",
    "-    `parks_around3000`\n",
    "-    `ponds_around3000`\n",
    "\n",
    "-    `ceiling_height`\n",
    "-    `floors_total`\n",
    "-    `living_area`\n",
    "-    `kitchen_area`\n",
    "-    `days_exposition`\n",
    "\n",
    "-    `locality_name`\n",
    "-    `airports_nearest`\n",
    "-    `cityCenters_nearest`\n",
    "-    `parks_nearest`\n",
    "-    `ponds_nearest`\n",
    "\n",
    "Логично предположить, что пропуски в столбцах `is_apartment`, `balcony`, `parks_around3000`, `ponds_around3000` означают значение `0` (или `False`)\n",
    "\n",
    "Пропусков в столбце `floors_total` мало (86) и можно безболезненно заменить их на медианные значения.\n",
    "\n",
    "Рассмотрим корреляцию данных в столбцах `living_area`, `kitchen_area` с общей площадью квартиры и, если она сильна, восстановим пропуски в них через значения `total_area`.\n",
    "\n",
    "Вполне очевидно, что высокие потолки привилегия дорогих квартир (дополнительно проверим это), поэтому можно разбить квартиры на медианные квартили по цене и заполнить пропуски в `ceiling_height` медианными значениями для каждого квартиля.\n",
    "\n",
    "С пропусками в остальных столбцах (`locality_name`,`airports_nearest`,`cityCenters_nearest`,`parks_nearest`,`ponds_nearest`) особо ничего не сделать. С `locality_name` все очевидно. В столбцах `parks_nearest`,`ponds_nearest` пропусков более 3/4 и т.к. неизвестно насколько репрезентативны имеющиеся значения относительно общей выборки, восстановить данные корректно невозможно. В столбцах `airports_nearest`,`cityCenters_nearest`пропусков меньше (1/4) но т.к. также неизвестна репрезентатитвность выборки также проблематично заполнить пропуски.\n",
    "\n",
    "Плотность распределения `days_exposition` не имеет явного центра и монотонно убывает с ростом срока продажи, сложно предложить модель которой можно заполнить пропуски для такого распределения, поэтому оставим все как есть.\n",
    "\n",
    "Большая часть пропусков по-видимому вызвана ошибками при автоматической подгрузке данных о квартире из открытых источников (этажность, расстояние до инфраструктуры и прочее). Пропуски в числе балконов, статусе апартаментов вероятнее всего вызваны людьми, для человека пустое поле и значение 0 могут казаться одним и тем же."
   ]
  },
  {
   "cell_type": "code",
   "execution_count": 4,
   "metadata": {},
   "outputs": [
    {
     "data": {
      "text/html": [
       "<div>\n",
       "<style scoped>\n",
       "    .dataframe tbody tr th:only-of-type {\n",
       "        vertical-align: middle;\n",
       "    }\n",
       "\n",
       "    .dataframe tbody tr th {\n",
       "        vertical-align: top;\n",
       "    }\n",
       "\n",
       "    .dataframe thead tr th {\n",
       "        text-align: left;\n",
       "    }\n",
       "\n",
       "    .dataframe thead tr:last-of-type th {\n",
       "        text-align: right;\n",
       "    }\n",
       "</style>\n",
       "<table border=\"1\" class=\"dataframe\">\n",
       "  <thead>\n",
       "    <tr>\n",
       "      <th></th>\n",
       "      <th>median</th>\n",
       "    </tr>\n",
       "    <tr>\n",
       "      <th></th>\n",
       "      <th>ceiling_height</th>\n",
       "    </tr>\n",
       "    <tr>\n",
       "      <th>price_quartile</th>\n",
       "      <th></th>\n",
       "    </tr>\n",
       "  </thead>\n",
       "  <tbody>\n",
       "    <tr>\n",
       "      <th>0</th>\n",
       "      <td>2.55</td>\n",
       "    </tr>\n",
       "    <tr>\n",
       "      <th>1</th>\n",
       "      <td>2.60</td>\n",
       "    </tr>\n",
       "    <tr>\n",
       "      <th>2</th>\n",
       "      <td>2.65</td>\n",
       "    </tr>\n",
       "    <tr>\n",
       "      <th>3</th>\n",
       "      <td>2.90</td>\n",
       "    </tr>\n",
       "  </tbody>\n",
       "</table>\n",
       "</div>"
      ],
      "text/plain": [
       "                       median\n",
       "               ceiling_height\n",
       "price_quartile               \n",
       "0                        2.55\n",
       "1                        2.60\n",
       "2                        2.65\n",
       "3                        2.90"
      ]
     },
     "metadata": {},
     "output_type": "display_data"
    },
    {
     "name": "stdout",
     "output_type": "stream",
     "text": [
      "Для разных ценовых категорий действительно разная медианная высота потолка\n",
      "Корреляция жилой площади и общей площади: 0.9395373338721493\n",
      "Корреляция площади кухни и общей площади: 0.6091211711198318\n",
      "Корреляция сильная\n",
      "Средняя доля жилой площади от общей: 0.5647655216993234\n",
      "Средняя доля площади кухни от общей: 0.1873547387717406\n",
      "total_images                0\n",
      "last_price                  0\n",
      "total_area                  0\n",
      "first_day_exposition        0\n",
      "rooms                       0\n",
      "ceiling_height              0\n",
      "floors_total                0\n",
      "living_area                 0\n",
      "floor                       0\n",
      "is_apartment                0\n",
      "studio                      0\n",
      "open_plan                   0\n",
      "kitchen_area                0\n",
      "balcony                     0\n",
      "locality_name              49\n",
      "airports_nearest         5542\n",
      "cityCenters_nearest      5519\n",
      "parks_around3000            0\n",
      "parks_nearest           15620\n",
      "ponds_around3000            0\n",
      "ponds_nearest           14589\n",
      "days_exposition          3181\n",
      "price_quartile              0\n",
      "dtype: int64\n"
     ]
    }
   ],
   "source": [
    "#data.loc[data['balcony'].isna(), 'balcony'] = False\n",
    "#data.loc[data['is_apartment'].isna(), 'is_apartment'] = 0\n",
    "#data.loc[data['parks_around3000'].isna(), 'parks_around3000'] = 0\n",
    "#data.loc[data['ponds_around3000'].isna(), 'ponds_around3000'] = 0\n",
    "\n",
    "data['balcony'].fillna(False, inplace=True)\n",
    "data['is_apartment'].fillna(0, inplace=True)\n",
    "data['parks_around3000'].fillna(0, inplace=True)\n",
    "data['ponds_around3000'].fillna(0, inplace=True)\n",
    "\n",
    "data['floors_total'].fillna(data['floors_total'].median(), inplace=True)\n",
    "\n",
    "q1 = data['last_price'].quantile(0.25)\n",
    "q2 = data['last_price'].quantile(0.50)\n",
    "q3 = data['last_price'].quantile(0.75)\n",
    "\n",
    "def price_qurtiles(price):\n",
    "    if price < q1:\n",
    "        return 0\n",
    "    if price < q2:\n",
    "        return 1\n",
    "    if price < q3:\n",
    "        return 2\n",
    "    else:\n",
    "        return 3\n",
    "    \n",
    "data['price_quartile'] = data['last_price'].apply(price_qurtiles)\n",
    "\n",
    "for q in range(0,4):\n",
    "    median_value = data[data['price_quartile']==q]['ceiling_height'].median()\n",
    "    data.loc[(data['price_quartile']==q)&(data['ceiling_height'].isna()), 'ceiling_height'] = median_value\n",
    "\n",
    "display(data.pivot_table(index='price_quartile', values='ceiling_height', aggfunc=[ 'median']))\n",
    "print('Для разных ценовых категорий действительно разная медианная высота потолка')\n",
    "    \n",
    "print('Корреляция жилой площади и общей площади:', data['living_area'].corr(data['total_area']))\n",
    "print('Корреляция площади кухни и общей площади:', data['kitchen_area'].corr(data['total_area']))\n",
    "print('Корреляция сильная')\n",
    "\n",
    "print('Средняя доля жилой площади от общей:', (data['living_area']/data['total_area']).mean())\n",
    "print('Средняя доля площади кухни от общей:', (data['kitchen_area']/data['total_area']).mean())\n",
    "\n",
    "data['living_area'].fillna(data['total_area']*(data['living_area']/data['total_area']).mean(), inplace=True)\n",
    "data['kitchen_area'].fillna(data['total_area']*(data['kitchen_area']/data['total_area']).mean(), inplace=True)\n",
    "\n",
    "print(data.isna().sum())"
   ]
  },
  {
   "cell_type": "markdown",
   "metadata": {},
   "source": [
    "Рассмотрим типы данных в таблице.\n",
    "\n",
    "`locality_name`, `first_day_exposition` и `is_apartment` имеют строковый тип. Разумно будет привести `first_day_exposition` к типу `datetime`, а `is_apartment`, `balcony` к булевому типу.\n",
    "\n",
    "Значения в столбцах `last_price`, `airports_nearest`, `cityCenters_nearest`, `parks_nearest`, `ponds_nearest` являются достаточно большими и десятичная точность им ни к чему и можно привести их к целому типу.\n",
    "\n",
    "Для значений столбцов `floors_total`, `parks_around3000`, `ponds_around3000`, `days_exposition` вещественные значения не имеют смысла и поэтому их также приведем к целым."
   ]
  },
  {
   "cell_type": "code",
   "execution_count": 5,
   "metadata": {},
   "outputs": [
    {
     "name": "stdout",
     "output_type": "stream",
     "text": [
      "<class 'pandas.core.frame.DataFrame'>\n",
      "RangeIndex: 23699 entries, 0 to 23698\n",
      "Data columns (total 23 columns):\n",
      " #   Column                Non-Null Count  Dtype         \n",
      "---  ------                --------------  -----         \n",
      " 0   total_images          23699 non-null  int64         \n",
      " 1   last_price            23699 non-null  int64         \n",
      " 2   total_area            23699 non-null  float64       \n",
      " 3   first_day_exposition  23699 non-null  datetime64[ns]\n",
      " 4   rooms                 23699 non-null  int64         \n",
      " 5   ceiling_height        23699 non-null  float64       \n",
      " 6   floors_total          23699 non-null  int64         \n",
      " 7   living_area           23699 non-null  float64       \n",
      " 8   floor                 23699 non-null  int64         \n",
      " 9   is_apartment          23699 non-null  bool          \n",
      " 10  studio                23699 non-null  bool          \n",
      " 11  open_plan             23699 non-null  bool          \n",
      " 12  kitchen_area          23699 non-null  float64       \n",
      " 13  balcony               23699 non-null  bool          \n",
      " 14  locality_name         23650 non-null  object        \n",
      " 15  airports_nearest      18157 non-null  float64       \n",
      " 16  cityCenters_nearest   18180 non-null  float64       \n",
      " 17  parks_around3000      23699 non-null  int64         \n",
      " 18  parks_nearest         8079 non-null   float64       \n",
      " 19  ponds_around3000      23699 non-null  int64         \n",
      " 20  ponds_nearest         9110 non-null   float64       \n",
      " 21  days_exposition       20518 non-null  float64       \n",
      " 22  price_quartile        23699 non-null  int64         \n",
      "dtypes: bool(4), datetime64[ns](1), float64(9), int64(8), object(1)\n",
      "memory usage: 3.5+ MB\n"
     ]
    },
    {
     "data": {
      "text/html": [
       "<div>\n",
       "<style scoped>\n",
       "    .dataframe tbody tr th:only-of-type {\n",
       "        vertical-align: middle;\n",
       "    }\n",
       "\n",
       "    .dataframe tbody tr th {\n",
       "        vertical-align: top;\n",
       "    }\n",
       "\n",
       "    .dataframe thead th {\n",
       "        text-align: right;\n",
       "    }\n",
       "</style>\n",
       "<table border=\"1\" class=\"dataframe\">\n",
       "  <thead>\n",
       "    <tr style=\"text-align: right;\">\n",
       "      <th></th>\n",
       "      <th>total_images</th>\n",
       "      <th>last_price</th>\n",
       "      <th>total_area</th>\n",
       "      <th>first_day_exposition</th>\n",
       "      <th>rooms</th>\n",
       "      <th>ceiling_height</th>\n",
       "      <th>floors_total</th>\n",
       "      <th>living_area</th>\n",
       "      <th>floor</th>\n",
       "      <th>is_apartment</th>\n",
       "      <th>...</th>\n",
       "      <th>balcony</th>\n",
       "      <th>locality_name</th>\n",
       "      <th>airports_nearest</th>\n",
       "      <th>cityCenters_nearest</th>\n",
       "      <th>parks_around3000</th>\n",
       "      <th>parks_nearest</th>\n",
       "      <th>ponds_around3000</th>\n",
       "      <th>ponds_nearest</th>\n",
       "      <th>days_exposition</th>\n",
       "      <th>price_quartile</th>\n",
       "    </tr>\n",
       "  </thead>\n",
       "  <tbody>\n",
       "    <tr>\n",
       "      <th>0</th>\n",
       "      <td>20</td>\n",
       "      <td>13000000</td>\n",
       "      <td>108.0</td>\n",
       "      <td>2019-03-07</td>\n",
       "      <td>3</td>\n",
       "      <td>2.70</td>\n",
       "      <td>16</td>\n",
       "      <td>51.000000</td>\n",
       "      <td>8</td>\n",
       "      <td>False</td>\n",
       "      <td>...</td>\n",
       "      <td>False</td>\n",
       "      <td>Санкт-Петербург</td>\n",
       "      <td>18863.0</td>\n",
       "      <td>16028.0</td>\n",
       "      <td>1</td>\n",
       "      <td>482.0</td>\n",
       "      <td>2</td>\n",
       "      <td>755.0</td>\n",
       "      <td>NaN</td>\n",
       "      <td>3</td>\n",
       "    </tr>\n",
       "    <tr>\n",
       "      <th>1</th>\n",
       "      <td>7</td>\n",
       "      <td>3350000</td>\n",
       "      <td>40.4</td>\n",
       "      <td>2018-12-04</td>\n",
       "      <td>1</td>\n",
       "      <td>2.55</td>\n",
       "      <td>11</td>\n",
       "      <td>18.600000</td>\n",
       "      <td>1</td>\n",
       "      <td>False</td>\n",
       "      <td>...</td>\n",
       "      <td>True</td>\n",
       "      <td>посёлок Шушары</td>\n",
       "      <td>12817.0</td>\n",
       "      <td>18603.0</td>\n",
       "      <td>0</td>\n",
       "      <td>NaN</td>\n",
       "      <td>0</td>\n",
       "      <td>NaN</td>\n",
       "      <td>81.0</td>\n",
       "      <td>0</td>\n",
       "    </tr>\n",
       "    <tr>\n",
       "      <th>2</th>\n",
       "      <td>10</td>\n",
       "      <td>5196000</td>\n",
       "      <td>56.0</td>\n",
       "      <td>2015-08-20</td>\n",
       "      <td>2</td>\n",
       "      <td>2.65</td>\n",
       "      <td>5</td>\n",
       "      <td>34.300000</td>\n",
       "      <td>4</td>\n",
       "      <td>False</td>\n",
       "      <td>...</td>\n",
       "      <td>False</td>\n",
       "      <td>Санкт-Петербург</td>\n",
       "      <td>21741.0</td>\n",
       "      <td>13933.0</td>\n",
       "      <td>1</td>\n",
       "      <td>90.0</td>\n",
       "      <td>2</td>\n",
       "      <td>574.0</td>\n",
       "      <td>558.0</td>\n",
       "      <td>2</td>\n",
       "    </tr>\n",
       "    <tr>\n",
       "      <th>3</th>\n",
       "      <td>0</td>\n",
       "      <td>64900000</td>\n",
       "      <td>159.0</td>\n",
       "      <td>2015-07-24</td>\n",
       "      <td>3</td>\n",
       "      <td>2.90</td>\n",
       "      <td>14</td>\n",
       "      <td>89.797718</td>\n",
       "      <td>9</td>\n",
       "      <td>False</td>\n",
       "      <td>...</td>\n",
       "      <td>False</td>\n",
       "      <td>Санкт-Петербург</td>\n",
       "      <td>28098.0</td>\n",
       "      <td>6800.0</td>\n",
       "      <td>2</td>\n",
       "      <td>84.0</td>\n",
       "      <td>3</td>\n",
       "      <td>234.0</td>\n",
       "      <td>424.0</td>\n",
       "      <td>3</td>\n",
       "    </tr>\n",
       "    <tr>\n",
       "      <th>4</th>\n",
       "      <td>2</td>\n",
       "      <td>10000000</td>\n",
       "      <td>100.0</td>\n",
       "      <td>2018-06-19</td>\n",
       "      <td>2</td>\n",
       "      <td>3.03</td>\n",
       "      <td>14</td>\n",
       "      <td>32.000000</td>\n",
       "      <td>13</td>\n",
       "      <td>False</td>\n",
       "      <td>...</td>\n",
       "      <td>False</td>\n",
       "      <td>Санкт-Петербург</td>\n",
       "      <td>31856.0</td>\n",
       "      <td>8098.0</td>\n",
       "      <td>2</td>\n",
       "      <td>112.0</td>\n",
       "      <td>1</td>\n",
       "      <td>48.0</td>\n",
       "      <td>121.0</td>\n",
       "      <td>3</td>\n",
       "    </tr>\n",
       "  </tbody>\n",
       "</table>\n",
       "<p>5 rows × 23 columns</p>\n",
       "</div>"
      ],
      "text/plain": [
       "   total_images  last_price  total_area first_day_exposition  rooms  \\\n",
       "0            20    13000000       108.0           2019-03-07      3   \n",
       "1             7     3350000        40.4           2018-12-04      1   \n",
       "2            10     5196000        56.0           2015-08-20      2   \n",
       "3             0    64900000       159.0           2015-07-24      3   \n",
       "4             2    10000000       100.0           2018-06-19      2   \n",
       "\n",
       "   ceiling_height  floors_total  living_area  floor  is_apartment  ...  \\\n",
       "0            2.70            16    51.000000      8         False  ...   \n",
       "1            2.55            11    18.600000      1         False  ...   \n",
       "2            2.65             5    34.300000      4         False  ...   \n",
       "3            2.90            14    89.797718      9         False  ...   \n",
       "4            3.03            14    32.000000     13         False  ...   \n",
       "\n",
       "   balcony    locality_name  airports_nearest  cityCenters_nearest  \\\n",
       "0    False  Санкт-Петербург           18863.0              16028.0   \n",
       "1     True   посёлок Шушары           12817.0              18603.0   \n",
       "2    False  Санкт-Петербург           21741.0              13933.0   \n",
       "3    False  Санкт-Петербург           28098.0               6800.0   \n",
       "4    False  Санкт-Петербург           31856.0               8098.0   \n",
       "\n",
       "  parks_around3000  parks_nearest  ponds_around3000  ponds_nearest  \\\n",
       "0                1          482.0                 2          755.0   \n",
       "1                0            NaN                 0            NaN   \n",
       "2                1           90.0                 2          574.0   \n",
       "3                2           84.0                 3          234.0   \n",
       "4                2          112.0                 1           48.0   \n",
       "\n",
       "   days_exposition  price_quartile  \n",
       "0              NaN               3  \n",
       "1             81.0               0  \n",
       "2            558.0               2  \n",
       "3            424.0               3  \n",
       "4            121.0               3  \n",
       "\n",
       "[5 rows x 23 columns]"
      ]
     },
     "metadata": {},
     "output_type": "display_data"
    }
   ],
   "source": [
    "data['is_apartment'] = data['is_apartment'].astype('bool')\n",
    "data['balcony'] = data['balcony'].astype('bool')\n",
    "data['last_price'] = data['last_price'].astype('int')\n",
    "#data['airports_nearest'] = data['airports_nearest'].astype('int')\n",
    "#data['cityCenters_nearest'] = data['cityCenters_nearest'].astype('int')\n",
    "#data['parks_nearest'] = data['parks_nearest'].astype('int')\n",
    "#data['ponds_nearest'] = data['ponds_nearest'].astype('int')\n",
    "data['floors_total'] = data['floors_total'].astype('int')\n",
    "data['parks_around3000'] = data['parks_around3000'].astype('int')\n",
    "data['ponds_around3000'] = data['ponds_around3000'].astype('int')\n",
    "#data['days_exposition'] = data['days_exposition'].astype('int')\n",
    "data.loc[(~data['days_exposition'].isna()), 'days_exposition'] = data.loc[(~data['days_exposition'].isna()), 'days_exposition'].astype('int')\n",
    "\n",
    "data['first_day_exposition'] = pd.to_datetime(data['first_day_exposition'],format='%Y-%m-%dT%H:%M:%S')\n",
    "\n",
    "data.info()\n",
    "display(data.head())"
   ]
  },
  {
   "cell_type": "markdown",
   "metadata": {},
   "source": [
    "Рассмотрим названия населенных пунктов и проверим их на наличие неявных дубликатов"
   ]
  },
  {
   "cell_type": "code",
   "execution_count": 6,
   "metadata": {},
   "outputs": [
    {
     "name": "stdout",
     "output_type": "stream",
     "text": [
      "Бокситогорск\n",
      "Волосово\n",
      "Волхов\n",
      "Всеволожск\n",
      "Выборг\n",
      "Высоцк\n",
      "Гатчина\n",
      "Зеленогорск\n",
      "Ивангород\n",
      "Каменногорск\n",
      "Кингисепп\n",
      "Кириши\n",
      "Кировск\n",
      "Колпино\n",
      "Коммунар\n",
      "Красное Село\n",
      "Кронштадт\n",
      "Кудрово\n",
      "Лодейное Поле\n",
      "Ломоносов\n",
      "Луга\n",
      "Любань\n",
      "Мурино\n",
      "Никольское\n",
      "Новая Ладога\n",
      "Отрадное\n",
      "Павловск\n",
      "Петергоф\n",
      "Пикалёво\n",
      "Подпорожье\n",
      "Приморск\n",
      "Приозерск\n",
      "Пушкин\n",
      "Санкт-Петербург\n",
      "Светогорск\n",
      "Сертолово\n",
      "Сестрорецк\n",
      "Сланцы\n",
      "Сосновый Бор\n",
      "Сясьстрой\n",
      "Тихвин\n",
      "Тосно\n",
      "Шлиссельбург\n",
      "городской поселок Большая Ижора\n",
      "городской поселок Янино-1\n",
      "городской посёлок Будогощь\n",
      "городской посёлок Виллози\n",
      "городской посёлок Лесогорский\n",
      "городской посёлок Мга\n",
      "городской посёлок Назия\n",
      "городской посёлок Новоселье\n",
      "городской посёлок Павлово\n",
      "городской посёлок Рощино\n",
      "городской посёлок Свирьстрой\n",
      "городской посёлок Советский\n",
      "городской посёлок Фёдоровское\n",
      "городской посёлок Янино-1\n",
      "деревня Агалатово\n",
      "деревня Аро\n",
      "деревня Батово\n",
      "деревня Бегуницы\n",
      "деревня Белогорка\n",
      "деревня Большая Вруда\n",
      "деревня Большая Пустомержа\n",
      "деревня Большие Колпаны\n",
      "деревня Большое Рейзино\n",
      "деревня Большой Сабск\n",
      "деревня Бор\n",
      "деревня Борисова Грива\n",
      "деревня Ваганово\n",
      "деревня Вартемяги\n",
      "деревня Вахнова Кара\n",
      "деревня Выскатка\n",
      "деревня Гарболово\n",
      "деревня Глинка\n",
      "деревня Горбунки\n",
      "деревня Гостилицы\n",
      "деревня Заклинье\n",
      "деревня Заневка\n",
      "деревня Зимитицы\n",
      "деревня Извара\n",
      "деревня Иссад\n",
      "деревня Калитино\n",
      "деревня Кальтино\n",
      "деревня Камышовка\n",
      "деревня Каськово\n",
      "деревня Келози\n",
      "деревня Кипень\n",
      "деревня Кисельня\n",
      "деревня Колтуши\n",
      "деревня Коркино\n",
      "деревня Котлы\n",
      "деревня Кривко\n",
      "деревня Кудрово\n",
      "деревня Кузьмолово\n",
      "деревня Курковицы\n",
      "деревня Куровицы\n",
      "деревня Куттузи\n",
      "деревня Лаврики\n",
      "деревня Лаголово\n",
      "деревня Лампово\n",
      "деревня Лесколово\n",
      "деревня Лопухинка\n",
      "деревня Лупполово\n",
      "деревня Малая Романовка\n",
      "деревня Малое Верево\n",
      "деревня Малое Карлино\n",
      "деревня Малые Колпаны\n",
      "деревня Мануйлово\n",
      "деревня Меньково\n",
      "деревня Мины\n",
      "деревня Мистолово\n",
      "деревня Ненимяки\n",
      "деревня Нижние Осельки\n",
      "деревня Нижняя\n",
      "деревня Низино\n",
      "деревня Новое Девяткино\n",
      "деревня Новолисино\n",
      "деревня Нурма\n",
      "деревня Оржицы\n",
      "деревня Парицы\n",
      "деревня Пельгора\n",
      "деревня Пеники\n",
      "деревня Пижма\n",
      "деревня Пикколово\n",
      "деревня Пудомяги\n",
      "деревня Пустынка\n",
      "деревня Пчева\n",
      "деревня Рабитицы\n",
      "деревня Разбегаево\n",
      "деревня Раздолье\n",
      "деревня Разметелево\n",
      "деревня Рапполово\n",
      "деревня Реброво\n",
      "деревня Русско\n",
      "деревня Сижно\n",
      "деревня Снегирёвка\n",
      "деревня Старая\n",
      "деревня Старая Пустошь\n",
      "деревня Старое Хинколово\n",
      "деревня Старополье\n",
      "деревня Старосиверская\n",
      "деревня Старые Бегуницы\n",
      "деревня Суоранда\n",
      "деревня Сяськелево\n",
      "деревня Тарасово\n",
      "деревня Терпилицы\n",
      "деревня Тихковицы\n",
      "деревня Тойворово\n",
      "деревня Торосово\n",
      "деревня Торошковичи\n",
      "деревня Трубников Бор\n",
      "деревня Фалилеево\n",
      "деревня Фёдоровское\n",
      "деревня Хапо-Ое\n",
      "деревня Хязельки\n",
      "деревня Чудской Бор\n",
      "деревня Шпаньково\n",
      "деревня Щеглово\n",
      "деревня Юкки\n",
      "деревня Ялгино\n",
      "деревня Яльгелево\n",
      "деревня Ям-Тесово\n",
      "коттеджный поселок Кивеннапа Север\n",
      "коттеджный поселок Счастье\n",
      "коттеджный посёлок Лесное\n",
      "поселок Аннино\n",
      "поселок Барышево\n",
      "поселок Бугры\n",
      "поселок Возрождение\n",
      "поселок Войсковицы\n",
      "поселок Володарское\n",
      "поселок Гаврилово\n",
      "поселок Гарболово\n",
      "поселок Гладкое\n",
      "поселок Глажево\n",
      "поселок Глебычево\n",
      "поселок Гончарово\n",
      "поселок Громово\n",
      "поселок Дружноселье\n",
      "поселок Елизаветино\n",
      "поселок Жилгородок\n",
      "поселок Жилпосёлок\n",
      "поселок Житково\n",
      "поселок Заводской\n",
      "поселок Запорожское\n",
      "поселок Зимитицы\n",
      "поселок Ильичёво\n",
      "поселок Калитино\n",
      "поселок Каложицы\n",
      "поселок Кингисеппский\n",
      "поселок Кирпичное\n",
      "поселок Кобралово\n",
      "поселок Кобринское\n",
      "поселок Коммунары\n",
      "поселок Коробицыно\n",
      "поселок Котельский\n",
      "поселок Красная Долина\n",
      "поселок Красносельское\n",
      "поселок Лесное\n",
      "поселок Лисий Нос\n",
      "поселок Лукаши\n",
      "поселок Любань\n",
      "поселок Мельниково\n",
      "поселок Мичуринское\n",
      "поселок Молодцово\n",
      "поселок Мурино\n",
      "поселок Новый Свет\n",
      "поселок Новый Учхоз\n",
      "поселок Оредеж\n",
      "поселок Пансионат Зелёный Бор\n",
      "поселок Первомайское\n",
      "поселок Перово\n",
      "поселок Петровское\n",
      "поселок Победа\n",
      "поселок Поляны\n",
      "поселок Почап\n",
      "поселок Починок\n",
      "поселок Пушное\n",
      "поселок Пчевжа\n",
      "поселок Рабитицы\n",
      "поселок Романовка\n",
      "поселок Ромашки\n",
      "поселок Рябово\n",
      "поселок Севастьяново\n",
      "поселок Селезнёво\n",
      "поселок Сельцо\n",
      "поселок Семиозерье\n",
      "поселок Семрино\n",
      "поселок Серебрянский\n",
      "поселок Совхозный\n",
      "поселок Старая Малукса\n",
      "поселок Стеклянный\n",
      "поселок Сумино\n",
      "поселок Суходолье\n",
      "поселок Тельмана\n",
      "поселок Терволово\n",
      "поселок Торковичи\n",
      "поселок Тёсово-4\n",
      "поселок Углово\n",
      "поселок Усть-Луга\n",
      "поселок Ушаки\n",
      "поселок Цвелодубово\n",
      "поселок Цвылёво\n",
      "поселок городского типа Большая Ижора\n",
      "поселок городского типа Вырица\n",
      "поселок городского типа Дружная Горка\n",
      "поселок городского типа Дубровка\n",
      "поселок городского типа Ефимовский\n",
      "поселок городского типа Кондратьево\n",
      "поселок городского типа Красный Бор\n",
      "поселок городского типа Кузьмоловский\n",
      "поселок городского типа Лебяжье\n",
      "поселок городского типа Лесогорский\n",
      "поселок городского типа Назия\n",
      "поселок городского типа Никольский\n",
      "поселок городского типа Приладожский\n",
      "поселок городского типа Рахья\n",
      "поселок городского типа Рощино\n",
      "поселок городского типа Рябово\n",
      "поселок городского типа Синявино\n",
      "поселок городского типа Советский\n",
      "поселок городского типа Токсово\n",
      "поселок городского типа Форносово\n",
      "поселок городского типа имени Свердлова\n",
      "поселок станции Вещево\n",
      "поселок станции Корнево\n",
      "поселок станции Лужайка\n",
      "поселок станции Приветнинское\n",
      "посёлок Александровская\n",
      "посёлок Алексеевка\n",
      "посёлок Аннино\n",
      "посёлок Белоостров\n",
      "посёлок Бугры\n",
      "посёлок Возрождение\n",
      "посёлок Войскорово\n",
      "посёлок Высокоключевой\n",
      "посёлок Гаврилово\n",
      "посёлок Дзержинского\n",
      "посёлок Жилгородок\n",
      "посёлок Ильичёво\n",
      "посёлок Кикерино\n",
      "посёлок Кобралово\n",
      "посёлок Коробицыно\n",
      "посёлок Левашово\n",
      "посёлок Ленинское\n",
      "посёлок Лисий Нос\n",
      "посёлок Мельниково\n",
      "посёлок Металлострой\n",
      "посёлок Мичуринское\n",
      "посёлок Молодёжное\n",
      "посёлок Мурино\n",
      "посёлок Мыза-Ивановка\n",
      "посёлок Новогорелово\n",
      "посёлок Новый Свет\n",
      "посёлок Пансионат Зелёный Бор\n",
      "посёлок Парголово\n",
      "посёлок Перово\n",
      "посёлок Песочный\n",
      "посёлок Петро-Славянка\n",
      "посёлок Петровское\n",
      "посёлок Платформа 69-й километр\n",
      "посёлок Плодовое\n",
      "посёлок Плоское\n",
      "посёлок Победа\n",
      "посёлок Поляны\n",
      "посёлок Понтонный\n",
      "посёлок Пригородный\n",
      "посёлок Пудость\n",
      "посёлок Репино\n",
      "посёлок Ропша\n",
      "посёлок Сапёрное\n",
      "посёлок Сапёрный\n",
      "посёлок Сосново\n",
      "посёлок Старая Малукса\n",
      "посёлок Стеклянный\n",
      "посёлок Стрельна\n",
      "посёлок Суйда\n",
      "посёлок Сумино\n",
      "посёлок Тельмана\n",
      "посёлок Терволово\n",
      "посёлок Торфяное\n",
      "посёлок Усть-Ижора\n",
      "посёлок Усть-Луга\n",
      "посёлок Форт Красная Горка\n",
      "посёлок Шугозеро\n",
      "посёлок Шушары\n",
      "посёлок Щеглово\n",
      "посёлок городского типа Важины\n",
      "посёлок городского типа Вознесенье\n",
      "посёлок городского типа Вырица\n",
      "посёлок городского типа Красный Бор\n",
      "посёлок городского типа Кузнечное\n",
      "посёлок городского типа Кузьмоловский\n",
      "посёлок городского типа Лебяжье\n",
      "посёлок городского типа Мга\n",
      "посёлок городского типа Павлово\n",
      "посёлок городского типа Рощино\n",
      "посёлок городского типа Рябово\n",
      "посёлок городского типа Сиверский\n",
      "посёлок городского типа Тайцы\n",
      "посёлок городского типа Токсово\n",
      "посёлок городского типа Ульяновка\n",
      "посёлок городского типа Форносово\n",
      "посёлок городского типа имени Морозова\n",
      "посёлок городского типа имени Свердлова\n",
      "посёлок при железнодорожной станции Вещево\n",
      "посёлок при железнодорожной станции Приветнинское\n",
      "посёлок станции Громово\n",
      "посёлок станции Свирь\n",
      "садоводческое некоммерческое товарищество Лесная Поляна\n",
      "садовое товарищество Новая Ропша\n",
      "садовое товарищество Приладожский\n",
      "садовое товарищество Рахья\n",
      "садовое товарищество Садко\n",
      "село Копорье\n",
      "село Никольское\n",
      "село Павлово\n",
      "село Паша\n",
      "село Путилово\n",
      "село Рождествено\n",
      "село Русско-Высоцкое\n",
      "село Старая Ладога\n",
      "село Шум\n",
      "nan\n"
     ]
    }
   ],
   "source": [
    "for i in data['locality_name'].sort_values().unique():\n",
    "    print(i)"
   ]
  },
  {
   "cell_type": "markdown",
   "metadata": {},
   "source": [
    "В данных встречаются дубликаты по типу `Мурино`, `поселок Мурино`, `посёлок Мурино`. Простейший способ избавиться от них - удалить тип населенного пункта и оставить только название."
   ]
  },
  {
   "cell_type": "code",
   "execution_count": 7,
   "metadata": {},
   "outputs": [
    {
     "name": "stdout",
     "output_type": "stream",
     "text": [
      "Агалатово\n",
      "Александровская\n",
      "Алексеевка\n",
      "Аннино\n",
      "Аро\n",
      "Барышево\n",
      "Батово\n",
      "Бегуницы\n",
      "Белогорка\n",
      "Белоостров\n",
      "Бокситогорск\n",
      "Большая Вруда\n",
      "Большая Ижора\n",
      "Большая Пустомержа\n",
      "Большие Колпаны\n",
      "Большое Рейзино\n",
      "Большой Сабск\n",
      "Бор\n",
      "Борисова Грива\n",
      "Бугры\n",
      "Будогощь\n",
      "Ваганово\n",
      "Важины\n",
      "Вартемяги\n",
      "Вахнова Кара\n",
      "Вещево\n",
      "Виллози\n",
      "Вознесенье\n",
      "Возрождение\n",
      "Войсковицы\n",
      "Войскорово\n",
      "Володарское\n",
      "Волосово\n",
      "Волхов\n",
      "Всеволожск\n",
      "Выборг\n",
      "Вырица\n",
      "Выскатка\n",
      "Высокоключевой\n",
      "Высоцк\n",
      "Гаврилово\n",
      "Гарболово\n",
      "Гатчина\n",
      "Гладкое\n",
      "Глажево\n",
      "Глебычево\n",
      "Глинка\n",
      "Гончарово\n",
      "Горбунки\n",
      "Гостилицы\n",
      "Громово\n",
      "Дзержинского\n",
      "Дружная Горка\n",
      "Дружноселье\n",
      "Дубровка\n",
      "Елизаветино\n",
      "Ефимовский\n",
      "Жилгородок\n",
      "Жилпоселок\n",
      "Житково\n",
      "Заводской\n",
      "Заклинье\n",
      "Заневка\n",
      "Запорожское\n",
      "Зеленогорск\n",
      "Зимитицы\n",
      "Ивангород\n",
      "Извара\n",
      "Ильичево\n",
      "Иссад\n",
      "Калитино\n",
      "Каложицы\n",
      "Кальтино\n",
      "Каменногорск\n",
      "Камышовка\n",
      "Каськово\n",
      "Келози\n",
      "Кивеннапа Север\n",
      "Кикерино\n",
      "Кингисепп\n",
      "Кингисеппский\n",
      "Кипень\n",
      "Кириши\n",
      "Кировск\n",
      "Кирпичное\n",
      "Кисельня\n",
      "Кобралово\n",
      "Кобринское\n",
      "Колпино\n",
      "Колтуши\n",
      "Коммунар\n",
      "Коммунары\n",
      "Кондратьево\n",
      "Копорье\n",
      "Коркино\n",
      "Корнево\n",
      "Коробицыно\n",
      "Котельский\n",
      "Котлы\n",
      "Красная Долина\n",
      "Красное Село\n",
      "Красносельское\n",
      "Красный Бор\n",
      "Кривко\n",
      "Кронштадт\n",
      "Кудрово\n",
      "Кузнечное\n",
      "Кузьмолово\n",
      "Кузьмоловский\n",
      "Курковицы\n",
      "Куровицы\n",
      "Куттузи\n",
      "Лаврики\n",
      "Лаголово\n",
      "Лампово\n",
      "Лебяжье\n",
      "Левашово\n",
      "Ленинское\n",
      "Лесколово\n",
      "Лесная Поляна\n",
      "Лесное\n",
      "Лесогорский\n",
      "Лисий Нос\n",
      "Лодейное Поле\n",
      "Ломоносов\n",
      "Лопухинка\n",
      "Луга\n",
      "Лужайка\n",
      "Лукаши\n",
      "Лупполово\n",
      "Любань\n",
      "Малая Романовка\n",
      "Малое Верево\n",
      "Малое Карлино\n",
      "Малые Колпаны\n",
      "Мануйлово\n",
      "Мга\n",
      "Мельниково\n",
      "Меньково\n",
      "Металлострой\n",
      "Мины\n",
      "Мистолово\n",
      "Мичуринское\n",
      "Молодежное\n",
      "Молодцово\n",
      "Мурино\n",
      "Мыза-Ивановка\n",
      "Назия\n",
      "Ненимяки\n",
      "Нижние Осельки\n",
      "Нижняя\n",
      "Низино\n",
      "Никольский\n",
      "Никольское\n",
      "Новая Ладога\n",
      "Новая Ропша\n",
      "Новогорелово\n",
      "Новое Девяткино\n",
      "Новолисино\n",
      "Новоселье\n",
      "Новый Свет\n",
      "Новый Учхоз\n",
      "Нурма\n",
      "Оредеж\n",
      "Оржицы\n",
      "Отрадное\n",
      "Павлово\n",
      "Павловск\n",
      "Пансионат Зеленый Бор\n",
      "Парголово\n",
      "Парицы\n",
      "Паша\n",
      "Пельгора\n",
      "Пеники\n",
      "Первомайское\n",
      "Перово\n",
      "Песочный\n",
      "Петергоф\n",
      "Петро-Славянка\n",
      "Петровское\n",
      "Пижма\n",
      "Пикалево\n",
      "Пикколово\n",
      "Платформа 69-й километр\n",
      "Плодовое\n",
      "Плоское\n",
      "Победа\n",
      "Подпорожье\n",
      "Поляны\n",
      "Понтонный\n",
      "Почап\n",
      "Починок\n",
      "Приветнинское\n",
      "Пригородный\n",
      "Приладожский\n",
      "Приморск\n",
      "Приозерск\n",
      "Пудомяги\n",
      "Пудость\n",
      "Пустынка\n",
      "Путилово\n",
      "Пушкин\n",
      "Пушное\n",
      "Пчева\n",
      "Пчевжа\n",
      "Рабитицы\n",
      "Разбегаево\n",
      "Раздолье\n",
      "Разметелево\n",
      "Рапполово\n",
      "Рахья\n",
      "Реброво\n",
      "Репино\n",
      "Рождествено\n",
      "Романовка\n",
      "Ромашки\n",
      "Ропша\n",
      "Рощино\n",
      "Русско\n",
      "Русско-Высоцкое\n",
      "Рябово\n",
      "Садко\n",
      "Санкт-Петербург\n",
      "Саперное\n",
      "Саперный\n",
      "Светогорск\n",
      "Свирь\n",
      "Свирьстрой\n",
      "Севастьяново\n",
      "Селезнево\n",
      "Сельцо\n",
      "Семиозерье\n",
      "Семрино\n",
      "Серебрянский\n",
      "Сертолово\n",
      "Сестрорецк\n",
      "Сиверский\n",
      "Сижно\n",
      "Синявино\n",
      "Сланцы\n",
      "Снегиревка\n",
      "Советский\n",
      "Совхозный\n",
      "Сосново\n",
      "Сосновый Бор\n",
      "Старая\n",
      "Старая Ладога\n",
      "Старая Малукса\n",
      "Старая Пустошь\n",
      "Старое Хинколово\n",
      "Старополье\n",
      "Старосиверская\n",
      "Старые Бегуницы\n",
      "Стеклянный\n",
      "Стрельна\n",
      "Суйда\n",
      "Сумино\n",
      "Суоранда\n",
      "Суходолье\n",
      "Счастье\n",
      "Сяськелево\n",
      "Сясьстрой\n",
      "Тайцы\n",
      "Тарасово\n",
      "Тельмана\n",
      "Терволово\n",
      "Терпилицы\n",
      "Тесово-4\n",
      "Тихвин\n",
      "Тихковицы\n",
      "Тойворово\n",
      "Токсово\n",
      "Торковичи\n",
      "Торосово\n",
      "Торошковичи\n",
      "Торфяное\n",
      "Тосно\n",
      "Трубников Бор\n",
      "Углово\n",
      "Ульяновка\n",
      "Усть-Ижора\n",
      "Усть-Луга\n",
      "Ушаки\n",
      "Фалилеево\n",
      "Федоровское\n",
      "Форносово\n",
      "Форт Красная Горка\n",
      "Хапо-Ое\n",
      "Хязельки\n",
      "Цвелодубово\n",
      "Цвылево\n",
      "Чудской Бор\n",
      "Шлиссельбург\n",
      "Шпаньково\n",
      "Шугозеро\n",
      "Шум\n",
      "Шушары\n",
      "Щеглово\n",
      "Юкки\n",
      "Ялгино\n",
      "Яльгелево\n",
      "Ям-Тесово\n",
      "Янино-1\n",
      "имени Морозова\n",
      "имени Свердлова\n",
      "при железнодорожной станции Вещево\n",
      "при железнодорожной станции Приветнинское\n",
      "nan\n"
     ]
    }
   ],
   "source": [
    "data['locality_name'] = (\n",
    "    data['locality_name']\n",
    "    .str.replace('ё', 'е')\n",
    "    .replace(['коттеджный поселок ','городской поселок ', 'поселок станции ', 'поселок городского типа ', 'поселок ',  'деревня ', 'село ', 'садовое товарищество ', 'садоводческое некоммерческое товарищество '], '', regex=True)\n",
    ") \n",
    "\n",
    "for i in data['locality_name'].sort_values().unique():\n",
    "    print(i)"
   ]
  },
  {
   "cell_type": "markdown",
   "metadata": {},
   "source": [
    "### Добавление в таблицу новых столбцов"
   ]
  },
  {
   "cell_type": "markdown",
   "metadata": {},
   "source": [
    "Добавим в таблицу следующие столбцы:\n",
    "- цена за квадратный метр\n",
    "- день недели выставления объявления\n",
    "- месяц выставления объявления\n",
    "- год выставления объявления"
   ]
  },
  {
   "cell_type": "code",
   "execution_count": 8,
   "metadata": {},
   "outputs": [
    {
     "data": {
      "text/html": [
       "<div>\n",
       "<style scoped>\n",
       "    .dataframe tbody tr th:only-of-type {\n",
       "        vertical-align: middle;\n",
       "    }\n",
       "\n",
       "    .dataframe tbody tr th {\n",
       "        vertical-align: top;\n",
       "    }\n",
       "\n",
       "    .dataframe thead th {\n",
       "        text-align: right;\n",
       "    }\n",
       "</style>\n",
       "<table border=\"1\" class=\"dataframe\">\n",
       "  <thead>\n",
       "    <tr style=\"text-align: right;\">\n",
       "      <th></th>\n",
       "      <th>total_images</th>\n",
       "      <th>last_price</th>\n",
       "      <th>total_area</th>\n",
       "      <th>first_day_exposition</th>\n",
       "      <th>rooms</th>\n",
       "      <th>ceiling_height</th>\n",
       "      <th>floors_total</th>\n",
       "      <th>living_area</th>\n",
       "      <th>floor</th>\n",
       "      <th>is_apartment</th>\n",
       "      <th>...</th>\n",
       "      <th>ponds_around3000</th>\n",
       "      <th>ponds_nearest</th>\n",
       "      <th>days_exposition</th>\n",
       "      <th>price_quartile</th>\n",
       "      <th>price_per_meter</th>\n",
       "      <th>week_day</th>\n",
       "      <th>month_exposition</th>\n",
       "      <th>year_exposition</th>\n",
       "      <th>floor_type</th>\n",
       "      <th>km_to_center</th>\n",
       "    </tr>\n",
       "  </thead>\n",
       "  <tbody>\n",
       "    <tr>\n",
       "      <th>0</th>\n",
       "      <td>20</td>\n",
       "      <td>13000000</td>\n",
       "      <td>108.0</td>\n",
       "      <td>2019-03-07</td>\n",
       "      <td>3</td>\n",
       "      <td>2.70</td>\n",
       "      <td>16</td>\n",
       "      <td>51.000000</td>\n",
       "      <td>8</td>\n",
       "      <td>False</td>\n",
       "      <td>...</td>\n",
       "      <td>2</td>\n",
       "      <td>755.0</td>\n",
       "      <td>NaN</td>\n",
       "      <td>3</td>\n",
       "      <td>120370.37</td>\n",
       "      <td>3</td>\n",
       "      <td>3</td>\n",
       "      <td>2019</td>\n",
       "      <td>другой</td>\n",
       "      <td>16.0</td>\n",
       "    </tr>\n",
       "    <tr>\n",
       "      <th>1</th>\n",
       "      <td>7</td>\n",
       "      <td>3350000</td>\n",
       "      <td>40.4</td>\n",
       "      <td>2018-12-04</td>\n",
       "      <td>1</td>\n",
       "      <td>2.55</td>\n",
       "      <td>11</td>\n",
       "      <td>18.600000</td>\n",
       "      <td>1</td>\n",
       "      <td>False</td>\n",
       "      <td>...</td>\n",
       "      <td>0</td>\n",
       "      <td>NaN</td>\n",
       "      <td>81.0</td>\n",
       "      <td>0</td>\n",
       "      <td>82920.79</td>\n",
       "      <td>1</td>\n",
       "      <td>12</td>\n",
       "      <td>2018</td>\n",
       "      <td>первый</td>\n",
       "      <td>19.0</td>\n",
       "    </tr>\n",
       "    <tr>\n",
       "      <th>2</th>\n",
       "      <td>10</td>\n",
       "      <td>5196000</td>\n",
       "      <td>56.0</td>\n",
       "      <td>2015-08-20</td>\n",
       "      <td>2</td>\n",
       "      <td>2.65</td>\n",
       "      <td>5</td>\n",
       "      <td>34.300000</td>\n",
       "      <td>4</td>\n",
       "      <td>False</td>\n",
       "      <td>...</td>\n",
       "      <td>2</td>\n",
       "      <td>574.0</td>\n",
       "      <td>558.0</td>\n",
       "      <td>2</td>\n",
       "      <td>92785.71</td>\n",
       "      <td>3</td>\n",
       "      <td>8</td>\n",
       "      <td>2015</td>\n",
       "      <td>другой</td>\n",
       "      <td>14.0</td>\n",
       "    </tr>\n",
       "    <tr>\n",
       "      <th>3</th>\n",
       "      <td>0</td>\n",
       "      <td>64900000</td>\n",
       "      <td>159.0</td>\n",
       "      <td>2015-07-24</td>\n",
       "      <td>3</td>\n",
       "      <td>2.90</td>\n",
       "      <td>14</td>\n",
       "      <td>89.797718</td>\n",
       "      <td>9</td>\n",
       "      <td>False</td>\n",
       "      <td>...</td>\n",
       "      <td>3</td>\n",
       "      <td>234.0</td>\n",
       "      <td>424.0</td>\n",
       "      <td>3</td>\n",
       "      <td>408176.10</td>\n",
       "      <td>4</td>\n",
       "      <td>7</td>\n",
       "      <td>2015</td>\n",
       "      <td>другой</td>\n",
       "      <td>7.0</td>\n",
       "    </tr>\n",
       "    <tr>\n",
       "      <th>4</th>\n",
       "      <td>2</td>\n",
       "      <td>10000000</td>\n",
       "      <td>100.0</td>\n",
       "      <td>2018-06-19</td>\n",
       "      <td>2</td>\n",
       "      <td>3.03</td>\n",
       "      <td>14</td>\n",
       "      <td>32.000000</td>\n",
       "      <td>13</td>\n",
       "      <td>False</td>\n",
       "      <td>...</td>\n",
       "      <td>1</td>\n",
       "      <td>48.0</td>\n",
       "      <td>121.0</td>\n",
       "      <td>3</td>\n",
       "      <td>100000.00</td>\n",
       "      <td>1</td>\n",
       "      <td>6</td>\n",
       "      <td>2018</td>\n",
       "      <td>другой</td>\n",
       "      <td>8.0</td>\n",
       "    </tr>\n",
       "  </tbody>\n",
       "</table>\n",
       "<p>5 rows × 29 columns</p>\n",
       "</div>"
      ],
      "text/plain": [
       "   total_images  last_price  total_area first_day_exposition  rooms  \\\n",
       "0            20    13000000       108.0           2019-03-07      3   \n",
       "1             7     3350000        40.4           2018-12-04      1   \n",
       "2            10     5196000        56.0           2015-08-20      2   \n",
       "3             0    64900000       159.0           2015-07-24      3   \n",
       "4             2    10000000       100.0           2018-06-19      2   \n",
       "\n",
       "   ceiling_height  floors_total  living_area  floor  is_apartment  ...  \\\n",
       "0            2.70            16    51.000000      8         False  ...   \n",
       "1            2.55            11    18.600000      1         False  ...   \n",
       "2            2.65             5    34.300000      4         False  ...   \n",
       "3            2.90            14    89.797718      9         False  ...   \n",
       "4            3.03            14    32.000000     13         False  ...   \n",
       "\n",
       "   ponds_around3000  ponds_nearest  days_exposition  price_quartile  \\\n",
       "0                 2          755.0              NaN               3   \n",
       "1                 0            NaN             81.0               0   \n",
       "2                 2          574.0            558.0               2   \n",
       "3                 3          234.0            424.0               3   \n",
       "4                 1           48.0            121.0               3   \n",
       "\n",
       "  price_per_meter  week_day  month_exposition  year_exposition  floor_type  \\\n",
       "0       120370.37         3                 3             2019      другой   \n",
       "1        82920.79         1                12             2018      первый   \n",
       "2        92785.71         3                 8             2015      другой   \n",
       "3       408176.10         4                 7             2015      другой   \n",
       "4       100000.00         1                 6             2018      другой   \n",
       "\n",
       "   km_to_center  \n",
       "0          16.0  \n",
       "1          19.0  \n",
       "2          14.0  \n",
       "3           7.0  \n",
       "4           8.0  \n",
       "\n",
       "[5 rows x 29 columns]"
      ]
     },
     "metadata": {},
     "output_type": "display_data"
    }
   ],
   "source": [
    "data['price_per_meter'] = round(data['last_price'] / data['total_area'],2)\n",
    "\n",
    "data['week_day'] = data['first_day_exposition'].dt.weekday\n",
    "data['month_exposition'] = data['first_day_exposition'].dt.month\n",
    "data['year_exposition'] = data['first_day_exposition'].dt.year\n",
    "\n",
    "def floor_type(row):\n",
    "    #print(row)\n",
    "    if row['floor'] == 1:\n",
    "        return 'первый'\n",
    "    if row['floor'] == row['floors_total']:\n",
    "        return 'последний'\n",
    "    return 'другой'\n",
    "\n",
    "data['floor_type'] = data.apply(floor_type, axis=1)\n",
    "\n",
    "data['km_to_center'] = round(data['cityCenters_nearest'] / 1000,0)\n",
    "\n",
    "display(data.head())"
   ]
  },
  {
   "cell_type": "markdown",
   "metadata": {},
   "source": [
    "### Исследовательский анализ данных"
   ]
  },
  {
   "cell_type": "markdown",
   "metadata": {},
   "source": [
    "#### Распределения данных и аномальные значения\n",
    "\n",
    "Рассмотрим распределения различных параметров в данных, по возможности отфильтруем аномальные значения"
   ]
  },
  {
   "cell_type": "markdown",
   "metadata": {},
   "source": [
    "##### Общая площадь\n",
    "\n",
    "Минимальная общая площадь квартиры составляет 12 квадратных метров а максимальная - 900. Назвать эти величины выбросами сложно, т.к. такие квартиры действительно существуют, но они крайне малочисленны. Для того чтобы не вносить искажения в статистику будем рассматривать только помещения с площадью менее 300 квадратных метров. \n",
    "\n",
    "Также отбросим все квартиры:\n",
    "- общей площадью менее 28м^2\n",
    "- жилой площадью менее 14м^2\n",
    "- кухней менее 5м^2\n",
    "\n",
    "как недопустимые согласно СП 54.13330.2016.\n",
    "\n",
    "В итоге получаем, что медианая общая площадь квартиры составляет 52м^2, и квартиры менее 70м^2 составляют 75% от общего числа квартир."
   ]
  },
  {
   "cell_type": "code",
   "execution_count": 9,
   "metadata": {
    "scrolled": false
   },
   "outputs": [
    {
     "name": "stdout",
     "output_type": "stream",
     "text": [
      "count    23699.000000\n",
      "mean        60.348651\n",
      "std         35.654083\n",
      "min         12.000000\n",
      "25%         40.000000\n",
      "50%         52.000000\n",
      "75%         69.900000\n",
      "max        900.000000\n",
      "Name: total_area, dtype: float64\n"
     ]
    },
    {
     "data": {
      "text/plain": [
       "array([[<AxesSubplot:title={'center':'total_area'}>]], dtype=object)"
      ]
     },
     "execution_count": 9,
     "metadata": {},
     "output_type": "execute_result"
    },
    {
     "data": {
      "image/png": "[encoded data removed]",
      "text/plain": [
       "<Figure size 432x288 with 1 Axes>"
      ]
     },
     "metadata": {
      "needs_background": "light"
     },
     "output_type": "display_data"
    },
    {
     "data": {
      "image/png": "[encoded data removed]",
      "text/plain": [
       "<Figure size 432x288 with 1 Axes>"
      ]
     },
     "metadata": {
      "needs_background": "light"
     },
     "output_type": "display_data"
    }
   ],
   "source": [
    "data.hist('total_area', bins=50)\n",
    "print(data['total_area'].describe())\n",
    "\n",
    "data_filtered = data.query('total_area<300 and total_area>28 and living_area>14 and kitchen_area>5')\n",
    "data_filtered.hist('total_area', bins=50, range=(0,300))"
   ]
  },
  {
   "cell_type": "markdown",
   "metadata": {},
   "source": [
    "##### Жилая площадь\n",
    "\n",
    "Аналогично отбросим все помещения с жилой площадью более 250 квадратных метров как крайне малочисленные\n",
    " \n",
    "В данных наблюдаетя явный провал: квартир с жилой площадью около 25м^2 несколько меньше чем с немного большей или меньшей площадью. Заметим также, что небольшой провал есть и в общей площади квартир (около 50м^2) и вероятнее всего они связаны между собой\n",
    "\n",
    "Неизвестно чем вызвана подобная аномалия: ошибками в данных или это реальный феномен. Возможно это как-то связано с тенденцией уменьшения площади квартир в новых домах, в то время как в старом фонде площади заметно больше. Эти две группы могут иметь свои характерные площади. Проверить это предположение не представляется возможным из-за отсутствия данных о годе постройки.\n",
    "\n",
    "По гистограмме видно, что квартиры малой площади (жилая площадь до 43м^2) составляют более 75% от общего числа квартир."
   ]
  },
  {
   "cell_type": "code",
   "execution_count": 10,
   "metadata": {},
   "outputs": [
    {
     "name": "stdout",
     "output_type": "stream",
     "text": [
      "count    22421.000000\n",
      "mean        34.847281\n",
      "std         19.819658\n",
      "min         14.010000\n",
      "25%         19.800000\n",
      "50%         30.500000\n",
      "75%         42.800000\n",
      "max        250.000000\n",
      "Name: living_area, dtype: float64\n"
     ]
    },
    {
     "data": {
      "text/plain": [
       "array([[<AxesSubplot:title={'center':'living_area'}>]], dtype=object)"
      ]
     },
     "execution_count": 10,
     "metadata": {},
     "output_type": "execute_result"
    },
    {
     "data": {
      "image/png": "[encoded data removed]",
      "text/plain": [
       "<Figure size 432x288 with 1 Axes>"
      ]
     },
     "metadata": {
      "needs_background": "light"
     },
     "output_type": "display_data"
    }
   ],
   "source": [
    "print(data_filtered['living_area'].describe())\n",
    "\n",
    "data_filtered = data_filtered.query('living_area<250')\n",
    "data_filtered.hist('living_area', bins=40)"
   ]
  },
  {
   "cell_type": "markdown",
   "metadata": {},
   "source": [
    "##### Площадь кухни\n",
    "\n",
    "Рассмотрим гистограмму по площадям кухни, как видно, для большинства квартир ее площадь не превышает 12м^2, а медианное значение около 9м^2\n",
    "\n",
    "Отбросим квартиры с площадью кухни более 50м^2 как малочисленные."
   ]
  },
  {
   "cell_type": "code",
   "execution_count": 11,
   "metadata": {},
   "outputs": [
    {
     "name": "stdout",
     "output_type": "stream",
     "text": [
      "count    22420.000000\n",
      "mean        10.653459\n",
      "std          5.694891\n",
      "min          5.040000\n",
      "25%          7.200000\n",
      "50%          9.300000\n",
      "75%         12.000000\n",
      "max        107.000000\n",
      "Name: kitchen_area, dtype: float64\n"
     ]
    },
    {
     "data": {
      "text/plain": [
       "array([[<AxesSubplot:title={'center':'kitchen_area'}>]], dtype=object)"
      ]
     },
     "execution_count": 11,
     "metadata": {},
     "output_type": "execute_result"
    },
    {
     "data": {
      "image/png": "[encoded data removed]",
      "text/plain": [
       "<Figure size 432x288 with 1 Axes>"
      ]
     },
     "metadata": {
      "needs_background": "light"
     },
     "output_type": "display_data"
    }
   ],
   "source": [
    "print(data_filtered['kitchen_area'].describe())\n",
    "\n",
    "data_filtered = data_filtered.query('kitchen_area<50')\n",
    "\n",
    "data_filtered.hist('kitchen_area', bins=50)"
   ]
  },
  {
   "cell_type": "markdown",
   "metadata": {},
   "source": [
    "##### Цена объекта\n",
    "\n",
    "Отбросим элитные квартиры (более 50 миллионов рублей) ввиду их малочисленности\n",
    "\n",
    "В данных есть одна квартира с ценой 12000 рублей, это значение явно аномальное\n",
    "\n",
    "Медианная стоимость квартиры равна 4.7 миллионов рублей, и большинство квартир стоят от 3.4 до 6.8 миллионов."
   ]
  },
  {
   "cell_type": "code",
   "execution_count": 12,
   "metadata": {},
   "outputs": [
    {
     "name": "stdout",
     "output_type": "stream",
     "text": [
      "count    2.369900e+04\n",
      "mean     6.541549e+06\n",
      "std      1.088701e+07\n",
      "min      1.219000e+04\n",
      "25%      3.400000e+06\n",
      "50%      4.650000e+06\n",
      "75%      6.800000e+06\n",
      "max      7.630000e+08\n",
      "Name: last_price, dtype: float64\n"
     ]
    },
    {
     "data": {
      "text/plain": [
       "array([[<AxesSubplot:title={'center':'last_price'}>]], dtype=object)"
      ]
     },
     "execution_count": 12,
     "metadata": {},
     "output_type": "execute_result"
    },
    {
     "data": {
      "image/png": "[encoded data removed]",
      "text/plain": [
       "<Figure size 432x288 with 1 Axes>"
      ]
     },
     "metadata": {
      "needs_background": "light"
     },
     "output_type": "display_data"
    },
    {
     "data": {
      "image/png": "[encoded data removed]",
      "text/plain": [
       "<Figure size 432x288 with 1 Axes>"
      ]
     },
     "metadata": {
      "needs_background": "light"
     },
     "output_type": "display_data"
    }
   ],
   "source": [
    "print(data['last_price'].describe())\n",
    "\n",
    "data_filtered = data_filtered.query('last_price<50000000 and last_price>13000')\n",
    "\n",
    "data.hist('last_price', bins=100)\n",
    "data_filtered.hist('last_price', bins=100)\n",
    "\n",
    "#print(data_filtered['last_price'].describe())"
   ]
  },
  {
   "cell_type": "markdown",
   "metadata": {},
   "source": [
    "##### Количество комнат\n",
    "\n",
    "Отбросим квартиры более чем с 8 комнатами в виду их малочисленности.\n",
    "\n",
    "В данных есть некоторое количество квартир с числом комнат 0, но при этом это никак не связано с тем что они могут студииями или иметь свободную планировку. Отбросим их.\n",
    "\n",
    "В итоге получаем что самыми популярными являются двушки и однушки, после них идут 3 комнатные. Больше 3 комнат имеют только 7% квартир."
   ]
  },
  {
   "cell_type": "code",
   "execution_count": 13,
   "metadata": {},
   "outputs": [
    {
     "name": "stdout",
     "output_type": "stream",
     "text": [
      "count    23699.000000\n",
      "mean         2.070636\n",
      "std          1.078405\n",
      "min          0.000000\n",
      "25%          1.000000\n",
      "50%          2.000000\n",
      "75%          3.000000\n",
      "max         19.000000\n",
      "Name: rooms, dtype: float64\n",
      "\n",
      "0 комнат, студия: 38\n",
      "0 комнат, не студия: 17\n",
      "0 комнат, свободная планировка: 17\n",
      "0 комнат, не свободная планировка: 38\n",
      "\n",
      "Больше 3 комнат: 6.934881418478016%\n"
     ]
    },
    {
     "data": {
      "image/png": "[encoded data removed]",
      "text/plain": [
       "<Figure size 432x288 with 1 Axes>"
      ]
     },
     "metadata": {
      "needs_background": "light"
     },
     "output_type": "display_data"
    },
    {
     "data": {
      "image/png": "[encoded data removed]",
      "text/plain": [
       "<Figure size 432x288 with 1 Axes>"
      ]
     },
     "metadata": {
      "needs_background": "light"
     },
     "output_type": "display_data"
    }
   ],
   "source": [
    "print(data['rooms'].describe())\n",
    "print()\n",
    "print('0 комнат, студия:', data_filtered.query('rooms==0 and studio')['rooms'].count())\n",
    "print('0 комнат, не студия:', data_filtered.query('rooms==0 and not studio')['rooms'].count())\n",
    "print('0 комнат, свободная планировка:', data_filtered.query('rooms==0 and open_plan')['rooms'].count())\n",
    "print('0 комнат, не свободная планировка:', data_filtered.query('rooms==0 and not open_plan')['rooms'].count())\n",
    "\n",
    "data.hist('rooms', bins=19)\n",
    "\n",
    "data_filtered = data_filtered.query('rooms<=8 and rooms>=1')\n",
    "\n",
    "data_filtered.hist('rooms', bins=7)\n",
    "\n",
    "print()\n",
    "print(f'Больше 3 комнат: {data_filtered.query(\"rooms>3\")[\"rooms\"].count()/data_filtered[\"rooms\"].count()*100}%')"
   ]
  },
  {
   "cell_type": "markdown",
   "metadata": {},
   "source": [
    "##### Высота потолков\n",
    "\n",
    "СНиП регламентирует минимальную высоту потолка 2.5м для жилых и 2.1м для коридоров и холлов. Очевидно что все значения менее 2.1м будут в таком случае аномальными.\n",
    "\n",
    "Можно предположить, что значения 32, 27.5, 27 завышены в 10 раз из-за смещения десятичного разделителя, однако как трактовать значения 14, 20 непонятно. Такая высота слишком большая чтобы быть правдоподобной, но и не может быть завышена в 10 раз т.к. тогда она станет слишком маленькой.\n",
    "\n",
    "Предлагается отбросить все значения менее 2.1, значения в диапазоне (20,60] считаются завышенными и делятся на 10. После нормировки все значения более 6м отбрасываются\n",
    "\n",
    "В итоге получаем, что в большинстве квартир потолки около 2.6-2.8 метра и с ростом высоты потолков число квартир падает."
   ]
  },
  {
   "cell_type": "code",
   "execution_count": 14,
   "metadata": {},
   "outputs": [
    {
     "name": "stdout",
     "output_type": "stream",
     "text": [
      "count    23699.000000\n",
      "mean         2.728916\n",
      "std          0.991281\n",
      "min          1.000000\n",
      "25%          2.550000\n",
      "50%          2.600000\n",
      "75%          2.800000\n",
      "max        100.000000\n",
      "Name: ceiling_height, dtype: float64\n"
     ]
    },
    {
     "data": {
      "text/plain": [
       "array([[<AxesSubplot:title={'center':'ceiling_height'}>]], dtype=object)"
      ]
     },
     "execution_count": 14,
     "metadata": {},
     "output_type": "execute_result"
    },
    {
     "data": {
      "image/png": "[encoded data removed]",
      "text/plain": [
       "<Figure size 432x288 with 1 Axes>"
      ]
     },
     "metadata": {
      "needs_background": "light"
     },
     "output_type": "display_data"
    },
    {
     "data": {
      "image/png": "[encoded data removed]",
      "text/plain": [
       "<Figure size 432x288 with 1 Axes>"
      ]
     },
     "metadata": {
      "needs_background": "light"
     },
     "output_type": "display_data"
    }
   ],
   "source": [
    "print(data['ceiling_height'].describe())\n",
    "\n",
    "#print(sorted(data_filtered['ceiling_height'].unique()))\n",
    "data.hist('ceiling_height', bins=12)\n",
    "\n",
    "data_filtered = data_filtered.query('ceiling_height >=2.1')\n",
    "data_filtered.loc[(data_filtered['ceiling_height']>20)&(data_filtered['ceiling_height']<=60),'ceiling_height'] = data_filtered.loc[(data_filtered['ceiling_height']>20)&(data_filtered['ceiling_height']<=60),'ceiling_height']/10\n",
    "data_filtered = data_filtered.query('ceiling_height < 6')\n",
    "\n",
    "#print(sorted(data_filtered['ceiling_height'].unique()))\n",
    "data_filtered.hist('ceiling_height', bins=12, range=(2,6))"
   ]
  },
  {
   "cell_type": "markdown",
   "metadata": {},
   "source": [
    "##### Общее число этажей\n",
    "\n",
    "Рассмотрим общее число этажей в домах. Как видно из гистограмм самыми массовыми являются 5 и 9 этажки, а большинстов домов имеет от 5 до 16 этажей. Медианным числом этажей является 9, а средним 10.7"
   ]
  },
  {
   "cell_type": "code",
   "execution_count": 15,
   "metadata": {
    "scrolled": true
   },
   "outputs": [
    {
     "name": "stdout",
     "output_type": "stream",
     "text": [
      "count    22200.000000\n",
      "mean        10.643784\n",
      "std          6.505166\n",
      "min          1.000000\n",
      "25%          5.000000\n",
      "50%          9.000000\n",
      "75%         15.000000\n",
      "max         60.000000\n",
      "Name: floors_total, dtype: float64\n"
     ]
    },
    {
     "data": {
      "text/plain": [
       "array([[<AxesSubplot:title={'center':'floors_total'}>]], dtype=object)"
      ]
     },
     "execution_count": 15,
     "metadata": {},
     "output_type": "execute_result"
    },
    {
     "data": {
      "image/png": "[encoded data removed]",
      "text/plain": [
       "<Figure size 432x288 with 1 Axes>"
      ]
     },
     "metadata": {
      "needs_background": "light"
     },
     "output_type": "display_data"
    },
    {
     "data": {
      "image/png": "[encoded data removed]",
      "text/plain": [
       "<Figure size 432x288 with 1 Axes>"
      ]
     },
     "metadata": {
      "needs_background": "light"
     },
     "output_type": "display_data"
    }
   ],
   "source": [
    "print(data_filtered['floors_total'].describe())\n",
    "\n",
    "data_filtered.hist('floors_total', bins=20)\n",
    "\n",
    "data_filtered.hist('floors_total', bins=15, range=(0,30))"
   ]
  },
  {
   "cell_type": "markdown",
   "metadata": {},
   "source": [
    "##### Тип этажа\n",
    "\n",
    "Данные по типу этажей на которых находятся квартиры выглядят правдоподобно: первых и последних этажей примерно поровну, а других больше всего.\n",
    "\n",
    "По проценту `P` числа квартир на этажах отличных от первого и последнего можно оценить среднее число этажей в доме `N`: `P=(N-2)/N`. В данном случае получаем `N=7.7`, что заметно отличается от среднего числа этажей из столбца `floors_total`: 10.7. Это может быть вызвано тем, что не во всех домах первые и последние этажи являются жилыми."
   ]
  },
  {
   "cell_type": "code",
   "execution_count": 16,
   "metadata": {},
   "outputs": [
    {
     "name": "stdout",
     "output_type": "stream",
     "text": [
      "count      22200\n",
      "unique         3\n",
      "top       другой\n",
      "freq       16398\n",
      "Name: floor_type, dtype: object\n"
     ]
    },
    {
     "data": {
      "text/plain": [
       "<AxesSubplot:>"
      ]
     },
     "execution_count": 16,
     "metadata": {},
     "output_type": "execute_result"
    },
    {
     "data": {
      "image/png": "[encoded data removed]",
      "text/plain": [
       "<Figure size 432x288 with 1 Axes>"
      ]
     },
     "metadata": {
      "needs_background": "light"
     },
     "output_type": "display_data"
    }
   ],
   "source": [
    "print(data_filtered['floor_type'].describe())\n",
    "\n",
    "data['floor_type'].hist(bins=3)"
   ]
  },
  {
   "cell_type": "markdown",
   "metadata": {},
   "source": [
    "##### Расстояние до центра города (м)\n",
    "\n",
    "Рассмотрим как распределено число квартир в зависимости от расстояния до центра Санкт-Петербурга.\n",
    "По гистограмме видно что есть 4 пика числа квартир: 5, 13, 30 и 50км до центра города, причем больше всего квартир на расстоянии около 13км от центра.\n",
    "\n",
    "Вероятнее всего пики связаны с густонаселенными районами города или крупными населенными пунктами.\n",
    "\n",
    "Заметим также что расстояние до центра известно лишь для 3/4 от всех данных."
   ]
  },
  {
   "cell_type": "code",
   "execution_count": 17,
   "metadata": {},
   "outputs": [
    {
     "name": "stdout",
     "output_type": "stream",
     "text": [
      "count    17158.000000\n",
      "mean     14169.334946\n",
      "std       8491.598653\n",
      "min        181.000000\n",
      "25%       9386.000000\n",
      "50%      13107.000000\n",
      "75%      16228.000000\n",
      "max      65968.000000\n",
      "Name: cityCenters_nearest, dtype: float64\n"
     ]
    },
    {
     "data": {
      "text/plain": [
       "<AxesSubplot:>"
      ]
     },
     "execution_count": 17,
     "metadata": {},
     "output_type": "execute_result"
    },
    {
     "data": {
      "image/png": "[encoded data removed]",
      "text/plain": [
       "<Figure size 432x288 with 1 Axes>"
      ]
     },
     "metadata": {
      "needs_background": "light"
     },
     "output_type": "display_data"
    }
   ],
   "source": [
    "print(data_filtered['cityCenters_nearest'].describe())\n",
    "\n",
    "data_filtered['cityCenters_nearest'].hist(bins=20)"
   ]
  },
  {
   "cell_type": "markdown",
   "metadata": {},
   "source": [
    "##### Расстояние до ближайшего парка (м)\n",
    "\n",
    "Рассмотрим как распределено число квартир в зависимости от расстояния до ближайшего парка.\n",
    "\n",
    "По гистограмме видно что около 800 квартир имее парк в непосредствнной близости, а большинство квартир имеет парк в полукилометре.\n",
    "\n",
    "Менее 5% квартир имеют парк дальше чем 1км.\n",
    "\n",
    "Не имеет смысла уделять большое внимание на этот параметр т.к. для почти 3/4 таблицы он неизвестен."
   ]
  },
  {
   "cell_type": "code",
   "execution_count": 18,
   "metadata": {},
   "outputs": [
    {
     "name": "stdout",
     "output_type": "stream",
     "text": [
      "count    7605.000000\n",
      "mean      492.235897\n",
      "std       342.455508\n",
      "min         1.000000\n",
      "25%       288.000000\n",
      "50%       456.000000\n",
      "75%       613.000000\n",
      "max      3190.000000\n",
      "Name: parks_nearest, dtype: float64\n",
      "\n",
      "Парк дальше 1км: 4.667981591058514%\n"
     ]
    },
    {
     "data": {
      "text/plain": [
       "array([[<AxesSubplot:title={'center':'parks_nearest'}>]], dtype=object)"
      ]
     },
     "execution_count": 18,
     "metadata": {},
     "output_type": "execute_result"
    },
    {
     "data": {
      "image/png": "[encoded data removed]",
      "text/plain": [
       "<Figure size 432x288 with 1 Axes>"
      ]
     },
     "metadata": {
      "needs_background": "light"
     },
     "output_type": "display_data"
    }
   ],
   "source": [
    "print(data_filtered['parks_nearest'].describe())\n",
    "print()\n",
    "print(f\"Парк дальше 1км: {100*data_filtered.loc[data_filtered['parks_nearest']>1000,'parks_nearest'].count()/data_filtered['parks_nearest'].count()}%\")\n",
    "\n",
    "data_filtered.hist('parks_nearest',bins=20)"
   ]
  },
  {
   "cell_type": "markdown",
   "metadata": {},
   "source": [
    "##### Расстояние до ближайшего пруда (м)\n",
    "\n",
    "Аналогично числу парков данный параметр неизвестен для 3/4 таблицы.\n",
    "\n",
    "Большинство квартир (для которых этот параметр известен) имеет пруд менее чем в 1км."
   ]
  },
  {
   "cell_type": "code",
   "execution_count": 19,
   "metadata": {
    "scrolled": true
   },
   "outputs": [
    {
     "name": "stdout",
     "output_type": "stream",
     "text": [
      "count    8501.000000\n",
      "mean      519.570521\n",
      "std       277.115559\n",
      "min        13.000000\n",
      "25%       297.000000\n",
      "50%       503.000000\n",
      "75%       731.000000\n",
      "max      1344.000000\n",
      "Name: ponds_nearest, dtype: float64\n"
     ]
    },
    {
     "data": {
      "text/plain": [
       "array([[<AxesSubplot:title={'center':'ponds_nearest'}>]], dtype=object)"
      ]
     },
     "execution_count": 19,
     "metadata": {},
     "output_type": "execute_result"
    },
    {
     "data": {
      "image/png": "[encoded data removed]",
      "text/plain": [
       "<Figure size 432x288 with 1 Axes>"
      ]
     },
     "metadata": {
      "needs_background": "light"
     },
     "output_type": "display_data"
    }
   ],
   "source": [
    "print(data_filtered['ponds_nearest'].describe())\n",
    "\n",
    "data_filtered.hist('ponds_nearest',bins=10)"
   ]
  },
  {
   "cell_type": "markdown",
   "metadata": {},
   "source": [
    "##### Расстояние до ближайшего аэропорта (м)\n",
    "\n",
    "Рассмотрим как распределено число квартир в зависимости от расстояния до ближайшего аэропорта.\n",
    "\n",
    "Минимальное расстояние до аэропорта 0м, это значение явно является аномальным, удалим данные для которых это расстояние менее 500м.\n",
    "\n",
    "Для большинства квартир аэропорт находится в 10-50км, медианное расстояние - 27км."
   ]
  },
  {
   "cell_type": "code",
   "execution_count": 20,
   "metadata": {},
   "outputs": [
    {
     "name": "stdout",
     "output_type": "stream",
     "text": [
      "count    17137.000000\n",
      "mean     28852.479722\n",
      "std      12590.980284\n",
      "min          0.000000\n",
      "25%      18590.000000\n",
      "50%      26880.000000\n",
      "75%      37347.000000\n",
      "max      84869.000000\n",
      "Name: airports_nearest, dtype: float64\n"
     ]
    },
    {
     "data": {
      "text/plain": [
       "array([[<AxesSubplot:title={'center':'airports_nearest'}>]], dtype=object)"
      ]
     },
     "execution_count": 20,
     "metadata": {},
     "output_type": "execute_result"
    },
    {
     "data": {
      "image/png": "[encoded data removed]",
      "text/plain": [
       "<Figure size 432x288 with 1 Axes>"
      ]
     },
     "metadata": {
      "needs_background": "light"
     },
     "output_type": "display_data"
    }
   ],
   "source": [
    "print(data_filtered['airports_nearest'].describe())\n",
    "\n",
    "data_filtered = data_filtered.query('airports_nearest >= 500')\n",
    "\n",
    "data_filtered.hist('airports_nearest',bins=20)"
   ]
  },
  {
   "cell_type": "markdown",
   "metadata": {},
   "source": [
    "#### Исследование длительности продажи\n",
    "\n",
    "Рассмотрим длительность продажи квартир по отфильтрованным от аномалий данным. Для этого рассмотрим соответствующую гистограмму\n",
    "\n",
    "Медианное время продажи квартиры 96 дней, а среднее время продажи - 182 дня.\n",
    "\n",
    "Лишь 15% квартир продаются более года.\n",
    "\n",
    "При рассмотрении гистограммы с большим количеством корзин можно заменить высокие узкие аномальные пики.\n",
    "\n",
    "Будем считать, продажу аномально быстрой, если она произошла за менее чем Q1=44 дня, и, аналогично, назовем продажу аномально длинной если она произошла более чем за Q3=232 дня. Здесь Q1 и Q3 первый и третий квартили соответственно. Можно было бы брать интервал нормальных продаж шире: на 1.5 межквартильных размаха больше с каждой стороны, но в таком случае аномально быстрых продаж не было бы (левый край интервала был бы отрицательным). "
   ]
  },
  {
   "cell_type": "code",
   "execution_count": 21,
   "metadata": {
    "scrolled": true
   },
   "outputs": [
    {
     "data": {
      "image/png": "[encoded data removed]",
      "text/plain": [
       "<Figure size 432x288 with 1 Axes>"
      ]
     },
     "metadata": {
      "needs_background": "light"
     },
     "output_type": "display_data"
    },
    {
     "name": "stdout",
     "output_type": "stream",
     "text": [
      "count    14934.000000\n",
      "mean       182.810031\n",
      "std        223.652867\n",
      "min          1.000000\n",
      "25%         44.000000\n",
      "50%         96.000000\n",
      "75%        232.000000\n",
      "max       1572.000000\n",
      "Name: days_exposition, dtype: float64\n",
      "\n",
      "Продавались больше 100 дней: 14.992634257399223\n"
     ]
    },
    {
     "data": {
      "image/png": "[encoded data removed]",
      "text/plain": [
       "<Figure size 432x288 with 1 Axes>"
      ]
     },
     "metadata": {
      "needs_background": "light"
     },
     "output_type": "display_data"
    }
   ],
   "source": [
    "data_filtered.hist('days_exposition',bins=10)\n",
    "plt.show()\n",
    "data_filtered.hist('days_exposition',bins=200)\n",
    "\n",
    "#data_filtered.boxplot()\n",
    "\n",
    "print(data_filtered['days_exposition'].describe())\n",
    "print()\n",
    "print('Продавались больше 100 дней:', data_filtered.loc[data_filtered['days_exposition']>365,'days_exposition'].count()/data_filtered['days_exposition'].count()*100)"
   ]
  },
  {
   "cell_type": "markdown",
   "metadata": {},
   "source": [
    "#### Зависимость цены от различных факторов\n",
    "\n",
    "Рассмотрим как зависит цена квартиры от:\n",
    "- общей площади\n",
    "- жилой площади\n",
    "- площади кухни"
   ]
  },
  {
   "cell_type": "code",
   "execution_count": 22,
   "metadata": {},
   "outputs": [
    {
     "name": "stdout",
     "output_type": "stream",
     "text": [
      "Коэфициент корреляции цены и total_area : 0.795357491507867\n"
     ]
    },
    {
     "data": {
      "image/png": "[encoded data removed]",
      "text/plain": [
       "<Figure size 432x288 with 1 Axes>"
      ]
     },
     "metadata": {
      "needs_background": "light"
     },
     "output_type": "display_data"
    },
    {
     "name": "stdout",
     "output_type": "stream",
     "text": [
      "Коэфициент корреляции цены и living_area : 0.7040231390620576\n"
     ]
    },
    {
     "data": {
      "image/png": "[encoded data removed]",
      "text/plain": [
       "<Figure size 432x288 with 1 Axes>"
      ]
     },
     "metadata": {
      "needs_background": "light"
     },
     "output_type": "display_data"
    },
    {
     "name": "stdout",
     "output_type": "stream",
     "text": [
      "Коэфициент корреляции цены и kitchen_area : 0.6216447340800912\n"
     ]
    },
    {
     "data": {
      "image/png": "[encoded data removed]",
      "text/plain": [
       "<Figure size 432x288 with 1 Axes>"
      ]
     },
     "metadata": {
      "needs_background": "light"
     },
     "output_type": "display_data"
    }
   ],
   "source": [
    "params = ['total_area', 'living_area', 'kitchen_area']#, 'floor_type', 'first_day_exposition']\n",
    "\n",
    "for p in params:\n",
    "    data_filtered.plot(x=p, y='last_price', kind='scatter')\n",
    "    #data_filtered.plot(x=p, y='last_price', kind='hexbin', gridsize=20, sharex=False)\n",
    "    print('Коэфициент корреляции цены и',p,':', data_filtered[p].corr(data_filtered['last_price']))\n",
    "    plt.show()"
   ]
  },
  {
   "cell_type": "markdown",
   "metadata": {},
   "source": [
    "Из диаграмм рассеяния и коэффициентов корреляции пулучаем:\n",
    "- цена квартиры сильно прямо пропорционально зависит от ее общей площади, немного слабее от жилой площади и еще немного слабее от площади кухни\n",
    "\n",
    "Заметим также что для квартир стоимостью более 20 миллионов рублей рассеяние сильно больше чем для более дешевых. Рассмотрим те же диграммы для квартир дешевле 20 миллионов"
   ]
  },
  {
   "cell_type": "code",
   "execution_count": 23,
   "metadata": {},
   "outputs": [
    {
     "name": "stdout",
     "output_type": "stream",
     "text": [
      "Коэфициент корреляции цены и total_area : 0.8117600049578623\n"
     ]
    },
    {
     "data": {
      "image/png": "[encoded data removed]",
      "text/plain": [
       "<Figure size 432x288 with 1 Axes>"
      ]
     },
     "metadata": {
      "needs_background": "light"
     },
     "output_type": "display_data"
    },
    {
     "name": "stdout",
     "output_type": "stream",
     "text": [
      "Коэфициент корреляции цены и living_area : 0.710309267158036\n"
     ]
    },
    {
     "data": {
      "image/png": "[encoded data removed]",
      "text/plain": [
       "<Figure size 432x288 with 1 Axes>"
      ]
     },
     "metadata": {
      "needs_background": "light"
     },
     "output_type": "display_data"
    },
    {
     "name": "stdout",
     "output_type": "stream",
     "text": [
      "Коэфициент корреляции цены и kitchen_area : 0.6240218775136112\n"
     ]
    },
    {
     "data": {
      "image/png": "[encoded data removed]",
      "text/plain": [
       "<Figure size 432x288 with 1 Axes>"
      ]
     },
     "metadata": {
      "needs_background": "light"
     },
     "output_type": "display_data"
    }
   ],
   "source": [
    "params = ['total_area', 'living_area', 'kitchen_area']#, 'floor_type', 'first_day_exposition']\n",
    "\n",
    "data_filtered_less_20m = data_filtered.query('last_price<20000000')\n",
    "\n",
    "for p in params:\n",
    "    data_filtered_less_20m.plot(x=p, y='last_price', kind='scatter')\n",
    "    #data_filtered.plot(x=p, y='last_price', kind='hexbin', gridsize=20, sharex=False)\n",
    "    print('Коэфициент корреляции цены и',p,':', data_filtered_less_20m[p].corr(data_filtered_less_20m['last_price']))\n",
    "    plt.show()"
   ]
  },
  {
   "cell_type": "markdown",
   "metadata": {},
   "source": [
    "Для квартир дешевле 20 миллионов все зависимости остались прежними но корреляции стали немного сильнее (коэфициенты корреляции увеличились на несколько сотых)\n",
    "\n",
    "Теперь рассмотрим те же параметры в зависимости от цены 1м^2"
   ]
  },
  {
   "cell_type": "code",
   "execution_count": 24,
   "metadata": {
    "scrolled": true
   },
   "outputs": [
    {
     "name": "stdout",
     "output_type": "stream",
     "text": [
      "Коэфициент корреляции цены за 1м^2 и total_area : -0.0034375421902282607\n"
     ]
    },
    {
     "data": {
      "image/png": "[encoded data removed]",
      "text/plain": [
       "<Figure size 432x288 with 1 Axes>"
      ]
     },
     "metadata": {
      "needs_background": "light"
     },
     "output_type": "display_data"
    },
    {
     "name": "stdout",
     "output_type": "stream",
     "text": [
      "Коэфициент корреляции цены за 1м^2 и living_area : -0.08859372508574517\n"
     ]
    },
    {
     "data": {
      "image/png": "[encoded data removed]",
      "text/plain": [
       "<Figure size 432x288 with 1 Axes>"
      ]
     },
     "metadata": {
      "needs_background": "light"
     },
     "output_type": "display_data"
    },
    {
     "name": "stdout",
     "output_type": "stream",
     "text": [
      "Коэфициент корреляции цены за 1м^2 и kitchen_area : 0.2456516804552437\n"
     ]
    },
    {
     "data": {
      "image/png": "[encoded data removed]",
      "text/plain": [
       "<Figure size 432x288 with 1 Axes>"
      ]
     },
     "metadata": {
      "needs_background": "light"
     },
     "output_type": "display_data"
    }
   ],
   "source": [
    "params = ['total_area', 'living_area', 'kitchen_area']#, 'floor_type', 'first_day_exposition']\n",
    "\n",
    "#data_filtered_less_20m = data_filtered.query('last_price<20000000')\n",
    "\n",
    "for p in params:\n",
    "    data_filtered_less_20m.plot(x=p, y='price_per_meter', kind='scatter')\n",
    "    #data_filtered.plot(x=p, y='last_price', kind='hexbin', gridsize=20, sharex=False)\n",
    "    print('Коэфициент корреляции цены за 1м^2 и',p,':', data_filtered_less_20m[p].corr(data_filtered_less_20m['price_per_meter']))\n",
    "    plt.show()"
   ]
  },
  {
   "cell_type": "markdown",
   "metadata": {},
   "source": [
    "В данном случае получаем:\n",
    "- большая кухня немного (коэффициент корреляции 0.25) увеличивает цену квадратного метра\n",
    "- цена квадратного метра почти никак не зависит от общей и жилой площади"
   ]
  },
  {
   "cell_type": "markdown",
   "metadata": {},
   "source": [
    "Теперь рассмотрим как меняется цена квартиры в зависимости от:\n",
    "- типа этажа, на котором расположена квартира (первый, последний, другой)\n",
    "- количества комнат\n",
    "- даты размещения (день недели, месяц, год)."
   ]
  },
  {
   "cell_type": "code",
   "execution_count": 25,
   "metadata": {},
   "outputs": [
    {
     "data": {
      "text/html": [
       "<div>\n",
       "<style scoped>\n",
       "    .dataframe tbody tr th:only-of-type {\n",
       "        vertical-align: middle;\n",
       "    }\n",
       "\n",
       "    .dataframe tbody tr th {\n",
       "        vertical-align: top;\n",
       "    }\n",
       "\n",
       "    .dataframe thead tr th {\n",
       "        text-align: left;\n",
       "    }\n",
       "\n",
       "    .dataframe thead tr:last-of-type th {\n",
       "        text-align: right;\n",
       "    }\n",
       "</style>\n",
       "<table border=\"1\" class=\"dataframe\">\n",
       "  <thead>\n",
       "    <tr>\n",
       "      <th></th>\n",
       "      <th>mean</th>\n",
       "      <th>count</th>\n",
       "    </tr>\n",
       "    <tr>\n",
       "      <th></th>\n",
       "      <th>last_price</th>\n",
       "      <th>last_price</th>\n",
       "    </tr>\n",
       "    <tr>\n",
       "      <th>year_exposition</th>\n",
       "      <th></th>\n",
       "      <th></th>\n",
       "    </tr>\n",
       "  </thead>\n",
       "  <tbody>\n",
       "    <tr>\n",
       "      <th>2014</th>\n",
       "      <td>1.199663e+07</td>\n",
       "      <td>111</td>\n",
       "    </tr>\n",
       "    <tr>\n",
       "      <th>2015</th>\n",
       "      <td>7.983760e+06</td>\n",
       "      <td>915</td>\n",
       "    </tr>\n",
       "    <tr>\n",
       "      <th>2016</th>\n",
       "      <td>6.956043e+06</td>\n",
       "      <td>2065</td>\n",
       "    </tr>\n",
       "    <tr>\n",
       "      <th>2017</th>\n",
       "      <td>6.721211e+06</td>\n",
       "      <td>6060</td>\n",
       "    </tr>\n",
       "    <tr>\n",
       "      <th>2018</th>\n",
       "      <td>6.713482e+06</td>\n",
       "      <td>5898</td>\n",
       "    </tr>\n",
       "    <tr>\n",
       "      <th>2019</th>\n",
       "      <td>7.236148e+06</td>\n",
       "      <td>2087</td>\n",
       "    </tr>\n",
       "  </tbody>\n",
       "</table>\n",
       "</div>"
      ],
      "text/plain": [
       "                         mean      count\n",
       "                   last_price last_price\n",
       "year_exposition                         \n",
       "2014             1.199663e+07        111\n",
       "2015             7.983760e+06        915\n",
       "2016             6.956043e+06       2065\n",
       "2017             6.721211e+06       6060\n",
       "2018             6.713482e+06       5898\n",
       "2019             7.236148e+06       2087"
      ]
     },
     "metadata": {},
     "output_type": "display_data"
    },
    {
     "data": {
      "text/html": [
       "<div>\n",
       "<style scoped>\n",
       "    .dataframe tbody tr th:only-of-type {\n",
       "        vertical-align: middle;\n",
       "    }\n",
       "\n",
       "    .dataframe tbody tr th {\n",
       "        vertical-align: top;\n",
       "    }\n",
       "\n",
       "    .dataframe thead tr th {\n",
       "        text-align: left;\n",
       "    }\n",
       "\n",
       "    .dataframe thead tr:last-of-type th {\n",
       "        text-align: right;\n",
       "    }\n",
       "</style>\n",
       "<table border=\"1\" class=\"dataframe\">\n",
       "  <thead>\n",
       "    <tr>\n",
       "      <th></th>\n",
       "      <th>mean</th>\n",
       "      <th>count</th>\n",
       "    </tr>\n",
       "    <tr>\n",
       "      <th></th>\n",
       "      <th>last_price</th>\n",
       "      <th>last_price</th>\n",
       "    </tr>\n",
       "    <tr>\n",
       "      <th>month_exposition</th>\n",
       "      <th></th>\n",
       "      <th></th>\n",
       "    </tr>\n",
       "  </thead>\n",
       "  <tbody>\n",
       "    <tr>\n",
       "      <th>1</th>\n",
       "      <td>7.088557e+06</td>\n",
       "      <td>1071</td>\n",
       "    </tr>\n",
       "    <tr>\n",
       "      <th>2</th>\n",
       "      <td>6.886612e+06</td>\n",
       "      <td>1899</td>\n",
       "    </tr>\n",
       "    <tr>\n",
       "      <th>3</th>\n",
       "      <td>6.879805e+06</td>\n",
       "      <td>1824</td>\n",
       "    </tr>\n",
       "    <tr>\n",
       "      <th>4</th>\n",
       "      <td>6.858414e+06</td>\n",
       "      <td>1740</td>\n",
       "    </tr>\n",
       "    <tr>\n",
       "      <th>5</th>\n",
       "      <td>6.762195e+06</td>\n",
       "      <td>947</td>\n",
       "    </tr>\n",
       "    <tr>\n",
       "      <th>6</th>\n",
       "      <td>6.749070e+06</td>\n",
       "      <td>1281</td>\n",
       "    </tr>\n",
       "    <tr>\n",
       "      <th>7</th>\n",
       "      <td>6.902058e+06</td>\n",
       "      <td>1232</td>\n",
       "    </tr>\n",
       "    <tr>\n",
       "      <th>8</th>\n",
       "      <td>6.900532e+06</td>\n",
       "      <td>1281</td>\n",
       "    </tr>\n",
       "    <tr>\n",
       "      <th>9</th>\n",
       "      <td>6.958237e+06</td>\n",
       "      <td>1453</td>\n",
       "    </tr>\n",
       "    <tr>\n",
       "      <th>10</th>\n",
       "      <td>6.690787e+06</td>\n",
       "      <td>1534</td>\n",
       "    </tr>\n",
       "    <tr>\n",
       "      <th>11</th>\n",
       "      <td>7.114973e+06</td>\n",
       "      <td>1749</td>\n",
       "    </tr>\n",
       "    <tr>\n",
       "      <th>12</th>\n",
       "      <td>7.170859e+06</td>\n",
       "      <td>1125</td>\n",
       "    </tr>\n",
       "  </tbody>\n",
       "</table>\n",
       "</div>"
      ],
      "text/plain": [
       "                          mean      count\n",
       "                    last_price last_price\n",
       "month_exposition                         \n",
       "1                 7.088557e+06       1071\n",
       "2                 6.886612e+06       1899\n",
       "3                 6.879805e+06       1824\n",
       "4                 6.858414e+06       1740\n",
       "5                 6.762195e+06        947\n",
       "6                 6.749070e+06       1281\n",
       "7                 6.902058e+06       1232\n",
       "8                 6.900532e+06       1281\n",
       "9                 6.958237e+06       1453\n",
       "10                6.690787e+06       1534\n",
       "11                7.114973e+06       1749\n",
       "12                7.170859e+06       1125"
      ]
     },
     "metadata": {},
     "output_type": "display_data"
    },
    {
     "data": {
      "text/html": [
       "<div>\n",
       "<style scoped>\n",
       "    .dataframe tbody tr th:only-of-type {\n",
       "        vertical-align: middle;\n",
       "    }\n",
       "\n",
       "    .dataframe tbody tr th {\n",
       "        vertical-align: top;\n",
       "    }\n",
       "\n",
       "    .dataframe thead tr th {\n",
       "        text-align: left;\n",
       "    }\n",
       "\n",
       "    .dataframe thead tr:last-of-type th {\n",
       "        text-align: right;\n",
       "    }\n",
       "</style>\n",
       "<table border=\"1\" class=\"dataframe\">\n",
       "  <thead>\n",
       "    <tr>\n",
       "      <th></th>\n",
       "      <th>mean</th>\n",
       "      <th>count</th>\n",
       "    </tr>\n",
       "    <tr>\n",
       "      <th></th>\n",
       "      <th>last_price</th>\n",
       "      <th>last_price</th>\n",
       "    </tr>\n",
       "    <tr>\n",
       "      <th>week_day</th>\n",
       "      <th></th>\n",
       "      <th></th>\n",
       "    </tr>\n",
       "  </thead>\n",
       "  <tbody>\n",
       "    <tr>\n",
       "      <th>0</th>\n",
       "      <td>6.950270e+06</td>\n",
       "      <td>2602</td>\n",
       "    </tr>\n",
       "    <tr>\n",
       "      <th>1</th>\n",
       "      <td>6.901100e+06</td>\n",
       "      <td>3048</td>\n",
       "    </tr>\n",
       "    <tr>\n",
       "      <th>2</th>\n",
       "      <td>7.020195e+06</td>\n",
       "      <td>2879</td>\n",
       "    </tr>\n",
       "    <tr>\n",
       "      <th>3</th>\n",
       "      <td>7.138014e+06</td>\n",
       "      <td>3109</td>\n",
       "    </tr>\n",
       "    <tr>\n",
       "      <th>4</th>\n",
       "      <td>6.712896e+06</td>\n",
       "      <td>2918</td>\n",
       "    </tr>\n",
       "    <tr>\n",
       "      <th>5</th>\n",
       "      <td>6.706030e+06</td>\n",
       "      <td>1357</td>\n",
       "    </tr>\n",
       "    <tr>\n",
       "      <th>6</th>\n",
       "      <td>6.720190e+06</td>\n",
       "      <td>1223</td>\n",
       "    </tr>\n",
       "  </tbody>\n",
       "</table>\n",
       "</div>"
      ],
      "text/plain": [
       "                  mean      count\n",
       "            last_price last_price\n",
       "week_day                         \n",
       "0         6.950270e+06       2602\n",
       "1         6.901100e+06       3048\n",
       "2         7.020195e+06       2879\n",
       "3         7.138014e+06       3109\n",
       "4         6.712896e+06       2918\n",
       "5         6.706030e+06       1357\n",
       "6         6.720190e+06       1223"
      ]
     },
     "metadata": {},
     "output_type": "display_data"
    },
    {
     "data": {
      "text/html": [
       "<div>\n",
       "<style scoped>\n",
       "    .dataframe tbody tr th:only-of-type {\n",
       "        vertical-align: middle;\n",
       "    }\n",
       "\n",
       "    .dataframe tbody tr th {\n",
       "        vertical-align: top;\n",
       "    }\n",
       "\n",
       "    .dataframe thead tr th {\n",
       "        text-align: left;\n",
       "    }\n",
       "\n",
       "    .dataframe thead tr:last-of-type th {\n",
       "        text-align: right;\n",
       "    }\n",
       "</style>\n",
       "<table border=\"1\" class=\"dataframe\">\n",
       "  <thead>\n",
       "    <tr>\n",
       "      <th></th>\n",
       "      <th>mean</th>\n",
       "      <th>count</th>\n",
       "    </tr>\n",
       "    <tr>\n",
       "      <th></th>\n",
       "      <th>last_price</th>\n",
       "      <th>last_price</th>\n",
       "    </tr>\n",
       "    <tr>\n",
       "      <th>floor_type</th>\n",
       "      <th></th>\n",
       "      <th></th>\n",
       "    </tr>\n",
       "  </thead>\n",
       "  <tbody>\n",
       "    <tr>\n",
       "      <th>другой</th>\n",
       "      <td>7.030841e+06</td>\n",
       "      <td>13104</td>\n",
       "    </tr>\n",
       "    <tr>\n",
       "      <th>первый</th>\n",
       "      <td>5.680696e+06</td>\n",
       "      <td>1866</td>\n",
       "    </tr>\n",
       "    <tr>\n",
       "      <th>последний</th>\n",
       "      <td>7.247074e+06</td>\n",
       "      <td>2166</td>\n",
       "    </tr>\n",
       "  </tbody>\n",
       "</table>\n",
       "</div>"
      ],
      "text/plain": [
       "                    mean      count\n",
       "              last_price last_price\n",
       "floor_type                         \n",
       "другой      7.030841e+06      13104\n",
       "первый      5.680696e+06       1866\n",
       "последний   7.247074e+06       2166"
      ]
     },
     "metadata": {},
     "output_type": "display_data"
    },
    {
     "data": {
      "text/html": [
       "<div>\n",
       "<style scoped>\n",
       "    .dataframe tbody tr th:only-of-type {\n",
       "        vertical-align: middle;\n",
       "    }\n",
       "\n",
       "    .dataframe tbody tr th {\n",
       "        vertical-align: top;\n",
       "    }\n",
       "\n",
       "    .dataframe thead tr th {\n",
       "        text-align: left;\n",
       "    }\n",
       "\n",
       "    .dataframe thead tr:last-of-type th {\n",
       "        text-align: right;\n",
       "    }\n",
       "</style>\n",
       "<table border=\"1\" class=\"dataframe\">\n",
       "  <thead>\n",
       "    <tr>\n",
       "      <th></th>\n",
       "      <th>mean</th>\n",
       "      <th>count</th>\n",
       "    </tr>\n",
       "    <tr>\n",
       "      <th></th>\n",
       "      <th>last_price</th>\n",
       "      <th>last_price</th>\n",
       "    </tr>\n",
       "    <tr>\n",
       "      <th>rooms</th>\n",
       "      <th></th>\n",
       "      <th></th>\n",
       "    </tr>\n",
       "  </thead>\n",
       "  <tbody>\n",
       "    <tr>\n",
       "      <th>1</th>\n",
       "      <td>4.321802e+06</td>\n",
       "      <td>5393</td>\n",
       "    </tr>\n",
       "    <tr>\n",
       "      <th>2</th>\n",
       "      <td>6.380768e+06</td>\n",
       "      <td>5760</td>\n",
       "    </tr>\n",
       "    <tr>\n",
       "      <th>3</th>\n",
       "      <td>8.635602e+06</td>\n",
       "      <td>4592</td>\n",
       "    </tr>\n",
       "    <tr>\n",
       "      <th>4</th>\n",
       "      <td>1.194905e+07</td>\n",
       "      <td>1002</td>\n",
       "    </tr>\n",
       "    <tr>\n",
       "      <th>5</th>\n",
       "      <td>1.650795e+07</td>\n",
       "      <td>264</td>\n",
       "    </tr>\n",
       "    <tr>\n",
       "      <th>6</th>\n",
       "      <td>1.853277e+07</td>\n",
       "      <td>81</td>\n",
       "    </tr>\n",
       "    <tr>\n",
       "      <th>7</th>\n",
       "      <td>2.000789e+07</td>\n",
       "      <td>38</td>\n",
       "    </tr>\n",
       "    <tr>\n",
       "      <th>8</th>\n",
       "      <td>2.026667e+07</td>\n",
       "      <td>6</td>\n",
       "    </tr>\n",
       "  </tbody>\n",
       "</table>\n",
       "</div>"
      ],
      "text/plain": [
       "               mean      count\n",
       "         last_price last_price\n",
       "rooms                         \n",
       "1      4.321802e+06       5393\n",
       "2      6.380768e+06       5760\n",
       "3      8.635602e+06       4592\n",
       "4      1.194905e+07       1002\n",
       "5      1.650795e+07        264\n",
       "6      1.853277e+07         81\n",
       "7      2.000789e+07         38\n",
       "8      2.026667e+07          6"
      ]
     },
     "metadata": {},
     "output_type": "display_data"
    }
   ],
   "source": [
    "params = ['year_exposition', 'month_exposition', 'week_day', 'floor_type', 'rooms']\n",
    "\n",
    "for p in params:\n",
    "    #data_filtered.plot(x=p, y='last_price', kind='scatter')\n",
    "    #data_filtered.plot(x=p, y='last_price', kind='hexbin', gridsize=20, sharex=False)\n",
    "    #print('Коэфициент корреляции цены и',p,':', data_filtered[p].corr(data_filtered['last_price']))\n",
    "    #plt.show()\n",
    "    \n",
    "    display(data_filtered.pivot_table(index=p, values='last_price', aggfunc=['mean', 'count']))"
   ]
  },
  {
   "cell_type": "markdown",
   "metadata": {},
   "source": [
    "Получаем, что в 2015 цены стали заметно ниже по сравнению с 2014 (более чем на 30%: с 12 до 8 млн.р.) и понемногу снижались до 2019, когда произошел рост на 7% (с 6.7 до 7.2 млн.р.)\n",
    "\n",
    "В течение одного года цена меняется не более чем на 8%, причем она минимальна в октябре мае и июне и максимальна в декабре.\n",
    "\n",
    "Также цена колеблется и в течение одной недели: минимальна в пятницу (6.7 млн.р.) и возрастает вплоть до максимума в четверг (7.1 млн.р.)\n",
    "\n",
    "Самыми недорогими оказались квартиры на 1 этаже (в среднем 5.7 млн.р.), а квартиры на последнем этаже являются самыми дорогими, с небольшим отрывом от других этажей (7.2 против 7 млн.р.)\n",
    "\n",
    "Самыми дешевыми и одними из самых массовых являются однушки (в среднем 4.2 млн.р.). Далее идут двушки (самые массовые; в среднем 6.4 млн.р.) и трешки (8.6 млн.р.). \n",
    "\n",
    "Рассмотрим все то же самое для квартир до 20 миллионов рублей."
   ]
  },
  {
   "cell_type": "code",
   "execution_count": 26,
   "metadata": {},
   "outputs": [
    {
     "data": {
      "text/html": [
       "<div>\n",
       "<style scoped>\n",
       "    .dataframe tbody tr th:only-of-type {\n",
       "        vertical-align: middle;\n",
       "    }\n",
       "\n",
       "    .dataframe tbody tr th {\n",
       "        vertical-align: top;\n",
       "    }\n",
       "\n",
       "    .dataframe thead tr th {\n",
       "        text-align: left;\n",
       "    }\n",
       "\n",
       "    .dataframe thead tr:last-of-type th {\n",
       "        text-align: right;\n",
       "    }\n",
       "</style>\n",
       "<table border=\"1\" class=\"dataframe\">\n",
       "  <thead>\n",
       "    <tr>\n",
       "      <th></th>\n",
       "      <th>mean</th>\n",
       "    </tr>\n",
       "    <tr>\n",
       "      <th></th>\n",
       "      <th>last_price</th>\n",
       "    </tr>\n",
       "    <tr>\n",
       "      <th>year_exposition</th>\n",
       "      <th></th>\n",
       "    </tr>\n",
       "  </thead>\n",
       "  <tbody>\n",
       "    <tr>\n",
       "      <th>2014</th>\n",
       "      <td>1.199663e+07</td>\n",
       "    </tr>\n",
       "    <tr>\n",
       "      <th>2015</th>\n",
       "      <td>7.983760e+06</td>\n",
       "    </tr>\n",
       "    <tr>\n",
       "      <th>2016</th>\n",
       "      <td>6.956043e+06</td>\n",
       "    </tr>\n",
       "    <tr>\n",
       "      <th>2017</th>\n",
       "      <td>6.721211e+06</td>\n",
       "    </tr>\n",
       "    <tr>\n",
       "      <th>2018</th>\n",
       "      <td>6.713482e+06</td>\n",
       "    </tr>\n",
       "    <tr>\n",
       "      <th>2019</th>\n",
       "      <td>7.236148e+06</td>\n",
       "    </tr>\n",
       "  </tbody>\n",
       "</table>\n",
       "</div>"
      ],
      "text/plain": [
       "                         mean\n",
       "                   last_price\n",
       "year_exposition              \n",
       "2014             1.199663e+07\n",
       "2015             7.983760e+06\n",
       "2016             6.956043e+06\n",
       "2017             6.721211e+06\n",
       "2018             6.713482e+06\n",
       "2019             7.236148e+06"
      ]
     },
     "metadata": {},
     "output_type": "display_data"
    },
    {
     "data": {
      "text/html": [
       "<div>\n",
       "<style scoped>\n",
       "    .dataframe tbody tr th:only-of-type {\n",
       "        vertical-align: middle;\n",
       "    }\n",
       "\n",
       "    .dataframe tbody tr th {\n",
       "        vertical-align: top;\n",
       "    }\n",
       "\n",
       "    .dataframe thead tr th {\n",
       "        text-align: left;\n",
       "    }\n",
       "\n",
       "    .dataframe thead tr:last-of-type th {\n",
       "        text-align: right;\n",
       "    }\n",
       "</style>\n",
       "<table border=\"1\" class=\"dataframe\">\n",
       "  <thead>\n",
       "    <tr>\n",
       "      <th></th>\n",
       "      <th>mean</th>\n",
       "    </tr>\n",
       "    <tr>\n",
       "      <th></th>\n",
       "      <th>last_price</th>\n",
       "    </tr>\n",
       "    <tr>\n",
       "      <th>month_exposition</th>\n",
       "      <th></th>\n",
       "    </tr>\n",
       "  </thead>\n",
       "  <tbody>\n",
       "    <tr>\n",
       "      <th>1</th>\n",
       "      <td>7.088557e+06</td>\n",
       "    </tr>\n",
       "    <tr>\n",
       "      <th>2</th>\n",
       "      <td>6.886612e+06</td>\n",
       "    </tr>\n",
       "    <tr>\n",
       "      <th>3</th>\n",
       "      <td>6.879805e+06</td>\n",
       "    </tr>\n",
       "    <tr>\n",
       "      <th>4</th>\n",
       "      <td>6.858414e+06</td>\n",
       "    </tr>\n",
       "    <tr>\n",
       "      <th>5</th>\n",
       "      <td>6.762195e+06</td>\n",
       "    </tr>\n",
       "    <tr>\n",
       "      <th>6</th>\n",
       "      <td>6.749070e+06</td>\n",
       "    </tr>\n",
       "    <tr>\n",
       "      <th>7</th>\n",
       "      <td>6.902058e+06</td>\n",
       "    </tr>\n",
       "    <tr>\n",
       "      <th>8</th>\n",
       "      <td>6.900532e+06</td>\n",
       "    </tr>\n",
       "    <tr>\n",
       "      <th>9</th>\n",
       "      <td>6.958237e+06</td>\n",
       "    </tr>\n",
       "    <tr>\n",
       "      <th>10</th>\n",
       "      <td>6.690787e+06</td>\n",
       "    </tr>\n",
       "    <tr>\n",
       "      <th>11</th>\n",
       "      <td>7.114973e+06</td>\n",
       "    </tr>\n",
       "    <tr>\n",
       "      <th>12</th>\n",
       "      <td>7.170859e+06</td>\n",
       "    </tr>\n",
       "  </tbody>\n",
       "</table>\n",
       "</div>"
      ],
      "text/plain": [
       "                          mean\n",
       "                    last_price\n",
       "month_exposition              \n",
       "1                 7.088557e+06\n",
       "2                 6.886612e+06\n",
       "3                 6.879805e+06\n",
       "4                 6.858414e+06\n",
       "5                 6.762195e+06\n",
       "6                 6.749070e+06\n",
       "7                 6.902058e+06\n",
       "8                 6.900532e+06\n",
       "9                 6.958237e+06\n",
       "10                6.690787e+06\n",
       "11                7.114973e+06\n",
       "12                7.170859e+06"
      ]
     },
     "metadata": {},
     "output_type": "display_data"
    },
    {
     "data": {
      "text/html": [
       "<div>\n",
       "<style scoped>\n",
       "    .dataframe tbody tr th:only-of-type {\n",
       "        vertical-align: middle;\n",
       "    }\n",
       "\n",
       "    .dataframe tbody tr th {\n",
       "        vertical-align: top;\n",
       "    }\n",
       "\n",
       "    .dataframe thead tr th {\n",
       "        text-align: left;\n",
       "    }\n",
       "\n",
       "    .dataframe thead tr:last-of-type th {\n",
       "        text-align: right;\n",
       "    }\n",
       "</style>\n",
       "<table border=\"1\" class=\"dataframe\">\n",
       "  <thead>\n",
       "    <tr>\n",
       "      <th></th>\n",
       "      <th>mean</th>\n",
       "    </tr>\n",
       "    <tr>\n",
       "      <th></th>\n",
       "      <th>last_price</th>\n",
       "    </tr>\n",
       "    <tr>\n",
       "      <th>week_day</th>\n",
       "      <th></th>\n",
       "    </tr>\n",
       "  </thead>\n",
       "  <tbody>\n",
       "    <tr>\n",
       "      <th>0</th>\n",
       "      <td>6.950270e+06</td>\n",
       "    </tr>\n",
       "    <tr>\n",
       "      <th>1</th>\n",
       "      <td>6.901100e+06</td>\n",
       "    </tr>\n",
       "    <tr>\n",
       "      <th>2</th>\n",
       "      <td>7.020195e+06</td>\n",
       "    </tr>\n",
       "    <tr>\n",
       "      <th>3</th>\n",
       "      <td>7.138014e+06</td>\n",
       "    </tr>\n",
       "    <tr>\n",
       "      <th>4</th>\n",
       "      <td>6.712896e+06</td>\n",
       "    </tr>\n",
       "    <tr>\n",
       "      <th>5</th>\n",
       "      <td>6.706030e+06</td>\n",
       "    </tr>\n",
       "    <tr>\n",
       "      <th>6</th>\n",
       "      <td>6.720190e+06</td>\n",
       "    </tr>\n",
       "  </tbody>\n",
       "</table>\n",
       "</div>"
      ],
      "text/plain": [
       "                  mean\n",
       "            last_price\n",
       "week_day              \n",
       "0         6.950270e+06\n",
       "1         6.901100e+06\n",
       "2         7.020195e+06\n",
       "3         7.138014e+06\n",
       "4         6.712896e+06\n",
       "5         6.706030e+06\n",
       "6         6.720190e+06"
      ]
     },
     "metadata": {},
     "output_type": "display_data"
    },
    {
     "data": {
      "text/html": [
       "<div>\n",
       "<style scoped>\n",
       "    .dataframe tbody tr th:only-of-type {\n",
       "        vertical-align: middle;\n",
       "    }\n",
       "\n",
       "    .dataframe tbody tr th {\n",
       "        vertical-align: top;\n",
       "    }\n",
       "\n",
       "    .dataframe thead tr th {\n",
       "        text-align: left;\n",
       "    }\n",
       "\n",
       "    .dataframe thead tr:last-of-type th {\n",
       "        text-align: right;\n",
       "    }\n",
       "</style>\n",
       "<table border=\"1\" class=\"dataframe\">\n",
       "  <thead>\n",
       "    <tr>\n",
       "      <th></th>\n",
       "      <th>mean</th>\n",
       "    </tr>\n",
       "    <tr>\n",
       "      <th></th>\n",
       "      <th>last_price</th>\n",
       "    </tr>\n",
       "    <tr>\n",
       "      <th>floor_type</th>\n",
       "      <th></th>\n",
       "    </tr>\n",
       "  </thead>\n",
       "  <tbody>\n",
       "    <tr>\n",
       "      <th>другой</th>\n",
       "      <td>7.030841e+06</td>\n",
       "    </tr>\n",
       "    <tr>\n",
       "      <th>первый</th>\n",
       "      <td>5.680696e+06</td>\n",
       "    </tr>\n",
       "    <tr>\n",
       "      <th>последний</th>\n",
       "      <td>7.247074e+06</td>\n",
       "    </tr>\n",
       "  </tbody>\n",
       "</table>\n",
       "</div>"
      ],
      "text/plain": [
       "                    mean\n",
       "              last_price\n",
       "floor_type              \n",
       "другой      7.030841e+06\n",
       "первый      5.680696e+06\n",
       "последний   7.247074e+06"
      ]
     },
     "metadata": {},
     "output_type": "display_data"
    }
   ],
   "source": [
    "params = ['year_exposition', 'month_exposition', 'week_day', 'floor_type']\n",
    "\n",
    "for p in params:\n",
    "    #data_filtered_less_20m.plot(x=p, y='last_price', kind='scatter')\n",
    "    #data_filtered.plot(x=p, y='last_price', kind='hexbin', gridsize=20, sharex=False)\n",
    "    #print('Коэфициент корреляции цены и',p,':', data_filtered_less_20m[p].corr(data_filtered_less_20m['last_price']))\n",
    "    #plt.show()\n",
    "    \n",
    "    display(data_filtered.pivot_table(index=p, values='last_price', aggfunc=['mean']))"
   ]
  },
  {
   "cell_type": "markdown",
   "metadata": {},
   "source": [
    "Для не элитных квартир корреляции остались неизменны."
   ]
  },
  {
   "cell_type": "markdown",
   "metadata": {},
   "source": [
    "#### Стоимость квадратного метра в различных населенных пунктах\n",
    "\n",
    "Рассмотрим 10 населенных пунктов с самым большим числом объявлений о продаже и оценим стоимость квадратного метра в каждом из них"
   ]
  },
  {
   "cell_type": "code",
   "execution_count": 27,
   "metadata": {},
   "outputs": [
    {
     "data": {
      "text/html": [
       "<style  type=\"text/css\" >\n",
       "#T_d8885_row0_col1,#T_d8885_row7_col1{\n",
       "            background-color:  yellow;\n",
       "        }</style><table id=\"T_d8885_\" ><thead>    <tr>        <th class=\"blank level0\" ></th>        <th class=\"col_heading level0 col0\" >Число объявлений</th>        <th class=\"col_heading level0 col1\" >Цена за м^2, руб.</th>    </tr>    <tr>        <th class=\"index_name level0\" >locality_name</th>        <th class=\"blank\" ></th>        <th class=\"blank\" ></th>    </tr></thead><tbody>\n",
       "                <tr>\n",
       "                        <th id=\"T_d8885_level0_row0\" class=\"row_heading level0 row0\" >Санкт-Петербург</th>\n",
       "                        <td id=\"T_d8885_row0_col0\" class=\"data row0 col0\" >14815</td>\n",
       "                        <td id=\"T_d8885_row0_col1\" class=\"data row0 col1\" >111552.372238</td>\n",
       "            </tr>\n",
       "            <tr>\n",
       "                        <th id=\"T_d8885_level0_row1\" class=\"row_heading level0 row1\" >Шушары</th>\n",
       "                        <td id=\"T_d8885_row1_col0\" class=\"data row1 col0\" >404</td>\n",
       "                        <td id=\"T_d8885_row1_col1\" class=\"data row1 col1\" >77190.274480</td>\n",
       "            </tr>\n",
       "            <tr>\n",
       "                        <th id=\"T_d8885_level0_row2\" class=\"row_heading level0 row2\" >Пушкин</th>\n",
       "                        <td id=\"T_d8885_row2_col0\" class=\"data row2 col0\" >331</td>\n",
       "                        <td id=\"T_d8885_row2_col1\" class=\"data row2 col1\" >103695.352417</td>\n",
       "            </tr>\n",
       "            <tr>\n",
       "                        <th id=\"T_d8885_level0_row3\" class=\"row_heading level0 row3\" >Колпино</th>\n",
       "                        <td id=\"T_d8885_row3_col0\" class=\"data row3 col0\" >321</td>\n",
       "                        <td id=\"T_d8885_row3_col1\" class=\"data row3 col1\" >75192.855327</td>\n",
       "            </tr>\n",
       "            <tr>\n",
       "                        <th id=\"T_d8885_level0_row4\" class=\"row_heading level0 row4\" >Парголово</th>\n",
       "                        <td id=\"T_d8885_row4_col0\" class=\"data row4 col0\" >294</td>\n",
       "                        <td id=\"T_d8885_row4_col1\" class=\"data row4 col1\" >89204.044490</td>\n",
       "            </tr>\n",
       "            <tr>\n",
       "                        <th id=\"T_d8885_level0_row5\" class=\"row_heading level0 row5\" >Петергоф</th>\n",
       "                        <td id=\"T_d8885_row5_col0\" class=\"data row5 col0\" >195</td>\n",
       "                        <td id=\"T_d8885_row5_col1\" class=\"data row5 col1\" >84821.733692</td>\n",
       "            </tr>\n",
       "            <tr>\n",
       "                        <th id=\"T_d8885_level0_row6\" class=\"row_heading level0 row6\" >Сестрорецк</th>\n",
       "                        <td id=\"T_d8885_row6_col0\" class=\"data row6 col0\" >175</td>\n",
       "                        <td id=\"T_d8885_row6_col1\" class=\"data row6 col1\" >101772.570629</td>\n",
       "            </tr>\n",
       "            <tr>\n",
       "                        <th id=\"T_d8885_level0_row7\" class=\"row_heading level0 row7\" >Красное Село</th>\n",
       "                        <td id=\"T_d8885_row7_col0\" class=\"data row7 col0\" >158</td>\n",
       "                        <td id=\"T_d8885_row7_col1\" class=\"data row7 col1\" >71992.727785</td>\n",
       "            </tr>\n",
       "            <tr>\n",
       "                        <th id=\"T_d8885_level0_row8\" class=\"row_heading level0 row8\" >Ломоносов</th>\n",
       "                        <td id=\"T_d8885_row8_col0\" class=\"data row8 col0\" >111</td>\n",
       "                        <td id=\"T_d8885_row8_col1\" class=\"data row8 col1\" >72338.510270</td>\n",
       "            </tr>\n",
       "            <tr>\n",
       "                        <th id=\"T_d8885_level0_row9\" class=\"row_heading level0 row9\" >Кронштадт</th>\n",
       "                        <td id=\"T_d8885_row9_col0\" class=\"data row9 col0\" >89</td>\n",
       "                        <td id=\"T_d8885_row9_col1\" class=\"data row9 col1\" >79602.560112</td>\n",
       "            </tr>\n",
       "    </tbody></table>"
      ],
      "text/plain": [
       "<pandas.io.formats.style.Styler at 0x7fef1a19f7f0>"
      ]
     },
     "execution_count": 27,
     "metadata": {},
     "output_type": "execute_result"
    }
   ],
   "source": [
    "popular_cities = data_filtered.pivot_table(index='locality_name', values='price_per_meter', aggfunc=['count', 'mean']).sort_values(by=('count','price_per_meter'), ascending=False).head(10)\n",
    "popular_cities.columns = ['Число объявлений', 'Цена за м^2, руб.']\n",
    "#popular_cities.style.highlight_between(left=popular_cities['Цена за м^2, руб.'].min(), right=popular_cities['Цена за м^2, руб.'].min())\n",
    "popular_cities.style.highlight_max(subset='Цена за м^2, руб.').highlight_min(subset='Цена за м^2, руб.')\n",
    "\n",
    "#display(popular_cities)"
   ]
  },
  {
   "cell_type": "markdown",
   "metadata": {},
   "source": [
    "Получили, что среди 10 населенных пунктов с самым большим числом объявлений самая высокая цена за м^2 в Санкт-Петербурге: 112т.р., а самая низкая в Красном Селе: 72т.р. То что самая высокая цена в самом городе - результат очевидный, но то что цена в Красном Селе минимальна несколько неожиданно, ведь это не самый удаленный район."
   ]
  },
  {
   "cell_type": "markdown",
   "metadata": {},
   "source": [
    "#### Зависимость цены квадратного метра в самом Санкт-Петербурге от расстояния до центра города"
   ]
  },
  {
   "cell_type": "code",
   "execution_count": 28,
   "metadata": {},
   "outputs": [
    {
     "data": {
      "text/plain": [
       "<AxesSubplot:xlabel='km_to_center'>"
      ]
     },
     "execution_count": 28,
     "metadata": {},
     "output_type": "execute_result"
    },
    {
     "data": {
      "image/png": "[encoded data removed]",
      "text/plain": [
       "<Figure size 1296x720 with 1 Axes>"
      ]
     },
     "metadata": {
      "needs_background": "light"
     },
     "output_type": "display_data"
    }
   ],
   "source": [
    "data_filtered_spb = data_filtered.query('locality_name == \"Санкт-Петербург\"')\n",
    "data_filtered_spb['km_to_center'].apply(lambda x: floor(x))\n",
    "#display(data_filtered_spb)\n",
    "\n",
    "#data_filtered_spb.pivot_table(index='km_to_center', values='price_per_meter', aggfunc='mean').plot(figsize=(18,10), kind='bar')#style='o-')\n",
    "data_filtered_spb.pivot_table(index='km_to_center', values='last_price', aggfunc='mean').plot(figsize=(18,10), kind='bar')#style='o-')"
   ]
  },
  {
   "cell_type": "markdown",
   "metadata": {},
   "source": [
    "Как и ожидалось, цена квартир максимальна в центре города (18.6 млн.р.) и падает с удалением от него (до 4.2 млн.р. на расстоянии 29км). Однако есть два скачка цены: широкий на расстоянии 5-7 км от центра и узкий на расстоянии 27км."
   ]
  },
  {
   "cell_type": "code",
   "execution_count": 29,
   "metadata": {},
   "outputs": [
    {
     "data": {
      "text/html": [
       "<div>\n",
       "<style scoped>\n",
       "    .dataframe tbody tr th:only-of-type {\n",
       "        vertical-align: middle;\n",
       "    }\n",
       "\n",
       "    .dataframe tbody tr th {\n",
       "        vertical-align: top;\n",
       "    }\n",
       "\n",
       "    .dataframe thead th {\n",
       "        text-align: right;\n",
       "    }\n",
       "</style>\n",
       "<table border=\"1\" class=\"dataframe\">\n",
       "  <thead>\n",
       "    <tr style=\"text-align: right;\">\n",
       "      <th></th>\n",
       "      <th>total_images</th>\n",
       "      <th>last_price</th>\n",
       "      <th>total_area</th>\n",
       "      <th>first_day_exposition</th>\n",
       "      <th>rooms</th>\n",
       "      <th>ceiling_height</th>\n",
       "      <th>floors_total</th>\n",
       "      <th>living_area</th>\n",
       "      <th>floor</th>\n",
       "      <th>is_apartment</th>\n",
       "      <th>...</th>\n",
       "      <th>ponds_around3000</th>\n",
       "      <th>ponds_nearest</th>\n",
       "      <th>days_exposition</th>\n",
       "      <th>price_quartile</th>\n",
       "      <th>price_per_meter</th>\n",
       "      <th>week_day</th>\n",
       "      <th>month_exposition</th>\n",
       "      <th>year_exposition</th>\n",
       "      <th>floor_type</th>\n",
       "      <th>km_to_center</th>\n",
       "    </tr>\n",
       "  </thead>\n",
       "  <tbody>\n",
       "    <tr>\n",
       "      <th>748</th>\n",
       "      <td>13</td>\n",
       "      <td>14350000</td>\n",
       "      <td>74.0</td>\n",
       "      <td>2017-11-28</td>\n",
       "      <td>2</td>\n",
       "      <td>3.13</td>\n",
       "      <td>5</td>\n",
       "      <td>30.0</td>\n",
       "      <td>3</td>\n",
       "      <td>False</td>\n",
       "      <td>...</td>\n",
       "      <td>0</td>\n",
       "      <td>NaN</td>\n",
       "      <td>128.0</td>\n",
       "      <td>3</td>\n",
       "      <td>193918.92</td>\n",
       "      <td>1</td>\n",
       "      <td>11</td>\n",
       "      <td>2017</td>\n",
       "      <td>другой</td>\n",
       "      <td>27.0</td>\n",
       "    </tr>\n",
       "    <tr>\n",
       "      <th>5961</th>\n",
       "      <td>6</td>\n",
       "      <td>2250000</td>\n",
       "      <td>32.0</td>\n",
       "      <td>2018-02-27</td>\n",
       "      <td>1</td>\n",
       "      <td>2.55</td>\n",
       "      <td>2</td>\n",
       "      <td>16.5</td>\n",
       "      <td>2</td>\n",
       "      <td>False</td>\n",
       "      <td>...</td>\n",
       "      <td>0</td>\n",
       "      <td>NaN</td>\n",
       "      <td>178.0</td>\n",
       "      <td>0</td>\n",
       "      <td>70312.50</td>\n",
       "      <td>1</td>\n",
       "      <td>2</td>\n",
       "      <td>2018</td>\n",
       "      <td>последний</td>\n",
       "      <td>27.0</td>\n",
       "    </tr>\n",
       "  </tbody>\n",
       "</table>\n",
       "<p>2 rows × 29 columns</p>\n",
       "</div>"
      ],
      "text/plain": [
       "      total_images  last_price  total_area first_day_exposition  rooms  \\\n",
       "748             13    14350000        74.0           2017-11-28      2   \n",
       "5961             6     2250000        32.0           2018-02-27      1   \n",
       "\n",
       "      ceiling_height  floors_total  living_area  floor  is_apartment  ...  \\\n",
       "748             3.13             5         30.0      3         False  ...   \n",
       "5961            2.55             2         16.5      2         False  ...   \n",
       "\n",
       "      ponds_around3000  ponds_nearest  days_exposition  price_quartile  \\\n",
       "748                  0            NaN            128.0               3   \n",
       "5961                 0            NaN            178.0               0   \n",
       "\n",
       "     price_per_meter  week_day  month_exposition  year_exposition  floor_type  \\\n",
       "748        193918.92         1                11             2017      другой   \n",
       "5961        70312.50         1                 2             2018   последний   \n",
       "\n",
       "      km_to_center  \n",
       "748           27.0  \n",
       "5961          27.0  \n",
       "\n",
       "[2 rows x 29 columns]"
      ]
     },
     "metadata": {},
     "output_type": "display_data"
    },
    {
     "data": {
      "text/plain": [
       "<AxesSubplot:>"
      ]
     },
     "execution_count": 29,
     "metadata": {},
     "output_type": "execute_result"
    },
    {
     "data": {
      "image/png": "[encoded data removed]",
      "text/plain": [
       "<Figure size 432x288 with 1 Axes>"
      ]
     },
     "metadata": {
      "needs_background": "light"
     },
     "output_type": "display_data"
    }
   ],
   "source": [
    "display(data_filtered_spb.query('km_to_center==27'))\n",
    "data_filtered_spb['km_to_center'].hist(bins=30)"
   ]
  },
  {
   "cell_type": "markdown",
   "metadata": {},
   "source": [
    "Заметим, что на расстоянии 27км от центра находится всего 2 квартиры и на такой малой выборке среднее не может дать достоверные значения.\n",
    "\n",
    "Заметим также что квартир ближе 1км дальше 23км от центра достаточно мало и соответстующая средняя стоимость квадратного метра может быть не точна."
   ]
  },
  {
   "cell_type": "markdown",
   "metadata": {},
   "source": [
    "### Общий вывод"
   ]
  },
  {
   "cell_type": "markdown",
   "metadata": {},
   "source": [
    "Были рассмотрены данные сервиса Яндекс.Недвижимость - набор объявлений о продаже квартир в Санкт-Петербурге и ЛО за 2014-2019 годы.\n",
    "Данные были отфильтрованы от аномальных значений и негодных данных, также были отброжены крайне маочисленные группы квартир (крайне большой и малой цены и площади).\n",
    "\n",
    "На основании рассмотренных данных были получены следующие результаты.\n",
    "\n",
    "Самыми массовыми являются квартиры:\n",
    "- от 3 до 7млн.р.\n",
    "- общей площадью 30-70м^2 (жилая площадь до 40м^2)\n",
    "- до 3 комнат (включительно)\n",
    "- имеющие кухню до 10м^2\n",
    "- потолок до 2.8м\n",
    "- расположенные ближе 20км до центра\n",
    "\n",
    "Медианное время продажи квартиры - 3 месяца. Число квартир проданных за определенный срок убывает практически экспоненциально с ростом длительности продажи. \n",
    "\n",
    "Интервал продажи (44, 232) дня называем нормальным и все продажи не укладывающиеся в него будем называть аномально долгими или быстрыми.\n",
    "\n",
    "Цена квартиры сильно прямо пропорционально зависит от ее:\n",
    "- общей площади\n",
    "- жилой площади\n",
    "- немного слабее от площади кухни\n",
    "\n",
    "Подтверждено, что для дорогих кварит характерны высокие потолки\n",
    "\n",
    "Самыми дешевыми и одними из самых массовых являются однушки (в среднем 4.2 млн.р.). Далее идут двушки (самые массовые; в среднем 6.4 млн.р.) и трешки (8.6 млн.р.). Квартир с большим числом комнат значительно меньше и в среднем они стоят от 11 млн. р.\n",
    "\n",
    "В 2015 цены стали заметно ниже по сравнению с 2014 (более чем на 30%: с 12 до 8 млн.р.) и понемногу снижались вплоть до 2019, когда произошел рост на 7% (с 6.7 до 7.2 млн.р.)\n",
    "\n",
    "Среди 10 населенных пунктов с самым большим числом объявлений самая высокая цена за м^2 в Санкт-Петербурге: 112т.р., а самая низкая в Красном Селе: 72т.р.\n",
    "\n",
    "Самыми массовыми являются 5 и 9 этажки, а большинстов домов имеет от 5 до 16 этажей. Медианным числом этажей является 9, а средним 10.7\n",
    "\n",
    "Как и ожидалось, цена квартир максимальна в центре города (18.6 млн.р.) и падает с удалением от него (до 4.2 млн.р. на расстоянии 29км), причем квартир близко к центру не так много, большинство квартир находится на расстоянии 10-20км от центра\n",
    "\n",
    "Дополнительно имеет смысл рассмотреть следующее:\n",
    "- влияние статуса апартаментов и наличие балконана цену\n",
    "- влияние типа планировки на цену (студия, свободная, обычная)\n",
    "- цена квадратного метра в различных районах города\n",
    "- влияние парков и прудов на цену\n"
   ]
  }
 ],
 "metadata": {
  "ExecuteTimeLog": [
   {
    "duration": 702,
    "start_time": "2023-11-21T19:30:55.371Z"
   },
   {
    "duration": 96,
    "start_time": "2023-11-21T19:31:27.637Z"
   },
   {
    "duration": 135,
    "start_time": "2023-11-21T19:32:43.197Z"
   },
   {
    "duration": 127,
    "start_time": "2023-11-21T19:37:29.897Z"
   },
   {
    "duration": 127,
    "start_time": "2023-11-21T19:37:40.162Z"
   },
   {
    "duration": 674,
    "start_time": "2023-11-21T19:45:38.541Z"
   },
   {
    "duration": 1618,
    "start_time": "2023-11-21T19:49:39.854Z"
   },
   {
    "duration": 9,
    "start_time": "2023-11-21T19:51:10.587Z"
   },
   {
    "duration": 21,
    "start_time": "2023-11-21T19:56:23.274Z"
   },
   {
    "duration": 28,
    "start_time": "2023-11-21T20:07:41.638Z"
   },
   {
    "duration": 80,
    "start_time": "2023-11-21T20:19:25.914Z"
   },
   {
    "duration": 18,
    "start_time": "2023-11-21T21:07:59.268Z"
   },
   {
    "duration": 82,
    "start_time": "2023-11-21T21:08:05.609Z"
   },
   {
    "duration": 54,
    "start_time": "2023-11-21T21:10:03.834Z"
   },
   {
    "duration": 51,
    "start_time": "2023-11-21T21:12:30.982Z"
   },
   {
    "duration": 13,
    "start_time": "2023-11-21T21:15:41.910Z"
   },
   {
    "duration": 17,
    "start_time": "2023-11-21T21:35:36.520Z"
   },
   {
    "duration": 12,
    "start_time": "2023-11-21T21:36:21.791Z"
   },
   {
    "duration": 8,
    "start_time": "2023-11-21T21:36:53.379Z"
   },
   {
    "duration": 14,
    "start_time": "2023-11-21T21:45:23.967Z"
   },
   {
    "duration": 50,
    "start_time": "2023-11-21T21:45:47.264Z"
   },
   {
    "duration": 74,
    "start_time": "2023-11-21T21:48:03.875Z"
   },
   {
    "duration": 34,
    "start_time": "2023-11-21T21:48:45.717Z"
   },
   {
    "duration": 8,
    "start_time": "2023-11-21T23:02:39.173Z"
   },
   {
    "duration": 49,
    "start_time": "2023-11-21T23:03:11.495Z"
   },
   {
    "duration": 3013,
    "start_time": "2023-11-21T23:10:22.501Z"
   },
   {
    "duration": 2649,
    "start_time": "2023-11-21T23:11:26.864Z"
   },
   {
    "duration": 158,
    "start_time": "2023-11-21T23:19:05.919Z"
   },
   {
    "duration": 176,
    "start_time": "2023-11-21T23:19:13.985Z"
   },
   {
    "duration": 168,
    "start_time": "2023-11-21T23:19:31.072Z"
   },
   {
    "duration": 135,
    "start_time": "2023-11-21T23:20:50.951Z"
   },
   {
    "duration": 1590,
    "start_time": "2023-11-21T23:20:51.087Z"
   },
   {
    "duration": 20,
    "start_time": "2023-11-21T23:20:52.678Z"
   },
   {
    "duration": 54,
    "start_time": "2023-11-21T23:20:52.699Z"
   },
   {
    "duration": 65,
    "start_time": "2023-11-21T23:20:52.755Z"
   },
   {
    "duration": 69,
    "start_time": "2023-11-21T23:20:52.821Z"
   },
   {
    "duration": 188,
    "start_time": "2023-11-21T23:20:57.696Z"
   },
   {
    "duration": 204,
    "start_time": "2023-11-21T23:22:12.181Z"
   },
   {
    "duration": 40,
    "start_time": "2023-11-21T23:31:20.333Z"
   },
   {
    "duration": 110,
    "start_time": "2023-11-21T23:32:58.723Z"
   },
   {
    "duration": 12,
    "start_time": "2023-11-21T23:33:27.467Z"
   },
   {
    "duration": 26,
    "start_time": "2023-11-21T23:38:48.318Z"
   },
   {
    "duration": 63,
    "start_time": "2023-11-21T23:40:23.584Z"
   },
   {
    "duration": 58,
    "start_time": "2023-11-21T23:41:47.389Z"
   },
   {
    "duration": 379,
    "start_time": "2023-11-21T23:43:02.890Z"
   },
   {
    "duration": 357,
    "start_time": "2023-11-21T23:44:05.387Z"
   },
   {
    "duration": 56,
    "start_time": "2023-11-22T10:12:39.496Z"
   },
   {
    "duration": 649,
    "start_time": "2023-11-22T10:12:50.779Z"
   },
   {
    "duration": 2420,
    "start_time": "2023-11-22T10:12:51.429Z"
   },
   {
    "duration": 21,
    "start_time": "2023-11-22T10:12:53.851Z"
   },
   {
    "duration": 68,
    "start_time": "2023-11-22T10:12:53.874Z"
   },
   {
    "duration": 56,
    "start_time": "2023-11-22T10:12:53.944Z"
   },
   {
    "duration": 62,
    "start_time": "2023-11-22T10:12:54.002Z"
   },
   {
    "duration": 258,
    "start_time": "2023-11-22T10:12:54.065Z"
   },
   {
    "duration": 425,
    "start_time": "2023-11-22T10:12:54.324Z"
   },
   {
    "duration": 137,
    "start_time": "2023-11-22T10:12:55.288Z"
   },
   {
    "duration": 225,
    "start_time": "2023-11-22T10:13:17.915Z"
   },
   {
    "duration": 316,
    "start_time": "2023-11-22T10:14:11.753Z"
   },
   {
    "duration": 216,
    "start_time": "2023-11-22T10:14:26.278Z"
   },
   {
    "duration": 508,
    "start_time": "2023-11-22T10:24:07.369Z"
   },
   {
    "duration": 546,
    "start_time": "2023-11-22T10:24:30.894Z"
   },
   {
    "duration": 279,
    "start_time": "2023-11-22T10:25:02.005Z"
   },
   {
    "duration": 1854,
    "start_time": "2023-11-22T10:25:02.286Z"
   },
   {
    "duration": 21,
    "start_time": "2023-11-22T10:25:04.142Z"
   },
   {
    "duration": 95,
    "start_time": "2023-11-22T10:25:04.165Z"
   },
   {
    "duration": 67,
    "start_time": "2023-11-22T10:25:04.261Z"
   },
   {
    "duration": 76,
    "start_time": "2023-11-22T10:25:04.329Z"
   },
   {
    "duration": 263,
    "start_time": "2023-11-22T10:25:04.407Z"
   },
   {
    "duration": 407,
    "start_time": "2023-11-22T10:25:04.673Z"
   },
   {
    "duration": 144,
    "start_time": "2023-11-22T10:25:20.581Z"
   },
   {
    "duration": 1913,
    "start_time": "2023-11-22T10:25:20.726Z"
   },
   {
    "duration": 20,
    "start_time": "2023-11-22T10:25:22.641Z"
   },
   {
    "duration": 75,
    "start_time": "2023-11-22T10:25:22.663Z"
   },
   {
    "duration": 46,
    "start_time": "2023-11-22T10:25:22.739Z"
   },
   {
    "duration": 52,
    "start_time": "2023-11-22T10:25:22.798Z"
   },
   {
    "duration": 286,
    "start_time": "2023-11-22T10:25:22.851Z"
   },
   {
    "duration": 419,
    "start_time": "2023-11-22T10:25:23.139Z"
   },
   {
    "duration": 617,
    "start_time": "2023-11-22T10:25:23.561Z"
   },
   {
    "duration": 469,
    "start_time": "2023-11-22T10:25:34.059Z"
   },
   {
    "duration": 281,
    "start_time": "2023-11-22T10:27:31.992Z"
   },
   {
    "duration": 410,
    "start_time": "2023-11-22T10:28:57.584Z"
   },
   {
    "duration": 176,
    "start_time": "2023-11-22T10:29:24.525Z"
   },
   {
    "duration": 142,
    "start_time": "2023-11-22T10:29:33.162Z"
   },
   {
    "duration": 1914,
    "start_time": "2023-11-22T10:29:33.307Z"
   },
   {
    "duration": 19,
    "start_time": "2023-11-22T10:29:35.224Z"
   },
   {
    "duration": 91,
    "start_time": "2023-11-22T10:29:35.245Z"
   },
   {
    "duration": 64,
    "start_time": "2023-11-22T10:29:35.338Z"
   },
   {
    "duration": 58,
    "start_time": "2023-11-22T10:29:35.404Z"
   },
   {
    "duration": 258,
    "start_time": "2023-11-22T10:29:35.463Z"
   },
   {
    "duration": 554,
    "start_time": "2023-11-22T10:29:35.740Z"
   },
   {
    "duration": 478,
    "start_time": "2023-11-22T10:29:36.296Z"
   },
   {
    "duration": 185,
    "start_time": "2023-11-22T10:29:36.776Z"
   },
   {
    "duration": 199,
    "start_time": "2023-11-22T10:30:15.369Z"
   },
   {
    "duration": 138,
    "start_time": "2023-11-22T10:30:39.540Z"
   },
   {
    "duration": 155,
    "start_time": "2023-11-22T10:30:46.815Z"
   },
   {
    "duration": 155,
    "start_time": "2023-11-22T10:31:00.866Z"
   },
   {
    "duration": 120,
    "start_time": "2023-11-22T10:31:09.120Z"
   },
   {
    "duration": 191,
    "start_time": "2023-11-22T10:31:28.431Z"
   },
   {
    "duration": 187,
    "start_time": "2023-11-22T10:31:37.840Z"
   },
   {
    "duration": 172,
    "start_time": "2023-11-22T10:32:16.197Z"
   },
   {
    "duration": 180,
    "start_time": "2023-11-22T10:32:22.895Z"
   },
   {
    "duration": 447,
    "start_time": "2023-11-22T10:32:34.955Z"
   },
   {
    "duration": 559,
    "start_time": "2023-11-22T10:32:40.112Z"
   },
   {
    "duration": 483,
    "start_time": "2023-11-22T10:32:44.760Z"
   },
   {
    "duration": 369,
    "start_time": "2023-11-22T10:32:59.987Z"
   },
   {
    "duration": 186,
    "start_time": "2023-11-22T10:33:07.961Z"
   },
   {
    "duration": 1499,
    "start_time": "2023-11-22T10:33:21.196Z"
   },
   {
    "duration": 179,
    "start_time": "2023-11-22T10:33:35.020Z"
   },
   {
    "duration": 430,
    "start_time": "2023-11-22T10:34:08.710Z"
   },
   {
    "duration": 393,
    "start_time": "2023-11-22T10:34:26.240Z"
   },
   {
    "duration": 384,
    "start_time": "2023-11-22T10:34:33.624Z"
   },
   {
    "duration": 639,
    "start_time": "2023-11-22T10:35:26.451Z"
   },
   {
    "duration": 186,
    "start_time": "2023-11-22T10:36:00.498Z"
   },
   {
    "duration": 209,
    "start_time": "2023-11-22T10:36:25.296Z"
   },
   {
    "duration": 178,
    "start_time": "2023-11-22T10:36:43.134Z"
   },
   {
    "duration": 191,
    "start_time": "2023-11-22T10:37:01.197Z"
   },
   {
    "duration": 160,
    "start_time": "2023-11-22T10:37:25.851Z"
   },
   {
    "duration": 1721,
    "start_time": "2023-11-22T10:37:26.013Z"
   },
   {
    "duration": 19,
    "start_time": "2023-11-22T10:37:27.736Z"
   },
   {
    "duration": 78,
    "start_time": "2023-11-22T10:37:27.757Z"
   },
   {
    "duration": 44,
    "start_time": "2023-11-22T10:37:27.837Z"
   },
   {
    "duration": 38,
    "start_time": "2023-11-22T10:37:27.883Z"
   },
   {
    "duration": 265,
    "start_time": "2023-11-22T10:37:27.942Z"
   },
   {
    "duration": 623,
    "start_time": "2023-11-22T10:37:28.209Z"
   },
   {
    "duration": 399,
    "start_time": "2023-11-22T10:37:28.834Z"
   },
   {
    "duration": 184,
    "start_time": "2023-11-22T10:37:29.235Z"
   },
   {
    "duration": 201,
    "start_time": "2023-11-22T10:38:07.370Z"
   },
   {
    "duration": 360,
    "start_time": "2023-11-22T10:38:30.079Z"
   },
   {
    "duration": 41,
    "start_time": "2023-11-22T10:38:58.526Z"
   },
   {
    "duration": 374,
    "start_time": "2023-11-22T10:39:08.326Z"
   },
   {
    "duration": 379,
    "start_time": "2023-11-22T10:39:16.074Z"
   },
   {
    "duration": 363,
    "start_time": "2023-11-22T10:39:25.204Z"
   },
   {
    "duration": 205,
    "start_time": "2023-11-22T10:39:34.279Z"
   },
   {
    "duration": 182,
    "start_time": "2023-11-22T10:39:48.106Z"
   },
   {
    "duration": 348,
    "start_time": "2023-11-22T10:52:50.351Z"
   },
   {
    "duration": 202,
    "start_time": "2023-11-22T10:54:07.554Z"
   },
   {
    "duration": 971,
    "start_time": "2023-11-22T10:54:22.121Z"
   },
   {
    "duration": 221,
    "start_time": "2023-11-22T10:54:42.352Z"
   },
   {
    "duration": 188,
    "start_time": "2023-11-22T10:56:04.047Z"
   },
   {
    "duration": 219,
    "start_time": "2023-11-22T11:12:35.127Z"
   },
   {
    "duration": 103,
    "start_time": "2023-11-22T11:13:18.112Z"
   },
   {
    "duration": 192,
    "start_time": "2023-11-22T11:13:23.774Z"
   },
   {
    "duration": 171,
    "start_time": "2023-11-22T11:13:37.445Z"
   },
   {
    "duration": 178,
    "start_time": "2023-11-22T11:13:43.112Z"
   },
   {
    "duration": 222,
    "start_time": "2023-11-22T11:14:06.530Z"
   },
   {
    "duration": 186,
    "start_time": "2023-11-22T11:17:52.529Z"
   },
   {
    "duration": 205,
    "start_time": "2023-11-22T11:18:00.710Z"
   },
   {
    "duration": 9,
    "start_time": "2023-11-22T11:18:05.581Z"
   },
   {
    "duration": 195,
    "start_time": "2023-11-22T11:18:18.268Z"
   },
   {
    "duration": 174,
    "start_time": "2023-11-22T11:19:11.444Z"
   },
   {
    "duration": 2275,
    "start_time": "2023-11-22T11:19:11.620Z"
   },
   {
    "duration": 41,
    "start_time": "2023-11-22T11:19:13.896Z"
   },
   {
    "duration": 82,
    "start_time": "2023-11-22T11:19:13.940Z"
   },
   {
    "duration": 49,
    "start_time": "2023-11-22T11:19:14.025Z"
   },
   {
    "duration": 78,
    "start_time": "2023-11-22T11:19:14.075Z"
   },
   {
    "duration": 299,
    "start_time": "2023-11-22T11:19:14.155Z"
   },
   {
    "duration": 405,
    "start_time": "2023-11-22T11:19:14.456Z"
   },
   {
    "duration": 398,
    "start_time": "2023-11-22T11:19:14.862Z"
   },
   {
    "duration": 219,
    "start_time": "2023-11-22T11:19:15.262Z"
   },
   {
    "duration": 160,
    "start_time": "2023-11-22T11:19:57.304Z"
   },
   {
    "duration": 198,
    "start_time": "2023-11-22T11:20:02.872Z"
   },
   {
    "duration": 158,
    "start_time": "2023-11-22T11:20:12.208Z"
   },
   {
    "duration": 183,
    "start_time": "2023-11-22T11:20:16.458Z"
   },
   {
    "duration": 186,
    "start_time": "2023-11-22T11:20:30.533Z"
   },
   {
    "duration": 199,
    "start_time": "2023-11-22T11:21:26.739Z"
   },
   {
    "duration": 413,
    "start_time": "2023-11-22T11:21:39.747Z"
   },
   {
    "duration": 237,
    "start_time": "2023-11-22T11:27:13.393Z"
   },
   {
    "duration": 437,
    "start_time": "2023-11-22T11:28:20.997Z"
   },
   {
    "duration": 432,
    "start_time": "2023-11-22T11:29:26.184Z"
   },
   {
    "duration": 763,
    "start_time": "2023-11-22T11:31:21.161Z"
   },
   {
    "duration": 421,
    "start_time": "2023-11-22T11:32:13.225Z"
   },
   {
    "duration": 365,
    "start_time": "2023-11-22T11:34:36.527Z"
   },
   {
    "duration": 125,
    "start_time": "2023-11-22T11:35:22.228Z"
   },
   {
    "duration": 361,
    "start_time": "2023-11-22T11:35:26.817Z"
   },
   {
    "duration": 376,
    "start_time": "2023-11-22T11:37:58.725Z"
   },
   {
    "duration": 372,
    "start_time": "2023-11-22T11:38:17.322Z"
   },
   {
    "duration": 502,
    "start_time": "2023-11-22T11:38:27.002Z"
   },
   {
    "duration": 203,
    "start_time": "2023-11-22T11:39:54.745Z"
   },
   {
    "duration": 167,
    "start_time": "2023-11-22T11:41:07.287Z"
   },
   {
    "duration": 340,
    "start_time": "2023-11-22T11:42:11.859Z"
   },
   {
    "duration": 358,
    "start_time": "2023-11-22T11:45:06.952Z"
   },
   {
    "duration": 368,
    "start_time": "2023-11-22T11:45:23.332Z"
   },
   {
    "duration": 335,
    "start_time": "2023-11-22T11:45:29.271Z"
   },
   {
    "duration": 339,
    "start_time": "2023-11-22T11:45:42.412Z"
   },
   {
    "duration": 353,
    "start_time": "2023-11-22T11:45:57.295Z"
   },
   {
    "duration": 340,
    "start_time": "2023-11-22T11:49:17.396Z"
   },
   {
    "duration": 753,
    "start_time": "2023-11-22T11:49:35.834Z"
   },
   {
    "duration": 311,
    "start_time": "2023-11-22T11:50:00.739Z"
   },
   {
    "duration": 342,
    "start_time": "2023-11-22T11:50:19.832Z"
   },
   {
    "duration": 138,
    "start_time": "2023-11-22T11:50:42.382Z"
   },
   {
    "duration": 1658,
    "start_time": "2023-11-22T11:50:42.522Z"
   },
   {
    "duration": 26,
    "start_time": "2023-11-22T11:50:44.181Z"
   },
   {
    "duration": 60,
    "start_time": "2023-11-22T11:50:44.208Z"
   },
   {
    "duration": 61,
    "start_time": "2023-11-22T11:50:44.269Z"
   },
   {
    "duration": 71,
    "start_time": "2023-11-22T11:50:44.332Z"
   },
   {
    "duration": 228,
    "start_time": "2023-11-22T11:50:44.404Z"
   },
   {
    "duration": 355,
    "start_time": "2023-11-22T11:50:44.634Z"
   },
   {
    "duration": 363,
    "start_time": "2023-11-22T11:50:44.990Z"
   },
   {
    "duration": 195,
    "start_time": "2023-11-22T11:50:45.356Z"
   },
   {
    "duration": 201,
    "start_time": "2023-11-22T11:50:45.552Z"
   },
   {
    "duration": 477,
    "start_time": "2023-11-22T11:50:45.754Z"
   },
   {
    "duration": 307,
    "start_time": "2023-11-22T11:50:47.633Z"
   },
   {
    "duration": 133,
    "start_time": "2023-11-22T11:51:04.849Z"
   },
   {
    "duration": 2029,
    "start_time": "2023-11-22T11:51:04.984Z"
   },
   {
    "duration": 20,
    "start_time": "2023-11-22T11:51:07.014Z"
   },
   {
    "duration": 83,
    "start_time": "2023-11-22T11:51:07.036Z"
   },
   {
    "duration": 66,
    "start_time": "2023-11-22T11:51:07.121Z"
   },
   {
    "duration": 45,
    "start_time": "2023-11-22T11:51:07.199Z"
   },
   {
    "duration": 257,
    "start_time": "2023-11-22T11:51:07.245Z"
   },
   {
    "duration": 354,
    "start_time": "2023-11-22T11:51:07.504Z"
   },
   {
    "duration": 353,
    "start_time": "2023-11-22T11:51:07.860Z"
   },
   {
    "duration": 163,
    "start_time": "2023-11-22T11:51:08.215Z"
   },
   {
    "duration": 190,
    "start_time": "2023-11-22T11:51:08.379Z"
   },
   {
    "duration": 483,
    "start_time": "2023-11-22T11:51:08.571Z"
   },
   {
    "duration": 310,
    "start_time": "2023-11-22T11:51:09.056Z"
   },
   {
    "duration": 304,
    "start_time": "2023-11-22T11:51:29.325Z"
   },
   {
    "duration": 296,
    "start_time": "2023-11-22T11:51:35.930Z"
   },
   {
    "duration": 135,
    "start_time": "2023-11-22T11:51:43.897Z"
   },
   {
    "duration": 1678,
    "start_time": "2023-11-22T11:51:44.034Z"
   },
   {
    "duration": 22,
    "start_time": "2023-11-22T11:51:45.714Z"
   },
   {
    "duration": 78,
    "start_time": "2023-11-22T11:51:45.737Z"
   },
   {
    "duration": 43,
    "start_time": "2023-11-22T11:51:45.817Z"
   },
   {
    "duration": 41,
    "start_time": "2023-11-22T11:51:45.862Z"
   },
   {
    "duration": 237,
    "start_time": "2023-11-22T11:51:45.920Z"
   },
   {
    "duration": 350,
    "start_time": "2023-11-22T11:51:46.159Z"
   },
   {
    "duration": 353,
    "start_time": "2023-11-22T11:51:46.511Z"
   },
   {
    "duration": 558,
    "start_time": "2023-11-22T11:51:46.867Z"
   },
   {
    "duration": 197,
    "start_time": "2023-11-22T11:51:47.427Z"
   },
   {
    "duration": 491,
    "start_time": "2023-11-22T11:51:47.626Z"
   },
   {
    "duration": 315,
    "start_time": "2023-11-22T11:51:55.695Z"
   },
   {
    "duration": 136,
    "start_time": "2023-11-22T11:52:35.970Z"
   },
   {
    "duration": 1665,
    "start_time": "2023-11-22T11:52:36.108Z"
   },
   {
    "duration": 26,
    "start_time": "2023-11-22T11:52:37.775Z"
   },
   {
    "duration": 61,
    "start_time": "2023-11-22T11:52:37.802Z"
   },
   {
    "duration": 65,
    "start_time": "2023-11-22T11:52:37.864Z"
   },
   {
    "duration": 68,
    "start_time": "2023-11-22T11:52:37.931Z"
   },
   {
    "duration": 238,
    "start_time": "2023-11-22T11:52:38.000Z"
   },
   {
    "duration": 351,
    "start_time": "2023-11-22T11:52:38.239Z"
   },
   {
    "duration": 360,
    "start_time": "2023-11-22T11:52:38.592Z"
   },
   {
    "duration": 169,
    "start_time": "2023-11-22T11:52:38.954Z"
   },
   {
    "duration": 209,
    "start_time": "2023-11-22T11:52:39.124Z"
   },
   {
    "duration": 467,
    "start_time": "2023-11-22T11:52:39.335Z"
   },
   {
    "duration": 306,
    "start_time": "2023-11-22T11:52:46.400Z"
   },
   {
    "duration": 305,
    "start_time": "2023-11-22T11:54:31.415Z"
   },
   {
    "duration": 155,
    "start_time": "2023-11-22T11:54:39.974Z"
   },
   {
    "duration": 1662,
    "start_time": "2023-11-22T11:54:40.131Z"
   },
   {
    "duration": 23,
    "start_time": "2023-11-22T11:54:41.796Z"
   },
   {
    "duration": 524,
    "start_time": "2023-11-22T11:54:41.821Z"
   },
   {
    "duration": 63,
    "start_time": "2023-11-22T11:54:42.347Z"
   },
   {
    "duration": 48,
    "start_time": "2023-11-22T11:54:42.412Z"
   },
   {
    "duration": 256,
    "start_time": "2023-11-22T11:54:42.462Z"
   },
   {
    "duration": 365,
    "start_time": "2023-11-22T11:54:42.720Z"
   },
   {
    "duration": 382,
    "start_time": "2023-11-22T11:54:43.087Z"
   },
   {
    "duration": 181,
    "start_time": "2023-11-22T11:54:43.471Z"
   },
   {
    "duration": 206,
    "start_time": "2023-11-22T11:54:43.653Z"
   },
   {
    "duration": 503,
    "start_time": "2023-11-22T11:54:43.860Z"
   },
   {
    "duration": 305,
    "start_time": "2023-11-22T11:55:07.849Z"
   },
   {
    "duration": 298,
    "start_time": "2023-11-22T11:58:37.214Z"
   },
   {
    "duration": 313,
    "start_time": "2023-11-22T11:58:46.462Z"
   },
   {
    "duration": 329,
    "start_time": "2023-11-22T11:58:59.738Z"
   },
   {
    "duration": 323,
    "start_time": "2023-11-22T11:59:05.384Z"
   },
   {
    "duration": 309,
    "start_time": "2023-11-22T11:59:14.036Z"
   },
   {
    "duration": 301,
    "start_time": "2023-11-22T11:59:24.102Z"
   },
   {
    "duration": 470,
    "start_time": "2023-11-22T11:59:52.575Z"
   },
   {
    "duration": 489,
    "start_time": "2023-11-22T12:00:38.315Z"
   },
   {
    "duration": 280,
    "start_time": "2023-11-22T12:01:03.627Z"
   },
   {
    "duration": 500,
    "start_time": "2023-11-22T12:01:12.472Z"
   },
   {
    "duration": 532,
    "start_time": "2023-11-22T12:30:01.456Z"
   },
   {
    "duration": 493,
    "start_time": "2023-11-22T12:30:21.651Z"
   },
   {
    "duration": 155,
    "start_time": "2023-11-22T12:32:20.477Z"
   },
   {
    "duration": 2415,
    "start_time": "2023-11-22T12:32:20.634Z"
   },
   {
    "duration": 21,
    "start_time": "2023-11-22T12:32:23.051Z"
   },
   {
    "duration": 81,
    "start_time": "2023-11-22T12:32:23.074Z"
   },
   {
    "duration": 56,
    "start_time": "2023-11-22T12:32:23.157Z"
   },
   {
    "duration": 48,
    "start_time": "2023-11-22T12:32:23.215Z"
   },
   {
    "duration": 233,
    "start_time": "2023-11-22T12:32:23.299Z"
   },
   {
    "duration": 386,
    "start_time": "2023-11-22T12:32:23.536Z"
   },
   {
    "duration": 384,
    "start_time": "2023-11-22T12:32:23.923Z"
   },
   {
    "duration": 175,
    "start_time": "2023-11-22T12:32:24.309Z"
   },
   {
    "duration": 203,
    "start_time": "2023-11-22T12:32:24.486Z"
   },
   {
    "duration": 522,
    "start_time": "2023-11-22T12:32:24.690Z"
   },
   {
    "duration": 336,
    "start_time": "2023-11-22T12:32:25.214Z"
   },
   {
    "duration": 547,
    "start_time": "2023-11-22T12:32:30.076Z"
   },
   {
    "duration": 550,
    "start_time": "2023-11-22T12:33:37.387Z"
   },
   {
    "duration": 498,
    "start_time": "2023-11-22T12:39:10.592Z"
   },
   {
    "duration": 269,
    "start_time": "2023-11-22T12:39:29.126Z"
   },
   {
    "duration": 288,
    "start_time": "2023-11-22T12:40:09.823Z"
   },
   {
    "duration": 295,
    "start_time": "2023-11-22T12:40:25.442Z"
   },
   {
    "duration": 280,
    "start_time": "2023-11-22T12:40:43.023Z"
   },
   {
    "duration": 295,
    "start_time": "2023-11-22T12:41:36.276Z"
   },
   {
    "duration": 620,
    "start_time": "2023-11-23T15:35:53.827Z"
   },
   {
    "duration": 2203,
    "start_time": "2023-11-23T15:35:54.449Z"
   },
   {
    "duration": 22,
    "start_time": "2023-11-23T15:35:56.654Z"
   },
   {
    "duration": 68,
    "start_time": "2023-11-23T15:35:56.678Z"
   },
   {
    "duration": 46,
    "start_time": "2023-11-23T15:35:56.747Z"
   },
   {
    "duration": 64,
    "start_time": "2023-11-23T15:35:56.795Z"
   },
   {
    "duration": 251,
    "start_time": "2023-11-23T15:35:56.861Z"
   },
   {
    "duration": 341,
    "start_time": "2023-11-23T15:35:57.130Z"
   },
   {
    "duration": 394,
    "start_time": "2023-11-23T15:35:57.472Z"
   },
   {
    "duration": 238,
    "start_time": "2023-11-23T15:35:57.868Z"
   },
   {
    "duration": 207,
    "start_time": "2023-11-23T15:35:58.108Z"
   },
   {
    "duration": 501,
    "start_time": "2023-11-23T15:35:58.317Z"
   },
   {
    "duration": 330,
    "start_time": "2023-11-23T15:35:58.819Z"
   },
   {
    "duration": 309,
    "start_time": "2023-11-23T15:35:59.150Z"
   },
   {
    "duration": 460,
    "start_time": "2023-11-23T15:38:24.025Z"
   },
   {
    "duration": 300,
    "start_time": "2023-11-23T15:39:12.080Z"
   },
   {
    "duration": 579,
    "start_time": "2023-11-23T15:41:38.636Z"
   },
   {
    "duration": 176,
    "start_time": "2023-11-23T15:41:52.001Z"
   },
   {
    "duration": 176,
    "start_time": "2023-11-23T15:47:58.154Z"
   },
   {
    "duration": 574,
    "start_time": "2023-11-23T15:51:41.871Z"
   },
   {
    "duration": 493,
    "start_time": "2023-11-23T15:54:09.267Z"
   },
   {
    "duration": 531,
    "start_time": "2023-11-23T15:55:16.450Z"
   },
   {
    "duration": 836,
    "start_time": "2023-11-23T15:55:20.809Z"
   },
   {
    "duration": 452,
    "start_time": "2023-11-23T15:56:24.850Z"
   },
   {
    "duration": 197,
    "start_time": "2023-11-23T15:57:27.538Z"
   },
   {
    "duration": 199,
    "start_time": "2023-11-23T15:57:49.779Z"
   },
   {
    "duration": 337,
    "start_time": "2023-11-23T15:59:05.203Z"
   },
   {
    "duration": 404,
    "start_time": "2023-11-23T15:59:19.716Z"
   },
   {
    "duration": 461,
    "start_time": "2023-11-23T16:05:06.745Z"
   },
   {
    "duration": 137,
    "start_time": "2023-11-23T16:06:42.984Z"
   },
   {
    "duration": 95,
    "start_time": "2023-11-23T16:06:48.980Z"
   },
   {
    "duration": 87,
    "start_time": "2023-11-23T16:07:15.740Z"
   },
   {
    "duration": 334,
    "start_time": "2023-11-23T16:08:13.674Z"
   },
   {
    "duration": 79,
    "start_time": "2023-11-23T16:10:12.593Z"
   },
   {
    "duration": 121,
    "start_time": "2023-11-23T16:10:30.468Z"
   },
   {
    "duration": 120,
    "start_time": "2023-11-23T16:15:08.281Z"
   },
   {
    "duration": 309,
    "start_time": "2023-11-23T16:20:34.440Z"
   },
   {
    "duration": 316,
    "start_time": "2023-11-23T16:21:18.454Z"
   },
   {
    "duration": 453,
    "start_time": "2023-11-23T16:27:26.046Z"
   },
   {
    "duration": 650,
    "start_time": "2023-11-23T16:30:46.685Z"
   },
   {
    "duration": 142,
    "start_time": "2023-11-23T16:31:12.384Z"
   },
   {
    "duration": 199,
    "start_time": "2023-11-23T16:31:22.855Z"
   },
   {
    "duration": 122,
    "start_time": "2023-11-23T18:36:14.628Z"
   },
   {
    "duration": 99,
    "start_time": "2023-11-23T18:45:13.921Z"
   },
   {
    "duration": 1678,
    "start_time": "2023-11-23T18:45:20.015Z"
   },
   {
    "duration": 150,
    "start_time": "2023-11-23T18:45:25.792Z"
   },
   {
    "duration": 267,
    "start_time": "2023-11-23T18:46:53.881Z"
   },
   {
    "duration": 294,
    "start_time": "2023-11-23T18:47:33.030Z"
   },
   {
    "duration": 285,
    "start_time": "2023-11-23T18:47:42.470Z"
   },
   {
    "duration": 632,
    "start_time": "2023-11-23T18:48:10.716Z"
   },
   {
    "duration": 174,
    "start_time": "2023-11-23T18:48:38.428Z"
   },
   {
    "duration": 160,
    "start_time": "2023-11-23T18:48:53.318Z"
   },
   {
    "duration": 178,
    "start_time": "2023-11-23T18:49:00.420Z"
   },
   {
    "duration": 126,
    "start_time": "2023-11-23T18:49:27.462Z"
   },
   {
    "duration": 134,
    "start_time": "2023-11-23T18:49:58.468Z"
   },
   {
    "duration": 148,
    "start_time": "2023-11-23T18:50:03.462Z"
   },
   {
    "duration": 167,
    "start_time": "2023-11-23T18:54:34.738Z"
   },
   {
    "duration": 161,
    "start_time": "2023-11-23T19:02:58.261Z"
   },
   {
    "duration": 7,
    "start_time": "2023-11-23T19:06:55.203Z"
   },
   {
    "duration": 6,
    "start_time": "2023-11-23T19:07:07.567Z"
   },
   {
    "duration": 10,
    "start_time": "2023-11-23T19:07:42.542Z"
   },
   {
    "duration": 7,
    "start_time": "2023-11-23T19:08:02.969Z"
   },
   {
    "duration": 151,
    "start_time": "2023-11-23T19:11:33.065Z"
   },
   {
    "duration": 166,
    "start_time": "2023-11-23T19:13:28.806Z"
   },
   {
    "duration": 148,
    "start_time": "2023-11-23T19:13:36.565Z"
   },
   {
    "duration": 308,
    "start_time": "2023-11-23T19:14:00.687Z"
   },
   {
    "duration": 156,
    "start_time": "2023-11-23T19:14:12.101Z"
   },
   {
    "duration": 146,
    "start_time": "2023-11-23T19:14:20.017Z"
   },
   {
    "duration": 132,
    "start_time": "2023-11-23T19:15:16.861Z"
   },
   {
    "duration": 131,
    "start_time": "2023-11-23T19:15:35.793Z"
   },
   {
    "duration": 361,
    "start_time": "2023-11-23T19:19:12.848Z"
   },
   {
    "duration": 171,
    "start_time": "2023-11-23T19:19:47.049Z"
   },
   {
    "duration": 183,
    "start_time": "2023-11-23T19:32:52.426Z"
   },
   {
    "duration": 144,
    "start_time": "2023-11-23T19:32:56.607Z"
   },
   {
    "duration": 153,
    "start_time": "2023-11-23T19:40:25.611Z"
   },
   {
    "duration": 144,
    "start_time": "2023-11-23T19:40:44.936Z"
   },
   {
    "duration": 135,
    "start_time": "2023-11-23T19:41:14.348Z"
   },
   {
    "duration": 136,
    "start_time": "2023-11-23T19:41:56.842Z"
   },
   {
    "duration": 1658,
    "start_time": "2023-11-23T19:41:56.980Z"
   },
   {
    "duration": 18,
    "start_time": "2023-11-23T19:41:58.640Z"
   },
   {
    "duration": 77,
    "start_time": "2023-11-23T19:41:58.660Z"
   },
   {
    "duration": 47,
    "start_time": "2023-11-23T19:41:58.739Z"
   },
   {
    "duration": 65,
    "start_time": "2023-11-23T19:41:58.789Z"
   },
   {
    "duration": 231,
    "start_time": "2023-11-23T19:41:58.856Z"
   },
   {
    "duration": 553,
    "start_time": "2023-11-23T19:41:59.089Z"
   },
   {
    "duration": 354,
    "start_time": "2023-11-23T19:41:59.643Z"
   },
   {
    "duration": 188,
    "start_time": "2023-11-23T19:41:59.999Z"
   },
   {
    "duration": 203,
    "start_time": "2023-11-23T19:42:00.189Z"
   },
   {
    "duration": 494,
    "start_time": "2023-11-23T19:42:00.394Z"
   },
   {
    "duration": 354,
    "start_time": "2023-11-23T19:42:00.890Z"
   },
   {
    "duration": 310,
    "start_time": "2023-11-23T19:42:01.245Z"
   },
   {
    "duration": 312,
    "start_time": "2023-11-23T19:42:01.557Z"
   },
   {
    "duration": 130,
    "start_time": "2023-11-23T19:42:01.871Z"
   },
   {
    "duration": 172,
    "start_time": "2023-11-23T19:42:02.003Z"
   },
   {
    "duration": 177,
    "start_time": "2023-11-23T19:42:02.177Z"
   },
   {
    "duration": 159,
    "start_time": "2023-11-23T19:42:02.356Z"
   },
   {
    "duration": 183,
    "start_time": "2023-11-23T19:42:02.517Z"
   },
   {
    "duration": 142,
    "start_time": "2023-11-23T19:42:15.061Z"
   },
   {
    "duration": 136,
    "start_time": "2023-11-23T19:42:34.677Z"
   },
   {
    "duration": 1892,
    "start_time": "2023-11-23T19:42:34.830Z"
   },
   {
    "duration": 20,
    "start_time": "2023-11-23T19:42:36.730Z"
   },
   {
    "duration": 77,
    "start_time": "2023-11-23T19:42:36.752Z"
   },
   {
    "duration": 47,
    "start_time": "2023-11-23T19:42:36.831Z"
   },
   {
    "duration": 67,
    "start_time": "2023-11-23T19:42:36.879Z"
   },
   {
    "duration": 233,
    "start_time": "2023-11-23T19:42:36.948Z"
   },
   {
    "duration": 350,
    "start_time": "2023-11-23T19:42:37.183Z"
   },
   {
    "duration": 401,
    "start_time": "2023-11-23T19:42:37.535Z"
   },
   {
    "duration": 170,
    "start_time": "2023-11-23T19:42:37.939Z"
   },
   {
    "duration": 192,
    "start_time": "2023-11-23T19:42:38.110Z"
   },
   {
    "duration": 466,
    "start_time": "2023-11-23T19:42:38.304Z"
   },
   {
    "duration": 308,
    "start_time": "2023-11-23T19:42:38.771Z"
   },
   {
    "duration": 303,
    "start_time": "2023-11-23T19:42:39.081Z"
   },
   {
    "duration": 293,
    "start_time": "2023-11-23T19:42:39.386Z"
   },
   {
    "duration": 122,
    "start_time": "2023-11-23T19:42:39.681Z"
   },
   {
    "duration": 148,
    "start_time": "2023-11-23T19:42:39.804Z"
   },
   {
    "duration": 161,
    "start_time": "2023-11-23T19:42:39.953Z"
   },
   {
    "duration": 161,
    "start_time": "2023-11-23T19:42:40.116Z"
   },
   {
    "duration": 453,
    "start_time": "2023-11-23T19:42:40.278Z"
   },
   {
    "duration": 143,
    "start_time": "2023-11-23T19:42:45.960Z"
   },
   {
    "duration": 270,
    "start_time": "2023-11-23T19:43:01.426Z"
   },
   {
    "duration": 146,
    "start_time": "2023-11-23T19:43:11.465Z"
   },
   {
    "duration": 151,
    "start_time": "2023-11-23T19:46:42.896Z"
   },
   {
    "duration": 159,
    "start_time": "2023-11-23T19:46:53.815Z"
   },
   {
    "duration": 146,
    "start_time": "2023-11-23T19:47:05.872Z"
   },
   {
    "duration": 142,
    "start_time": "2023-11-23T19:51:12.180Z"
   },
   {
    "duration": 143,
    "start_time": "2023-11-23T19:51:29.997Z"
   },
   {
    "duration": 284,
    "start_time": "2023-11-23T19:54:54.274Z"
   },
   {
    "duration": 440,
    "start_time": "2023-11-23T19:55:27.530Z"
   },
   {
    "duration": 638,
    "start_time": "2023-11-23T19:56:07.476Z"
   },
   {
    "duration": 389,
    "start_time": "2023-11-23T19:59:04.522Z"
   },
   {
    "duration": 881,
    "start_time": "2023-11-23T19:59:44.079Z"
   },
   {
    "duration": 1949,
    "start_time": "2023-11-23T20:00:14.385Z"
   },
   {
    "duration": 866,
    "start_time": "2023-11-23T20:00:39.299Z"
   },
   {
    "duration": 1725,
    "start_time": "2023-11-23T20:11:16.947Z"
   },
   {
    "duration": 94,
    "start_time": "2023-11-23T20:12:36.200Z"
   },
   {
    "duration": 847,
    "start_time": "2023-11-23T20:12:55.119Z"
   },
   {
    "duration": 724,
    "start_time": "2023-11-23T20:13:08.348Z"
   },
   {
    "duration": 977,
    "start_time": "2023-11-23T20:13:32.792Z"
   },
   {
    "duration": 1916,
    "start_time": "2023-11-23T20:14:45.436Z"
   },
   {
    "duration": 1229,
    "start_time": "2023-11-23T20:15:19.429Z"
   },
   {
    "duration": 694,
    "start_time": "2023-11-23T20:16:16.571Z"
   },
   {
    "duration": 754,
    "start_time": "2023-11-23T20:25:06.205Z"
   },
   {
    "duration": 810,
    "start_time": "2023-11-23T20:27:47.767Z"
   },
   {
    "duration": 736,
    "start_time": "2023-11-23T20:27:58.687Z"
   },
   {
    "duration": 733,
    "start_time": "2023-11-23T20:28:18.431Z"
   },
   {
    "duration": 657,
    "start_time": "2023-11-23T20:30:08.728Z"
   },
   {
    "duration": 1012,
    "start_time": "2023-11-23T20:33:09.021Z"
   },
   {
    "duration": 6,
    "start_time": "2023-11-23T20:38:04.011Z"
   },
   {
    "duration": 7,
    "start_time": "2023-11-23T20:38:21.151Z"
   },
   {
    "duration": 9,
    "start_time": "2023-11-23T20:38:30.503Z"
   },
   {
    "duration": 6,
    "start_time": "2023-11-23T20:38:38.371Z"
   },
   {
    "duration": 7,
    "start_time": "2023-11-23T20:39:01.803Z"
   },
   {
    "duration": 7,
    "start_time": "2023-11-23T20:39:10.090Z"
   },
   {
    "duration": 7,
    "start_time": "2023-11-23T20:39:37.180Z"
   },
   {
    "duration": 6,
    "start_time": "2023-11-23T20:39:50.807Z"
   },
   {
    "duration": 6,
    "start_time": "2023-11-23T20:40:06.138Z"
   },
   {
    "duration": 7,
    "start_time": "2023-11-23T20:40:13.886Z"
   },
   {
    "duration": 10,
    "start_time": "2023-11-23T20:42:36.312Z"
   },
   {
    "duration": 18,
    "start_time": "2023-11-23T20:42:42.644Z"
   },
   {
    "duration": 22,
    "start_time": "2023-11-23T20:42:48.303Z"
   },
   {
    "duration": 24,
    "start_time": "2023-11-23T20:44:50.538Z"
   },
   {
    "duration": 35,
    "start_time": "2023-11-23T20:45:31.117Z"
   },
   {
    "duration": 18,
    "start_time": "2023-11-23T20:46:09.664Z"
   },
   {
    "duration": 98,
    "start_time": "2023-11-23T20:46:36.587Z"
   },
   {
    "duration": 20,
    "start_time": "2023-11-23T20:46:42.777Z"
   },
   {
    "duration": 24,
    "start_time": "2023-11-23T20:47:04.999Z"
   },
   {
    "duration": 21,
    "start_time": "2023-11-23T20:47:31.201Z"
   },
   {
    "duration": 21,
    "start_time": "2023-11-23T20:48:57.641Z"
   },
   {
    "duration": 124,
    "start_time": "2023-11-23T20:49:18.705Z"
   },
   {
    "duration": 24,
    "start_time": "2023-11-23T20:49:23.267Z"
   },
   {
    "duration": 55,
    "start_time": "2023-11-23T20:54:37.305Z"
   },
   {
    "duration": 35,
    "start_time": "2023-11-23T20:56:47.790Z"
   },
   {
    "duration": 9,
    "start_time": "2023-11-23T20:57:31.726Z"
   },
   {
    "duration": 22,
    "start_time": "2023-11-23T20:58:46.736Z"
   },
   {
    "duration": 21,
    "start_time": "2023-11-23T20:59:55.382Z"
   },
   {
    "duration": 22,
    "start_time": "2023-11-23T21:00:06.182Z"
   },
   {
    "duration": 11,
    "start_time": "2023-11-23T21:00:37.523Z"
   },
   {
    "duration": 22,
    "start_time": "2023-11-23T21:01:02.290Z"
   },
   {
    "duration": 23,
    "start_time": "2023-11-23T21:01:10.233Z"
   },
   {
    "duration": 25,
    "start_time": "2023-11-23T21:01:36.543Z"
   },
   {
    "duration": 93,
    "start_time": "2023-11-23T21:02:00.111Z"
   },
   {
    "duration": 22,
    "start_time": "2023-11-23T21:02:06.721Z"
   },
   {
    "duration": 25,
    "start_time": "2023-11-23T21:02:21.189Z"
   },
   {
    "duration": 21,
    "start_time": "2023-11-23T21:02:43.369Z"
   },
   {
    "duration": 25,
    "start_time": "2023-11-23T21:02:54.195Z"
   },
   {
    "duration": 23,
    "start_time": "2023-11-23T21:03:04.128Z"
   },
   {
    "duration": 23,
    "start_time": "2023-11-23T21:03:13.076Z"
   },
   {
    "duration": 31,
    "start_time": "2023-11-23T21:03:22.692Z"
   },
   {
    "duration": 28,
    "start_time": "2023-11-23T21:06:21.387Z"
   },
   {
    "duration": 48,
    "start_time": "2023-11-25T09:49:33.829Z"
   },
   {
    "duration": 971,
    "start_time": "2023-11-25T09:49:41.820Z"
   },
   {
    "duration": 1852,
    "start_time": "2023-11-25T09:49:42.793Z"
   },
   {
    "duration": 20,
    "start_time": "2023-11-25T09:49:44.647Z"
   },
   {
    "duration": 65,
    "start_time": "2023-11-25T09:49:44.674Z"
   },
   {
    "duration": 73,
    "start_time": "2023-11-25T09:49:44.740Z"
   },
   {
    "duration": 71,
    "start_time": "2023-11-25T09:49:44.814Z"
   },
   {
    "duration": 259,
    "start_time": "2023-11-25T09:49:44.890Z"
   },
   {
    "duration": 381,
    "start_time": "2023-11-25T09:49:45.151Z"
   },
   {
    "duration": 365,
    "start_time": "2023-11-25T09:49:45.534Z"
   },
   {
    "duration": 194,
    "start_time": "2023-11-25T09:49:45.902Z"
   },
   {
    "duration": 280,
    "start_time": "2023-11-25T09:49:46.099Z"
   },
   {
    "duration": 478,
    "start_time": "2023-11-25T09:49:46.380Z"
   },
   {
    "duration": 336,
    "start_time": "2023-11-25T09:49:46.859Z"
   },
   {
    "duration": 297,
    "start_time": "2023-11-25T09:49:47.196Z"
   },
   {
    "duration": 287,
    "start_time": "2023-11-25T09:49:47.494Z"
   },
   {
    "duration": 127,
    "start_time": "2023-11-25T09:49:47.783Z"
   },
   {
    "duration": 230,
    "start_time": "2023-11-25T09:49:47.911Z"
   },
   {
    "duration": 167,
    "start_time": "2023-11-25T09:49:48.143Z"
   },
   {
    "duration": 163,
    "start_time": "2023-11-25T09:49:48.312Z"
   },
   {
    "duration": 188,
    "start_time": "2023-11-25T09:49:48.476Z"
   },
   {
    "duration": 894,
    "start_time": "2023-11-25T09:49:48.665Z"
   },
   {
    "duration": 723,
    "start_time": "2023-11-25T09:49:49.560Z"
   },
   {
    "duration": 699,
    "start_time": "2023-11-25T09:49:50.285Z"
   },
   {
    "duration": 678,
    "start_time": "2023-11-25T09:49:50.985Z"
   },
   {
    "duration": 59,
    "start_time": "2023-11-25T09:49:53.176Z"
   },
   {
    "duration": 47,
    "start_time": "2023-11-25T10:12:52.933Z"
   },
   {
    "duration": 15,
    "start_time": "2023-11-25T10:14:00.184Z"
   },
   {
    "duration": 16,
    "start_time": "2023-11-25T10:14:39.080Z"
   },
   {
    "duration": 628,
    "start_time": "2023-11-25T10:18:22.923Z"
   },
   {
    "duration": 153,
    "start_time": "2023-11-25T10:18:54.266Z"
   },
   {
    "duration": 13,
    "start_time": "2023-11-25T10:19:03.322Z"
   },
   {
    "duration": 166,
    "start_time": "2023-11-25T10:19:13.959Z"
   },
   {
    "duration": 1861,
    "start_time": "2023-11-25T10:19:14.127Z"
   },
   {
    "duration": 20,
    "start_time": "2023-11-25T10:19:15.990Z"
   },
   {
    "duration": 87,
    "start_time": "2023-11-25T10:19:16.012Z"
   },
   {
    "duration": 53,
    "start_time": "2023-11-25T10:19:16.100Z"
   },
   {
    "duration": 76,
    "start_time": "2023-11-25T10:19:16.154Z"
   },
   {
    "duration": 278,
    "start_time": "2023-11-25T10:19:16.231Z"
   },
   {
    "duration": 376,
    "start_time": "2023-11-25T10:19:16.514Z"
   },
   {
    "duration": 406,
    "start_time": "2023-11-25T10:19:16.893Z"
   },
   {
    "duration": 265,
    "start_time": "2023-11-25T10:19:17.301Z"
   },
   {
    "duration": 214,
    "start_time": "2023-11-25T10:19:17.573Z"
   },
   {
    "duration": 505,
    "start_time": "2023-11-25T10:19:17.789Z"
   },
   {
    "duration": 315,
    "start_time": "2023-11-25T10:19:18.295Z"
   },
   {
    "duration": 304,
    "start_time": "2023-11-25T10:19:18.612Z"
   },
   {
    "duration": 325,
    "start_time": "2023-11-25T10:19:18.917Z"
   },
   {
    "duration": 138,
    "start_time": "2023-11-25T10:19:19.244Z"
   },
   {
    "duration": 152,
    "start_time": "2023-11-25T10:19:19.383Z"
   },
   {
    "duration": 309,
    "start_time": "2023-11-25T10:19:19.537Z"
   },
   {
    "duration": 165,
    "start_time": "2023-11-25T10:19:19.847Z"
   },
   {
    "duration": 193,
    "start_time": "2023-11-25T10:19:20.013Z"
   },
   {
    "duration": 918,
    "start_time": "2023-11-25T10:19:20.208Z"
   },
   {
    "duration": 672,
    "start_time": "2023-11-25T10:19:21.128Z"
   },
   {
    "duration": 917,
    "start_time": "2023-11-25T10:19:21.802Z"
   },
   {
    "duration": 775,
    "start_time": "2023-11-25T10:19:22.720Z"
   },
   {
    "duration": 33,
    "start_time": "2023-11-25T10:19:23.496Z"
   },
   {
    "duration": 13,
    "start_time": "2023-11-25T10:19:30.334Z"
   },
   {
    "duration": 15,
    "start_time": "2023-11-25T10:19:59.625Z"
   },
   {
    "duration": 43,
    "start_time": "2023-11-25T10:20:18.329Z"
   },
   {
    "duration": 741,
    "start_time": "2023-11-25T10:22:23.013Z"
   },
   {
    "duration": 24,
    "start_time": "2023-11-25T10:23:12.276Z"
   },
   {
    "duration": 132,
    "start_time": "2023-11-25T10:23:33.591Z"
   },
   {
    "duration": 24,
    "start_time": "2023-11-25T10:23:59.909Z"
   },
   {
    "duration": 24,
    "start_time": "2023-11-25T10:24:19.384Z"
   },
   {
    "duration": 24,
    "start_time": "2023-11-25T10:24:32.121Z"
   },
   {
    "duration": 122,
    "start_time": "2023-11-25T10:24:39.486Z"
   },
   {
    "duration": 24,
    "start_time": "2023-11-25T10:26:44.454Z"
   },
   {
    "duration": 144,
    "start_time": "2023-11-25T10:27:00.601Z"
   },
   {
    "duration": 275,
    "start_time": "2023-11-25T10:28:44.498Z"
   },
   {
    "duration": 548,
    "start_time": "2023-11-25T10:29:11.461Z"
   },
   {
    "duration": 54,
    "start_time": "2023-11-25T10:29:34.993Z"
   },
   {
    "duration": 137,
    "start_time": "2023-11-25T10:29:44.637Z"
   },
   {
    "duration": 127,
    "start_time": "2023-11-25T10:31:35.540Z"
   },
   {
    "duration": 123,
    "start_time": "2023-11-25T10:31:40.906Z"
   },
   {
    "duration": 123,
    "start_time": "2023-11-25T10:31:54.726Z"
   },
   {
    "duration": 127,
    "start_time": "2023-11-25T10:32:05.528Z"
   },
   {
    "duration": 152,
    "start_time": "2023-11-25T10:32:20.762Z"
   },
   {
    "duration": 283,
    "start_time": "2023-11-25T10:32:27.962Z"
   },
   {
    "duration": 123,
    "start_time": "2023-11-25T10:32:33.534Z"
   },
   {
    "duration": 154,
    "start_time": "2023-11-25T10:34:23.431Z"
   },
   {
    "duration": 157,
    "start_time": "2023-11-25T10:34:34.962Z"
   },
   {
    "duration": 229,
    "start_time": "2023-11-25T10:34:43.385Z"
   },
   {
    "duration": 202,
    "start_time": "2023-11-25T10:34:52.071Z"
   },
   {
    "duration": 1830,
    "start_time": "2023-11-25T10:35:29.331Z"
   },
   {
    "duration": 202,
    "start_time": "2023-11-25T10:42:37.349Z"
   },
   {
    "duration": 208,
    "start_time": "2023-11-25T10:42:41.898Z"
   },
   {
    "duration": 83,
    "start_time": "2023-11-25T10:43:21.873Z"
   },
   {
    "duration": 315,
    "start_time": "2023-11-25T10:43:27.877Z"
   },
   {
    "duration": 27,
    "start_time": "2023-11-25T10:49:03.485Z"
   },
   {
    "duration": 34,
    "start_time": "2023-11-25T10:50:30.406Z"
   },
   {
    "duration": 32,
    "start_time": "2023-11-25T10:50:44.214Z"
   },
   {
    "duration": 34,
    "start_time": "2023-11-25T10:50:51.079Z"
   },
   {
    "duration": 35,
    "start_time": "2023-11-25T10:50:56.252Z"
   },
   {
    "duration": 21,
    "start_time": "2023-11-25T10:51:14.239Z"
   },
   {
    "duration": 129,
    "start_time": "2023-11-25T10:51:37.694Z"
   },
   {
    "duration": 154,
    "start_time": "2023-11-25T10:51:55.303Z"
   },
   {
    "duration": 166,
    "start_time": "2023-11-25T10:52:45.710Z"
   },
   {
    "duration": 422,
    "start_time": "2023-11-25T11:07:56.432Z"
   },
   {
    "duration": 21,
    "start_time": "2023-11-25T11:08:13.578Z"
   },
   {
    "duration": 351,
    "start_time": "2023-11-25T11:08:19.067Z"
   },
   {
    "duration": 2180,
    "start_time": "2023-11-25T11:08:46.283Z"
   },
   {
    "duration": 789,
    "start_time": "2023-11-25T11:09:42.238Z"
   },
   {
    "duration": 463,
    "start_time": "2023-11-25T11:10:24.591Z"
   },
   {
    "duration": 637,
    "start_time": "2023-11-25T11:15:32.269Z"
   },
   {
    "duration": 489,
    "start_time": "2023-11-25T11:16:07.020Z"
   },
   {
    "duration": 134,
    "start_time": "2023-11-25T11:17:58.202Z"
   },
   {
    "duration": 135,
    "start_time": "2023-11-25T11:18:26.517Z"
   },
   {
    "duration": 140,
    "start_time": "2023-11-25T11:20:03.027Z"
   },
   {
    "duration": 147,
    "start_time": "2023-11-25T11:20:13.888Z"
   },
   {
    "duration": 143,
    "start_time": "2023-11-25T11:20:53.718Z"
   },
   {
    "duration": 156,
    "start_time": "2023-11-25T11:22:18.010Z"
   },
   {
    "duration": 169,
    "start_time": "2023-11-25T11:28:10.057Z"
   },
   {
    "duration": 809,
    "start_time": "2023-11-25T11:49:03.743Z"
   },
   {
    "duration": 1744,
    "start_time": "2023-11-25T11:49:04.553Z"
   },
   {
    "duration": 21,
    "start_time": "2023-11-25T11:49:06.299Z"
   },
   {
    "duration": 64,
    "start_time": "2023-11-25T11:49:06.321Z"
   },
   {
    "duration": 44,
    "start_time": "2023-11-25T11:49:06.387Z"
   },
   {
    "duration": 66,
    "start_time": "2023-11-25T11:49:06.433Z"
   },
   {
    "duration": 239,
    "start_time": "2023-11-25T11:49:06.501Z"
   },
   {
    "duration": 370,
    "start_time": "2023-11-25T11:49:06.741Z"
   },
   {
    "duration": 362,
    "start_time": "2023-11-25T11:49:07.112Z"
   },
   {
    "duration": 164,
    "start_time": "2023-11-25T11:49:07.475Z"
   },
   {
    "duration": 252,
    "start_time": "2023-11-25T11:49:07.641Z"
   },
   {
    "duration": 487,
    "start_time": "2023-11-25T11:49:07.895Z"
   },
   {
    "duration": 334,
    "start_time": "2023-11-25T11:49:08.384Z"
   },
   {
    "duration": 304,
    "start_time": "2023-11-25T11:49:08.721Z"
   },
   {
    "duration": 282,
    "start_time": "2023-11-25T11:49:09.026Z"
   },
   {
    "duration": 206,
    "start_time": "2023-11-25T11:49:09.310Z"
   },
   {
    "duration": 138,
    "start_time": "2023-11-25T11:49:09.518Z"
   },
   {
    "duration": 165,
    "start_time": "2023-11-25T11:49:09.658Z"
   },
   {
    "duration": 157,
    "start_time": "2023-11-25T11:49:09.825Z"
   },
   {
    "duration": 185,
    "start_time": "2023-11-25T11:49:09.984Z"
   },
   {
    "duration": 957,
    "start_time": "2023-11-25T11:49:10.173Z"
   },
   {
    "duration": 650,
    "start_time": "2023-11-25T11:49:11.132Z"
   },
   {
    "duration": 689,
    "start_time": "2023-11-25T11:49:11.784Z"
   },
   {
    "duration": 670,
    "start_time": "2023-11-25T11:49:12.474Z"
   },
   {
    "duration": 472,
    "start_time": "2023-11-25T11:49:13.146Z"
   },
   {
    "duration": 510,
    "start_time": "2023-11-25T11:49:13.619Z"
   },
   {
    "duration": 149,
    "start_time": "2023-11-25T11:49:14.130Z"
   },
   {
    "duration": 55,
    "start_time": "2023-11-25T11:49:14.281Z"
   },
   {
    "duration": 576,
    "start_time": "2023-11-25T11:49:14.338Z"
   },
   {
    "duration": 176,
    "start_time": "2023-11-25T11:49:14.916Z"
   },
   {
    "duration": 149,
    "start_time": "2023-11-25T11:54:06.766Z"
   },
   {
    "duration": 1711,
    "start_time": "2023-11-25T11:54:06.917Z"
   },
   {
    "duration": 20,
    "start_time": "2023-11-25T11:54:08.630Z"
   },
   {
    "duration": 73,
    "start_time": "2023-11-25T11:54:08.652Z"
   },
   {
    "duration": 63,
    "start_time": "2023-11-25T11:54:08.726Z"
   },
   {
    "duration": 48,
    "start_time": "2023-11-25T11:54:08.791Z"
   },
   {
    "duration": 245,
    "start_time": "2023-11-25T11:54:08.872Z"
   },
   {
    "duration": 463,
    "start_time": "2023-11-25T11:54:09.119Z"
   },
   {
    "duration": 349,
    "start_time": "2023-11-25T11:54:09.583Z"
   },
   {
    "duration": 173,
    "start_time": "2023-11-25T11:54:09.935Z"
   },
   {
    "duration": 201,
    "start_time": "2023-11-25T11:54:10.110Z"
   },
   {
    "duration": 484,
    "start_time": "2023-11-25T11:54:10.313Z"
   },
   {
    "duration": 447,
    "start_time": "2023-11-25T11:54:10.798Z"
   },
   {
    "duration": 294,
    "start_time": "2023-11-25T11:54:11.247Z"
   },
   {
    "duration": 286,
    "start_time": "2023-11-25T11:54:11.543Z"
   },
   {
    "duration": 122,
    "start_time": "2023-11-25T11:54:11.830Z"
   },
   {
    "duration": 157,
    "start_time": "2023-11-25T11:54:11.953Z"
   },
   {
    "duration": 171,
    "start_time": "2023-11-25T11:54:12.111Z"
   },
   {
    "duration": 157,
    "start_time": "2023-11-25T11:54:12.283Z"
   },
   {
    "duration": 177,
    "start_time": "2023-11-25T11:54:12.441Z"
   },
   {
    "duration": 884,
    "start_time": "2023-11-25T11:54:12.619Z"
   },
   {
    "duration": 805,
    "start_time": "2023-11-25T11:54:13.505Z"
   },
   {
    "duration": 683,
    "start_time": "2023-11-25T11:54:14.312Z"
   },
   {
    "duration": 692,
    "start_time": "2023-11-25T11:54:14.997Z"
   },
   {
    "duration": 482,
    "start_time": "2023-11-25T11:54:15.691Z"
   },
   {
    "duration": 509,
    "start_time": "2023-11-25T11:54:16.175Z"
   },
   {
    "duration": 161,
    "start_time": "2023-11-25T11:54:16.686Z"
   },
   {
    "duration": 38,
    "start_time": "2023-11-25T11:54:16.850Z"
   },
   {
    "duration": 392,
    "start_time": "2023-11-25T11:54:16.890Z"
   },
   {
    "duration": 200,
    "start_time": "2023-11-25T11:54:17.284Z"
   },
   {
    "duration": 1023,
    "start_time": "2023-11-26T11:06:49.220Z"
   },
   {
    "duration": 1881,
    "start_time": "2023-11-26T11:06:50.245Z"
   },
   {
    "duration": 21,
    "start_time": "2023-11-26T11:06:52.127Z"
   },
   {
    "duration": 72,
    "start_time": "2023-11-26T11:06:52.149Z"
   },
   {
    "duration": 50,
    "start_time": "2023-11-26T11:06:52.223Z"
   },
   {
    "duration": 69,
    "start_time": "2023-11-26T11:06:52.274Z"
   },
   {
    "duration": 248,
    "start_time": "2023-11-26T11:06:52.344Z"
   },
   {
    "duration": 375,
    "start_time": "2023-11-26T11:06:52.593Z"
   },
   {
    "duration": 388,
    "start_time": "2023-11-26T11:06:52.970Z"
   },
   {
    "duration": 186,
    "start_time": "2023-11-26T11:06:53.360Z"
   },
   {
    "duration": 275,
    "start_time": "2023-11-26T11:06:53.548Z"
   },
   {
    "duration": 510,
    "start_time": "2023-11-26T11:06:53.825Z"
   },
   {
    "duration": 344,
    "start_time": "2023-11-26T11:06:54.336Z"
   },
   {
    "duration": 314,
    "start_time": "2023-11-26T11:06:54.682Z"
   },
   {
    "duration": 308,
    "start_time": "2023-11-26T11:06:54.997Z"
   },
   {
    "duration": 217,
    "start_time": "2023-11-26T11:06:55.314Z"
   },
   {
    "duration": 151,
    "start_time": "2023-11-26T11:06:55.533Z"
   },
   {
    "duration": 176,
    "start_time": "2023-11-26T11:06:55.685Z"
   },
   {
    "duration": 165,
    "start_time": "2023-11-26T11:06:55.863Z"
   },
   {
    "duration": 177,
    "start_time": "2023-11-26T11:06:56.029Z"
   },
   {
    "duration": 1012,
    "start_time": "2023-11-26T11:06:56.208Z"
   },
   {
    "duration": 682,
    "start_time": "2023-11-26T11:06:57.222Z"
   },
   {
    "duration": 722,
    "start_time": "2023-11-26T11:06:57.905Z"
   },
   {
    "duration": 725,
    "start_time": "2023-11-26T11:06:58.629Z"
   },
   {
    "duration": 491,
    "start_time": "2023-11-26T11:06:59.356Z"
   },
   {
    "duration": 517,
    "start_time": "2023-11-26T11:06:59.849Z"
   },
   {
    "duration": 164,
    "start_time": "2023-11-26T11:07:00.367Z"
   },
   {
    "duration": 81,
    "start_time": "2023-11-26T11:07:00.533Z"
   },
   {
    "duration": 510,
    "start_time": "2023-11-26T11:07:00.616Z"
   },
   {
    "duration": 206,
    "start_time": "2023-11-26T11:07:01.128Z"
   },
   {
    "duration": 5,
    "start_time": "2023-11-26T11:17:40.292Z"
   },
   {
    "duration": 1074,
    "start_time": "2023-12-03T08:34:40.674Z"
   },
   {
    "duration": 1473,
    "start_time": "2023-12-03T08:34:41.750Z"
   },
   {
    "duration": 17,
    "start_time": "2023-12-03T08:34:43.224Z"
   },
   {
    "duration": 54,
    "start_time": "2023-12-03T08:34:43.242Z"
   },
   {
    "duration": 44,
    "start_time": "2023-12-03T08:34:43.297Z"
   },
   {
    "duration": 44,
    "start_time": "2023-12-03T08:34:43.342Z"
   },
   {
    "duration": 209,
    "start_time": "2023-12-03T08:34:43.415Z"
   },
   {
    "duration": 335,
    "start_time": "2023-12-03T08:34:43.628Z"
   },
   {
    "duration": 293,
    "start_time": "2023-12-03T08:34:43.964Z"
   },
   {
    "duration": 141,
    "start_time": "2023-12-03T08:34:44.259Z"
   },
   {
    "duration": 216,
    "start_time": "2023-12-03T08:34:44.401Z"
   },
   {
    "duration": 391,
    "start_time": "2023-12-03T08:34:44.618Z"
   },
   {
    "duration": 281,
    "start_time": "2023-12-03T08:34:45.011Z"
   },
   {
    "duration": 242,
    "start_time": "2023-12-03T08:34:45.293Z"
   },
   {
    "duration": 251,
    "start_time": "2023-12-03T08:34:45.536Z"
   },
   {
    "duration": 103,
    "start_time": "2023-12-03T08:34:45.788Z"
   },
   {
    "duration": 171,
    "start_time": "2023-12-03T08:34:45.893Z"
   },
   {
    "duration": 140,
    "start_time": "2023-12-03T08:34:46.066Z"
   },
   {
    "duration": 130,
    "start_time": "2023-12-03T08:34:46.208Z"
   },
   {
    "duration": 144,
    "start_time": "2023-12-03T08:34:46.339Z"
   },
   {
    "duration": 1184,
    "start_time": "2023-12-03T08:35:11.802Z"
   },
   {
    "duration": 774,
    "start_time": "2023-12-03T09:27:25.741Z"
   },
   {
    "duration": 492,
    "start_time": "2023-12-03T09:28:58.191Z"
   },
   {
    "duration": 434,
    "start_time": "2023-12-03T09:29:05.137Z"
   },
   {
    "duration": 424,
    "start_time": "2023-12-03T09:29:15.123Z"
   },
   {
    "duration": 43,
    "start_time": "2023-12-03T09:32:28.797Z"
   },
   {
    "duration": 41,
    "start_time": "2023-12-03T09:34:33.428Z"
   },
   {
    "duration": 58,
    "start_time": "2023-12-03T09:37:26.843Z"
   },
   {
    "duration": 29,
    "start_time": "2023-12-03T09:37:45.029Z"
   },
   {
    "duration": 39,
    "start_time": "2023-12-03T09:37:49.373Z"
   },
   {
    "duration": 27,
    "start_time": "2023-12-03T10:10:15.099Z"
   },
   {
    "duration": 48,
    "start_time": "2023-12-03T10:10:30.348Z"
   },
   {
    "duration": 46,
    "start_time": "2023-12-06T20:09:51.402Z"
   },
   {
    "duration": 988,
    "start_time": "2023-12-06T20:09:58.334Z"
   },
   {
    "duration": 1793,
    "start_time": "2023-12-06T20:09:59.324Z"
   },
   {
    "duration": 20,
    "start_time": "2023-12-06T20:10:01.119Z"
   },
   {
    "duration": 81,
    "start_time": "2023-12-06T20:10:01.141Z"
   },
   {
    "duration": 47,
    "start_time": "2023-12-06T20:10:01.224Z"
   },
   {
    "duration": 59,
    "start_time": "2023-12-06T20:10:01.272Z"
   },
   {
    "duration": 244,
    "start_time": "2023-12-06T20:10:01.332Z"
   },
   {
    "duration": 393,
    "start_time": "2023-12-06T20:10:01.577Z"
   },
   {
    "duration": 367,
    "start_time": "2023-12-06T20:10:01.971Z"
   },
   {
    "duration": 175,
    "start_time": "2023-12-06T20:10:02.340Z"
   },
   {
    "duration": 272,
    "start_time": "2023-12-06T20:10:02.516Z"
   },
   {
    "duration": 505,
    "start_time": "2023-12-06T20:10:02.790Z"
   },
   {
    "duration": 358,
    "start_time": "2023-12-06T20:10:03.298Z"
   },
   {
    "duration": 330,
    "start_time": "2023-12-06T20:10:03.658Z"
   },
   {
    "duration": 291,
    "start_time": "2023-12-06T20:10:03.990Z"
   },
   {
    "duration": 134,
    "start_time": "2023-12-06T20:10:04.283Z"
   },
   {
    "duration": 236,
    "start_time": "2023-12-06T20:10:04.419Z"
   },
   {
    "duration": 172,
    "start_time": "2023-12-06T20:10:04.656Z"
   },
   {
    "duration": 169,
    "start_time": "2023-12-06T20:10:04.830Z"
   },
   {
    "duration": 191,
    "start_time": "2023-12-06T20:10:05.000Z"
   },
   {
    "duration": 870,
    "start_time": "2023-12-06T20:10:05.193Z"
   },
   {
    "duration": 582,
    "start_time": "2023-12-06T20:10:06.065Z"
   },
   {
    "duration": 504,
    "start_time": "2023-12-06T20:10:06.648Z"
   },
   {
    "duration": 510,
    "start_time": "2023-12-06T20:10:07.154Z"
   },
   {
    "duration": 60,
    "start_time": "2023-12-06T20:10:07.666Z"
   },
   {
    "duration": 45,
    "start_time": "2023-12-06T20:10:07.727Z"
   },
   {
    "duration": 75,
    "start_time": "2023-12-06T20:10:07.774Z"
   },
   {
    "duration": 325,
    "start_time": "2023-12-06T20:10:07.852Z"
   },
   {
    "duration": 196,
    "start_time": "2023-12-06T20:12:46.379Z"
   },
   {
    "duration": 181,
    "start_time": "2023-12-06T20:13:24.008Z"
   },
   {
    "duration": 179,
    "start_time": "2023-12-06T20:13:38.158Z"
   },
   {
    "duration": 309,
    "start_time": "2023-12-06T20:13:52.692Z"
   },
   {
    "duration": 212,
    "start_time": "2023-12-06T20:14:59.394Z"
   },
   {
    "duration": 51,
    "start_time": "2023-12-06T21:12:59.128Z"
   },
   {
    "duration": 724,
    "start_time": "2023-12-06T21:13:40.267Z"
   },
   {
    "duration": 1844,
    "start_time": "2023-12-06T21:13:44.833Z"
   },
   {
    "duration": 20,
    "start_time": "2023-12-06T21:13:55.746Z"
   },
   {
    "duration": 71,
    "start_time": "2023-12-06T21:14:02.237Z"
   },
   {
    "duration": 66,
    "start_time": "2023-12-06T21:16:02.089Z"
   },
   {
    "duration": 57,
    "start_time": "2023-12-06T21:17:27.313Z"
   },
   {
    "duration": 59,
    "start_time": "2023-12-06T21:19:33.709Z"
   },
   {
    "duration": 63,
    "start_time": "2023-12-06T21:19:51.453Z"
   },
   {
    "duration": 75,
    "start_time": "2023-12-06T21:20:08.308Z"
   },
   {
    "duration": 68,
    "start_time": "2023-12-06T21:20:46.077Z"
   },
   {
    "duration": 794,
    "start_time": "2023-12-06T21:21:45.013Z"
   },
   {
    "duration": 1800,
    "start_time": "2023-12-06T21:21:45.813Z"
   },
   {
    "duration": 19,
    "start_time": "2023-12-06T21:21:47.615Z"
   },
   {
    "duration": 83,
    "start_time": "2023-12-06T21:21:47.637Z"
   },
   {
    "duration": 90,
    "start_time": "2023-12-06T21:21:47.721Z"
   },
   {
    "duration": 0,
    "start_time": "2023-12-06T21:21:47.814Z"
   },
   {
    "duration": 0,
    "start_time": "2023-12-06T21:21:47.815Z"
   },
   {
    "duration": 0,
    "start_time": "2023-12-06T21:21:47.816Z"
   },
   {
    "duration": 0,
    "start_time": "2023-12-06T21:21:47.817Z"
   },
   {
    "duration": 0,
    "start_time": "2023-12-06T21:21:47.818Z"
   },
   {
    "duration": 0,
    "start_time": "2023-12-06T21:21:47.818Z"
   },
   {
    "duration": 0,
    "start_time": "2023-12-06T21:21:47.819Z"
   },
   {
    "duration": 0,
    "start_time": "2023-12-06T21:21:47.820Z"
   },
   {
    "duration": 0,
    "start_time": "2023-12-06T21:21:47.821Z"
   },
   {
    "duration": 0,
    "start_time": "2023-12-06T21:21:47.823Z"
   },
   {
    "duration": 0,
    "start_time": "2023-12-06T21:21:47.823Z"
   },
   {
    "duration": 0,
    "start_time": "2023-12-06T21:21:47.825Z"
   },
   {
    "duration": 0,
    "start_time": "2023-12-06T21:21:47.826Z"
   },
   {
    "duration": 0,
    "start_time": "2023-12-06T21:21:47.826Z"
   },
   {
    "duration": 0,
    "start_time": "2023-12-06T21:21:47.827Z"
   },
   {
    "duration": 0,
    "start_time": "2023-12-06T21:21:47.828Z"
   },
   {
    "duration": 0,
    "start_time": "2023-12-06T21:21:47.829Z"
   },
   {
    "duration": 0,
    "start_time": "2023-12-06T21:21:47.830Z"
   },
   {
    "duration": 0,
    "start_time": "2023-12-06T21:21:47.831Z"
   },
   {
    "duration": 0,
    "start_time": "2023-12-06T21:21:47.832Z"
   },
   {
    "duration": 0,
    "start_time": "2023-12-06T21:21:47.832Z"
   },
   {
    "duration": 0,
    "start_time": "2023-12-06T21:21:47.833Z"
   },
   {
    "duration": 0,
    "start_time": "2023-12-06T21:21:47.834Z"
   },
   {
    "duration": 0,
    "start_time": "2023-12-06T21:21:47.835Z"
   },
   {
    "duration": 59,
    "start_time": "2023-12-06T21:24:51.751Z"
   },
   {
    "duration": 58,
    "start_time": "2023-12-06T21:26:12.957Z"
   },
   {
    "duration": 730,
    "start_time": "2023-12-06T21:26:37.354Z"
   },
   {
    "duration": 1840,
    "start_time": "2023-12-06T21:26:38.085Z"
   },
   {
    "duration": 20,
    "start_time": "2023-12-06T21:26:39.927Z"
   },
   {
    "duration": 74,
    "start_time": "2023-12-06T21:26:39.949Z"
   },
   {
    "duration": 49,
    "start_time": "2023-12-06T21:26:40.025Z"
   },
   {
    "duration": 34,
    "start_time": "2023-12-06T21:26:40.076Z"
   },
   {
    "duration": 296,
    "start_time": "2023-12-06T21:26:40.112Z"
   },
   {
    "duration": 352,
    "start_time": "2023-12-06T21:26:40.413Z"
   },
   {
    "duration": 392,
    "start_time": "2023-12-06T21:26:40.767Z"
   },
   {
    "duration": 168,
    "start_time": "2023-12-06T21:26:41.161Z"
   },
   {
    "duration": 252,
    "start_time": "2023-12-06T21:26:41.331Z"
   },
   {
    "duration": 520,
    "start_time": "2023-12-06T21:26:41.584Z"
   },
   {
    "duration": 315,
    "start_time": "2023-12-06T21:26:42.109Z"
   },
   {
    "duration": 297,
    "start_time": "2023-12-06T21:26:42.425Z"
   },
   {
    "duration": 295,
    "start_time": "2023-12-06T21:26:42.724Z"
   },
   {
    "duration": 130,
    "start_time": "2023-12-06T21:26:43.021Z"
   },
   {
    "duration": 240,
    "start_time": "2023-12-06T21:26:43.153Z"
   },
   {
    "duration": 185,
    "start_time": "2023-12-06T21:26:43.394Z"
   },
   {
    "duration": 154,
    "start_time": "2023-12-06T21:26:43.581Z"
   },
   {
    "duration": 182,
    "start_time": "2023-12-06T21:26:43.737Z"
   },
   {
    "duration": 887,
    "start_time": "2023-12-06T21:26:43.920Z"
   },
   {
    "duration": 620,
    "start_time": "2023-12-06T21:26:44.809Z"
   },
   {
    "duration": 540,
    "start_time": "2023-12-06T21:26:45.431Z"
   },
   {
    "duration": 539,
    "start_time": "2023-12-06T21:26:45.972Z"
   },
   {
    "duration": 58,
    "start_time": "2023-12-06T21:26:46.513Z"
   },
   {
    "duration": 62,
    "start_time": "2023-12-06T21:26:46.573Z"
   },
   {
    "duration": 76,
    "start_time": "2023-12-06T21:26:46.636Z"
   },
   {
    "duration": 340,
    "start_time": "2023-12-06T21:26:46.716Z"
   },
   {
    "duration": 189,
    "start_time": "2023-12-06T21:26:47.058Z"
   },
   {
    "duration": 60,
    "start_time": "2023-12-06T21:29:49.343Z"
   },
   {
    "duration": 722,
    "start_time": "2023-12-06T21:30:19.560Z"
   },
   {
    "duration": 1797,
    "start_time": "2023-12-06T21:30:24.040Z"
   },
   {
    "duration": 20,
    "start_time": "2023-12-06T21:30:30.857Z"
   },
   {
    "duration": 72,
    "start_time": "2023-12-06T21:30:35.323Z"
   },
   {
    "duration": 85,
    "start_time": "2023-12-06T21:32:05.247Z"
   },
   {
    "duration": 77,
    "start_time": "2023-12-06T21:32:36.547Z"
   },
   {
    "duration": 77,
    "start_time": "2023-12-06T21:33:46.446Z"
   },
   {
    "duration": 809,
    "start_time": "2023-12-06T21:35:09.781Z"
   },
   {
    "duration": 1830,
    "start_time": "2023-12-06T21:35:10.607Z"
   },
   {
    "duration": 20,
    "start_time": "2023-12-06T21:35:12.439Z"
   },
   {
    "duration": 96,
    "start_time": "2023-12-06T21:35:12.461Z"
   },
   {
    "duration": 58,
    "start_time": "2023-12-06T21:35:12.559Z"
   },
   {
    "duration": 49,
    "start_time": "2023-12-06T21:35:12.619Z"
   },
   {
    "duration": 246,
    "start_time": "2023-12-06T21:35:12.700Z"
   },
   {
    "duration": 369,
    "start_time": "2023-12-06T21:35:12.948Z"
   },
   {
    "duration": 393,
    "start_time": "2023-12-06T21:35:13.319Z"
   },
   {
    "duration": 157,
    "start_time": "2023-12-06T21:35:13.716Z"
   },
   {
    "duration": 268,
    "start_time": "2023-12-06T21:35:13.874Z"
   },
   {
    "duration": 513,
    "start_time": "2023-12-06T21:35:14.144Z"
   },
   {
    "duration": 318,
    "start_time": "2023-12-06T21:35:14.658Z"
   },
   {
    "duration": 311,
    "start_time": "2023-12-06T21:35:14.977Z"
   },
   {
    "duration": 353,
    "start_time": "2023-12-06T21:35:15.290Z"
   },
   {
    "duration": 133,
    "start_time": "2023-12-06T21:35:15.645Z"
   },
   {
    "duration": 253,
    "start_time": "2023-12-06T21:35:15.780Z"
   },
   {
    "duration": 182,
    "start_time": "2023-12-06T21:35:16.034Z"
   },
   {
    "duration": 145,
    "start_time": "2023-12-06T21:35:16.218Z"
   },
   {
    "duration": 180,
    "start_time": "2023-12-06T21:35:16.365Z"
   },
   {
    "duration": 887,
    "start_time": "2023-12-06T21:35:16.546Z"
   },
   {
    "duration": 600,
    "start_time": "2023-12-06T21:35:17.435Z"
   },
   {
    "duration": 520,
    "start_time": "2023-12-06T21:35:18.037Z"
   },
   {
    "duration": 553,
    "start_time": "2023-12-06T21:35:18.559Z"
   },
   {
    "duration": 48,
    "start_time": "2023-12-06T21:35:19.114Z"
   },
   {
    "duration": 81,
    "start_time": "2023-12-06T21:35:19.164Z"
   },
   {
    "duration": 72,
    "start_time": "2023-12-06T21:35:19.247Z"
   },
   {
    "duration": 325,
    "start_time": "2023-12-06T21:35:19.321Z"
   },
   {
    "duration": 188,
    "start_time": "2023-12-06T21:35:19.647Z"
   },
   {
    "duration": 277,
    "start_time": "2023-12-06T21:39:27.754Z"
   },
   {
    "duration": 611,
    "start_time": "2023-12-06T21:42:34.509Z"
   },
   {
    "duration": 54,
    "start_time": "2023-12-06T21:54:22.727Z"
   },
   {
    "duration": 74,
    "start_time": "2023-12-06T21:55:46.918Z"
   },
   {
    "duration": 775,
    "start_time": "2023-12-06T22:17:43.235Z"
   },
   {
    "duration": 1853,
    "start_time": "2023-12-06T22:17:44.012Z"
   },
   {
    "duration": 20,
    "start_time": "2023-12-06T22:17:45.866Z"
   },
   {
    "duration": 84,
    "start_time": "2023-12-06T22:17:45.888Z"
   },
   {
    "duration": 62,
    "start_time": "2023-12-06T22:17:45.973Z"
   },
   {
    "duration": 75,
    "start_time": "2023-12-06T22:17:46.037Z"
   },
   {
    "duration": 236,
    "start_time": "2023-12-06T22:17:46.114Z"
   },
   {
    "duration": 387,
    "start_time": "2023-12-06T22:17:46.351Z"
   },
   {
    "duration": 370,
    "start_time": "2023-12-06T22:17:46.739Z"
   },
   {
    "duration": 163,
    "start_time": "2023-12-06T22:17:47.112Z"
   },
   {
    "duration": 259,
    "start_time": "2023-12-06T22:17:47.276Z"
   },
   {
    "duration": 488,
    "start_time": "2023-12-06T22:17:47.537Z"
   },
   {
    "duration": 318,
    "start_time": "2023-12-06T22:17:48.027Z"
   },
   {
    "duration": 347,
    "start_time": "2023-12-06T22:17:48.347Z"
   },
   {
    "duration": 396,
    "start_time": "2023-12-06T22:17:48.699Z"
   },
   {
    "duration": 121,
    "start_time": "2023-12-06T22:17:49.104Z"
   },
   {
    "duration": 231,
    "start_time": "2023-12-06T22:17:49.227Z"
   },
   {
    "duration": 171,
    "start_time": "2023-12-06T22:17:49.460Z"
   },
   {
    "duration": 150,
    "start_time": "2023-12-06T22:17:49.632Z"
   },
   {
    "duration": 198,
    "start_time": "2023-12-06T22:17:49.784Z"
   },
   {
    "duration": 500,
    "start_time": "2023-12-06T22:17:49.983Z"
   },
   {
    "duration": 496,
    "start_time": "2023-12-06T22:17:50.485Z"
   },
   {
    "duration": 642,
    "start_time": "2023-12-06T22:17:50.982Z"
   },
   {
    "duration": 516,
    "start_time": "2023-12-06T22:17:51.626Z"
   },
   {
    "duration": 94,
    "start_time": "2023-12-06T22:17:52.144Z"
   },
   {
    "duration": 42,
    "start_time": "2023-12-06T22:17:52.240Z"
   },
   {
    "duration": 81,
    "start_time": "2023-12-06T22:17:52.283Z"
   },
   {
    "duration": 319,
    "start_time": "2023-12-06T22:17:52.367Z"
   },
   {
    "duration": 198,
    "start_time": "2023-12-06T22:17:52.687Z"
   }
  ],
  "kernelspec": {
   "display_name": "Python 3 (ipykernel)",
   "language": "python",
   "name": "python3"
  },
  "language_info": {
   "codemirror_mode": {
    "name": "ipython",
    "version": 3
   },
   "file_extension": ".py",
   "mimetype": "text/x-python",
   "name": "python",
   "nbconvert_exporter": "python",
   "pygments_lexer": "ipython3",
   "version": "3.11.5"
  },
  "toc": {
   "base_numbering": 1,
   "nav_menu": {},
   "number_sections": true,
   "sideBar": true,
   "skip_h1_title": true,
   "title_cell": "Table of Contents",
   "title_sidebar": "Contents",
   "toc_cell": false,
   "toc_position": {},
   "toc_section_display": true,
   "toc_window_display": false
  }
 },
 "nbformat": 4,
 "nbformat_minor": 2
}
