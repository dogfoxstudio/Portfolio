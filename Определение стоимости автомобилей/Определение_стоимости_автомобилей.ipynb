{
 "cells": [
  {
   "cell_type": "markdown",
   "metadata": {},
   "source": [
    "# Определение стоимости автомобилей"
   ]
  },
  {
   "cell_type": "markdown",
   "metadata": {},
   "source": [
    "Сервис по продаже автомобилей с пробегом «Не бит, не крашен» разрабатывает приложение для привлечения новых клиентов. В нём можно быстро узнать рыночную стоимость своего автомобиля. В вашем распоряжении исторические данные: технические характеристики, комплектации и цены автомобилей. Необходимо построить модель для определения стоимости. \n",
    "\n",
    "Заказчику важны:\n",
    "\n",
    "- качество предсказания;\n",
    "- скорость предсказания;\n",
    "- время обучения."
   ]
  },
  {
   "cell_type": "markdown",
   "metadata": {},
   "source": [
    "## Подготовка к работе"
   ]
  },
  {
   "cell_type": "code",
   "execution_count": 1,
   "metadata": {},
   "outputs": [],
   "source": [
    "!pip install phik -q\n",
    "#!pip install numpy==1.23.1 -q\n",
    "#!pip install numba -U -q\n",
    "!pip install scikit-learn -U -q \n",
    "#!pip install scipy -U -q \n",
    "#!pip install shap -U -q"
   ]
  },
  {
   "cell_type": "code",
   "execution_count": 2,
   "metadata": {},
   "outputs": [
    {
     "name": "stdout",
     "output_type": "stream",
     "text": [
      "Requirement already satisfied: catboost in /opt/conda/lib/python3.9/site-packages (1.0.3)\n",
      "Requirement already satisfied: scipy in /opt/conda/lib/python3.9/site-packages (from catboost) (1.9.1)\n",
      "Requirement already satisfied: numpy>=1.16.0 in /opt/conda/lib/python3.9/site-packages (from catboost) (1.21.1)\n",
      "Requirement already satisfied: plotly in /opt/conda/lib/python3.9/site-packages (from catboost) (5.4.0)\n",
      "Requirement already satisfied: graphviz in /opt/conda/lib/python3.9/site-packages (from catboost) (0.20.1)\n",
      "Requirement already satisfied: matplotlib in /opt/conda/lib/python3.9/site-packages (from catboost) (3.3.4)\n",
      "Requirement already satisfied: pandas>=0.24.0 in /opt/conda/lib/python3.9/site-packages (from catboost) (1.2.4)\n",
      "Requirement already satisfied: six in /opt/conda/lib/python3.9/site-packages (from catboost) (1.16.0)\n",
      "Requirement already satisfied: python-dateutil>=2.7.3 in /opt/conda/lib/python3.9/site-packages (from pandas>=0.24.0->catboost) (2.8.1)\n",
      "Requirement already satisfied: pytz>=2017.3 in /opt/conda/lib/python3.9/site-packages (from pandas>=0.24.0->catboost) (2021.1)\n",
      "Requirement already satisfied: cycler>=0.10 in /opt/conda/lib/python3.9/site-packages (from matplotlib->catboost) (0.11.0)\n",
      "Requirement already satisfied: pillow>=6.2.0 in /opt/conda/lib/python3.9/site-packages (from matplotlib->catboost) (8.4.0)\n",
      "Requirement already satisfied: kiwisolver>=1.0.1 in /opt/conda/lib/python3.9/site-packages (from matplotlib->catboost) (1.4.4)\n",
      "Requirement already satisfied: pyparsing!=2.0.4,!=2.1.2,!=2.1.6,>=2.0.3 in /opt/conda/lib/python3.9/site-packages (from matplotlib->catboost) (2.4.7)\n",
      "Requirement already satisfied: tenacity>=6.2.0 in /opt/conda/lib/python3.9/site-packages (from plotly->catboost) (8.0.1)\n",
      "Requirement already satisfied: lightgbm in /opt/conda/lib/python3.9/site-packages (3.3.1)\n",
      "Requirement already satisfied: numpy in /opt/conda/lib/python3.9/site-packages (from lightgbm) (1.21.1)\n",
      "Requirement already satisfied: scikit-learn!=0.22.0 in /opt/conda/lib/python3.9/site-packages (from lightgbm) (1.4.2)\n",
      "Requirement already satisfied: scipy in /opt/conda/lib/python3.9/site-packages (from lightgbm) (1.9.1)\n",
      "Requirement already satisfied: wheel in /opt/conda/lib/python3.9/site-packages (from lightgbm) (0.36.2)\n",
      "Requirement already satisfied: joblib>=1.2.0 in /opt/conda/lib/python3.9/site-packages (from scikit-learn!=0.22.0->lightgbm) (1.4.0)\n",
      "Requirement already satisfied: threadpoolctl>=2.0.0 in /opt/conda/lib/python3.9/site-packages (from scikit-learn!=0.22.0->lightgbm) (3.1.0)\n"
     ]
    }
   ],
   "source": [
    "!pip install catboost\n",
    "!pip install lightgbm"
   ]
  },
  {
   "cell_type": "code",
   "execution_count": 3,
   "metadata": {},
   "outputs": [
    {
     "data": {
      "text/html": [
       "<style>.container { width:80% !important; }</style>"
      ],
      "text/plain": [
       "<IPython.core.display.HTML object>"
      ]
     },
     "metadata": {},
     "output_type": "display_data"
    }
   ],
   "source": [
    "from IPython.core.display import display, HTML\n",
    "\n",
    "display(HTML(\"<style>.container { width:80% !important; }</style>\"))\n",
    "\n",
    "import time\n",
    "\n",
    "import pandas as pd\n",
    "import seaborn as sns\n",
    "import numpy as np\n",
    "from matplotlib import pyplot as plt\n",
    "from scipy import stats as st\n",
    "\n",
    "from sklearn.model_selection import train_test_split\n",
    "from sklearn.model_selection import GridSearchCV, RandomizedSearchCV\n",
    "\n",
    "from sklearn.pipeline import Pipeline\n",
    "from sklearn.compose import ColumnTransformer\n",
    "\n",
    "from sklearn.preprocessing import (\n",
    "    OneHotEncoder,\n",
    "    OrdinalEncoder,\n",
    "    StandardScaler,\n",
    "    MinMaxScaler,\n",
    "    LabelEncoder,\n",
    ")\n",
    "\n",
    "from sklearn.impute import SimpleImputer\n",
    "\n",
    "from sklearn.neighbors import KNeighborsRegressor\n",
    "from sklearn.linear_model import LinearRegression\n",
    "from sklearn.tree import DecisionTreeRegressor\n",
    "\n",
    "from sklearn.neighbors import KNeighborsClassifier\n",
    "from sklearn.linear_model import LogisticRegression\n",
    "from sklearn.tree import DecisionTreeClassifier\n",
    "from sklearn.svm import SVC\n",
    "\n",
    "from sklearn.dummy import DummyRegressor, DummyClassifier\n",
    "\n",
    "from sklearn.metrics import roc_auc_score, mean_squared_error\n",
    "from sklearn.metrics import fbeta_score\n",
    "from sklearn.metrics import make_scorer\n",
    "from sklearn.metrics import recall_score, precision_score\n",
    "from sklearn.metrics import confusion_matrix\n",
    "\n",
    "import lightgbm as lgb\n",
    "\n",
    "from catboost import CatBoostRegressor, Pool, metrics, cv\n",
    "\n",
    "\n",
    "from scipy import stats as st\n",
    "\n",
    "# import shap\n",
    "\n",
    "from phik.report import plot_correlation_matrix\n",
    "from phik import report\n",
    "\n",
    "import warnings"
   ]
  },
  {
   "cell_type": "code",
   "execution_count": 4,
   "metadata": {},
   "outputs": [],
   "source": [
    "RANDOM_STATE = 2024\n",
    "\n",
    "state = np.random.RandomState(RANDOM_STATE)"
   ]
  },
  {
   "cell_type": "markdown",
   "metadata": {},
   "source": [
    "## Загрузка и обзор данных\n",
    "### Загрузка данных"
   ]
  },
  {
   "cell_type": "code",
   "execution_count": 5,
   "metadata": {},
   "outputs": [],
   "source": [
    "df = pd.read_csv('...', parse_dates=['DateCrawled','DateCreated','LastSeen'])"
   ]
  },
  {
   "cell_type": "markdown",
   "metadata": {},
   "source": [
    "### Обзор данных"
   ]
  },
  {
   "cell_type": "code",
   "execution_count": 6,
   "metadata": {},
   "outputs": [
    {
     "data": {
      "text/html": [
       "<div>\n",
       "<style scoped>\n",
       "    .dataframe tbody tr th:only-of-type {\n",
       "        vertical-align: middle;\n",
       "    }\n",
       "\n",
       "    .dataframe tbody tr th {\n",
       "        vertical-align: top;\n",
       "    }\n",
       "\n",
       "    .dataframe thead th {\n",
       "        text-align: right;\n",
       "    }\n",
       "</style>\n",
       "<table border=\"1\" class=\"dataframe\">\n",
       "  <thead>\n",
       "    <tr style=\"text-align: right;\">\n",
       "      <th></th>\n",
       "      <th>DateCrawled</th>\n",
       "      <th>Price</th>\n",
       "      <th>VehicleType</th>\n",
       "      <th>RegistrationYear</th>\n",
       "      <th>Gearbox</th>\n",
       "      <th>Power</th>\n",
       "      <th>Model</th>\n",
       "      <th>Kilometer</th>\n",
       "      <th>RegistrationMonth</th>\n",
       "      <th>FuelType</th>\n",
       "      <th>Brand</th>\n",
       "      <th>Repaired</th>\n",
       "      <th>DateCreated</th>\n",
       "      <th>NumberOfPictures</th>\n",
       "      <th>PostalCode</th>\n",
       "      <th>LastSeen</th>\n",
       "    </tr>\n",
       "  </thead>\n",
       "  <tbody>\n",
       "    <tr>\n",
       "      <th>0</th>\n",
       "      <td>2016-03-24 11:52:17</td>\n",
       "      <td>480</td>\n",
       "      <td>NaN</td>\n",
       "      <td>1993</td>\n",
       "      <td>manual</td>\n",
       "      <td>0</td>\n",
       "      <td>golf</td>\n",
       "      <td>150000</td>\n",
       "      <td>0</td>\n",
       "      <td>petrol</td>\n",
       "      <td>volkswagen</td>\n",
       "      <td>NaN</td>\n",
       "      <td>2016-03-24</td>\n",
       "      <td>0</td>\n",
       "      <td>70435</td>\n",
       "      <td>2016-04-07 03:16:57</td>\n",
       "    </tr>\n",
       "    <tr>\n",
       "      <th>1</th>\n",
       "      <td>2016-03-24 10:58:45</td>\n",
       "      <td>18300</td>\n",
       "      <td>coupe</td>\n",
       "      <td>2011</td>\n",
       "      <td>manual</td>\n",
       "      <td>190</td>\n",
       "      <td>NaN</td>\n",
       "      <td>125000</td>\n",
       "      <td>5</td>\n",
       "      <td>gasoline</td>\n",
       "      <td>audi</td>\n",
       "      <td>yes</td>\n",
       "      <td>2016-03-24</td>\n",
       "      <td>0</td>\n",
       "      <td>66954</td>\n",
       "      <td>2016-04-07 01:46:50</td>\n",
       "    </tr>\n",
       "    <tr>\n",
       "      <th>2</th>\n",
       "      <td>2016-03-14 12:52:21</td>\n",
       "      <td>9800</td>\n",
       "      <td>suv</td>\n",
       "      <td>2004</td>\n",
       "      <td>auto</td>\n",
       "      <td>163</td>\n",
       "      <td>grand</td>\n",
       "      <td>125000</td>\n",
       "      <td>8</td>\n",
       "      <td>gasoline</td>\n",
       "      <td>jeep</td>\n",
       "      <td>NaN</td>\n",
       "      <td>2016-03-14</td>\n",
       "      <td>0</td>\n",
       "      <td>90480</td>\n",
       "      <td>2016-04-05 12:47:46</td>\n",
       "    </tr>\n",
       "    <tr>\n",
       "      <th>3</th>\n",
       "      <td>2016-03-17 16:54:04</td>\n",
       "      <td>1500</td>\n",
       "      <td>small</td>\n",
       "      <td>2001</td>\n",
       "      <td>manual</td>\n",
       "      <td>75</td>\n",
       "      <td>golf</td>\n",
       "      <td>150000</td>\n",
       "      <td>6</td>\n",
       "      <td>petrol</td>\n",
       "      <td>volkswagen</td>\n",
       "      <td>no</td>\n",
       "      <td>2016-03-17</td>\n",
       "      <td>0</td>\n",
       "      <td>91074</td>\n",
       "      <td>2016-03-17 17:40:17</td>\n",
       "    </tr>\n",
       "    <tr>\n",
       "      <th>4</th>\n",
       "      <td>2016-03-31 17:25:20</td>\n",
       "      <td>3600</td>\n",
       "      <td>small</td>\n",
       "      <td>2008</td>\n",
       "      <td>manual</td>\n",
       "      <td>69</td>\n",
       "      <td>fabia</td>\n",
       "      <td>90000</td>\n",
       "      <td>7</td>\n",
       "      <td>gasoline</td>\n",
       "      <td>skoda</td>\n",
       "      <td>no</td>\n",
       "      <td>2016-03-31</td>\n",
       "      <td>0</td>\n",
       "      <td>60437</td>\n",
       "      <td>2016-04-06 10:17:21</td>\n",
       "    </tr>\n",
       "  </tbody>\n",
       "</table>\n",
       "</div>"
      ],
      "text/plain": [
       "          DateCrawled  Price VehicleType  RegistrationYear Gearbox  Power  \\\n",
       "0 2016-03-24 11:52:17    480         NaN              1993  manual      0   \n",
       "1 2016-03-24 10:58:45  18300       coupe              2011  manual    190   \n",
       "2 2016-03-14 12:52:21   9800         suv              2004    auto    163   \n",
       "3 2016-03-17 16:54:04   1500       small              2001  manual     75   \n",
       "4 2016-03-31 17:25:20   3600       small              2008  manual     69   \n",
       "\n",
       "   Model  Kilometer  RegistrationMonth  FuelType       Brand Repaired  \\\n",
       "0   golf     150000                  0    petrol  volkswagen      NaN   \n",
       "1    NaN     125000                  5  gasoline        audi      yes   \n",
       "2  grand     125000                  8  gasoline        jeep      NaN   \n",
       "3   golf     150000                  6    petrol  volkswagen       no   \n",
       "4  fabia      90000                  7  gasoline       skoda       no   \n",
       "\n",
       "  DateCreated  NumberOfPictures  PostalCode            LastSeen  \n",
       "0  2016-03-24                 0       70435 2016-04-07 03:16:57  \n",
       "1  2016-03-24                 0       66954 2016-04-07 01:46:50  \n",
       "2  2016-03-14                 0       90480 2016-04-05 12:47:46  \n",
       "3  2016-03-17                 0       91074 2016-03-17 17:40:17  \n",
       "4  2016-03-31                 0       60437 2016-04-06 10:17:21  "
      ]
     },
     "metadata": {},
     "output_type": "display_data"
    },
    {
     "name": "stdout",
     "output_type": "stream",
     "text": [
      "<class 'pandas.core.frame.DataFrame'>\n",
      "RangeIndex: 354369 entries, 0 to 354368\n",
      "Data columns (total 16 columns):\n",
      " #   Column             Non-Null Count   Dtype         \n",
      "---  ------             --------------   -----         \n",
      " 0   DateCrawled        354369 non-null  datetime64[ns]\n",
      " 1   Price              354369 non-null  int64         \n",
      " 2   VehicleType        316879 non-null  object        \n",
      " 3   RegistrationYear   354369 non-null  int64         \n",
      " 4   Gearbox            334536 non-null  object        \n",
      " 5   Power              354369 non-null  int64         \n",
      " 6   Model              334664 non-null  object        \n",
      " 7   Kilometer          354369 non-null  int64         \n",
      " 8   RegistrationMonth  354369 non-null  int64         \n",
      " 9   FuelType           321474 non-null  object        \n",
      " 10  Brand              354369 non-null  object        \n",
      " 11  Repaired           283215 non-null  object        \n",
      " 12  DateCreated        354369 non-null  datetime64[ns]\n",
      " 13  NumberOfPictures   354369 non-null  int64         \n",
      " 14  PostalCode         354369 non-null  int64         \n",
      " 15  LastSeen           354369 non-null  datetime64[ns]\n",
      "dtypes: datetime64[ns](3), int64(7), object(6)\n",
      "memory usage: 43.3+ MB\n"
     ]
    },
    {
     "data": {
      "text/plain": [
       "None"
      ]
     },
     "metadata": {},
     "output_type": "display_data"
    }
   ],
   "source": [
    "display(df.head())\n",
    "display(df.info())"
   ]
  },
  {
   "cell_type": "markdown",
   "metadata": {},
   "source": [
    "Как видно данные совпадают с предоставленным описанием структуры данных. Типы данных, за исключением столбцов с датами, выбраны корректно\n",
    "\n",
    "## Предобработка данных\n",
    "\n",
    "В этом разделе рассмотрим пропуски в данных и проведем необходимые преобразования типов и добавим необходимые столбцы.\n",
    "\n",
    "### Рассмотрение пропусков в данных\n",
    "\n",
    "Рассмотрим в каких каких столбцах сколько пропусков находится"
   ]
  },
  {
   "cell_type": "code",
   "execution_count": 7,
   "metadata": {
    "scrolled": true
   },
   "outputs": [
    {
     "name": "stdout",
     "output_type": "stream",
     "text": [
      "DateCrawled              0\n",
      "Price                    0\n",
      "VehicleType          37490\n",
      "RegistrationYear         0\n",
      "Gearbox              19833\n",
      "Power                    0\n",
      "Model                19705\n",
      "Kilometer                0\n",
      "RegistrationMonth        0\n",
      "FuelType             32895\n",
      "Brand                    0\n",
      "Repaired             71154\n",
      "DateCreated              0\n",
      "NumberOfPictures         0\n",
      "PostalCode               0\n",
      "LastSeen                 0\n",
      "dtype: int64\n",
      "Всего строк: 354369\n"
     ]
    }
   ],
   "source": [
    "print(df.isna().sum())\n",
    "\n",
    "print('Всего строк:', df.shape[0])"
   ]
  },
  {
   "cell_type": "markdown",
   "metadata": {},
   "source": [
    "Как видно в столбцах `VehicleType`, `Gearbox`, `Model`, `FuelType`, `Repaired` присутствуют пропуски. Все эти столбцы содержат категориальные признаки и заполнить их не представляется возможным (так например пропуски в `Gearbox` могут быть как действительно пропусками, так и например машины с роботами и вариаторами в случае если `auto` обозначат гидромеханический автомат). Однако можно предположить, что пропуски в столбце `Repaired` означает `no` (это точно неизвестно, но используем это предположение)\n",
    "\n",
    "Удаление строк с пропусками так же не лучшее решение т.к. они могут составлять до 20% исходных данных."
   ]
  },
  {
   "cell_type": "code",
   "execution_count": 8,
   "metadata": {},
   "outputs": [],
   "source": [
    "df['VehicleType'] = df['VehicleType'].fillna('unknown')\n",
    "df['Gearbox'] = df['Gearbox'].fillna('unknown')\n",
    "df['Model'] = df['Model'].fillna('unknown')\n",
    "df['FuelType'] = df['FuelType'].fillna('unknown')\n",
    "df['Repaired'] = df['Repaired'].fillna('no')"
   ]
  },
  {
   "cell_type": "markdown",
   "metadata": {},
   "source": [
    "### Дубликаты в данных\n",
    "\n",
    "Рассмотрим явные и неявные дубликаты в данных"
   ]
  },
  {
   "cell_type": "code",
   "execution_count": 9,
   "metadata": {},
   "outputs": [
    {
     "name": "stdout",
     "output_type": "stream",
     "text": [
      "Число явных дубликатов: 5\n",
      "['unknown' 'coupe' 'suv' 'small' 'sedan' 'convertible' 'bus' 'wagon'\n",
      " 'other']\n",
      "['manual' 'auto' 'unknown']\n",
      "['petrol' 'gasoline' 'unknown' 'lpg' 'other' 'hybrid' 'cng' 'electric']\n",
      "['no' 'yes']\n"
     ]
    }
   ],
   "source": [
    "print('Число явных дубликатов:', df.duplicated().sum())\n",
    "df = df.drop_duplicates()\n",
    "\n",
    "print(df['VehicleType'].unique())\n",
    "print(df['Gearbox'].unique())\n",
    "print(df['FuelType'].unique())\n",
    "print(df['Repaired'].unique())\n",
    "\n",
    "df['FuelType'] = df['FuelType'].replace('petrol','gasoline')"
   ]
  },
  {
   "cell_type": "markdown",
   "metadata": {},
   "source": [
    "В данных есть несколько явных дубликатов (удалим их), и присутсвует неявный дубликат `petrol`-`gasoline`\n",
    "\n",
    "### Преобразование типов\n",
    "\n",
    "Столбцы с датами были преобразованы к типу `datetime` при импорте"
   ]
  },
  {
   "cell_type": "code",
   "execution_count": 10,
   "metadata": {},
   "outputs": [
    {
     "data": {
      "text/html": [
       "<div>\n",
       "<style scoped>\n",
       "    .dataframe tbody tr th:only-of-type {\n",
       "        vertical-align: middle;\n",
       "    }\n",
       "\n",
       "    .dataframe tbody tr th {\n",
       "        vertical-align: top;\n",
       "    }\n",
       "\n",
       "    .dataframe thead th {\n",
       "        text-align: right;\n",
       "    }\n",
       "</style>\n",
       "<table border=\"1\" class=\"dataframe\">\n",
       "  <thead>\n",
       "    <tr style=\"text-align: right;\">\n",
       "      <th></th>\n",
       "      <th>DateCrawled</th>\n",
       "      <th>Price</th>\n",
       "      <th>VehicleType</th>\n",
       "      <th>RegistrationYear</th>\n",
       "      <th>Gearbox</th>\n",
       "      <th>Power</th>\n",
       "      <th>Model</th>\n",
       "      <th>Kilometer</th>\n",
       "      <th>RegistrationMonth</th>\n",
       "      <th>FuelType</th>\n",
       "      <th>Brand</th>\n",
       "      <th>Repaired</th>\n",
       "      <th>DateCreated</th>\n",
       "      <th>NumberOfPictures</th>\n",
       "      <th>PostalCode</th>\n",
       "      <th>LastSeen</th>\n",
       "    </tr>\n",
       "  </thead>\n",
       "  <tbody>\n",
       "    <tr>\n",
       "      <th>0</th>\n",
       "      <td>2016-03-24 11:52:17</td>\n",
       "      <td>480</td>\n",
       "      <td>unknown</td>\n",
       "      <td>1993</td>\n",
       "      <td>manual</td>\n",
       "      <td>0</td>\n",
       "      <td>golf</td>\n",
       "      <td>150000</td>\n",
       "      <td>0</td>\n",
       "      <td>gasoline</td>\n",
       "      <td>volkswagen</td>\n",
       "      <td>no</td>\n",
       "      <td>2016-03-24</td>\n",
       "      <td>0</td>\n",
       "      <td>70435</td>\n",
       "      <td>2016-04-07 03:16:57</td>\n",
       "    </tr>\n",
       "    <tr>\n",
       "      <th>1</th>\n",
       "      <td>2016-03-24 10:58:45</td>\n",
       "      <td>18300</td>\n",
       "      <td>coupe</td>\n",
       "      <td>2011</td>\n",
       "      <td>manual</td>\n",
       "      <td>190</td>\n",
       "      <td>unknown</td>\n",
       "      <td>125000</td>\n",
       "      <td>5</td>\n",
       "      <td>gasoline</td>\n",
       "      <td>audi</td>\n",
       "      <td>yes</td>\n",
       "      <td>2016-03-24</td>\n",
       "      <td>0</td>\n",
       "      <td>66954</td>\n",
       "      <td>2016-04-07 01:46:50</td>\n",
       "    </tr>\n",
       "    <tr>\n",
       "      <th>2</th>\n",
       "      <td>2016-03-14 12:52:21</td>\n",
       "      <td>9800</td>\n",
       "      <td>suv</td>\n",
       "      <td>2004</td>\n",
       "      <td>auto</td>\n",
       "      <td>163</td>\n",
       "      <td>grand</td>\n",
       "      <td>125000</td>\n",
       "      <td>8</td>\n",
       "      <td>gasoline</td>\n",
       "      <td>jeep</td>\n",
       "      <td>no</td>\n",
       "      <td>2016-03-14</td>\n",
       "      <td>0</td>\n",
       "      <td>90480</td>\n",
       "      <td>2016-04-05 12:47:46</td>\n",
       "    </tr>\n",
       "    <tr>\n",
       "      <th>3</th>\n",
       "      <td>2016-03-17 16:54:04</td>\n",
       "      <td>1500</td>\n",
       "      <td>small</td>\n",
       "      <td>2001</td>\n",
       "      <td>manual</td>\n",
       "      <td>75</td>\n",
       "      <td>golf</td>\n",
       "      <td>150000</td>\n",
       "      <td>6</td>\n",
       "      <td>gasoline</td>\n",
       "      <td>volkswagen</td>\n",
       "      <td>no</td>\n",
       "      <td>2016-03-17</td>\n",
       "      <td>0</td>\n",
       "      <td>91074</td>\n",
       "      <td>2016-03-17 17:40:17</td>\n",
       "    </tr>\n",
       "    <tr>\n",
       "      <th>4</th>\n",
       "      <td>2016-03-31 17:25:20</td>\n",
       "      <td>3600</td>\n",
       "      <td>small</td>\n",
       "      <td>2008</td>\n",
       "      <td>manual</td>\n",
       "      <td>69</td>\n",
       "      <td>fabia</td>\n",
       "      <td>90000</td>\n",
       "      <td>7</td>\n",
       "      <td>gasoline</td>\n",
       "      <td>skoda</td>\n",
       "      <td>no</td>\n",
       "      <td>2016-03-31</td>\n",
       "      <td>0</td>\n",
       "      <td>60437</td>\n",
       "      <td>2016-04-06 10:17:21</td>\n",
       "    </tr>\n",
       "  </tbody>\n",
       "</table>\n",
       "</div>"
      ],
      "text/plain": [
       "          DateCrawled  Price VehicleType  RegistrationYear Gearbox  Power  \\\n",
       "0 2016-03-24 11:52:17    480     unknown              1993  manual      0   \n",
       "1 2016-03-24 10:58:45  18300       coupe              2011  manual    190   \n",
       "2 2016-03-14 12:52:21   9800         suv              2004    auto    163   \n",
       "3 2016-03-17 16:54:04   1500       small              2001  manual     75   \n",
       "4 2016-03-31 17:25:20   3600       small              2008  manual     69   \n",
       "\n",
       "     Model  Kilometer  RegistrationMonth  FuelType       Brand Repaired  \\\n",
       "0     golf     150000                  0  gasoline  volkswagen       no   \n",
       "1  unknown     125000                  5  gasoline        audi      yes   \n",
       "2    grand     125000                  8  gasoline        jeep       no   \n",
       "3     golf     150000                  6  gasoline  volkswagen       no   \n",
       "4    fabia      90000                  7  gasoline       skoda       no   \n",
       "\n",
       "  DateCreated  NumberOfPictures  PostalCode            LastSeen  \n",
       "0  2016-03-24                 0       70435 2016-04-07 03:16:57  \n",
       "1  2016-03-24                 0       66954 2016-04-07 01:46:50  \n",
       "2  2016-03-14                 0       90480 2016-04-05 12:47:46  \n",
       "3  2016-03-17                 0       91074 2016-03-17 17:40:17  \n",
       "4  2016-03-31                 0       60437 2016-04-06 10:17:21  "
      ]
     },
     "metadata": {},
     "output_type": "display_data"
    },
    {
     "name": "stdout",
     "output_type": "stream",
     "text": [
      "<class 'pandas.core.frame.DataFrame'>\n",
      "Int64Index: 354364 entries, 0 to 354368\n",
      "Data columns (total 16 columns):\n",
      " #   Column             Non-Null Count   Dtype         \n",
      "---  ------             --------------   -----         \n",
      " 0   DateCrawled        354364 non-null  datetime64[ns]\n",
      " 1   Price              354364 non-null  int64         \n",
      " 2   VehicleType        354364 non-null  object        \n",
      " 3   RegistrationYear   354364 non-null  int64         \n",
      " 4   Gearbox            354364 non-null  object        \n",
      " 5   Power              354364 non-null  int64         \n",
      " 6   Model              354364 non-null  object        \n",
      " 7   Kilometer          354364 non-null  int64         \n",
      " 8   RegistrationMonth  354364 non-null  int64         \n",
      " 9   FuelType           354364 non-null  object        \n",
      " 10  Brand              354364 non-null  object        \n",
      " 11  Repaired           354364 non-null  object        \n",
      " 12  DateCreated        354364 non-null  datetime64[ns]\n",
      " 13  NumberOfPictures   354364 non-null  int64         \n",
      " 14  PostalCode         354364 non-null  int64         \n",
      " 15  LastSeen           354364 non-null  datetime64[ns]\n",
      "dtypes: datetime64[ns](3), int64(7), object(6)\n",
      "memory usage: 46.0+ MB\n"
     ]
    }
   ],
   "source": [
    "try:\n",
    "    pass\n",
    "    #df['DateCrawled'] = pd.to_datetime(df['DateCrawled'])\n",
    "    #df['DateCreated'] = pd.to_datetime(df['DateCreated'])\n",
    "    #df['LastSeen'] = pd.to_datetime(df['LastSeen'])\n",
    "except:\n",
    "    pass\n",
    "display(df.head())\n",
    "df.info()"
   ]
  },
  {
   "cell_type": "markdown",
   "metadata": {},
   "source": [
    "### Итоги предобработки данных\n",
    "\n",
    "В ходе предобработки данных были обнаружены пропуски, заполнить или удалить которые не представляется возможным. Твкже были удалены явные дубликаты и проведено преобразование типов для дат\n",
    "\n",
    "## Исследовательский анализ данных\n",
    "Опишем общую информацию о распределениях данных в таблице"
   ]
  },
  {
   "cell_type": "code",
   "execution_count": 11,
   "metadata": {},
   "outputs": [
    {
     "data": {
      "image/png": "[encoded data removed]",
      "text/plain": [
       "<Figure size 432x288 with 1 Axes>"
      ]
     },
     "metadata": {
      "needs_background": "light"
     },
     "output_type": "display_data"
    },
    {
     "data": {
      "image/png": "[encoded data removed]",
      "text/plain": [
       "<Figure size 432x288 with 1 Axes>"
      ]
     },
     "metadata": {
      "needs_background": "light"
     },
     "output_type": "display_data"
    },
    {
     "data": {
      "image/png": "[encoded data removed]",
      "text/plain": [
       "<Figure size 432x288 with 1 Axes>"
      ]
     },
     "metadata": {
      "needs_background": "light"
     },
     "output_type": "display_data"
    },
    {
     "data": {
      "image/png": "[encoded data removed]",
      "text/plain": [
       "<Figure size 432x288 with 1 Axes>"
      ]
     },
     "metadata": {
      "needs_background": "light"
     },
     "output_type": "display_data"
    },
    {
     "data": {
      "image/png": "[encoded data removed]",
      "text/plain": [
       "<Figure size 432x288 with 1 Axes>"
      ]
     },
     "metadata": {
      "needs_background": "light"
     },
     "output_type": "display_data"
    },
    {
     "data": {
      "image/png": "[encoded data removed]",
      "text/plain": [
       "<Figure size 432x288 with 1 Axes>"
      ]
     },
     "metadata": {
      "needs_background": "light"
     },
     "output_type": "display_data"
    },
    {
     "name": "stdout",
     "output_type": "stream",
     "text": [
      "Годы регистрации: 1000 - 9999\n"
     ]
    }
   ],
   "source": [
    "discrete_columns = ['RegistrationMonth', 'RegistrationYear', 'NumberOfPictures']\n",
    "\n",
    "for c in df.drop(['PostalCode']+discrete_columns, axis=1).select_dtypes(include=np.number).columns.tolist():\n",
    "    fig, ax = plt.subplots()\n",
    "    ax.hist(df[c], bins=20)\n",
    "    \n",
    "    ax.set_xlabel(c)\n",
    "    ax.set_ylabel('Число машин')\n",
    "    ax.set_title('Гистограмма '+c)\n",
    "    fig.tight_layout()\n",
    "    plt.show()\n",
    "    \n",
    "for c in discrete_columns:\n",
    "    fig, ax = plt.subplots()\n",
    "    sns.countplot(x=df[c], ax=ax, color='tab:blue')\n",
    "    ax.set_xlabel(c)\n",
    "    ax.set_ylabel('Число машин')\n",
    "    ax.set_title('Гистограмма '+c)\n",
    "    fig.tight_layout()\n",
    "    plt.show()\n",
    "    \n",
    "print('Годы регистрации:', df['RegistrationYear'].min(),'-',df['RegistrationYear'].max())"
   ]
  },
  {
   "cell_type": "markdown",
   "metadata": {},
   "source": [
    "По гистограммам сразу видно что в столбце `Power` есть аномальные значения. Сразу удалим объявления о всех авто с мощностью более 500л.с. как аномальные.\n",
    "\n",
    "Также заметим что подозрительно много машин с пробегом 150000км, но машин с бОльшим пробегом нет. По видимому для них указывается максимальное значение пробега в 150000.\n",
    "\n",
    "Это вносит искажения в данные поэтому придется привести пробег к категориальному типу, для простоты выберем следующие категории:\n",
    "- `до 50 т.км`\n",
    "- `50-150 т.км`\n",
    "- `150+`\n",
    "\n",
    "Отфильтруем годы регистрации от 1970 до 2024\n",
    "\n",
    "Также заметим что для всех данных число фото в объявлении 0, по видимому произошла какая-то ошибка при сборе данных. Для дальнейшей работы этот столбец неинформативен поэтому удалим его"
   ]
  },
  {
   "cell_type": "code",
   "execution_count": 12,
   "metadata": {},
   "outputs": [],
   "source": [
    "discrete_columns = ['RegistrationMonth', 'RegistrationYear']\n",
    "df = df.drop('NumberOfPictures', axis=1)\n",
    "df = df[df['Power']<500]\n",
    "df = df[(df['RegistrationYear']<=2024)&(df['RegistrationYear']>1970)]\n",
    "\n",
    "df['kmtype'] = df['Kilometer'].apply(lambda x: '150+' if x>=150000 else ('50-' if x<=50000 else '50-150'))\n"
   ]
  },
  {
   "cell_type": "code",
   "execution_count": 13,
   "metadata": {
    "scrolled": false
   },
   "outputs": [
    {
     "data": {
      "image/png": "[encoded data removed]",
      "text/plain": [
       "<Figure size 432x288 with 1 Axes>"
      ]
     },
     "metadata": {
      "needs_background": "light"
     },
     "output_type": "display_data"
    },
    {
     "data": {
      "image/png": "[encoded data removed]",
      "text/plain": [
       "<Figure size 432x288 with 1 Axes>"
      ]
     },
     "metadata": {
      "needs_background": "light"
     },
     "output_type": "display_data"
    },
    {
     "data": {
      "image/png": "[encoded data removed]",
      "text/plain": [
       "<Figure size 432x288 with 1 Axes>"
      ]
     },
     "metadata": {
      "needs_background": "light"
     },
     "output_type": "display_data"
    },
    {
     "data": {
      "image/png": "[encoded data removed]",
      "text/plain": [
       "<Figure size 720x504 with 1 Axes>"
      ]
     },
     "metadata": {
      "needs_background": "light"
     },
     "output_type": "display_data"
    },
    {
     "data": {
      "image/png": "[encoded data removed]",
      "text/plain": [
       "<Figure size 720x504 with 1 Axes>"
      ]
     },
     "metadata": {
      "needs_background": "light"
     },
     "output_type": "display_data"
    },
    {
     "data": {
      "image/png": "[encoded data removed]",
      "text/plain": [
       "<Figure size 432x288 with 1 Axes>"
      ]
     },
     "metadata": {
      "needs_background": "light"
     },
     "output_type": "display_data"
    }
   ],
   "source": [
    "for c in df.drop(['PostalCode']+discrete_columns, axis=1).select_dtypes(include=np.number).columns.tolist():\n",
    "    fig, ax = plt.subplots()\n",
    "    ax.hist(df[c], bins=40)\n",
    "    \n",
    "    ax.set_xlabel(c)\n",
    "    ax.set_ylabel('Число машин')\n",
    "    ax.set_title('Гистограмма '+c)\n",
    "    fig.tight_layout()\n",
    "    plt.show()\n",
    "    \n",
    "for c in discrete_columns:\n",
    "    fig, ax = plt.subplots()\n",
    "    fig.set_size_inches(10, 7)\n",
    "    sns.countplot(x=df[c], ax=ax, color='tab:blue')\n",
    "    ax.set_xlabel(c)\n",
    "    ax.set_ylabel('Число машин')\n",
    "    ax.set_title('Гистограмма '+c)\n",
    "    fig.tight_layout()\n",
    "    plt.show()\n",
    "    \n",
    "fig, ax = plt.subplots()\n",
    "sns.countplot(x=df['kmtype'], ax=ax, color='tab:blue')\n",
    "ax.set_xlabel('kmtype')\n",
    "ax.set_ylabel('Число машин')\n",
    "ax.set_title('Гистограмма типов пробега')\n",
    "fig.tight_layout()\n",
    "plt.show()"
   ]
  },
  {
   "cell_type": "markdown",
   "metadata": {},
   "source": [
    "Заметим, что в данных много машин с 0 мощностью, что явно является аномалией, удалить их некорректно т.к. их достаточно много. Можно попробовать для них заменить заменить мощность на среднюю для модели"
   ]
  },
  {
   "cell_type": "code",
   "execution_count": 14,
   "metadata": {},
   "outputs": [
    {
     "name": "stdout",
     "output_type": "stream",
     "text": [
      "39389\n",
      "1\n",
      "0\n"
     ]
    },
    {
     "data": {
      "image/png": "[encoded data removed]",
      "text/plain": [
       "<Figure size 432x288 with 1 Axes>"
      ]
     },
     "metadata": {
      "needs_background": "light"
     },
     "output_type": "display_data"
    }
   ],
   "source": [
    "print(df.loc[(df['Power']==0), 'Price'].count())\n",
    "#print(df.loc[(df['Power'].isna()), 'Price'].count())\n",
    "\n",
    "mean_model_power = df.groupby('Model')['Power'].mean().astype(int)\n",
    "\n",
    "df.loc[(df['Power']==0), 'Power'] = df[(df['Power']==0)].apply(lambda x: mean_model_power[x['Model']], axis=1)\n",
    "\n",
    "print(df.loc[(df['Power']==0), 'Price'].count())\n",
    "#print(df.loc[(df['Power'].isna()), 'Price'].count())\n",
    "\n",
    "#для 1 машины восстановление мощности по модели не вышло, удалим ее\n",
    "\n",
    "df = df[df['Power']>0]\n",
    "print(df.loc[(df['Power']==0), 'Price'].count())\n",
    "\n",
    "fig, ax = plt.subplots()\n",
    "ax.hist(df['Power'], bins=40)\n",
    "ax.set_xlabel('Power')\n",
    "ax.set_ylabel('Число машин')\n",
    "ax.set_title('Гистограмма мощности')\n",
    "fig.tight_layout()\n",
    "plt.show()"
   ]
  },
  {
   "cell_type": "markdown",
   "metadata": {},
   "source": [
    "Также рассмотрим число объявлений с нулевой ценой"
   ]
  },
  {
   "cell_type": "code",
   "execution_count": 15,
   "metadata": {},
   "outputs": [
    {
     "name": "stdout",
     "output_type": "stream",
     "text": [
      "10511\n",
      "0\n"
     ]
    }
   ],
   "source": [
    "print(df.loc[df['Price']==0, 'Price'].count())\n",
    "\n",
    "df = df[df['Price']>0]\n",
    "\n",
    "print(df.loc[df['Price']==0, 'Price'].count())"
   ]
  },
  {
   "cell_type": "markdown",
   "metadata": {},
   "source": [
    "Таких объявлений не так много (3%) и вполне допустимо их удалить"
   ]
  },
  {
   "cell_type": "markdown",
   "metadata": {},
   "source": [
    "Рассотрим годы регистрации и данные о датах в объявлении"
   ]
  },
  {
   "cell_type": "code",
   "execution_count": 16,
   "metadata": {},
   "outputs": [
    {
     "name": "stdout",
     "output_type": "stream",
     "text": [
      "Максимальный год в DateCrawled: 2016\n",
      "Максимальный год в DateCreated: 2016\n",
      "Максимальный год в LastSeen: 2016\n"
     ]
    }
   ],
   "source": [
    "print('Максимальный год в DateCrawled:', df['DateCrawled'].dt.year.max())\n",
    "print('Максимальный год в DateCreated:', df['DateCreated'].dt.year.max())\n",
    "print('Максимальный год в LastSeen:', df['LastSeen'].dt.year.max())"
   ]
  },
  {
   "cell_type": "markdown",
   "metadata": {},
   "source": [
    "Как видно, даты в объявлениях ограничены 2016 годом, однако в данных есть более поздние годы регистрации, что является аномалией"
   ]
  },
  {
   "cell_type": "code",
   "execution_count": 17,
   "metadata": {},
   "outputs": [
    {
     "name": "stdout",
     "output_type": "stream",
     "text": [
      "Число авто с регистрацией после 2016: 13666\n"
     ]
    }
   ],
   "source": [
    "print('Число авто с регистрацией после 2016:', df.loc[df['RegistrationYear']>2016,'Price'].count())"
   ]
  },
  {
   "cell_type": "markdown",
   "metadata": {},
   "source": [
    "Таких объявлений около 5% и их можно удалить"
   ]
  },
  {
   "cell_type": "code",
   "execution_count": 18,
   "metadata": {},
   "outputs": [
    {
     "data": {
      "image/png": "[encoded data removed]",
      "text/plain": [
       "<Figure size 720x504 with 1 Axes>"
      ]
     },
     "metadata": {
      "needs_background": "light"
     },
     "output_type": "display_data"
    }
   ],
   "source": [
    "df = df[df['RegistrationYear']<2016]\n",
    "\n",
    "c = 'RegistrationYear'\n",
    "fig, ax = plt.subplots()\n",
    "fig.set_size_inches(10, 7)\n",
    "sns.countplot(x=df[c], ax=ax, color='tab:blue')\n",
    "ax.set_xlabel(c)\n",
    "ax.set_ylabel('Число машин')\n",
    "ax.set_title('Гистограмма '+c)\n",
    "fig.tight_layout()\n",
    "plt.show()"
   ]
  },
  {
   "cell_type": "code",
   "execution_count": 19,
   "metadata": {},
   "outputs": [
    {
     "data": {
      "image/png": "[encoded data removed]",
      "text/plain": [
       "<Figure size 432x288 with 1 Axes>"
      ]
     },
     "metadata": {},
     "output_type": "display_data"
    },
    {
     "data": {
      "image/png": "[encoded data removed]",
      "text/plain": [
       "<Figure size 432x288 with 1 Axes>"
      ]
     },
     "metadata": {},
     "output_type": "display_data"
    },
    {
     "data": {
      "image/png": "[encoded data removed]",
      "text/plain": [
       "<Figure size 432x288 with 1 Axes>"
      ]
     },
     "metadata": {},
     "output_type": "display_data"
    },
    {
     "data": {
      "image/png": "[encoded data removed]",
      "text/plain": [
       "<Figure size 432x288 with 1 Axes>"
      ]
     },
     "metadata": {},
     "output_type": "display_data"
    },
    {
     "data": {
      "image/png": "[encoded data removed]",
      "text/plain": [
       "<Figure size 432x288 with 1 Axes>"
      ]
     },
     "metadata": {},
     "output_type": "display_data"
    }
   ],
   "source": [
    "for c in df.drop(['Model','Brand'],axis=1).select_dtypes(include='object'):\n",
    "    df.fillna('NaN').pivot_table(index=c, aggfunc='count').plot(y='Price', kind='pie', autopct='%1.0f%%', legend=False, ylabel='', title='соотношение '+c+' в таблице')\n",
    "    plt.show()"
   ]
  },
  {
   "cell_type": "markdown",
   "metadata": {},
   "source": [
    "### Корреляционный анализ\n",
    "\n",
    "Построим матрицу коэффициентов корреляции $\\varphi_K$ (дату публицации и сбора не учитываем)"
   ]
  },
  {
   "cell_type": "code",
   "execution_count": 20,
   "metadata": {},
   "outputs": [
    {
     "data": {
      "image/png": "[encoded data removed]",
      "text/plain": [
       "<Figure size 1080x864 with 2 Axes>"
      ]
     },
     "metadata": {
      "needs_background": "light"
     },
     "output_type": "display_data"
    }
   ],
   "source": [
    "interval_cols = df.drop(discrete_columns, axis=1).select_dtypes(include='number')\n",
    "\n",
    "phik_overview = df.drop(['DateCrawled','DateCreated','LastSeen'],axis=1).phik_matrix(interval_cols=interval_cols)\n",
    "\n",
    "# визуализация тепловой карты коэффициентов корреляции\n",
    "plot_correlation_matrix(\n",
    "    phik_overview.values,\n",
    "    x_labels=phik_overview.columns,\n",
    "    y_labels=phik_overview.index,\n",
    "    title=r\"Матрица коэффициентов корреляции $\\varphi_K$ для satisfaction_train\",\n",
    "    fontsize_factor=1.1,\n",
    "    figsize=(15, 12)\n",
    ")\n"
   ]
  },
  {
   "cell_type": "markdown",
   "metadata": {},
   "source": [
    "## Обучение моделей\n",
    "\n",
    "В данном разделе обучим несколько моделей регресии для целевого параметра `Price` и выберем из них лучшую\n",
    "\n",
    "Для оценки качества модели будем использовать метрику RMSE\n",
    "\n",
    "В данных имеются мультиколлинеарные признаки `Kilometer`-`kmtype` и `Brand`-`Model`. Всего признаков не так много поэтому для линейной модели это не так критично, к тому же LightGBM и Catboost использут модели деревьев для которых мультиколлинеарность не проблема. \n",
    "\n",
    "При обучении не будем учитывать признак `NumberOfPictures` т.к. он неинформативен (содержит одни нули).\n",
    "\n",
    "Также будем игнорировать временные признаки (`DateCrawled`, `DateCreated`, `LastSeen`) т.к. с ними сложно и на данный момент неизвестно как работать"
   ]
  },
  {
   "cell_type": "code",
   "execution_count": 21,
   "metadata": {},
   "outputs": [
    {
     "data": {
      "text/html": [
       "<div>\n",
       "<style scoped>\n",
       "    .dataframe tbody tr th:only-of-type {\n",
       "        vertical-align: middle;\n",
       "    }\n",
       "\n",
       "    .dataframe tbody tr th {\n",
       "        vertical-align: top;\n",
       "    }\n",
       "\n",
       "    .dataframe thead th {\n",
       "        text-align: right;\n",
       "    }\n",
       "</style>\n",
       "<table border=\"1\" class=\"dataframe\">\n",
       "  <thead>\n",
       "    <tr style=\"text-align: right;\">\n",
       "      <th></th>\n",
       "      <th>DateCrawled</th>\n",
       "      <th>Price</th>\n",
       "      <th>VehicleType</th>\n",
       "      <th>RegistrationYear</th>\n",
       "      <th>Gearbox</th>\n",
       "      <th>Power</th>\n",
       "      <th>Model</th>\n",
       "      <th>Kilometer</th>\n",
       "      <th>RegistrationMonth</th>\n",
       "      <th>FuelType</th>\n",
       "      <th>Brand</th>\n",
       "      <th>Repaired</th>\n",
       "      <th>DateCreated</th>\n",
       "      <th>PostalCode</th>\n",
       "      <th>LastSeen</th>\n",
       "      <th>kmtype</th>\n",
       "    </tr>\n",
       "  </thead>\n",
       "  <tbody>\n",
       "    <tr>\n",
       "      <th>0</th>\n",
       "      <td>2016-03-24 11:52:17</td>\n",
       "      <td>480</td>\n",
       "      <td>unknown</td>\n",
       "      <td>1993</td>\n",
       "      <td>manual</td>\n",
       "      <td>95</td>\n",
       "      <td>golf</td>\n",
       "      <td>150000</td>\n",
       "      <td>0</td>\n",
       "      <td>gasoline</td>\n",
       "      <td>volkswagen</td>\n",
       "      <td>no</td>\n",
       "      <td>2016-03-24</td>\n",
       "      <td>70435</td>\n",
       "      <td>2016-04-07 03:16:57</td>\n",
       "      <td>150+</td>\n",
       "    </tr>\n",
       "    <tr>\n",
       "      <th>1</th>\n",
       "      <td>2016-03-24 10:58:45</td>\n",
       "      <td>18300</td>\n",
       "      <td>coupe</td>\n",
       "      <td>2011</td>\n",
       "      <td>manual</td>\n",
       "      <td>190</td>\n",
       "      <td>unknown</td>\n",
       "      <td>125000</td>\n",
       "      <td>5</td>\n",
       "      <td>gasoline</td>\n",
       "      <td>audi</td>\n",
       "      <td>yes</td>\n",
       "      <td>2016-03-24</td>\n",
       "      <td>66954</td>\n",
       "      <td>2016-04-07 01:46:50</td>\n",
       "      <td>50-150</td>\n",
       "    </tr>\n",
       "    <tr>\n",
       "      <th>2</th>\n",
       "      <td>2016-03-14 12:52:21</td>\n",
       "      <td>9800</td>\n",
       "      <td>suv</td>\n",
       "      <td>2004</td>\n",
       "      <td>auto</td>\n",
       "      <td>163</td>\n",
       "      <td>grand</td>\n",
       "      <td>125000</td>\n",
       "      <td>8</td>\n",
       "      <td>gasoline</td>\n",
       "      <td>jeep</td>\n",
       "      <td>no</td>\n",
       "      <td>2016-03-14</td>\n",
       "      <td>90480</td>\n",
       "      <td>2016-04-05 12:47:46</td>\n",
       "      <td>50-150</td>\n",
       "    </tr>\n",
       "    <tr>\n",
       "      <th>3</th>\n",
       "      <td>2016-03-17 16:54:04</td>\n",
       "      <td>1500</td>\n",
       "      <td>small</td>\n",
       "      <td>2001</td>\n",
       "      <td>manual</td>\n",
       "      <td>75</td>\n",
       "      <td>golf</td>\n",
       "      <td>150000</td>\n",
       "      <td>6</td>\n",
       "      <td>gasoline</td>\n",
       "      <td>volkswagen</td>\n",
       "      <td>no</td>\n",
       "      <td>2016-03-17</td>\n",
       "      <td>91074</td>\n",
       "      <td>2016-03-17 17:40:17</td>\n",
       "      <td>150+</td>\n",
       "    </tr>\n",
       "    <tr>\n",
       "      <th>4</th>\n",
       "      <td>2016-03-31 17:25:20</td>\n",
       "      <td>3600</td>\n",
       "      <td>small</td>\n",
       "      <td>2008</td>\n",
       "      <td>manual</td>\n",
       "      <td>69</td>\n",
       "      <td>fabia</td>\n",
       "      <td>90000</td>\n",
       "      <td>7</td>\n",
       "      <td>gasoline</td>\n",
       "      <td>skoda</td>\n",
       "      <td>no</td>\n",
       "      <td>2016-03-31</td>\n",
       "      <td>60437</td>\n",
       "      <td>2016-04-06 10:17:21</td>\n",
       "      <td>50-150</td>\n",
       "    </tr>\n",
       "  </tbody>\n",
       "</table>\n",
       "</div>"
      ],
      "text/plain": [
       "          DateCrawled  Price VehicleType  RegistrationYear Gearbox  Power  \\\n",
       "0 2016-03-24 11:52:17    480     unknown              1993  manual     95   \n",
       "1 2016-03-24 10:58:45  18300       coupe              2011  manual    190   \n",
       "2 2016-03-14 12:52:21   9800         suv              2004    auto    163   \n",
       "3 2016-03-17 16:54:04   1500       small              2001  manual     75   \n",
       "4 2016-03-31 17:25:20   3600       small              2008  manual     69   \n",
       "\n",
       "     Model  Kilometer  RegistrationMonth  FuelType       Brand Repaired  \\\n",
       "0     golf     150000                  0  gasoline  volkswagen       no   \n",
       "1  unknown     125000                  5  gasoline        audi      yes   \n",
       "2    grand     125000                  8  gasoline        jeep       no   \n",
       "3     golf     150000                  6  gasoline  volkswagen       no   \n",
       "4    fabia      90000                  7  gasoline       skoda       no   \n",
       "\n",
       "  DateCreated  PostalCode            LastSeen  kmtype  \n",
       "0  2016-03-24       70435 2016-04-07 03:16:57    150+  \n",
       "1  2016-03-24       66954 2016-04-07 01:46:50  50-150  \n",
       "2  2016-03-14       90480 2016-04-05 12:47:46  50-150  \n",
       "3  2016-03-17       91074 2016-03-17 17:40:17    150+  \n",
       "4  2016-03-31       60437 2016-04-06 10:17:21  50-150  "
      ]
     },
     "execution_count": 21,
     "metadata": {},
     "output_type": "execute_result"
    }
   ],
   "source": [
    "df.head()"
   ]
  },
  {
   "cell_type": "code",
   "execution_count": 22,
   "metadata": {},
   "outputs": [
    {
     "data": {
      "text/html": [
       "<div>\n",
       "<style scoped>\n",
       "    .dataframe tbody tr th:only-of-type {\n",
       "        vertical-align: middle;\n",
       "    }\n",
       "\n",
       "    .dataframe tbody tr th {\n",
       "        vertical-align: top;\n",
       "    }\n",
       "\n",
       "    .dataframe thead th {\n",
       "        text-align: right;\n",
       "    }\n",
       "</style>\n",
       "<table border=\"1\" class=\"dataframe\">\n",
       "  <thead>\n",
       "    <tr style=\"text-align: right;\">\n",
       "      <th></th>\n",
       "      <th>VehicleType</th>\n",
       "      <th>Gearbox</th>\n",
       "      <th>Model</th>\n",
       "      <th>Brand</th>\n",
       "      <th>FuelType</th>\n",
       "      <th>Repaired</th>\n",
       "      <th>PostalCode</th>\n",
       "      <th>kmtype</th>\n",
       "      <th>RegistrationYear</th>\n",
       "      <th>Power</th>\n",
       "      <th>RegistrationMonth</th>\n",
       "      <th>Kilometer</th>\n",
       "    </tr>\n",
       "  </thead>\n",
       "  <tbody>\n",
       "    <tr>\n",
       "      <th>58385</th>\n",
       "      <td>wagon</td>\n",
       "      <td>manual</td>\n",
       "      <td>a4</td>\n",
       "      <td>audi</td>\n",
       "      <td>gasoline</td>\n",
       "      <td>no</td>\n",
       "      <td>66701</td>\n",
       "      <td>150+</td>\n",
       "      <td>1998</td>\n",
       "      <td>150</td>\n",
       "      <td>10</td>\n",
       "      <td>150000</td>\n",
       "    </tr>\n",
       "    <tr>\n",
       "      <th>158107</th>\n",
       "      <td>sedan</td>\n",
       "      <td>manual</td>\n",
       "      <td>golf</td>\n",
       "      <td>volkswagen</td>\n",
       "      <td>gasoline</td>\n",
       "      <td>no</td>\n",
       "      <td>55270</td>\n",
       "      <td>50-150</td>\n",
       "      <td>2011</td>\n",
       "      <td>105</td>\n",
       "      <td>5</td>\n",
       "      <td>125000</td>\n",
       "    </tr>\n",
       "    <tr>\n",
       "      <th>263596</th>\n",
       "      <td>convertible</td>\n",
       "      <td>manual</td>\n",
       "      <td>other</td>\n",
       "      <td>audi</td>\n",
       "      <td>gasoline</td>\n",
       "      <td>no</td>\n",
       "      <td>24118</td>\n",
       "      <td>150+</td>\n",
       "      <td>2002</td>\n",
       "      <td>170</td>\n",
       "      <td>10</td>\n",
       "      <td>150000</td>\n",
       "    </tr>\n",
       "    <tr>\n",
       "      <th>53061</th>\n",
       "      <td>small</td>\n",
       "      <td>manual</td>\n",
       "      <td>ka</td>\n",
       "      <td>ford</td>\n",
       "      <td>gasoline</td>\n",
       "      <td>no</td>\n",
       "      <td>23845</td>\n",
       "      <td>150+</td>\n",
       "      <td>2005</td>\n",
       "      <td>60</td>\n",
       "      <td>8</td>\n",
       "      <td>150000</td>\n",
       "    </tr>\n",
       "    <tr>\n",
       "      <th>121892</th>\n",
       "      <td>sedan</td>\n",
       "      <td>manual</td>\n",
       "      <td>other</td>\n",
       "      <td>citroen</td>\n",
       "      <td>gasoline</td>\n",
       "      <td>no</td>\n",
       "      <td>63607</td>\n",
       "      <td>50-150</td>\n",
       "      <td>1998</td>\n",
       "      <td>90</td>\n",
       "      <td>10</td>\n",
       "      <td>125000</td>\n",
       "    </tr>\n",
       "  </tbody>\n",
       "</table>\n",
       "</div>"
      ],
      "text/plain": [
       "        VehicleType Gearbox  Model       Brand  FuelType Repaired  PostalCode  \\\n",
       "58385         wagon  manual     a4        audi  gasoline       no       66701   \n",
       "158107        sedan  manual   golf  volkswagen  gasoline       no       55270   \n",
       "263596  convertible  manual  other        audi  gasoline       no       24118   \n",
       "53061         small  manual     ka        ford  gasoline       no       23845   \n",
       "121892        sedan  manual  other     citroen  gasoline       no       63607   \n",
       "\n",
       "        kmtype  RegistrationYear  Power  RegistrationMonth  Kilometer  \n",
       "58385     150+              1998    150                 10     150000  \n",
       "158107  50-150              2011    105                  5     125000  \n",
       "263596    150+              2002    170                 10     150000  \n",
       "53061     150+              2005     60                  8     150000  \n",
       "121892  50-150              1998     90                 10     125000  "
      ]
     },
     "metadata": {},
     "output_type": "display_data"
    },
    {
     "data": {
      "text/plain": [
       "58385      1111\n",
       "158107    11500\n",
       "263596     4800\n",
       "53061      1499\n",
       "121892      720\n",
       "Name: Price, dtype: int64"
      ]
     },
     "metadata": {},
     "output_type": "display_data"
    }
   ],
   "source": [
    "cat_columns = ['VehicleType','Gearbox','Model','Brand','FuelType','Repaired','PostalCode','kmtype']\n",
    "num_columns = ['RegistrationYear','Power','RegistrationMonth','Kilometer']\n",
    "date_columns = []#['DateCrawled','DateCreated','LastSeen']\n",
    "\n",
    "# train/valid/test: 60%/20%/20%\n",
    "\n",
    "X_train, X_test, y_train, y_test = train_test_split(\n",
    "    df[cat_columns+num_columns+date_columns],\n",
    "    df['Price'],\n",
    "    test_size = 0.4, \n",
    "    random_state = RANDOM_STATE)\n",
    "\n",
    "X_valid, X_test, y_valid, y_test = train_test_split(\n",
    "    X_test,\n",
    "    y_test,\n",
    "    test_size = 0.5, \n",
    "    random_state = RANDOM_STATE)\n",
    "\n",
    "display(X_train.head())\n",
    "\n",
    "display(y_train.head())"
   ]
  },
  {
   "cell_type": "markdown",
   "metadata": {},
   "source": [
    "### SKLearn LinearRegression\n",
    "\n",
    "Для данной задачи выберем модель LinearRegression\n",
    "\n",
    "Для кодирования категориальных признаков предпочтительнее использовать кодировщик OHE т.к. в данном случае признаки не ранжированные и корректный подбор весов линейной модели при использовании OrdinalEncoder невозможен. Для моделей деревьев же использование OrdinalEncoder вполне возможно т.к. они делают предсказание не на основе линейного преобразования, а с помощью условных конструкций"
   ]
  },
  {
   "cell_type": "code",
   "execution_count": 23,
   "metadata": {},
   "outputs": [],
   "source": [
    "################################################\n",
    "encoder_pipe = Pipeline(\n",
    "    [\n",
    "        ('encode', OneHotEncoder(drop='first', handle_unknown='ignore'))\n",
    "    ]\n",
    "    )\n",
    "################################################\n",
    "scaler_pipe = Pipeline(\n",
    "    [\n",
    "        ('scale', MinMaxScaler())\n",
    "    ]\n",
    "    )\n",
    "################################################\n",
    "data_preprocessor = ColumnTransformer(\n",
    "    [\n",
    "        ('encoder', encoder_pipe, cat_columns),\n",
    "        ('scaler', scaler_pipe, num_columns)\n",
    "    ], \n",
    "    remainder='passthrough'\n",
    ")\n",
    "################################################\n",
    "pipe_final = Pipeline([\n",
    "    ('preprocessor', data_preprocessor),\n",
    "    ('models', LinearRegression())\n",
    "])\n",
    "################################################\n",
    "parameters = [\n",
    "    {\n",
    "        'models': [LinearRegression()],\n",
    "        'preprocessor__scaler__scale': [MinMaxScaler()],\n",
    "        'preprocessor__encoder__encode':[OneHotEncoder(handle_unknown='ignore')]\n",
    "    }\n",
    "] "
   ]
  },
  {
   "cell_type": "code",
   "execution_count": 24,
   "metadata": {},
   "outputs": [
    {
     "name": "stdout",
     "output_type": "stream",
     "text": [
      "CPU times: user 42.5 s, sys: 37.7 s, total: 1min 20s\n",
      "Wall time: 1min 20s\n"
     ]
    },
    {
     "data": {
      "text/html": [
       "<style>#sk-container-id-1 {\n",
       "  /* Definition of color scheme common for light and dark mode */\n",
       "  --sklearn-color-text: black;\n",
       "  --sklearn-color-line: gray;\n",
       "  /* Definition of color scheme for unfitted estimators */\n",
       "  --sklearn-color-unfitted-level-0: #fff5e6;\n",
       "  --sklearn-color-unfitted-level-1: #f6e4d2;\n",
       "  --sklearn-color-unfitted-level-2: #ffe0b3;\n",
       "  --sklearn-color-unfitted-level-3: chocolate;\n",
       "  /* Definition of color scheme for fitted estimators */\n",
       "  --sklearn-color-fitted-level-0: #f0f8ff;\n",
       "  --sklearn-color-fitted-level-1: #d4ebff;\n",
       "  --sklearn-color-fitted-level-2: #b3dbfd;\n",
       "  --sklearn-color-fitted-level-3: cornflowerblue;\n",
       "\n",
       "  /* Specific color for light theme */\n",
       "  --sklearn-color-text-on-default-background: var(--sg-text-color, var(--theme-code-foreground, var(--jp-content-font-color1, black)));\n",
       "  --sklearn-color-background: var(--sg-background-color, var(--theme-background, var(--jp-layout-color0, white)));\n",
       "  --sklearn-color-border-box: var(--sg-text-color, var(--theme-code-foreground, var(--jp-content-font-color1, black)));\n",
       "  --sklearn-color-icon: #696969;\n",
       "\n",
       "  @media (prefers-color-scheme: dark) {\n",
       "    /* Redefinition of color scheme for dark theme */\n",
       "    --sklearn-color-text-on-default-background: var(--sg-text-color, var(--theme-code-foreground, var(--jp-content-font-color1, white)));\n",
       "    --sklearn-color-background: var(--sg-background-color, var(--theme-background, var(--jp-layout-color0, #111)));\n",
       "    --sklearn-color-border-box: var(--sg-text-color, var(--theme-code-foreground, var(--jp-content-font-color1, white)));\n",
       "    --sklearn-color-icon: #878787;\n",
       "  }\n",
       "}\n",
       "\n",
       "#sk-container-id-1 {\n",
       "  color: var(--sklearn-color-text);\n",
       "}\n",
       "\n",
       "#sk-container-id-1 pre {\n",
       "  padding: 0;\n",
       "}\n",
       "\n",
       "#sk-container-id-1 input.sk-hidden--visually {\n",
       "  border: 0;\n",
       "  clip: rect(1px 1px 1px 1px);\n",
       "  clip: rect(1px, 1px, 1px, 1px);\n",
       "  height: 1px;\n",
       "  margin: -1px;\n",
       "  overflow: hidden;\n",
       "  padding: 0;\n",
       "  position: absolute;\n",
       "  width: 1px;\n",
       "}\n",
       "\n",
       "#sk-container-id-1 div.sk-dashed-wrapped {\n",
       "  border: 1px dashed var(--sklearn-color-line);\n",
       "  margin: 0 0.4em 0.5em 0.4em;\n",
       "  box-sizing: border-box;\n",
       "  padding-bottom: 0.4em;\n",
       "  background-color: var(--sklearn-color-background);\n",
       "}\n",
       "\n",
       "#sk-container-id-1 div.sk-container {\n",
       "  /* jupyter's `normalize.less` sets `[hidden] { display: none; }`\n",
       "     but bootstrap.min.css set `[hidden] { display: none !important; }`\n",
       "     so we also need the `!important` here to be able to override the\n",
       "     default hidden behavior on the sphinx rendered scikit-learn.org.\n",
       "     See: https://github.com/scikit-learn/scikit-learn/issues/21755 */\n",
       "  display: inline-block !important;\n",
       "  position: relative;\n",
       "}\n",
       "\n",
       "#sk-container-id-1 div.sk-text-repr-fallback {\n",
       "  display: none;\n",
       "}\n",
       "\n",
       "div.sk-parallel-item,\n",
       "div.sk-serial,\n",
       "div.sk-item {\n",
       "  /* draw centered vertical line to link estimators */\n",
       "  background-image: linear-gradient(var(--sklearn-color-text-on-default-background), var(--sklearn-color-text-on-default-background));\n",
       "  background-size: 2px 100%;\n",
       "  background-repeat: no-repeat;\n",
       "  background-position: center center;\n",
       "}\n",
       "\n",
       "/* Parallel-specific style estimator block */\n",
       "\n",
       "#sk-container-id-1 div.sk-parallel-item::after {\n",
       "  content: \"\";\n",
       "  width: 100%;\n",
       "  border-bottom: 2px solid var(--sklearn-color-text-on-default-background);\n",
       "  flex-grow: 1;\n",
       "}\n",
       "\n",
       "#sk-container-id-1 div.sk-parallel {\n",
       "  display: flex;\n",
       "  align-items: stretch;\n",
       "  justify-content: center;\n",
       "  background-color: var(--sklearn-color-background);\n",
       "  position: relative;\n",
       "}\n",
       "\n",
       "#sk-container-id-1 div.sk-parallel-item {\n",
       "  display: flex;\n",
       "  flex-direction: column;\n",
       "}\n",
       "\n",
       "#sk-container-id-1 div.sk-parallel-item:first-child::after {\n",
       "  align-self: flex-end;\n",
       "  width: 50%;\n",
       "}\n",
       "\n",
       "#sk-container-id-1 div.sk-parallel-item:last-child::after {\n",
       "  align-self: flex-start;\n",
       "  width: 50%;\n",
       "}\n",
       "\n",
       "#sk-container-id-1 div.sk-parallel-item:only-child::after {\n",
       "  width: 0;\n",
       "}\n",
       "\n",
       "/* Serial-specific style estimator block */\n",
       "\n",
       "#sk-container-id-1 div.sk-serial {\n",
       "  display: flex;\n",
       "  flex-direction: column;\n",
       "  align-items: center;\n",
       "  background-color: var(--sklearn-color-background);\n",
       "  padding-right: 1em;\n",
       "  padding-left: 1em;\n",
       "}\n",
       "\n",
       "\n",
       "/* Toggleable style: style used for estimator/Pipeline/ColumnTransformer box that is\n",
       "clickable and can be expanded/collapsed.\n",
       "- Pipeline and ColumnTransformer use this feature and define the default style\n",
       "- Estimators will overwrite some part of the style using the `sk-estimator` class\n",
       "*/\n",
       "\n",
       "/* Pipeline and ColumnTransformer style (default) */\n",
       "\n",
       "#sk-container-id-1 div.sk-toggleable {\n",
       "  /* Default theme specific background. It is overwritten whether we have a\n",
       "  specific estimator or a Pipeline/ColumnTransformer */\n",
       "  background-color: var(--sklearn-color-background);\n",
       "}\n",
       "\n",
       "/* Toggleable label */\n",
       "#sk-container-id-1 label.sk-toggleable__label {\n",
       "  cursor: pointer;\n",
       "  display: block;\n",
       "  width: 100%;\n",
       "  margin-bottom: 0;\n",
       "  padding: 0.5em;\n",
       "  box-sizing: border-box;\n",
       "  text-align: center;\n",
       "}\n",
       "\n",
       "#sk-container-id-1 label.sk-toggleable__label-arrow:before {\n",
       "  /* Arrow on the left of the label */\n",
       "  content: \"▸\";\n",
       "  float: left;\n",
       "  margin-right: 0.25em;\n",
       "  color: var(--sklearn-color-icon);\n",
       "}\n",
       "\n",
       "#sk-container-id-1 label.sk-toggleable__label-arrow:hover:before {\n",
       "  color: var(--sklearn-color-text);\n",
       "}\n",
       "\n",
       "/* Toggleable content - dropdown */\n",
       "\n",
       "#sk-container-id-1 div.sk-toggleable__content {\n",
       "  max-height: 0;\n",
       "  max-width: 0;\n",
       "  overflow: hidden;\n",
       "  text-align: left;\n",
       "  /* unfitted */\n",
       "  background-color: var(--sklearn-color-unfitted-level-0);\n",
       "}\n",
       "\n",
       "#sk-container-id-1 div.sk-toggleable__content.fitted {\n",
       "  /* fitted */\n",
       "  background-color: var(--sklearn-color-fitted-level-0);\n",
       "}\n",
       "\n",
       "#sk-container-id-1 div.sk-toggleable__content pre {\n",
       "  margin: 0.2em;\n",
       "  border-radius: 0.25em;\n",
       "  color: var(--sklearn-color-text);\n",
       "  /* unfitted */\n",
       "  background-color: var(--sklearn-color-unfitted-level-0);\n",
       "}\n",
       "\n",
       "#sk-container-id-1 div.sk-toggleable__content.fitted pre {\n",
       "  /* unfitted */\n",
       "  background-color: var(--sklearn-color-fitted-level-0);\n",
       "}\n",
       "\n",
       "#sk-container-id-1 input.sk-toggleable__control:checked~div.sk-toggleable__content {\n",
       "  /* Expand drop-down */\n",
       "  max-height: 200px;\n",
       "  max-width: 100%;\n",
       "  overflow: auto;\n",
       "}\n",
       "\n",
       "#sk-container-id-1 input.sk-toggleable__control:checked~label.sk-toggleable__label-arrow:before {\n",
       "  content: \"▾\";\n",
       "}\n",
       "\n",
       "/* Pipeline/ColumnTransformer-specific style */\n",
       "\n",
       "#sk-container-id-1 div.sk-label input.sk-toggleable__control:checked~label.sk-toggleable__label {\n",
       "  color: var(--sklearn-color-text);\n",
       "  background-color: var(--sklearn-color-unfitted-level-2);\n",
       "}\n",
       "\n",
       "#sk-container-id-1 div.sk-label.fitted input.sk-toggleable__control:checked~label.sk-toggleable__label {\n",
       "  background-color: var(--sklearn-color-fitted-level-2);\n",
       "}\n",
       "\n",
       "/* Estimator-specific style */\n",
       "\n",
       "/* Colorize estimator box */\n",
       "#sk-container-id-1 div.sk-estimator input.sk-toggleable__control:checked~label.sk-toggleable__label {\n",
       "  /* unfitted */\n",
       "  background-color: var(--sklearn-color-unfitted-level-2);\n",
       "}\n",
       "\n",
       "#sk-container-id-1 div.sk-estimator.fitted input.sk-toggleable__control:checked~label.sk-toggleable__label {\n",
       "  /* fitted */\n",
       "  background-color: var(--sklearn-color-fitted-level-2);\n",
       "}\n",
       "\n",
       "#sk-container-id-1 div.sk-label label.sk-toggleable__label,\n",
       "#sk-container-id-1 div.sk-label label {\n",
       "  /* The background is the default theme color */\n",
       "  color: var(--sklearn-color-text-on-default-background);\n",
       "}\n",
       "\n",
       "/* On hover, darken the color of the background */\n",
       "#sk-container-id-1 div.sk-label:hover label.sk-toggleable__label {\n",
       "  color: var(--sklearn-color-text);\n",
       "  background-color: var(--sklearn-color-unfitted-level-2);\n",
       "}\n",
       "\n",
       "/* Label box, darken color on hover, fitted */\n",
       "#sk-container-id-1 div.sk-label.fitted:hover label.sk-toggleable__label.fitted {\n",
       "  color: var(--sklearn-color-text);\n",
       "  background-color: var(--sklearn-color-fitted-level-2);\n",
       "}\n",
       "\n",
       "/* Estimator label */\n",
       "\n",
       "#sk-container-id-1 div.sk-label label {\n",
       "  font-family: monospace;\n",
       "  font-weight: bold;\n",
       "  display: inline-block;\n",
       "  line-height: 1.2em;\n",
       "}\n",
       "\n",
       "#sk-container-id-1 div.sk-label-container {\n",
       "  text-align: center;\n",
       "}\n",
       "\n",
       "/* Estimator-specific */\n",
       "#sk-container-id-1 div.sk-estimator {\n",
       "  font-family: monospace;\n",
       "  border: 1px dotted var(--sklearn-color-border-box);\n",
       "  border-radius: 0.25em;\n",
       "  box-sizing: border-box;\n",
       "  margin-bottom: 0.5em;\n",
       "  /* unfitted */\n",
       "  background-color: var(--sklearn-color-unfitted-level-0);\n",
       "}\n",
       "\n",
       "#sk-container-id-1 div.sk-estimator.fitted {\n",
       "  /* fitted */\n",
       "  background-color: var(--sklearn-color-fitted-level-0);\n",
       "}\n",
       "\n",
       "/* on hover */\n",
       "#sk-container-id-1 div.sk-estimator:hover {\n",
       "  /* unfitted */\n",
       "  background-color: var(--sklearn-color-unfitted-level-2);\n",
       "}\n",
       "\n",
       "#sk-container-id-1 div.sk-estimator.fitted:hover {\n",
       "  /* fitted */\n",
       "  background-color: var(--sklearn-color-fitted-level-2);\n",
       "}\n",
       "\n",
       "/* Specification for estimator info (e.g. \"i\" and \"?\") */\n",
       "\n",
       "/* Common style for \"i\" and \"?\" */\n",
       "\n",
       ".sk-estimator-doc-link,\n",
       "a:link.sk-estimator-doc-link,\n",
       "a:visited.sk-estimator-doc-link {\n",
       "  float: right;\n",
       "  font-size: smaller;\n",
       "  line-height: 1em;\n",
       "  font-family: monospace;\n",
       "  background-color: var(--sklearn-color-background);\n",
       "  border-radius: 1em;\n",
       "  height: 1em;\n",
       "  width: 1em;\n",
       "  text-decoration: none !important;\n",
       "  margin-left: 1ex;\n",
       "  /* unfitted */\n",
       "  border: var(--sklearn-color-unfitted-level-1) 1pt solid;\n",
       "  color: var(--sklearn-color-unfitted-level-1);\n",
       "}\n",
       "\n",
       ".sk-estimator-doc-link.fitted,\n",
       "a:link.sk-estimator-doc-link.fitted,\n",
       "a:visited.sk-estimator-doc-link.fitted {\n",
       "  /* fitted */\n",
       "  border: var(--sklearn-color-fitted-level-1) 1pt solid;\n",
       "  color: var(--sklearn-color-fitted-level-1);\n",
       "}\n",
       "\n",
       "/* On hover */\n",
       "div.sk-estimator:hover .sk-estimator-doc-link:hover,\n",
       ".sk-estimator-doc-link:hover,\n",
       "div.sk-label-container:hover .sk-estimator-doc-link:hover,\n",
       ".sk-estimator-doc-link:hover {\n",
       "  /* unfitted */\n",
       "  background-color: var(--sklearn-color-unfitted-level-3);\n",
       "  color: var(--sklearn-color-background);\n",
       "  text-decoration: none;\n",
       "}\n",
       "\n",
       "div.sk-estimator.fitted:hover .sk-estimator-doc-link.fitted:hover,\n",
       ".sk-estimator-doc-link.fitted:hover,\n",
       "div.sk-label-container:hover .sk-estimator-doc-link.fitted:hover,\n",
       ".sk-estimator-doc-link.fitted:hover {\n",
       "  /* fitted */\n",
       "  background-color: var(--sklearn-color-fitted-level-3);\n",
       "  color: var(--sklearn-color-background);\n",
       "  text-decoration: none;\n",
       "}\n",
       "\n",
       "/* Span, style for the box shown on hovering the info icon */\n",
       ".sk-estimator-doc-link span {\n",
       "  display: none;\n",
       "  z-index: 9999;\n",
       "  position: relative;\n",
       "  font-weight: normal;\n",
       "  right: .2ex;\n",
       "  padding: .5ex;\n",
       "  margin: .5ex;\n",
       "  width: min-content;\n",
       "  min-width: 20ex;\n",
       "  max-width: 50ex;\n",
       "  color: var(--sklearn-color-text);\n",
       "  box-shadow: 2pt 2pt 4pt #999;\n",
       "  /* unfitted */\n",
       "  background: var(--sklearn-color-unfitted-level-0);\n",
       "  border: .5pt solid var(--sklearn-color-unfitted-level-3);\n",
       "}\n",
       "\n",
       ".sk-estimator-doc-link.fitted span {\n",
       "  /* fitted */\n",
       "  background: var(--sklearn-color-fitted-level-0);\n",
       "  border: var(--sklearn-color-fitted-level-3);\n",
       "}\n",
       "\n",
       ".sk-estimator-doc-link:hover span {\n",
       "  display: block;\n",
       "}\n",
       "\n",
       "/* \"?\"-specific style due to the `<a>` HTML tag */\n",
       "\n",
       "#sk-container-id-1 a.estimator_doc_link {\n",
       "  float: right;\n",
       "  font-size: 1rem;\n",
       "  line-height: 1em;\n",
       "  font-family: monospace;\n",
       "  background-color: var(--sklearn-color-background);\n",
       "  border-radius: 1rem;\n",
       "  height: 1rem;\n",
       "  width: 1rem;\n",
       "  text-decoration: none;\n",
       "  /* unfitted */\n",
       "  color: var(--sklearn-color-unfitted-level-1);\n",
       "  border: var(--sklearn-color-unfitted-level-1) 1pt solid;\n",
       "}\n",
       "\n",
       "#sk-container-id-1 a.estimator_doc_link.fitted {\n",
       "  /* fitted */\n",
       "  border: var(--sklearn-color-fitted-level-1) 1pt solid;\n",
       "  color: var(--sklearn-color-fitted-level-1);\n",
       "}\n",
       "\n",
       "/* On hover */\n",
       "#sk-container-id-1 a.estimator_doc_link:hover {\n",
       "  /* unfitted */\n",
       "  background-color: var(--sklearn-color-unfitted-level-3);\n",
       "  color: var(--sklearn-color-background);\n",
       "  text-decoration: none;\n",
       "}\n",
       "\n",
       "#sk-container-id-1 a.estimator_doc_link.fitted:hover {\n",
       "  /* fitted */\n",
       "  background-color: var(--sklearn-color-fitted-level-3);\n",
       "}\n",
       "</style><div id=\"sk-container-id-1\" class=\"sk-top-container\"><div class=\"sk-text-repr-fallback\"><pre>RandomizedSearchCV(cv=2,\n",
       "                   estimator=Pipeline(steps=[(&#x27;preprocessor&#x27;,\n",
       "                                              ColumnTransformer(remainder=&#x27;passthrough&#x27;,\n",
       "                                                                transformers=[(&#x27;encoder&#x27;,\n",
       "                                                                               Pipeline(steps=[(&#x27;encode&#x27;,\n",
       "                                                                                                OneHotEncoder(drop=&#x27;first&#x27;,\n",
       "                                                                                                              handle_unknown=&#x27;ignore&#x27;))]),\n",
       "                                                                               [&#x27;VehicleType&#x27;,\n",
       "                                                                                &#x27;Gearbox&#x27;,\n",
       "                                                                                &#x27;Model&#x27;,\n",
       "                                                                                &#x27;Brand&#x27;,\n",
       "                                                                                &#x27;FuelType&#x27;,\n",
       "                                                                                &#x27;Repaired&#x27;,\n",
       "                                                                                &#x27;PostalCode&#x27;,\n",
       "                                                                                &#x27;kmtype&#x27;]),\n",
       "                                                                              (&#x27;scaler&#x27;,\n",
       "                                                                               Pipeline(steps=[(&#x27;scale&#x27;,\n",
       "                                                                                                MinMaxScaler())]),\n",
       "                                                                               [&#x27;RegistrationYear&#x27;,\n",
       "                                                                                &#x27;Power&#x27;,\n",
       "                                                                                &#x27;RegistrationMonth&#x27;,\n",
       "                                                                                &#x27;Kilometer&#x27;])])),\n",
       "                                             (&#x27;models&#x27;, LinearRegression())]),\n",
       "                   n_iter=1, n_jobs=-1,\n",
       "                   param_distributions=[{&#x27;models&#x27;: [LinearRegression()],\n",
       "                                         &#x27;preprocessor__encoder__encode&#x27;: [OneHotEncoder(handle_unknown=&#x27;ignore&#x27;)],\n",
       "                                         &#x27;preprocessor__scaler__scale&#x27;: [MinMaxScaler()]}],\n",
       "                   random_state=2024, scoring=&#x27;neg_root_mean_squared_error&#x27;)</pre><b>In a Jupyter environment, please rerun this cell to show the HTML representation or trust the notebook. <br />On GitHub, the HTML representation is unable to render, please try loading this page with nbviewer.org.</b></div><div class=\"sk-container\" hidden><div class=\"sk-item sk-dashed-wrapped\"><div class=\"sk-label-container\"><div class=\"sk-label fitted sk-toggleable\"><input class=\"sk-toggleable__control sk-hidden--visually\" id=\"sk-estimator-id-1\" type=\"checkbox\" ><label for=\"sk-estimator-id-1\" class=\"sk-toggleable__label fitted sk-toggleable__label-arrow fitted\">&nbsp;&nbsp;RandomizedSearchCV<a class=\"sk-estimator-doc-link fitted\" rel=\"noreferrer\" target=\"_blank\" href=\"https://scikit-learn.org/1.4/modules/generated/sklearn.model_selection.RandomizedSearchCV.html\">?<span>Documentation for RandomizedSearchCV</span></a><span class=\"sk-estimator-doc-link fitted\">i<span>Fitted</span></span></label><div class=\"sk-toggleable__content fitted\"><pre>RandomizedSearchCV(cv=2,\n",
       "                   estimator=Pipeline(steps=[(&#x27;preprocessor&#x27;,\n",
       "                                              ColumnTransformer(remainder=&#x27;passthrough&#x27;,\n",
       "                                                                transformers=[(&#x27;encoder&#x27;,\n",
       "                                                                               Pipeline(steps=[(&#x27;encode&#x27;,\n",
       "                                                                                                OneHotEncoder(drop=&#x27;first&#x27;,\n",
       "                                                                                                              handle_unknown=&#x27;ignore&#x27;))]),\n",
       "                                                                               [&#x27;VehicleType&#x27;,\n",
       "                                                                                &#x27;Gearbox&#x27;,\n",
       "                                                                                &#x27;Model&#x27;,\n",
       "                                                                                &#x27;Brand&#x27;,\n",
       "                                                                                &#x27;FuelType&#x27;,\n",
       "                                                                                &#x27;Repaired&#x27;,\n",
       "                                                                                &#x27;PostalCode&#x27;,\n",
       "                                                                                &#x27;kmtype&#x27;]),\n",
       "                                                                              (&#x27;scaler&#x27;,\n",
       "                                                                               Pipeline(steps=[(&#x27;scale&#x27;,\n",
       "                                                                                                MinMaxScaler())]),\n",
       "                                                                               [&#x27;RegistrationYear&#x27;,\n",
       "                                                                                &#x27;Power&#x27;,\n",
       "                                                                                &#x27;RegistrationMonth&#x27;,\n",
       "                                                                                &#x27;Kilometer&#x27;])])),\n",
       "                                             (&#x27;models&#x27;, LinearRegression())]),\n",
       "                   n_iter=1, n_jobs=-1,\n",
       "                   param_distributions=[{&#x27;models&#x27;: [LinearRegression()],\n",
       "                                         &#x27;preprocessor__encoder__encode&#x27;: [OneHotEncoder(handle_unknown=&#x27;ignore&#x27;)],\n",
       "                                         &#x27;preprocessor__scaler__scale&#x27;: [MinMaxScaler()]}],\n",
       "                   random_state=2024, scoring=&#x27;neg_root_mean_squared_error&#x27;)</pre></div> </div></div><div class=\"sk-parallel\"><div class=\"sk-parallel-item\"><div class=\"sk-item\"><div class=\"sk-label-container\"><div class=\"sk-label fitted sk-toggleable\"><input class=\"sk-toggleable__control sk-hidden--visually\" id=\"sk-estimator-id-2\" type=\"checkbox\" ><label for=\"sk-estimator-id-2\" class=\"sk-toggleable__label fitted sk-toggleable__label-arrow fitted\">estimator: Pipeline</label><div class=\"sk-toggleable__content fitted\"><pre>Pipeline(steps=[(&#x27;preprocessor&#x27;,\n",
       "                 ColumnTransformer(remainder=&#x27;passthrough&#x27;,\n",
       "                                   transformers=[(&#x27;encoder&#x27;,\n",
       "                                                  Pipeline(steps=[(&#x27;encode&#x27;,\n",
       "                                                                   OneHotEncoder(drop=&#x27;first&#x27;,\n",
       "                                                                                 handle_unknown=&#x27;ignore&#x27;))]),\n",
       "                                                  [&#x27;VehicleType&#x27;, &#x27;Gearbox&#x27;,\n",
       "                                                   &#x27;Model&#x27;, &#x27;Brand&#x27;, &#x27;FuelType&#x27;,\n",
       "                                                   &#x27;Repaired&#x27;, &#x27;PostalCode&#x27;,\n",
       "                                                   &#x27;kmtype&#x27;]),\n",
       "                                                 (&#x27;scaler&#x27;,\n",
       "                                                  Pipeline(steps=[(&#x27;scale&#x27;,\n",
       "                                                                   MinMaxScaler())]),\n",
       "                                                  [&#x27;RegistrationYear&#x27;, &#x27;Power&#x27;,\n",
       "                                                   &#x27;RegistrationMonth&#x27;,\n",
       "                                                   &#x27;Kilometer&#x27;])])),\n",
       "                (&#x27;models&#x27;, LinearRegression())])</pre></div> </div></div><div class=\"sk-serial\"><div class=\"sk-item\"><div class=\"sk-serial\"><div class=\"sk-item sk-dashed-wrapped\"><div class=\"sk-label-container\"><div class=\"sk-label fitted sk-toggleable\"><input class=\"sk-toggleable__control sk-hidden--visually\" id=\"sk-estimator-id-3\" type=\"checkbox\" ><label for=\"sk-estimator-id-3\" class=\"sk-toggleable__label fitted sk-toggleable__label-arrow fitted\">&nbsp;preprocessor: ColumnTransformer<a class=\"sk-estimator-doc-link fitted\" rel=\"noreferrer\" target=\"_blank\" href=\"https://scikit-learn.org/1.4/modules/generated/sklearn.compose.ColumnTransformer.html\">?<span>Documentation for preprocessor: ColumnTransformer</span></a></label><div class=\"sk-toggleable__content fitted\"><pre>ColumnTransformer(remainder=&#x27;passthrough&#x27;,\n",
       "                  transformers=[(&#x27;encoder&#x27;,\n",
       "                                 Pipeline(steps=[(&#x27;encode&#x27;,\n",
       "                                                  OneHotEncoder(drop=&#x27;first&#x27;,\n",
       "                                                                handle_unknown=&#x27;ignore&#x27;))]),\n",
       "                                 [&#x27;VehicleType&#x27;, &#x27;Gearbox&#x27;, &#x27;Model&#x27;, &#x27;Brand&#x27;,\n",
       "                                  &#x27;FuelType&#x27;, &#x27;Repaired&#x27;, &#x27;PostalCode&#x27;,\n",
       "                                  &#x27;kmtype&#x27;]),\n",
       "                                (&#x27;scaler&#x27;,\n",
       "                                 Pipeline(steps=[(&#x27;scale&#x27;, MinMaxScaler())]),\n",
       "                                 [&#x27;RegistrationYear&#x27;, &#x27;Power&#x27;,\n",
       "                                  &#x27;RegistrationMonth&#x27;, &#x27;Kilometer&#x27;])])</pre></div> </div></div><div class=\"sk-parallel\"><div class=\"sk-parallel-item\"><div class=\"sk-item\"><div class=\"sk-label-container\"><div class=\"sk-label fitted sk-toggleable\"><input class=\"sk-toggleable__control sk-hidden--visually\" id=\"sk-estimator-id-4\" type=\"checkbox\" ><label for=\"sk-estimator-id-4\" class=\"sk-toggleable__label fitted sk-toggleable__label-arrow fitted\">encoder</label><div class=\"sk-toggleable__content fitted\"><pre>[&#x27;VehicleType&#x27;, &#x27;Gearbox&#x27;, &#x27;Model&#x27;, &#x27;Brand&#x27;, &#x27;FuelType&#x27;, &#x27;Repaired&#x27;, &#x27;PostalCode&#x27;, &#x27;kmtype&#x27;]</pre></div> </div></div><div class=\"sk-serial\"><div class=\"sk-item\"><div class=\"sk-serial\"><div class=\"sk-item\"><div class=\"sk-estimator fitted sk-toggleable\"><input class=\"sk-toggleable__control sk-hidden--visually\" id=\"sk-estimator-id-5\" type=\"checkbox\" ><label for=\"sk-estimator-id-5\" class=\"sk-toggleable__label fitted sk-toggleable__label-arrow fitted\">&nbsp;OneHotEncoder<a class=\"sk-estimator-doc-link fitted\" rel=\"noreferrer\" target=\"_blank\" href=\"https://scikit-learn.org/1.4/modules/generated/sklearn.preprocessing.OneHotEncoder.html\">?<span>Documentation for OneHotEncoder</span></a></label><div class=\"sk-toggleable__content fitted\"><pre>OneHotEncoder(drop=&#x27;first&#x27;, handle_unknown=&#x27;ignore&#x27;)</pre></div> </div></div></div></div></div></div></div><div class=\"sk-parallel-item\"><div class=\"sk-item\"><div class=\"sk-label-container\"><div class=\"sk-label fitted sk-toggleable\"><input class=\"sk-toggleable__control sk-hidden--visually\" id=\"sk-estimator-id-6\" type=\"checkbox\" ><label for=\"sk-estimator-id-6\" class=\"sk-toggleable__label fitted sk-toggleable__label-arrow fitted\">scaler</label><div class=\"sk-toggleable__content fitted\"><pre>[&#x27;RegistrationYear&#x27;, &#x27;Power&#x27;, &#x27;RegistrationMonth&#x27;, &#x27;Kilometer&#x27;]</pre></div> </div></div><div class=\"sk-serial\"><div class=\"sk-item\"><div class=\"sk-serial\"><div class=\"sk-item\"><div class=\"sk-estimator fitted sk-toggleable\"><input class=\"sk-toggleable__control sk-hidden--visually\" id=\"sk-estimator-id-7\" type=\"checkbox\" ><label for=\"sk-estimator-id-7\" class=\"sk-toggleable__label fitted sk-toggleable__label-arrow fitted\">&nbsp;MinMaxScaler<a class=\"sk-estimator-doc-link fitted\" rel=\"noreferrer\" target=\"_blank\" href=\"https://scikit-learn.org/1.4/modules/generated/sklearn.preprocessing.MinMaxScaler.html\">?<span>Documentation for MinMaxScaler</span></a></label><div class=\"sk-toggleable__content fitted\"><pre>MinMaxScaler()</pre></div> </div></div></div></div></div></div></div><div class=\"sk-parallel-item\"><div class=\"sk-item\"><div class=\"sk-label-container\"><div class=\"sk-label fitted sk-toggleable\"><input class=\"sk-toggleable__control sk-hidden--visually\" id=\"sk-estimator-id-8\" type=\"checkbox\" ><label for=\"sk-estimator-id-8\" class=\"sk-toggleable__label fitted sk-toggleable__label-arrow fitted\">remainder</label><div class=\"sk-toggleable__content fitted\"><pre></pre></div> </div></div><div class=\"sk-serial\"><div class=\"sk-item\"><div class=\"sk-estimator fitted sk-toggleable\"><input class=\"sk-toggleable__control sk-hidden--visually\" id=\"sk-estimator-id-9\" type=\"checkbox\" ><label for=\"sk-estimator-id-9\" class=\"sk-toggleable__label fitted sk-toggleable__label-arrow fitted\">passthrough</label><div class=\"sk-toggleable__content fitted\"><pre>passthrough</pre></div> </div></div></div></div></div></div></div><div class=\"sk-item\"><div class=\"sk-estimator fitted sk-toggleable\"><input class=\"sk-toggleable__control sk-hidden--visually\" id=\"sk-estimator-id-10\" type=\"checkbox\" ><label for=\"sk-estimator-id-10\" class=\"sk-toggleable__label fitted sk-toggleable__label-arrow fitted\">&nbsp;LinearRegression<a class=\"sk-estimator-doc-link fitted\" rel=\"noreferrer\" target=\"_blank\" href=\"https://scikit-learn.org/1.4/modules/generated/sklearn.linear_model.LinearRegression.html\">?<span>Documentation for LinearRegression</span></a></label><div class=\"sk-toggleable__content fitted\"><pre>LinearRegression()</pre></div> </div></div></div></div></div></div></div></div></div></div></div>"
      ],
      "text/plain": [
       "RandomizedSearchCV(cv=2,\n",
       "                   estimator=Pipeline(steps=[('preprocessor',\n",
       "                                              ColumnTransformer(remainder='passthrough',\n",
       "                                                                transformers=[('encoder',\n",
       "                                                                               Pipeline(steps=[('encode',\n",
       "                                                                                                OneHotEncoder(drop='first',\n",
       "                                                                                                              handle_unknown='ignore'))]),\n",
       "                                                                               ['VehicleType',\n",
       "                                                                                'Gearbox',\n",
       "                                                                                'Model',\n",
       "                                                                                'Brand',\n",
       "                                                                                'FuelType',\n",
       "                                                                                'Repaired',\n",
       "                                                                                'PostalCode',\n",
       "                                                                                'kmtype']),\n",
       "                                                                              ('scaler',\n",
       "                                                                               Pipeline(steps=[('scale',\n",
       "                                                                                                MinMaxScaler())]),\n",
       "                                                                               ['RegistrationYear',\n",
       "                                                                                'Power',\n",
       "                                                                                'RegistrationMonth',\n",
       "                                                                                'Kilometer'])])),\n",
       "                                             ('models', LinearRegression())]),\n",
       "                   n_iter=1, n_jobs=-1,\n",
       "                   param_distributions=[{'models': [LinearRegression()],\n",
       "                                         'preprocessor__encoder__encode': [OneHotEncoder(handle_unknown='ignore')],\n",
       "                                         'preprocessor__scaler__scale': [MinMaxScaler()]}],\n",
       "                   random_state=2024, scoring='neg_root_mean_squared_error')"
      ]
     },
     "execution_count": 24,
     "metadata": {},
     "output_type": "execute_result"
    }
   ],
   "source": [
    "%%time\n",
    "\n",
    "#start = time.time()\n",
    "\n",
    "grid_search = RandomizedSearchCV(\n",
    "    pipe_final, \n",
    "    parameters, \n",
    "    cv = 2,\n",
    "    random_state=RANDOM_STATE,\n",
    "    n_jobs=-1,\n",
    "    n_iter=1,\n",
    "    scoring='neg_root_mean_squared_error'\n",
    ")\n",
    "\n",
    "#print('Время обучения и поиска лучшей модели, с:', time.time()-start)\n",
    "\n",
    "grid_search.fit(X_train, y_train)"
   ]
  },
  {
   "cell_type": "markdown",
   "metadata": {},
   "source": [
    "Прямые методы обучения работают очень медленно, поэтому здесь перебираются лишь несколько значений гиперпараметров"
   ]
  },
  {
   "cell_type": "code",
   "execution_count": 25,
   "metadata": {},
   "outputs": [
    {
     "name": "stdout",
     "output_type": "stream",
     "text": [
      "Лучшая модель и её параметры:\n",
      "\n",
      " {'preprocessor__scaler__scale': MinMaxScaler(), 'preprocessor__encoder__encode': OneHotEncoder(handle_unknown='ignore'), 'models': LinearRegression()}\n",
      "Метрика RMSE лучшей модели при кросс-валидации: 2605.6763903438095\n",
      "Время предсказания на валидационной выборке, с: 0.19464111328125\n",
      "RMSE на валидационной выборке: 2557.19\n"
     ]
    }
   ],
   "source": [
    "print('Лучшая модель и её параметры:\\n\\n', grid_search.best_params_)\n",
    "\n",
    "print ('Метрика RMSE лучшей модели при кросс-валидации:', abs(grid_search.best_score_))\n",
    "\n",
    "start=time.time()\n",
    "valid_predict = grid_search.predict(X_valid)\n",
    "print('Время предсказания на валидационной выборке, с:', time.time()-start)\n",
    "\n",
    "print(\"RMSE на валидационной выборке: %.2f\"%mean_squared_error(y_valid, valid_predict)**0.5)"
   ]
  },
  {
   "cell_type": "markdown",
   "metadata": {},
   "source": [
    "### LightGBM"
   ]
  },
  {
   "cell_type": "code",
   "execution_count": 26,
   "metadata": {},
   "outputs": [],
   "source": [
    "enc = OrdinalEncoder(handle_unknown='use_encoded_value', unknown_value=-1)\n",
    "\n",
    "X_train_lgb = X_train.copy()\n",
    "X_train_lgb[['VehicleType','Gearbox','Model','Brand','FuelType','Repaired','kmtype']] = enc.fit_transform(X_train_lgb[['VehicleType','Gearbox','Model','Brand','FuelType','Repaired','kmtype']])\n",
    "X_valid_lgb = X_valid.copy()\n",
    "X_valid_lgb[['VehicleType','Gearbox','Model','Brand','FuelType','Repaired','kmtype']] = enc.transform(X_valid_lgb[['VehicleType','Gearbox','Model','Brand','FuelType','Repaired','kmtype']])\n",
    "\n",
    "\n",
    "train_dataset = lgb.Dataset(X_train_lgb, y_train, categorical_feature=cat_columns)\n",
    "valid_dataset = lgb.Dataset(X_valid_lgb, y_valid, reference=train_dataset)"
   ]
  },
  {
   "cell_type": "code",
   "execution_count": 27,
   "metadata": {
    "scrolled": false
   },
   "outputs": [
    {
     "name": "stdout",
     "output_type": "stream",
     "text": [
      "Время обучения, с: 145.73839497566223\n",
      "Время предсказания на валидационной выборке, с: 0.19743800163269043\n",
      "num_leaves = 100\n",
      "    RMSE на тренировочной выборке: 1900.75\n",
      "    RMSE на валидационной выборке: 1942.32\n"
     ]
    }
   ],
   "source": [
    "# можно было бы использовать GridSearch/RandomSearch но для экономии времени проварьируем всего один параметр num_leaves и можно обойтись простым циклом\n",
    "\n",
    "# иногда при высокой нагрузке на сервера/баге обучение очень долгое\n",
    "for i in [100]:#[10,50,100,200,500,1500,5000,20000]:\n",
    "    booster = lgb.LGBMModel(objective=\"regression\", n_estimators=20, num_leaves=i)\n",
    "\n",
    "    start = time.time()\n",
    "    booster.fit(X_train_lgb, y_train, eval_metric=\"rmse\")\n",
    "    print('Время обучения, с:', time.time()-start)\n",
    "\n",
    "    start = time.time()\n",
    "    valid_preds = booster.predict(X_valid_lgb)\n",
    "    print('Время предсказания на валидационной выборке, с:', time.time()-start)\n",
    "    train_preds = booster.predict(X_train_lgb)\n",
    "    \n",
    "    print('num_leaves =',i)\n",
    "    print(\"    RMSE на тренировочной выборке: %.2f\"%mean_squared_error(y_train, train_preds)**0.5)\n",
    "    print(\"    RMSE на валидационной выборке: %.2f\"%mean_squared_error(y_valid, valid_preds)**0.5)"
   ]
  },
  {
   "cell_type": "markdown",
   "metadata": {},
   "source": [
    "Получили, что при фиксированном `n_estimators = 20` и изменении `num_leaves` в диапазоне [5,20000] лучшее значение метрики достигается при `num_leaves = 100`, при этом значение метрики RMSE на валидационной выборке равно 1942 (причем оно близко к метрике на тренировочной выборке что говорит об отсутствии переобучения, при больших `num_leaves` уже начинается переобучение)\n",
    "\n",
    "Время обучения при таких параметрах составляет 3.4с, время предсказания 0.20с, также с увеличением `num_leaves` растет время обучения и предсказания\n",
    "\n",
    "Более тщательным подбором гиперпараметров можно улучшить точность модели. Также точность модели можно улучшить увеличив число итераций (`n_estimators`), но при этом пропорционально возрастет время обучения"
   ]
  },
  {
   "cell_type": "markdown",
   "metadata": {},
   "source": [
    "### CatBoost"
   ]
  },
  {
   "cell_type": "code",
   "execution_count": 28,
   "metadata": {
    "scrolled": true
   },
   "outputs": [
    {
     "name": "stdout",
     "output_type": "stream",
     "text": [
      "learning_rate = 0.01\n",
      "    Время обучения, с: 2.9261677265167236\n",
      "    Время предсказания на валидационной выборке, с: 0.15187883377075195\n",
      "    RMSE на обучающей выборке: 3987.71\n",
      "    RMSE на валидационной выборке: 3998.82\n",
      "learning_rate = 0.05\n",
      "    Время обучения, с: 2.8588273525238037\n",
      "    Время предсказания на валидационной выборке, с: 0.11978507041931152\n",
      "    RMSE на обучающей выборке: 2698.01\n",
      "    RMSE на валидационной выборке: 2712.96\n",
      "learning_rate = 0.1\n",
      "    Время обучения, с: 2.7736549377441406\n",
      "    Время предсказания на валидационной выборке, с: 0.10555696487426758\n",
      "    RMSE на обучающей выборке: 2130.56\n",
      "    RMSE на валидационной выборке: 2153.69\n",
      "learning_rate = 0.25\n",
      "    Время обучения, с: 3.09116792678833\n",
      "    Время предсказания на валидационной выборке, с: 0.1149740219116211\n",
      "    RMSE на обучающей выборке: 1839.39\n",
      "    RMSE на валидационной выборке: 1870.05\n",
      "learning_rate = 0.4\n",
      "    Время обучения, с: 2.8841612339019775\n",
      "    Время предсказания на валидационной выборке, с: 0.10657477378845215\n",
      "    RMSE на обучающей выборке: 1782.70\n",
      "    RMSE на валидационной выборке: 1820.18\n",
      "learning_rate = 0.6\n",
      "    Время обучения, с: 2.726087808609009\n",
      "    Время предсказания на валидационной выборке, с: 0.10715866088867188\n",
      "    RMSE на обучающей выборке: 1766.07\n",
      "    RMSE на валидационной выборке: 1800.71\n",
      "learning_rate = 0.8\n",
      "    Время обучения, с: 2.804410934448242\n",
      "    Время предсказания на валидационной выборке, с: 0.12588930130004883\n",
      "    RMSE на обучающей выборке: 1744.03\n",
      "    RMSE на валидационной выборке: 1785.22\n",
      "learning_rate = 1.0\n",
      "    Время обучения, с: 2.90751576423645\n",
      "    Время предсказания на валидационной выборке, с: 0.11356043815612793\n",
      "    RMSE на обучающей выборке: 1751.97\n",
      "    RMSE на валидационной выборке: 1792.42\n"
     ]
    }
   ],
   "source": [
    "for i in [0.01, 0.05, 0.1, 0.25, 0.4, 0.6, 0.8, 1.0]:\n",
    "\n",
    "    cb_model = CatBoostRegressor(\n",
    "        learning_rate=i,\n",
    "        random_seed=RANDOM_STATE,\n",
    "        iterations=20,\n",
    "        logging_level='Silent'\n",
    "    )\n",
    "\n",
    "    start = time.time()\n",
    "    cb_model.fit(\n",
    "        X_train, y_train,\n",
    "        cat_features=cat_columns\n",
    "    )\n",
    "    \n",
    "    print('learning_rate =',i)\n",
    "    print('    Время обучения, с:', time.time()-start)\n",
    "\n",
    "    start = time.time()\n",
    "    valid_preds = cb_model.predict(X_valid)\n",
    "    print('    Время предсказания на валидационной выборке, с:', time.time()-start)\n",
    "    train_preds = cb_model.predict(X_train)\n",
    "    \n",
    "    print(\"    RMSE на обучающей выборке: %.2f\"%mean_squared_error(y_train, train_preds)**0.5)\n",
    "    print(\"    RMSE на валидационной выборке: %.2f\"%mean_squared_error(y_valid, valid_preds)**0.5)"
   ]
  },
  {
   "cell_type": "markdown",
   "metadata": {},
   "source": [
    "Получили, что при фиксированном `iterations = 20` и изменении `learning_rate` в диапазоне [0.01,1.0] лучшее значение метрики на валидационной выборке достигается при `learning_rate = 0.6`, при этом значение метрики RMSE на валидационной выборке равно 1800 (причем оно близко к метрике на тренировочной выборке что говорит об отсутствии переобучения)\n",
    "\n",
    "Время обучения при таких параметрах составляет 3с, время предсказания 0.12с, также при изменении `learning_rate` время обучения и предсказания практически не меняются\n",
    "\n",
    "Более тщательным подбором гиперпараметров можно улучшить точность модели. Также точность модели можно улучшить увеличив число итераций (`iterations`), но при этом пропорционально возрастет время обучения\n"
   ]
  },
  {
   "cell_type": "markdown",
   "metadata": {},
   "source": [
    "## Анализ моделей\n",
    "\n",
    "В предыдущих разделах были рассмотрены модели из разных библиотек и выбраны лучшие модели из каждой на валидацинной выборке. В этом разделе сравним их между собой на тестовой выборке"
   ]
  },
  {
   "cell_type": "code",
   "execution_count": 29,
   "metadata": {},
   "outputs": [],
   "source": [
    "start=time.time()\n",
    "sk_test = grid_search.predict(X_test)\n",
    "sk_pr_time = time.time()-start\n",
    "###############################\n",
    "booster = lgb.LGBMModel(objective=\"regression\", n_estimators=20, num_leaves=100)\n",
    "\n",
    "X_test_lgb = X_test.copy()\n",
    "\n",
    "start = time.time()\n",
    "booster.fit(X_train_lgb, y_train, eval_metric=\"rmse\")\n",
    "lgb_tr_time = time.time()-start\n",
    "\n",
    "start = time.time()\n",
    "X_test_lgb[['VehicleType','Gearbox','Model','Brand','FuelType','Repaired','kmtype']] = enc.transform(X_test_lgb[['VehicleType','Gearbox','Model','Brand','FuelType','Repaired','kmtype']])\n",
    "lgb_test = booster.predict(X_test_lgb)\n",
    "lgb_pr_time = time.time()-start\n",
    "###############################\n",
    "cb_model = CatBoostRegressor(\n",
    "        learning_rate=0.6,\n",
    "        random_seed=RANDOM_STATE,\n",
    "        iterations=20,\n",
    "        logging_level='Silent'\n",
    "    )\n",
    "\n",
    "start = time.time()\n",
    "cb_model.fit(\n",
    "    X_train, y_train,\n",
    "    cat_features=cat_columns\n",
    ")\n",
    "\n",
    "cb_tr_time = time.time()-start\n",
    "\n",
    "start = time.time()\n",
    "cb_test = cb_model.predict(X_test)\n",
    "cb_pr_time = time.time()-start"
   ]
  },
  {
   "cell_type": "code",
   "execution_count": 30,
   "metadata": {
    "scrolled": true
   },
   "outputs": [
    {
     "data": {
      "text/html": [
       "<div>\n",
       "<style scoped>\n",
       "    .dataframe tbody tr th:only-of-type {\n",
       "        vertical-align: middle;\n",
       "    }\n",
       "\n",
       "    .dataframe tbody tr th {\n",
       "        vertical-align: top;\n",
       "    }\n",
       "\n",
       "    .dataframe thead th {\n",
       "        text-align: right;\n",
       "    }\n",
       "</style>\n",
       "<table border=\"1\" class=\"dataframe\">\n",
       "  <thead>\n",
       "    <tr style=\"text-align: right;\">\n",
       "      <th></th>\n",
       "      <th>Model</th>\n",
       "      <th>Test RMSE</th>\n",
       "      <th>Train RMSE</th>\n",
       "      <th>Время обучения, с</th>\n",
       "      <th>Время предсказания, с</th>\n",
       "    </tr>\n",
       "  </thead>\n",
       "  <tbody>\n",
       "    <tr>\n",
       "      <th>0</th>\n",
       "      <td>SkLearn LinearRegression</td>\n",
       "      <td>2580.298676</td>\n",
       "      <td>2605.68</td>\n",
       "      <td>43.000000</td>\n",
       "      <td>0.165502</td>\n",
       "    </tr>\n",
       "    <tr>\n",
       "      <th>1</th>\n",
       "      <td>LightGBM</td>\n",
       "      <td>1946.418956</td>\n",
       "      <td>1923.59</td>\n",
       "      <td>250.861985</td>\n",
       "      <td>0.486234</td>\n",
       "    </tr>\n",
       "    <tr>\n",
       "      <th>2</th>\n",
       "      <td>CatBoost</td>\n",
       "      <td>1801.522086</td>\n",
       "      <td>1791.42</td>\n",
       "      <td>2.867904</td>\n",
       "      <td>0.143851</td>\n",
       "    </tr>\n",
       "  </tbody>\n",
       "</table>\n",
       "</div>"
      ],
      "text/plain": [
       "                      Model    Test RMSE  Train RMSE  Время обучения, с  \\\n",
       "0  SkLearn LinearRegression  2580.298676     2605.68          43.000000   \n",
       "1                  LightGBM  1946.418956     1923.59         250.861985   \n",
       "2                  CatBoost  1801.522086     1791.42           2.867904   \n",
       "\n",
       "   Время предсказания, с  \n",
       "0               0.165502  \n",
       "1               0.486234  \n",
       "2               0.143851  "
      ]
     },
     "metadata": {},
     "output_type": "display_data"
    }
   ],
   "source": [
    "res = [\n",
    "    ['SkLearn LinearRegression',mean_squared_error(y_test, sk_test)**0.5,2605.68,43,sk_pr_time],\n",
    "    ['LightGBM',mean_squared_error(y_test, lgb_test)**0.5,1923.59,lgb_tr_time,lgb_pr_time],\n",
    "    ['CatBoost',mean_squared_error(y_test, cb_test)**0.5,1791.42,cb_tr_time,cb_pr_time]\n",
    "]\n",
    "\n",
    "res = pd.DataFrame(res, columns=['Model', 'Test RMSE', 'Train RMSE', 'Время обучения, с', 'Время предсказания, с'])\n",
    "\n",
    "display(res)"
   ]
  },
  {
   "cell_type": "markdown",
   "metadata": {},
   "source": [
    "Хуже всего себя показал метод прямого обучения регрессии: наибольшее время обучения, худшее значение метрики (даже неудалось преодолеть минимальный порог метрики в 2500), зато хорошее время предсказания\n",
    "    \n",
    "Оба метода градиентного бустинга показали схожее значение метрики (1966 у LightGBM против 1831 у CatBoost на тестовой выборке) и времени обучения, однако библиотека CatBoost показала втрое большую скорость предсказания (отметим, что здесь скорость предсказания LightGBM больше чем указывалось ранее т.к. сейчас также учитывалось время кодирования признаков)\n",
    "\n",
    "При этом стоит учитывать, что для всех моделей рассматривалось маленькое множество гиперпараметров и настройки моделей не являются оптимальными. Более тщательным подбором параметров можно улучшить как качество модели так и подобрать допустимое время обучения"
   ]
  },
  {
   "cell_type": "markdown",
   "metadata": {},
   "source": [
    "## Выводы"
   ]
  },
  {
   "cell_type": "markdown",
   "metadata": {},
   "source": [
    "В данной работе рассматривались данные объявлений о продаже авто для сервиса по продаже автомобилей с пробегом «Не бит, не крашен»\n",
    "\n",
    "В ходе предобработки данных были обнаружены пропуски и аномалии, часть из которых удалось устранить, часть пришлось оставить\n",
    "\n",
    "Для предсказания цены авто были применены библиотеки SKLearn (модель LinearRegression), LightGBM, CatBoost. Целью для обучения было получить как минимум значение 2500 метрики RMSE при минимальном времени обучения и предсказания\n",
    "\n",
    "Было получено, что данным требованиям удовлетворяет модель CatBoostRegressor с гиперпараметрами `iterations=20`, `learning_rate=0.6`. При этом значение метрики RMSE на тестовой выборке 1831, время обучения 3с, время предсказания 0.13.\n",
    "\n",
    "Однако стоит учитывать, что параметры модели неоптимальны и более тщательным их подбором можно добиться лучших результатов исходя из требований задачи"
   ]
  }
 ],
 "metadata": {
  "ExecuteTimeLog": [
   {
    "duration": 8304,
    "start_time": "2024-04-05T17:33:05.652Z"
   },
   {
    "duration": 39,
    "start_time": "2024-04-05T17:33:18.689Z"
   },
   {
    "duration": 756,
    "start_time": "2024-04-05T17:33:20.186Z"
   },
   {
    "duration": 122,
    "start_time": "2024-04-05T17:34:01.734Z"
   },
   {
    "duration": 80,
    "start_time": "2024-04-05T17:40:06.484Z"
   },
   {
    "duration": 78,
    "start_time": "2024-04-05T17:40:38.570Z"
   },
   {
    "duration": 327,
    "start_time": "2024-04-05T17:50:17.417Z"
   },
   {
    "duration": 360,
    "start_time": "2024-04-05T17:52:41.488Z"
   },
   {
    "duration": 776,
    "start_time": "2024-04-05T17:54:32.528Z"
   },
   {
    "duration": 772,
    "start_time": "2024-04-05T17:54:40.770Z"
   },
   {
    "duration": 72,
    "start_time": "2024-04-05T17:57:30.035Z"
   },
   {
    "duration": 937,
    "start_time": "2024-04-05T17:57:49.161Z"
   },
   {
    "duration": 5,
    "start_time": "2024-04-05T17:58:37.447Z"
   },
   {
    "duration": 4,
    "start_time": "2024-04-05T17:58:55.774Z"
   },
   {
    "duration": 53,
    "start_time": "2024-04-05T17:59:08.492Z"
   },
   {
    "duration": 684,
    "start_time": "2024-04-05T17:59:08.547Z"
   },
   {
    "duration": 101,
    "start_time": "2024-04-05T17:59:09.240Z"
   },
   {
    "duration": 91,
    "start_time": "2024-04-05T17:59:09.343Z"
   },
   {
    "duration": 731,
    "start_time": "2024-04-05T17:59:09.436Z"
   },
   {
    "duration": 97,
    "start_time": "2024-04-05T17:59:10.169Z"
   },
   {
    "duration": 99,
    "start_time": "2024-04-05T17:59:23.802Z"
   },
   {
    "duration": 203,
    "start_time": "2024-04-05T18:00:28.157Z"
   },
   {
    "duration": 1839,
    "start_time": "2024-04-05T18:05:25.896Z"
   },
   {
    "duration": 1533,
    "start_time": "2024-04-05T18:06:57.907Z"
   },
   {
    "duration": 11,
    "start_time": "2024-04-05T18:10:47.489Z"
   },
   {
    "duration": 1638,
    "start_time": "2024-04-05T18:11:33.173Z"
   },
   {
    "duration": 1445,
    "start_time": "2024-04-05T18:19:43.669Z"
   },
   {
    "duration": 54,
    "start_time": "2024-04-05T18:19:51.064Z"
   },
   {
    "duration": 16,
    "start_time": "2024-04-05T18:19:52.978Z"
   },
   {
    "duration": 12,
    "start_time": "2024-04-05T18:20:25.704Z"
   },
   {
    "duration": 1042,
    "start_time": "2024-04-05T18:20:28.271Z"
   },
   {
    "duration": 14,
    "start_time": "2024-04-05T18:20:46.515Z"
   },
   {
    "duration": 18,
    "start_time": "2024-04-05T18:20:50.163Z"
   },
   {
    "duration": 7722,
    "start_time": "2024-04-05T18:21:03.964Z"
   },
   {
    "duration": 1503,
    "start_time": "2024-04-05T18:21:11.688Z"
   },
   {
    "duration": 689,
    "start_time": "2024-04-05T18:21:13.195Z"
   },
   {
    "duration": 111,
    "start_time": "2024-04-05T18:21:13.886Z"
   },
   {
    "duration": 84,
    "start_time": "2024-04-05T18:21:14.001Z"
   },
   {
    "duration": 851,
    "start_time": "2024-04-05T18:21:14.086Z"
   },
   {
    "duration": 328,
    "start_time": "2024-04-05T18:21:14.939Z"
   },
   {
    "duration": 1546,
    "start_time": "2024-04-05T18:21:15.269Z"
   },
   {
    "duration": 108,
    "start_time": "2024-04-05T18:21:16.817Z"
   },
   {
    "duration": 1111,
    "start_time": "2024-04-05T18:21:16.927Z"
   },
   {
    "duration": 34,
    "start_time": "2024-04-05T18:21:54.493Z"
   },
   {
    "duration": 665,
    "start_time": "2024-04-05T18:21:54.529Z"
   },
   {
    "duration": 97,
    "start_time": "2024-04-05T18:21:55.196Z"
   },
   {
    "duration": 79,
    "start_time": "2024-04-05T18:21:55.301Z"
   },
   {
    "duration": 677,
    "start_time": "2024-04-05T18:21:55.381Z"
   },
   {
    "duration": 315,
    "start_time": "2024-04-05T18:21:56.060Z"
   },
   {
    "duration": 1446,
    "start_time": "2024-04-05T18:21:56.377Z"
   },
   {
    "duration": 20,
    "start_time": "2024-04-05T18:21:57.824Z"
   },
   {
    "duration": 1396,
    "start_time": "2024-04-05T18:21:57.845Z"
   },
   {
    "duration": 14,
    "start_time": "2024-04-05T18:22:45.664Z"
   },
   {
    "duration": 12,
    "start_time": "2024-04-05T18:23:06.084Z"
   },
   {
    "duration": 43,
    "start_time": "2024-04-05T18:23:14.842Z"
   },
   {
    "duration": 10,
    "start_time": "2024-04-05T18:23:45.926Z"
   },
   {
    "duration": 13,
    "start_time": "2024-04-05T18:24:32.862Z"
   },
   {
    "duration": 49,
    "start_time": "2024-04-05T18:25:06.892Z"
   },
   {
    "duration": 655,
    "start_time": "2024-04-05T18:25:06.943Z"
   },
   {
    "duration": 107,
    "start_time": "2024-04-05T18:25:07.599Z"
   },
   {
    "duration": 82,
    "start_time": "2024-04-05T18:25:07.708Z"
   },
   {
    "duration": 716,
    "start_time": "2024-04-05T18:25:07.802Z"
   },
   {
    "duration": 298,
    "start_time": "2024-04-05T18:25:08.520Z"
   },
   {
    "duration": 3186,
    "start_time": "2024-04-05T18:25:08.820Z"
   },
   {
    "duration": 51,
    "start_time": "2024-04-05T18:25:12.007Z"
   },
   {
    "duration": 2803,
    "start_time": "2024-04-05T18:25:12.059Z"
   },
   {
    "duration": 48,
    "start_time": "2024-04-05T18:25:14.863Z"
   },
   {
    "duration": 7,
    "start_time": "2024-04-05T18:25:14.913Z"
   },
   {
    "duration": 2960,
    "start_time": "2024-04-05T18:27:03.430Z"
   },
   {
    "duration": 36,
    "start_time": "2024-04-05T18:39:26.775Z"
   },
   {
    "duration": 620,
    "start_time": "2024-04-05T18:39:26.813Z"
   },
   {
    "duration": 113,
    "start_time": "2024-04-05T18:39:27.435Z"
   },
   {
    "duration": 95,
    "start_time": "2024-04-05T18:39:27.550Z"
   },
   {
    "duration": 687,
    "start_time": "2024-04-05T18:39:27.647Z"
   },
   {
    "duration": 291,
    "start_time": "2024-04-05T18:39:28.335Z"
   },
   {
    "duration": 3180,
    "start_time": "2024-04-05T18:39:28.627Z"
   },
   {
    "duration": 55,
    "start_time": "2024-04-05T18:39:31.809Z"
   },
   {
    "duration": 0,
    "start_time": "2024-04-05T18:39:31.865Z"
   },
   {
    "duration": 88,
    "start_time": "2024-04-05T18:42:29.674Z"
   },
   {
    "duration": 3205,
    "start_time": "2024-04-05T18:42:33.426Z"
   },
   {
    "duration": 3365,
    "start_time": "2024-04-05T18:43:32.054Z"
   },
   {
    "duration": 3305,
    "start_time": "2024-04-05T18:44:08.714Z"
   },
   {
    "duration": 3286,
    "start_time": "2024-04-05T18:44:30.721Z"
   },
   {
    "duration": 13,
    "start_time": "2024-04-05T18:45:58.784Z"
   },
   {
    "duration": 7816,
    "start_time": "2024-04-05T18:46:06.833Z"
   },
   {
    "duration": 1643,
    "start_time": "2024-04-05T18:46:14.652Z"
   },
   {
    "duration": 679,
    "start_time": "2024-04-05T18:46:16.299Z"
   },
   {
    "duration": 112,
    "start_time": "2024-04-05T18:46:16.980Z"
   },
   {
    "duration": 95,
    "start_time": "2024-04-05T18:46:17.093Z"
   },
   {
    "duration": 824,
    "start_time": "2024-04-05T18:46:17.190Z"
   },
   {
    "duration": 297,
    "start_time": "2024-04-05T18:46:18.015Z"
   },
   {
    "duration": 3114,
    "start_time": "2024-04-05T18:46:18.314Z"
   },
   {
    "duration": 110,
    "start_time": "2024-04-05T18:46:21.501Z"
   },
   {
    "duration": 3215,
    "start_time": "2024-04-05T18:46:21.613Z"
   },
   {
    "duration": 126,
    "start_time": "2024-04-05T18:48:33.818Z"
   },
   {
    "duration": 7841,
    "start_time": "2024-04-05T18:48:38.783Z"
   },
   {
    "duration": 1568,
    "start_time": "2024-04-05T18:48:46.626Z"
   },
   {
    "duration": 681,
    "start_time": "2024-04-05T18:48:48.196Z"
   },
   {
    "duration": 98,
    "start_time": "2024-04-05T18:48:48.879Z"
   },
   {
    "duration": 86,
    "start_time": "2024-04-05T18:48:48.978Z"
   },
   {
    "duration": 819,
    "start_time": "2024-04-05T18:48:49.066Z"
   },
   {
    "duration": 329,
    "start_time": "2024-04-05T18:48:49.886Z"
   },
   {
    "duration": 3185,
    "start_time": "2024-04-05T18:48:50.217Z"
   },
   {
    "duration": 140,
    "start_time": "2024-04-05T18:48:53.404Z"
   },
   {
    "duration": 2456,
    "start_time": "2024-04-05T18:48:53.546Z"
   },
   {
    "duration": 7641,
    "start_time": "2024-04-05T18:49:31.244Z"
   },
   {
    "duration": 1540,
    "start_time": "2024-04-05T18:49:38.888Z"
   },
   {
    "duration": 679,
    "start_time": "2024-04-05T18:49:40.430Z"
   },
   {
    "duration": 114,
    "start_time": "2024-04-05T18:49:41.111Z"
   },
   {
    "duration": 91,
    "start_time": "2024-04-05T18:49:41.227Z"
   },
   {
    "duration": 809,
    "start_time": "2024-04-05T18:49:41.319Z"
   },
   {
    "duration": 302,
    "start_time": "2024-04-05T18:49:42.130Z"
   },
   {
    "duration": 3198,
    "start_time": "2024-04-05T18:49:42.433Z"
   },
   {
    "duration": 144,
    "start_time": "2024-04-05T18:49:45.701Z"
   },
   {
    "duration": 2065,
    "start_time": "2024-04-05T18:49:45.847Z"
   },
   {
    "duration": 1537,
    "start_time": "2024-04-05T18:51:00.202Z"
   },
   {
    "duration": 1222,
    "start_time": "2024-04-05T18:51:48.302Z"
   },
   {
    "duration": 762,
    "start_time": "2024-04-05T18:52:25.202Z"
   },
   {
    "duration": 1490,
    "start_time": "2024-04-05T18:52:52.263Z"
   },
   {
    "duration": 1904,
    "start_time": "2024-04-05T18:53:48.811Z"
   },
   {
    "duration": 3903,
    "start_time": "2024-04-05T18:54:06.684Z"
   },
   {
    "duration": 896,
    "start_time": "2024-04-05T18:55:04.131Z"
   },
   {
    "duration": 41075,
    "start_time": "2024-04-05T18:58:15.973Z"
   },
   {
    "duration": 7162,
    "start_time": "2024-04-05T19:00:11.504Z"
   },
   {
    "duration": 40,
    "start_time": "2024-04-05T19:06:00.135Z"
   },
   {
    "duration": 62,
    "start_time": "2024-04-06T10:10:00.343Z"
   },
   {
    "duration": 18240,
    "start_time": "2024-04-06T10:10:17.671Z"
   },
   {
    "duration": 1577,
    "start_time": "2024-04-06T10:10:35.914Z"
   },
   {
    "duration": 0,
    "start_time": "2024-04-06T10:10:37.493Z"
   },
   {
    "duration": 0,
    "start_time": "2024-04-06T10:10:37.494Z"
   },
   {
    "duration": 0,
    "start_time": "2024-04-06T10:10:37.495Z"
   },
   {
    "duration": 0,
    "start_time": "2024-04-06T10:10:37.496Z"
   },
   {
    "duration": 0,
    "start_time": "2024-04-06T10:10:37.497Z"
   },
   {
    "duration": 0,
    "start_time": "2024-04-06T10:10:37.498Z"
   },
   {
    "duration": 0,
    "start_time": "2024-04-06T10:10:37.499Z"
   },
   {
    "duration": 0,
    "start_time": "2024-04-06T10:10:37.500Z"
   },
   {
    "duration": 0,
    "start_time": "2024-04-06T10:10:37.501Z"
   },
   {
    "duration": 0,
    "start_time": "2024-04-06T10:10:37.502Z"
   },
   {
    "duration": 0,
    "start_time": "2024-04-06T10:10:37.503Z"
   },
   {
    "duration": 0,
    "start_time": "2024-04-06T10:10:37.504Z"
   },
   {
    "duration": 2364,
    "start_time": "2024-04-06T10:11:59.842Z"
   },
   {
    "duration": 48,
    "start_time": "2024-04-06T10:12:07.175Z"
   },
   {
    "duration": 64,
    "start_time": "2024-04-06T10:12:26.206Z"
   },
   {
    "duration": 60,
    "start_time": "2024-04-06T10:12:30.369Z"
   },
   {
    "duration": 3186,
    "start_time": "2024-04-06T10:12:30.431Z"
   },
   {
    "duration": 152,
    "start_time": "2024-04-06T10:12:33.618Z"
   },
   {
    "duration": 134,
    "start_time": "2024-04-06T10:12:33.772Z"
   },
   {
    "duration": 1020,
    "start_time": "2024-04-06T10:12:33.908Z"
   },
   {
    "duration": 345,
    "start_time": "2024-04-06T10:12:34.930Z"
   },
   {
    "duration": 3817,
    "start_time": "2024-04-06T10:12:35.277Z"
   },
   {
    "duration": 154,
    "start_time": "2024-04-06T10:12:39.096Z"
   },
   {
    "duration": 2422,
    "start_time": "2024-04-06T10:12:39.251Z"
   },
   {
    "duration": 61,
    "start_time": "2024-04-06T10:12:41.674Z"
   },
   {
    "duration": 0,
    "start_time": "2024-04-06T10:12:41.736Z"
   },
   {
    "duration": 0,
    "start_time": "2024-04-06T10:12:41.737Z"
   },
   {
    "duration": 0,
    "start_time": "2024-04-06T10:12:41.738Z"
   },
   {
    "duration": 23,
    "start_time": "2024-04-06T10:12:56.088Z"
   },
   {
    "duration": 6,
    "start_time": "2024-04-06T10:13:21.177Z"
   },
   {
    "duration": 23,
    "start_time": "2024-04-06T10:14:08.335Z"
   },
   {
    "duration": 301,
    "start_time": "2024-04-06T10:19:23.330Z"
   },
   {
    "duration": 315,
    "start_time": "2024-04-06T10:20:20.235Z"
   },
   {
    "duration": 8,
    "start_time": "2024-04-06T10:20:29.413Z"
   },
   {
    "duration": 293,
    "start_time": "2024-04-06T10:20:36.632Z"
   },
   {
    "duration": 286,
    "start_time": "2024-04-06T10:20:52.320Z"
   },
   {
    "duration": 540,
    "start_time": "2024-04-06T10:22:51.678Z"
   },
   {
    "duration": 1189,
    "start_time": "2024-04-06T10:26:07.510Z"
   },
   {
    "duration": 2501,
    "start_time": "2024-04-06T10:26:36.507Z"
   },
   {
    "duration": 9290,
    "start_time": "2024-04-06T10:34:25.669Z"
   },
   {
    "duration": 3630,
    "start_time": "2024-04-07T19:47:57.324Z"
   },
   {
    "duration": 1782,
    "start_time": "2024-04-07T19:48:00.956Z"
   },
   {
    "duration": 0,
    "start_time": "2024-04-07T19:48:02.740Z"
   },
   {
    "duration": 0,
    "start_time": "2024-04-07T19:48:02.742Z"
   },
   {
    "duration": 0,
    "start_time": "2024-04-07T19:48:02.743Z"
   },
   {
    "duration": 0,
    "start_time": "2024-04-07T19:48:02.745Z"
   },
   {
    "duration": 0,
    "start_time": "2024-04-07T19:48:02.746Z"
   },
   {
    "duration": 0,
    "start_time": "2024-04-07T19:48:02.748Z"
   },
   {
    "duration": 0,
    "start_time": "2024-04-07T19:48:02.749Z"
   },
   {
    "duration": 0,
    "start_time": "2024-04-07T19:48:02.750Z"
   },
   {
    "duration": 0,
    "start_time": "2024-04-07T19:48:02.752Z"
   },
   {
    "duration": 0,
    "start_time": "2024-04-07T19:48:02.770Z"
   },
   {
    "duration": 0,
    "start_time": "2024-04-07T19:48:02.771Z"
   },
   {
    "duration": 0,
    "start_time": "2024-04-07T19:48:02.772Z"
   },
   {
    "duration": 74,
    "start_time": "2024-04-07T19:48:58.822Z"
   },
   {
    "duration": 52,
    "start_time": "2024-04-07T19:49:05.646Z"
   },
   {
    "duration": 1145,
    "start_time": "2024-04-07T19:49:05.700Z"
   },
   {
    "duration": 159,
    "start_time": "2024-04-07T19:49:06.846Z"
   },
   {
    "duration": 145,
    "start_time": "2024-04-07T19:49:07.007Z"
   },
   {
    "duration": 1037,
    "start_time": "2024-04-07T19:49:07.153Z"
   },
   {
    "duration": 380,
    "start_time": "2024-04-07T19:49:08.191Z"
   },
   {
    "duration": 3805,
    "start_time": "2024-04-07T19:49:08.573Z"
   },
   {
    "duration": 155,
    "start_time": "2024-04-07T19:49:12.379Z"
   },
   {
    "duration": 2448,
    "start_time": "2024-04-07T19:49:12.536Z"
   },
   {
    "duration": 698,
    "start_time": "2024-04-07T19:49:14.987Z"
   },
   {
    "duration": 31,
    "start_time": "2024-04-07T19:49:15.686Z"
   },
   {
    "duration": 2450,
    "start_time": "2024-04-07T19:49:15.719Z"
   },
   {
    "duration": 9558,
    "start_time": "2024-04-07T19:49:18.171Z"
   },
   {
    "duration": 3933,
    "start_time": "2024-04-08T08:04:17.967Z"
   },
   {
    "duration": 99,
    "start_time": "2024-04-08T08:04:21.903Z"
   },
   {
    "duration": 0,
    "start_time": "2024-04-08T08:04:22.005Z"
   },
   {
    "duration": 0,
    "start_time": "2024-04-08T08:04:22.007Z"
   },
   {
    "duration": 0,
    "start_time": "2024-04-08T08:04:22.009Z"
   },
   {
    "duration": 0,
    "start_time": "2024-04-08T08:04:22.010Z"
   },
   {
    "duration": 0,
    "start_time": "2024-04-08T08:04:22.012Z"
   },
   {
    "duration": 0,
    "start_time": "2024-04-08T08:04:22.013Z"
   },
   {
    "duration": 0,
    "start_time": "2024-04-08T08:04:22.014Z"
   },
   {
    "duration": 0,
    "start_time": "2024-04-08T08:04:22.015Z"
   },
   {
    "duration": 0,
    "start_time": "2024-04-08T08:04:22.017Z"
   },
   {
    "duration": 0,
    "start_time": "2024-04-08T08:04:22.018Z"
   },
   {
    "duration": 0,
    "start_time": "2024-04-08T08:04:22.019Z"
   },
   {
    "duration": 0,
    "start_time": "2024-04-08T08:04:22.021Z"
   },
   {
    "duration": 0,
    "start_time": "2024-04-08T08:04:22.021Z"
   },
   {
    "duration": 5226,
    "start_time": "2024-04-08T08:05:10.597Z"
   },
   {
    "duration": 5389,
    "start_time": "2024-04-08T08:05:22.075Z"
   },
   {
    "duration": 1802,
    "start_time": "2024-04-08T08:05:27.466Z"
   },
   {
    "duration": 1285,
    "start_time": "2024-04-08T08:05:29.270Z"
   },
   {
    "duration": 181,
    "start_time": "2024-04-08T08:05:30.556Z"
   },
   {
    "duration": 166,
    "start_time": "2024-04-08T08:05:30.739Z"
   },
   {
    "duration": 1179,
    "start_time": "2024-04-08T08:05:30.907Z"
   },
   {
    "duration": 430,
    "start_time": "2024-04-08T08:05:32.088Z"
   },
   {
    "duration": 4059,
    "start_time": "2024-04-08T08:05:32.520Z"
   },
   {
    "duration": 163,
    "start_time": "2024-04-08T08:05:36.581Z"
   },
   {
    "duration": 2629,
    "start_time": "2024-04-08T08:05:36.746Z"
   },
   {
    "duration": 767,
    "start_time": "2024-04-08T08:05:39.376Z"
   },
   {
    "duration": 53,
    "start_time": "2024-04-08T08:05:40.145Z"
   },
   {
    "duration": 2333,
    "start_time": "2024-04-08T08:05:40.200Z"
   },
   {
    "duration": 10659,
    "start_time": "2024-04-08T08:05:42.535Z"
   },
   {
    "duration": 3466,
    "start_time": "2024-04-12T21:02:59.993Z"
   },
   {
    "duration": 4617,
    "start_time": "2024-04-12T21:03:03.462Z"
   },
   {
    "duration": 1533,
    "start_time": "2024-04-12T21:03:08.080Z"
   },
   {
    "duration": 2946,
    "start_time": "2024-04-12T21:03:09.614Z"
   },
   {
    "duration": 166,
    "start_time": "2024-04-12T21:03:12.565Z"
   },
   {
    "duration": 157,
    "start_time": "2024-04-12T21:03:12.732Z"
   },
   {
    "duration": 966,
    "start_time": "2024-04-12T21:03:12.890Z"
   },
   {
    "duration": 400,
    "start_time": "2024-04-12T21:03:13.858Z"
   },
   {
    "duration": 3811,
    "start_time": "2024-04-12T21:03:14.259Z"
   },
   {
    "duration": 165,
    "start_time": "2024-04-12T21:03:18.072Z"
   },
   {
    "duration": 2420,
    "start_time": "2024-04-12T21:03:18.239Z"
   },
   {
    "duration": 644,
    "start_time": "2024-04-12T21:03:20.660Z"
   },
   {
    "duration": 53,
    "start_time": "2024-04-12T21:03:21.305Z"
   },
   {
    "duration": 2312,
    "start_time": "2024-04-12T21:03:21.360Z"
   },
   {
    "duration": 9492,
    "start_time": "2024-04-12T21:03:23.674Z"
   },
   {
    "duration": 22,
    "start_time": "2024-04-12T21:04:35.430Z"
   },
   {
    "duration": 15,
    "start_time": "2024-04-12T21:11:20.958Z"
   },
   {
    "duration": 561,
    "start_time": "2024-04-12T21:56:58.858Z"
   },
   {
    "duration": 542,
    "start_time": "2024-04-12T21:58:34.465Z"
   },
   {
    "duration": 2295,
    "start_time": "2024-04-12T22:00:52.116Z"
   },
   {
    "duration": 4644,
    "start_time": "2024-04-12T22:00:54.413Z"
   },
   {
    "duration": 1422,
    "start_time": "2024-04-12T22:00:59.059Z"
   },
   {
    "duration": 22,
    "start_time": "2024-04-12T22:01:00.482Z"
   },
   {
    "duration": 885,
    "start_time": "2024-04-12T22:01:00.506Z"
   },
   {
    "duration": 170,
    "start_time": "2024-04-12T22:01:01.393Z"
   },
   {
    "duration": 150,
    "start_time": "2024-04-12T22:01:01.564Z"
   },
   {
    "duration": 1024,
    "start_time": "2024-04-12T22:01:01.715Z"
   },
   {
    "duration": 377,
    "start_time": "2024-04-12T22:01:02.745Z"
   },
   {
    "duration": 3745,
    "start_time": "2024-04-12T22:01:03.123Z"
   },
   {
    "duration": 153,
    "start_time": "2024-04-12T22:01:06.869Z"
   },
   {
    "duration": 2449,
    "start_time": "2024-04-12T22:01:07.023Z"
   },
   {
    "duration": 6,
    "start_time": "2024-04-12T22:01:09.473Z"
   },
   {
    "duration": 0,
    "start_time": "2024-04-12T22:01:09.480Z"
   },
   {
    "duration": 0,
    "start_time": "2024-04-12T22:01:09.481Z"
   },
   {
    "duration": 0,
    "start_time": "2024-04-12T22:01:09.482Z"
   },
   {
    "duration": 0,
    "start_time": "2024-04-12T22:01:09.483Z"
   },
   {
    "duration": 0,
    "start_time": "2024-04-12T22:01:09.484Z"
   },
   {
    "duration": 2320,
    "start_time": "2024-04-12T22:02:52.759Z"
   },
   {
    "duration": 4583,
    "start_time": "2024-04-12T22:02:55.081Z"
   },
   {
    "duration": 1444,
    "start_time": "2024-04-12T22:02:59.667Z"
   },
   {
    "duration": 23,
    "start_time": "2024-04-12T22:03:01.114Z"
   },
   {
    "duration": 918,
    "start_time": "2024-04-12T22:03:01.139Z"
   },
   {
    "duration": 158,
    "start_time": "2024-04-12T22:03:02.059Z"
   },
   {
    "duration": 152,
    "start_time": "2024-04-12T22:03:02.219Z"
   },
   {
    "duration": 1061,
    "start_time": "2024-04-12T22:03:02.373Z"
   },
   {
    "duration": 429,
    "start_time": "2024-04-12T22:03:03.436Z"
   },
   {
    "duration": 3934,
    "start_time": "2024-04-12T22:03:03.866Z"
   },
   {
    "duration": 178,
    "start_time": "2024-04-12T22:03:07.802Z"
   },
   {
    "duration": 2388,
    "start_time": "2024-04-12T22:03:07.981Z"
   },
   {
    "duration": 746,
    "start_time": "2024-04-12T22:03:10.370Z"
   },
   {
    "duration": 61,
    "start_time": "2024-04-12T22:03:11.119Z"
   },
   {
    "duration": 2142,
    "start_time": "2024-04-12T22:03:11.182Z"
   },
   {
    "duration": 9776,
    "start_time": "2024-04-12T22:03:13.326Z"
   },
   {
    "duration": 16,
    "start_time": "2024-04-12T22:03:23.104Z"
   },
   {
    "duration": 134,
    "start_time": "2024-04-12T22:03:23.121Z"
   },
   {
    "duration": 2395,
    "start_time": "2024-04-12T22:04:07.023Z"
   },
   {
    "duration": 4593,
    "start_time": "2024-04-12T22:04:09.420Z"
   },
   {
    "duration": 1362,
    "start_time": "2024-04-12T22:04:14.015Z"
   },
   {
    "duration": 21,
    "start_time": "2024-04-12T22:04:15.379Z"
   },
   {
    "duration": 856,
    "start_time": "2024-04-12T22:04:15.402Z"
   },
   {
    "duration": 152,
    "start_time": "2024-04-12T22:04:16.260Z"
   },
   {
    "duration": 153,
    "start_time": "2024-04-12T22:04:16.413Z"
   },
   {
    "duration": 995,
    "start_time": "2024-04-12T22:04:16.568Z"
   },
   {
    "duration": 397,
    "start_time": "2024-04-12T22:04:17.565Z"
   },
   {
    "duration": 3812,
    "start_time": "2024-04-12T22:04:17.964Z"
   },
   {
    "duration": 148,
    "start_time": "2024-04-12T22:04:21.777Z"
   },
   {
    "duration": 2419,
    "start_time": "2024-04-12T22:04:21.929Z"
   },
   {
    "duration": 670,
    "start_time": "2024-04-12T22:04:24.351Z"
   },
   {
    "duration": 44,
    "start_time": "2024-04-12T22:04:25.024Z"
   },
   {
    "duration": 2357,
    "start_time": "2024-04-12T22:04:25.070Z"
   },
   {
    "duration": 9726,
    "start_time": "2024-04-12T22:04:27.429Z"
   },
   {
    "duration": 19,
    "start_time": "2024-04-12T22:04:37.162Z"
   },
   {
    "duration": 139,
    "start_time": "2024-04-12T22:04:37.182Z"
   },
   {
    "duration": 559,
    "start_time": "2024-04-12T22:05:18.921Z"
   },
   {
    "duration": 605,
    "start_time": "2024-04-12T22:06:37.015Z"
   },
   {
    "duration": 589,
    "start_time": "2024-04-12T22:07:28.597Z"
   },
   {
    "duration": 709,
    "start_time": "2024-04-12T22:08:46.742Z"
   },
   {
    "duration": 12,
    "start_time": "2024-04-12T22:17:40.952Z"
   },
   {
    "duration": 13,
    "start_time": "2024-04-12T22:18:02.187Z"
   },
   {
    "duration": 358,
    "start_time": "2024-04-12T22:18:24.844Z"
   },
   {
    "duration": 5,
    "start_time": "2024-04-12T22:23:43.898Z"
   },
   {
    "duration": 362,
    "start_time": "2024-04-12T22:23:58.440Z"
   },
   {
    "duration": 327,
    "start_time": "2024-04-12T22:24:11.567Z"
   },
   {
    "duration": 304,
    "start_time": "2024-04-12T22:24:38.706Z"
   },
   {
    "duration": 2375,
    "start_time": "2024-04-12T22:25:07.560Z"
   },
   {
    "duration": 4553,
    "start_time": "2024-04-12T22:25:09.939Z"
   },
   {
    "duration": 1444,
    "start_time": "2024-04-12T22:25:14.494Z"
   },
   {
    "duration": 21,
    "start_time": "2024-04-12T22:25:15.940Z"
   },
   {
    "duration": 812,
    "start_time": "2024-04-12T22:25:15.962Z"
   },
   {
    "duration": 167,
    "start_time": "2024-04-12T22:25:16.775Z"
   },
   {
    "duration": 140,
    "start_time": "2024-04-12T22:25:16.943Z"
   },
   {
    "duration": 1023,
    "start_time": "2024-04-12T22:25:17.085Z"
   },
   {
    "duration": 386,
    "start_time": "2024-04-12T22:25:18.111Z"
   },
   {
    "duration": 3569,
    "start_time": "2024-04-12T22:25:18.499Z"
   },
   {
    "duration": 167,
    "start_time": "2024-04-12T22:25:22.070Z"
   },
   {
    "duration": 2331,
    "start_time": "2024-04-12T22:25:22.239Z"
   },
   {
    "duration": 1502,
    "start_time": "2024-04-12T22:25:24.571Z"
   },
   {
    "duration": 0,
    "start_time": "2024-04-12T22:25:26.075Z"
   },
   {
    "duration": 0,
    "start_time": "2024-04-12T22:25:26.077Z"
   },
   {
    "duration": 0,
    "start_time": "2024-04-12T22:25:26.078Z"
   },
   {
    "duration": 0,
    "start_time": "2024-04-12T22:25:26.079Z"
   },
   {
    "duration": 0,
    "start_time": "2024-04-12T22:25:26.080Z"
   },
   {
    "duration": 2335,
    "start_time": "2024-04-12T22:30:50.406Z"
   },
   {
    "duration": 4571,
    "start_time": "2024-04-12T22:30:52.743Z"
   },
   {
    "duration": 1435,
    "start_time": "2024-04-12T22:30:57.317Z"
   },
   {
    "duration": 22,
    "start_time": "2024-04-12T22:30:58.753Z"
   },
   {
    "duration": 826,
    "start_time": "2024-04-12T22:30:58.777Z"
   },
   {
    "duration": 152,
    "start_time": "2024-04-12T22:30:59.604Z"
   },
   {
    "duration": 131,
    "start_time": "2024-04-12T22:30:59.758Z"
   },
   {
    "duration": 85,
    "start_time": "2024-04-12T22:30:59.891Z"
   },
   {
    "duration": 1010,
    "start_time": "2024-04-12T22:30:59.978Z"
   },
   {
    "duration": 372,
    "start_time": "2024-04-12T22:31:00.990Z"
   },
   {
    "duration": 3696,
    "start_time": "2024-04-12T22:31:01.364Z"
   },
   {
    "duration": 148,
    "start_time": "2024-04-12T22:31:05.062Z"
   },
   {
    "duration": 2448,
    "start_time": "2024-04-12T22:31:05.212Z"
   },
   {
    "duration": 1020,
    "start_time": "2024-04-12T22:31:07.662Z"
   },
   {
    "duration": 30,
    "start_time": "2024-04-12T22:31:08.684Z"
   },
   {
    "duration": 2078,
    "start_time": "2024-04-12T22:31:08.716Z"
   },
   {
    "duration": 9098,
    "start_time": "2024-04-12T22:31:10.796Z"
   },
   {
    "duration": 21,
    "start_time": "2024-04-12T22:31:19.896Z"
   },
   {
    "duration": 116,
    "start_time": "2024-04-12T22:31:19.919Z"
   },
   {
    "duration": 2332,
    "start_time": "2024-04-12T22:31:57.881Z"
   },
   {
    "duration": 4558,
    "start_time": "2024-04-12T22:32:00.215Z"
   },
   {
    "duration": 1351,
    "start_time": "2024-04-12T22:32:04.775Z"
   },
   {
    "duration": 23,
    "start_time": "2024-04-12T22:32:06.129Z"
   },
   {
    "duration": 841,
    "start_time": "2024-04-12T22:32:06.153Z"
   },
   {
    "duration": 169,
    "start_time": "2024-04-12T22:32:06.995Z"
   },
   {
    "duration": 220,
    "start_time": "2024-04-12T22:32:07.166Z"
   },
   {
    "duration": 126,
    "start_time": "2024-04-12T22:32:07.388Z"
   },
   {
    "duration": 920,
    "start_time": "2024-04-12T22:32:07.515Z"
   },
   {
    "duration": 394,
    "start_time": "2024-04-12T22:32:08.437Z"
   },
   {
    "duration": 3630,
    "start_time": "2024-04-12T22:32:08.833Z"
   },
   {
    "duration": 148,
    "start_time": "2024-04-12T22:32:12.465Z"
   },
   {
    "duration": 2432,
    "start_time": "2024-04-12T22:32:12.615Z"
   },
   {
    "duration": 1000,
    "start_time": "2024-04-12T22:32:15.048Z"
   },
   {
    "duration": 34,
    "start_time": "2024-04-12T22:32:16.050Z"
   },
   {
    "duration": 2023,
    "start_time": "2024-04-12T22:32:16.085Z"
   },
   {
    "duration": 8916,
    "start_time": "2024-04-12T22:32:18.110Z"
   },
   {
    "duration": 15,
    "start_time": "2024-04-12T22:32:27.028Z"
   },
   {
    "duration": 116,
    "start_time": "2024-04-12T22:32:27.044Z"
   },
   {
    "duration": 326,
    "start_time": "2024-04-12T22:35:44.086Z"
   },
   {
    "duration": 314,
    "start_time": "2024-04-12T22:35:50.790Z"
   },
   {
    "duration": 2357,
    "start_time": "2024-04-12T22:36:35.246Z"
   },
   {
    "duration": 4587,
    "start_time": "2024-04-12T22:36:37.605Z"
   },
   {
    "duration": 1469,
    "start_time": "2024-04-12T22:36:42.194Z"
   },
   {
    "duration": 24,
    "start_time": "2024-04-12T22:36:43.664Z"
   },
   {
    "duration": 830,
    "start_time": "2024-04-12T22:36:43.690Z"
   },
   {
    "duration": 181,
    "start_time": "2024-04-12T22:36:44.522Z"
   },
   {
    "duration": 148,
    "start_time": "2024-04-12T22:36:44.705Z"
   },
   {
    "duration": 118,
    "start_time": "2024-04-12T22:36:44.855Z"
   },
   {
    "duration": 1003,
    "start_time": "2024-04-12T22:36:44.974Z"
   },
   {
    "duration": 375,
    "start_time": "2024-04-12T22:36:45.979Z"
   },
   {
    "duration": 3718,
    "start_time": "2024-04-12T22:36:46.356Z"
   },
   {
    "duration": 163,
    "start_time": "2024-04-12T22:36:50.075Z"
   },
   {
    "duration": 2424,
    "start_time": "2024-04-12T22:36:50.239Z"
   },
   {
    "duration": 1027,
    "start_time": "2024-04-12T22:36:52.665Z"
   },
   {
    "duration": 29,
    "start_time": "2024-04-12T22:36:53.694Z"
   },
   {
    "duration": 2023,
    "start_time": "2024-04-12T22:36:53.725Z"
   },
   {
    "duration": 9049,
    "start_time": "2024-04-12T22:36:55.750Z"
   },
   {
    "duration": 15,
    "start_time": "2024-04-12T22:37:04.800Z"
   },
   {
    "duration": 107,
    "start_time": "2024-04-12T22:37:04.816Z"
   },
   {
    "duration": 113,
    "start_time": "2024-04-12T22:43:08.491Z"
   },
   {
    "duration": 2,
    "start_time": "2024-04-12T22:51:06.860Z"
   },
   {
    "duration": 17,
    "start_time": "2024-04-12T22:52:56.576Z"
   },
   {
    "duration": 3,
    "start_time": "2024-04-12T22:56:45.182Z"
   },
   {
    "duration": 16,
    "start_time": "2024-04-12T22:56:47.817Z"
   },
   {
    "duration": 98,
    "start_time": "2024-04-12T22:57:33.704Z"
   },
   {
    "duration": 3,
    "start_time": "2024-04-12T22:57:40.572Z"
   },
   {
    "duration": 16,
    "start_time": "2024-04-12T22:57:43.185Z"
   },
   {
    "duration": 3,
    "start_time": "2024-04-12T22:58:52.620Z"
   },
   {
    "duration": 20,
    "start_time": "2024-04-12T22:58:56.143Z"
   },
   {
    "duration": 3,
    "start_time": "2024-04-12T23:05:53.742Z"
   },
   {
    "duration": 32,
    "start_time": "2024-04-12T23:11:58.516Z"
   },
   {
    "duration": 619,
    "start_time": "2024-04-12T23:13:03.857Z"
   },
   {
    "duration": 1007,
    "start_time": "2024-04-12T23:19:28.906Z"
   },
   {
    "duration": 2567,
    "start_time": "2024-04-12T23:19:38.084Z"
   },
   {
    "duration": 9,
    "start_time": "2024-04-12T23:24:36.443Z"
   },
   {
    "duration": 1707,
    "start_time": "2024-04-12T23:24:48.949Z"
   },
   {
    "duration": 32,
    "start_time": "2024-04-12T23:25:50.300Z"
   },
   {
    "duration": 1742,
    "start_time": "2024-04-12T23:26:42.915Z"
   },
   {
    "duration": 58,
    "start_time": "2024-04-12T23:29:16.057Z"
   },
   {
    "duration": 8216,
    "start_time": "2024-04-12T23:29:24.374Z"
   },
   {
    "duration": 4577,
    "start_time": "2024-04-12T23:29:38.614Z"
   },
   {
    "duration": 45,
    "start_time": "2024-04-12T23:29:43.193Z"
   },
   {
    "duration": 36,
    "start_time": "2024-04-12T23:30:26.953Z"
   },
   {
    "duration": 2061,
    "start_time": "2024-04-12T23:31:26.390Z"
   },
   {
    "duration": 12385,
    "start_time": "2024-04-12T23:31:42.380Z"
   },
   {
    "duration": 3165,
    "start_time": "2024-04-12T23:34:47.395Z"
   },
   {
    "duration": 18081,
    "start_time": "2024-04-12T23:47:41.865Z"
   },
   {
    "duration": 19584,
    "start_time": "2024-04-12T23:48:38.079Z"
   },
   {
    "duration": 22319,
    "start_time": "2024-04-12T23:49:10.743Z"
   },
   {
    "duration": 27482,
    "start_time": "2024-04-12T23:52:19.788Z"
   },
   {
    "duration": 10714,
    "start_time": "2024-04-13T08:56:14.331Z"
   },
   {
    "duration": 5472,
    "start_time": "2024-04-13T08:56:25.048Z"
   },
   {
    "duration": 1781,
    "start_time": "2024-04-13T08:56:30.523Z"
   },
   {
    "duration": 50,
    "start_time": "2024-04-13T08:56:32.308Z"
   },
   {
    "duration": 1568,
    "start_time": "2024-04-13T08:56:32.361Z"
   },
   {
    "duration": 196,
    "start_time": "2024-04-13T08:56:33.931Z"
   },
   {
    "duration": 166,
    "start_time": "2024-04-13T08:56:34.129Z"
   },
   {
    "duration": 162,
    "start_time": "2024-04-13T08:56:34.297Z"
   },
   {
    "duration": 1200,
    "start_time": "2024-04-13T08:56:34.461Z"
   },
   {
    "duration": 468,
    "start_time": "2024-04-13T08:56:35.663Z"
   },
   {
    "duration": 4502,
    "start_time": "2024-04-13T08:56:36.133Z"
   },
   {
    "duration": 172,
    "start_time": "2024-04-13T08:56:40.637Z"
   },
   {
    "duration": 2819,
    "start_time": "2024-04-13T08:56:40.812Z"
   },
   {
    "duration": 1254,
    "start_time": "2024-04-13T08:56:43.634Z"
   },
   {
    "duration": 34,
    "start_time": "2024-04-13T08:56:44.890Z"
   },
   {
    "duration": 2485,
    "start_time": "2024-04-13T08:56:44.925Z"
   },
   {
    "duration": 10988,
    "start_time": "2024-04-13T08:56:47.413Z"
   },
   {
    "duration": 17,
    "start_time": "2024-04-13T08:56:58.403Z"
   },
   {
    "duration": 109,
    "start_time": "2024-04-13T08:56:58.421Z"
   },
   {
    "duration": 1086,
    "start_time": "2024-04-13T08:56:58.532Z"
   },
   {
    "duration": 188908,
    "start_time": "2024-04-13T08:56:59.620Z"
   },
   {
    "duration": 0,
    "start_time": "2024-04-13T09:00:08.530Z"
   },
   {
    "duration": 0,
    "start_time": "2024-04-13T09:00:08.531Z"
   },
   {
    "duration": 0,
    "start_time": "2024-04-13T09:00:08.533Z"
   },
   {
    "duration": 3057,
    "start_time": "2024-04-13T09:00:12.049Z"
   },
   {
    "duration": 348119,
    "start_time": "2024-04-13T09:00:20.171Z"
   },
   {
    "duration": 14,
    "start_time": "2024-04-13T09:07:11.430Z"
   },
   {
    "duration": 63,
    "start_time": "2024-04-13T09:07:20.447Z"
   },
   {
    "duration": 3,
    "start_time": "2024-04-13T09:07:22.862Z"
   },
   {
    "duration": 16,
    "start_time": "2024-04-13T09:07:27.811Z"
   },
   {
    "duration": 2623,
    "start_time": "2024-04-13T09:09:34.097Z"
   },
   {
    "duration": 16,
    "start_time": "2024-04-13T09:12:35.720Z"
   },
   {
    "duration": 2519,
    "start_time": "2024-04-13T09:12:41.878Z"
   },
   {
    "duration": 157,
    "start_time": "2024-04-13T09:13:58.563Z"
   },
   {
    "duration": 2632,
    "start_time": "2024-04-13T09:19:54.291Z"
   },
   {
    "duration": 130,
    "start_time": "2024-04-13T09:20:45.822Z"
   },
   {
    "duration": 6262,
    "start_time": "2024-04-13T09:21:55.250Z"
   },
   {
    "duration": 5630,
    "start_time": "2024-04-13T09:22:01.515Z"
   },
   {
    "duration": 1512,
    "start_time": "2024-04-13T09:22:07.148Z"
   },
   {
    "duration": 51,
    "start_time": "2024-04-13T09:22:08.662Z"
   },
   {
    "duration": 1025,
    "start_time": "2024-04-13T09:22:08.715Z"
   },
   {
    "duration": 214,
    "start_time": "2024-04-13T09:22:09.742Z"
   },
   {
    "duration": 157,
    "start_time": "2024-04-13T09:22:09.958Z"
   },
   {
    "duration": 119,
    "start_time": "2024-04-13T09:22:10.117Z"
   },
   {
    "duration": 1167,
    "start_time": "2024-04-13T09:22:10.238Z"
   },
   {
    "duration": 553,
    "start_time": "2024-04-13T09:22:11.407Z"
   },
   {
    "duration": 4339,
    "start_time": "2024-04-13T09:22:11.962Z"
   },
   {
    "duration": 200,
    "start_time": "2024-04-13T09:22:16.303Z"
   },
   {
    "duration": 2700,
    "start_time": "2024-04-13T09:22:16.505Z"
   },
   {
    "duration": 1231,
    "start_time": "2024-04-13T09:22:19.208Z"
   },
   {
    "duration": 40,
    "start_time": "2024-04-13T09:22:20.441Z"
   },
   {
    "duration": 2426,
    "start_time": "2024-04-13T09:22:20.483Z"
   },
   {
    "duration": 10659,
    "start_time": "2024-04-13T09:22:22.911Z"
   },
   {
    "duration": 17,
    "start_time": "2024-04-13T09:22:33.572Z"
   },
   {
    "duration": 120,
    "start_time": "2024-04-13T09:22:33.591Z"
   },
   {
    "duration": 1159,
    "start_time": "2024-04-13T09:22:33.713Z"
   },
   {
    "duration": 52993,
    "start_time": "2024-04-13T09:22:34.874Z"
   },
   {
    "duration": 0,
    "start_time": "2024-04-13T09:23:27.869Z"
   },
   {
    "duration": 0,
    "start_time": "2024-04-13T09:23:27.870Z"
   },
   {
    "duration": 0,
    "start_time": "2024-04-13T09:23:27.871Z"
   },
   {
    "duration": 2524,
    "start_time": "2024-04-13T09:23:31.920Z"
   },
   {
    "duration": 124,
    "start_time": "2024-04-13T09:23:43.147Z"
   },
   {
    "duration": 347,
    "start_time": "2024-04-13T09:24:56.207Z"
   },
   {
    "duration": 403,
    "start_time": "2024-04-13T09:25:02.636Z"
   },
   {
    "duration": 44,
    "start_time": "2024-04-13T09:25:03.041Z"
   },
   {
    "duration": 2417,
    "start_time": "2024-04-13T09:25:03.087Z"
   },
   {
    "duration": 10709,
    "start_time": "2024-04-13T09:25:05.506Z"
   },
   {
    "duration": 16,
    "start_time": "2024-04-13T09:25:16.217Z"
   },
   {
    "duration": 120,
    "start_time": "2024-04-13T09:25:16.235Z"
   },
   {
    "duration": 1065,
    "start_time": "2024-04-13T09:25:16.357Z"
   },
   {
    "duration": 87571,
    "start_time": "2024-04-13T09:25:17.424Z"
   },
   {
    "duration": 2763,
    "start_time": "2024-04-13T09:26:44.996Z"
   },
   {
    "duration": 0,
    "start_time": "2024-04-13T09:26:47.761Z"
   },
   {
    "duration": 0,
    "start_time": "2024-04-13T09:26:47.762Z"
   },
   {
    "duration": 634,
    "start_time": "2024-04-13T09:28:05.270Z"
   },
   {
    "duration": 6188,
    "start_time": "2024-04-13T09:28:20.034Z"
   },
   {
    "duration": 5551,
    "start_time": "2024-04-13T09:28:26.225Z"
   },
   {
    "duration": 1527,
    "start_time": "2024-04-13T09:28:31.778Z"
   },
   {
    "duration": 46,
    "start_time": "2024-04-13T09:28:33.307Z"
   },
   {
    "duration": 978,
    "start_time": "2024-04-13T09:28:33.354Z"
   },
   {
    "duration": 178,
    "start_time": "2024-04-13T09:28:34.334Z"
   },
   {
    "duration": 185,
    "start_time": "2024-04-13T09:28:34.514Z"
   },
   {
    "duration": 127,
    "start_time": "2024-04-13T09:28:34.701Z"
   },
   {
    "duration": 1139,
    "start_time": "2024-04-13T09:28:34.830Z"
   },
   {
    "duration": 423,
    "start_time": "2024-04-13T09:28:35.972Z"
   },
   {
    "duration": 4213,
    "start_time": "2024-04-13T09:28:36.397Z"
   },
   {
    "duration": 177,
    "start_time": "2024-04-13T09:28:40.612Z"
   },
   {
    "duration": 2726,
    "start_time": "2024-04-13T09:28:40.791Z"
   },
   {
    "duration": 1229,
    "start_time": "2024-04-13T09:28:43.519Z"
   },
   {
    "duration": 44,
    "start_time": "2024-04-13T09:28:44.750Z"
   },
   {
    "duration": 2441,
    "start_time": "2024-04-13T09:28:44.796Z"
   },
   {
    "duration": 10700,
    "start_time": "2024-04-13T09:28:47.238Z"
   },
   {
    "duration": 17,
    "start_time": "2024-04-13T09:28:57.939Z"
   },
   {
    "duration": 110,
    "start_time": "2024-04-13T09:28:57.958Z"
   },
   {
    "duration": 1061,
    "start_time": "2024-04-13T09:28:58.070Z"
   },
   {
    "duration": 158561,
    "start_time": "2024-04-13T09:28:59.133Z"
   },
   {
    "duration": 2824,
    "start_time": "2024-04-13T09:31:37.696Z"
   },
   {
    "duration": 0,
    "start_time": "2024-04-13T09:31:40.522Z"
   },
   {
    "duration": 0,
    "start_time": "2024-04-13T09:31:40.523Z"
   },
   {
    "duration": 122,
    "start_time": "2024-04-13T09:32:49.437Z"
   },
   {
    "duration": 11,
    "start_time": "2024-04-13T09:33:46.943Z"
   },
   {
    "duration": 2623,
    "start_time": "2024-04-13T09:33:51.645Z"
   },
   {
    "duration": 18,
    "start_time": "2024-04-13T09:35:32.769Z"
   },
   {
    "duration": 22,
    "start_time": "2024-04-13T09:36:05.716Z"
   },
   {
    "duration": 20,
    "start_time": "2024-04-13T09:36:53.537Z"
   },
   {
    "duration": 92,
    "start_time": "2024-04-13T09:37:25.753Z"
   },
   {
    "duration": 1037,
    "start_time": "2024-04-13T09:37:28.599Z"
   },
   {
    "duration": 2624,
    "start_time": "2024-04-13T09:37:32.558Z"
   },
   {
    "duration": 20,
    "start_time": "2024-04-13T09:37:44.162Z"
   },
   {
    "duration": 108,
    "start_time": "2024-04-13T09:38:32.526Z"
   },
   {
    "duration": 1104,
    "start_time": "2024-04-13T09:38:35.595Z"
   },
   {
    "duration": 99,
    "start_time": "2024-04-13T09:38:47.063Z"
   },
   {
    "duration": 2638,
    "start_time": "2024-04-13T09:38:52.199Z"
   },
   {
    "duration": 86890,
    "start_time": "2024-04-13T09:39:05.841Z"
   },
   {
    "duration": 2975,
    "start_time": "2024-04-13T09:40:34.950Z"
   },
   {
    "duration": 4243,
    "start_time": "2024-04-13T09:40:51.983Z"
   },
   {
    "duration": 12,
    "start_time": "2024-04-13T09:52:55.277Z"
   },
   {
    "duration": 5,
    "start_time": "2024-04-13T09:52:59.108Z"
   },
   {
    "duration": 17,
    "start_time": "2024-04-13T09:53:02.199Z"
   },
   {
    "duration": 5950,
    "start_time": "2024-04-13T09:56:33.307Z"
   },
   {
    "duration": 5356,
    "start_time": "2024-04-13T09:56:39.259Z"
   },
   {
    "duration": 1511,
    "start_time": "2024-04-13T09:56:44.617Z"
   },
   {
    "duration": 47,
    "start_time": "2024-04-13T09:56:46.131Z"
   },
   {
    "duration": 1025,
    "start_time": "2024-04-13T09:56:46.179Z"
   },
   {
    "duration": 185,
    "start_time": "2024-04-13T09:56:47.206Z"
   },
   {
    "duration": 153,
    "start_time": "2024-04-13T09:56:47.393Z"
   },
   {
    "duration": 117,
    "start_time": "2024-04-13T09:56:47.548Z"
   },
   {
    "duration": 1192,
    "start_time": "2024-04-13T09:56:47.666Z"
   },
   {
    "duration": 423,
    "start_time": "2024-04-13T09:56:48.861Z"
   },
   {
    "duration": 4110,
    "start_time": "2024-04-13T09:56:49.286Z"
   },
   {
    "duration": 172,
    "start_time": "2024-04-13T09:56:53.397Z"
   },
   {
    "duration": 2725,
    "start_time": "2024-04-13T09:56:53.571Z"
   },
   {
    "duration": 1231,
    "start_time": "2024-04-13T09:56:56.297Z"
   },
   {
    "duration": 34,
    "start_time": "2024-04-13T09:56:57.530Z"
   },
   {
    "duration": 2303,
    "start_time": "2024-04-13T09:56:57.579Z"
   },
   {
    "duration": 10658,
    "start_time": "2024-04-13T09:56:59.884Z"
   },
   {
    "duration": 16,
    "start_time": "2024-04-13T09:57:10.543Z"
   },
   {
    "duration": 97,
    "start_time": "2024-04-13T09:57:10.561Z"
   },
   {
    "duration": 5,
    "start_time": "2024-04-13T09:57:10.659Z"
   },
   {
    "duration": 5640,
    "start_time": "2024-04-13T10:46:22.714Z"
   },
   {
    "duration": 5138,
    "start_time": "2024-04-13T10:46:28.357Z"
   },
   {
    "duration": 1433,
    "start_time": "2024-04-13T10:46:33.497Z"
   },
   {
    "duration": 48,
    "start_time": "2024-04-13T10:46:34.931Z"
   },
   {
    "duration": 903,
    "start_time": "2024-04-13T10:46:34.982Z"
   },
   {
    "duration": 169,
    "start_time": "2024-04-13T10:46:35.886Z"
   },
   {
    "duration": 145,
    "start_time": "2024-04-13T10:46:36.057Z"
   },
   {
    "duration": 120,
    "start_time": "2024-04-13T10:46:36.203Z"
   },
   {
    "duration": 1061,
    "start_time": "2024-04-13T10:46:36.325Z"
   },
   {
    "duration": 392,
    "start_time": "2024-04-13T10:46:37.388Z"
   },
   {
    "duration": 4015,
    "start_time": "2024-04-13T10:46:37.782Z"
   },
   {
    "duration": 162,
    "start_time": "2024-04-13T10:46:41.799Z"
   },
   {
    "duration": 2530,
    "start_time": "2024-04-13T10:46:41.963Z"
   },
   {
    "duration": 1104,
    "start_time": "2024-04-13T10:46:44.497Z"
   },
   {
    "duration": 31,
    "start_time": "2024-04-13T10:46:45.602Z"
   },
   {
    "duration": 2151,
    "start_time": "2024-04-13T10:46:45.634Z"
   },
   {
    "duration": 9804,
    "start_time": "2024-04-13T10:46:47.786Z"
   },
   {
    "duration": 16,
    "start_time": "2024-04-13T10:46:57.591Z"
   },
   {
    "duration": 101,
    "start_time": "2024-04-13T10:46:57.609Z"
   },
   {
    "duration": 7,
    "start_time": "2024-04-13T10:46:57.712Z"
   },
   {
    "duration": 5700,
    "start_time": "2024-04-13T10:48:25.228Z"
   },
   {
    "duration": 5067,
    "start_time": "2024-04-13T10:48:30.930Z"
   },
   {
    "duration": 1403,
    "start_time": "2024-04-13T10:48:35.999Z"
   },
   {
    "duration": 43,
    "start_time": "2024-04-13T10:48:37.403Z"
   },
   {
    "duration": 953,
    "start_time": "2024-04-13T10:48:37.449Z"
   },
   {
    "duration": 173,
    "start_time": "2024-04-13T10:48:38.404Z"
   },
   {
    "duration": 162,
    "start_time": "2024-04-13T10:48:38.580Z"
   },
   {
    "duration": 113,
    "start_time": "2024-04-13T10:48:38.744Z"
   },
   {
    "duration": 1074,
    "start_time": "2024-04-13T10:48:38.858Z"
   },
   {
    "duration": 406,
    "start_time": "2024-04-13T10:48:39.933Z"
   },
   {
    "duration": 4080,
    "start_time": "2024-04-13T10:48:40.340Z"
   },
   {
    "duration": 171,
    "start_time": "2024-04-13T10:48:44.422Z"
   },
   {
    "duration": 2596,
    "start_time": "2024-04-13T10:48:44.595Z"
   },
   {
    "duration": 1052,
    "start_time": "2024-04-13T10:48:47.194Z"
   },
   {
    "duration": 60,
    "start_time": "2024-04-13T10:48:48.248Z"
   },
   {
    "duration": 2239,
    "start_time": "2024-04-13T10:48:48.310Z"
   },
   {
    "duration": 10070,
    "start_time": "2024-04-13T10:48:50.551Z"
   },
   {
    "duration": 16,
    "start_time": "2024-04-13T10:49:00.623Z"
   },
   {
    "duration": 254,
    "start_time": "2024-04-13T10:49:00.640Z"
   },
   {
    "duration": 5,
    "start_time": "2024-04-13T10:49:00.895Z"
   },
   {
    "duration": 5381,
    "start_time": "2024-04-13T10:53:44.845Z"
   },
   {
    "duration": 5019,
    "start_time": "2024-04-13T10:53:50.229Z"
   },
   {
    "duration": 1325,
    "start_time": "2024-04-13T10:53:55.250Z"
   },
   {
    "duration": 52,
    "start_time": "2024-04-13T10:53:56.577Z"
   },
   {
    "duration": 905,
    "start_time": "2024-04-13T10:53:56.632Z"
   },
   {
    "duration": 174,
    "start_time": "2024-04-13T10:53:57.538Z"
   },
   {
    "duration": 159,
    "start_time": "2024-04-13T10:53:57.713Z"
   },
   {
    "duration": 129,
    "start_time": "2024-04-13T10:53:57.880Z"
   },
   {
    "duration": 1122,
    "start_time": "2024-04-13T10:53:58.011Z"
   },
   {
    "duration": 390,
    "start_time": "2024-04-13T10:53:59.135Z"
   },
   {
    "duration": 4072,
    "start_time": "2024-04-13T10:53:59.527Z"
   },
   {
    "duration": 170,
    "start_time": "2024-04-13T10:54:03.601Z"
   },
   {
    "duration": 2534,
    "start_time": "2024-04-13T10:54:03.773Z"
   },
   {
    "duration": 1130,
    "start_time": "2024-04-13T10:54:06.309Z"
   },
   {
    "duration": 48,
    "start_time": "2024-04-13T10:54:07.441Z"
   },
   {
    "duration": 2288,
    "start_time": "2024-04-13T10:54:07.492Z"
   },
   {
    "duration": 9800,
    "start_time": "2024-04-13T10:54:09.781Z"
   },
   {
    "duration": 14,
    "start_time": "2024-04-13T10:54:19.583Z"
   },
   {
    "duration": 106,
    "start_time": "2024-04-13T10:54:19.598Z"
   },
   {
    "duration": 4,
    "start_time": "2024-04-13T10:54:19.706Z"
   },
   {
    "duration": 219813,
    "start_time": "2024-04-13T10:54:19.711Z"
   },
   {
    "duration": 1011,
    "start_time": "2024-04-13T10:57:59.525Z"
   },
   {
    "duration": 20852,
    "start_time": "2024-04-13T10:58:00.538Z"
   },
   {
    "duration": 3812,
    "start_time": "2024-04-13T10:58:21.391Z"
   },
   {
    "duration": 116,
    "start_time": "2024-04-13T10:58:25.205Z"
   },
   {
    "duration": 77,
    "start_time": "2024-04-13T10:58:25.322Z"
   },
   {
    "duration": 14,
    "start_time": "2024-04-13T10:58:25.401Z"
   },
   {
    "duration": 6,
    "start_time": "2024-04-13T10:59:16.986Z"
   },
   {
    "duration": 4,
    "start_time": "2024-04-13T11:01:36.475Z"
   },
   {
    "duration": 1053,
    "start_time": "2024-04-13T11:01:36.482Z"
   },
   {
    "duration": 43159,
    "start_time": "2024-04-13T11:01:37.537Z"
   },
   {
    "duration": 3887,
    "start_time": "2024-04-13T11:02:20.698Z"
   },
   {
    "duration": 131,
    "start_time": "2024-04-13T11:02:24.587Z"
   },
   {
    "duration": 83,
    "start_time": "2024-04-13T11:02:24.720Z"
   },
   {
    "duration": 31,
    "start_time": "2024-04-13T11:02:24.805Z"
   },
   {
    "duration": 3,
    "start_time": "2024-04-13T11:05:20.354Z"
   },
   {
    "duration": 217320,
    "start_time": "2024-04-13T11:06:02.618Z"
   },
   {
    "duration": 10252,
    "start_time": "2024-04-13T20:53:13.878Z"
   },
   {
    "duration": 5205,
    "start_time": "2024-04-13T20:53:24.133Z"
   },
   {
    "duration": 1628,
    "start_time": "2024-04-13T20:53:29.340Z"
   },
   {
    "duration": 49,
    "start_time": "2024-04-13T20:53:30.971Z"
   },
   {
    "duration": 3039,
    "start_time": "2024-04-13T20:53:31.021Z"
   },
   {
    "duration": 179,
    "start_time": "2024-04-13T20:53:34.062Z"
   },
   {
    "duration": 181,
    "start_time": "2024-04-13T20:53:34.243Z"
   },
   {
    "duration": 125,
    "start_time": "2024-04-13T20:53:34.426Z"
   },
   {
    "duration": 1105,
    "start_time": "2024-04-13T20:53:34.553Z"
   },
   {
    "duration": 468,
    "start_time": "2024-04-13T20:53:35.661Z"
   },
   {
    "duration": 3967,
    "start_time": "2024-04-13T20:53:36.131Z"
   },
   {
    "duration": 156,
    "start_time": "2024-04-13T20:53:40.100Z"
   },
   {
    "duration": 2630,
    "start_time": "2024-04-13T20:53:40.258Z"
   },
   {
    "duration": 1150,
    "start_time": "2024-04-13T20:53:42.890Z"
   },
   {
    "duration": 43,
    "start_time": "2024-04-13T20:53:44.042Z"
   },
   {
    "duration": 2215,
    "start_time": "2024-04-13T20:53:44.086Z"
   },
   {
    "duration": 10310,
    "start_time": "2024-04-13T20:53:46.303Z"
   },
   {
    "duration": 15,
    "start_time": "2024-04-13T20:53:56.614Z"
   },
   {
    "duration": 100,
    "start_time": "2024-04-13T20:53:56.630Z"
   },
   {
    "duration": 126,
    "start_time": "2024-04-13T20:53:56.731Z"
   },
   {
    "duration": 0,
    "start_time": "2024-04-13T20:53:56.859Z"
   },
   {
    "duration": 0,
    "start_time": "2024-04-13T20:53:56.860Z"
   },
   {
    "duration": 0,
    "start_time": "2024-04-13T20:53:56.861Z"
   },
   {
    "duration": 0,
    "start_time": "2024-04-13T20:53:56.862Z"
   },
   {
    "duration": 0,
    "start_time": "2024-04-13T20:53:56.863Z"
   },
   {
    "duration": 5,
    "start_time": "2024-04-13T20:57:21.740Z"
   },
   {
    "duration": 224310,
    "start_time": "2024-04-13T20:57:26.842Z"
   },
   {
    "duration": 178,
    "start_time": "2024-04-13T21:01:22.185Z"
   },
   {
    "duration": 1017,
    "start_time": "2024-04-13T21:01:48.381Z"
   },
   {
    "duration": 35077,
    "start_time": "2024-04-13T21:02:03.026Z"
   },
   {
    "duration": 340936,
    "start_time": "2024-04-13T21:03:10.985Z"
   },
   {
    "duration": 26176,
    "start_time": "2024-04-13T21:15:58.435Z"
   },
   {
    "duration": 81,
    "start_time": "2024-04-13T21:16:30.143Z"
   },
   {
    "duration": 25194,
    "start_time": "2024-04-13T21:16:34.919Z"
   },
   {
    "duration": 84,
    "start_time": "2024-04-13T21:22:42.794Z"
   },
   {
    "duration": 86241,
    "start_time": "2024-04-13T21:22:51.898Z"
   },
   {
    "duration": 176,
    "start_time": "2024-04-13T21:30:46.473Z"
   },
   {
    "duration": 5,
    "start_time": "2024-04-13T21:33:30.399Z"
   },
   {
    "duration": 11,
    "start_time": "2024-04-13T21:33:38.814Z"
   },
   {
    "duration": 63,
    "start_time": "2024-04-13T21:42:46.177Z"
   },
   {
    "duration": 10451,
    "start_time": "2024-04-14T14:23:05.567Z"
   },
   {
    "duration": 5406,
    "start_time": "2024-04-14T14:23:16.021Z"
   },
   {
    "duration": 1774,
    "start_time": "2024-04-14T14:23:21.430Z"
   },
   {
    "duration": 125,
    "start_time": "2024-04-14T14:23:30.243Z"
   },
   {
    "duration": 3,
    "start_time": "2024-04-14T14:23:52.969Z"
   },
   {
    "duration": 1517,
    "start_time": "2024-04-14T14:23:56.741Z"
   },
   {
    "duration": 142,
    "start_time": "2024-04-14T14:24:00.604Z"
   },
   {
    "duration": 90,
    "start_time": "2024-04-14T15:01:27.670Z"
   },
   {
    "duration": 15,
    "start_time": "2024-04-14T15:01:36.006Z"
   },
   {
    "duration": 39,
    "start_time": "2024-04-14T15:02:00.803Z"
   },
   {
    "duration": 90,
    "start_time": "2024-04-14T15:03:59.864Z"
   },
   {
    "duration": 28,
    "start_time": "2024-04-14T15:07:35.883Z"
   },
   {
    "duration": 46,
    "start_time": "2024-04-14T15:09:05.465Z"
   },
   {
    "duration": 16,
    "start_time": "2024-04-14T15:12:53.950Z"
   },
   {
    "duration": 5952,
    "start_time": "2024-04-14T17:15:42.214Z"
   },
   {
    "duration": 5319,
    "start_time": "2024-04-14T17:15:48.169Z"
   },
   {
    "duration": 61,
    "start_time": "2024-04-14T17:15:53.490Z"
   },
   {
    "duration": 3,
    "start_time": "2024-04-14T17:15:53.553Z"
   },
   {
    "duration": 1110,
    "start_time": "2024-04-14T17:15:53.558Z"
   },
   {
    "duration": 129,
    "start_time": "2024-04-14T17:15:54.670Z"
   },
   {
    "duration": 109,
    "start_time": "2024-04-14T17:15:54.801Z"
   },
   {
    "duration": 106,
    "start_time": "2024-04-14T17:15:54.912Z"
   },
   {
    "duration": 652,
    "start_time": "2024-04-14T17:15:55.020Z"
   },
   {
    "duration": 135,
    "start_time": "2024-04-14T17:15:55.674Z"
   },
   {
    "duration": 4123,
    "start_time": "2024-04-14T17:15:55.810Z"
   },
   {
    "duration": 186,
    "start_time": "2024-04-14T17:15:59.935Z"
   },
   {
    "duration": 2579,
    "start_time": "2024-04-14T17:16:00.123Z"
   },
   {
    "duration": 1135,
    "start_time": "2024-04-14T17:16:02.703Z"
   },
   {
    "duration": 32,
    "start_time": "2024-04-14T17:16:03.840Z"
   },
   {
    "duration": 101,
    "start_time": "2024-04-14T17:16:03.874Z"
   },
   {
    "duration": 19,
    "start_time": "2024-04-14T17:16:03.977Z"
   },
   {
    "duration": 35,
    "start_time": "2024-04-14T17:16:03.998Z"
   },
   {
    "duration": 2147,
    "start_time": "2024-04-14T17:16:04.043Z"
   },
   {
    "duration": 10011,
    "start_time": "2024-04-14T17:16:06.193Z"
   },
   {
    "duration": 16,
    "start_time": "2024-04-14T17:16:16.206Z"
   },
   {
    "duration": 141,
    "start_time": "2024-04-14T17:16:25.146Z"
   },
   {
    "duration": 765,
    "start_time": "2024-04-14T17:18:04.367Z"
   },
   {
    "duration": 728,
    "start_time": "2024-04-14T17:18:34.871Z"
   },
   {
    "duration": 16,
    "start_time": "2024-04-14T17:21:13.644Z"
   },
   {
    "duration": 6,
    "start_time": "2024-04-14T17:21:26.071Z"
   },
   {
    "duration": 86311,
    "start_time": "2024-04-14T17:21:31.553Z"
   },
   {
    "duration": 0,
    "start_time": "2024-04-14T17:22:58.053Z"
   },
   {
    "duration": 23516,
    "start_time": "2024-04-14T17:30:17.675Z"
   },
   {
    "duration": 26586,
    "start_time": "2024-04-14T17:31:16.259Z"
   },
   {
    "duration": 941,
    "start_time": "2024-04-14T17:41:03.635Z"
   },
   {
    "duration": 293192,
    "start_time": "2024-04-14T17:41:06.529Z"
   },
   {
    "duration": 198,
    "start_time": "2024-04-14T17:45:59.793Z"
   },
   {
    "duration": 87556,
    "start_time": "2024-04-14T17:48:36.797Z"
   },
   {
    "duration": 425079,
    "start_time": "2024-04-14T17:50:58.943Z"
   },
   {
    "duration": 67052,
    "start_time": "2024-04-14T18:00:35.784Z"
   },
   {
    "duration": 113,
    "start_time": "2024-04-14T18:03:38.488Z"
   },
   {
    "duration": 25,
    "start_time": "2024-04-14T18:03:47.967Z"
   },
   {
    "duration": 12829,
    "start_time": "2024-04-14T18:04:26.559Z"
   },
   {
    "duration": 18,
    "start_time": "2024-04-14T18:04:39.390Z"
   },
   {
    "duration": 17,
    "start_time": "2024-04-14T18:04:45.088Z"
   },
   {
    "duration": 13614,
    "start_time": "2024-04-14T18:05:03.420Z"
   },
   {
    "duration": 20,
    "start_time": "2024-04-14T18:05:20.040Z"
   },
   {
    "duration": 10221,
    "start_time": "2024-04-14T18:08:52.031Z"
   },
   {
    "duration": 14,
    "start_time": "2024-04-14T18:09:39.683Z"
   },
   {
    "duration": 14,
    "start_time": "2024-04-14T18:09:50.412Z"
   },
   {
    "duration": 7661,
    "start_time": "2024-04-14T18:09:56.293Z"
   },
   {
    "duration": 15,
    "start_time": "2024-04-14T18:10:03.956Z"
   },
   {
    "duration": 5896,
    "start_time": "2024-04-14T18:21:58.505Z"
   },
   {
    "duration": 5179,
    "start_time": "2024-04-14T18:22:04.404Z"
   },
   {
    "duration": 1503,
    "start_time": "2024-04-14T18:22:09.586Z"
   },
   {
    "duration": 3,
    "start_time": "2024-04-14T18:22:11.091Z"
   },
   {
    "duration": 1200,
    "start_time": "2024-04-14T18:22:11.096Z"
   },
   {
    "duration": 135,
    "start_time": "2024-04-14T18:22:12.298Z"
   },
   {
    "duration": 108,
    "start_time": "2024-04-14T18:22:12.435Z"
   },
   {
    "duration": 130,
    "start_time": "2024-04-14T18:22:12.545Z"
   },
   {
    "duration": 791,
    "start_time": "2024-04-14T18:22:12.677Z"
   },
   {
    "duration": 132,
    "start_time": "2024-04-14T18:22:13.470Z"
   },
   {
    "duration": 4111,
    "start_time": "2024-04-14T18:22:13.604Z"
   },
   {
    "duration": 184,
    "start_time": "2024-04-14T18:22:17.717Z"
   },
   {
    "duration": 2709,
    "start_time": "2024-04-14T18:22:17.903Z"
   },
   {
    "duration": 1134,
    "start_time": "2024-04-14T18:22:20.614Z"
   },
   {
    "duration": 48,
    "start_time": "2024-04-14T18:22:21.750Z"
   },
   {
    "duration": 108,
    "start_time": "2024-04-14T18:22:21.800Z"
   },
   {
    "duration": 5,
    "start_time": "2024-04-14T18:22:21.910Z"
   },
   {
    "duration": 704,
    "start_time": "2024-04-14T18:22:21.916Z"
   },
   {
    "duration": 2302,
    "start_time": "2024-04-14T18:22:22.621Z"
   },
   {
    "duration": 9819,
    "start_time": "2024-04-14T18:22:24.925Z"
   },
   {
    "duration": 15,
    "start_time": "2024-04-14T18:22:34.746Z"
   },
   {
    "duration": 144,
    "start_time": "2024-04-14T18:22:34.763Z"
   },
   {
    "duration": 5,
    "start_time": "2024-04-14T18:22:34.909Z"
   },
   {
    "duration": 90341,
    "start_time": "2024-04-14T18:22:34.915Z"
   },
   {
    "duration": 189,
    "start_time": "2024-04-14T18:24:05.258Z"
   },
   {
    "duration": 954,
    "start_time": "2024-04-14T18:24:05.449Z"
   },
   {
    "duration": 0,
    "start_time": "2024-04-14T18:24:06.404Z"
   },
   {
    "duration": 0,
    "start_time": "2024-04-14T18:24:06.405Z"
   },
   {
    "duration": 0,
    "start_time": "2024-04-14T18:24:06.406Z"
   },
   {
    "duration": 0,
    "start_time": "2024-04-14T18:24:06.408Z"
   },
   {
    "duration": 30,
    "start_time": "2024-04-14T18:29:27.691Z"
   },
   {
    "duration": 1024,
    "start_time": "2024-04-14T18:29:47.751Z"
   },
   {
    "duration": 6031,
    "start_time": "2024-04-14T18:32:39.515Z"
   },
   {
    "duration": 5296,
    "start_time": "2024-04-14T18:32:45.548Z"
   },
   {
    "duration": 1527,
    "start_time": "2024-04-14T18:32:50.846Z"
   },
   {
    "duration": 4,
    "start_time": "2024-04-14T18:32:52.375Z"
   },
   {
    "duration": 1171,
    "start_time": "2024-04-14T18:32:52.381Z"
   },
   {
    "duration": 131,
    "start_time": "2024-04-14T18:32:53.553Z"
   },
   {
    "duration": 112,
    "start_time": "2024-04-14T18:32:53.685Z"
   },
   {
    "duration": 148,
    "start_time": "2024-04-14T18:32:53.799Z"
   },
   {
    "duration": 750,
    "start_time": "2024-04-14T18:32:53.948Z"
   },
   {
    "duration": 127,
    "start_time": "2024-04-14T18:32:54.701Z"
   },
   {
    "duration": 4177,
    "start_time": "2024-04-14T18:32:54.830Z"
   },
   {
    "duration": 182,
    "start_time": "2024-04-14T18:32:59.009Z"
   },
   {
    "duration": 2828,
    "start_time": "2024-04-14T18:32:59.193Z"
   },
   {
    "duration": 1154,
    "start_time": "2024-04-14T18:33:02.023Z"
   },
   {
    "duration": 42,
    "start_time": "2024-04-14T18:33:03.179Z"
   },
   {
    "duration": 103,
    "start_time": "2024-04-14T18:33:03.223Z"
   },
   {
    "duration": 6,
    "start_time": "2024-04-14T18:33:03.328Z"
   },
   {
    "duration": 807,
    "start_time": "2024-04-14T18:33:03.335Z"
   },
   {
    "duration": 2236,
    "start_time": "2024-04-14T18:33:04.143Z"
   },
   {
    "duration": 9983,
    "start_time": "2024-04-14T18:33:06.381Z"
   },
   {
    "duration": 16,
    "start_time": "2024-04-14T18:33:16.366Z"
   },
   {
    "duration": 142,
    "start_time": "2024-04-14T18:33:16.384Z"
   },
   {
    "duration": 5,
    "start_time": "2024-04-14T18:33:16.527Z"
   },
   {
    "duration": 84628,
    "start_time": "2024-04-14T18:33:16.534Z"
   },
   {
    "duration": 200,
    "start_time": "2024-04-14T18:34:41.164Z"
   },
   {
    "duration": 953,
    "start_time": "2024-04-14T18:34:41.365Z"
   },
   {
    "duration": 5865,
    "start_time": "2024-04-14T18:44:06.530Z"
   },
   {
    "duration": 5435,
    "start_time": "2024-04-14T18:44:12.398Z"
   },
   {
    "duration": 1512,
    "start_time": "2024-04-14T18:44:17.835Z"
   },
   {
    "duration": 3,
    "start_time": "2024-04-14T18:44:19.349Z"
   },
   {
    "duration": 1179,
    "start_time": "2024-04-14T18:44:19.354Z"
   },
   {
    "duration": 144,
    "start_time": "2024-04-14T18:44:20.535Z"
   },
   {
    "duration": 127,
    "start_time": "2024-04-14T18:44:20.681Z"
   },
   {
    "duration": 134,
    "start_time": "2024-04-14T18:44:20.810Z"
   },
   {
    "duration": 777,
    "start_time": "2024-04-14T18:44:20.945Z"
   },
   {
    "duration": 134,
    "start_time": "2024-04-14T18:44:21.724Z"
   },
   {
    "duration": 4147,
    "start_time": "2024-04-14T18:44:21.860Z"
   },
   {
    "duration": 192,
    "start_time": "2024-04-14T18:44:26.009Z"
   },
   {
    "duration": 2794,
    "start_time": "2024-04-14T18:44:26.203Z"
   },
   {
    "duration": 1167,
    "start_time": "2024-04-14T18:44:28.999Z"
   },
   {
    "duration": 49,
    "start_time": "2024-04-14T18:44:30.168Z"
   },
   {
    "duration": 119,
    "start_time": "2024-04-14T18:44:30.218Z"
   },
   {
    "duration": 14,
    "start_time": "2024-04-14T18:44:30.339Z"
   },
   {
    "duration": 931,
    "start_time": "2024-04-14T18:44:30.354Z"
   },
   {
    "duration": 2518,
    "start_time": "2024-04-14T18:44:31.287Z"
   },
   {
    "duration": 10002,
    "start_time": "2024-04-14T18:44:33.806Z"
   },
   {
    "duration": 18,
    "start_time": "2024-04-14T18:44:43.810Z"
   },
   {
    "duration": 158,
    "start_time": "2024-04-14T18:44:43.830Z"
   },
   {
    "duration": 5,
    "start_time": "2024-04-14T18:44:43.989Z"
   },
   {
    "duration": 81180,
    "start_time": "2024-04-14T18:44:43.996Z"
   },
   {
    "duration": 193,
    "start_time": "2024-04-14T18:46:05.192Z"
   },
   {
    "duration": 978,
    "start_time": "2024-04-14T18:46:05.391Z"
   },
   {
    "duration": 329621,
    "start_time": "2024-04-14T18:46:06.371Z"
   },
   {
    "duration": 26074,
    "start_time": "2024-04-14T18:51:35.996Z"
   },
   {
    "duration": 81676,
    "start_time": "2024-04-14T18:52:02.071Z"
   },
   {
    "duration": 0,
    "start_time": "2024-04-14T18:53:23.750Z"
   },
   {
    "duration": 0,
    "start_time": "2024-04-14T18:53:23.751Z"
   },
   {
    "duration": 5977,
    "start_time": "2024-04-14T18:53:59.980Z"
   },
   {
    "duration": 5219,
    "start_time": "2024-04-14T18:54:05.959Z"
   },
   {
    "duration": 1405,
    "start_time": "2024-04-14T18:54:11.180Z"
   },
   {
    "duration": 3,
    "start_time": "2024-04-14T18:54:12.587Z"
   },
   {
    "duration": 1169,
    "start_time": "2024-04-14T18:54:12.591Z"
   },
   {
    "duration": 132,
    "start_time": "2024-04-14T18:54:13.762Z"
   },
   {
    "duration": 121,
    "start_time": "2024-04-14T18:54:13.895Z"
   },
   {
    "duration": 140,
    "start_time": "2024-04-14T18:54:14.018Z"
   },
   {
    "duration": 740,
    "start_time": "2024-04-14T18:54:14.160Z"
   },
   {
    "duration": 128,
    "start_time": "2024-04-14T18:54:14.904Z"
   },
   {
    "duration": 4185,
    "start_time": "2024-04-14T18:54:15.034Z"
   },
   {
    "duration": 179,
    "start_time": "2024-04-14T18:54:19.220Z"
   },
   {
    "duration": 2721,
    "start_time": "2024-04-14T18:54:19.400Z"
   },
   {
    "duration": 1146,
    "start_time": "2024-04-14T18:54:22.123Z"
   },
   {
    "duration": 45,
    "start_time": "2024-04-14T18:54:23.271Z"
   },
   {
    "duration": 108,
    "start_time": "2024-04-14T18:54:23.327Z"
   },
   {
    "duration": 7,
    "start_time": "2024-04-14T18:54:23.437Z"
   },
   {
    "duration": 773,
    "start_time": "2024-04-14T18:54:23.445Z"
   },
   {
    "duration": 2333,
    "start_time": "2024-04-14T18:54:24.220Z"
   },
   {
    "duration": 10241,
    "start_time": "2024-04-14T18:54:26.555Z"
   },
   {
    "duration": 17,
    "start_time": "2024-04-14T18:54:36.798Z"
   },
   {
    "duration": 196,
    "start_time": "2024-04-14T18:54:36.817Z"
   },
   {
    "duration": 5,
    "start_time": "2024-04-14T18:54:37.015Z"
   },
   {
    "duration": 80542,
    "start_time": "2024-04-14T18:54:37.021Z"
   },
   {
    "duration": 201,
    "start_time": "2024-04-14T18:55:57.565Z"
   },
   {
    "duration": 982,
    "start_time": "2024-04-14T18:55:57.768Z"
   },
   {
    "duration": 146459,
    "start_time": "2024-04-14T18:55:58.752Z"
   },
   {
    "duration": 26558,
    "start_time": "2024-04-14T18:58:25.214Z"
   },
   {
    "duration": 254536,
    "start_time": "2024-04-14T18:58:51.773Z"
   },
   {
    "duration": 15,
    "start_time": "2024-04-14T19:03:06.311Z"
   }
  ],
  "kernelspec": {
   "display_name": "Python 3 (ipykernel)",
   "language": "python",
   "name": "python3"
  },
  "language_info": {
   "codemirror_mode": {
    "name": "ipython",
    "version": 3
   },
   "file_extension": ".py",
   "mimetype": "text/x-python",
   "name": "python",
   "nbconvert_exporter": "python",
   "pygments_lexer": "ipython3",
   "version": "3.11.5"
  },
  "toc": {
   "base_numbering": 1,
   "nav_menu": {},
   "number_sections": true,
   "sideBar": true,
   "skip_h1_title": true,
   "title_cell": "Table of Contents",
   "title_sidebar": "Contents",
   "toc_cell": false,
   "toc_position": {
    "height": "calc(100% - 180px)",
    "left": "10px",
    "top": "150px",
    "width": "192.764px"
   },
   "toc_section_display": true,
   "toc_window_display": false
  }
 },
 "nbformat": 4,
 "nbformat_minor": 2
}
