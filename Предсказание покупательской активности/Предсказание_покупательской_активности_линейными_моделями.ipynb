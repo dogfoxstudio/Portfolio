{
 "cells": [
  {
   "cell_type": "markdown",
   "metadata": {
    "id": "H6cQIZr3ElW1"
   },
   "source": [
    "# Обучение с учителем: качество модели <br> Предсказание покупательской активности\n",
    "\n",
    "Интернет-магазин «В один клик» продаёт разные товары: для детей, для дома, мелкую бытовую технику, косметику и даже продукты. Отчёт магазина за прошлый период показал, что активность покупателей начала снижаться. Привлекать новых клиентов уже не так эффективно: о магазине и так знает большая часть целевой аудитории. Возможный выход — удерживать активность постоянных клиентов. Сделать это можно с помощью персонализированных предложений.\n",
    "Необходимо разработать решение, которое позволит персонализировать предложения постоянным клиентам, чтобы увеличить их покупательскую активность.\n",
    "\n",
    "В распоряжении имеются следующие данные:\n",
    "- `...`\n",
    "    Таблица, которая содержит данные о поведении покупателя на сайте, о коммуникациях с покупателем и его продуктовом поведении.\n",
    "    - `id` — номер покупателя в корпоративной базе данных.\n",
    "    - `Покупательская активность` — рассчитанный класс покупательской активности (целевой признак): «снизилась» или «прежний уровень».\n",
    "    - `Тип сервиса` — уровень сервиса, например «премиум» и «стандарт».\n",
    "    - `Разрешить сообщать` — информация о том, можно ли присылать покупателю дополнительные предложения о товаре. Согласие на это даёт покупатель.\n",
    "    - `Маркет_актив_6_мес` — среднемесячное значение маркетинговых коммуникаций компании, которое приходилось на покупателя за последние 6 месяцев. Это значение показывает, какое число рассылок, звонков, показов рекламы и прочего приходилось на клиента.\n",
    "    - `Маркет_актив_тек_мес` — количество маркетинговых коммуникаций в текущем месяце.\n",
    "    - `Длительность` — значение, которое показывает, сколько дней прошло с момента регистрации покупателя на сайте.\n",
    "    - `Акционные_покупки` — среднемесячная доля покупок по акции от общего числа покупок за последние 6 месяцев.\n",
    "    - `Популярная_категория` — самая популярная категория товаров у покупателя за последние 6 месяцев.\n",
    "    - `Средний_просмотр_категорий_за_визит` — показывает, сколько в среднем категорий покупатель просмотрел за визит в течение последнего месяца.\n",
    "    - `Неоплаченные_продукты_штук_квартал` — общее число неоплаченных товаров в корзине за последние 3 месяца.\n",
    "    - `Ошибка_сервиса` — число сбоев, которые коснулись покупателя во время посещения сайта.\n",
    "    - `Страниц_за_визит` — среднее количество страниц, которые просмотрел покупатель за один визит на сайт за последние 3 месяца.\n",
    "\n",
    "- `...`\n",
    "    Таблица с данными о выручке, которую получает магазин с покупателя, то есть сколько покупатель всего потратил за период взаимодействия с сайтом.\n",
    "\n",
    "    - `id` — номер покупателя в корпоративной базе данных.\n",
    "    - `Период` — название периода, во время которого зафиксирована выручка. Например, 'текущий_месяц' или 'предыдущий_месяц'.\n",
    "    - `Выручка` — сумма выручки за период.\n",
    "\n",
    "- `...`\n",
    "    Таблица с данными о времени (в минутах), которое покупатель провёл на сайте в течение периода.\n",
    "\n",
    "    - `id` — номер покупателя в корпоративной базе данных.\n",
    "    - `Период` — название периода, во время которого зафиксировано общее время.\n",
    "    - `минут` — значение времени, проведённого на сайте, в минутах.\n",
    "\n",
    "- `...`\n",
    "    Таблица с данными о среднемесячной прибыли покупателя за последние 3 месяца: какую прибыль получает магазин от продаж каждому покупателю.\n",
    "\n",
    "    - `id` — номер покупателя в корпоративной базе данных.\n",
    "    - `Прибыль` — значение прибыли.\n",
    "\n",
    "\n",
    "## Цели исследования\n",
    "- Нужно промаркировать уровень финансовой активности постоянных покупателей. В компании принято выделять два уровня активности: «снизилась», если клиент стал покупать меньше товаров, и «прежний уровень».\n",
    "- Нужно собрать данные по клиентам по следующим группам:\n",
    "    - Признаки, которые описывают коммуникацию сотрудников компании с клиентом.\n",
    "    - Признаки, которые описывают продуктовое поведение покупателя. Например, какие товары покупает и как часто.\n",
    "    - Признаки, которые описывают покупательское поведение клиента. Например, сколько тратил в магазине.\n",
    "    - Признаки, которые описывают поведение покупателя на сайте. Например, как много страниц просматривает и сколько времени проводит на сайте.\n",
    "\n",
    "## Ход работы\n",
    "\n",
    "**Общий план исследования:**\n",
    "- Загрузка данных\n",
    "- Предобработка данных (оценка их качестваи при необходимости исправление)\n",
    "- Исследовательский анализ данных\n",
    "- Разбивка и подготовка данных к обучению\n",
    "- Обучение моделей\n",
    "- Тестирование и верификации\n",
    "- Выводы\n",
    "\n",
    "### Подготовка к работе"
   ]
  },
  {
   "cell_type": "code",
   "execution_count": 1,
   "metadata": {},
   "outputs": [
    {
     "data": {
      "text/html": [
       "<style>.container { width:90% !important; }</style>"
      ],
      "text/plain": [
       "<IPython.core.display.HTML object>"
      ]
     },
     "metadata": {},
     "output_type": "display_data"
    }
   ],
   "source": [
    "from IPython.core.display import display, HTML\n",
    "display(HTML(\"<style>.container { width:90% !important; }</style>\"))\n",
    "\n",
    "import pandas as pd\n",
    "import seaborn as sns\n",
    "import numpy as np\n",
    "from matplotlib import pyplot as plt\n",
    "\n",
    "from sklearn.model_selection import train_test_split\n",
    "from sklearn.model_selection import GridSearchCV\n",
    "\n",
    "from sklearn.pipeline import Pipeline\n",
    "from sklearn.compose import ColumnTransformer\n",
    "\n",
    "from sklearn.preprocessing import OneHotEncoder, OrdinalEncoder, StandardScaler, MinMaxScaler\n",
    "\n",
    "from sklearn.impute import SimpleImputer\n",
    "\n",
    "from sklearn.linear_model import LogisticRegression\n",
    "from sklearn.neighbors import KNeighborsClassifier\n",
    "from sklearn.tree import DecisionTreeClassifier\n",
    "from sklearn.svm import SVC\n",
    "\n",
    "from sklearn.metrics import roc_auc_score\n",
    "from sklearn.metrics import fbeta_score\n",
    "from sklearn.metrics import make_scorer\n",
    "from sklearn.metrics import recall_score, precision_score\n",
    "from sklearn.metrics import confusion_matrix\n",
    "\n",
    "from scipy import stats as st\n",
    "\n",
    "!pip install phik -q\n",
    "#!pip install numpy==1.23.1\n",
    "#!pip install numba -U -q\n",
    "!pip install scikit-learn -U -q \n",
    "#!pip install scipy -U -q \n",
    "!pip install shap -U -q\n",
    "\n",
    "import shap\n",
    "\n",
    "from phik.report import plot_correlation_matrix\n",
    "from phik import report"
   ]
  },
  {
   "cell_type": "markdown",
   "metadata": {},
   "source": [
    "### Загрузка и обзор данных\n",
    "\n",
    "#### Загрузка данных"
   ]
  },
  {
   "cell_type": "code",
   "execution_count": 2,
   "metadata": {},
   "outputs": [],
   "source": [
    "market_file_df = ... # по просьбе Яндекс Практикума датасет открыто не распространяется\n",
    "market_money_df = ...\n",
    "time_df = ...\n",
    "money_df = ..."
   ]
  },
  {
   "cell_type": "markdown",
   "metadata": {},
   "source": [
    "#### Обзор данных"
   ]
  },
  {
   "cell_type": "code",
   "execution_count": 3,
   "metadata": {
    "scrolled": false
   },
   "outputs": [
    {
     "data": {
      "text/html": [
       "<div>\n",
       "<style scoped>\n",
       "    .dataframe tbody tr th:only-of-type {\n",
       "        vertical-align: middle;\n",
       "    }\n",
       "\n",
       "    .dataframe tbody tr th {\n",
       "        vertical-align: top;\n",
       "    }\n",
       "\n",
       "    .dataframe thead th {\n",
       "        text-align: right;\n",
       "    }\n",
       "</style>\n",
       "<table border=\"1\" class=\"dataframe\">\n",
       "  <thead>\n",
       "    <tr style=\"text-align: right;\">\n",
       "      <th></th>\n",
       "      <th>id</th>\n",
       "      <th>Покупательская активность</th>\n",
       "      <th>Тип сервиса</th>\n",
       "      <th>Разрешить сообщать</th>\n",
       "      <th>Маркет_актив_6_мес</th>\n",
       "      <th>Маркет_актив_тек_мес</th>\n",
       "      <th>Длительность</th>\n",
       "      <th>Акционные_покупки</th>\n",
       "      <th>Популярная_категория</th>\n",
       "      <th>Средний_просмотр_категорий_за_визит</th>\n",
       "      <th>Неоплаченные_продукты_штук_квартал</th>\n",
       "      <th>Ошибка_сервиса</th>\n",
       "      <th>Страниц_за_визит</th>\n",
       "    </tr>\n",
       "  </thead>\n",
       "  <tbody>\n",
       "    <tr>\n",
       "      <th>0</th>\n",
       "      <td>215348</td>\n",
       "      <td>Снизилась</td>\n",
       "      <td>премиум</td>\n",
       "      <td>да</td>\n",
       "      <td>3.4</td>\n",
       "      <td>5</td>\n",
       "      <td>121</td>\n",
       "      <td>0.00</td>\n",
       "      <td>Товары для детей</td>\n",
       "      <td>6</td>\n",
       "      <td>2</td>\n",
       "      <td>1</td>\n",
       "      <td>5</td>\n",
       "    </tr>\n",
       "    <tr>\n",
       "      <th>1</th>\n",
       "      <td>215349</td>\n",
       "      <td>Снизилась</td>\n",
       "      <td>премиум</td>\n",
       "      <td>да</td>\n",
       "      <td>4.4</td>\n",
       "      <td>4</td>\n",
       "      <td>819</td>\n",
       "      <td>0.75</td>\n",
       "      <td>Товары для детей</td>\n",
       "      <td>4</td>\n",
       "      <td>4</td>\n",
       "      <td>2</td>\n",
       "      <td>5</td>\n",
       "    </tr>\n",
       "    <tr>\n",
       "      <th>2</th>\n",
       "      <td>215350</td>\n",
       "      <td>Снизилась</td>\n",
       "      <td>стандартт</td>\n",
       "      <td>нет</td>\n",
       "      <td>4.9</td>\n",
       "      <td>3</td>\n",
       "      <td>539</td>\n",
       "      <td>0.14</td>\n",
       "      <td>Домашний текстиль</td>\n",
       "      <td>5</td>\n",
       "      <td>2</td>\n",
       "      <td>1</td>\n",
       "      <td>5</td>\n",
       "    </tr>\n",
       "    <tr>\n",
       "      <th>3</th>\n",
       "      <td>215351</td>\n",
       "      <td>Снизилась</td>\n",
       "      <td>стандартт</td>\n",
       "      <td>да</td>\n",
       "      <td>3.2</td>\n",
       "      <td>5</td>\n",
       "      <td>896</td>\n",
       "      <td>0.99</td>\n",
       "      <td>Товары для детей</td>\n",
       "      <td>5</td>\n",
       "      <td>0</td>\n",
       "      <td>6</td>\n",
       "      <td>4</td>\n",
       "    </tr>\n",
       "    <tr>\n",
       "      <th>4</th>\n",
       "      <td>215352</td>\n",
       "      <td>Снизилась</td>\n",
       "      <td>стандартт</td>\n",
       "      <td>нет</td>\n",
       "      <td>5.1</td>\n",
       "      <td>3</td>\n",
       "      <td>1064</td>\n",
       "      <td>0.94</td>\n",
       "      <td>Товары для детей</td>\n",
       "      <td>3</td>\n",
       "      <td>2</td>\n",
       "      <td>3</td>\n",
       "      <td>2</td>\n",
       "    </tr>\n",
       "  </tbody>\n",
       "</table>\n",
       "</div>"
      ],
      "text/plain": [
       "       id Покупательская активность Тип сервиса Разрешить сообщать  \\\n",
       "0  215348                 Снизилась     премиум                 да   \n",
       "1  215349                 Снизилась     премиум                 да   \n",
       "2  215350                 Снизилась   стандартт                нет   \n",
       "3  215351                 Снизилась   стандартт                 да   \n",
       "4  215352                 Снизилась   стандартт                нет   \n",
       "\n",
       "   Маркет_актив_6_мес  Маркет_актив_тек_мес  Длительность  Акционные_покупки  \\\n",
       "0                 3.4                     5           121               0.00   \n",
       "1                 4.4                     4           819               0.75   \n",
       "2                 4.9                     3           539               0.14   \n",
       "3                 3.2                     5           896               0.99   \n",
       "4                 5.1                     3          1064               0.94   \n",
       "\n",
       "  Популярная_категория  Средний_просмотр_категорий_за_визит  \\\n",
       "0     Товары для детей                                    6   \n",
       "1     Товары для детей                                    4   \n",
       "2    Домашний текстиль                                    5   \n",
       "3     Товары для детей                                    5   \n",
       "4     Товары для детей                                    3   \n",
       "\n",
       "   Неоплаченные_продукты_штук_квартал  Ошибка_сервиса  Страниц_за_визит  \n",
       "0                                   2               1                 5  \n",
       "1                                   4               2                 5  \n",
       "2                                   2               1                 5  \n",
       "3                                   0               6                 4  \n",
       "4                                   2               3                 2  "
      ]
     },
     "metadata": {},
     "output_type": "display_data"
    },
    {
     "data": {
      "text/html": [
       "<div>\n",
       "<style scoped>\n",
       "    .dataframe tbody tr th:only-of-type {\n",
       "        vertical-align: middle;\n",
       "    }\n",
       "\n",
       "    .dataframe tbody tr th {\n",
       "        vertical-align: top;\n",
       "    }\n",
       "\n",
       "    .dataframe thead th {\n",
       "        text-align: right;\n",
       "    }\n",
       "</style>\n",
       "<table border=\"1\" class=\"dataframe\">\n",
       "  <thead>\n",
       "    <tr style=\"text-align: right;\">\n",
       "      <th></th>\n",
       "      <th>id</th>\n",
       "      <th>Период</th>\n",
       "      <th>Выручка</th>\n",
       "    </tr>\n",
       "  </thead>\n",
       "  <tbody>\n",
       "    <tr>\n",
       "      <th>0</th>\n",
       "      <td>215348</td>\n",
       "      <td>препредыдущий_месяц</td>\n",
       "      <td>0.0</td>\n",
       "    </tr>\n",
       "    <tr>\n",
       "      <th>1</th>\n",
       "      <td>215348</td>\n",
       "      <td>текущий_месяц</td>\n",
       "      <td>3293.1</td>\n",
       "    </tr>\n",
       "    <tr>\n",
       "      <th>2</th>\n",
       "      <td>215348</td>\n",
       "      <td>предыдущий_месяц</td>\n",
       "      <td>0.0</td>\n",
       "    </tr>\n",
       "    <tr>\n",
       "      <th>3</th>\n",
       "      <td>215349</td>\n",
       "      <td>препредыдущий_месяц</td>\n",
       "      <td>4472.0</td>\n",
       "    </tr>\n",
       "    <tr>\n",
       "      <th>4</th>\n",
       "      <td>215349</td>\n",
       "      <td>текущий_месяц</td>\n",
       "      <td>4971.6</td>\n",
       "    </tr>\n",
       "  </tbody>\n",
       "</table>\n",
       "</div>"
      ],
      "text/plain": [
       "       id               Период  Выручка\n",
       "0  215348  препредыдущий_месяц      0.0\n",
       "1  215348        текущий_месяц   3293.1\n",
       "2  215348     предыдущий_месяц      0.0\n",
       "3  215349  препредыдущий_месяц   4472.0\n",
       "4  215349        текущий_месяц   4971.6"
      ]
     },
     "metadata": {},
     "output_type": "display_data"
    },
    {
     "data": {
      "text/html": [
       "<div>\n",
       "<style scoped>\n",
       "    .dataframe tbody tr th:only-of-type {\n",
       "        vertical-align: middle;\n",
       "    }\n",
       "\n",
       "    .dataframe tbody tr th {\n",
       "        vertical-align: top;\n",
       "    }\n",
       "\n",
       "    .dataframe thead th {\n",
       "        text-align: right;\n",
       "    }\n",
       "</style>\n",
       "<table border=\"1\" class=\"dataframe\">\n",
       "  <thead>\n",
       "    <tr style=\"text-align: right;\">\n",
       "      <th></th>\n",
       "      <th>id</th>\n",
       "      <th>Период</th>\n",
       "      <th>минут</th>\n",
       "    </tr>\n",
       "  </thead>\n",
       "  <tbody>\n",
       "    <tr>\n",
       "      <th>0</th>\n",
       "      <td>215348</td>\n",
       "      <td>текущий_месяц</td>\n",
       "      <td>14</td>\n",
       "    </tr>\n",
       "    <tr>\n",
       "      <th>1</th>\n",
       "      <td>215348</td>\n",
       "      <td>предыдцщий_месяц</td>\n",
       "      <td>13</td>\n",
       "    </tr>\n",
       "    <tr>\n",
       "      <th>2</th>\n",
       "      <td>215349</td>\n",
       "      <td>текущий_месяц</td>\n",
       "      <td>10</td>\n",
       "    </tr>\n",
       "    <tr>\n",
       "      <th>3</th>\n",
       "      <td>215349</td>\n",
       "      <td>предыдцщий_месяц</td>\n",
       "      <td>12</td>\n",
       "    </tr>\n",
       "    <tr>\n",
       "      <th>4</th>\n",
       "      <td>215350</td>\n",
       "      <td>текущий_месяц</td>\n",
       "      <td>13</td>\n",
       "    </tr>\n",
       "  </tbody>\n",
       "</table>\n",
       "</div>"
      ],
      "text/plain": [
       "       id            Период  минут\n",
       "0  215348     текущий_месяц     14\n",
       "1  215348  предыдцщий_месяц     13\n",
       "2  215349     текущий_месяц     10\n",
       "3  215349  предыдцщий_месяц     12\n",
       "4  215350     текущий_месяц     13"
      ]
     },
     "metadata": {},
     "output_type": "display_data"
    },
    {
     "data": {
      "text/html": [
       "<div>\n",
       "<style scoped>\n",
       "    .dataframe tbody tr th:only-of-type {\n",
       "        vertical-align: middle;\n",
       "    }\n",
       "\n",
       "    .dataframe tbody tr th {\n",
       "        vertical-align: top;\n",
       "    }\n",
       "\n",
       "    .dataframe thead th {\n",
       "        text-align: right;\n",
       "    }\n",
       "</style>\n",
       "<table border=\"1\" class=\"dataframe\">\n",
       "  <thead>\n",
       "    <tr style=\"text-align: right;\">\n",
       "      <th></th>\n",
       "      <th>id</th>\n",
       "      <th>Прибыль</th>\n",
       "    </tr>\n",
       "  </thead>\n",
       "  <tbody>\n",
       "    <tr>\n",
       "      <th>0</th>\n",
       "      <td>215348</td>\n",
       "      <td>0.98</td>\n",
       "    </tr>\n",
       "    <tr>\n",
       "      <th>1</th>\n",
       "      <td>215349</td>\n",
       "      <td>4.16</td>\n",
       "    </tr>\n",
       "    <tr>\n",
       "      <th>2</th>\n",
       "      <td>215350</td>\n",
       "      <td>3.13</td>\n",
       "    </tr>\n",
       "    <tr>\n",
       "      <th>3</th>\n",
       "      <td>215351</td>\n",
       "      <td>4.87</td>\n",
       "    </tr>\n",
       "    <tr>\n",
       "      <th>4</th>\n",
       "      <td>215352</td>\n",
       "      <td>4.21</td>\n",
       "    </tr>\n",
       "  </tbody>\n",
       "</table>\n",
       "</div>"
      ],
      "text/plain": [
       "       id  Прибыль\n",
       "0  215348     0.98\n",
       "1  215349     4.16\n",
       "2  215350     3.13\n",
       "3  215351     4.87\n",
       "4  215352     4.21"
      ]
     },
     "metadata": {},
     "output_type": "display_data"
    },
    {
     "name": "stdout",
     "output_type": "stream",
     "text": [
      "id: 1300\n",
      "<class 'pandas.core.frame.DataFrame'>\n",
      "RangeIndex: 1300 entries, 0 to 1299\n",
      "Data columns (total 13 columns):\n",
      " #   Column                               Non-Null Count  Dtype  \n",
      "---  ------                               --------------  -----  \n",
      " 0   id                                   1300 non-null   int64  \n",
      " 1   Покупательская активность            1300 non-null   object \n",
      " 2   Тип сервиса                          1300 non-null   object \n",
      " 3   Разрешить сообщать                   1300 non-null   object \n",
      " 4   Маркет_актив_6_мес                   1300 non-null   float64\n",
      " 5   Маркет_актив_тек_мес                 1300 non-null   int64  \n",
      " 6   Длительность                         1300 non-null   int64  \n",
      " 7   Акционные_покупки                    1300 non-null   float64\n",
      " 8   Популярная_категория                 1300 non-null   object \n",
      " 9   Средний_просмотр_категорий_за_визит  1300 non-null   int64  \n",
      " 10  Неоплаченные_продукты_штук_квартал   1300 non-null   int64  \n",
      " 11  Ошибка_сервиса                       1300 non-null   int64  \n",
      " 12  Страниц_за_визит                     1300 non-null   int64  \n",
      "dtypes: float64(2), int64(7), object(4)\n",
      "memory usage: 132.2+ KB\n"
     ]
    },
    {
     "data": {
      "text/plain": [
       "None"
      ]
     },
     "metadata": {},
     "output_type": "display_data"
    },
    {
     "name": "stdout",
     "output_type": "stream",
     "text": [
      "<class 'pandas.core.frame.DataFrame'>\n",
      "RangeIndex: 3900 entries, 0 to 3899\n",
      "Data columns (total 3 columns):\n",
      " #   Column   Non-Null Count  Dtype  \n",
      "---  ------   --------------  -----  \n",
      " 0   id       3900 non-null   int64  \n",
      " 1   Период   3900 non-null   object \n",
      " 2   Выручка  3900 non-null   float64\n",
      "dtypes: float64(1), int64(1), object(1)\n",
      "memory usage: 91.5+ KB\n"
     ]
    },
    {
     "data": {
      "text/plain": [
       "None"
      ]
     },
     "metadata": {},
     "output_type": "display_data"
    },
    {
     "name": "stdout",
     "output_type": "stream",
     "text": [
      "<class 'pandas.core.frame.DataFrame'>\n",
      "RangeIndex: 2600 entries, 0 to 2599\n",
      "Data columns (total 3 columns):\n",
      " #   Column  Non-Null Count  Dtype \n",
      "---  ------  --------------  ----- \n",
      " 0   id      2600 non-null   int64 \n",
      " 1   Период  2600 non-null   object\n",
      " 2   минут   2600 non-null   int64 \n",
      "dtypes: int64(2), object(1)\n",
      "memory usage: 61.1+ KB\n"
     ]
    },
    {
     "data": {
      "text/plain": [
       "None"
      ]
     },
     "metadata": {},
     "output_type": "display_data"
    },
    {
     "name": "stdout",
     "output_type": "stream",
     "text": [
      "<class 'pandas.core.frame.DataFrame'>\n",
      "RangeIndex: 1300 entries, 0 to 1299\n",
      "Data columns (total 2 columns):\n",
      " #   Column   Non-Null Count  Dtype  \n",
      "---  ------   --------------  -----  \n",
      " 0   id       1300 non-null   int64  \n",
      " 1   Прибыль  1300 non-null   float64\n",
      "dtypes: float64(1), int64(1)\n",
      "memory usage: 20.4 KB\n"
     ]
    },
    {
     "data": {
      "text/plain": [
       "None"
      ]
     },
     "metadata": {},
     "output_type": "display_data"
    }
   ],
   "source": [
    "display(market_file_df.head())\n",
    "display(market_money_df.head())\n",
    "display(time_df.head())\n",
    "display(money_df.head())\n",
    "\n",
    "print('id:', len(market_file_df['id'].unique()))\n",
    "\n",
    "display(market_file_df.info())\n",
    "display(market_money_df.info())\n",
    "display(time_df.info())\n",
    "display(money_df.info())"
   ]
  },
  {
   "cell_type": "markdown",
   "metadata": {},
   "source": [
    "Как видно данные совпадают с предоставленным описанием структуры данных.\n",
    "Всего доступны данные о 1300 клиентах\n",
    "Также в некоторых столбцах присутствуют опечатки и несколько странные категории данных\n",
    "\n",
    "### Предобработка данных\n",
    "\n",
    "В этом разделе рассмотрим пропуски в данных и проведем необходимые преобразования типов и добавим необходимые столбцы."
   ]
  },
  {
   "cell_type": "markdown",
   "metadata": {},
   "source": [
    "#### Рассмотрение пропусков в данных\n",
    "\n",
    "Рассмотрим в каких каких столбцах сколько пропусков находится"
   ]
  },
  {
   "cell_type": "code",
   "execution_count": 4,
   "metadata": {},
   "outputs": [
    {
     "name": "stdout",
     "output_type": "stream",
     "text": [
      "Число пропусков в market_file\n",
      "id                                     0\n",
      "Покупательская активность              0\n",
      "Тип сервиса                            0\n",
      "Разрешить сообщать                     0\n",
      "Маркет_актив_6_мес                     0\n",
      "Маркет_актив_тек_мес                   0\n",
      "Длительность                           0\n",
      "Акционные_покупки                      0\n",
      "Популярная_категория                   0\n",
      "Средний_просмотр_категорий_за_визит    0\n",
      "Неоплаченные_продукты_штук_квартал     0\n",
      "Ошибка_сервиса                         0\n",
      "Страниц_за_визит                       0\n",
      "dtype: int64\n",
      "Число пропусков в market_money\n",
      "id         0\n",
      "Период     0\n",
      "Выручка    0\n",
      "dtype: int64\n",
      "Число пропусков в time\n",
      "id        0\n",
      "Период    0\n",
      "минут     0\n",
      "dtype: int64\n",
      "Число пропусков в money\n",
      "id         0\n",
      "Прибыль    0\n",
      "dtype: int64\n"
     ]
    }
   ],
   "source": [
    "print('Число пропусков в market_file')\n",
    "print(market_file_df.isna().sum())\n",
    "\n",
    "print('Число пропусков в market_money')\n",
    "print(market_money_df.isna().sum())\n",
    "\n",
    "print('Число пропусков в time')\n",
    "print(time_df.isna().sum())\n",
    "\n",
    "print('Число пропусков в money')\n",
    "print(money_df.isna().sum())"
   ]
  },
  {
   "cell_type": "markdown",
   "metadata": {},
   "source": [
    "Пропуски в данных отсутствуют"
   ]
  },
  {
   "cell_type": "markdown",
   "metadata": {},
   "source": [
    "#### Исправление опечаток в категориальных переменных\n",
    "Рассмотрим какие значения принимают категориальные переменные"
   ]
  },
  {
   "cell_type": "code",
   "execution_count": 5,
   "metadata": {},
   "outputs": [
    {
     "name": "stdout",
     "output_type": "stream",
     "text": [
      "market_file\n",
      "     Покупательская активность :  ['Снизилась' 'Прежний уровень']\n",
      "     Тип сервиса :  ['премиум' 'стандартт' 'стандарт']\n",
      "     Разрешить сообщать :  ['да' 'нет']\n",
      "     Популярная_категория :  ['Товары для детей' 'Домашний текстиль' 'Косметика и аксесуары'\n",
      " 'Техника для красоты и здоровья' 'Кухонная посуда'\n",
      " 'Мелкая бытовая техника и электроника']\n",
      "market_money\n",
      "     Период :  ['препредыдущий_месяц' 'текущий_месяц' 'предыдущий_месяц']\n",
      "time\n",
      "     Период :  ['текущий_месяц' 'предыдцщий_месяц']\n",
      "money\n"
     ]
    }
   ],
   "source": [
    "print('market_file')\n",
    "for c in market_file_df.select_dtypes(include='object'):\n",
    "    print('    ', c, ': ', market_file_df[c].unique())\n",
    "\n",
    "print('market_money')\n",
    "for c in market_money_df.select_dtypes(include='object'):\n",
    "    print('    ', c, ': ', market_money_df[c].unique())\n",
    "    \n",
    "print('time')\n",
    "for c in time_df.select_dtypes(include='object'):\n",
    "    print('    ', c, ': ', time_df[c].unique())\n",
    "\n",
    "print('money')\n",
    "for c in money_df.select_dtypes(include='object'):\n",
    "    print('    ', c, ': ', money_df[c].unique())"
   ]
  },
  {
   "cell_type": "markdown",
   "metadata": {},
   "source": [
    "Как видно обнаружилось некоторое количество опечаток и неявных дубликатов. Отдельного внимания требует значение `препредыдущий_месяц`, непонятно стоит его трактовать как предыдущий или позапрошлый месяц. Если при замене `препредыдущий_месяц` на `предыдущий_месяц` в таблице добавятся дубликаты, значит `препредыдущий_месяц` корректное значение означающее позапрошлый месяц"
   ]
  },
  {
   "cell_type": "code",
   "execution_count": 6,
   "metadata": {},
   "outputs": [
    {
     "name": "stdout",
     "output_type": "stream",
     "text": [
      "1300\n",
      "0\n",
      "Значение препредыдущий_месяц корректно\n"
     ]
    }
   ],
   "source": [
    "print(market_money_df.replace('препредыдущий_месяц','предыдущий_месяц')[['id', 'Период']].duplicated().sum())\n",
    "print(market_money_df[['id', 'Период']].duplicated().sum())\n",
    "print('Значение препредыдущий_месяц корректно')"
   ]
  },
  {
   "cell_type": "markdown",
   "metadata": {},
   "source": [
    "Устраним опечатки в данных"
   ]
  },
  {
   "cell_type": "code",
   "execution_count": 7,
   "metadata": {},
   "outputs": [
    {
     "name": "stdout",
     "output_type": "stream",
     "text": [
      "market_file\n",
      "     Покупательская активность :  ['Снизилась' 'Прежний уровень']\n",
      "     Тип сервиса :  ['премиум' 'стандарт']\n",
      "     Разрешить сообщать :  ['да' 'нет']\n",
      "     Популярная_категория :  ['Товары для детей' 'Домашний текстиль' 'Косметика и аксесуары'\n",
      " 'Техника для красоты и здоровья' 'Кухонная посуда'\n",
      " 'Мелкая бытовая техника и электроника']\n",
      "market_money\n",
      "     Период :  ['препредыдущий_месяц' 'текущий_месяц' 'предыдущий_месяц']\n",
      "time\n",
      "     Период :  ['текущий_месяц' 'предыдущий_месяц']\n",
      "money\n"
     ]
    }
   ],
   "source": [
    "market_money_df = market_money_df.replace('предыдцщий_месяц','предыдущий_месяц')\n",
    "time_df = time_df.replace('предыдцщий_месяц','предыдущий_месяц')\n",
    "market_file_df = market_file_df.replace('стандартт','стандарт')\n",
    "\n",
    "print('market_file')\n",
    "for c in market_file_df.select_dtypes(include='object'):\n",
    "    print('    ', c, ': ', market_file_df[c].unique())\n",
    "\n",
    "print('market_money')\n",
    "for c in market_money_df.select_dtypes(include='object'):\n",
    "    print('    ', c, ': ', market_money_df[c].unique())\n",
    "    \n",
    "print('time')\n",
    "for c in time_df.select_dtypes(include='object'):\n",
    "    print('    ', c, ': ', time_df[c].unique())\n",
    "\n",
    "print('money')\n",
    "for c in money_df.select_dtypes(include='object'):\n",
    "    print('    ', c, ': ', money_df[c].unique())"
   ]
  },
  {
   "cell_type": "markdown",
   "metadata": {},
   "source": [
    "#### Явные дубликаты\n",
    "\n",
    "Рассмотрим наличие явных дубликатов в данных."
   ]
  },
  {
   "cell_type": "code",
   "execution_count": 8,
   "metadata": {},
   "outputs": [
    {
     "name": "stdout",
     "output_type": "stream",
     "text": [
      "Число явных дубликатов в market_file: 0\n",
      "Число явных дубликатов в market_money: 0\n",
      "Число явных дубликатов в time: 0\n",
      "Число явных дубликатов в money: 0\n"
     ]
    }
   ],
   "source": [
    "print('Число явных дубликатов в market_file:', market_file_df.duplicated().sum())\n",
    "print('Число явных дубликатов в market_money:', market_money_df.duplicated().sum())\n",
    "print('Число явных дубликатов в time:', time_df.duplicated().sum())\n",
    "print('Число явных дубликатов в money:', money_df.duplicated().sum())"
   ]
  },
  {
   "cell_type": "markdown",
   "metadata": {},
   "source": [
    "Явных дубликатов нет, неявные дубликаты были устранены в предыдущем пункте\n",
    "\n",
    "#### Итоги предобработки данных\n",
    "В ходе предобработки были удалены все дубликаты и устранены опечатки и неявные опечатки, пропуски в данных не обнаружены.\n",
    "\n",
    "### Исследовательский анализ данных\n",
    "\n",
    "Опишем общую информацию о распределениях данных в таблицах\n",
    "\n",
    "#### Категориальные переменные в `market_file`"
   ]
  },
  {
   "cell_type": "code",
   "execution_count": 9,
   "metadata": {},
   "outputs": [
    {
     "data": {
      "image/png": "[encoded data removed]",
      "text/plain": [
       "<Figure size 432x288 with 1 Axes>"
      ]
     },
     "metadata": {},
     "output_type": "display_data"
    },
    {
     "data": {
      "image/png": "[encoded data removed]",
      "text/plain": [
       "<Figure size 432x288 with 1 Axes>"
      ]
     },
     "metadata": {},
     "output_type": "display_data"
    },
    {
     "data": {
      "image/png": "[encoded data removed]",
      "text/plain": [
       "<Figure size 432x288 with 1 Axes>"
      ]
     },
     "metadata": {},
     "output_type": "display_data"
    },
    {
     "data": {
      "image/png": "[encoded data removed]",
      "text/plain": [
       "<Figure size 432x288 with 1 Axes>"
      ]
     },
     "metadata": {},
     "output_type": "display_data"
    }
   ],
   "source": [
    "df = market_file_df\n",
    "\n",
    "for c in df.select_dtypes(include='object'):\n",
    "    df.pivot_table(index=c, aggfunc='count').plot(y='id', kind='pie', autopct='%1.0f%%', legend=False, ylabel='', title='соотношение '+c+' в market_file')\n",
    "    plt.show()"
   ]
  },
  {
   "cell_type": "markdown",
   "metadata": {},
   "source": [
    "Для целевого параметра `Покупательская активность` наблюдается явный дисбаланс классов\n",
    "\n",
    "#### Количественные переменные в `market_file`"
   ]
  },
  {
   "cell_type": "code",
   "execution_count": 10,
   "metadata": {
    "scrolled": false
   },
   "outputs": [
    {
     "data": {
      "image/png": "[encoded data removed]",
      "text/plain": [
       "<Figure size 432x288 with 1 Axes>"
      ]
     },
     "metadata": {
      "needs_background": "light"
     },
     "output_type": "display_data"
    },
    {
     "data": {
      "image/png": "[encoded data removed]",
      "text/plain": [
       "<Figure size 432x288 with 1 Axes>"
      ]
     },
     "metadata": {
      "needs_background": "light"
     },
     "output_type": "display_data"
    },
    {
     "data": {
      "image/png": "[encoded data removed]",
      "text/plain": [
       "<Figure size 432x288 with 1 Axes>"
      ]
     },
     "metadata": {
      "needs_background": "light"
     },
     "output_type": "display_data"
    },
    {
     "data": {
      "image/png": "[encoded data removed]",
      "text/plain": [
       "<Figure size 432x288 with 1 Axes>"
      ]
     },
     "metadata": {
      "needs_background": "light"
     },
     "output_type": "display_data"
    },
    {
     "data": {
      "image/png": "[encoded data removed]",
      "text/plain": [
       "<Figure size 432x288 with 1 Axes>"
      ]
     },
     "metadata": {
      "needs_background": "light"
     },
     "output_type": "display_data"
    },
    {
     "data": {
      "image/png": "[encoded data removed]",
      "text/plain": [
       "<Figure size 432x288 with 1 Axes>"
      ]
     },
     "metadata": {
      "needs_background": "light"
     },
     "output_type": "display_data"
    },
    {
     "data": {
      "image/png": "[encoded data removed]",
      "text/plain": [
       "<Figure size 432x288 with 1 Axes>"
      ]
     },
     "metadata": {
      "needs_background": "light"
     },
     "output_type": "display_data"
    },
    {
     "data": {
      "image/png": "[encoded data removed]",
      "text/plain": [
       "<Figure size 432x288 with 1 Axes>"
      ]
     },
     "metadata": {
      "needs_background": "light"
     },
     "output_type": "display_data"
    },
    {
     "data": {
      "image/png": "[encoded data removed]",
      "text/plain": [
       "<Figure size 432x288 with 1 Axes>"
      ]
     },
     "metadata": {},
     "output_type": "display_data"
    }
   ],
   "source": [
    "df = market_file_df\n",
    "\n",
    "for c in df.select_dtypes(include='number'):\n",
    "    if c=='id': continue\n",
    "    fig, ax = plt.subplots()\n",
    "    ax.hist(df[c], bins=20)\n",
    "    \n",
    "    ax.set_xlabel(c)\n",
    "    ax.set_ylabel('Число покупателей')\n",
    "    ax.set_title('Гистограмма '+c+' в market_file')\n",
    "    fig.tight_layout()\n",
    "    plt.show()\n",
    "    \n",
    "df.pivot_table(index='Маркет_актив_тек_мес', aggfunc='count').plot(y='id', kind='pie', autopct='%1.0f%%', legend=False, ylabel='', title='соотношение '+'Маркет_актив_тек_мес'+' в market_file')\n",
    "plt.show()"
   ]
  },
  {
   "cell_type": "markdown",
   "metadata": {},
   "source": [
    "Покупатели разделились на 2 явных кластера по параметру `Акционные покупки`\n",
    "\n",
    "Параметр `Маркет_актив_тек_мес` принимает лишь 3 различных значения\n",
    "\n",
    "Распределение остальных параметров близки к нормальным\n",
    "\n",
    "#### Категориальные переменные в `market_money`"
   ]
  },
  {
   "cell_type": "code",
   "execution_count": 11,
   "metadata": {},
   "outputs": [
    {
     "data": {
      "image/png": "[encoded data removed]",
      "text/plain": [
       "<Figure size 432x288 with 1 Axes>"
      ]
     },
     "metadata": {},
     "output_type": "display_data"
    }
   ],
   "source": [
    "df = market_money_df\n",
    "\n",
    "for c in df.select_dtypes(include='object'):\n",
    "    df.pivot_table(index=c, aggfunc='count').plot(y='id', kind='pie', autopct='%1.0f%%', legend=False, ylabel='', title='соотношение '+c+' в market_money')\n",
    "    plt.show()"
   ]
  },
  {
   "cell_type": "markdown",
   "metadata": {},
   "source": [
    "#### Количественные переменные в `market_money`"
   ]
  },
  {
   "cell_type": "code",
   "execution_count": 12,
   "metadata": {},
   "outputs": [
    {
     "data": {
      "image/png": "[encoded data removed]",
      "text/plain": [
       "<Figure size 432x288 with 1 Axes>"
      ]
     },
     "metadata": {
      "needs_background": "light"
     },
     "output_type": "display_data"
    }
   ],
   "source": [
    "df = market_money_df\n",
    "\n",
    "for c in df.select_dtypes(include='number'):\n",
    "    if c=='id': continue\n",
    "    fig, ax = plt.subplots()\n",
    "    ax.hist(df[c], bins=20)\n",
    "    \n",
    "    ax.set_xlabel(c)\n",
    "    ax.set_ylabel('Число покупателей')\n",
    "    ax.set_title('Гистограмма '+c+' в market_money')\n",
    "    fig.tight_layout()\n",
    "    plt.show()"
   ]
  },
  {
   "cell_type": "markdown",
   "metadata": {},
   "source": [
    "Параметр `Выручка` имеет аномальные значения, рассмотрим их"
   ]
  },
  {
   "cell_type": "code",
   "execution_count": 13,
   "metadata": {},
   "outputs": [
    {
     "data": {
      "text/html": [
       "<div>\n",
       "<style scoped>\n",
       "    .dataframe tbody tr th:only-of-type {\n",
       "        vertical-align: middle;\n",
       "    }\n",
       "\n",
       "    .dataframe tbody tr th {\n",
       "        vertical-align: top;\n",
       "    }\n",
       "\n",
       "    .dataframe thead th {\n",
       "        text-align: right;\n",
       "    }\n",
       "</style>\n",
       "<table border=\"1\" class=\"dataframe\">\n",
       "  <thead>\n",
       "    <tr style=\"text-align: right;\">\n",
       "      <th></th>\n",
       "      <th>id</th>\n",
       "      <th>Период</th>\n",
       "      <th>Выручка</th>\n",
       "    </tr>\n",
       "  </thead>\n",
       "  <tbody>\n",
       "    <tr>\n",
       "      <th>98</th>\n",
       "      <td>215380</td>\n",
       "      <td>текущий_месяц</td>\n",
       "      <td>106862.2</td>\n",
       "    </tr>\n",
       "  </tbody>\n",
       "</table>\n",
       "</div>"
      ],
      "text/plain": [
       "        id         Период   Выручка\n",
       "98  215380  текущий_месяц  106862.2"
      ]
     },
     "metadata": {},
     "output_type": "display_data"
    },
    {
     "data": {
      "text/html": [
       "<div>\n",
       "<style scoped>\n",
       "    .dataframe tbody tr th:only-of-type {\n",
       "        vertical-align: middle;\n",
       "    }\n",
       "\n",
       "    .dataframe tbody tr th {\n",
       "        vertical-align: top;\n",
       "    }\n",
       "\n",
       "    .dataframe thead th {\n",
       "        text-align: right;\n",
       "    }\n",
       "</style>\n",
       "<table border=\"1\" class=\"dataframe\">\n",
       "  <thead>\n",
       "    <tr style=\"text-align: right;\">\n",
       "      <th></th>\n",
       "      <th>id</th>\n",
       "      <th>Покупательская активность</th>\n",
       "      <th>Тип сервиса</th>\n",
       "      <th>Разрешить сообщать</th>\n",
       "      <th>Маркет_актив_6_мес</th>\n",
       "      <th>Маркет_актив_тек_мес</th>\n",
       "      <th>Длительность</th>\n",
       "      <th>Акционные_покупки</th>\n",
       "      <th>Популярная_категория</th>\n",
       "      <th>Средний_просмотр_категорий_за_визит</th>\n",
       "      <th>Неоплаченные_продукты_штук_квартал</th>\n",
       "      <th>Ошибка_сервиса</th>\n",
       "      <th>Страниц_за_визит</th>\n",
       "    </tr>\n",
       "  </thead>\n",
       "  <tbody>\n",
       "    <tr>\n",
       "      <th>32</th>\n",
       "      <td>215380</td>\n",
       "      <td>Снизилась</td>\n",
       "      <td>премиум</td>\n",
       "      <td>нет</td>\n",
       "      <td>1.7</td>\n",
       "      <td>4</td>\n",
       "      <td>637</td>\n",
       "      <td>0.94</td>\n",
       "      <td>Техника для красоты и здоровья</td>\n",
       "      <td>3</td>\n",
       "      <td>2</td>\n",
       "      <td>4</td>\n",
       "      <td>7</td>\n",
       "    </tr>\n",
       "  </tbody>\n",
       "</table>\n",
       "</div>"
      ],
      "text/plain": [
       "        id Покупательская активность Тип сервиса Разрешить сообщать  \\\n",
       "32  215380                 Снизилась     премиум                нет   \n",
       "\n",
       "    Маркет_актив_6_мес  Маркет_актив_тек_мес  Длительность  Акционные_покупки  \\\n",
       "32                 1.7                     4           637               0.94   \n",
       "\n",
       "              Популярная_категория  Средний_просмотр_категорий_за_визит  \\\n",
       "32  Техника для красоты и здоровья                                    3   \n",
       "\n",
       "    Неоплаченные_продукты_штук_квартал  Ошибка_сервиса  Страниц_за_визит  \n",
       "32                                   2               4                 7  "
      ]
     },
     "metadata": {},
     "output_type": "display_data"
    },
    {
     "data": {
      "text/html": [
       "<div>\n",
       "<style scoped>\n",
       "    .dataframe tbody tr th:only-of-type {\n",
       "        vertical-align: middle;\n",
       "    }\n",
       "\n",
       "    .dataframe tbody tr th {\n",
       "        vertical-align: top;\n",
       "    }\n",
       "\n",
       "    .dataframe thead th {\n",
       "        text-align: right;\n",
       "    }\n",
       "</style>\n",
       "<table border=\"1\" class=\"dataframe\">\n",
       "  <thead>\n",
       "    <tr style=\"text-align: right;\">\n",
       "      <th></th>\n",
       "      <th>id</th>\n",
       "      <th>Период</th>\n",
       "      <th>минут</th>\n",
       "    </tr>\n",
       "  </thead>\n",
       "  <tbody>\n",
       "    <tr>\n",
       "      <th>64</th>\n",
       "      <td>215380</td>\n",
       "      <td>предыдущий_месяц</td>\n",
       "      <td>12</td>\n",
       "    </tr>\n",
       "    <tr>\n",
       "      <th>65</th>\n",
       "      <td>215380</td>\n",
       "      <td>текущий_месяц</td>\n",
       "      <td>14</td>\n",
       "    </tr>\n",
       "  </tbody>\n",
       "</table>\n",
       "</div>"
      ],
      "text/plain": [
       "        id            Период  минут\n",
       "64  215380  предыдущий_месяц     12\n",
       "65  215380     текущий_месяц     14"
      ]
     },
     "metadata": {},
     "output_type": "display_data"
    },
    {
     "data": {
      "text/html": [
       "<div>\n",
       "<style scoped>\n",
       "    .dataframe tbody tr th:only-of-type {\n",
       "        vertical-align: middle;\n",
       "    }\n",
       "\n",
       "    .dataframe tbody tr th {\n",
       "        vertical-align: top;\n",
       "    }\n",
       "\n",
       "    .dataframe thead th {\n",
       "        text-align: right;\n",
       "    }\n",
       "</style>\n",
       "<table border=\"1\" class=\"dataframe\">\n",
       "  <thead>\n",
       "    <tr style=\"text-align: right;\">\n",
       "      <th></th>\n",
       "      <th>id</th>\n",
       "      <th>Прибыль</th>\n",
       "    </tr>\n",
       "  </thead>\n",
       "  <tbody>\n",
       "    <tr>\n",
       "      <th>32</th>\n",
       "      <td>215380</td>\n",
       "      <td>3.88</td>\n",
       "    </tr>\n",
       "  </tbody>\n",
       "</table>\n",
       "</div>"
      ],
      "text/plain": [
       "        id  Прибыль\n",
       "32  215380     3.88"
      ]
     },
     "metadata": {},
     "output_type": "display_data"
    }
   ],
   "source": [
    "display(market_money_df[market_money_df['Выручка']>20000])\n",
    "\n",
    "ids = market_money_df.loc[market_money_df['Выручка']>20000, 'id']\n",
    "\n",
    "display(market_file_df[market_file_df['id'].isin(ids)])\n",
    "\n",
    "display(time_df[time_df['id'].isin(ids)])\n",
    "\n",
    "display(money_df[money_df['id'].isin(ids)])"
   ]
  },
  {
   "cell_type": "markdown",
   "metadata": {},
   "source": [
    "Как видно пользователь с аномальной выручкой всего один. Всего параметры для него кроме выручки на уровне средних значений.\n",
    "\n",
    "Однако заметим, что для него высокая выручка, но прибыль остается на уровне средней, что не совсем естественно.\n",
    "\n",
    "Таким образом можно предположить, что в столбце `Выручка` для данного пользователся ошибка, исправить которую не представляется возможным\n",
    "\n",
    "Удалим данные об этом пользователе из всех таблиц"
   ]
  },
  {
   "cell_type": "code",
   "execution_count": 14,
   "metadata": {},
   "outputs": [],
   "source": [
    "market_file_df = market_file_df[~market_file_df['id'].isin(ids)]\n",
    "market_money_df = market_money_df[~market_money_df['id'].isin(ids)]\n",
    "time_df = time_df[~time_df['id'].isin(ids)]\n",
    "money_df = money_df[~money_df['id'].isin(ids)]"
   ]
  },
  {
   "cell_type": "markdown",
   "metadata": {},
   "source": [
    "#### Категориальные переменные в `time`"
   ]
  },
  {
   "cell_type": "code",
   "execution_count": 15,
   "metadata": {},
   "outputs": [
    {
     "data": {
      "image/png": "[encoded data removed]",
      "text/plain": [
       "<Figure size 432x288 with 1 Axes>"
      ]
     },
     "metadata": {},
     "output_type": "display_data"
    }
   ],
   "source": [
    "df = time_df\n",
    "\n",
    "for c in df.select_dtypes(include='object'):\n",
    "    df.pivot_table(index=c, aggfunc='count').plot(y='id', kind='pie', autopct='%1.0f%%', legend=False, ylabel='', title='соотношение '+c+' в time')\n",
    "    plt.show()"
   ]
  },
  {
   "cell_type": "markdown",
   "metadata": {},
   "source": [
    "#### Количественные переменные в `time`"
   ]
  },
  {
   "cell_type": "code",
   "execution_count": 16,
   "metadata": {},
   "outputs": [
    {
     "data": {
      "image/png": "[encoded data removed]",
      "text/plain": [
       "<Figure size 432x288 with 1 Axes>"
      ]
     },
     "metadata": {
      "needs_background": "light"
     },
     "output_type": "display_data"
    }
   ],
   "source": [
    "df = time_df\n",
    "\n",
    "for c in df.select_dtypes(include='number'):\n",
    "    if c=='id': continue\n",
    "    fig, ax = plt.subplots()\n",
    "    ax.hist(df[c], bins=20)\n",
    "    \n",
    "    ax.set_xlabel(c)\n",
    "    ax.set_ylabel('Число покупателей')\n",
    "    ax.set_title('Гистограмма '+c+' в time')\n",
    "    fig.tight_layout()\n",
    "    plt.show()"
   ]
  },
  {
   "cell_type": "markdown",
   "metadata": {},
   "source": [
    "Все распределения близки к нормальным\n",
    "\n",
    "#### Количественные переменные в `money`"
   ]
  },
  {
   "cell_type": "code",
   "execution_count": 17,
   "metadata": {},
   "outputs": [
    {
     "data": {
      "image/png": "[encoded data removed]",
      "text/plain": [
       "<Figure size 432x288 with 1 Axes>"
      ]
     },
     "metadata": {
      "needs_background": "light"
     },
     "output_type": "display_data"
    }
   ],
   "source": [
    "df = money_df\n",
    "\n",
    "for c in df.select_dtypes(include='number'):\n",
    "    if c=='id': continue\n",
    "    fig, ax = plt.subplots()\n",
    "    ax.hist(df[c], bins=20)\n",
    "    \n",
    "    ax.set_xlabel(c)\n",
    "    ax.set_ylabel('Число покупателей')\n",
    "    ax.set_title('Гистограмма '+c+' в money')\n",
    "    fig.tight_layout()\n",
    "    plt.show()"
   ]
  },
  {
   "cell_type": "markdown",
   "metadata": {},
   "source": [
    "Распределение прибыли близко к нормальному\n",
    "\n",
    "### Выборка клиентов\n",
    "\n",
    "Нас интересуют клиенты с ненулевой покупательской активностью за последние 3 месяца (т.е. сделавшие хоть одну покупку за этот период). Отберем таких клиентов"
   ]
  },
  {
   "cell_type": "code",
   "execution_count": 18,
   "metadata": {},
   "outputs": [],
   "source": [
    "# выбраем все записи в которых были ненулевые покупки и выцепляем из них все уникальные id\n",
    "active_ids = set(market_money_df.loc[market_money_df['Выручка']>0, 'id']) \n",
    "#print(len(active_ids))\n",
    "\n",
    "market_file_df = market_file_df[market_file_df['id'].isin(active_ids)]\n",
    "market_money_df = market_money_df[market_money_df['id'].isin(active_ids)]\n",
    "time_df = time_df[time_df['id'].isin(active_ids)]\n",
    "money_df = money_df[money_df['id'].isin(active_ids)]"
   ]
  },
  {
   "cell_type": "markdown",
   "metadata": {},
   "source": [
    "### Объединение таблиц\n",
    "\n",
    "Объединим таблицы `market_file`, `market_money`, `time` в одну, выделив для выручки в каждый месяц отдельный столбец"
   ]
  },
  {
   "cell_type": "code",
   "execution_count": 19,
   "metadata": {},
   "outputs": [
    {
     "data": {
      "text/html": [
       "<div>\n",
       "<style scoped>\n",
       "    .dataframe tbody tr th:only-of-type {\n",
       "        vertical-align: middle;\n",
       "    }\n",
       "\n",
       "    .dataframe tbody tr th {\n",
       "        vertical-align: top;\n",
       "    }\n",
       "\n",
       "    .dataframe thead th {\n",
       "        text-align: right;\n",
       "    }\n",
       "</style>\n",
       "<table border=\"1\" class=\"dataframe\">\n",
       "  <thead>\n",
       "    <tr style=\"text-align: right;\">\n",
       "      <th></th>\n",
       "      <th>id</th>\n",
       "      <th>Покупательская активность</th>\n",
       "      <th>Тип сервиса</th>\n",
       "      <th>Разрешить сообщать</th>\n",
       "      <th>Маркет_актив_6_мес</th>\n",
       "      <th>Маркет_актив_тек_мес</th>\n",
       "      <th>Длительность</th>\n",
       "      <th>Акционные_покупки</th>\n",
       "      <th>Популярная_категория</th>\n",
       "      <th>Средний_просмотр_категорий_за_визит</th>\n",
       "      <th>Неоплаченные_продукты_штук_квартал</th>\n",
       "      <th>Ошибка_сервиса</th>\n",
       "      <th>Страниц_за_визит</th>\n",
       "      <th>Выручка_текущий_месяц</th>\n",
       "      <th>Выручка_предыдущий_месяц</th>\n",
       "      <th>Выручка_препредыдущий_месяц</th>\n",
       "      <th>минут_текущий_месяц</th>\n",
       "      <th>минут_предыдущий_месяц</th>\n",
       "    </tr>\n",
       "  </thead>\n",
       "  <tbody>\n",
       "    <tr>\n",
       "      <th>0</th>\n",
       "      <td>215348</td>\n",
       "      <td>Снизилась</td>\n",
       "      <td>премиум</td>\n",
       "      <td>да</td>\n",
       "      <td>3.4</td>\n",
       "      <td>5</td>\n",
       "      <td>121</td>\n",
       "      <td>0.00</td>\n",
       "      <td>Товары для детей</td>\n",
       "      <td>6</td>\n",
       "      <td>2</td>\n",
       "      <td>1</td>\n",
       "      <td>5</td>\n",
       "      <td>3293.1</td>\n",
       "      <td>0.0</td>\n",
       "      <td>0.0</td>\n",
       "      <td>14</td>\n",
       "      <td>13</td>\n",
       "    </tr>\n",
       "    <tr>\n",
       "      <th>1</th>\n",
       "      <td>215349</td>\n",
       "      <td>Снизилась</td>\n",
       "      <td>премиум</td>\n",
       "      <td>да</td>\n",
       "      <td>4.4</td>\n",
       "      <td>4</td>\n",
       "      <td>819</td>\n",
       "      <td>0.75</td>\n",
       "      <td>Товары для детей</td>\n",
       "      <td>4</td>\n",
       "      <td>4</td>\n",
       "      <td>2</td>\n",
       "      <td>5</td>\n",
       "      <td>4971.6</td>\n",
       "      <td>5216.0</td>\n",
       "      <td>4472.0</td>\n",
       "      <td>10</td>\n",
       "      <td>12</td>\n",
       "    </tr>\n",
       "    <tr>\n",
       "      <th>2</th>\n",
       "      <td>215350</td>\n",
       "      <td>Снизилась</td>\n",
       "      <td>стандарт</td>\n",
       "      <td>нет</td>\n",
       "      <td>4.9</td>\n",
       "      <td>3</td>\n",
       "      <td>539</td>\n",
       "      <td>0.14</td>\n",
       "      <td>Домашний текстиль</td>\n",
       "      <td>5</td>\n",
       "      <td>2</td>\n",
       "      <td>1</td>\n",
       "      <td>5</td>\n",
       "      <td>5058.4</td>\n",
       "      <td>5457.5</td>\n",
       "      <td>4826.0</td>\n",
       "      <td>13</td>\n",
       "      <td>8</td>\n",
       "    </tr>\n",
       "    <tr>\n",
       "      <th>3</th>\n",
       "      <td>215351</td>\n",
       "      <td>Снизилась</td>\n",
       "      <td>стандарт</td>\n",
       "      <td>да</td>\n",
       "      <td>3.2</td>\n",
       "      <td>5</td>\n",
       "      <td>896</td>\n",
       "      <td>0.99</td>\n",
       "      <td>Товары для детей</td>\n",
       "      <td>5</td>\n",
       "      <td>0</td>\n",
       "      <td>6</td>\n",
       "      <td>4</td>\n",
       "      <td>6610.4</td>\n",
       "      <td>6158.0</td>\n",
       "      <td>4793.0</td>\n",
       "      <td>13</td>\n",
       "      <td>11</td>\n",
       "    </tr>\n",
       "    <tr>\n",
       "      <th>4</th>\n",
       "      <td>215352</td>\n",
       "      <td>Снизилась</td>\n",
       "      <td>стандарт</td>\n",
       "      <td>нет</td>\n",
       "      <td>5.1</td>\n",
       "      <td>3</td>\n",
       "      <td>1064</td>\n",
       "      <td>0.94</td>\n",
       "      <td>Товары для детей</td>\n",
       "      <td>3</td>\n",
       "      <td>2</td>\n",
       "      <td>3</td>\n",
       "      <td>2</td>\n",
       "      <td>5872.5</td>\n",
       "      <td>5807.5</td>\n",
       "      <td>4594.0</td>\n",
       "      <td>11</td>\n",
       "      <td>8</td>\n",
       "    </tr>\n",
       "  </tbody>\n",
       "</table>\n",
       "</div>"
      ],
      "text/plain": [
       "       id Покупательская активность Тип сервиса Разрешить сообщать  \\\n",
       "0  215348                 Снизилась     премиум                 да   \n",
       "1  215349                 Снизилась     премиум                 да   \n",
       "2  215350                 Снизилась    стандарт                нет   \n",
       "3  215351                 Снизилась    стандарт                 да   \n",
       "4  215352                 Снизилась    стандарт                нет   \n",
       "\n",
       "   Маркет_актив_6_мес  Маркет_актив_тек_мес  Длительность  Акционные_покупки  \\\n",
       "0                 3.4                     5           121               0.00   \n",
       "1                 4.4                     4           819               0.75   \n",
       "2                 4.9                     3           539               0.14   \n",
       "3                 3.2                     5           896               0.99   \n",
       "4                 5.1                     3          1064               0.94   \n",
       "\n",
       "  Популярная_категория  Средний_просмотр_категорий_за_визит  \\\n",
       "0     Товары для детей                                    6   \n",
       "1     Товары для детей                                    4   \n",
       "2    Домашний текстиль                                    5   \n",
       "3     Товары для детей                                    5   \n",
       "4     Товары для детей                                    3   \n",
       "\n",
       "   Неоплаченные_продукты_штук_квартал  Ошибка_сервиса  Страниц_за_визит  \\\n",
       "0                                   2               1                 5   \n",
       "1                                   4               2                 5   \n",
       "2                                   2               1                 5   \n",
       "3                                   0               6                 4   \n",
       "4                                   2               3                 2   \n",
       "\n",
       "   Выручка_текущий_месяц  Выручка_предыдущий_месяц  \\\n",
       "0                 3293.1                       0.0   \n",
       "1                 4971.6                    5216.0   \n",
       "2                 5058.4                    5457.5   \n",
       "3                 6610.4                    6158.0   \n",
       "4                 5872.5                    5807.5   \n",
       "\n",
       "   Выручка_препредыдущий_месяц  минут_текущий_месяц  минут_предыдущий_месяц  \n",
       "0                          0.0                   14                      13  \n",
       "1                       4472.0                   10                      12  \n",
       "2                       4826.0                   13                       8  \n",
       "3                       4793.0                   13                      11  \n",
       "4                       4594.0                   11                       8  "
      ]
     },
     "metadata": {},
     "output_type": "display_data"
    },
    {
     "name": "stdout",
     "output_type": "stream",
     "text": [
      "Число пропусков в full\n",
      "id                                     0\n",
      "Покупательская активность              0\n",
      "Тип сервиса                            0\n",
      "Разрешить сообщать                     0\n",
      "Маркет_актив_6_мес                     0\n",
      "Маркет_актив_тек_мес                   0\n",
      "Длительность                           0\n",
      "Акционные_покупки                      0\n",
      "Популярная_категория                   0\n",
      "Средний_просмотр_категорий_за_визит    0\n",
      "Неоплаченные_продукты_штук_квартал     0\n",
      "Ошибка_сервиса                         0\n",
      "Страниц_за_визит                       0\n",
      "Выручка_текущий_месяц                  0\n",
      "Выручка_предыдущий_месяц               0\n",
      "Выручка_препредыдущий_месяц            0\n",
      "минут_текущий_месяц                    0\n",
      "минут_предыдущий_месяц                 0\n",
      "dtype: int64\n"
     ]
    }
   ],
   "source": [
    "time_cur = time_df[time_df['Период']=='текущий_месяц'].rename(columns={'минут':'минут_текущий_месяц'}).drop('Период', axis=1)\n",
    "time_prev = time_df[time_df['Период']=='предыдущий_месяц'].rename(columns={'минут':'минут_предыдущий_месяц'}).drop('Период', axis=1)\n",
    "\n",
    "market_money_cur = market_money_df[market_money_df['Период']=='текущий_месяц'].rename(columns={'Выручка':'Выручка_текущий_месяц'}).drop('Период', axis=1)\n",
    "market_money_prev = market_money_df[market_money_df['Период']=='предыдущий_месяц'].rename(columns={'Выручка':'Выручка_предыдущий_месяц'}).drop('Период', axis=1)\n",
    "market_money_preprev = market_money_df[market_money_df['Период']=='препредыдущий_месяц'].rename(columns={'Выручка':'Выручка_препредыдущий_месяц'}).drop('Период', axis=1)\n",
    "\n",
    "#display(market_money_preprev)\n",
    "\n",
    "full = market_file_df.merge(market_money_cur, on='id', how='outer')\\\n",
    ".merge(market_money_prev, on='id', how='outer')\\\n",
    ".merge(market_money_preprev, on='id', how='outer')\\\n",
    ".merge(time_cur, on='id', how='outer')\\\n",
    ".merge(time_prev, on='id', how='outer')\n",
    "\n",
    "display(full.head())\n",
    "\n",
    "print('Число пропусков в full')\n",
    "print(full.isna().sum())"
   ]
  },
  {
   "cell_type": "markdown",
   "metadata": {},
   "source": [
    "### Корреляционный анализ\n",
    "\n",
    "Рассмотрим матрицу корреляции между признаками в таблице full\n",
    "\n",
    "Т.к. не все параметры распределены нормально, использование коэфициента корреляции Пирсона может быть некорректным.\n",
    "\n",
    "Рассмотрим коэфициент корреляции $\\varphi_k$"
   ]
  },
  {
   "cell_type": "code",
   "execution_count": 20,
   "metadata": {},
   "outputs": [
    {
     "data": {
      "image/png": "[encoded data removed]",
      "text/plain": [
       "<Figure size 1080x864 with 2 Axes>"
      ]
     },
     "metadata": {
      "needs_background": "light"
     },
     "output_type": "display_data"
    }
   ],
   "source": [
    "df = full.drop('id', axis=1)\n",
    "\n",
    "interval_cols = df.select_dtypes(include='number')\n",
    "\n",
    "# вычисление коэффициентов корреляции phi для датафрейма df\n",
    "phik_overview = df.phik_matrix(interval_cols=interval_cols)\n",
    "\n",
    "# визуализация тепловой карты коэффициентов корреляции\n",
    "plot_correlation_matrix(\n",
    "    phik_overview.values,\n",
    "    x_labels=phik_overview.columns,\n",
    "    y_labels=phik_overview.index,\n",
    "    title=r\"Матрица коэффициентов корреляции $\\varphi_K$\",\n",
    "    fontsize_factor=1.1,\n",
    "    figsize=(15, 12)\n",
    ")"
   ]
  },
  {
   "cell_type": "markdown",
   "metadata": {},
   "source": [
    "Рассмотрев матрицу корреляции можно сделать вывод что в таблице отсутствуют мультиколлинеарные признаки и утечка целевого параметра\n",
    "\n",
    "### Подготовка данных и обучение модели\n",
    "\n",
    "В данном разделе подготовим данные для обучения и обучим 4 различных модели (`KNeighborsClassifier`, `DecisionTreeClassifier`, `LogisticRegression` и  `SVC` с автоматическим учетом дисбаланса классов).\n",
    "\n",
    "При подготовке данных будем использовать скейлеры `MinMaxScaler` и `StandardScaler` и кодировщики `OHE` и `OrdinalEncoder`.\n",
    "\n",
    "Среди всех обученных моделей будет выбрана одна с лучшими результатами.\n",
    "\n",
    "#### Создание пайплайна предобработки данных"
   ]
  },
  {
   "cell_type": "code",
   "execution_count": 21,
   "metadata": {},
   "outputs": [
    {
     "name": "stdout",
     "output_type": "stream",
     "text": [
      "Index(['Тип сервиса', 'Разрешить сообщать', 'Популярная_категория'], dtype='object')\n",
      "Index(['Маркет_актив_6_мес', 'Маркет_актив_тек_мес', 'Длительность',\n",
      "       'Акционные_покупки', 'Средний_просмотр_категорий_за_визит',\n",
      "       'Неоплаченные_продукты_штук_квартал', 'Ошибка_сервиса',\n",
      "       'Страниц_за_визит', 'Выручка_текущий_месяц', 'Выручка_предыдущий_месяц',\n",
      "       'Выручка_препредыдущий_месяц', 'минут_текущий_месяц',\n",
      "       'минут_предыдущий_месяц'],\n",
      "      dtype='object')\n"
     ]
    }
   ],
   "source": [
    "RANDOM_STATE = 2024\n",
    "\n",
    "cat_columns = full.drop(['id', 'Покупательская активность'], axis=1).select_dtypes(include='object').columns\n",
    "print(cat_columns)\n",
    "num_columns = full.drop(['id', 'Покупательская активность'], axis=1).select_dtypes(include='number').columns\n",
    "print(num_columns)\n",
    "################################################\n",
    "parameters = [\n",
    "    #KNeighborsClassifier() \n",
    "    {\n",
    "        'models': [KNeighborsClassifier()],\n",
    "        'models__n_neighbors': range(1, 20),\n",
    "        'preprocessor__scaler__scale': [StandardScaler(), MinMaxScaler()],\n",
    "        'preprocessor__encoder__encode':[OneHotEncoder(handle_unknown='ignore'),OrdinalEncoder(handle_unknown='use_encoded_value', unknown_value=np.nan)]\n",
    "    },\n",
    "    #DecisionTreeClassifier()\n",
    "    {\n",
    "        'models': [DecisionTreeClassifier(random_state=RANDOM_STATE,class_weight='balanced')],\n",
    "        'models__max_depth': range(2, 11),\n",
    "        'preprocessor__scaler__scale': [StandardScaler(), MinMaxScaler()],\n",
    "        'preprocessor__encoder__encode':[OneHotEncoder(handle_unknown='ignore'),OrdinalEncoder(handle_unknown='use_encoded_value', unknown_value=np.nan)]\n",
    "    },\n",
    "    #SVC()\n",
    "    {\n",
    "        'models': [SVC(random_state=RANDOM_STATE,class_weight='balanced')],\n",
    "        'models__C': [0.1, 0.3, 0.7, 1, 1,5, 2, 3],\n",
    "        'preprocessor__scaler__scale': [StandardScaler(), MinMaxScaler()],\n",
    "        'preprocessor__encoder__encode':[OneHotEncoder(handle_unknown='ignore'), \n",
    "            OrdinalEncoder(handle_unknown='use_encoded_value', unknown_value=np.nan)]\n",
    "    },\n",
    "    #LogisticRegression()\n",
    "    {\n",
    "        'models': [LogisticRegression(random_state=RANDOM_STATE, penalty='l1', solver='saga',class_weight='balanced')],\n",
    "        'models__C': [0.1, 0.3, 0.7, 1, 1.5, 2, 3, 5],\n",
    "        'preprocessor__scaler__scale': [StandardScaler(), MinMaxScaler()],\n",
    "        'preprocessor__encoder__encode':[OneHotEncoder(handle_unknown='ignore'), \n",
    "            OrdinalEncoder(handle_unknown='use_encoded_value', unknown_value=np.nan)]\n",
    "    }\n",
    "] \n",
    "################################################\n",
    "encoder_pipe = Pipeline(\n",
    "    [\n",
    "        ('fillna1', SimpleImputer(missing_values=np.nan, strategy='most_frequent')),\n",
    "        ('encode', OneHotEncoder(drop='first', handle_unknown='ignore')),\n",
    "        ('fillna2', SimpleImputer(missing_values=np.nan, strategy='most_frequent'))\n",
    "    ]\n",
    "    )\n",
    "################################################\n",
    "scaler_pipe = Pipeline(\n",
    "    [\n",
    "        ('scale', MinMaxScaler())\n",
    "    ]\n",
    "    )\n",
    "################################################\n",
    "data_preprocessor = ColumnTransformer(\n",
    "    [('encoder', encoder_pipe, cat_columns),\n",
    "     ('scaler', scaler_pipe, num_columns)\n",
    "    ], \n",
    "    remainder='passthrough'\n",
    ")\n",
    "################################################\n",
    "pipe_final = Pipeline([\n",
    "    ('preprocessor', data_preprocessor),\n",
    "    ('models', DecisionTreeClassifier(random_state=RANDOM_STATE))\n",
    "])"
   ]
  },
  {
   "cell_type": "markdown",
   "metadata": {},
   "source": [
    "#### Разбивка данных для обучения\n",
    "\n",
    "Разделим данные на обучающую и тестовую выборки (тестовая выборка 25%).\n",
    "\n",
    "Целевой параметр: `Покупательская активность`, входными параметрами будет  все кроме `id`\n",
    "\n",
    "Т.к. наблюдается явный дисбаланс классов в целевом параметре, то разбивка будет проводиться со стратификацией\n",
    "\n",
    "Целевой параметр `Покупательская активность` принимает значения:\n",
    "- `Снизилась`\n",
    "- `Прежний уровень`\n",
    "\n",
    "Для корректной работы моделей закодируем их следующим образом:\n",
    "- `Снизилась`: `0`\n",
    "- `Прежний уровень` : `1`\n"
   ]
  },
  {
   "cell_type": "code",
   "execution_count": 22,
   "metadata": {},
   "outputs": [
    {
     "data": {
      "text/html": [
       "<div>\n",
       "<style scoped>\n",
       "    .dataframe tbody tr th:only-of-type {\n",
       "        vertical-align: middle;\n",
       "    }\n",
       "\n",
       "    .dataframe tbody tr th {\n",
       "        vertical-align: top;\n",
       "    }\n",
       "\n",
       "    .dataframe thead th {\n",
       "        text-align: right;\n",
       "    }\n",
       "</style>\n",
       "<table border=\"1\" class=\"dataframe\">\n",
       "  <thead>\n",
       "    <tr style=\"text-align: right;\">\n",
       "      <th></th>\n",
       "      <th>Тип сервиса</th>\n",
       "      <th>Разрешить сообщать</th>\n",
       "      <th>Маркет_актив_6_мес</th>\n",
       "      <th>Маркет_актив_тек_мес</th>\n",
       "      <th>Длительность</th>\n",
       "      <th>Акционные_покупки</th>\n",
       "      <th>Популярная_категория</th>\n",
       "      <th>Средний_просмотр_категорий_за_визит</th>\n",
       "      <th>Неоплаченные_продукты_штук_квартал</th>\n",
       "      <th>Ошибка_сервиса</th>\n",
       "      <th>Страниц_за_визит</th>\n",
       "      <th>Выручка_текущий_месяц</th>\n",
       "      <th>Выручка_предыдущий_месяц</th>\n",
       "      <th>Выручка_препредыдущий_месяц</th>\n",
       "      <th>минут_текущий_месяц</th>\n",
       "      <th>минут_предыдущий_месяц</th>\n",
       "    </tr>\n",
       "  </thead>\n",
       "  <tbody>\n",
       "    <tr>\n",
       "      <th>404</th>\n",
       "      <td>премиум</td>\n",
       "      <td>да</td>\n",
       "      <td>5.5</td>\n",
       "      <td>5</td>\n",
       "      <td>191</td>\n",
       "      <td>0.17</td>\n",
       "      <td>Косметика и аксесуары</td>\n",
       "      <td>6</td>\n",
       "      <td>0</td>\n",
       "      <td>4</td>\n",
       "      <td>8</td>\n",
       "      <td>4168.0</td>\n",
       "      <td>4395.5</td>\n",
       "      <td>4808.0</td>\n",
       "      <td>15</td>\n",
       "      <td>15</td>\n",
       "    </tr>\n",
       "    <tr>\n",
       "      <th>263</th>\n",
       "      <td>премиум</td>\n",
       "      <td>нет</td>\n",
       "      <td>4.4</td>\n",
       "      <td>3</td>\n",
       "      <td>255</td>\n",
       "      <td>0.94</td>\n",
       "      <td>Домашний текстиль</td>\n",
       "      <td>3</td>\n",
       "      <td>5</td>\n",
       "      <td>7</td>\n",
       "      <td>7</td>\n",
       "      <td>6687.0</td>\n",
       "      <td>5848.5</td>\n",
       "      <td>4410.0</td>\n",
       "      <td>12</td>\n",
       "      <td>8</td>\n",
       "    </tr>\n",
       "    <tr>\n",
       "      <th>25</th>\n",
       "      <td>премиум</td>\n",
       "      <td>нет</td>\n",
       "      <td>3.8</td>\n",
       "      <td>3</td>\n",
       "      <td>811</td>\n",
       "      <td>0.90</td>\n",
       "      <td>Товары для детей</td>\n",
       "      <td>2</td>\n",
       "      <td>5</td>\n",
       "      <td>5</td>\n",
       "      <td>3</td>\n",
       "      <td>5161.1</td>\n",
       "      <td>4632.0</td>\n",
       "      <td>4293.0</td>\n",
       "      <td>8</td>\n",
       "      <td>10</td>\n",
       "    </tr>\n",
       "    <tr>\n",
       "      <th>830</th>\n",
       "      <td>стандарт</td>\n",
       "      <td>да</td>\n",
       "      <td>3.6</td>\n",
       "      <td>4</td>\n",
       "      <td>677</td>\n",
       "      <td>0.18</td>\n",
       "      <td>Домашний текстиль</td>\n",
       "      <td>6</td>\n",
       "      <td>1</td>\n",
       "      <td>6</td>\n",
       "      <td>9</td>\n",
       "      <td>4999.0</td>\n",
       "      <td>5109.5</td>\n",
       "      <td>5387.0</td>\n",
       "      <td>18</td>\n",
       "      <td>18</td>\n",
       "    </tr>\n",
       "    <tr>\n",
       "      <th>275</th>\n",
       "      <td>премиум</td>\n",
       "      <td>нет</td>\n",
       "      <td>2.4</td>\n",
       "      <td>4</td>\n",
       "      <td>399</td>\n",
       "      <td>0.35</td>\n",
       "      <td>Косметика и аксесуары</td>\n",
       "      <td>2</td>\n",
       "      <td>4</td>\n",
       "      <td>3</td>\n",
       "      <td>3</td>\n",
       "      <td>4439.6</td>\n",
       "      <td>5009.0</td>\n",
       "      <td>4646.0</td>\n",
       "      <td>15</td>\n",
       "      <td>7</td>\n",
       "    </tr>\n",
       "  </tbody>\n",
       "</table>\n",
       "</div>"
      ],
      "text/plain": [
       "    Тип сервиса Разрешить сообщать  Маркет_актив_6_мес  Маркет_актив_тек_мес  \\\n",
       "404     премиум                 да                 5.5                     5   \n",
       "263     премиум                нет                 4.4                     3   \n",
       "25      премиум                нет                 3.8                     3   \n",
       "830    стандарт                 да                 3.6                     4   \n",
       "275     премиум                нет                 2.4                     4   \n",
       "\n",
       "     Длительность  Акционные_покупки   Популярная_категория  \\\n",
       "404           191               0.17  Косметика и аксесуары   \n",
       "263           255               0.94      Домашний текстиль   \n",
       "25            811               0.90       Товары для детей   \n",
       "830           677               0.18      Домашний текстиль   \n",
       "275           399               0.35  Косметика и аксесуары   \n",
       "\n",
       "     Средний_просмотр_категорий_за_визит  Неоплаченные_продукты_штук_квартал  \\\n",
       "404                                    6                                   0   \n",
       "263                                    3                                   5   \n",
       "25                                     2                                   5   \n",
       "830                                    6                                   1   \n",
       "275                                    2                                   4   \n",
       "\n",
       "     Ошибка_сервиса  Страниц_за_визит  Выручка_текущий_месяц  \\\n",
       "404               4                 8                 4168.0   \n",
       "263               7                 7                 6687.0   \n",
       "25                5                 3                 5161.1   \n",
       "830               6                 9                 4999.0   \n",
       "275               3                 3                 4439.6   \n",
       "\n",
       "     Выручка_предыдущий_месяц  Выручка_препредыдущий_месяц  \\\n",
       "404                    4395.5                       4808.0   \n",
       "263                    5848.5                       4410.0   \n",
       "25                     4632.0                       4293.0   \n",
       "830                    5109.5                       5387.0   \n",
       "275                    5009.0                       4646.0   \n",
       "\n",
       "     минут_текущий_месяц  минут_предыдущий_месяц  \n",
       "404                   15                      15  \n",
       "263                   12                       8  \n",
       "25                     8                      10  \n",
       "830                   18                      18  \n",
       "275                   15                       7  "
      ]
     },
     "metadata": {},
     "output_type": "display_data"
    },
    {
     "data": {
      "text/plain": [
       "404    1\n",
       "263    0\n",
       "25     0\n",
       "830    1\n",
       "275    0\n",
       "Name: Покупательская активность, dtype: int64"
      ]
     },
     "metadata": {},
     "output_type": "display_data"
    }
   ],
   "source": [
    "X_train, X_test, y_train, y_test = train_test_split(\n",
    "    full.drop(['Покупательская активность','id'], axis=1),\n",
    "    full['Покупательская активность'].replace({'Снизилась':0,'Прежний уровень':1}),\n",
    "    test_size = 0.25, \n",
    "    random_state = RANDOM_STATE,\n",
    "    stratify = full['Покупательская активность'].replace({'Снизилась':0,'Прежний уровень':1}))\n",
    "\n",
    "display(X_train.head())\n",
    "\n",
    "display(y_train.head())"
   ]
  },
  {
   "cell_type": "markdown",
   "metadata": {},
   "source": [
    "#### Обучение и тестирование моделей\n",
    "\n",
    "Исходя из бизнес-задачи будем считать что неверное предсказание того, что покупательская способность осталась на преженем уровне при ее фактическом спаде является более критичной (ошибка FP), т.к. в таком случае выше риск потерять клиентов.\n",
    "\n",
    "Для оценки качества моделей будем использовать метрику $f_\\beta$ чтобы учитывать ошибки обоих родов.\n",
    "\n",
    "Выберем значение $\\beta=\\frac{1}{2}$ (перевес в сторону precision)"
   ]
  },
  {
   "cell_type": "code",
   "execution_count": 23,
   "metadata": {
    "scrolled": false
   },
   "outputs": [
    {
     "name": "stdout",
     "output_type": "stream",
     "text": [
      "Лучшая модель и её параметры:\n",
      "\n",
      " Pipeline(steps=[('preprocessor',\n",
      "                 ColumnTransformer(remainder='passthrough',\n",
      "                                   transformers=[('encoder',\n",
      "                                                  Pipeline(steps=[('fillna1',\n",
      "                                                                   SimpleImputer(strategy='most_frequent')),\n",
      "                                                                  ('encode',\n",
      "                                                                   OrdinalEncoder(handle_unknown='use_encoded_value',\n",
      "                                                                                  unknown_value=nan)),\n",
      "                                                                  ('fillna2',\n",
      "                                                                   SimpleImputer(strategy='most_frequent'))]),\n",
      "                                                  Index(['Тип сервиса', 'Разрешить сообщать', 'Популярн...\n",
      "       'Акционные_покупки', 'Средний_просмотр_категорий_за_визит',\n",
      "       'Неоплаченные_продукты_штук_квартал', 'Ошибка_сервиса',\n",
      "       'Страниц_за_визит', 'Выручка_текущий_месяц', 'Выручка_предыдущий_месяц',\n",
      "       'Выручка_препредыдущий_месяц', 'минут_текущий_месяц',\n",
      "       'минут_предыдущий_месяц'],\n",
      "      dtype='object'))])),\n",
      "                ('models',\n",
      "                 LogisticRegression(C=0.1, class_weight='balanced',\n",
      "                                    penalty='l1', random_state=2024,\n",
      "                                    solver='saga'))])\n",
      "Лучшая модель и её параметры:\n",
      "\n",
      " {'models': LogisticRegression(class_weight='balanced', penalty='l1', random_state=2024,\n",
      "                   solver='saga'), 'models__C': 0.1, 'preprocessor__encoder__encode': OrdinalEncoder(handle_unknown='use_encoded_value', unknown_value=nan), 'preprocessor__scaler__scale': StandardScaler()}\n",
      "Метрика лучшей модели на тренировочной выборке: 0.8815433560684822\n",
      "Метрика f0.5 на тестовой выборке: 0.9064609450337512\n"
     ]
    }
   ],
   "source": [
    "import warnings\n",
    "warnings.filterwarnings('ignore') # чтобы не лезли предупреждения о превышении числа итераций\n",
    "\n",
    "f05 = make_scorer(lambda x,y: fbeta_score(x,y,beta=0.5))\n",
    "\n",
    "grid_search = GridSearchCV(\n",
    "    pipe_final, \n",
    "    parameters, \n",
    "    cv=5,\n",
    "    scoring=f05,\n",
    "    n_jobs=-1\n",
    ")\n",
    "grid_search.fit(X_train, y_train)\n",
    "\n",
    "print('Лучшая модель и её параметры:\\n\\n', grid_search.best_estimator_)\n",
    "print('Лучшая модель и её параметры:\\n\\n', grid_search.best_params_)\n",
    "\n",
    "print ('Метрика лучшей модели на тренировочной выборке:', grid_search.best_score_)\n",
    "\n",
    "# прогноз на тестовых данных\n",
    "y_test_pred = grid_search.predict(X_test)\n",
    "print(f'Метрика f0.5 на тестовой выборке: {fbeta_score(y_test, y_test_pred, beta=0.5)}')"
   ]
  },
  {
   "cell_type": "markdown",
   "metadata": {},
   "source": [
    "Среди всех моделей лучше всего себя показала модель логистической регрессии с параметром регуляризации l1 C=0.1, солвером saga, кодировщиком OrdinalEncoder и скейлером StandardScaler.\n",
    "\n",
    "Значения метрики на тренировочной и тестовой выборках близки, что говорит об отсутствии переобучения или недообучения.\n",
    "\n",
    "Немного смущает что результат на тестовой выборке чуть-чуть выше чем на тренировочной, но для других значений random_state такого нет и, исходя из логики входных параметров, утечки целевого признака быть не должно."
   ]
  },
  {
   "cell_type": "markdown",
   "metadata": {},
   "source": [
    "### Анализ важности признаков\n",
    "\n",
    "Лучшее качество показала модель SVC, однако для нее нет встроенных методов оценки важности признаков.\n",
    "\n",
    "В данном разделе проведем анализ важности признаков для лучшей модели методом SHAP."
   ]
  },
  {
   "cell_type": "code",
   "execution_count": 24,
   "metadata": {},
   "outputs": [
    {
     "name": "stderr",
     "output_type": "stream",
     "text": [
      "PermutationExplainer explainer: 326it [01:26,  3.48it/s]                         \n"
     ]
    }
   ],
   "source": [
    "tr = grid_search.best_estimator_[0]\n",
    "model = grid_search.best_estimator_[1]\n",
    "\n",
    "#X_test_tr = pd.DataFrame(tr.transform(X_test), columns=tr.get_feature_names_out())\n",
    "X_test_tr = tr.transform(X_test)\n",
    "\n",
    "# это будет долго\n",
    "explainer = shap.Explainer(model.predict, X_test_tr, feature_names=tr.get_feature_names_out())\n",
    "shap_values = explainer(X_test_tr)"
   ]
  },
  {
   "cell_type": "code",
   "execution_count": 25,
   "metadata": {},
   "outputs": [
    {
     "data": {
      "image/png": "[encoded data removed]",
      "text/plain": [
       "<Figure size 576x684 with 1 Axes>"
      ]
     },
     "metadata": {},
     "output_type": "display_data"
    },
    {
     "data": {
      "image/png": "[encoded data removed]",
      "text/plain": [
       "<Figure size 576x568.8 with 2 Axes>"
      ]
     },
     "metadata": {
      "needs_background": "light"
     },
     "output_type": "display_data"
    }
   ],
   "source": [
    "shap.plots.bar(shap_values, max_display=30) \n",
    "shap.plots.beeswarm(shap_values, max_display=30) "
   ]
  },
  {
   "cell_type": "markdown",
   "metadata": {},
   "source": [
    "Получили, что наиболее значимыми являются признаки:\n",
    "- `минут_предыдущий_месяц` (чем больше, тем выше шанс сохранения покупательской активности)\n",
    "- `Страниц_за_визит` (чем больше, тем выше шанс сохранения покупательской активности)\n",
    "- `Средний_просмотр_категорий_за_визит` (чем больше, тем выше шанс сохранения покупательской активности)\n",
    "- `минут_текущий_месяц` (чем больше, тем выше шанс сохранения покупательской активности)\n",
    "- `Акционные_покупки` (чем больше, тем выше вероятность снижения покупательской активности)\n",
    "- `Неоплаченные_продукты_штук_квартал` (чем больше, тем выше вероятность снижения покупательской активности)\n",
    "- `Маркет_актив_6_мес`  (чем больше, тем выше шанс сохранения покупательской активности)\n",
    "\n",
    "Наименее значимые категории:\n",
    "- `Тип сервиса`\n",
    "- `Разрешить сообщать`\n",
    "- `Ошибка_сервиса`\n",
    "- `Выручка_текущий_месяц`\n",
    "- `Выручка_предыдущий_месяц`\n",
    "- `Маркет_актив_тек_мес`\n",
    "\n",
    "Из анализа значимости признаков можно сделать вывод, что заинтересованность пользователя в сайте и его активность на нем (не только покупки, но и просто просмотр сайта) положительно влияют на сохранение покупательской активности.\n",
    "\n",
    "В то же время высокая доля покупок по акции и высокое число неоплаченных продуктов свидетельствуют о снижении покупательской активности пользователей"
   ]
  },
  {
   "cell_type": "markdown",
   "metadata": {},
   "source": [
    "### Сегментация пользователей\n",
    "\n",
    "Как уже отмечалось ранее, пользователи разделись на 2 четко разделимых группы с высокой и низкой долей акционных покупок\n",
    "\n",
    "В качестве границы этих групп выберем величину 60%\n",
    "\n",
    "В данном разделе рассмотрим сегмент пользователей с высокой долей покупок по акции\n",
    "\n",
    "Т.к. в этом разделе будем также рассматривать прибыль от пользователей, добавим соответствующий столбец в общую таблицу"
   ]
  },
  {
   "cell_type": "code",
   "execution_count": 26,
   "metadata": {},
   "outputs": [
    {
     "data": {
      "text/html": [
       "<div>\n",
       "<style scoped>\n",
       "    .dataframe tbody tr th:only-of-type {\n",
       "        vertical-align: middle;\n",
       "    }\n",
       "\n",
       "    .dataframe tbody tr th {\n",
       "        vertical-align: top;\n",
       "    }\n",
       "\n",
       "    .dataframe thead th {\n",
       "        text-align: right;\n",
       "    }\n",
       "</style>\n",
       "<table border=\"1\" class=\"dataframe\">\n",
       "  <thead>\n",
       "    <tr style=\"text-align: right;\">\n",
       "      <th></th>\n",
       "      <th>id</th>\n",
       "      <th>Покупательская активность</th>\n",
       "      <th>Тип сервиса</th>\n",
       "      <th>Разрешить сообщать</th>\n",
       "      <th>Маркет_актив_6_мес</th>\n",
       "      <th>Маркет_актив_тек_мес</th>\n",
       "      <th>Длительность</th>\n",
       "      <th>Акционные_покупки</th>\n",
       "      <th>Популярная_категория</th>\n",
       "      <th>Средний_просмотр_категорий_за_визит</th>\n",
       "      <th>Неоплаченные_продукты_штук_квартал</th>\n",
       "      <th>Ошибка_сервиса</th>\n",
       "      <th>Страниц_за_визит</th>\n",
       "      <th>Выручка_текущий_месяц</th>\n",
       "      <th>Выручка_предыдущий_месяц</th>\n",
       "      <th>Выручка_препредыдущий_месяц</th>\n",
       "      <th>минут_текущий_месяц</th>\n",
       "      <th>минут_предыдущий_месяц</th>\n",
       "      <th>Прибыль</th>\n",
       "    </tr>\n",
       "  </thead>\n",
       "  <tbody>\n",
       "    <tr>\n",
       "      <th>1</th>\n",
       "      <td>215349</td>\n",
       "      <td>Снизилась</td>\n",
       "      <td>премиум</td>\n",
       "      <td>да</td>\n",
       "      <td>4.4</td>\n",
       "      <td>4</td>\n",
       "      <td>819</td>\n",
       "      <td>0.75</td>\n",
       "      <td>Товары для детей</td>\n",
       "      <td>4</td>\n",
       "      <td>4</td>\n",
       "      <td>2</td>\n",
       "      <td>5</td>\n",
       "      <td>4971.6</td>\n",
       "      <td>5216.0</td>\n",
       "      <td>4472.0</td>\n",
       "      <td>10</td>\n",
       "      <td>12</td>\n",
       "      <td>4.16</td>\n",
       "    </tr>\n",
       "    <tr>\n",
       "      <th>3</th>\n",
       "      <td>215351</td>\n",
       "      <td>Снизилась</td>\n",
       "      <td>стандарт</td>\n",
       "      <td>да</td>\n",
       "      <td>3.2</td>\n",
       "      <td>5</td>\n",
       "      <td>896</td>\n",
       "      <td>0.99</td>\n",
       "      <td>Товары для детей</td>\n",
       "      <td>5</td>\n",
       "      <td>0</td>\n",
       "      <td>6</td>\n",
       "      <td>4</td>\n",
       "      <td>6610.4</td>\n",
       "      <td>6158.0</td>\n",
       "      <td>4793.0</td>\n",
       "      <td>13</td>\n",
       "      <td>11</td>\n",
       "      <td>4.87</td>\n",
       "    </tr>\n",
       "    <tr>\n",
       "      <th>4</th>\n",
       "      <td>215352</td>\n",
       "      <td>Снизилась</td>\n",
       "      <td>стандарт</td>\n",
       "      <td>нет</td>\n",
       "      <td>5.1</td>\n",
       "      <td>3</td>\n",
       "      <td>1064</td>\n",
       "      <td>0.94</td>\n",
       "      <td>Товары для детей</td>\n",
       "      <td>3</td>\n",
       "      <td>2</td>\n",
       "      <td>3</td>\n",
       "      <td>2</td>\n",
       "      <td>5872.5</td>\n",
       "      <td>5807.5</td>\n",
       "      <td>4594.0</td>\n",
       "      <td>11</td>\n",
       "      <td>8</td>\n",
       "      <td>4.21</td>\n",
       "    </tr>\n",
       "    <tr>\n",
       "      <th>14</th>\n",
       "      <td>215362</td>\n",
       "      <td>Снизилась</td>\n",
       "      <td>премиум</td>\n",
       "      <td>да</td>\n",
       "      <td>4.2</td>\n",
       "      <td>4</td>\n",
       "      <td>438</td>\n",
       "      <td>0.74</td>\n",
       "      <td>Домашний текстиль</td>\n",
       "      <td>3</td>\n",
       "      <td>4</td>\n",
       "      <td>6</td>\n",
       "      <td>4</td>\n",
       "      <td>4447.9</td>\n",
       "      <td>4314.0</td>\n",
       "      <td>4765.0</td>\n",
       "      <td>13</td>\n",
       "      <td>13</td>\n",
       "      <td>3.49</td>\n",
       "    </tr>\n",
       "    <tr>\n",
       "      <th>16</th>\n",
       "      <td>215364</td>\n",
       "      <td>Снизилась</td>\n",
       "      <td>премиум</td>\n",
       "      <td>да</td>\n",
       "      <td>4.3</td>\n",
       "      <td>4</td>\n",
       "      <td>708</td>\n",
       "      <td>0.98</td>\n",
       "      <td>Домашний текстиль</td>\n",
       "      <td>3</td>\n",
       "      <td>3</td>\n",
       "      <td>3</td>\n",
       "      <td>3</td>\n",
       "      <td>5484.8</td>\n",
       "      <td>5795.5</td>\n",
       "      <td>4942.0</td>\n",
       "      <td>9</td>\n",
       "      <td>11</td>\n",
       "      <td>2.67</td>\n",
       "    </tr>\n",
       "  </tbody>\n",
       "</table>\n",
       "</div>"
      ],
      "text/plain": [
       "        id Покупательская активность Тип сервиса Разрешить сообщать  \\\n",
       "1   215349                 Снизилась     премиум                 да   \n",
       "3   215351                 Снизилась    стандарт                 да   \n",
       "4   215352                 Снизилась    стандарт                нет   \n",
       "14  215362                 Снизилась     премиум                 да   \n",
       "16  215364                 Снизилась     премиум                 да   \n",
       "\n",
       "    Маркет_актив_6_мес  Маркет_актив_тек_мес  Длительность  Акционные_покупки  \\\n",
       "1                  4.4                     4           819               0.75   \n",
       "3                  3.2                     5           896               0.99   \n",
       "4                  5.1                     3          1064               0.94   \n",
       "14                 4.2                     4           438               0.74   \n",
       "16                 4.3                     4           708               0.98   \n",
       "\n",
       "   Популярная_категория  Средний_просмотр_категорий_за_визит  \\\n",
       "1      Товары для детей                                    4   \n",
       "3      Товары для детей                                    5   \n",
       "4      Товары для детей                                    3   \n",
       "14    Домашний текстиль                                    3   \n",
       "16    Домашний текстиль                                    3   \n",
       "\n",
       "    Неоплаченные_продукты_штук_квартал  Ошибка_сервиса  Страниц_за_визит  \\\n",
       "1                                    4               2                 5   \n",
       "3                                    0               6                 4   \n",
       "4                                    2               3                 2   \n",
       "14                                   4               6                 4   \n",
       "16                                   3               3                 3   \n",
       "\n",
       "    Выручка_текущий_месяц  Выручка_предыдущий_месяц  \\\n",
       "1                  4971.6                    5216.0   \n",
       "3                  6610.4                    6158.0   \n",
       "4                  5872.5                    5807.5   \n",
       "14                 4447.9                    4314.0   \n",
       "16                 5484.8                    5795.5   \n",
       "\n",
       "    Выручка_препредыдущий_месяц  минут_текущий_месяц  минут_предыдущий_месяц  \\\n",
       "1                        4472.0                   10                      12   \n",
       "3                        4793.0                   13                      11   \n",
       "4                        4594.0                   11                       8   \n",
       "14                       4765.0                   13                      13   \n",
       "16                       4942.0                    9                      11   \n",
       "\n",
       "    Прибыль  \n",
       "1      4.16  \n",
       "3      4.87  \n",
       "4      4.21  \n",
       "14     3.49  \n",
       "16     2.67  "
      ]
     },
     "metadata": {},
     "output_type": "display_data"
    },
    {
     "data": {
      "image/png": "[encoded data removed]",
      "text/plain": [
       "<Figure size 432x288 with 1 Axes>"
      ]
     },
     "metadata": {},
     "output_type": "display_data"
    },
    {
     "data": {
      "image/png": "[encoded data removed]",
      "text/plain": [
       "<Figure size 432x288 with 1 Axes>"
      ]
     },
     "metadata": {},
     "output_type": "display_data"
    }
   ],
   "source": [
    "full = full.merge(money_df, on='id')\n",
    "\n",
    "sales = full[full['Акционные_покупки']>0.6]\n",
    "\n",
    "full['Сегмент пользователя'] = full['Акционные_покупки'].apply(lambda x: 'обычный' if x<0.6 else 'акционщик')\n",
    "\n",
    "display(sales.head())\n",
    "\n",
    "full.pivot_table(index='Сегмент пользователя', aggfunc='count').plot(y='id', kind='pie', autopct='%1.0f%%', legend=False, ylabel='', title='Соотношение сегментов пользователей')\n",
    "plt.show()\n",
    "\n",
    "sales.pivot_table(index='Покупательская активность', aggfunc='count').plot(y='id', kind='pie', autopct='%1.0f%%', legend=False, ylabel='', title='Покупательская активность акционщиков')\n",
    "plt.show()"
   ]
  },
  {
   "cell_type": "markdown",
   "metadata": {},
   "source": [
    "Доля рассматриваемого сегмента всего 13% от общего числа пользователей, однако процент пользователей в этом сегменте, покупательская активность которых снизилась, составляет 80%"
   ]
  },
  {
   "cell_type": "code",
   "execution_count": 27,
   "metadata": {
    "scrolled": false
   },
   "outputs": [
    {
     "data": {
      "image/png": "[encoded data removed]",
      "text/plain": [
       "<Figure size 432x288 with 1 Axes>"
      ]
     },
     "metadata": {
      "needs_background": "light"
     },
     "output_type": "display_data"
    },
    {
     "data": {
      "image/png": "[encoded data removed]",
      "text/plain": [
       "<Figure size 432x288 with 1 Axes>"
      ]
     },
     "metadata": {
      "needs_background": "light"
     },
     "output_type": "display_data"
    },
    {
     "data": {
      "image/png": "[encoded data removed]",
      "text/plain": [
       "<Figure size 432x288 with 1 Axes>"
      ]
     },
     "metadata": {
      "needs_background": "light"
     },
     "output_type": "display_data"
    },
    {
     "data": {
      "image/png": "[encoded data removed]",
      "text/plain": [
       "<Figure size 432x288 with 1 Axes>"
      ]
     },
     "metadata": {
      "needs_background": "light"
     },
     "output_type": "display_data"
    },
    {
     "data": {
      "image/png": "[encoded data removed]",
      "text/plain": [
       "<Figure size 432x288 with 1 Axes>"
      ]
     },
     "metadata": {
      "needs_background": "light"
     },
     "output_type": "display_data"
    },
    {
     "data": {
      "image/png": "[encoded data removed]",
      "text/plain": [
       "<Figure size 432x288 with 1 Axes>"
      ]
     },
     "metadata": {},
     "output_type": "display_data"
    },
    {
     "data": {
      "image/png": "[encoded data removed]",
      "text/plain": [
       "<Figure size 432x288 with 1 Axes>"
      ]
     },
     "metadata": {},
     "output_type": "display_data"
    }
   ],
   "source": [
    "sales.pivot_table(index='Покупательская активность', aggfunc='median')[['Выручка_препредыдущий_месяц','Выручка_предыдущий_месяц','Выручка_текущий_месяц']].T.plot(ylabel='Медианная выручка от 1 пользователя', title='Динамика выручки за 3 месяца')\n",
    "plt.show()\n",
    "\n",
    "sales.pivot_table(index='Покупательская активность', aggfunc='median')['Прибыль'].plot(kind='bar', ylabel='Медианная прибыль от 1 пользователя', title='Медианная прибыль от 1 пользователя')\n",
    "plt.show()\n",
    "\n",
    "sales.pivot_table(index='Покупательская активность', aggfunc='mean')['Средний_просмотр_категорий_за_визит'].plot(kind='bar', ylabel='Средний просмотр категорий за визит', title='Средний просмотр категорий за визит')\n",
    "plt.show()\n",
    "\n",
    "sales.pivot_table(index='Покупательская активность', aggfunc='mean')['Маркет_актив_6_мес'].plot(kind='bar', ylabel='Средний Маркет_актив_6_мес', title='Средний Маркет_актив_6_мес')\n",
    "plt.show()\n",
    "\n",
    "sales.pivot_table(index='Покупательская активность', aggfunc='mean')['минут_предыдущий_месяц'].plot(kind='bar', ylabel='Среднее минут_предыдущий_месяц', title='Среднее минут_предыдущий_месяц')\n",
    "plt.show()\n",
    "\n",
    "sales[sales['Покупательская активность']==\"Снизилась\"].pivot_table(index='Популярная_категория', aggfunc='count').plot(y='id', kind='pie', autopct='%1.0f%%', legend=False, ylabel='', title='Покупательская активность снизилась')\n",
    "plt.show()\n",
    "\n",
    "full[full['Покупательская активность']==\"Прежний уровень\"].pivot_table(index='Популярная_категория', aggfunc='count').plot(y='id', kind='pie', autopct='%1.0f%%', legend=False, ylabel='', title='Покупательская активность на прежнем уровне')\n",
    "plt.show()"
   ]
  },
  {
   "cell_type": "markdown",
   "metadata": {
    "scrolled": false
   },
   "source": [
    "Получили, что среди клиентов с высокой долей акционных покупок медианная прибыль от 1 пользователя почти не зависит от покупательской активности.\n",
    "Динамика прибыли за последние 3 месяца показывает схожий рост для обоих подгрупп по покупательской активности в данном сегменте.\n",
    "\n",
    "Общая активность пользователей со снизившейся покупательской активностью также снизилась\n",
    "\n",
    "Заметим, что в рассматриваемом сегменте среди пользователей со снизившейся покупательской активностью популярны категории:\n",
    "- Товары для детей \n",
    "- Домашний текстиль\n",
    "- Косметика и аксесуары\n",
    "- Кухонная посуда\n",
    "\n",
    "Таким образом этих пользователей можно описать как домохозяек.\n",
    "\n",
    "В итоге можно дать соответствующие рекомендации:\n",
    "- увеличить рассылку для пользователей промаркированных сниженной активностью в данном сегменте\n",
    "- увеличить число акций в описанных выше категориях"
   ]
  },
  {
   "cell_type": "markdown",
   "metadata": {},
   "source": [
    "Получили, что доля пользователей покупающих в основном по акции не велика, всего 13%. Однако у 80% из них в течение 3 месяцев снижалась покупательская актвность, что практически диаметрально противоположно обычным пользователям (у 68% обычных пользователей сохраняется покупательская активность).\n",
    "\n",
    "Таким образом необходимо предпринимать меры по удержанию клиентов предпочитающих акционные товары. Это возможно сделать путем рассылки персональных акционных приложений, системы баллов и прочего.\n",
    "\n",
    "Данные меры можно считать допустимыми и рентабильными т.к. по имеющимся данным 1 клиент из каждого сегментов в среднем приносит сопоставимую прибыль (так бывает не всегда).\n",
    "\n",
    "С другой стороны предложенные меры никак способствуют переходу таких клиентов в сегмент обычных, а наоборот провоцируют увеличение доли \"акционщиков\""
   ]
  },
  {
   "cell_type": "markdown",
   "metadata": {},
   "source": [
    "## Выводы\n",
    "\n",
    "В данной работе рассматривались данные интернет-магазина «В один клик» о покупательской активности клиентов. Целью работы был выбор и обучение оптимальной модели машинного обучения для предсказания покупательской активности клиентов в следующие 3 месяца а также рассмотрение одного сегмента клиентов\n",
    "\n",
    "В ходе предобработки данных были выявлены и исправлены опечатки в категориальных типах, в целом качесво данных можно оценить как хорошее.\n",
    "\n",
    "В ходе работы было обучено несколько различных моделей МО с различными гиперпараметрами, среди которых была выбрана лучшая:\n",
    "- Логистическая регрессия с параметром регуляризации l1 C=0.1, солвер saga, кодировщик OrdinalEncoder, скейлер StandardScaler\n",
    "\n",
    "Для оценки моделей была использована метрика $f_{0.5}$, значение которой для лучшей модели на тестовой выборке равняется 0.91.\n",
    "\n",
    "Такой выбор метрики обусловлен желанием минимизации ошибок первого и второго рода с большим вниманием в сторону неправильного предсказания сохранения покупательской активности.\n",
    "\n",
    "С использованием метода SHAP было выяснено, что наибольший вклад вносят следующие признаки:\n",
    "- `минут_предыдущий_месяц` (чем больше, тем выше шанс сохранения покупательской активности)\n",
    "- `Страниц_за_визит` (чем больше, тем выше шанс сохранения покупательской активности)\n",
    "- `Средний_просмотр_категорий_за_визит` (чем больше, тем выше шанс сохранения покупательской активности)\n",
    "- `минут_текущий_месяц` (чем больше, тем выше шанс сохранения покупательской активности)\n",
    "- `Акционные_покупки` (чем больше, тем выше вероятность снижения покупательской активности)\n",
    "- `Неоплаченные_продукты_штук_квартал` (чем больше, тем выше вероятность снижения покупательской активности)\n",
    "- `Маркет_актив_6_мес`  (чем больше, тем выше шанс сохранения покупательской активности)\n",
    "\n",
    "Из анализа значимости признаков можно сделать вывод, что заинтересованность пользователя в сайте и его активность на нем (не только покупки, но и просто просмотр сайта) положительно влияют на сохранение покупательской активности.\n",
    "\n",
    "В то же время высокая доля покупок по акции и высокое число неоплаченных продуктов свидетельствуют о снижении покупательской активности пользователей.\n",
    "\n",
    "Также был рассмотрен сегмент пользователей с высокой долей акционных покупок.\n",
    "Получено, что среди клиентов с высокой долей акционных покупок медианная прибыль от 1 пользователя почти не зависит от покупательской активности.\n",
    "Динамика прибыли за последние 3 месяца показывает схожий рост для обоих подгрупп по покупательской активности в данном сегменте.\n",
    "Общая активность пользователей со снизившейся покупательской активностью также снизилась.\n",
    "Заметим, что в рассматриваемом сегменте среди пользователей со снизившейся покупательской активностью популярны категории:\n",
    "- Товары для детей \n",
    "- Домашний текстиль\n",
    "- Косметика и аксесуары\n",
    "- Кухонная посуда\n",
    "\n",
    "Таким образом этих пользователей можно описать как домохозяек.\n",
    "\n",
    "В итоге можно дать соответствующие рекомендации:\n",
    "- увеличить общую рассылку для пользователей промаркированных сниженной активностью в данном сегменте\n",
    "- увеличить число акций в описанных выше категориях"
   ]
  }
 ],
 "metadata": {
  "ExecuteTimeLog": [
   {
    "duration": 45,
    "start_time": "2024-02-15T15:38:40.216Z"
   },
   {
    "duration": 6,
    "start_time": "2024-02-15T15:39:05.650Z"
   },
   {
    "duration": 5207,
    "start_time": "2024-02-15T15:39:10.746Z"
   },
   {
    "duration": 265,
    "start_time": "2024-02-15T15:39:15.956Z"
   },
   {
    "duration": 31,
    "start_time": "2024-02-15T15:39:16.990Z"
   },
   {
    "duration": 118,
    "start_time": "2024-02-15T15:41:57.663Z"
   },
   {
    "duration": 72,
    "start_time": "2024-02-15T15:42:18.539Z"
   },
   {
    "duration": 34,
    "start_time": "2024-02-15T15:42:22.894Z"
   },
   {
    "duration": 15,
    "start_time": "2024-02-15T15:49:09.650Z"
   },
   {
    "duration": 12,
    "start_time": "2024-02-15T15:49:33.686Z"
   },
   {
    "duration": 5,
    "start_time": "2024-02-15T15:52:44.116Z"
   },
   {
    "duration": 10,
    "start_time": "2024-02-15T15:53:21.426Z"
   },
   {
    "duration": 1546,
    "start_time": "2024-02-15T15:53:59.341Z"
   },
   {
    "duration": 11,
    "start_time": "2024-02-15T15:54:41.250Z"
   },
   {
    "duration": 8,
    "start_time": "2024-02-15T15:58:09.642Z"
   },
   {
    "duration": 6,
    "start_time": "2024-02-15T15:58:21.849Z"
   },
   {
    "duration": 6,
    "start_time": "2024-02-15T15:58:28.386Z"
   },
   {
    "duration": 7,
    "start_time": "2024-02-15T15:59:31.796Z"
   },
   {
    "duration": 7,
    "start_time": "2024-02-15T16:01:09.454Z"
   },
   {
    "duration": 8,
    "start_time": "2024-02-15T16:02:29.330Z"
   },
   {
    "duration": 21,
    "start_time": "2024-02-15T16:04:41.752Z"
   },
   {
    "duration": 9,
    "start_time": "2024-02-15T16:05:14.602Z"
   },
   {
    "duration": 7,
    "start_time": "2024-02-15T16:05:22.208Z"
   },
   {
    "duration": 10,
    "start_time": "2024-02-15T16:05:48.353Z"
   },
   {
    "duration": 9,
    "start_time": "2024-02-15T16:07:53.583Z"
   },
   {
    "duration": 22,
    "start_time": "2024-02-15T16:09:50.783Z"
   },
   {
    "duration": 14,
    "start_time": "2024-02-15T16:12:24.783Z"
   },
   {
    "duration": 12,
    "start_time": "2024-02-15T16:12:42.124Z"
   },
   {
    "duration": 54,
    "start_time": "2024-02-15T16:16:13.381Z"
   },
   {
    "duration": 16,
    "start_time": "2024-02-15T18:31:10.355Z"
   },
   {
    "duration": 12,
    "start_time": "2024-02-15T18:31:19.944Z"
   },
   {
    "duration": 12,
    "start_time": "2024-02-15T18:31:28.196Z"
   },
   {
    "duration": 12,
    "start_time": "2024-02-15T18:31:41.652Z"
   },
   {
    "duration": 14,
    "start_time": "2024-02-15T18:32:00.981Z"
   },
   {
    "duration": 342,
    "start_time": "2024-02-15T18:32:16.737Z"
   },
   {
    "duration": 299,
    "start_time": "2024-02-15T18:32:56.302Z"
   },
   {
    "duration": 1339,
    "start_time": "2024-02-15T18:33:22.571Z"
   },
   {
    "duration": 58,
    "start_time": "2024-02-15T18:33:40.182Z"
   },
   {
    "duration": 1151,
    "start_time": "2024-02-15T18:34:23.299Z"
   },
   {
    "duration": 394,
    "start_time": "2024-02-15T18:34:31.342Z"
   },
   {
    "duration": 1137,
    "start_time": "2024-02-15T18:34:53.400Z"
   },
   {
    "duration": 1264,
    "start_time": "2024-02-15T18:35:11.300Z"
   },
   {
    "duration": 438,
    "start_time": "2024-02-15T18:35:22.238Z"
   },
   {
    "duration": 356,
    "start_time": "2024-02-15T18:35:43.859Z"
   },
   {
    "duration": 107,
    "start_time": "2024-02-15T18:38:54.536Z"
   },
   {
    "duration": 2647,
    "start_time": "2024-02-15T18:39:01.884Z"
   },
   {
    "duration": 69,
    "start_time": "2024-02-15T18:39:56.533Z"
   },
   {
    "duration": 2607,
    "start_time": "2024-02-15T18:40:06.924Z"
   },
   {
    "duration": 2479,
    "start_time": "2024-02-15T18:40:25.543Z"
   },
   {
    "duration": 2543,
    "start_time": "2024-02-15T18:42:31.482Z"
   },
   {
    "duration": 2097,
    "start_time": "2024-02-15T18:42:41.101Z"
   },
   {
    "duration": 1950,
    "start_time": "2024-02-15T18:42:44.702Z"
   },
   {
    "duration": 5,
    "start_time": "2024-02-15T18:43:02.745Z"
   },
   {
    "duration": 82,
    "start_time": "2024-02-15T18:43:06.089Z"
   },
   {
    "duration": 7,
    "start_time": "2024-02-15T18:43:11.525Z"
   },
   {
    "duration": 6,
    "start_time": "2024-02-15T18:43:22.900Z"
   },
   {
    "duration": 5,
    "start_time": "2024-02-15T18:43:35.493Z"
   },
   {
    "duration": 2229,
    "start_time": "2024-02-15T18:44:13.038Z"
   },
   {
    "duration": 2289,
    "start_time": "2024-02-15T18:47:29.408Z"
   },
   {
    "duration": 96,
    "start_time": "2024-02-15T18:50:31.912Z"
   },
   {
    "duration": 3696,
    "start_time": "2024-02-15T18:58:21.389Z"
   },
   {
    "duration": 88,
    "start_time": "2024-02-15T18:58:25.088Z"
   },
   {
    "duration": 61,
    "start_time": "2024-02-15T18:58:25.178Z"
   },
   {
    "duration": 33,
    "start_time": "2024-02-15T18:58:25.241Z"
   },
   {
    "duration": 14,
    "start_time": "2024-02-15T18:58:25.276Z"
   },
   {
    "duration": 9,
    "start_time": "2024-02-15T18:58:25.291Z"
   },
   {
    "duration": 16,
    "start_time": "2024-02-15T18:58:25.301Z"
   },
   {
    "duration": 50,
    "start_time": "2024-02-15T18:58:25.318Z"
   },
   {
    "duration": 395,
    "start_time": "2024-02-15T18:58:25.370Z"
   },
   {
    "duration": 2354,
    "start_time": "2024-02-15T18:58:25.768Z"
   },
   {
    "duration": 102,
    "start_time": "2024-02-15T18:58:28.123Z"
   },
   {
    "duration": 280,
    "start_time": "2024-02-15T18:58:28.226Z"
   },
   {
    "duration": 90,
    "start_time": "2024-02-15T18:58:28.507Z"
   },
   {
    "duration": 308,
    "start_time": "2024-02-15T18:58:28.598Z"
   },
   {
    "duration": 5,
    "start_time": "2024-02-15T18:58:28.907Z"
   },
   {
    "duration": 387,
    "start_time": "2024-02-15T18:58:28.914Z"
   },
   {
    "duration": 113,
    "start_time": "2024-02-15T19:41:22.435Z"
   },
   {
    "duration": 8,
    "start_time": "2024-02-15T19:41:31.239Z"
   },
   {
    "duration": 6,
    "start_time": "2024-02-15T19:41:40.767Z"
   },
   {
    "duration": 5,
    "start_time": "2024-02-15T19:41:54.327Z"
   },
   {
    "duration": 76,
    "start_time": "2024-02-15T19:42:07.258Z"
   },
   {
    "duration": 4,
    "start_time": "2024-02-15T19:42:11.511Z"
   },
   {
    "duration": 6,
    "start_time": "2024-02-15T19:43:04.698Z"
   },
   {
    "duration": 1188,
    "start_time": "2024-02-15T19:45:07.704Z"
   },
   {
    "duration": 22,
    "start_time": "2024-02-15T19:45:18.741Z"
   },
   {
    "duration": 35,
    "start_time": "2024-02-15T19:45:37.905Z"
   },
   {
    "duration": 36,
    "start_time": "2024-02-15T19:45:59.946Z"
   },
   {
    "duration": 37,
    "start_time": "2024-02-15T19:46:07.148Z"
   },
   {
    "duration": 23,
    "start_time": "2024-02-15T19:46:11.625Z"
   },
   {
    "duration": 22,
    "start_time": "2024-02-15T19:46:40.257Z"
   },
   {
    "duration": 24,
    "start_time": "2024-02-15T19:47:15.233Z"
   },
   {
    "duration": 8,
    "start_time": "2024-02-15T19:48:52.381Z"
   },
   {
    "duration": 10,
    "start_time": "2024-02-15T19:49:11.883Z"
   },
   {
    "duration": 14,
    "start_time": "2024-02-15T19:55:19.995Z"
   },
   {
    "duration": 27,
    "start_time": "2024-02-15T19:55:32.890Z"
   },
   {
    "duration": 26,
    "start_time": "2024-02-15T19:57:39.778Z"
   },
   {
    "duration": 36,
    "start_time": "2024-02-15T19:58:11.216Z"
   },
   {
    "duration": 28,
    "start_time": "2024-02-15T19:58:29.855Z"
   },
   {
    "duration": 46,
    "start_time": "2024-02-15T20:37:58.498Z"
   },
   {
    "duration": 35,
    "start_time": "2024-02-15T20:38:10.037Z"
   },
   {
    "duration": 92,
    "start_time": "2024-02-15T20:42:34.096Z"
   },
   {
    "duration": 103,
    "start_time": "2024-02-15T20:43:00.000Z"
   },
   {
    "duration": 74,
    "start_time": "2024-02-16T19:45:14.403Z"
   },
   {
    "duration": 45,
    "start_time": "2024-02-16T19:45:18.991Z"
   },
   {
    "duration": 5000,
    "start_time": "2024-02-16T19:45:26.479Z"
   },
   {
    "duration": 240,
    "start_time": "2024-02-16T19:45:31.482Z"
   },
   {
    "duration": 64,
    "start_time": "2024-02-16T19:45:31.724Z"
   },
   {
    "duration": 10,
    "start_time": "2024-02-16T19:45:31.790Z"
   },
   {
    "duration": 30,
    "start_time": "2024-02-16T19:45:31.802Z"
   },
   {
    "duration": 21,
    "start_time": "2024-02-16T19:45:31.834Z"
   },
   {
    "duration": 18,
    "start_time": "2024-02-16T19:45:31.856Z"
   },
   {
    "duration": 11,
    "start_time": "2024-02-16T19:45:31.882Z"
   },
   {
    "duration": 424,
    "start_time": "2024-02-16T19:45:31.894Z"
   },
   {
    "duration": 2521,
    "start_time": "2024-02-16T19:45:32.321Z"
   },
   {
    "duration": 110,
    "start_time": "2024-02-16T19:45:34.843Z"
   },
   {
    "duration": 290,
    "start_time": "2024-02-16T19:45:34.955Z"
   },
   {
    "duration": 94,
    "start_time": "2024-02-16T19:45:35.246Z"
   },
   {
    "duration": 405,
    "start_time": "2024-02-16T19:45:35.341Z"
   },
   {
    "duration": 310,
    "start_time": "2024-02-16T19:45:35.748Z"
   },
   {
    "duration": 9,
    "start_time": "2024-02-16T19:45:36.060Z"
   },
   {
    "duration": 121,
    "start_time": "2024-02-16T19:45:36.071Z"
   },
   {
    "duration": 2357,
    "start_time": "2024-02-16T19:46:27.752Z"
   },
   {
    "duration": 13,
    "start_time": "2024-02-16T19:51:53.954Z"
   },
   {
    "duration": 76,
    "start_time": "2024-02-16T19:52:24.460Z"
   },
   {
    "duration": 14,
    "start_time": "2024-02-16T19:52:31.900Z"
   },
   {
    "duration": 17,
    "start_time": "2024-02-16T19:53:25.092Z"
   },
   {
    "duration": 124,
    "start_time": "2024-02-16T19:55:13.282Z"
   },
   {
    "duration": 32,
    "start_time": "2024-02-16T19:55:48.462Z"
   },
   {
    "duration": 38,
    "start_time": "2024-02-16T19:56:50.624Z"
   },
   {
    "duration": 122,
    "start_time": "2024-02-16T21:15:51.047Z"
   },
   {
    "duration": 2767,
    "start_time": "2024-02-16T21:16:22.702Z"
   },
   {
    "duration": 2673,
    "start_time": "2024-02-16T21:16:34.561Z"
   },
   {
    "duration": 5425,
    "start_time": "2024-02-17T10:17:31.645Z"
   },
   {
    "duration": 318,
    "start_time": "2024-02-17T10:17:37.072Z"
   },
   {
    "duration": 64,
    "start_time": "2024-02-17T10:17:37.392Z"
   },
   {
    "duration": 11,
    "start_time": "2024-02-17T10:17:37.474Z"
   },
   {
    "duration": 47,
    "start_time": "2024-02-17T10:17:37.487Z"
   },
   {
    "duration": 43,
    "start_time": "2024-02-17T10:17:37.535Z"
   },
   {
    "duration": 39,
    "start_time": "2024-02-17T10:17:37.579Z"
   },
   {
    "duration": 44,
    "start_time": "2024-02-17T10:17:37.620Z"
   },
   {
    "duration": 402,
    "start_time": "2024-02-17T10:17:37.666Z"
   },
   {
    "duration": 2537,
    "start_time": "2024-02-17T10:17:38.072Z"
   },
   {
    "duration": 104,
    "start_time": "2024-02-17T10:17:40.611Z"
   },
   {
    "duration": 314,
    "start_time": "2024-02-17T10:17:40.717Z"
   },
   {
    "duration": 172,
    "start_time": "2024-02-17T10:17:41.033Z"
   },
   {
    "duration": 307,
    "start_time": "2024-02-17T10:17:41.206Z"
   },
   {
    "duration": 317,
    "start_time": "2024-02-17T10:17:41.515Z"
   },
   {
    "duration": 9,
    "start_time": "2024-02-17T10:17:41.834Z"
   },
   {
    "duration": 52,
    "start_time": "2024-02-17T10:17:41.844Z"
   },
   {
    "duration": 2755,
    "start_time": "2024-02-17T10:17:41.898Z"
   },
   {
    "duration": 120,
    "start_time": "2024-02-17T10:17:44.655Z"
   },
   {
    "duration": 19,
    "start_time": "2024-02-17T10:19:59.332Z"
   },
   {
    "duration": 18,
    "start_time": "2024-02-17T10:20:58.687Z"
   },
   {
    "duration": 13,
    "start_time": "2024-02-17T10:21:29.062Z"
   },
   {
    "duration": 2542,
    "start_time": "2024-02-17T10:21:48.890Z"
   },
   {
    "duration": 14,
    "start_time": "2024-02-17T10:21:55.502Z"
   },
   {
    "duration": 11,
    "start_time": "2024-02-17T10:22:30.825Z"
   },
   {
    "duration": 15,
    "start_time": "2024-02-17T10:29:19.988Z"
   },
   {
    "duration": 21,
    "start_time": "2024-02-17T10:29:31.227Z"
   },
   {
    "duration": 11,
    "start_time": "2024-02-17T10:31:08.846Z"
   },
   {
    "duration": 2118,
    "start_time": "2024-02-17T10:31:18.681Z"
   },
   {
    "duration": 21,
    "start_time": "2024-02-17T10:37:34.663Z"
   },
   {
    "duration": 2263,
    "start_time": "2024-02-17T10:37:38.098Z"
   },
   {
    "duration": 21,
    "start_time": "2024-02-17T10:37:53.961Z"
   },
   {
    "duration": 2229,
    "start_time": "2024-02-17T10:38:25.431Z"
   },
   {
    "duration": 2220,
    "start_time": "2024-02-17T10:39:18.469Z"
   },
   {
    "duration": 12,
    "start_time": "2024-02-17T10:41:01.596Z"
   },
   {
    "duration": 23,
    "start_time": "2024-02-17T10:41:08.623Z"
   },
   {
    "duration": 122846,
    "start_time": "2024-02-17T10:41:11.989Z"
   },
   {
    "duration": 0,
    "start_time": "2024-02-17T10:43:14.839Z"
   },
   {
    "duration": 23,
    "start_time": "2024-02-17T10:47:46.031Z"
   },
   {
    "duration": 14,
    "start_time": "2024-02-17T10:48:07.149Z"
   },
   {
    "duration": 34,
    "start_time": "2024-02-17T10:48:14.554Z"
   },
   {
    "duration": 5070,
    "start_time": "2024-02-17T10:48:18.223Z"
   },
   {
    "duration": 15,
    "start_time": "2024-02-17T10:50:36.936Z"
   },
   {
    "duration": 14,
    "start_time": "2024-02-17T10:56:52.313Z"
   },
   {
    "duration": 26,
    "start_time": "2024-02-17T10:56:55.964Z"
   },
   {
    "duration": 11069,
    "start_time": "2024-02-17T10:56:58.166Z"
   },
   {
    "duration": 15,
    "start_time": "2024-02-17T11:07:12.909Z"
   },
   {
    "duration": 25,
    "start_time": "2024-02-17T11:07:18.781Z"
   },
   {
    "duration": 17178,
    "start_time": "2024-02-17T11:07:22.072Z"
   },
   {
    "duration": 15,
    "start_time": "2024-02-17T11:09:07.590Z"
   },
   {
    "duration": 23,
    "start_time": "2024-02-17T11:09:10.748Z"
   },
   {
    "duration": 60329,
    "start_time": "2024-02-17T11:09:13.918Z"
   },
   {
    "duration": 24,
    "start_time": "2024-02-17T11:10:59.214Z"
   },
   {
    "duration": 14,
    "start_time": "2024-02-17T11:11:19.331Z"
   },
   {
    "duration": 25,
    "start_time": "2024-02-17T11:11:24.864Z"
   },
   {
    "duration": 25640,
    "start_time": "2024-02-17T11:17:15.207Z"
   },
   {
    "duration": 9373,
    "start_time": "2024-02-17T11:17:56.265Z"
   },
   {
    "duration": 103,
    "start_time": "2024-02-17T11:18:05.640Z"
   },
   {
    "duration": 76,
    "start_time": "2024-02-17T11:18:05.745Z"
   },
   {
    "duration": 12,
    "start_time": "2024-02-17T11:18:05.823Z"
   },
   {
    "duration": 51,
    "start_time": "2024-02-17T11:18:05.836Z"
   },
   {
    "duration": 17,
    "start_time": "2024-02-17T11:18:05.889Z"
   },
   {
    "duration": 20,
    "start_time": "2024-02-17T11:18:05.907Z"
   },
   {
    "duration": 11,
    "start_time": "2024-02-17T11:18:05.929Z"
   },
   {
    "duration": 447,
    "start_time": "2024-02-17T11:18:05.941Z"
   },
   {
    "duration": 2559,
    "start_time": "2024-02-17T11:18:06.391Z"
   },
   {
    "duration": 108,
    "start_time": "2024-02-17T11:18:08.952Z"
   },
   {
    "duration": 275,
    "start_time": "2024-02-17T11:18:09.061Z"
   },
   {
    "duration": 182,
    "start_time": "2024-02-17T11:18:09.338Z"
   },
   {
    "duration": 305,
    "start_time": "2024-02-17T11:18:09.522Z"
   },
   {
    "duration": 320,
    "start_time": "2024-02-17T11:18:09.829Z"
   },
   {
    "duration": 11,
    "start_time": "2024-02-17T11:18:10.151Z"
   },
   {
    "duration": 43,
    "start_time": "2024-02-17T11:18:10.177Z"
   },
   {
    "duration": 2894,
    "start_time": "2024-02-17T11:18:10.223Z"
   },
   {
    "duration": 16,
    "start_time": "2024-02-17T11:18:13.118Z"
   },
   {
    "duration": 40,
    "start_time": "2024-02-17T11:18:13.136Z"
   },
   {
    "duration": 57,
    "start_time": "2024-02-17T11:19:05.012Z"
   },
   {
    "duration": 10723,
    "start_time": "2024-02-17T11:19:12.049Z"
   },
   {
    "duration": 96,
    "start_time": "2024-02-17T11:19:22.776Z"
   },
   {
    "duration": 109,
    "start_time": "2024-02-17T11:19:22.880Z"
   },
   {
    "duration": 13,
    "start_time": "2024-02-17T11:19:22.991Z"
   },
   {
    "duration": 43,
    "start_time": "2024-02-17T11:19:23.006Z"
   },
   {
    "duration": 34,
    "start_time": "2024-02-17T11:19:23.051Z"
   },
   {
    "duration": 22,
    "start_time": "2024-02-17T11:19:23.086Z"
   },
   {
    "duration": 22,
    "start_time": "2024-02-17T11:19:23.110Z"
   },
   {
    "duration": 517,
    "start_time": "2024-02-17T11:19:23.133Z"
   },
   {
    "duration": 2469,
    "start_time": "2024-02-17T11:19:23.651Z"
   },
   {
    "duration": 114,
    "start_time": "2024-02-17T11:19:26.122Z"
   },
   {
    "duration": 397,
    "start_time": "2024-02-17T11:19:26.238Z"
   },
   {
    "duration": 94,
    "start_time": "2024-02-17T11:19:26.637Z"
   },
   {
    "duration": 289,
    "start_time": "2024-02-17T11:19:26.734Z"
   },
   {
    "duration": 299,
    "start_time": "2024-02-17T11:19:27.026Z"
   },
   {
    "duration": 9,
    "start_time": "2024-02-17T11:19:27.327Z"
   },
   {
    "duration": 54,
    "start_time": "2024-02-17T11:19:27.337Z"
   },
   {
    "duration": 2806,
    "start_time": "2024-02-17T11:19:27.392Z"
   },
   {
    "duration": 149,
    "start_time": "2024-02-17T11:19:30.200Z"
   },
   {
    "duration": 0,
    "start_time": "2024-02-17T11:19:30.351Z"
   },
   {
    "duration": 0,
    "start_time": "2024-02-17T11:19:30.352Z"
   },
   {
    "duration": 110,
    "start_time": "2024-02-17T11:20:15.054Z"
   },
   {
    "duration": 20,
    "start_time": "2024-02-17T11:20:41.685Z"
   },
   {
    "duration": 24,
    "start_time": "2024-02-17T11:22:05.673Z"
   },
   {
    "duration": 21,
    "start_time": "2024-02-17T11:22:25.722Z"
   },
   {
    "duration": 4207,
    "start_time": "2024-02-17T11:23:50.097Z"
   },
   {
    "duration": 104,
    "start_time": "2024-02-17T11:23:54.306Z"
   },
   {
    "duration": 78,
    "start_time": "2024-02-17T11:23:54.411Z"
   },
   {
    "duration": 13,
    "start_time": "2024-02-17T11:23:54.491Z"
   },
   {
    "duration": 14,
    "start_time": "2024-02-17T11:23:54.505Z"
   },
   {
    "duration": 10,
    "start_time": "2024-02-17T11:23:54.520Z"
   },
   {
    "duration": 19,
    "start_time": "2024-02-17T11:23:54.531Z"
   },
   {
    "duration": 39,
    "start_time": "2024-02-17T11:23:54.551Z"
   },
   {
    "duration": 512,
    "start_time": "2024-02-17T11:23:54.591Z"
   },
   {
    "duration": 2515,
    "start_time": "2024-02-17T11:23:55.105Z"
   },
   {
    "duration": 111,
    "start_time": "2024-02-17T11:23:57.623Z"
   },
   {
    "duration": 384,
    "start_time": "2024-02-17T11:23:57.736Z"
   },
   {
    "duration": 94,
    "start_time": "2024-02-17T11:23:58.122Z"
   },
   {
    "duration": 299,
    "start_time": "2024-02-17T11:23:58.218Z"
   },
   {
    "duration": 295,
    "start_time": "2024-02-17T11:23:58.519Z"
   },
   {
    "duration": 10,
    "start_time": "2024-02-17T11:23:58.816Z"
   },
   {
    "duration": 63,
    "start_time": "2024-02-17T11:23:58.827Z"
   },
   {
    "duration": 2799,
    "start_time": "2024-02-17T11:23:58.891Z"
   },
   {
    "duration": 137,
    "start_time": "2024-02-17T11:24:01.691Z"
   },
   {
    "duration": 0,
    "start_time": "2024-02-17T11:24:01.829Z"
   },
   {
    "duration": 0,
    "start_time": "2024-02-17T11:24:01.831Z"
   },
   {
    "duration": 24,
    "start_time": "2024-02-17T11:24:24.452Z"
   },
   {
    "duration": 15,
    "start_time": "2024-02-17T11:24:37.154Z"
   },
   {
    "duration": 30,
    "start_time": "2024-02-17T11:24:40.581Z"
   },
   {
    "duration": 14132,
    "start_time": "2024-02-17T11:24:42.839Z"
   },
   {
    "duration": 103,
    "start_time": "2024-02-17T11:25:35.661Z"
   },
   {
    "duration": 116,
    "start_time": "2024-02-17T11:25:51.008Z"
   },
   {
    "duration": 16,
    "start_time": "2024-02-17T11:26:03.685Z"
   },
   {
    "duration": 24,
    "start_time": "2024-02-17T11:26:08.686Z"
   },
   {
    "duration": 27000,
    "start_time": "2024-02-17T11:26:11.256Z"
   },
   {
    "duration": 102,
    "start_time": "2024-02-17T11:29:44.755Z"
   },
   {
    "duration": 25226,
    "start_time": "2024-02-17T11:29:49.728Z"
   },
   {
    "duration": 26,
    "start_time": "2024-02-17T11:55:09.729Z"
   },
   {
    "duration": 15,
    "start_time": "2024-02-17T11:55:23.278Z"
   },
   {
    "duration": 25,
    "start_time": "2024-02-17T11:55:26.366Z"
   },
   {
    "duration": 33024,
    "start_time": "2024-02-17T11:55:30.742Z"
   },
   {
    "duration": 5531,
    "start_time": "2024-02-17T17:01:21.491Z"
   },
   {
    "duration": 308,
    "start_time": "2024-02-17T17:01:27.025Z"
   },
   {
    "duration": 75,
    "start_time": "2024-02-17T17:01:27.335Z"
   },
   {
    "duration": 11,
    "start_time": "2024-02-17T17:01:27.411Z"
   },
   {
    "duration": 15,
    "start_time": "2024-02-17T17:01:27.424Z"
   },
   {
    "duration": 37,
    "start_time": "2024-02-17T17:01:27.441Z"
   },
   {
    "duration": 19,
    "start_time": "2024-02-17T17:01:27.483Z"
   },
   {
    "duration": 12,
    "start_time": "2024-02-17T17:01:27.503Z"
   },
   {
    "duration": 440,
    "start_time": "2024-02-17T17:01:27.516Z"
   },
   {
    "duration": 2573,
    "start_time": "2024-02-17T17:01:27.958Z"
   },
   {
    "duration": 107,
    "start_time": "2024-02-17T17:01:30.533Z"
   },
   {
    "duration": 296,
    "start_time": "2024-02-17T17:01:30.642Z"
   },
   {
    "duration": 182,
    "start_time": "2024-02-17T17:01:30.939Z"
   },
   {
    "duration": 318,
    "start_time": "2024-02-17T17:01:31.124Z"
   },
   {
    "duration": 292,
    "start_time": "2024-02-17T17:01:31.444Z"
   },
   {
    "duration": 8,
    "start_time": "2024-02-17T17:01:31.738Z"
   },
   {
    "duration": 55,
    "start_time": "2024-02-17T17:01:31.748Z"
   },
   {
    "duration": 2926,
    "start_time": "2024-02-17T17:01:31.804Z"
   },
   {
    "duration": 16,
    "start_time": "2024-02-17T17:01:34.731Z"
   },
   {
    "duration": 34,
    "start_time": "2024-02-17T17:01:34.749Z"
   },
   {
    "duration": 103,
    "start_time": "2024-02-17T17:01:34.786Z"
   },
   {
    "duration": 125,
    "start_time": "2024-02-17T17:01:41.888Z"
   },
   {
    "duration": 11,
    "start_time": "2024-02-17T17:04:06.440Z"
   },
   {
    "duration": 13,
    "start_time": "2024-02-17T17:04:19.065Z"
   },
   {
    "duration": 23506,
    "start_time": "2024-02-17T17:04:23.481Z"
   },
   {
    "duration": 61629,
    "start_time": "2024-02-17T17:04:58.184Z"
   },
   {
    "duration": 24102,
    "start_time": "2024-02-17T17:07:08.488Z"
   },
   {
    "duration": 8795,
    "start_time": "2024-02-17T17:08:07.216Z"
   },
   {
    "duration": 90,
    "start_time": "2024-02-17T17:08:16.013Z"
   },
   {
    "duration": 62,
    "start_time": "2024-02-17T17:08:16.105Z"
   },
   {
    "duration": 12,
    "start_time": "2024-02-17T17:08:16.169Z"
   },
   {
    "duration": 14,
    "start_time": "2024-02-17T17:08:16.182Z"
   },
   {
    "duration": 9,
    "start_time": "2024-02-17T17:08:16.198Z"
   },
   {
    "duration": 16,
    "start_time": "2024-02-17T17:08:16.208Z"
   },
   {
    "duration": 48,
    "start_time": "2024-02-17T17:08:16.226Z"
   },
   {
    "duration": 397,
    "start_time": "2024-02-17T17:08:16.276Z"
   },
   {
    "duration": 2445,
    "start_time": "2024-02-17T17:08:16.675Z"
   },
   {
    "duration": 100,
    "start_time": "2024-02-17T17:08:19.122Z"
   },
   {
    "duration": 284,
    "start_time": "2024-02-17T17:08:19.224Z"
   },
   {
    "duration": 87,
    "start_time": "2024-02-17T17:08:19.509Z"
   },
   {
    "duration": 235,
    "start_time": "2024-02-17T17:08:19.597Z"
   },
   {
    "duration": 311,
    "start_time": "2024-02-17T17:08:19.833Z"
   },
   {
    "duration": 11,
    "start_time": "2024-02-17T17:08:20.145Z"
   },
   {
    "duration": 37,
    "start_time": "2024-02-17T17:08:20.173Z"
   },
   {
    "duration": 2629,
    "start_time": "2024-02-17T17:08:20.212Z"
   },
   {
    "duration": 15,
    "start_time": "2024-02-17T17:08:22.843Z"
   },
   {
    "duration": 35,
    "start_time": "2024-02-17T17:08:22.859Z"
   },
   {
    "duration": 61389,
    "start_time": "2024-02-17T17:08:22.895Z"
   },
   {
    "duration": 8782,
    "start_time": "2024-02-17T17:13:54.260Z"
   },
   {
    "duration": 10382,
    "start_time": "2024-02-17T17:15:25.039Z"
   },
   {
    "duration": 94,
    "start_time": "2024-02-17T17:15:35.424Z"
   },
   {
    "duration": 63,
    "start_time": "2024-02-17T17:15:35.520Z"
   },
   {
    "duration": 11,
    "start_time": "2024-02-17T17:15:35.585Z"
   },
   {
    "duration": 42,
    "start_time": "2024-02-17T17:15:35.598Z"
   },
   {
    "duration": 18,
    "start_time": "2024-02-17T17:15:35.641Z"
   },
   {
    "duration": 16,
    "start_time": "2024-02-17T17:15:35.660Z"
   },
   {
    "duration": 11,
    "start_time": "2024-02-17T17:15:35.677Z"
   },
   {
    "duration": 523,
    "start_time": "2024-02-17T17:15:35.689Z"
   },
   {
    "duration": 2290,
    "start_time": "2024-02-17T17:15:36.215Z"
   },
   {
    "duration": 102,
    "start_time": "2024-02-17T17:15:38.507Z"
   },
   {
    "duration": 369,
    "start_time": "2024-02-17T17:15:38.611Z"
   },
   {
    "duration": 75,
    "start_time": "2024-02-17T17:15:38.982Z"
   },
   {
    "duration": 264,
    "start_time": "2024-02-17T17:15:39.059Z"
   },
   {
    "duration": 288,
    "start_time": "2024-02-17T17:15:39.324Z"
   },
   {
    "duration": 8,
    "start_time": "2024-02-17T17:15:39.614Z"
   },
   {
    "duration": 53,
    "start_time": "2024-02-17T17:15:39.624Z"
   },
   {
    "duration": 2703,
    "start_time": "2024-02-17T17:15:39.679Z"
   },
   {
    "duration": 16,
    "start_time": "2024-02-17T17:15:42.383Z"
   },
   {
    "duration": 25,
    "start_time": "2024-02-17T17:15:42.401Z"
   },
   {
    "duration": 36074,
    "start_time": "2024-02-17T17:15:42.428Z"
   },
   {
    "duration": 35797,
    "start_time": "2024-02-17T17:16:48.398Z"
   },
   {
    "duration": 17,
    "start_time": "2024-02-17T17:19:37.668Z"
   },
   {
    "duration": 35783,
    "start_time": "2024-02-17T17:20:26.174Z"
   },
   {
    "duration": 4,
    "start_time": "2024-02-17T17:27:01.099Z"
   },
   {
    "duration": 132,
    "start_time": "2024-02-17T17:52:00.224Z"
   },
   {
    "duration": 16749,
    "start_time": "2024-02-17T17:52:19.802Z"
   },
   {
    "duration": 11385,
    "start_time": "2024-02-17T17:52:58.204Z"
   },
   {
    "duration": 9,
    "start_time": "2024-02-17T17:54:12.791Z"
   },
   {
    "duration": 11598,
    "start_time": "2024-02-17T17:55:00.899Z"
   },
   {
    "duration": 20664,
    "start_time": "2024-02-17T17:56:27.362Z"
   },
   {
    "duration": 26232,
    "start_time": "2024-02-17T17:57:13.047Z"
   },
   {
    "duration": 3126,
    "start_time": "2024-02-17T17:57:46.369Z"
   },
   {
    "duration": 3037,
    "start_time": "2024-02-17T17:57:56.057Z"
   },
   {
    "duration": 18105,
    "start_time": "2024-02-17T17:58:14.308Z"
   },
   {
    "duration": 113,
    "start_time": "2024-02-17T17:59:04.706Z"
   },
   {
    "duration": 135029,
    "start_time": "2024-02-17T17:59:10.865Z"
   },
   {
    "duration": 7928,
    "start_time": "2024-02-17T18:20:17.120Z"
   },
   {
    "duration": 8633,
    "start_time": "2024-02-17T18:20:44.633Z"
   },
   {
    "duration": 8640,
    "start_time": "2024-02-17T18:21:12.425Z"
   },
   {
    "duration": 89,
    "start_time": "2024-02-17T18:21:21.067Z"
   },
   {
    "duration": 61,
    "start_time": "2024-02-17T18:21:21.158Z"
   },
   {
    "duration": 11,
    "start_time": "2024-02-17T18:21:21.221Z"
   },
   {
    "duration": 44,
    "start_time": "2024-02-17T18:21:21.233Z"
   },
   {
    "duration": 8,
    "start_time": "2024-02-17T18:21:21.279Z"
   },
   {
    "duration": 16,
    "start_time": "2024-02-17T18:21:21.289Z"
   },
   {
    "duration": 11,
    "start_time": "2024-02-17T18:21:21.306Z"
   },
   {
    "duration": 422,
    "start_time": "2024-02-17T18:21:21.318Z"
   },
   {
    "duration": 2379,
    "start_time": "2024-02-17T18:21:21.743Z"
   },
   {
    "duration": 250,
    "start_time": "2024-02-17T18:21:24.125Z"
   },
   {
    "duration": 267,
    "start_time": "2024-02-17T18:21:24.377Z"
   },
   {
    "duration": 88,
    "start_time": "2024-02-17T18:21:24.645Z"
   },
   {
    "duration": 302,
    "start_time": "2024-02-17T18:21:24.735Z"
   },
   {
    "duration": 299,
    "start_time": "2024-02-17T18:21:25.038Z"
   },
   {
    "duration": 8,
    "start_time": "2024-02-17T18:21:25.339Z"
   },
   {
    "duration": 48,
    "start_time": "2024-02-17T18:21:25.349Z"
   },
   {
    "duration": 2740,
    "start_time": "2024-02-17T18:21:25.398Z"
   },
   {
    "duration": 16,
    "start_time": "2024-02-17T18:21:28.139Z"
   },
   {
    "duration": 26,
    "start_time": "2024-02-17T18:21:28.157Z"
   },
   {
    "duration": 35346,
    "start_time": "2024-02-17T18:21:28.184Z"
   },
   {
    "duration": 194,
    "start_time": "2024-02-17T18:22:03.531Z"
   },
   {
    "duration": 3,
    "start_time": "2024-02-17T18:24:05.443Z"
   },
   {
    "duration": 3,
    "start_time": "2024-02-17T18:24:11.628Z"
   },
   {
    "duration": 14,
    "start_time": "2024-02-17T18:24:20.966Z"
   },
   {
    "duration": 16,
    "start_time": "2024-02-17T18:25:09.609Z"
   },
   {
    "duration": 15,
    "start_time": "2024-02-17T18:25:18.721Z"
   },
   {
    "duration": 20,
    "start_time": "2024-02-17T18:27:00.845Z"
   },
   {
    "duration": 14,
    "start_time": "2024-02-17T18:27:09.295Z"
   },
   {
    "duration": 35403,
    "start_time": "2024-02-17T18:27:37.870Z"
   },
   {
    "duration": 5,
    "start_time": "2024-02-17T18:28:24.052Z"
   },
   {
    "duration": 124,
    "start_time": "2024-02-17T18:28:31.434Z"
   },
   {
    "duration": 12,
    "start_time": "2024-02-17T18:32:42.020Z"
   },
   {
    "duration": 18,
    "start_time": "2024-02-17T18:32:49.896Z"
   },
   {
    "duration": 119,
    "start_time": "2024-02-17T18:33:09.829Z"
   },
   {
    "duration": 15,
    "start_time": "2024-02-17T18:37:29.965Z"
   },
   {
    "duration": 148,
    "start_time": "2024-02-17T18:38:27.998Z"
   },
   {
    "duration": 43,
    "start_time": "2024-02-17T18:38:40.908Z"
   },
   {
    "duration": 37,
    "start_time": "2024-02-17T18:39:40.419Z"
   },
   {
    "duration": 46,
    "start_time": "2024-02-17T18:40:04.748Z"
   },
   {
    "duration": 37,
    "start_time": "2024-02-17T18:40:20.290Z"
   },
   {
    "duration": 43,
    "start_time": "2024-02-17T18:40:36.566Z"
   },
   {
    "duration": 39,
    "start_time": "2024-02-17T18:42:46.608Z"
   },
   {
    "duration": 43,
    "start_time": "2024-02-17T18:42:59.201Z"
   },
   {
    "duration": 3560,
    "start_time": "2024-02-17T18:43:13.968Z"
   },
   {
    "duration": 50,
    "start_time": "2024-02-17T18:43:19.315Z"
   },
   {
    "duration": 43,
    "start_time": "2024-02-17T18:43:52.846Z"
   },
   {
    "duration": 51,
    "start_time": "2024-02-17T18:44:10.214Z"
   },
   {
    "duration": 46,
    "start_time": "2024-02-17T18:44:24.628Z"
   },
   {
    "duration": 35573,
    "start_time": "2024-02-17T18:45:32.861Z"
   },
   {
    "duration": 49,
    "start_time": "2024-02-17T18:46:17.996Z"
   },
   {
    "duration": 40,
    "start_time": "2024-02-17T18:46:32.198Z"
   },
   {
    "duration": 47,
    "start_time": "2024-02-17T18:47:55.140Z"
   },
   {
    "duration": 49,
    "start_time": "2024-02-17T18:48:05.310Z"
   },
   {
    "duration": 17,
    "start_time": "2024-02-17T18:48:42.526Z"
   },
   {
    "duration": 61,
    "start_time": "2024-02-17T18:50:41.294Z"
   },
   {
    "duration": 61,
    "start_time": "2024-02-17T18:51:05.759Z"
   },
   {
    "duration": 22,
    "start_time": "2024-02-17T18:51:15.175Z"
   },
   {
    "duration": 24,
    "start_time": "2024-02-17T18:52:10.036Z"
   },
   {
    "duration": 24,
    "start_time": "2024-02-17T18:52:47.682Z"
   },
   {
    "duration": 38,
    "start_time": "2024-02-17T18:53:46.266Z"
   },
   {
    "duration": 19,
    "start_time": "2024-02-17T18:53:57.277Z"
   },
   {
    "duration": 36,
    "start_time": "2024-02-17T18:54:24.830Z"
   },
   {
    "duration": 28,
    "start_time": "2024-02-17T18:54:38.162Z"
   },
   {
    "duration": 0,
    "start_time": "2024-02-17T18:59:03.942Z"
   },
   {
    "duration": 11214,
    "start_time": "2024-02-17T19:00:05.269Z"
   },
   {
    "duration": 90,
    "start_time": "2024-02-17T19:00:16.487Z"
   },
   {
    "duration": 95,
    "start_time": "2024-02-17T19:00:16.578Z"
   },
   {
    "duration": 12,
    "start_time": "2024-02-17T19:00:16.675Z"
   },
   {
    "duration": 47,
    "start_time": "2024-02-17T19:00:16.689Z"
   },
   {
    "duration": 11,
    "start_time": "2024-02-17T19:00:16.738Z"
   },
   {
    "duration": 22,
    "start_time": "2024-02-17T19:00:16.750Z"
   },
   {
    "duration": 12,
    "start_time": "2024-02-17T19:00:16.773Z"
   },
   {
    "duration": 439,
    "start_time": "2024-02-17T19:00:16.787Z"
   },
   {
    "duration": 2383,
    "start_time": "2024-02-17T19:00:17.228Z"
   },
   {
    "duration": 218,
    "start_time": "2024-02-17T19:00:19.613Z"
   },
   {
    "duration": 303,
    "start_time": "2024-02-17T19:00:19.833Z"
   },
   {
    "duration": 92,
    "start_time": "2024-02-17T19:00:20.137Z"
   },
   {
    "duration": 282,
    "start_time": "2024-02-17T19:00:20.230Z"
   },
   {
    "duration": 289,
    "start_time": "2024-02-17T19:00:20.514Z"
   },
   {
    "duration": 9,
    "start_time": "2024-02-17T19:00:20.805Z"
   },
   {
    "duration": 36,
    "start_time": "2024-02-17T19:00:20.815Z"
   },
   {
    "duration": 2764,
    "start_time": "2024-02-17T19:00:20.853Z"
   },
   {
    "duration": 16,
    "start_time": "2024-02-17T19:00:23.618Z"
   },
   {
    "duration": 33,
    "start_time": "2024-02-17T19:00:23.635Z"
   },
   {
    "duration": 35923,
    "start_time": "2024-02-17T19:00:23.673Z"
   },
   {
    "duration": 274425,
    "start_time": "2024-02-17T19:00:59.598Z"
   },
   {
    "duration": 122,
    "start_time": "2024-02-17T19:13:01.142Z"
   },
   {
    "duration": 93,
    "start_time": "2024-02-17T19:13:16.921Z"
   },
   {
    "duration": 94,
    "start_time": "2024-02-17T19:13:20.747Z"
   },
   {
    "duration": 98,
    "start_time": "2024-02-17T19:13:25.678Z"
   },
   {
    "duration": 121,
    "start_time": "2024-02-17T19:13:30.424Z"
   },
   {
    "duration": 26,
    "start_time": "2024-02-17T19:13:36.858Z"
   },
   {
    "duration": 38,
    "start_time": "2024-02-17T19:13:44.561Z"
   },
   {
    "duration": 208,
    "start_time": "2024-02-17T19:14:51.347Z"
   },
   {
    "duration": 24,
    "start_time": "2024-02-17T19:15:01.977Z"
   },
   {
    "duration": 364735,
    "start_time": "2024-02-17T19:15:27.263Z"
   },
   {
    "duration": 254259,
    "start_time": "2024-02-17T19:29:58.626Z"
   },
   {
    "duration": 996,
    "start_time": "2024-02-17T19:35:23.059Z"
   },
   {
    "duration": 2082,
    "start_time": "2024-02-17T19:35:52.183Z"
   },
   {
    "duration": 4,
    "start_time": "2024-02-17T19:39:22.139Z"
   },
   {
    "duration": 6,
    "start_time": "2024-02-17T19:48:21.299Z"
   },
   {
    "duration": 9,
    "start_time": "2024-02-17T20:11:44.569Z"
   },
   {
    "duration": 22,
    "start_time": "2024-02-17T20:12:01.664Z"
   },
   {
    "duration": 30,
    "start_time": "2024-02-17T20:14:19.154Z"
   },
   {
    "duration": 30,
    "start_time": "2024-02-17T20:17:13.177Z"
   },
   {
    "duration": 112,
    "start_time": "2024-02-17T20:23:25.292Z"
   },
   {
    "duration": 102,
    "start_time": "2024-02-17T20:23:32.141Z"
   },
   {
    "duration": 121,
    "start_time": "2024-02-17T20:24:05.299Z"
   },
   {
    "duration": 1528,
    "start_time": "2024-02-17T20:24:42.019Z"
   },
   {
    "duration": 11161,
    "start_time": "2024-02-17T20:24:58.658Z"
   },
   {
    "duration": 86,
    "start_time": "2024-02-17T20:25:09.821Z"
   },
   {
    "duration": 63,
    "start_time": "2024-02-17T20:25:09.909Z"
   },
   {
    "duration": 10,
    "start_time": "2024-02-17T20:25:09.974Z"
   },
   {
    "duration": 15,
    "start_time": "2024-02-17T20:25:09.986Z"
   },
   {
    "duration": 9,
    "start_time": "2024-02-17T20:25:10.002Z"
   },
   {
    "duration": 22,
    "start_time": "2024-02-17T20:25:10.012Z"
   },
   {
    "duration": 10,
    "start_time": "2024-02-17T20:25:10.036Z"
   },
   {
    "duration": 440,
    "start_time": "2024-02-17T20:25:10.047Z"
   },
   {
    "duration": 2363,
    "start_time": "2024-02-17T20:25:10.489Z"
   },
   {
    "duration": 221,
    "start_time": "2024-02-17T20:25:12.853Z"
   },
   {
    "duration": 246,
    "start_time": "2024-02-17T20:25:13.076Z"
   },
   {
    "duration": 87,
    "start_time": "2024-02-17T20:25:13.323Z"
   },
   {
    "duration": 307,
    "start_time": "2024-02-17T20:25:13.412Z"
   },
   {
    "duration": 320,
    "start_time": "2024-02-17T20:25:13.721Z"
   },
   {
    "duration": 9,
    "start_time": "2024-02-17T20:25:14.043Z"
   },
   {
    "duration": 60,
    "start_time": "2024-02-17T20:25:14.053Z"
   },
   {
    "duration": 2654,
    "start_time": "2024-02-17T20:25:14.115Z"
   },
   {
    "duration": 16,
    "start_time": "2024-02-17T20:25:16.771Z"
   },
   {
    "duration": 28,
    "start_time": "2024-02-17T20:25:16.788Z"
   },
   {
    "duration": 34744,
    "start_time": "2024-02-17T20:25:16.817Z"
   },
   {
    "duration": 266974,
    "start_time": "2024-02-17T20:25:51.563Z"
   },
   {
    "duration": 2144,
    "start_time": "2024-02-17T20:30:18.538Z"
   },
   {
    "duration": 24,
    "start_time": "2024-02-17T20:30:20.683Z"
   },
   {
    "duration": 117,
    "start_time": "2024-02-17T20:30:20.709Z"
   },
   {
    "duration": 223,
    "start_time": "2024-02-17T20:37:02.350Z"
   },
   {
    "duration": 218,
    "start_time": "2024-02-17T20:37:47.764Z"
   },
   {
    "duration": 419,
    "start_time": "2024-02-17T20:38:41.323Z"
   },
   {
    "duration": 217,
    "start_time": "2024-02-17T20:38:59.204Z"
   },
   {
    "duration": 358,
    "start_time": "2024-02-17T20:39:57.648Z"
   },
   {
    "duration": 352,
    "start_time": "2024-02-17T20:58:33.637Z"
   },
   {
    "duration": 363,
    "start_time": "2024-02-17T20:59:07.991Z"
   },
   {
    "duration": 352,
    "start_time": "2024-02-17T20:59:48.607Z"
   },
   {
    "duration": 491,
    "start_time": "2024-02-17T21:00:58.885Z"
   },
   {
    "duration": 500,
    "start_time": "2024-02-17T21:04:09.041Z"
   },
   {
    "duration": 337,
    "start_time": "2024-02-17T21:04:18.502Z"
   },
   {
    "duration": 683,
    "start_time": "2024-02-17T21:04:51.590Z"
   },
   {
    "duration": 542,
    "start_time": "2024-02-17T21:06:37.553Z"
   },
   {
    "duration": 502,
    "start_time": "2024-02-17T21:06:48.546Z"
   },
   {
    "duration": 495,
    "start_time": "2024-02-17T21:07:21.951Z"
   },
   {
    "duration": 502,
    "start_time": "2024-02-17T21:09:12.426Z"
   },
   {
    "duration": 495,
    "start_time": "2024-02-17T21:09:29.440Z"
   },
   {
    "duration": 507,
    "start_time": "2024-02-17T21:09:57.079Z"
   },
   {
    "duration": 147,
    "start_time": "2024-02-17T21:13:32.577Z"
   },
   {
    "duration": 663,
    "start_time": "2024-02-17T21:14:39.617Z"
   },
   {
    "duration": 880,
    "start_time": "2024-02-17T21:14:57.198Z"
   },
   {
    "duration": 972,
    "start_time": "2024-02-17T21:45:23.084Z"
   },
   {
    "duration": 11201,
    "start_time": "2024-02-17T21:46:02.440Z"
   },
   {
    "duration": 88,
    "start_time": "2024-02-17T21:46:13.643Z"
   },
   {
    "duration": 68,
    "start_time": "2024-02-17T21:46:13.733Z"
   },
   {
    "duration": 11,
    "start_time": "2024-02-17T21:46:13.803Z"
   },
   {
    "duration": 16,
    "start_time": "2024-02-17T21:46:13.816Z"
   },
   {
    "duration": 39,
    "start_time": "2024-02-17T21:46:13.834Z"
   },
   {
    "duration": 17,
    "start_time": "2024-02-17T21:46:13.875Z"
   },
   {
    "duration": 12,
    "start_time": "2024-02-17T21:46:13.893Z"
   },
   {
    "duration": 438,
    "start_time": "2024-02-17T21:46:13.906Z"
   },
   {
    "duration": 2267,
    "start_time": "2024-02-17T21:46:14.347Z"
   },
   {
    "duration": 221,
    "start_time": "2024-02-17T21:46:16.616Z"
   },
   {
    "duration": 280,
    "start_time": "2024-02-17T21:46:16.839Z"
   },
   {
    "duration": 96,
    "start_time": "2024-02-17T21:46:17.121Z"
   },
   {
    "duration": 292,
    "start_time": "2024-02-17T21:46:17.219Z"
   },
   {
    "duration": 298,
    "start_time": "2024-02-17T21:46:17.512Z"
   },
   {
    "duration": 9,
    "start_time": "2024-02-17T21:46:17.811Z"
   },
   {
    "duration": 55,
    "start_time": "2024-02-17T21:46:17.821Z"
   },
   {
    "duration": 2817,
    "start_time": "2024-02-17T21:46:17.877Z"
   },
   {
    "duration": 14,
    "start_time": "2024-02-17T21:46:20.696Z"
   },
   {
    "duration": 28,
    "start_time": "2024-02-17T21:46:20.712Z"
   },
   {
    "duration": 35042,
    "start_time": "2024-02-17T21:46:20.741Z"
   },
   {
    "duration": 267356,
    "start_time": "2024-02-17T21:46:55.785Z"
   },
   {
    "duration": 2014,
    "start_time": "2024-02-17T21:51:23.143Z"
   },
   {
    "duration": 34,
    "start_time": "2024-02-17T21:51:25.159Z"
   },
   {
    "duration": 1165,
    "start_time": "2024-02-17T21:51:25.197Z"
   },
   {
    "duration": 15876,
    "start_time": "2024-02-18T08:23:38.351Z"
   },
   {
    "duration": 0,
    "start_time": "2024-02-18T08:23:54.233Z"
   },
   {
    "duration": 0,
    "start_time": "2024-02-18T08:23:54.235Z"
   },
   {
    "duration": 0,
    "start_time": "2024-02-18T08:23:54.236Z"
   },
   {
    "duration": 0,
    "start_time": "2024-02-18T08:23:54.237Z"
   },
   {
    "duration": 0,
    "start_time": "2024-02-18T08:23:54.239Z"
   },
   {
    "duration": 0,
    "start_time": "2024-02-18T08:23:54.240Z"
   },
   {
    "duration": 0,
    "start_time": "2024-02-18T08:23:54.241Z"
   },
   {
    "duration": 0,
    "start_time": "2024-02-18T08:23:54.243Z"
   },
   {
    "duration": 0,
    "start_time": "2024-02-18T08:23:54.244Z"
   },
   {
    "duration": 1,
    "start_time": "2024-02-18T08:23:54.245Z"
   },
   {
    "duration": 0,
    "start_time": "2024-02-18T08:23:54.247Z"
   },
   {
    "duration": 0,
    "start_time": "2024-02-18T08:23:54.248Z"
   },
   {
    "duration": 0,
    "start_time": "2024-02-18T08:23:54.249Z"
   },
   {
    "duration": 0,
    "start_time": "2024-02-18T08:23:54.251Z"
   },
   {
    "duration": 0,
    "start_time": "2024-02-18T08:23:54.252Z"
   },
   {
    "duration": 0,
    "start_time": "2024-02-18T08:23:54.253Z"
   },
   {
    "duration": 0,
    "start_time": "2024-02-18T08:23:54.254Z"
   },
   {
    "duration": 0,
    "start_time": "2024-02-18T08:23:54.256Z"
   },
   {
    "duration": 0,
    "start_time": "2024-02-18T08:23:54.257Z"
   },
   {
    "duration": 0,
    "start_time": "2024-02-18T08:23:54.258Z"
   },
   {
    "duration": 0,
    "start_time": "2024-02-18T08:23:54.259Z"
   },
   {
    "duration": 1,
    "start_time": "2024-02-18T08:23:54.260Z"
   },
   {
    "duration": 0,
    "start_time": "2024-02-18T08:23:54.262Z"
   },
   {
    "duration": 0,
    "start_time": "2024-02-18T08:23:54.263Z"
   },
   {
    "duration": 7835,
    "start_time": "2024-02-18T09:08:18.114Z"
   },
   {
    "duration": 11057,
    "start_time": "2024-02-18T09:08:38.216Z"
   },
   {
    "duration": 238,
    "start_time": "2024-02-18T09:08:49.275Z"
   },
   {
    "duration": 62,
    "start_time": "2024-02-18T09:08:49.514Z"
   },
   {
    "duration": 12,
    "start_time": "2024-02-18T09:08:49.578Z"
   },
   {
    "duration": 41,
    "start_time": "2024-02-18T09:08:49.592Z"
   },
   {
    "duration": 11,
    "start_time": "2024-02-18T09:08:49.634Z"
   },
   {
    "duration": 26,
    "start_time": "2024-02-18T09:08:49.647Z"
   },
   {
    "duration": 14,
    "start_time": "2024-02-18T09:08:49.675Z"
   },
   {
    "duration": 401,
    "start_time": "2024-02-18T09:08:49.691Z"
   },
   {
    "duration": 2186,
    "start_time": "2024-02-18T09:08:50.093Z"
   },
   {
    "duration": 93,
    "start_time": "2024-02-18T09:08:52.281Z"
   },
   {
    "duration": 280,
    "start_time": "2024-02-18T09:08:52.376Z"
   },
   {
    "duration": 191,
    "start_time": "2024-02-18T09:08:52.658Z"
   },
   {
    "duration": 231,
    "start_time": "2024-02-18T09:08:52.852Z"
   },
   {
    "duration": 281,
    "start_time": "2024-02-18T09:08:53.085Z"
   },
   {
    "duration": 8,
    "start_time": "2024-02-18T09:08:53.368Z"
   },
   {
    "duration": 36,
    "start_time": "2024-02-18T09:08:53.377Z"
   },
   {
    "duration": 2493,
    "start_time": "2024-02-18T09:08:53.415Z"
   },
   {
    "duration": 23,
    "start_time": "2024-02-18T09:08:55.910Z"
   },
   {
    "duration": 22,
    "start_time": "2024-02-18T09:08:55.934Z"
   },
   {
    "duration": 28982,
    "start_time": "2024-02-18T09:08:55.958Z"
   },
   {
    "duration": 235837,
    "start_time": "2024-02-18T09:09:24.942Z"
   },
   {
    "duration": 1902,
    "start_time": "2024-02-18T09:13:20.781Z"
   },
   {
    "duration": 22,
    "start_time": "2024-02-18T09:13:22.685Z"
   },
   {
    "duration": 1014,
    "start_time": "2024-02-18T09:13:22.709Z"
   },
   {
    "duration": 20758,
    "start_time": "2024-02-18T10:21:04.025Z"
   },
   {
    "duration": 15,
    "start_time": "2024-02-18T10:33:55.941Z"
   },
   {
    "duration": 11984,
    "start_time": "2024-02-18T10:35:05.196Z"
   },
   {
    "duration": 302,
    "start_time": "2024-02-18T10:35:17.183Z"
   },
   {
    "duration": 68,
    "start_time": "2024-02-18T10:35:17.487Z"
   },
   {
    "duration": 38,
    "start_time": "2024-02-18T10:35:17.558Z"
   },
   {
    "duration": 22,
    "start_time": "2024-02-18T10:35:17.599Z"
   },
   {
    "duration": 10,
    "start_time": "2024-02-18T10:35:17.623Z"
   },
   {
    "duration": 57,
    "start_time": "2024-02-18T10:35:17.635Z"
   },
   {
    "duration": 17,
    "start_time": "2024-02-18T10:35:17.694Z"
   },
   {
    "duration": 440,
    "start_time": "2024-02-18T10:35:17.713Z"
   },
   {
    "duration": 2488,
    "start_time": "2024-02-18T10:35:18.155Z"
   },
   {
    "duration": 113,
    "start_time": "2024-02-18T10:35:20.644Z"
   },
   {
    "duration": 289,
    "start_time": "2024-02-18T10:35:20.759Z"
   },
   {
    "duration": 9,
    "start_time": "2024-02-18T10:35:30.002Z"
   },
   {
    "duration": 20,
    "start_time": "2024-02-18T10:37:33.640Z"
   },
   {
    "duration": 200,
    "start_time": "2024-02-18T10:38:13.770Z"
   },
   {
    "duration": 24,
    "start_time": "2024-02-18T10:38:56.023Z"
   },
   {
    "duration": 28,
    "start_time": "2024-02-18T10:39:21.409Z"
   },
   {
    "duration": 10,
    "start_time": "2024-02-18T10:49:05.182Z"
   },
   {
    "duration": 234,
    "start_time": "2024-02-18T10:49:08.395Z"
   },
   {
    "duration": 307,
    "start_time": "2024-02-18T10:49:11.698Z"
   },
   {
    "duration": 305,
    "start_time": "2024-02-18T10:49:14.953Z"
   },
   {
    "duration": 13,
    "start_time": "2024-02-18T10:49:19.988Z"
   },
   {
    "duration": 115,
    "start_time": "2024-02-18T10:51:03.235Z"
   },
   {
    "duration": 136,
    "start_time": "2024-02-18T10:51:21.956Z"
   },
   {
    "duration": 46,
    "start_time": "2024-02-18T10:51:38.280Z"
   },
   {
    "duration": 19,
    "start_time": "2024-02-18T10:53:50.849Z"
   },
   {
    "duration": 11731,
    "start_time": "2024-02-18T10:57:25.319Z"
   },
   {
    "duration": 86,
    "start_time": "2024-02-18T10:57:41.158Z"
   },
   {
    "duration": 68,
    "start_time": "2024-02-18T10:57:43.072Z"
   },
   {
    "duration": 12,
    "start_time": "2024-02-18T10:57:55.076Z"
   },
   {
    "duration": 19,
    "start_time": "2024-02-18T10:58:06.360Z"
   },
   {
    "duration": 10,
    "start_time": "2024-02-18T10:58:15.376Z"
   },
   {
    "duration": 19,
    "start_time": "2024-02-18T10:58:22.103Z"
   },
   {
    "duration": 13,
    "start_time": "2024-02-18T10:58:25.950Z"
   },
   {
    "duration": 417,
    "start_time": "2024-02-18T10:58:31.483Z"
   },
   {
    "duration": 2571,
    "start_time": "2024-02-18T10:58:38.992Z"
   },
   {
    "duration": 105,
    "start_time": "2024-02-18T10:58:49.849Z"
   },
   {
    "duration": 299,
    "start_time": "2024-02-18T10:58:52.338Z"
   },
   {
    "duration": 31,
    "start_time": "2024-02-18T10:58:55.571Z"
   },
   {
    "duration": 7,
    "start_time": "2024-02-18T10:58:59.963Z"
   },
   {
    "duration": 225,
    "start_time": "2024-02-18T10:59:07.883Z"
   },
   {
    "duration": 256,
    "start_time": "2024-02-18T10:59:33.106Z"
   },
   {
    "duration": 301,
    "start_time": "2024-02-18T10:59:36.033Z"
   },
   {
    "duration": 9,
    "start_time": "2024-02-18T10:59:39.859Z"
   },
   {
    "duration": 181,
    "start_time": "2024-02-18T10:59:42.122Z"
   },
   {
    "duration": 52,
    "start_time": "2024-02-18T11:00:47.116Z"
   },
   {
    "duration": 51,
    "start_time": "2024-02-18T11:01:20.784Z"
   },
   {
    "duration": 3568,
    "start_time": "2024-02-18T11:01:56.712Z"
   },
   {
    "duration": 16,
    "start_time": "2024-02-18T11:03:20.069Z"
   },
   {
    "duration": 23,
    "start_time": "2024-02-18T11:03:39.907Z"
   },
   {
    "duration": 32949,
    "start_time": "2024-02-18T11:04:20.660Z"
   },
   {
    "duration": 16,
    "start_time": "2024-02-18T11:07:19.071Z"
   },
   {
    "duration": 16,
    "start_time": "2024-02-18T11:07:22.063Z"
   },
   {
    "duration": 25,
    "start_time": "2024-02-18T11:07:26.646Z"
   },
   {
    "duration": 32682,
    "start_time": "2024-02-18T11:07:32.116Z"
   },
   {
    "duration": 16,
    "start_time": "2024-02-18T11:08:27.015Z"
   },
   {
    "duration": 25,
    "start_time": "2024-02-18T11:08:30.464Z"
   },
   {
    "duration": 33368,
    "start_time": "2024-02-18T11:08:35.185Z"
   },
   {
    "duration": 91134,
    "start_time": "2024-02-18T11:16:02.463Z"
   },
   {
    "duration": 1679,
    "start_time": "2024-02-18T11:17:37.537Z"
   },
   {
    "duration": 5,
    "start_time": "2024-02-18T11:23:11.890Z"
   },
   {
    "duration": 24,
    "start_time": "2024-02-18T11:34:54.653Z"
   },
   {
    "duration": 30,
    "start_time": "2024-02-18T11:35:48.151Z"
   },
   {
    "duration": 115,
    "start_time": "2024-02-18T11:36:39.813Z"
   },
   {
    "duration": 210,
    "start_time": "2024-02-18T11:38:28.428Z"
   },
   {
    "duration": 236,
    "start_time": "2024-02-18T11:40:52.143Z"
   },
   {
    "duration": 212,
    "start_time": "2024-02-18T11:43:25.853Z"
   },
   {
    "duration": 438,
    "start_time": "2024-02-18T11:43:37.996Z"
   },
   {
    "duration": 198,
    "start_time": "2024-02-18T11:44:36.275Z"
   },
   {
    "duration": 345,
    "start_time": "2024-02-18T11:46:59.463Z"
   },
   {
    "duration": 363,
    "start_time": "2024-02-18T11:49:05.496Z"
   },
   {
    "duration": 349,
    "start_time": "2024-02-18T11:49:16.422Z"
   },
   {
    "duration": 638,
    "start_time": "2024-02-18T11:50:48.720Z"
   },
   {
    "duration": 662,
    "start_time": "2024-02-18T11:52:19.943Z"
   },
   {
    "duration": 959,
    "start_time": "2024-02-18T12:04:59.680Z"
   },
   {
    "duration": 1352,
    "start_time": "2024-02-18T12:07:19.428Z"
   },
   {
    "duration": 152,
    "start_time": "2024-02-18T12:12:09.183Z"
   },
   {
    "duration": 11964,
    "start_time": "2024-02-18T12:15:12.714Z"
   },
   {
    "duration": 85,
    "start_time": "2024-02-18T12:15:24.680Z"
   },
   {
    "duration": 72,
    "start_time": "2024-02-18T12:15:24.767Z"
   },
   {
    "duration": 13,
    "start_time": "2024-02-18T12:15:24.840Z"
   },
   {
    "duration": 79,
    "start_time": "2024-02-18T12:15:24.855Z"
   },
   {
    "duration": 17,
    "start_time": "2024-02-18T12:15:24.936Z"
   },
   {
    "duration": 54,
    "start_time": "2024-02-18T12:15:24.955Z"
   },
   {
    "duration": 46,
    "start_time": "2024-02-18T12:15:25.011Z"
   },
   {
    "duration": 480,
    "start_time": "2024-02-18T12:15:25.059Z"
   },
   {
    "duration": 2532,
    "start_time": "2024-02-18T12:15:25.541Z"
   },
   {
    "duration": 107,
    "start_time": "2024-02-18T12:15:28.075Z"
   },
   {
    "duration": 272,
    "start_time": "2024-02-18T12:15:28.184Z"
   },
   {
    "duration": 41,
    "start_time": "2024-02-18T12:15:28.458Z"
   },
   {
    "duration": 7,
    "start_time": "2024-02-18T12:15:28.501Z"
   },
   {
    "duration": 224,
    "start_time": "2024-02-18T12:15:28.510Z"
   },
   {
    "duration": 307,
    "start_time": "2024-02-18T12:15:28.736Z"
   },
   {
    "duration": 304,
    "start_time": "2024-02-18T12:15:29.044Z"
   },
   {
    "duration": 10,
    "start_time": "2024-02-18T12:15:29.350Z"
   },
   {
    "duration": 66,
    "start_time": "2024-02-18T12:15:29.362Z"
   },
   {
    "duration": 3630,
    "start_time": "2024-02-18T12:15:29.430Z"
   },
   {
    "duration": 18,
    "start_time": "2024-02-18T12:15:33.063Z"
   },
   {
    "duration": 73,
    "start_time": "2024-02-18T12:15:33.082Z"
   },
   {
    "duration": 33140,
    "start_time": "2024-02-18T12:15:33.157Z"
   },
   {
    "duration": 86493,
    "start_time": "2024-02-18T12:16:06.299Z"
   },
   {
    "duration": 1585,
    "start_time": "2024-02-18T12:17:32.794Z"
   },
   {
    "duration": 228,
    "start_time": "2024-02-18T12:17:34.381Z"
   },
   {
    "duration": 1268,
    "start_time": "2024-02-18T12:17:34.611Z"
   }
  ],
  "colab": {
   "provenance": []
  },
  "kernelspec": {
   "display_name": "Python 3 (ipykernel)",
   "language": "python",
   "name": "python3"
  },
  "language_info": {
   "codemirror_mode": {
    "name": "ipython",
    "version": 3
   },
   "file_extension": ".py",
   "mimetype": "text/x-python",
   "name": "python",
   "nbconvert_exporter": "python",
   "pygments_lexer": "ipython3",
   "version": "3.11.5"
  },
  "toc": {
   "base_numbering": 1,
   "nav_menu": {},
   "number_sections": true,
   "sideBar": true,
   "skip_h1_title": true,
   "title_cell": "Table of Contents",
   "title_sidebar": "Contents",
   "toc_cell": false,
   "toc_position": {},
   "toc_section_display": true,
   "toc_window_display": true
  }
 },
 "nbformat": 4,
 "nbformat_minor": 1
}
